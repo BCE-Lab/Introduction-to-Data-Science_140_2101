{
 "cells": [
  {
   "cell_type": "markdown",
   "metadata": {},
   "source": [
    "# 운동, 다이어트, 에너지섭취량 등 간의 관계 분석을 통한 예측모델"
   ]
  },
  {
   "cell_type": "markdown",
   "metadata": {},
   "source": [
    "## 202055107 김덕용"
   ]
  },
  {
   "cell_type": "markdown",
   "metadata": {},
   "source": [
    "-------------"
   ]
  },
  {
   "cell_type": "markdown",
   "metadata": {},
   "source": [
    "### I. 다이어트여부 예측모델"
   ]
  },
  {
   "cell_type": "markdown",
   "metadata": {},
   "source": [
    "### II. 고강도 운동일수 예측 모델"
   ]
  },
  {
   "cell_type": "markdown",
   "metadata": {},
   "source": [
    "키, 몸무게, BMI, 성별, 나이 + 에너지 섭취량, 중,고강도 운동일수(일주엘에 몇번?), 다이어트(식단조절, 식이요법)여부 등"
   ]
  },
  {
   "cell_type": "code",
   "execution_count": 1,
   "metadata": {},
   "outputs": [],
   "source": [
    "import numpy as np\n",
    "import numpy.random as random\n",
    "import scipy as sp\n",
    "import scipy.stats as stats\n",
    "import pandas as pd\n",
    "from pandas import Series, DataFrame\n",
    "\n",
    "# 시각화 라이브러리\n",
    "import matplotlib.pyplot as plt\n",
    "import matplotlib as mpl\n",
    "import seaborn as sns\n",
    "%matplotlib inline\n",
    "plt.rc('font', family='Malgun Gothic')\n",
    "# 소수점 3자리까지 표시\n",
    "%precision 3\n",
    "df10 = pd.read_csv('hn10_all.csv', encoding = 'cp949', low_memory=False)\n",
    "df11 = pd.read_csv('hn11_all.csv', encoding = 'cp949', low_memory=False)\n",
    "df12 = pd.read_csv('hn12_all.csv', encoding = 'cp949', low_memory=False)\n",
    "df13 = pd.read_csv('hn13_all.csv', encoding = 'cp949', low_memory=False)\n",
    "df14 = pd.read_csv('hn14_all.csv', encoding = 'cp949', low_memory=False)\n",
    "df15 = pd.read_csv('hn15_all.csv', encoding = 'cp949', low_memory=False)\n",
    "df16 = pd.read_csv('hn16_all.csv', encoding = 'cp949', low_memory=False)\n",
    "df17 = pd.read_csv('hn17_all.csv', encoding = 'cp949', low_memory=False)\n",
    "df18 = pd.read_csv('hn18_all.csv', encoding = 'cp949', low_memory=False)\n",
    "df19 = pd.read_csv('hn19_all.csv', encoding = 'cp949', low_memory=False)\n",
    "\n",
    "df = pd.concat([df10, df11, df12, df13, df14, df15, df16, df17, df18, df19])"
   ]
  },
  {
   "cell_type": "code",
   "execution_count": 2,
   "metadata": {},
   "outputs": [],
   "source": [
    "# 선형모델 추정\n",
    "import statsmodels.formula.api as smf\n",
    "import statsmodels.api as sm\n",
    "\n",
    "# 표시 자릿수\n",
    "%precision %.3f\n",
    "# 그래프\n",
    "%matplotlib inline"
   ]
  },
  {
   "cell_type": "code",
   "execution_count": 3,
   "metadata": {},
   "outputs": [],
   "source": [
    "df2 = df[['sex', 'age', 'HE_ht', 'HE_wt', 'HE_wc', 'HE_BMI', 'N_EN','BE3_76', 'BE3_86','N_DIET']]"
   ]
  },
  {
   "cell_type": "code",
   "execution_count": 4,
   "metadata": {},
   "outputs": [],
   "source": [
    "data = df2.rename({'sex':'성별', 'age':'나이', 'HE_ht':'키', 'HE_wt':'몸무게', 'HE_wc':'허리둘레',\n",
    "             'HE_BMI':'BMI', 'N_EN':'에너지섭취량','BE3_76':'고강도신체활동일수_여가',\n",
    "                   'BE3_86':'중강도신체활동일수_여가', \n",
    "                   'N_DIET':'다이어트여부'}, axis = 'columns')\n",
    "\n",
    "age_group = [0, 20, 30, 40, 50, 60, 70, 80, 90]\n",
    "\n",
    "age_group_cut_data = pd.cut(data.성별, age_group)\n",
    "\n",
    "\n",
    "group_names = ['미성년자', '20대', '30대', '40대', '50대', '60대', '70대', '80대']\n",
    "age_group_data = pd.cut(data.나이, age_group, labels = group_names, right = False)\n",
    "data['나이대'] = age_group_data\n",
    "\n",
    "obesity = [0, 18.5, 25, 100]\n",
    "data['비만도'] = pd.cut(data.BMI, obesity, labels = ['저체중', '정상', '비만'], right = False)\n"
   ]
  },
  {
   "cell_type": "code",
   "execution_count": 5,
   "metadata": {},
   "outputs": [],
   "source": [
    "#성별\n",
    "data[['성별']] = data[['성별']].replace(1, 'M')\n",
    "data[['성별']] = data[['성별']].replace(2, 'F')\n",
    "\n",
    "\n",
    "#고강도 신체활동 일수(여가)\n",
    "data[['고강도신체활동일수_여가']] = data[['고강도신체활동일수_여가']].replace(8, np.nan)\n",
    "data[['고강도신체활동일수_여가']] = data[['고강도신체활동일수_여가']].replace(9, np.nan)\n",
    "\n",
    "#중강도 신체활동 일수(여가)\n",
    "data[['중강도신체활동일수_여가']] = data[['중강도신체활동일수_여가']].replace(8, np.nan)\n",
    "data[['중강도신체활동일수_여가']] = data[['중강도신체활동일수_여가']].replace(9, np.nan)\n",
    "\n",
    "#식이요법\n",
    "data['다이어트여부'] = data['다이어트여부'].replace(1.0, 'Y')\n",
    "data['다이어트여부'] = data['다이어트여부'].replace(2.0, 'N')\n",
    "data['다이어트여부'] = data['다이어트여부'].replace(9.0, np.nan)\n",
    "\n",
    "data = data.dropna()"
   ]
  },
  {
   "cell_type": "code",
   "execution_count": 6,
   "metadata": {},
   "outputs": [],
   "source": [
    "#20대만\n",
    "data20 = data[data.나이대 == '20대']"
   ]
  },
  {
   "cell_type": "markdown",
   "metadata": {},
   "source": [
    "----------------------------------------------------------"
   ]
  },
  {
   "cell_type": "markdown",
   "metadata": {},
   "source": [
    "# I. 다이어트 여부 예측모델 - 로지스틱 회귀모델"
   ]
  },
  {
   "cell_type": "code",
   "execution_count": 12,
   "metadata": {},
   "outputs": [],
   "source": [
    "data['diet'] = [1 if b == 'Y' else 0 for b in data['다이어트여부']]"
   ]
  },
  {
   "cell_type": "markdown",
   "metadata": {},
   "source": [
    "### 가설1. 성별, 다이어트 여부 별 에너지 섭취량: 남>여, 다이어트X>다이어트O - 예상과 일치"
   ]
  },
  {
   "cell_type": "code",
   "execution_count": 13,
   "metadata": {},
   "outputs": [
    {
     "data": {
      "text/plain": [
       "<matplotlib.axes._subplots.AxesSubplot at 0x25412db8b50>"
      ]
     },
     "execution_count": 13,
     "metadata": {},
     "output_type": "execute_result"
    },
    {
     "data": {
      "image/png": "[encoded data removed]",
      "text/plain": [
       "<Figure size 576x360 with 1 Axes>"
      ]
     },
     "metadata": {
      "needs_background": "light"
     },
     "output_type": "display_data"
    }
   ],
   "source": [
    "plt.figure(figsize=(8, 5))\n",
    "\n",
    "plt.title('성별-에너지섭취량')\n",
    "sns.barplot(x = \"성별\", y  = \"에너지섭취량\", hue = '다이어트여부', data = data)"
   ]
  },
  {
   "cell_type": "markdown",
   "metadata": {},
   "source": [
    "### 가설2. 다이어트 하는 사람들이 중,고강도 신체활동 일수가 더 많을 것이다 - 대체로 일치\n",
    "#### (7, 80대의 경우 다이어트라기 보단 건강을 위한 식단 조절에 가까움)"
   ]
  },
  {
   "cell_type": "code",
   "execution_count": 14,
   "metadata": {
    "scrolled": false
   },
   "outputs": [
    {
     "data": {
      "text/plain": [
       "<matplotlib.axes._subplots.AxesSubplot at 0x2545b2f57c0>"
      ]
     },
     "execution_count": 14,
     "metadata": {},
     "output_type": "execute_result"
    },
    {
     "data": {
      "image/png": "[encoded data removed]",
      "text/plain": [
       "<Figure size 1224x1008 with 2 Axes>"
      ]
     },
     "metadata": {
      "needs_background": "light"
     },
     "output_type": "display_data"
    }
   ],
   "source": [
    "plt.figure(figsize=(17, 14))\n",
    "\n",
    "plt.subplot(221)\n",
    "plt.title('중강도')\n",
    "sns.barplot(x = \"나이대\", y  = \"중강도신체활동일수_여가\", hue = '다이어트여부', data = data)\n",
    "\n",
    "plt.subplot(222)\n",
    "plt.title('고강도')\n",
    "sns.barplot(x = \"나이대\", y  = \"고강도신체활동일수_여가\", hue = '다이어트여부', data = data)"
   ]
  },
  {
   "cell_type": "markdown",
   "metadata": {},
   "source": [
    "### 가설3. 다이어트를 하는 사람들이 에너지 섭취량이 더 적을 것이다 - 예측과 일치"
   ]
  },
  {
   "cell_type": "code",
   "execution_count": 15,
   "metadata": {},
   "outputs": [
    {
     "data": {
      "text/plain": [
       "<matplotlib.axes._subplots.AxesSubplot at 0x254013d22e0>"
      ]
     },
     "execution_count": 15,
     "metadata": {},
     "output_type": "execute_result"
    },
    {
     "data": {
      "image/png": "[encoded data removed]",
      "text/plain": [
       "<Figure size 2016x1008 with 1 Axes>"
      ]
     },
     "metadata": {
      "needs_background": "light"
     },
     "output_type": "display_data"
    }
   ],
   "source": [
    "plt.figure(figsize=(28, 14))\n",
    "\n",
    "plt.subplot(221)\n",
    "plt.title('나이대-에너지섭취량')\n",
    "sns.barplot(x = \"나이대\", y  = \"에너지섭취량\", hue = '다이어트여부', data = data)"
   ]
  },
  {
   "cell_type": "markdown",
   "metadata": {},
   "source": [
    "### 가설4. 다이어트 하는 사람의  평균  BMI가 더 높을 것이다 - 대체적으로 일치"
   ]
  },
  {
   "cell_type": "code",
   "execution_count": 16,
   "metadata": {
    "scrolled": false
   },
   "outputs": [
    {
     "data": {
      "text/plain": [
       "<matplotlib.axes._subplots.AxesSubplot at 0x25400f56b80>"
      ]
     },
     "execution_count": 16,
     "metadata": {},
     "output_type": "execute_result"
    },
    {
     "data": {
      "image/png": "[encoded data removed]",
      "text/plain": [
       "<Figure size 2016x1008 with 1 Axes>"
      ]
     },
     "metadata": {
      "needs_background": "light"
     },
     "output_type": "display_data"
    }
   ],
   "source": [
    "plt.figure(figsize=(28, 14))\n",
    "\n",
    "plt.subplot(221)\n",
    "plt.title('나이대 - BMI')\n",
    "sns.barplot(x = \"나이대\", y  = \"BMI\", hue = '다이어트여부', data = data)"
   ]
  },
  {
   "cell_type": "code",
   "execution_count": 17,
   "metadata": {
    "scrolled": false
   },
   "outputs": [
    {
     "data": {
      "text/html": [
       "<div>\n",
       "<style scoped>\n",
       "    .dataframe tbody tr th:only-of-type {\n",
       "        vertical-align: middle;\n",
       "    }\n",
       "\n",
       "    .dataframe tbody tr th {\n",
       "        vertical-align: top;\n",
       "    }\n",
       "\n",
       "    .dataframe thead th {\n",
       "        text-align: right;\n",
       "    }\n",
       "</style>\n",
       "<table border=\"1\" class=\"dataframe\">\n",
       "  <thead>\n",
       "    <tr style=\"text-align: right;\">\n",
       "      <th>다이어트여부</th>\n",
       "      <th>N</th>\n",
       "      <th>Y</th>\n",
       "    </tr>\n",
       "    <tr>\n",
       "      <th>비만도</th>\n",
       "      <th></th>\n",
       "      <th></th>\n",
       "    </tr>\n",
       "  </thead>\n",
       "  <tbody>\n",
       "    <tr>\n",
       "      <th>저체중</th>\n",
       "      <td>65</td>\n",
       "      <td>10</td>\n",
       "    </tr>\n",
       "    <tr>\n",
       "      <th>정상</th>\n",
       "      <td>955</td>\n",
       "      <td>443</td>\n",
       "    </tr>\n",
       "    <tr>\n",
       "      <th>비만</th>\n",
       "      <td>417</td>\n",
       "      <td>300</td>\n",
       "    </tr>\n",
       "  </tbody>\n",
       "</table>\n",
       "</div>"
      ],
      "text/plain": [
       "다이어트여부    N    Y\n",
       "비만도             \n",
       "저체중      65   10\n",
       "정상      955  443\n",
       "비만      417  300"
      ]
     },
     "execution_count": 17,
     "metadata": {},
     "output_type": "execute_result"
    }
   ],
   "source": [
    "pd.crosstab(index = [data['비만도']], columns = data['다이어트여부'])"
   ]
  },
  {
   "cell_type": "markdown",
   "metadata": {},
   "source": [
    "### crosstab 이용: 다이어트 하는 사람의 비율: 비만(약 75%)>정상(약 45%)>저체중(20%미만)"
   ]
  },
  {
   "cell_type": "markdown",
   "metadata": {},
   "source": [
    "## 위 내용을 기반으로 로지스틱 회귀모델 작성"
   ]
  },
  {
   "cell_type": "code",
   "execution_count": 21,
   "metadata": {},
   "outputs": [],
   "source": [
    "mod_diet_sex = smf.glm(formula = \"diet ~ 성별\", \n",
    "                  data = data, \n",
    "                  family=sm.families.Binomial()).fit()"
   ]
  },
  {
   "cell_type": "code",
   "execution_count": 22,
   "metadata": {},
   "outputs": [],
   "source": [
    "mod_diet_age = smf.glm(formula = \"diet ~ 나이\", \n",
    "                  data = data, \n",
    "                  family=sm.families.Binomial()).fit()"
   ]
  },
  {
   "cell_type": "code",
   "execution_count": 23,
   "metadata": {},
   "outputs": [],
   "source": [
    "mod_diet_height = smf.glm(formula = \"diet ~ 키\", \n",
    "                  data = data, \n",
    "                  family=sm.families.Binomial()).fit()"
   ]
  },
  {
   "cell_type": "code",
   "execution_count": 24,
   "metadata": {},
   "outputs": [],
   "source": [
    "mod_diet_weight = smf.glm(formula = \"diet ~ 몸무게\", \n",
    "                  data = data, \n",
    "                  family=sm.families.Binomial()).fit()"
   ]
  },
  {
   "cell_type": "code",
   "execution_count": 25,
   "metadata": {},
   "outputs": [],
   "source": [
    "mod_diet_waist = smf.glm(formula = \"diet ~ 허리둘레\", \n",
    "                  data = data, \n",
    "                  family=sm.families.Binomial()).fit()"
   ]
  },
  {
   "cell_type": "code",
   "execution_count": 26,
   "metadata": {},
   "outputs": [],
   "source": [
    "mod_diet_BMI = smf.glm(formula = \"diet ~ BMI\", \n",
    "                  data = data, \n",
    "                  family=sm.families.Binomial()).fit()"
   ]
  },
  {
   "cell_type": "code",
   "execution_count": 27,
   "metadata": {},
   "outputs": [],
   "source": [
    "mod_diet_en = smf.glm(formula = \"diet ~ 에너지섭취량\", \n",
    "                  data = data, \n",
    "                  family=sm.families.Binomial()).fit()"
   ]
  },
  {
   "cell_type": "code",
   "execution_count": 28,
   "metadata": {},
   "outputs": [],
   "source": [
    "mod_diet_hex = smf.glm(formula = \"diet ~ 고강도신체활동일수_여가\", \n",
    "                  data = data, \n",
    "                  family=sm.families.Binomial()).fit()"
   ]
  },
  {
   "cell_type": "code",
   "execution_count": 29,
   "metadata": {},
   "outputs": [],
   "source": [
    "mod_diet_lex = smf.glm(formula = \"diet ~ 중강도신체활동일수_여가\", \n",
    "                  data = data, \n",
    "                  family=sm.families.Binomial()).fit()"
   ]
  },
  {
   "cell_type": "code",
   "execution_count": 30,
   "metadata": {},
   "outputs": [
    {
     "name": "stdout",
     "output_type": "stream",
     "text": [
      "2774.885 2821.943 2810.315 2813.747 2805.913 2778.827 2774.395 2805.254 2814.394\n"
     ]
    }
   ],
   "source": [
    "print(mod_diet_sex.aic.round(3),\n",
    "mod_diet_age.aic.round(3),\n",
    "mod_diet_height.aic.round(3),\n",
    "mod_diet_weight.aic.round(3),\n",
    "mod_diet_waist.aic.round(3),\n",
    "mod_diet_BMI.aic.round(3),\n",
    "mod_diet_en.aic.round(3),\n",
    "mod_diet_hex.aic.round(3),\n",
    "mod_diet_lex.aic.round(3))\n",
    "\n",
    "# en sex bmi (hex waist) height lex age"
   ]
  },
  {
   "cell_type": "code",
   "execution_count": 31,
   "metadata": {},
   "outputs": [],
   "source": [
    "mod_diet_2 = smf.glm(formula = \"diet ~ 에너지섭취량 + 성별\", \n",
    "                  data = data, \n",
    "                  family=sm.families.Binomial()).fit()"
   ]
  },
  {
   "cell_type": "code",
   "execution_count": 32,
   "metadata": {},
   "outputs": [],
   "source": [
    "mod_diet_3 = smf.glm(formula = \"diet ~ 에너지섭취량 + BMI + 성별\", \n",
    "                  data = data, \n",
    "                  family=sm.families.Binomial()).fit()"
   ]
  },
  {
   "cell_type": "code",
   "execution_count": 33,
   "metadata": {},
   "outputs": [],
   "source": [
    "mod_diet_4 = smf.glm(formula = \"diet ~ 에너지섭취량 + BMI + 성별 + 고강도신체활동일수_여가\", \n",
    "                  data = data, \n",
    "                  family=sm.families.Binomial()).fit()"
   ]
  },
  {
   "cell_type": "code",
   "execution_count": 34,
   "metadata": {},
   "outputs": [],
   "source": [
    "mod_diet_5 = smf.glm(formula = \"diet ~ 에너지섭취량 + BMI + 성별 + 고강도신체활동일수_여가 + 허리둘레\", \n",
    "                  data = data, \n",
    "                  family=sm.families.Binomial()).fit()"
   ]
  },
  {
   "cell_type": "code",
   "execution_count": 35,
   "metadata": {},
   "outputs": [],
   "source": [
    "mod_diet_6 = smf.glm(formula = \"diet ~ 에너지섭취량 + BMI + 성별 + 고강도신체활동일수_여가 + 허리둘레 + 몸무게\", \n",
    "                  data = data, \n",
    "                  family=sm.families.Binomial()).fit()"
   ]
  },
  {
   "cell_type": "code",
   "execution_count": 36,
   "metadata": {},
   "outputs": [],
   "source": [
    "mod_diet_7 = smf.glm(formula = \"diet ~ 에너지섭취량 + BMI + 성별 + 고강도신체활동일수_여가 + 허리둘레 + 몸무게 + 키\", \n",
    "                  data = data, \n",
    "                  family=sm.families.Binomial()).fit()"
   ]
  },
  {
   "cell_type": "code",
   "execution_count": 37,
   "metadata": {},
   "outputs": [],
   "source": [
    "mod_diet_8 = smf.glm(formula = \"diet ~ 에너지섭취량 + BMI + 성별 + 고강도신체활동일수_여가 + 허리둘레 + 몸무게 + 키 + 중강도신체활동일수_여가\", \n",
    "                  data = data, \n",
    "                  family=sm.families.Binomial()).fit()"
   ]
  },
  {
   "cell_type": "code",
   "execution_count": 38,
   "metadata": {},
   "outputs": [],
   "source": [
    "mod_diet_9 = smf.glm(formula = \"diet ~ 에너지섭취량 + BMI + 성별 + 고강도신체활동일수_여가 + 허리둘레 + 몸무게 + 키 + 중강도신체활동일수_여가 + 나이\", \n",
    "                  data = data, \n",
    "                  family=sm.families.Binomial()).fit()"
   ]
  },
  {
   "cell_type": "code",
   "execution_count": 39,
   "metadata": {},
   "outputs": [
    {
     "name": "stdout",
     "output_type": "stream",
     "text": [
      "2774.395 2754.031 2679.801 2669.602 2670.526 2668.305 2669.617 2671.439 2673.333\n"
     ]
    }
   ],
   "source": [
    "print(mod_diet_en.aic.round(3),\n",
    "mod_diet_2.aic.round(3),\n",
    "mod_diet_3.aic.round(3),\n",
    "mod_diet_4.aic.round(3),\n",
    "mod_diet_5.aic.round(3),\n",
    "mod_diet_6.aic.round(3),\n",
    "mod_diet_7.aic.round(3),\n",
    "mod_diet_8.aic.round(3),\n",
    "mod_diet_9.aic.round(3))\n",
    "\n",
    "#mod 6 = 2668.305"
   ]
  },
  {
   "cell_type": "code",
   "execution_count": 118,
   "metadata": {},
   "outputs": [],
   "source": [
    "data['predicted_diet'] = [1 if b >= 0.5 else 0 for b in mod_diet_6.predict()]"
   ]
  },
  {
   "cell_type": "code",
   "execution_count": 119,
   "metadata": {},
   "outputs": [
    {
     "data": {
      "text/html": [
       "<div>\n",
       "<style scoped>\n",
       "    .dataframe tbody tr th:only-of-type {\n",
       "        vertical-align: middle;\n",
       "    }\n",
       "\n",
       "    .dataframe tbody tr th {\n",
       "        vertical-align: top;\n",
       "    }\n",
       "\n",
       "    .dataframe thead th {\n",
       "        text-align: right;\n",
       "    }\n",
       "</style>\n",
       "<table border=\"1\" class=\"dataframe\">\n",
       "  <thead>\n",
       "    <tr style=\"text-align: right;\">\n",
       "      <th></th>\n",
       "      <th>성별</th>\n",
       "      <th>나이</th>\n",
       "      <th>키</th>\n",
       "      <th>몸무게</th>\n",
       "      <th>허리둘레</th>\n",
       "      <th>BMI</th>\n",
       "      <th>에너지섭취량</th>\n",
       "      <th>고강도신체활동일수_여가</th>\n",
       "      <th>중강도신체활동일수_여가</th>\n",
       "      <th>다이어트여부</th>\n",
       "      <th>나이대</th>\n",
       "      <th>비만도</th>\n",
       "      <th>diet</th>\n",
       "      <th>predicted_diet</th>\n",
       "    </tr>\n",
       "  </thead>\n",
       "  <tbody>\n",
       "    <tr>\n",
       "      <th>94</th>\n",
       "      <td>F</td>\n",
       "      <td>38</td>\n",
       "      <td>163.1</td>\n",
       "      <td>57.0</td>\n",
       "      <td>72.5</td>\n",
       "      <td>21.427275</td>\n",
       "      <td>2143.567036</td>\n",
       "      <td>5.0</td>\n",
       "      <td>5.0</td>\n",
       "      <td>Y</td>\n",
       "      <td>30대</td>\n",
       "      <td>정상</td>\n",
       "      <td>1</td>\n",
       "      <td>0</td>\n",
       "    </tr>\n",
       "    <tr>\n",
       "      <th>100</th>\n",
       "      <td>F</td>\n",
       "      <td>13</td>\n",
       "      <td>169.2</td>\n",
       "      <td>79.9</td>\n",
       "      <td>83.0</td>\n",
       "      <td>27.909115</td>\n",
       "      <td>1605.187456</td>\n",
       "      <td>4.0</td>\n",
       "      <td>6.0</td>\n",
       "      <td>N</td>\n",
       "      <td>미성년자</td>\n",
       "      <td>비만</td>\n",
       "      <td>0</td>\n",
       "      <td>1</td>\n",
       "    </tr>\n",
       "    <tr>\n",
       "      <th>146</th>\n",
       "      <td>M</td>\n",
       "      <td>19</td>\n",
       "      <td>172.4</td>\n",
       "      <td>80.6</td>\n",
       "      <td>85.5</td>\n",
       "      <td>27.118179</td>\n",
       "      <td>744.427558</td>\n",
       "      <td>4.0</td>\n",
       "      <td>4.0</td>\n",
       "      <td>Y</td>\n",
       "      <td>미성년자</td>\n",
       "      <td>비만</td>\n",
       "      <td>1</td>\n",
       "      <td>0</td>\n",
       "    </tr>\n",
       "    <tr>\n",
       "      <th>260</th>\n",
       "      <td>M</td>\n",
       "      <td>52</td>\n",
       "      <td>161.7</td>\n",
       "      <td>60.4</td>\n",
       "      <td>71.9</td>\n",
       "      <td>23.100262</td>\n",
       "      <td>2055.413681</td>\n",
       "      <td>3.0</td>\n",
       "      <td>4.0</td>\n",
       "      <td>Y</td>\n",
       "      <td>50대</td>\n",
       "      <td>정상</td>\n",
       "      <td>1</td>\n",
       "      <td>0</td>\n",
       "    </tr>\n",
       "    <tr>\n",
       "      <th>420</th>\n",
       "      <td>F</td>\n",
       "      <td>15</td>\n",
       "      <td>159.9</td>\n",
       "      <td>68.7</td>\n",
       "      <td>77.6</td>\n",
       "      <td>26.869514</td>\n",
       "      <td>1306.965735</td>\n",
       "      <td>3.0</td>\n",
       "      <td>2.0</td>\n",
       "      <td>N</td>\n",
       "      <td>미성년자</td>\n",
       "      <td>비만</td>\n",
       "      <td>0</td>\n",
       "      <td>1</td>\n",
       "    </tr>\n",
       "    <tr>\n",
       "      <th>...</th>\n",
       "      <td>...</td>\n",
       "      <td>...</td>\n",
       "      <td>...</td>\n",
       "      <td>...</td>\n",
       "      <td>...</td>\n",
       "      <td>...</td>\n",
       "      <td>...</td>\n",
       "      <td>...</td>\n",
       "      <td>...</td>\n",
       "      <td>...</td>\n",
       "      <td>...</td>\n",
       "      <td>...</td>\n",
       "      <td>...</td>\n",
       "      <td>...</td>\n",
       "    </tr>\n",
       "    <tr>\n",
       "      <th>7876</th>\n",
       "      <td>M</td>\n",
       "      <td>42</td>\n",
       "      <td>176.9</td>\n",
       "      <td>87.5</td>\n",
       "      <td>102.8</td>\n",
       "      <td>27.960980</td>\n",
       "      <td>3494.647232</td>\n",
       "      <td>2.0</td>\n",
       "      <td>4.0</td>\n",
       "      <td>Y</td>\n",
       "      <td>40대</td>\n",
       "      <td>비만</td>\n",
       "      <td>1</td>\n",
       "      <td>0</td>\n",
       "    </tr>\n",
       "    <tr>\n",
       "      <th>7952</th>\n",
       "      <td>M</td>\n",
       "      <td>32</td>\n",
       "      <td>167.0</td>\n",
       "      <td>68.6</td>\n",
       "      <td>84.7</td>\n",
       "      <td>24.597512</td>\n",
       "      <td>1530.321377</td>\n",
       "      <td>7.0</td>\n",
       "      <td>7.0</td>\n",
       "      <td>Y</td>\n",
       "      <td>30대</td>\n",
       "      <td>정상</td>\n",
       "      <td>1</td>\n",
       "      <td>0</td>\n",
       "    </tr>\n",
       "    <tr>\n",
       "      <th>7957</th>\n",
       "      <td>M</td>\n",
       "      <td>24</td>\n",
       "      <td>169.8</td>\n",
       "      <td>71.0</td>\n",
       "      <td>79.1</td>\n",
       "      <td>24.625382</td>\n",
       "      <td>2475.791522</td>\n",
       "      <td>6.0</td>\n",
       "      <td>6.0</td>\n",
       "      <td>Y</td>\n",
       "      <td>20대</td>\n",
       "      <td>정상</td>\n",
       "      <td>1</td>\n",
       "      <td>0</td>\n",
       "    </tr>\n",
       "    <tr>\n",
       "      <th>7959</th>\n",
       "      <td>M</td>\n",
       "      <td>34</td>\n",
       "      <td>181.6</td>\n",
       "      <td>86.4</td>\n",
       "      <td>89.3</td>\n",
       "      <td>26.198839</td>\n",
       "      <td>2451.702625</td>\n",
       "      <td>3.0</td>\n",
       "      <td>4.0</td>\n",
       "      <td>Y</td>\n",
       "      <td>30대</td>\n",
       "      <td>비만</td>\n",
       "      <td>1</td>\n",
       "      <td>0</td>\n",
       "    </tr>\n",
       "    <tr>\n",
       "      <th>8006</th>\n",
       "      <td>M</td>\n",
       "      <td>48</td>\n",
       "      <td>168.9</td>\n",
       "      <td>67.3</td>\n",
       "      <td>85.9</td>\n",
       "      <td>23.591511</td>\n",
       "      <td>2005.755044</td>\n",
       "      <td>6.0</td>\n",
       "      <td>6.0</td>\n",
       "      <td>Y</td>\n",
       "      <td>40대</td>\n",
       "      <td>정상</td>\n",
       "      <td>1</td>\n",
       "      <td>0</td>\n",
       "    </tr>\n",
       "  </tbody>\n",
       "</table>\n",
       "<p>713 rows × 14 columns</p>\n",
       "</div>"
      ],
      "text/plain": [
       "     성별  나이      키   몸무게   허리둘레        BMI       에너지섭취량  고강도신체활동일수_여가  \\\n",
       "94    F  38  163.1  57.0   72.5  21.427275  2143.567036           5.0   \n",
       "100   F  13  169.2  79.9   83.0  27.909115  1605.187456           4.0   \n",
       "146   M  19  172.4  80.6   85.5  27.118179   744.427558           4.0   \n",
       "260   M  52  161.7  60.4   71.9  23.100262  2055.413681           3.0   \n",
       "420   F  15  159.9  68.7   77.6  26.869514  1306.965735           3.0   \n",
       "...  ..  ..    ...   ...    ...        ...          ...           ...   \n",
       "7876  M  42  176.9  87.5  102.8  27.960980  3494.647232           2.0   \n",
       "7952  M  32  167.0  68.6   84.7  24.597512  1530.321377           7.0   \n",
       "7957  M  24  169.8  71.0   79.1  24.625382  2475.791522           6.0   \n",
       "7959  M  34  181.6  86.4   89.3  26.198839  2451.702625           3.0   \n",
       "8006  M  48  168.9  67.3   85.9  23.591511  2005.755044           6.0   \n",
       "\n",
       "      중강도신체활동일수_여가 다이어트여부   나이대 비만도  diet  predicted_diet  \n",
       "94             5.0      Y   30대  정상     1               0  \n",
       "100            6.0      N  미성년자  비만     0               1  \n",
       "146            4.0      Y  미성년자  비만     1               0  \n",
       "260            4.0      Y   50대  정상     1               0  \n",
       "420            2.0      N  미성년자  비만     0               1  \n",
       "...            ...    ...   ...  ..   ...             ...  \n",
       "7876           4.0      Y   40대  비만     1               0  \n",
       "7952           7.0      Y   30대  정상     1               0  \n",
       "7957           6.0      Y   20대  정상     1               0  \n",
       "7959           4.0      Y   30대  비만     1               0  \n",
       "8006           6.0      Y   40대  정상     1               0  \n",
       "\n",
       "[713 rows x 14 columns]"
      ]
     },
     "execution_count": 119,
     "metadata": {},
     "output_type": "execute_result"
    }
   ],
   "source": [
    "data[data.diet != data.predicted_diet]"
   ]
  },
  {
   "cell_type": "markdown",
   "metadata": {},
   "source": [
    "### 713명/2190명,  약 67.4% 예측률\n",
    "#### 낮다고 판단, summary()를 통해 살펴보니 p>0.05인 값 존재. 이들을 뺀 새 모델 구성"
   ]
  },
  {
   "cell_type": "code",
   "execution_count": 121,
   "metadata": {},
   "outputs": [
    {
     "data": {
      "text/html": [
       "<table class=\"simpletable\">\n",
       "<tr>\n",
       "        <td></td>          <th>coef</th>     <th>std err</th>      <th>z</th>      <th>P>|z|</th>  <th>[0.025</th>    <th>0.975]</th>  \n",
       "</tr>\n",
       "<tr>\n",
       "  <th>Intercept</th>    <td>   -3.1108</td> <td>    0.470</td> <td>   -6.613</td> <td> 0.000</td> <td>   -4.033</td> <td>   -2.189</td>\n",
       "</tr>\n",
       "<tr>\n",
       "  <th>성별[T.M]</th>      <td>   -0.9610</td> <td>    0.147</td> <td>   -6.542</td> <td> 0.000</td> <td>   -1.249</td> <td>   -0.673</td>\n",
       "</tr>\n",
       "<tr>\n",
       "  <th>에너지섭취량</th>       <td>   -0.0002</td> <td> 5.05e-05</td> <td>   -4.016</td> <td> 0.000</td> <td>   -0.000</td> <td>   -0.000</td>\n",
       "</tr>\n",
       "<tr>\n",
       "  <th>BMI</th>          <td>    0.0589</td> <td>    0.036</td> <td>    1.623</td> <td> 0.104</td> <td>   -0.012</td> <td>    0.130</td>\n",
       "</tr>\n",
       "<tr>\n",
       "  <th>고강도신체활동일수_여가</th> <td>    0.1003</td> <td>    0.028</td> <td>    3.527</td> <td> 0.000</td> <td>    0.045</td> <td>    0.156</td>\n",
       "</tr>\n",
       "<tr>\n",
       "  <th>허리둘레</th>         <td>    0.0047</td> <td>    0.012</td> <td>    0.406</td> <td> 0.684</td> <td>   -0.018</td> <td>    0.027</td>\n",
       "</tr>\n",
       "<tr>\n",
       "  <th>몸무게</th>          <td>    0.0201</td> <td>    0.010</td> <td>    2.050</td> <td> 0.040</td> <td>    0.001</td> <td>    0.039</td>\n",
       "</tr>\n",
       "</table>"
      ],
      "text/plain": [
       "<class 'statsmodels.iolib.table.SimpleTable'>"
      ]
     },
     "execution_count": 121,
     "metadata": {},
     "output_type": "execute_result"
    }
   ],
   "source": [
    "mod_diet_6.summary().tables[1]"
   ]
  },
  {
   "cell_type": "markdown",
   "metadata": {},
   "source": [
    "### 새 모델 구성"
   ]
  },
  {
   "cell_type": "code",
   "execution_count": 41,
   "metadata": {},
   "outputs": [],
   "source": [
    "mod_diet_6_2 = smf.glm(formula = \"diet ~ 에너지섭취량 + 성별 + 고강도신체활동일수_여가 + 몸무게\", \n",
    "                  data = data, \n",
    "                  family=sm.families.Binomial()).fit()"
   ]
  },
  {
   "cell_type": "code",
   "execution_count": 165,
   "metadata": {},
   "outputs": [
    {
     "data": {
      "text/html": [
       "<table class=\"simpletable\">\n",
       "<tr>\n",
       "        <td></td>          <th>coef</th>     <th>std err</th>      <th>z</th>      <th>P>|z|</th>  <th>[0.025</th>    <th>0.975]</th>  \n",
       "</tr>\n",
       "<tr>\n",
       "  <th>Intercept</th>    <td>   -2.5136</td> <td>    0.311</td> <td>   -8.072</td> <td> 0.000</td> <td>   -3.124</td> <td>   -1.903</td>\n",
       "</tr>\n",
       "<tr>\n",
       "  <th>성별[T.M]</th>      <td>   -1.0930</td> <td>    0.129</td> <td>   -8.493</td> <td> 0.000</td> <td>   -1.345</td> <td>   -0.841</td>\n",
       "</tr>\n",
       "<tr>\n",
       "  <th>에너지섭취량</th>       <td>   -0.0002</td> <td> 5.03e-05</td> <td>   -4.240</td> <td> 0.000</td> <td>   -0.000</td> <td>   -0.000</td>\n",
       "</tr>\n",
       "<tr>\n",
       "  <th>고강도신체활동일수_여가</th> <td>    0.1004</td> <td>    0.028</td> <td>    3.536</td> <td> 0.000</td> <td>    0.045</td> <td>    0.156</td>\n",
       "</tr>\n",
       "<tr>\n",
       "  <th>몸무게</th>          <td>    0.0392</td> <td>    0.005</td> <td>    8.469</td> <td> 0.000</td> <td>    0.030</td> <td>    0.048</td>\n",
       "</tr>\n",
       "</table>"
      ],
      "text/plain": [
       "<class 'statsmodels.iolib.table.SimpleTable'>"
      ]
     },
     "execution_count": 165,
     "metadata": {},
     "output_type": "execute_result"
    }
   ],
   "source": [
    "mod_diet_6_2.summary().tables[1]"
   ]
  },
  {
   "cell_type": "code",
   "execution_count": 49,
   "metadata": {},
   "outputs": [
    {
     "data": {
      "text/html": [
       "<div>\n",
       "<style scoped>\n",
       "    .dataframe tbody tr th:only-of-type {\n",
       "        vertical-align: middle;\n",
       "    }\n",
       "\n",
       "    .dataframe tbody tr th {\n",
       "        vertical-align: top;\n",
       "    }\n",
       "\n",
       "    .dataframe thead th {\n",
       "        text-align: right;\n",
       "    }\n",
       "</style>\n",
       "<table border=\"1\" class=\"dataframe\">\n",
       "  <thead>\n",
       "    <tr style=\"text-align: right;\">\n",
       "      <th></th>\n",
       "      <th>성별</th>\n",
       "      <th>나이</th>\n",
       "      <th>키</th>\n",
       "      <th>몸무게</th>\n",
       "      <th>허리둘레</th>\n",
       "      <th>BMI</th>\n",
       "      <th>에너지섭취량</th>\n",
       "      <th>고강도신체활동일수_여가</th>\n",
       "      <th>중강도신체활동일수_여가</th>\n",
       "      <th>다이어트여부</th>\n",
       "      <th>나이대</th>\n",
       "      <th>비만도</th>\n",
       "      <th>diet</th>\n",
       "      <th>predicted_diet</th>\n",
       "    </tr>\n",
       "  </thead>\n",
       "  <tbody>\n",
       "    <tr>\n",
       "      <th>94</th>\n",
       "      <td>F</td>\n",
       "      <td>38</td>\n",
       "      <td>163.1</td>\n",
       "      <td>57.0</td>\n",
       "      <td>72.5</td>\n",
       "      <td>21.427275</td>\n",
       "      <td>2143.567036</td>\n",
       "      <td>5.0</td>\n",
       "      <td>5.0</td>\n",
       "      <td>Y</td>\n",
       "      <td>30대</td>\n",
       "      <td>정상</td>\n",
       "      <td>1</td>\n",
       "      <td>0</td>\n",
       "    </tr>\n",
       "    <tr>\n",
       "      <th>100</th>\n",
       "      <td>F</td>\n",
       "      <td>13</td>\n",
       "      <td>169.2</td>\n",
       "      <td>79.9</td>\n",
       "      <td>83.0</td>\n",
       "      <td>27.909115</td>\n",
       "      <td>1605.187456</td>\n",
       "      <td>4.0</td>\n",
       "      <td>6.0</td>\n",
       "      <td>N</td>\n",
       "      <td>미성년자</td>\n",
       "      <td>비만</td>\n",
       "      <td>0</td>\n",
       "      <td>1</td>\n",
       "    </tr>\n",
       "    <tr>\n",
       "      <th>146</th>\n",
       "      <td>M</td>\n",
       "      <td>19</td>\n",
       "      <td>172.4</td>\n",
       "      <td>80.6</td>\n",
       "      <td>85.5</td>\n",
       "      <td>27.118179</td>\n",
       "      <td>744.427558</td>\n",
       "      <td>4.0</td>\n",
       "      <td>4.0</td>\n",
       "      <td>Y</td>\n",
       "      <td>미성년자</td>\n",
       "      <td>비만</td>\n",
       "      <td>1</td>\n",
       "      <td>0</td>\n",
       "    </tr>\n",
       "    <tr>\n",
       "      <th>260</th>\n",
       "      <td>M</td>\n",
       "      <td>52</td>\n",
       "      <td>161.7</td>\n",
       "      <td>60.4</td>\n",
       "      <td>71.9</td>\n",
       "      <td>23.100262</td>\n",
       "      <td>2055.413681</td>\n",
       "      <td>3.0</td>\n",
       "      <td>4.0</td>\n",
       "      <td>Y</td>\n",
       "      <td>50대</td>\n",
       "      <td>정상</td>\n",
       "      <td>1</td>\n",
       "      <td>0</td>\n",
       "    </tr>\n",
       "    <tr>\n",
       "      <th>420</th>\n",
       "      <td>F</td>\n",
       "      <td>15</td>\n",
       "      <td>159.9</td>\n",
       "      <td>68.7</td>\n",
       "      <td>77.6</td>\n",
       "      <td>26.869514</td>\n",
       "      <td>1306.965735</td>\n",
       "      <td>3.0</td>\n",
       "      <td>2.0</td>\n",
       "      <td>N</td>\n",
       "      <td>미성년자</td>\n",
       "      <td>비만</td>\n",
       "      <td>0</td>\n",
       "      <td>1</td>\n",
       "    </tr>\n",
       "    <tr>\n",
       "      <th>...</th>\n",
       "      <td>...</td>\n",
       "      <td>...</td>\n",
       "      <td>...</td>\n",
       "      <td>...</td>\n",
       "      <td>...</td>\n",
       "      <td>...</td>\n",
       "      <td>...</td>\n",
       "      <td>...</td>\n",
       "      <td>...</td>\n",
       "      <td>...</td>\n",
       "      <td>...</td>\n",
       "      <td>...</td>\n",
       "      <td>...</td>\n",
       "      <td>...</td>\n",
       "    </tr>\n",
       "    <tr>\n",
       "      <th>7952</th>\n",
       "      <td>M</td>\n",
       "      <td>32</td>\n",
       "      <td>167.0</td>\n",
       "      <td>68.6</td>\n",
       "      <td>84.7</td>\n",
       "      <td>24.597512</td>\n",
       "      <td>1530.321377</td>\n",
       "      <td>7.0</td>\n",
       "      <td>7.0</td>\n",
       "      <td>Y</td>\n",
       "      <td>30대</td>\n",
       "      <td>정상</td>\n",
       "      <td>1</td>\n",
       "      <td>0</td>\n",
       "    </tr>\n",
       "    <tr>\n",
       "      <th>7957</th>\n",
       "      <td>M</td>\n",
       "      <td>24</td>\n",
       "      <td>169.8</td>\n",
       "      <td>71.0</td>\n",
       "      <td>79.1</td>\n",
       "      <td>24.625382</td>\n",
       "      <td>2475.791522</td>\n",
       "      <td>6.0</td>\n",
       "      <td>6.0</td>\n",
       "      <td>Y</td>\n",
       "      <td>20대</td>\n",
       "      <td>정상</td>\n",
       "      <td>1</td>\n",
       "      <td>0</td>\n",
       "    </tr>\n",
       "    <tr>\n",
       "      <th>7959</th>\n",
       "      <td>M</td>\n",
       "      <td>34</td>\n",
       "      <td>181.6</td>\n",
       "      <td>86.4</td>\n",
       "      <td>89.3</td>\n",
       "      <td>26.198839</td>\n",
       "      <td>2451.702625</td>\n",
       "      <td>3.0</td>\n",
       "      <td>4.0</td>\n",
       "      <td>Y</td>\n",
       "      <td>30대</td>\n",
       "      <td>비만</td>\n",
       "      <td>1</td>\n",
       "      <td>0</td>\n",
       "    </tr>\n",
       "    <tr>\n",
       "      <th>8006</th>\n",
       "      <td>M</td>\n",
       "      <td>48</td>\n",
       "      <td>168.9</td>\n",
       "      <td>67.3</td>\n",
       "      <td>85.9</td>\n",
       "      <td>23.591511</td>\n",
       "      <td>2005.755044</td>\n",
       "      <td>6.0</td>\n",
       "      <td>6.0</td>\n",
       "      <td>Y</td>\n",
       "      <td>40대</td>\n",
       "      <td>정상</td>\n",
       "      <td>1</td>\n",
       "      <td>0</td>\n",
       "    </tr>\n",
       "    <tr>\n",
       "      <th>8009</th>\n",
       "      <td>F</td>\n",
       "      <td>40</td>\n",
       "      <td>155.6</td>\n",
       "      <td>60.3</td>\n",
       "      <td>80.2</td>\n",
       "      <td>24.905664</td>\n",
       "      <td>1220.153882</td>\n",
       "      <td>4.0</td>\n",
       "      <td>3.0</td>\n",
       "      <td>Y</td>\n",
       "      <td>40대</td>\n",
       "      <td>정상</td>\n",
       "      <td>1</td>\n",
       "      <td>0</td>\n",
       "    </tr>\n",
       "  </tbody>\n",
       "</table>\n",
       "<p>704 rows × 14 columns</p>\n",
       "</div>"
      ],
      "text/plain": [
       "     성별  나이      키   몸무게  허리둘레        BMI       에너지섭취량  고강도신체활동일수_여가  \\\n",
       "94    F  38  163.1  57.0  72.5  21.427275  2143.567036           5.0   \n",
       "100   F  13  169.2  79.9  83.0  27.909115  1605.187456           4.0   \n",
       "146   M  19  172.4  80.6  85.5  27.118179   744.427558           4.0   \n",
       "260   M  52  161.7  60.4  71.9  23.100262  2055.413681           3.0   \n",
       "420   F  15  159.9  68.7  77.6  26.869514  1306.965735           3.0   \n",
       "...  ..  ..    ...   ...   ...        ...          ...           ...   \n",
       "7952  M  32  167.0  68.6  84.7  24.597512  1530.321377           7.0   \n",
       "7957  M  24  169.8  71.0  79.1  24.625382  2475.791522           6.0   \n",
       "7959  M  34  181.6  86.4  89.3  26.198839  2451.702625           3.0   \n",
       "8006  M  48  168.9  67.3  85.9  23.591511  2005.755044           6.0   \n",
       "8009  F  40  155.6  60.3  80.2  24.905664  1220.153882           4.0   \n",
       "\n",
       "      중강도신체활동일수_여가 다이어트여부   나이대 비만도  diet  predicted_diet  \n",
       "94             5.0      Y   30대  정상     1               0  \n",
       "100            6.0      N  미성년자  비만     0               1  \n",
       "146            4.0      Y  미성년자  비만     1               0  \n",
       "260            4.0      Y   50대  정상     1               0  \n",
       "420            2.0      N  미성년자  비만     0               1  \n",
       "...            ...    ...   ...  ..   ...             ...  \n",
       "7952           7.0      Y   30대  정상     1               0  \n",
       "7957           6.0      Y   20대  정상     1               0  \n",
       "7959           4.0      Y   30대  비만     1               0  \n",
       "8006           6.0      Y   40대  정상     1               0  \n",
       "8009           3.0      Y   40대  정상     1               0  \n",
       "\n",
       "[704 rows x 14 columns]"
      ]
     },
     "execution_count": 49,
     "metadata": {},
     "output_type": "execute_result"
    }
   ],
   "source": [
    "data['predicted_diet'] = [1 if b >= 0.5 else 0 for b in mod_diet_6_2.predict()]\n",
    "\n",
    "data[data.diet != data.predicted_diet]"
   ]
  },
  {
   "cell_type": "markdown",
   "metadata": {},
   "source": [
    "### 704명/2190명,  약 67.8% 예측률\n",
    "#### 조금 높아지긴 했다"
   ]
  },
  {
   "cell_type": "code",
   "execution_count": 160,
   "metadata": {
    "scrolled": true
   },
   "outputs": [
    {
     "data": {
      "text/plain": [
       "<seaborn.axisgrid.FacetGrid at 0x2540306eeb0>"
      ]
     },
     "execution_count": 160,
     "metadata": {},
     "output_type": "execute_result"
    },
    {
     "data": {
      "image/png": "[encoded data removed]",
      "text/plain": [
       "<Figure size 360x360 with 1 Axes>"
      ]
     },
     "metadata": {
      "needs_background": "light"
     },
     "output_type": "display_data"
    },
    {
     "data": {
      "image/png": "[encoded data removed]",
      "text/plain": [
       "<Figure size 360x360 with 1 Axes>"
      ]
     },
     "metadata": {
      "needs_background": "light"
     },
     "output_type": "display_data"
    },
    {
     "data": {
      "image/png": "[encoded data removed]",
      "text/plain": [
       "<Figure size 360x360 with 1 Axes>"
      ]
     },
     "metadata": {
      "needs_background": "light"
     },
     "output_type": "display_data"
    }
   ],
   "source": [
    "#에너지섭취량 + 성별 + 고강도신체활동일수_여가 + 몸무게\n",
    "\n",
    "sns.lmplot(x = \"에너지섭취량\", y = \"diet\",\n",
    "           data = data, \n",
    "           logistic = True,\n",
    "           scatter_kws = {\"color\": \"black\"},\n",
    "           line_kws    = {\"color\": \"black\"},\n",
    "           x_jitter = 0.1, y_jitter = 0.02)\n",
    "\n",
    "sns.lmplot(x = \"고강도신체활동일수_여가\", y = \"diet\",\n",
    "           data = data, \n",
    "           logistic = True,\n",
    "           scatter_kws = {\"color\": \"black\"},\n",
    "           line_kws    = {\"color\": \"black\"},\n",
    "           x_jitter = 0.1, y_jitter = 0.02)\n",
    "\n",
    "sns.lmplot(x = \"몸무게\", y = \"diet\",\n",
    "           data = data, \n",
    "           logistic = True,\n",
    "           scatter_kws = {\"color\": \"black\"},\n",
    "           line_kws    = {\"color\": \"black\"},\n",
    "           x_jitter = 0.1, y_jitter = 0.02)"
   ]
  },
  {
   "cell_type": "markdown",
   "metadata": {},
   "source": [
    "음....."
   ]
  },
  {
   "cell_type": "code",
   "execution_count": 114,
   "metadata": {},
   "outputs": [
    {
     "data": {
      "text/plain": [
       "(2668.305, 2669.252)"
      ]
     },
     "execution_count": 114,
     "metadata": {},
     "output_type": "execute_result"
    }
   ],
   "source": [
    "mod_diet_6.aic.round(3), mod_diet_6_2.aic.round(3)"
   ]
  },
  {
   "cell_type": "markdown",
   "metadata": {},
   "source": [
    "#### AIC값 상으로는 원래 모델이 더 우수?"
   ]
  },
  {
   "cell_type": "markdown",
   "metadata": {},
   "source": [
    "## 모델 1로 만든 예측모델: (input받아 출력, 다이어트 하고 있을 확률)"
   ]
  },
  {
   "cell_type": "code",
   "execution_count": 164,
   "metadata": {
    "scrolled": true
   },
   "outputs": [
    {
     "name": "stdout",
     "output_type": "stream",
     "text": [
      "성별( F / M ) :  F\n",
      "에너지섭취량 :  10000\n",
      "일주일 동안의 고강도 신체활동 일수(1~7) :  0\n",
      "몸무게 :  105\n",
      "다이어트를 하고있을 확률:  0    0.369823\n",
      "dtype: float64\n"
     ]
    }
   ],
   "source": [
    "o = input('성별( F / M ) :  ')\n",
    "p = float(input('에너지섭취량 :  '))\n",
    "q = float(input('일주일 동안의 고강도 신체활동 일수(1~7) :  '))\n",
    "r = float(input('몸무게 :  '))\n",
    "\n",
    "per = mod_diet_6_2.predict(pd.DataFrame({\"성별\":[o], \"에너지섭취량\": [p], \"고강도신체활동일수_여가\":[q], \"몸무게\": [r]}))\n",
    "print('다이어트를 하고있을 확률: ', per)"
   ]
  },
  {
   "cell_type": "markdown",
   "metadata": {},
   "source": [
    "---------"
   ]
  },
  {
   "cell_type": "markdown",
   "metadata": {},
   "source": [
    "# II. 20대 고강도 운동일수 예측 모델 - 선형회귀모형"
   ]
  },
  {
   "cell_type": "markdown",
   "metadata": {
    "scrolled": true
   },
   "source": [
    "(누가 헬창일까?)"
   ]
  },
  {
   "cell_type": "code",
   "execution_count": 54,
   "metadata": {
    "scrolled": false
   },
   "outputs": [],
   "source": [
    "lm_model = smf.ols(formula = \"고강도신체활동일수_여가 ~ 성별 + 몸무게 + 에너지섭취량 + 키 + BMI + 허리둘레 + 중강도신체활동일수_여가 + 다이어트여부\",  data = data20).fit()"
   ]
  },
  {
   "cell_type": "code",
   "execution_count": 55,
   "metadata": {},
   "outputs": [
    {
     "data": {
      "text/html": [
       "<div>\n",
       "<style scoped>\n",
       "    .dataframe tbody tr th:only-of-type {\n",
       "        vertical-align: middle;\n",
       "    }\n",
       "\n",
       "    .dataframe tbody tr th {\n",
       "        vertical-align: top;\n",
       "    }\n",
       "\n",
       "    .dataframe thead th {\n",
       "        text-align: right;\n",
       "    }\n",
       "</style>\n",
       "<table border=\"1\" class=\"dataframe\">\n",
       "  <thead>\n",
       "    <tr style=\"text-align: right;\">\n",
       "      <th></th>\n",
       "      <th>sum_sq</th>\n",
       "      <th>df</th>\n",
       "      <th>F</th>\n",
       "      <th>PR(&gt;F)</th>\n",
       "    </tr>\n",
       "  </thead>\n",
       "  <tbody>\n",
       "    <tr>\n",
       "      <th>성별</th>\n",
       "      <td>0.012</td>\n",
       "      <td>1.0</td>\n",
       "      <td>0.010</td>\n",
       "      <td>0.921</td>\n",
       "    </tr>\n",
       "    <tr>\n",
       "      <th>다이어트여부</th>\n",
       "      <td>5.543</td>\n",
       "      <td>1.0</td>\n",
       "      <td>4.591</td>\n",
       "      <td>0.033</td>\n",
       "    </tr>\n",
       "    <tr>\n",
       "      <th>몸무게</th>\n",
       "      <td>0.036</td>\n",
       "      <td>1.0</td>\n",
       "      <td>0.030</td>\n",
       "      <td>0.862</td>\n",
       "    </tr>\n",
       "    <tr>\n",
       "      <th>에너지섭취량</th>\n",
       "      <td>0.830</td>\n",
       "      <td>1.0</td>\n",
       "      <td>0.688</td>\n",
       "      <td>0.407</td>\n",
       "    </tr>\n",
       "    <tr>\n",
       "      <th>키</th>\n",
       "      <td>0.000</td>\n",
       "      <td>1.0</td>\n",
       "      <td>0.000</td>\n",
       "      <td>0.985</td>\n",
       "    </tr>\n",
       "    <tr>\n",
       "      <th>BMI</th>\n",
       "      <td>0.096</td>\n",
       "      <td>1.0</td>\n",
       "      <td>0.079</td>\n",
       "      <td>0.779</td>\n",
       "    </tr>\n",
       "    <tr>\n",
       "      <th>허리둘레</th>\n",
       "      <td>0.019</td>\n",
       "      <td>1.0</td>\n",
       "      <td>0.016</td>\n",
       "      <td>0.901</td>\n",
       "    </tr>\n",
       "    <tr>\n",
       "      <th>중강도신체활동일수_여가</th>\n",
       "      <td>551.609</td>\n",
       "      <td>1.0</td>\n",
       "      <td>456.916</td>\n",
       "      <td>0.000</td>\n",
       "    </tr>\n",
       "    <tr>\n",
       "      <th>Residual</th>\n",
       "      <td>498.592</td>\n",
       "      <td>413.0</td>\n",
       "      <td>NaN</td>\n",
       "      <td>NaN</td>\n",
       "    </tr>\n",
       "  </tbody>\n",
       "</table>\n",
       "</div>"
      ],
      "text/plain": [
       "               sum_sq     df        F  PR(>F)\n",
       "성별              0.012    1.0    0.010   0.921\n",
       "다이어트여부          5.543    1.0    4.591   0.033\n",
       "몸무게             0.036    1.0    0.030   0.862\n",
       "에너지섭취량          0.830    1.0    0.688   0.407\n",
       "키               0.000    1.0    0.000   0.985\n",
       "BMI             0.096    1.0    0.079   0.779\n",
       "허리둘레            0.019    1.0    0.016   0.901\n",
       "중강도신체활동일수_여가  551.609    1.0  456.916   0.000\n",
       "Residual      498.592  413.0      NaN     NaN"
      ]
     },
     "execution_count": 55,
     "metadata": {},
     "output_type": "execute_result"
    }
   ],
   "source": [
    "sm.stats.anova_lm(lm_model, typ=2).round(3)"
   ]
  },
  {
   "cell_type": "markdown",
   "metadata": {},
   "source": [
    "Type-II ANOVA 이용, 각각의 변수가 설명하는 수정제곱합\n",
    "Type-II ANOVA상으론 : 중강도 - 다이어트여부"
   ]
  },
  {
   "cell_type": "markdown",
   "metadata": {},
   "source": [
    "### 성별, 다이어트여부에 따른 에너지섭취량?"
   ]
  },
  {
   "cell_type": "code",
   "execution_count": 58,
   "metadata": {},
   "outputs": [
    {
     "data": {
      "text/plain": [
       "<matplotlib.axes._subplots.AxesSubplot at 0x25402a70a30>"
      ]
     },
     "execution_count": 58,
     "metadata": {},
     "output_type": "execute_result"
    },
    {
     "data": {
      "image/png": "[encoded data removed]",
      "text/plain": [
       "<Figure size 576x360 with 1 Axes>"
      ]
     },
     "metadata": {
      "needs_background": "light"
     },
     "output_type": "display_data"
    }
   ],
   "source": [
    "plt.figure(figsize=(8, 5))\n",
    "\n",
    "plt.title('성별-에너지섭취량')\n",
    "sns.barplot(x = \"성별\", y  = \"고강도신체활동일수_여가\", hue = '다이어트여부', data = data20)"
   ]
  },
  {
   "cell_type": "code",
   "execution_count": 59,
   "metadata": {},
   "outputs": [],
   "source": [
    "model = smf.ols(\"고강도신체활동일수_여가 ~ 중강도신체활동일수_여가 + 다이어트여부\", data = data20).fit()"
   ]
  },
  {
   "cell_type": "code",
   "execution_count": 60,
   "metadata": {},
   "outputs": [
    {
     "data": {
      "text/html": [
       "<table class=\"simpletable\">\n",
       "<tr>\n",
       "        <td></td>          <th>coef</th>     <th>std err</th>      <th>t</th>      <th>P>|t|</th>  <th>[0.025</th>    <th>0.975]</th>  \n",
       "</tr>\n",
       "<tr>\n",
       "  <th>Intercept</th>    <td>    0.6562</td> <td>    0.131</td> <td>    4.990</td> <td> 0.000</td> <td>    0.398</td> <td>    0.915</td>\n",
       "</tr>\n",
       "<tr>\n",
       "  <th>다이어트여부[T.Y]</th>  <td>    0.2551</td> <td>    0.112</td> <td>    2.278</td> <td> 0.023</td> <td>    0.035</td> <td>    0.475</td>\n",
       "</tr>\n",
       "<tr>\n",
       "  <th>중강도신체활동일수_여가</th> <td>    0.7279</td> <td>    0.033</td> <td>   21.846</td> <td> 0.000</td> <td>    0.662</td> <td>    0.793</td>\n",
       "</tr>\n",
       "</table>"
      ],
      "text/plain": [
       "<class 'statsmodels.iolib.table.SimpleTable'>"
      ]
     },
     "execution_count": 60,
     "metadata": {},
     "output_type": "execute_result"
    }
   ],
   "source": [
    "model.summary().tables[1]"
   ]
  },
  {
   "cell_type": "markdown",
   "metadata": {},
   "source": [
    "p값들이 다 0.05보다 작다"
   ]
  },
  {
   "cell_type": "markdown",
   "metadata": {},
   "source": [
    "-------------"
   ]
  },
  {
   "cell_type": "markdown",
   "metadata": {},
   "source": [
    "방법2"
   ]
  },
  {
   "cell_type": "code",
   "execution_count": 63,
   "metadata": {},
   "outputs": [],
   "source": [
    "lm_model_sex = smf.ols(formula = \"고강도신체활동일수_여가 ~ 성별 \",  data = data20).fit()"
   ]
  },
  {
   "cell_type": "code",
   "execution_count": 64,
   "metadata": {},
   "outputs": [],
   "source": [
    "lm_model_weight = smf.ols(formula = \"고강도신체활동일수_여가 ~ 몸무게\",  data = data20).fit()"
   ]
  },
  {
   "cell_type": "code",
   "execution_count": 65,
   "metadata": {},
   "outputs": [],
   "source": [
    "lm_model_en = smf.ols(formula = \"고강도신체활동일수_여가 ~ 에너지섭취량\",  data = data20).fit()"
   ]
  },
  {
   "cell_type": "code",
   "execution_count": 66,
   "metadata": {},
   "outputs": [],
   "source": [
    "lm_model_height = smf.ols(formula = \"고강도신체활동일수_여가 ~ 키\",  data = data20).fit()"
   ]
  },
  {
   "cell_type": "code",
   "execution_count": 67,
   "metadata": {},
   "outputs": [],
   "source": [
    "lm_model_waist = smf.ols(formula = \"고강도신체활동일수_여가 ~ 허리둘레\",  data = data20).fit()"
   ]
  },
  {
   "cell_type": "code",
   "execution_count": 68,
   "metadata": {},
   "outputs": [],
   "source": [
    "lm_model_lex = smf.ols(formula = \"고강도신체활동일수_여가 ~ 중강도신체활동일수_여가\",  data = data20).fit()"
   ]
  },
  {
   "cell_type": "code",
   "execution_count": 69,
   "metadata": {},
   "outputs": [],
   "source": [
    "lm_model_diet = smf.ols(formula = \"고강도신체활동일수_여가 ~ 다이어트여부\",  data = data20).fit()"
   ]
  },
  {
   "cell_type": "code",
   "execution_count": 70,
   "metadata": {},
   "outputs": [
    {
     "name": "stdout",
     "output_type": "stream",
     "text": [
      "성별 모델： 1609.433\n",
      "몸무게 모델： 1605.058\n",
      "에너지섭취량 모델： 1609.517\n",
      "키 모델： 1610.233\n",
      "허리둘레 모델： 1604.266\n",
      "중강도운동 모델： 1279.333\n",
      "다이어트여부 모델： 1595.01\n"
     ]
    }
   ],
   "source": [
    "print(\"성별 모델：\", lm_model_sex.aic.round(3))\n",
    "print(\"몸무게 모델：\", lm_model_weight.aic.round(3))\n",
    "print(\"에너지섭취량 모델：\", lm_model_en.aic.round(3))\n",
    "print(\"키 모델：\", lm_model_height.aic.round(3))\n",
    "print(\"허리둘레 모델：\", lm_model_waist.aic.round(3))\n",
    "print(\"중강도운동 모델：\", lm_model_lex.aic.round(3))\n",
    "print(\"다이어트여부 모델：\", lm_model_diet.aic.round(3))"
   ]
  },
  {
   "cell_type": "code",
   "execution_count": 71,
   "metadata": {},
   "outputs": [],
   "source": [
    "lm_model_2 = smf.ols(formula = \"고강도신체활동일수_여가 ~ 중강도신체활동일수_여가 + 다이어트여부\",  data = data20).fit()"
   ]
  },
  {
   "cell_type": "code",
   "execution_count": 72,
   "metadata": {},
   "outputs": [],
   "source": [
    "lm_model_3 = smf.ols(formula = \"고강도신체활동일수_여가 ~ 중강도신체활동일수_여가 + 다이어트여부 + 허리둘레\",  data = data20).fit()"
   ]
  },
  {
   "cell_type": "code",
   "execution_count": 73,
   "metadata": {},
   "outputs": [],
   "source": [
    "lm_model_4 = smf.ols(formula = \"고강도신체활동일수_여가 ~ 중강도신체활동일수_여가 + 다이어트여부 + 허리둘레 + 몸무게\",  data = data20).fit()"
   ]
  },
  {
   "cell_type": "code",
   "execution_count": 74,
   "metadata": {},
   "outputs": [],
   "source": [
    "lm_model_5 = smf.ols(formula = \"고강도신체활동일수_여가 ~ 중강도신체활동일수_여가 + 다이어트여부 + 허리둘레 + 몸무게 + 성별\",  data = data20).fit()"
   ]
  },
  {
   "cell_type": "code",
   "execution_count": 75,
   "metadata": {},
   "outputs": [],
   "source": [
    "lm_model_6 = smf.ols(formula = \"고강도신체활동일수_여가 ~ 중강도신체활동일수_여가 + 다이어트여부 + 허리둘레 + 몸무게 + 성별 + 에너지섭취량\",  data = data20).fit()"
   ]
  },
  {
   "cell_type": "code",
   "execution_count": 76,
   "metadata": {},
   "outputs": [],
   "source": [
    "lm_model_7 = smf.ols(formula = \"고강도신체활동일수_여가 ~ 중강도신체활동일수_여가 + 다이어트여부 + 허리둘레 + 몸무게 + 성별 + 에너지섭취량 + 키\",  data = data20).fit()"
   ]
  },
  {
   "cell_type": "code",
   "execution_count": 77,
   "metadata": {},
   "outputs": [
    {
     "name": "stdout",
     "output_type": "stream",
     "text": [
      "중강도운동 모델： 1279.333\n",
      "모델2： 1276.137\n",
      "모델3： 1278.137\n",
      "모델4： 1279.92\n",
      "모델5： 1281.688\n",
      "모델6： 1282.948\n",
      "모델7： 1284.047\n"
     ]
    }
   ],
   "source": [
    "print(\"중강도운동 모델：\", lm_model_lex.aic.round(3))\n",
    "print(\"모델2：\", lm_model_2.aic.round(3))\n",
    "print(\"모델3：\", lm_model_3.aic.round(3))\n",
    "print(\"모델4：\", lm_model_4.aic.round(3))\n",
    "print(\"모델5：\", lm_model_5.aic.round(3))\n",
    "print(\"모델6：\", lm_model_6.aic.round(3))\n",
    "print(\"모델7：\", lm_model_7.aic.round(3))"
   ]
  },
  {
   "cell_type": "code",
   "execution_count": 78,
   "metadata": {},
   "outputs": [],
   "source": [
    "# 모델2가 가장 우수"
   ]
  },
  {
   "cell_type": "code",
   "execution_count": 79,
   "metadata": {},
   "outputs": [
    {
     "name": "stderr",
     "output_type": "stream",
     "text": [
      "<ipython-input-79-54f7a1b99832>:1: SettingWithCopyWarning: \n",
      "A value is trying to be set on a copy of a slice from a DataFrame.\n",
      "Try using .loc[row_indexer,col_indexer] = value instead\n",
      "\n",
      "See the caveats in the documentation: https://pandas.pydata.org/pandas-docs/stable/user_guide/indexing.html#returning-a-view-versus-a-copy\n",
      "  data20['예측고강도운동'] = lm_model_2.predict()\n"
     ]
    }
   ],
   "source": [
    "data20['예측고강도운동'] = lm_model_2.predict()"
   ]
  },
  {
   "cell_type": "code",
   "execution_count": 80,
   "metadata": {},
   "outputs": [
    {
     "name": "stderr",
     "output_type": "stream",
     "text": [
      "<ipython-input-80-52f8fd1daa71>:2: SettingWithCopyWarning: \n",
      "A value is trying to be set on a copy of a slice from a DataFrame.\n",
      "Try using .loc[row_indexer,col_indexer] = value instead\n",
      "\n",
      "See the caveats in the documentation: https://pandas.pydata.org/pandas-docs/stable/user_guide/indexing.html#returning-a-view-versus-a-copy\n",
      "  data20['예측고강도운동'] = pd.cut(data20.예측고강도운동, hex_days, labels = [0, 1, 2, 3, 4, 5, 6, 7], right = False)\n"
     ]
    }
   ],
   "source": [
    "hex_days = [0, 0.5, 1.5, 2.5, 3.5, 4.5, 5.5, 6.5, 7.5]\n",
    "data20['예측고강도운동'] = pd.cut(data20.예측고강도운동, hex_days, labels = [0, 1, 2, 3, 4, 5, 6, 7], right = False)"
   ]
  },
  {
   "cell_type": "markdown",
   "metadata": {},
   "source": [
    "### 모델의 예측률"
   ]
  },
  {
   "cell_type": "code",
   "execution_count": 83,
   "metadata": {},
   "outputs": [
    {
     "name": "stdout",
     "output_type": "stream",
     "text": [
      "56.161137440758296\n"
     ]
    }
   ],
   "source": [
    "print(100-100*(185/422))"
   ]
  },
  {
   "cell_type": "code",
   "execution_count": 158,
   "metadata": {
    "scrolled": true
   },
   "outputs": [
    {
     "name": "stderr",
     "output_type": "stream",
     "text": [
      "C:\\anaconda\\lib\\site-packages\\matplotlib\\backends\\backend_agg.py:214: RuntimeWarning: Glyph 8722 missing from current font.\n",
      "  font.set_text(s, 0.0, flags=flags)\n",
      "C:\\anaconda\\lib\\site-packages\\matplotlib\\backends\\backend_agg.py:183: RuntimeWarning: Glyph 8722 missing from current font.\n",
      "  font.set_text(s, 0, flags=flags)\n"
     ]
    },
    {
     "data": {
      "image/png": "[encoded data removed]",
      "text/plain": [
       "<Figure size 432x288 with 1 Axes>"
      ]
     },
     "metadata": {
      "needs_background": "light"
     },
     "output_type": "display_data"
    }
   ],
   "source": [
    "fig = sm.qqplot(lm_model_2.resid, line = \"s\")"
   ]
  },
  {
   "cell_type": "markdown",
   "metadata": {},
   "source": [
    "## 모델 2로 만든 예측모델: (input받아 출력)"
   ]
  },
  {
   "cell_type": "code",
   "execution_count": 130,
   "metadata": {},
   "outputs": [
    {
     "name": "stdout",
     "output_type": "stream",
     "text": [
      "일주일 동안의 중강도 신체활동 일수(1~7) :  4\n",
      "다이어트여부( Y / N ) :  N\n"
     ]
    },
    {
     "data": {
      "text/plain": [
       "0    3.567892\n",
       "dtype: float64"
      ]
     },
     "execution_count": 130,
     "metadata": {},
     "output_type": "execute_result"
    }
   ],
   "source": [
    "a = float(input('일주일 동안의 중강도 신체활동 일수(1~7) :  '))\n",
    "b = input('다이어트여부( Y / N ) :  ')\n",
    "\n",
    "lm_model_2.predict(pd.DataFrame({\"중강도신체활동일수_여가\":[a], \"다이어트여부\": [b]}))"
   ]
  },
  {
   "cell_type": "markdown",
   "metadata": {},
   "source": [
    "# 결론"
   ]
  },
  {
   "cell_type": "markdown",
   "metadata": {},
   "source": [
    "1. 모델 1상에선 현재 체중이 적게나가고, 먹는 양이 적은 사람이 다이어트를 하고있을 확률이 높다"
   ]
  },
  {
   "cell_type": "markdown",
   "metadata": {},
   "source": [
    "2. 모델 2상에선 평소 운동을 일상적으로 하는 사람이 헬창일 확률이 높다"
   ]
  },
  {
   "cell_type": "markdown",
   "metadata": {},
   "source": [
    "3. 다이어트에 영향을 주는 것은 어떤 음식을 얼마나 먹느냐(저탄수화물 고단백)이 중요한 것이 아니라 섭취하는 총 칼로리 양이 더 중요하다"
   ]
  }
 ],
 "metadata": {
  "kernelspec": {
   "display_name": "Python 3",
   "language": "python",
   "name": "python3"
  },
  "language_info": {
   "codemirror_mode": {
    "name": "ipython",
    "version": 3
   },
   "file_extension": ".py",
   "mimetype": "text/x-python",
   "name": "python",
   "nbconvert_exporter": "python",
   "pygments_lexer": "ipython3",
   "version": "3.8.3"
  }
 },
 "nbformat": 4,
 "nbformat_minor": 4
}
