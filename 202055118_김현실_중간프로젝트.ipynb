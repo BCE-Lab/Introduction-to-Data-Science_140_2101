{
 "cells": [
  {
   "cell_type": "markdown",
   "metadata": {},
   "source": [
    "# 흡연과 여러 변수들과의 관계\n",
    "변수: 당뇨, 비만, 3대암(위암, 간암, 폐암)"
   ]
  },
  {
   "cell_type": "markdown",
   "metadata": {},
   "source": [
    "### 비만을 제외한 나머지 변수들은, 흡연자 그룹이 비흡연자 그룹에 비해 발병률이 높게 나타날 것이다. 특히 폐암의 경우는 두드러진 차이를 보일 것으로 예상된다. 또한, 하루평균 흡연량이 많을 수록 질병의 발병률이 더 높게 나타날 것이다. "
   ]
  },
  {
   "cell_type": "code",
   "execution_count": 1,
   "metadata": {},
   "outputs": [
    {
     "data": {
      "text/plain": [
       "'%.3f'"
      ]
     },
     "execution_count": 1,
     "metadata": {},
     "output_type": "execute_result"
    }
   ],
   "source": [
    "import numpy as np\n",
    "import numpy.random as random\n",
    "import scipy as sp\n",
    "import scipy.stats as stats\n",
    "import pandas as pd\n",
    "from pandas import Series, DataFrame\n",
    "\n",
    "# 시각화 라이브러리\n",
    "import matplotlib.pyplot as plt\n",
    "import matplotlib as mpl\n",
    "import seaborn as sns\n",
    "%matplotlib inline\n",
    "\n",
    "# 소수점 3자리까지 표시\n",
    "%precision 3"
   ]
  },
  {
   "cell_type": "code",
   "execution_count": 2,
   "metadata": {},
   "outputs": [
    {
     "name": "stderr",
     "output_type": "stream",
     "text": [
      "C:\\Users\\SAMSUNG\\anaconda3\\lib\\site-packages\\IPython\\core\\interactiveshell.py:3063: DtypeWarning: Columns (203,209,347,368,428,458,463,656) have mixed types.Specify dtype option on import or set low_memory=False.\n",
      "  interactivity=interactivity, compiler=compiler, result=result)\n",
      "C:\\Users\\SAMSUNG\\anaconda3\\lib\\site-packages\\IPython\\core\\interactiveshell.py:3063: DtypeWarning: Columns (113,146,157,343,364,424,457,461) have mixed types.Specify dtype option on import or set low_memory=False.\n",
      "  interactivity=interactivity, compiler=compiler, result=result)\n",
      "C:\\Users\\SAMSUNG\\anaconda3\\lib\\site-packages\\IPython\\core\\interactiveshell.py:3063: DtypeWarning: Columns (123,329,350,410,443,447,633) have mixed types.Specify dtype option on import or set low_memory=False.\n",
      "  interactivity=interactivity, compiler=compiler, result=result)\n",
      "C:\\Users\\SAMSUNG\\anaconda3\\lib\\site-packages\\IPython\\core\\interactiveshell.py:3063: DtypeWarning: Columns (604,607,608) have mixed types.Specify dtype option on import or set low_memory=False.\n",
      "  interactivity=interactivity, compiler=compiler, result=result)\n",
      "C:\\Users\\SAMSUNG\\anaconda3\\lib\\site-packages\\IPython\\core\\interactiveshell.py:3063: DtypeWarning: Columns (147,594,596) have mixed types.Specify dtype option on import or set low_memory=False.\n",
      "  interactivity=interactivity, compiler=compiler, result=result)\n",
      "C:\\Users\\SAMSUNG\\anaconda3\\lib\\site-packages\\IPython\\core\\interactiveshell.py:3063: DtypeWarning: Columns (372,383,385,393,398,599,636) have mixed types.Specify dtype option on import or set low_memory=False.\n",
      "  interactivity=interactivity, compiler=compiler, result=result)\n",
      "C:\\Users\\SAMSUNG\\anaconda3\\lib\\site-packages\\IPython\\core\\interactiveshell.py:3063: DtypeWarning: Columns (455,461,586,643,678) have mixed types.Specify dtype option on import or set low_memory=False.\n",
      "  interactivity=interactivity, compiler=compiler, result=result)\n",
      "C:\\Users\\SAMSUNG\\anaconda3\\lib\\site-packages\\IPython\\core\\interactiveshell.py:3063: DtypeWarning: Columns (119,158,507,639,659) have mixed types.Specify dtype option on import or set low_memory=False.\n",
      "  interactivity=interactivity, compiler=compiler, result=result)\n",
      "C:\\Users\\SAMSUNG\\anaconda3\\lib\\site-packages\\IPython\\core\\interactiveshell.py:3063: DtypeWarning: Columns (146,436,555,570,572,587) have mixed types.Specify dtype option on import or set low_memory=False.\n",
      "  interactivity=interactivity, compiler=compiler, result=result)\n",
      "C:\\Users\\SAMSUNG\\anaconda3\\lib\\site-packages\\IPython\\core\\interactiveshell.py:3063: DtypeWarning: Columns (107,380,399,505,514,517,530,541) have mixed types.Specify dtype option on import or set low_memory=False.\n",
      "  interactivity=interactivity, compiler=compiler, result=result)\n"
     ]
    }
   ],
   "source": [
    "data10 = pd.read_csv('hn10_all.csv')\n",
    "data11 = pd.read_csv('hn11_all.csv')\n",
    "data12 = pd.read_csv('hn12_all.csv')\n",
    "data13 = pd.read_csv('hn13_all.csv')\n",
    "data14 = pd.read_csv('hn14_all.csv')\n",
    "data15 = pd.read_csv('hn15_all.csv')\n",
    "data16 = pd.read_csv('hn16_all.csv')\n",
    "data17 = pd.read_csv('hn17_all.csv')\n",
    "data18 = pd.read_csv('hn18_all.csv')\n",
    "data19 = pd.read_csv('hn19_all.csv')"
   ]
  },
  {
   "cell_type": "code",
   "execution_count": 3,
   "metadata": {},
   "outputs": [
    {
     "data": {
      "text/html": [
       "<div>\n",
       "<style scoped>\n",
       "    .dataframe tbody tr th:only-of-type {\n",
       "        vertical-align: middle;\n",
       "    }\n",
       "\n",
       "    .dataframe tbody tr th {\n",
       "        vertical-align: top;\n",
       "    }\n",
       "\n",
       "    .dataframe thead th {\n",
       "        text-align: right;\n",
       "    }\n",
       "</style>\n",
       "<table border=\"1\" class=\"dataframe\">\n",
       "  <thead>\n",
       "    <tr style=\"text-align: right;\">\n",
       "      <th></th>\n",
       "      <th>mod_d</th>\n",
       "      <th>ID</th>\n",
       "      <th>ID_fam</th>\n",
       "      <th>year</th>\n",
       "      <th>region</th>\n",
       "      <th>town_t</th>\n",
       "      <th>apt_t</th>\n",
       "      <th>psu</th>\n",
       "      <th>sex</th>\n",
       "      <th>age</th>\n",
       "      <th>...</th>\n",
       "      <th>BS12_47_1</th>\n",
       "      <th>BS12_47_2</th>\n",
       "      <th>HE_nc</th>\n",
       "      <th>HE_insulin_etc</th>\n",
       "      <th>HE_DM_HbA1c</th>\n",
       "      <th>HE_HBsAg_etc</th>\n",
       "      <th>HE_Ucrea_etc</th>\n",
       "      <th>HE_Ualb_etc</th>\n",
       "      <th>N_FOLATE</th>\n",
       "      <th>LF_SECUR_Y</th>\n",
       "    </tr>\n",
       "  </thead>\n",
       "  <tbody>\n",
       "    <tr>\n",
       "      <th>0</th>\n",
       "      <td>2019.03.06.</td>\n",
       "      <td>A308059801</td>\n",
       "      <td>A3080598</td>\n",
       "      <td>2010</td>\n",
       "      <td>1</td>\n",
       "      <td>1</td>\n",
       "      <td>2</td>\n",
       "      <td>A308</td>\n",
       "      <td>1</td>\n",
       "      <td>61</td>\n",
       "      <td>...</td>\n",
       "      <td>NaN</td>\n",
       "      <td>NaN</td>\n",
       "      <td>NaN</td>\n",
       "      <td>NaN</td>\n",
       "      <td>NaN</td>\n",
       "      <td>NaN</td>\n",
       "      <td>NaN</td>\n",
       "      <td>NaN</td>\n",
       "      <td>NaN</td>\n",
       "      <td>NaN</td>\n",
       "    </tr>\n",
       "    <tr>\n",
       "      <th>1</th>\n",
       "      <td>2019.03.06.</td>\n",
       "      <td>A308059802</td>\n",
       "      <td>A3080598</td>\n",
       "      <td>2010</td>\n",
       "      <td>1</td>\n",
       "      <td>1</td>\n",
       "      <td>2</td>\n",
       "      <td>A308</td>\n",
       "      <td>2</td>\n",
       "      <td>54</td>\n",
       "      <td>...</td>\n",
       "      <td>NaN</td>\n",
       "      <td>NaN</td>\n",
       "      <td>NaN</td>\n",
       "      <td>NaN</td>\n",
       "      <td>NaN</td>\n",
       "      <td>NaN</td>\n",
       "      <td>NaN</td>\n",
       "      <td>NaN</td>\n",
       "      <td>NaN</td>\n",
       "      <td>NaN</td>\n",
       "    </tr>\n",
       "    <tr>\n",
       "      <th>2</th>\n",
       "      <td>2019.03.06.</td>\n",
       "      <td>A308120201</td>\n",
       "      <td>A3081202</td>\n",
       "      <td>2010</td>\n",
       "      <td>1</td>\n",
       "      <td>1</td>\n",
       "      <td>2</td>\n",
       "      <td>A308</td>\n",
       "      <td>1</td>\n",
       "      <td>33</td>\n",
       "      <td>...</td>\n",
       "      <td>NaN</td>\n",
       "      <td>NaN</td>\n",
       "      <td>NaN</td>\n",
       "      <td>NaN</td>\n",
       "      <td>NaN</td>\n",
       "      <td>NaN</td>\n",
       "      <td>NaN</td>\n",
       "      <td>NaN</td>\n",
       "      <td>NaN</td>\n",
       "      <td>NaN</td>\n",
       "    </tr>\n",
       "    <tr>\n",
       "      <th>3</th>\n",
       "      <td>2019.03.06.</td>\n",
       "      <td>A308120202</td>\n",
       "      <td>A3081202</td>\n",
       "      <td>2010</td>\n",
       "      <td>1</td>\n",
       "      <td>1</td>\n",
       "      <td>2</td>\n",
       "      <td>A308</td>\n",
       "      <td>2</td>\n",
       "      <td>33</td>\n",
       "      <td>...</td>\n",
       "      <td>NaN</td>\n",
       "      <td>NaN</td>\n",
       "      <td>NaN</td>\n",
       "      <td>NaN</td>\n",
       "      <td>NaN</td>\n",
       "      <td>NaN</td>\n",
       "      <td>NaN</td>\n",
       "      <td>NaN</td>\n",
       "      <td>NaN</td>\n",
       "      <td>NaN</td>\n",
       "    </tr>\n",
       "    <tr>\n",
       "      <th>4</th>\n",
       "      <td>2019.03.06.</td>\n",
       "      <td>A308120203</td>\n",
       "      <td>A3081202</td>\n",
       "      <td>2010</td>\n",
       "      <td>1</td>\n",
       "      <td>1</td>\n",
       "      <td>2</td>\n",
       "      <td>A308</td>\n",
       "      <td>2</td>\n",
       "      <td>4</td>\n",
       "      <td>...</td>\n",
       "      <td>NaN</td>\n",
       "      <td>NaN</td>\n",
       "      <td>NaN</td>\n",
       "      <td>NaN</td>\n",
       "      <td>NaN</td>\n",
       "      <td>NaN</td>\n",
       "      <td>NaN</td>\n",
       "      <td>NaN</td>\n",
       "      <td>NaN</td>\n",
       "      <td>NaN</td>\n",
       "    </tr>\n",
       "  </tbody>\n",
       "</table>\n",
       "<p>5 rows × 1440 columns</p>\n",
       "</div>"
      ],
      "text/plain": [
       "         mod_d          ID    ID_fam  year  region  town_t  apt_t   psu  sex  \\\n",
       "0  2019.03.06.  A308059801  A3080598  2010       1       1      2  A308    1   \n",
       "1  2019.03.06.  A308059802  A3080598  2010       1       1      2  A308    2   \n",
       "2  2019.03.06.  A308120201  A3081202  2010       1       1      2  A308    1   \n",
       "3  2019.03.06.  A308120202  A3081202  2010       1       1      2  A308    2   \n",
       "4  2019.03.06.  A308120203  A3081202  2010       1       1      2  A308    2   \n",
       "\n",
       "   age  ...  BS12_47_1  BS12_47_2  HE_nc  HE_insulin_etc  HE_DM_HbA1c  \\\n",
       "0   61  ...        NaN        NaN    NaN             NaN          NaN   \n",
       "1   54  ...        NaN        NaN    NaN             NaN          NaN   \n",
       "2   33  ...        NaN        NaN    NaN             NaN          NaN   \n",
       "3   33  ...        NaN        NaN    NaN             NaN          NaN   \n",
       "4    4  ...        NaN        NaN    NaN             NaN          NaN   \n",
       "\n",
       "   HE_HBsAg_etc  HE_Ucrea_etc  HE_Ualb_etc  N_FOLATE  LF_SECUR_Y  \n",
       "0           NaN           NaN          NaN       NaN         NaN  \n",
       "1           NaN           NaN          NaN       NaN         NaN  \n",
       "2           NaN           NaN          NaN       NaN         NaN  \n",
       "3           NaN           NaN          NaN       NaN         NaN  \n",
       "4           NaN           NaN          NaN       NaN         NaN  \n",
       "\n",
       "[5 rows x 1440 columns]"
      ]
     },
     "execution_count": 3,
     "metadata": {},
     "output_type": "execute_result"
    }
   ],
   "source": [
    "data=pd.concat([data10,data11,data12,data13,data14,data15,data16,data17,data18,data19])\n",
    "data.head()"
   ]
  },
  {
   "cell_type": "code",
   "execution_count": 4,
   "metadata": {},
   "outputs": [],
   "source": [
    "# 흡연자, 비흡연자를 나타내는 smoking column 생성\n",
    "\n",
    "smoking_map={\n",
    "    1.0: 1,\n",
    "    2.0: 1,\n",
    "    3.0: 0\n",
    "}\n",
    "# 1은 흡연자, 0은 비흡연자\n",
    "\n",
    "data['smoking'] = data['BS1_1'].map(smoking_map)"
   ]
  },
  {
   "cell_type": "markdown",
   "metadata": {},
   "source": [
    "### 하루평균 흡연량(BS3_2 column) 구간화 진행: \n",
    "###### 1단계: 반갑이내(~10개비)       \n",
    "###### 2단계: 반갑 ~ 한갑 이내( 11~20개비 )\n",
    "###### 3단계: 한갑 ~ 두갑 이내( 21~40개 )             \n",
    "###### 4단계: 두갑 초과( 41개비~ )"
   ]
  },
  {
   "cell_type": "code",
   "execution_count": 5,
   "metadata": {},
   "outputs": [
    {
     "data": {
      "text/plain": [
       "array([888.,  15.,  10.,  nan,  20.,   5.,  30.,   4.,   3.,   2.,   6.,\n",
       "        18.,   1.,   7.,  25.,  13.,  40., 999.,   8.,  35.,  23.,  12.,\n",
       "        11.,  17.,  19.,   9.,  50.,  60.,  33.,  14.,  16.,  28.,  70.,\n",
       "        24.,  45.,  22.,  48.,  55.,  21.,  26.,  38.,  37.,  32.])"
      ]
     },
     "execution_count": 5,
     "metadata": {},
     "output_type": "execute_result"
    }
   ],
   "source": [
    "data.BS3_2.unique()"
   ]
  },
  {
   "cell_type": "code",
   "execution_count": 6,
   "metadata": {},
   "outputs": [
    {
     "data": {
      "text/html": [
       "<div>\n",
       "<style scoped>\n",
       "    .dataframe tbody tr th:only-of-type {\n",
       "        vertical-align: middle;\n",
       "    }\n",
       "\n",
       "    .dataframe tbody tr th {\n",
       "        vertical-align: top;\n",
       "    }\n",
       "\n",
       "    .dataframe thead th {\n",
       "        text-align: right;\n",
       "    }\n",
       "</style>\n",
       "<table border=\"1\" class=\"dataframe\">\n",
       "  <thead>\n",
       "    <tr style=\"text-align: right;\">\n",
       "      <th></th>\n",
       "      <th>mod_d</th>\n",
       "      <th>ID</th>\n",
       "      <th>ID_fam</th>\n",
       "      <th>year</th>\n",
       "      <th>region</th>\n",
       "      <th>town_t</th>\n",
       "      <th>apt_t</th>\n",
       "      <th>psu</th>\n",
       "      <th>sex</th>\n",
       "      <th>age</th>\n",
       "      <th>...</th>\n",
       "      <th>HE_nc</th>\n",
       "      <th>HE_insulin_etc</th>\n",
       "      <th>HE_DM_HbA1c</th>\n",
       "      <th>HE_HBsAg_etc</th>\n",
       "      <th>HE_Ucrea_etc</th>\n",
       "      <th>HE_Ualb_etc</th>\n",
       "      <th>N_FOLATE</th>\n",
       "      <th>LF_SECUR_Y</th>\n",
       "      <th>smoking</th>\n",
       "      <th>smoking_stage</th>\n",
       "    </tr>\n",
       "  </thead>\n",
       "  <tbody>\n",
       "    <tr>\n",
       "      <th>0</th>\n",
       "      <td>2019.03.06.</td>\n",
       "      <td>A308059801</td>\n",
       "      <td>A3080598</td>\n",
       "      <td>2010</td>\n",
       "      <td>1</td>\n",
       "      <td>1</td>\n",
       "      <td>2</td>\n",
       "      <td>A308</td>\n",
       "      <td>1</td>\n",
       "      <td>61</td>\n",
       "      <td>...</td>\n",
       "      <td>NaN</td>\n",
       "      <td>NaN</td>\n",
       "      <td>NaN</td>\n",
       "      <td>NaN</td>\n",
       "      <td>NaN</td>\n",
       "      <td>NaN</td>\n",
       "      <td>NaN</td>\n",
       "      <td>NaN</td>\n",
       "      <td>1.0</td>\n",
       "      <td>NaN</td>\n",
       "    </tr>\n",
       "    <tr>\n",
       "      <th>1</th>\n",
       "      <td>2019.03.06.</td>\n",
       "      <td>A308059802</td>\n",
       "      <td>A3080598</td>\n",
       "      <td>2010</td>\n",
       "      <td>1</td>\n",
       "      <td>1</td>\n",
       "      <td>2</td>\n",
       "      <td>A308</td>\n",
       "      <td>2</td>\n",
       "      <td>54</td>\n",
       "      <td>...</td>\n",
       "      <td>NaN</td>\n",
       "      <td>NaN</td>\n",
       "      <td>NaN</td>\n",
       "      <td>NaN</td>\n",
       "      <td>NaN</td>\n",
       "      <td>NaN</td>\n",
       "      <td>NaN</td>\n",
       "      <td>NaN</td>\n",
       "      <td>0.0</td>\n",
       "      <td>NaN</td>\n",
       "    </tr>\n",
       "    <tr>\n",
       "      <th>2</th>\n",
       "      <td>2019.03.06.</td>\n",
       "      <td>A308120201</td>\n",
       "      <td>A3081202</td>\n",
       "      <td>2010</td>\n",
       "      <td>1</td>\n",
       "      <td>1</td>\n",
       "      <td>2</td>\n",
       "      <td>A308</td>\n",
       "      <td>1</td>\n",
       "      <td>33</td>\n",
       "      <td>...</td>\n",
       "      <td>NaN</td>\n",
       "      <td>NaN</td>\n",
       "      <td>NaN</td>\n",
       "      <td>NaN</td>\n",
       "      <td>NaN</td>\n",
       "      <td>NaN</td>\n",
       "      <td>NaN</td>\n",
       "      <td>NaN</td>\n",
       "      <td>1.0</td>\n",
       "      <td>2단계</td>\n",
       "    </tr>\n",
       "    <tr>\n",
       "      <th>3</th>\n",
       "      <td>2019.03.06.</td>\n",
       "      <td>A308120202</td>\n",
       "      <td>A3081202</td>\n",
       "      <td>2010</td>\n",
       "      <td>1</td>\n",
       "      <td>1</td>\n",
       "      <td>2</td>\n",
       "      <td>A308</td>\n",
       "      <td>2</td>\n",
       "      <td>33</td>\n",
       "      <td>...</td>\n",
       "      <td>NaN</td>\n",
       "      <td>NaN</td>\n",
       "      <td>NaN</td>\n",
       "      <td>NaN</td>\n",
       "      <td>NaN</td>\n",
       "      <td>NaN</td>\n",
       "      <td>NaN</td>\n",
       "      <td>NaN</td>\n",
       "      <td>1.0</td>\n",
       "      <td>NaN</td>\n",
       "    </tr>\n",
       "    <tr>\n",
       "      <th>4</th>\n",
       "      <td>2019.03.06.</td>\n",
       "      <td>A308120203</td>\n",
       "      <td>A3081202</td>\n",
       "      <td>2010</td>\n",
       "      <td>1</td>\n",
       "      <td>1</td>\n",
       "      <td>2</td>\n",
       "      <td>A308</td>\n",
       "      <td>2</td>\n",
       "      <td>4</td>\n",
       "      <td>...</td>\n",
       "      <td>NaN</td>\n",
       "      <td>NaN</td>\n",
       "      <td>NaN</td>\n",
       "      <td>NaN</td>\n",
       "      <td>NaN</td>\n",
       "      <td>NaN</td>\n",
       "      <td>NaN</td>\n",
       "      <td>NaN</td>\n",
       "      <td>NaN</td>\n",
       "      <td>NaN</td>\n",
       "    </tr>\n",
       "  </tbody>\n",
       "</table>\n",
       "<p>5 rows × 1442 columns</p>\n",
       "</div>"
      ],
      "text/plain": [
       "         mod_d          ID    ID_fam  year  region  town_t  apt_t   psu  sex  \\\n",
       "0  2019.03.06.  A308059801  A3080598  2010       1       1      2  A308    1   \n",
       "1  2019.03.06.  A308059802  A3080598  2010       1       1      2  A308    2   \n",
       "2  2019.03.06.  A308120201  A3081202  2010       1       1      2  A308    1   \n",
       "3  2019.03.06.  A308120202  A3081202  2010       1       1      2  A308    2   \n",
       "4  2019.03.06.  A308120203  A3081202  2010       1       1      2  A308    2   \n",
       "\n",
       "   age  ...  HE_nc  HE_insulin_etc  HE_DM_HbA1c  HE_HBsAg_etc  HE_Ucrea_etc  \\\n",
       "0   61  ...    NaN             NaN          NaN           NaN           NaN   \n",
       "1   54  ...    NaN             NaN          NaN           NaN           NaN   \n",
       "2   33  ...    NaN             NaN          NaN           NaN           NaN   \n",
       "3   33  ...    NaN             NaN          NaN           NaN           NaN   \n",
       "4    4  ...    NaN             NaN          NaN           NaN           NaN   \n",
       "\n",
       "   HE_Ualb_etc  N_FOLATE  LF_SECUR_Y  smoking  smoking_stage  \n",
       "0          NaN       NaN         NaN      1.0            NaN  \n",
       "1          NaN       NaN         NaN      0.0            NaN  \n",
       "2          NaN       NaN         NaN      1.0            2단계  \n",
       "3          NaN       NaN         NaN      1.0            NaN  \n",
       "4          NaN       NaN         NaN      NaN            NaN  \n",
       "\n",
       "[5 rows x 1442 columns]"
      ]
     },
     "execution_count": 6,
     "metadata": {},
     "output_type": "execute_result"
    }
   ],
   "source": [
    "smoking_cut = [0, 10, 20, 40, 100]\n",
    "data['smoking_stage'] = pd.cut(data.BS3_2, smoking_cut, labels = ['1단계','2단계', '3단계', '4단계'])\n",
    "data.head()"
   ]
  },
  {
   "cell_type": "code",
   "execution_count": 7,
   "metadata": {},
   "outputs": [],
   "source": [
    "# obesity column 추가\n",
    "\n",
    "obesity_map={\n",
    "    1.0: 0,\n",
    "    2.0: 0.5,\n",
    "    3.0: 1,\n",
    "    4.0: 1,\n",
    "    5.0: 1,\n",
    "    6.0: 1\n",
    "}\n",
    "# 0은 저체중, 0.5는 정상체중, 1은 비만\n",
    "\n",
    "data['obesity'] = data['HE_obe'].map(obesity_map)"
   ]
  },
  {
   "cell_type": "code",
   "execution_count": 8,
   "metadata": {},
   "outputs": [],
   "source": [
    "# stomach_cancer column 추가\n",
    "\n",
    "stomach_cancer_map={\n",
    "    0.0: 0,\n",
    "    1.0: 1\n",
    "}\n",
    "# 1은 위암 진단 받은 사람, 0은 위암에 걸리지 않은 사람\n",
    "\n",
    "data['stomach_cancer'] = data['DC1_dg'].map(stomach_cancer_map)"
   ]
  },
  {
   "cell_type": "code",
   "execution_count": 9,
   "metadata": {},
   "outputs": [],
   "source": [
    "# liver_cancer column 추가\n",
    "\n",
    "liver_cancer_map={\n",
    "    0.0: 0,\n",
    "    1.0: 1\n",
    "}\n",
    "# 1은 간암 진단 받은 사람, 0은 간암에 걸리지 않은 사람\n",
    "\n",
    "data['liver_cancer'] = data['DC2_dg'].map(liver_cancer_map)"
   ]
  },
  {
   "cell_type": "code",
   "execution_count": 10,
   "metadata": {},
   "outputs": [],
   "source": [
    "# lung_cancer column 추가\n",
    "\n",
    "lung_cancer_map={\n",
    "    0.0: 0,\n",
    "    1.0: 1\n",
    "}\n",
    "# 1은 폐암 진단 받은 사람, 0은 폐암에 걸리지 않은 사람\n",
    "\n",
    "data['lung_cancer'] = data['DC6_dg'].map(lung_cancer_map)"
   ]
  },
  {
   "cell_type": "code",
   "execution_count": 11,
   "metadata": {},
   "outputs": [
    {
     "data": {
      "text/html": [
       "<div>\n",
       "<style scoped>\n",
       "    .dataframe tbody tr th:only-of-type {\n",
       "        vertical-align: middle;\n",
       "    }\n",
       "\n",
       "    .dataframe tbody tr th {\n",
       "        vertical-align: top;\n",
       "    }\n",
       "\n",
       "    .dataframe thead th {\n",
       "        text-align: right;\n",
       "    }\n",
       "</style>\n",
       "<table border=\"1\" class=\"dataframe\">\n",
       "  <thead>\n",
       "    <tr style=\"text-align: right;\">\n",
       "      <th></th>\n",
       "      <th>ID</th>\n",
       "      <th>sex</th>\n",
       "      <th>age</th>\n",
       "      <th>smoking</th>\n",
       "      <th>smoking_stage</th>\n",
       "      <th>HE_DMdg</th>\n",
       "      <th>obesity</th>\n",
       "      <th>stomach_cancer</th>\n",
       "      <th>liver_cancer</th>\n",
       "      <th>lung_cancer</th>\n",
       "    </tr>\n",
       "  </thead>\n",
       "  <tbody>\n",
       "    <tr>\n",
       "      <th>0</th>\n",
       "      <td>A308059801</td>\n",
       "      <td>1</td>\n",
       "      <td>61</td>\n",
       "      <td>1.0</td>\n",
       "      <td>NaN</td>\n",
       "      <td>0.0</td>\n",
       "      <td>1.0</td>\n",
       "      <td>NaN</td>\n",
       "      <td>NaN</td>\n",
       "      <td>NaN</td>\n",
       "    </tr>\n",
       "    <tr>\n",
       "      <th>1</th>\n",
       "      <td>A308059802</td>\n",
       "      <td>2</td>\n",
       "      <td>54</td>\n",
       "      <td>0.0</td>\n",
       "      <td>NaN</td>\n",
       "      <td>0.0</td>\n",
       "      <td>0.5</td>\n",
       "      <td>NaN</td>\n",
       "      <td>NaN</td>\n",
       "      <td>NaN</td>\n",
       "    </tr>\n",
       "    <tr>\n",
       "      <th>2</th>\n",
       "      <td>A308120201</td>\n",
       "      <td>1</td>\n",
       "      <td>33</td>\n",
       "      <td>1.0</td>\n",
       "      <td>2단계</td>\n",
       "      <td>0.0</td>\n",
       "      <td>1.0</td>\n",
       "      <td>NaN</td>\n",
       "      <td>NaN</td>\n",
       "      <td>NaN</td>\n",
       "    </tr>\n",
       "    <tr>\n",
       "      <th>3</th>\n",
       "      <td>A308120202</td>\n",
       "      <td>2</td>\n",
       "      <td>33</td>\n",
       "      <td>1.0</td>\n",
       "      <td>NaN</td>\n",
       "      <td>0.0</td>\n",
       "      <td>0.5</td>\n",
       "      <td>NaN</td>\n",
       "      <td>NaN</td>\n",
       "      <td>NaN</td>\n",
       "    </tr>\n",
       "    <tr>\n",
       "      <th>4</th>\n",
       "      <td>A308120203</td>\n",
       "      <td>2</td>\n",
       "      <td>4</td>\n",
       "      <td>NaN</td>\n",
       "      <td>NaN</td>\n",
       "      <td>NaN</td>\n",
       "      <td>NaN</td>\n",
       "      <td>NaN</td>\n",
       "      <td>NaN</td>\n",
       "      <td>NaN</td>\n",
       "    </tr>\n",
       "  </tbody>\n",
       "</table>\n",
       "</div>"
      ],
      "text/plain": [
       "           ID  sex  age  smoking smoking_stage  HE_DMdg  obesity  \\\n",
       "0  A308059801    1   61      1.0           NaN      0.0      1.0   \n",
       "1  A308059802    2   54      0.0           NaN      0.0      0.5   \n",
       "2  A308120201    1   33      1.0           2단계      0.0      1.0   \n",
       "3  A308120202    2   33      1.0           NaN      0.0      0.5   \n",
       "4  A308120203    2    4      NaN           NaN      NaN      NaN   \n",
       "\n",
       "   stomach_cancer  liver_cancer  lung_cancer  \n",
       "0             NaN           NaN          NaN  \n",
       "1             NaN           NaN          NaN  \n",
       "2             NaN           NaN          NaN  \n",
       "3             NaN           NaN          NaN  \n",
       "4             NaN           NaN          NaN  "
      ]
     },
     "execution_count": 11,
     "metadata": {},
     "output_type": "execute_result"
    }
   ],
   "source": [
    "# 필요한 column만을 추출하여 새로운 데이터 프레임 생성\n",
    "\n",
    "data = data.loc[:,['ID','sex','age','smoking','smoking_stage', 'HE_DMdg','obesity','stomach_cancer','liver_cancer','lung_cancer']]\n",
    "data.head()"
   ]
  },
  {
   "cell_type": "code",
   "execution_count": 12,
   "metadata": {},
   "outputs": [
    {
     "data": {
      "text/html": [
       "<div>\n",
       "<style scoped>\n",
       "    .dataframe tbody tr th:only-of-type {\n",
       "        vertical-align: middle;\n",
       "    }\n",
       "\n",
       "    .dataframe tbody tr th {\n",
       "        vertical-align: top;\n",
       "    }\n",
       "\n",
       "    .dataframe thead th {\n",
       "        text-align: right;\n",
       "    }\n",
       "</style>\n",
       "<table border=\"1\" class=\"dataframe\">\n",
       "  <thead>\n",
       "    <tr style=\"text-align: right;\">\n",
       "      <th></th>\n",
       "      <th>ID</th>\n",
       "      <th>sex</th>\n",
       "      <th>age</th>\n",
       "      <th>smoking</th>\n",
       "      <th>smoking_stage</th>\n",
       "      <th>HE_DMdg</th>\n",
       "      <th>obesity</th>\n",
       "      <th>stomach_cancer</th>\n",
       "      <th>liver_cancer</th>\n",
       "      <th>lung_cancer</th>\n",
       "    </tr>\n",
       "  </thead>\n",
       "  <tbody>\n",
       "    <tr>\n",
       "      <th>0</th>\n",
       "      <td>A308059801</td>\n",
       "      <td>1</td>\n",
       "      <td>61</td>\n",
       "      <td>1.0</td>\n",
       "      <td>NaN</td>\n",
       "      <td>0.0</td>\n",
       "      <td>1.0</td>\n",
       "      <td>NaN</td>\n",
       "      <td>NaN</td>\n",
       "      <td>NaN</td>\n",
       "    </tr>\n",
       "    <tr>\n",
       "      <th>1</th>\n",
       "      <td>A308059802</td>\n",
       "      <td>2</td>\n",
       "      <td>54</td>\n",
       "      <td>0.0</td>\n",
       "      <td>NaN</td>\n",
       "      <td>0.0</td>\n",
       "      <td>0.5</td>\n",
       "      <td>NaN</td>\n",
       "      <td>NaN</td>\n",
       "      <td>NaN</td>\n",
       "    </tr>\n",
       "    <tr>\n",
       "      <th>2</th>\n",
       "      <td>A308120201</td>\n",
       "      <td>1</td>\n",
       "      <td>33</td>\n",
       "      <td>1.0</td>\n",
       "      <td>2단계</td>\n",
       "      <td>0.0</td>\n",
       "      <td>1.0</td>\n",
       "      <td>NaN</td>\n",
       "      <td>NaN</td>\n",
       "      <td>NaN</td>\n",
       "    </tr>\n",
       "    <tr>\n",
       "      <th>3</th>\n",
       "      <td>A308120202</td>\n",
       "      <td>2</td>\n",
       "      <td>33</td>\n",
       "      <td>1.0</td>\n",
       "      <td>NaN</td>\n",
       "      <td>0.0</td>\n",
       "      <td>0.5</td>\n",
       "      <td>NaN</td>\n",
       "      <td>NaN</td>\n",
       "      <td>NaN</td>\n",
       "    </tr>\n",
       "    <tr>\n",
       "      <th>5</th>\n",
       "      <td>A308199801</td>\n",
       "      <td>1</td>\n",
       "      <td>65</td>\n",
       "      <td>1.0</td>\n",
       "      <td>NaN</td>\n",
       "      <td>0.0</td>\n",
       "      <td>0.5</td>\n",
       "      <td>NaN</td>\n",
       "      <td>NaN</td>\n",
       "      <td>NaN</td>\n",
       "    </tr>\n",
       "  </tbody>\n",
       "</table>\n",
       "</div>"
      ],
      "text/plain": [
       "           ID  sex  age  smoking smoking_stage  HE_DMdg  obesity  \\\n",
       "0  A308059801    1   61      1.0           NaN      0.0      1.0   \n",
       "1  A308059802    2   54      0.0           NaN      0.0      0.5   \n",
       "2  A308120201    1   33      1.0           2단계      0.0      1.0   \n",
       "3  A308120202    2   33      1.0           NaN      0.0      0.5   \n",
       "5  A308199801    1   65      1.0           NaN      0.0      0.5   \n",
       "\n",
       "   stomach_cancer  liver_cancer  lung_cancer  \n",
       "0             NaN           NaN          NaN  \n",
       "1             NaN           NaN          NaN  \n",
       "2             NaN           NaN          NaN  \n",
       "3             NaN           NaN          NaN  \n",
       "5             NaN           NaN          NaN  "
      ]
     },
     "execution_count": 12,
     "metadata": {},
     "output_type": "execute_result"
    }
   ],
   "source": [
    "data = data[data['smoking'].notna()]\n",
    "data.head()"
   ]
  },
  {
   "cell_type": "code",
   "execution_count": 13,
   "metadata": {},
   "outputs": [
    {
     "data": {
      "text/html": [
       "<div>\n",
       "<style scoped>\n",
       "    .dataframe tbody tr th:only-of-type {\n",
       "        vertical-align: middle;\n",
       "    }\n",
       "\n",
       "    .dataframe tbody tr th {\n",
       "        vertical-align: top;\n",
       "    }\n",
       "\n",
       "    .dataframe thead th {\n",
       "        text-align: right;\n",
       "    }\n",
       "</style>\n",
       "<table border=\"1\" class=\"dataframe\">\n",
       "  <thead>\n",
       "    <tr style=\"text-align: right;\">\n",
       "      <th></th>\n",
       "      <th>ID</th>\n",
       "      <th>sex</th>\n",
       "      <th>age</th>\n",
       "      <th>smoking</th>\n",
       "      <th>smoking_stage</th>\n",
       "      <th>diabetes</th>\n",
       "      <th>obesity</th>\n",
       "      <th>stomach_cancer</th>\n",
       "      <th>liver_cancer</th>\n",
       "      <th>lung_cancer</th>\n",
       "    </tr>\n",
       "  </thead>\n",
       "  <tbody>\n",
       "    <tr>\n",
       "      <th>0</th>\n",
       "      <td>A308059801</td>\n",
       "      <td>1</td>\n",
       "      <td>61</td>\n",
       "      <td>1.0</td>\n",
       "      <td>NaN</td>\n",
       "      <td>0.0</td>\n",
       "      <td>1.0</td>\n",
       "      <td>NaN</td>\n",
       "      <td>NaN</td>\n",
       "      <td>NaN</td>\n",
       "    </tr>\n",
       "    <tr>\n",
       "      <th>1</th>\n",
       "      <td>A308059802</td>\n",
       "      <td>2</td>\n",
       "      <td>54</td>\n",
       "      <td>0.0</td>\n",
       "      <td>NaN</td>\n",
       "      <td>0.0</td>\n",
       "      <td>0.5</td>\n",
       "      <td>NaN</td>\n",
       "      <td>NaN</td>\n",
       "      <td>NaN</td>\n",
       "    </tr>\n",
       "    <tr>\n",
       "      <th>2</th>\n",
       "      <td>A308120201</td>\n",
       "      <td>1</td>\n",
       "      <td>33</td>\n",
       "      <td>1.0</td>\n",
       "      <td>2단계</td>\n",
       "      <td>0.0</td>\n",
       "      <td>1.0</td>\n",
       "      <td>NaN</td>\n",
       "      <td>NaN</td>\n",
       "      <td>NaN</td>\n",
       "    </tr>\n",
       "    <tr>\n",
       "      <th>3</th>\n",
       "      <td>A308120202</td>\n",
       "      <td>2</td>\n",
       "      <td>33</td>\n",
       "      <td>1.0</td>\n",
       "      <td>NaN</td>\n",
       "      <td>0.0</td>\n",
       "      <td>0.5</td>\n",
       "      <td>NaN</td>\n",
       "      <td>NaN</td>\n",
       "      <td>NaN</td>\n",
       "    </tr>\n",
       "    <tr>\n",
       "      <th>5</th>\n",
       "      <td>A308199801</td>\n",
       "      <td>1</td>\n",
       "      <td>65</td>\n",
       "      <td>1.0</td>\n",
       "      <td>NaN</td>\n",
       "      <td>0.0</td>\n",
       "      <td>0.5</td>\n",
       "      <td>NaN</td>\n",
       "      <td>NaN</td>\n",
       "      <td>NaN</td>\n",
       "    </tr>\n",
       "  </tbody>\n",
       "</table>\n",
       "</div>"
      ],
      "text/plain": [
       "           ID  sex  age  smoking smoking_stage  diabetes  obesity  \\\n",
       "0  A308059801    1   61      1.0           NaN       0.0      1.0   \n",
       "1  A308059802    2   54      0.0           NaN       0.0      0.5   \n",
       "2  A308120201    1   33      1.0           2단계       0.0      1.0   \n",
       "3  A308120202    2   33      1.0           NaN       0.0      0.5   \n",
       "5  A308199801    1   65      1.0           NaN       0.0      0.5   \n",
       "\n",
       "   stomach_cancer  liver_cancer  lung_cancer  \n",
       "0             NaN           NaN          NaN  \n",
       "1             NaN           NaN          NaN  \n",
       "2             NaN           NaN          NaN  \n",
       "3             NaN           NaN          NaN  \n",
       "5             NaN           NaN          NaN  "
      ]
     },
     "execution_count": 13,
     "metadata": {},
     "output_type": "execute_result"
    }
   ],
   "source": [
    "data = data.rename(columns = {'HE_DMdg':'diabetes'})\n",
    "data.head()"
   ]
  },
  {
   "cell_type": "code",
   "execution_count": 14,
   "metadata": {},
   "outputs": [
    {
     "data": {
      "text/plain": [
       "58312"
      ]
     },
     "execution_count": 14,
     "metadata": {},
     "output_type": "execute_result"
    }
   ],
   "source": [
    "len(data)"
   ]
  },
  {
   "cell_type": "code",
   "execution_count": 15,
   "metadata": {},
   "outputs": [
    {
     "data": {
      "text/html": [
       "<div>\n",
       "<style scoped>\n",
       "    .dataframe tbody tr th:only-of-type {\n",
       "        vertical-align: middle;\n",
       "    }\n",
       "\n",
       "    .dataframe tbody tr th {\n",
       "        vertical-align: top;\n",
       "    }\n",
       "\n",
       "    .dataframe thead th {\n",
       "        text-align: right;\n",
       "    }\n",
       "</style>\n",
       "<table border=\"1\" class=\"dataframe\">\n",
       "  <thead>\n",
       "    <tr style=\"text-align: right;\">\n",
       "      <th></th>\n",
       "      <th>ID</th>\n",
       "      <th>sex</th>\n",
       "      <th>age</th>\n",
       "      <th>smoking</th>\n",
       "      <th>smoking_stage</th>\n",
       "      <th>diabetes</th>\n",
       "      <th>obesity</th>\n",
       "      <th>stomach_cancer</th>\n",
       "      <th>liver_cancer</th>\n",
       "      <th>lung_cancer</th>\n",
       "    </tr>\n",
       "  </thead>\n",
       "  <tbody>\n",
       "    <tr>\n",
       "      <th>1</th>\n",
       "      <td>A159723016</td>\n",
       "      <td>1</td>\n",
       "      <td>29</td>\n",
       "      <td>1.0</td>\n",
       "      <td>NaN</td>\n",
       "      <td>0.0</td>\n",
       "      <td>1.0</td>\n",
       "      <td>0.0</td>\n",
       "      <td>0.0</td>\n",
       "      <td>0.0</td>\n",
       "    </tr>\n",
       "    <tr>\n",
       "      <th>4</th>\n",
       "      <td>A159724715</td>\n",
       "      <td>1</td>\n",
       "      <td>47</td>\n",
       "      <td>1.0</td>\n",
       "      <td>NaN</td>\n",
       "      <td>0.0</td>\n",
       "      <td>1.0</td>\n",
       "      <td>0.0</td>\n",
       "      <td>0.0</td>\n",
       "      <td>0.0</td>\n",
       "    </tr>\n",
       "    <tr>\n",
       "      <th>5</th>\n",
       "      <td>A159724716</td>\n",
       "      <td>2</td>\n",
       "      <td>36</td>\n",
       "      <td>0.0</td>\n",
       "      <td>NaN</td>\n",
       "      <td>0.0</td>\n",
       "      <td>0.5</td>\n",
       "      <td>0.0</td>\n",
       "      <td>0.0</td>\n",
       "      <td>0.0</td>\n",
       "    </tr>\n",
       "    <tr>\n",
       "      <th>6</th>\n",
       "      <td>A159726414</td>\n",
       "      <td>2</td>\n",
       "      <td>28</td>\n",
       "      <td>0.0</td>\n",
       "      <td>NaN</td>\n",
       "      <td>0.0</td>\n",
       "      <td>0.5</td>\n",
       "      <td>0.0</td>\n",
       "      <td>0.0</td>\n",
       "      <td>0.0</td>\n",
       "    </tr>\n",
       "    <tr>\n",
       "      <th>7</th>\n",
       "      <td>A159726415</td>\n",
       "      <td>2</td>\n",
       "      <td>59</td>\n",
       "      <td>0.0</td>\n",
       "      <td>NaN</td>\n",
       "      <td>0.0</td>\n",
       "      <td>0.5</td>\n",
       "      <td>0.0</td>\n",
       "      <td>0.0</td>\n",
       "      <td>0.0</td>\n",
       "    </tr>\n",
       "  </tbody>\n",
       "</table>\n",
       "</div>"
      ],
      "text/plain": [
       "           ID  sex  age  smoking smoking_stage  diabetes  obesity  \\\n",
       "1  A159723016    1   29      1.0           NaN       0.0      1.0   \n",
       "4  A159724715    1   47      1.0           NaN       0.0      1.0   \n",
       "5  A159724716    2   36      0.0           NaN       0.0      0.5   \n",
       "6  A159726414    2   28      0.0           NaN       0.0      0.5   \n",
       "7  A159726415    2   59      0.0           NaN       0.0      0.5   \n",
       "\n",
       "   stomach_cancer  liver_cancer  lung_cancer  \n",
       "1             0.0           0.0          0.0  \n",
       "4             0.0           0.0          0.0  \n",
       "5             0.0           0.0          0.0  \n",
       "6             0.0           0.0          0.0  \n",
       "7             0.0           0.0          0.0  "
      ]
     },
     "execution_count": 15,
     "metadata": {},
     "output_type": "execute_result"
    }
   ],
   "source": [
    "# 열을 지정하여 결측값(NaN)이 포함한 행을 제거\n",
    "\n",
    "data = data[data['smoking'].notna()]\n",
    "data = data[data['obesity'].notna()]\n",
    "data = data[data['stomach_cancer'].notna()]\n",
    "data = data[data['liver_cancer'].notna()]\n",
    "data = data[data['lung_cancer'].notna()]\n",
    "data.head()"
   ]
  },
  {
   "cell_type": "code",
   "execution_count": 82,
   "metadata": {},
   "outputs": [
    {
     "data": {
      "text/plain": [
       "38588"
      ]
     },
     "execution_count": 82,
     "metadata": {},
     "output_type": "execute_result"
    }
   ],
   "source": [
    "len(data)"
   ]
  },
  {
   "cell_type": "code",
   "execution_count": 17,
   "metadata": {},
   "outputs": [
    {
     "data": {
      "text/plain": [
       "15253"
      ]
     },
     "execution_count": 17,
     "metadata": {},
     "output_type": "execute_result"
    }
   ],
   "source": [
    "(data.smoking == 1).sum()  # 흡연자 수"
   ]
  },
  {
   "cell_type": "code",
   "execution_count": 18,
   "metadata": {},
   "outputs": [
    {
     "data": {
      "text/plain": [
       "23335"
      ]
     },
     "execution_count": 18,
     "metadata": {},
     "output_type": "execute_result"
    }
   ],
   "source": [
    "(data.smoking == 0).sum() # 비흡연자 수"
   ]
  },
  {
   "cell_type": "code",
   "execution_count": 83,
   "metadata": {},
   "outputs": [
    {
     "data": {
      "text/html": [
       "<div>\n",
       "<style scoped>\n",
       "    .dataframe tbody tr th:only-of-type {\n",
       "        vertical-align: middle;\n",
       "    }\n",
       "\n",
       "    .dataframe tbody tr th {\n",
       "        vertical-align: top;\n",
       "    }\n",
       "\n",
       "    .dataframe thead th {\n",
       "        text-align: right;\n",
       "    }\n",
       "</style>\n",
       "<table border=\"1\" class=\"dataframe\">\n",
       "  <thead>\n",
       "    <tr style=\"text-align: right;\">\n",
       "      <th></th>\n",
       "      <th>ID</th>\n",
       "      <th>sex</th>\n",
       "      <th>age</th>\n",
       "      <th>smoking</th>\n",
       "      <th>smoking_stage</th>\n",
       "      <th>diabetes</th>\n",
       "      <th>obesity</th>\n",
       "      <th>stomach_cancer</th>\n",
       "      <th>liver_cancer</th>\n",
       "      <th>lung_cancer</th>\n",
       "    </tr>\n",
       "  </thead>\n",
       "  <tbody>\n",
       "    <tr>\n",
       "      <th>1</th>\n",
       "      <td>A159723016</td>\n",
       "      <td>1</td>\n",
       "      <td>29</td>\n",
       "      <td>1.0</td>\n",
       "      <td>NaN</td>\n",
       "      <td>0.0</td>\n",
       "      <td>1.0</td>\n",
       "      <td>0.0</td>\n",
       "      <td>0.0</td>\n",
       "      <td>0.0</td>\n",
       "    </tr>\n",
       "    <tr>\n",
       "      <th>4</th>\n",
       "      <td>A159724715</td>\n",
       "      <td>1</td>\n",
       "      <td>47</td>\n",
       "      <td>1.0</td>\n",
       "      <td>NaN</td>\n",
       "      <td>0.0</td>\n",
       "      <td>1.0</td>\n",
       "      <td>0.0</td>\n",
       "      <td>0.0</td>\n",
       "      <td>0.0</td>\n",
       "    </tr>\n",
       "    <tr>\n",
       "      <th>5</th>\n",
       "      <td>A159724716</td>\n",
       "      <td>2</td>\n",
       "      <td>36</td>\n",
       "      <td>0.0</td>\n",
       "      <td>NaN</td>\n",
       "      <td>0.0</td>\n",
       "      <td>0.5</td>\n",
       "      <td>0.0</td>\n",
       "      <td>0.0</td>\n",
       "      <td>0.0</td>\n",
       "    </tr>\n",
       "    <tr>\n",
       "      <th>6</th>\n",
       "      <td>A159726414</td>\n",
       "      <td>2</td>\n",
       "      <td>28</td>\n",
       "      <td>0.0</td>\n",
       "      <td>NaN</td>\n",
       "      <td>0.0</td>\n",
       "      <td>0.5</td>\n",
       "      <td>0.0</td>\n",
       "      <td>0.0</td>\n",
       "      <td>0.0</td>\n",
       "    </tr>\n",
       "    <tr>\n",
       "      <th>7</th>\n",
       "      <td>A159726415</td>\n",
       "      <td>2</td>\n",
       "      <td>59</td>\n",
       "      <td>0.0</td>\n",
       "      <td>NaN</td>\n",
       "      <td>0.0</td>\n",
       "      <td>0.5</td>\n",
       "      <td>0.0</td>\n",
       "      <td>0.0</td>\n",
       "      <td>0.0</td>\n",
       "    </tr>\n",
       "    <tr>\n",
       "      <th>...</th>\n",
       "      <td>...</td>\n",
       "      <td>...</td>\n",
       "      <td>...</td>\n",
       "      <td>...</td>\n",
       "      <td>...</td>\n",
       "      <td>...</td>\n",
       "      <td>...</td>\n",
       "      <td>...</td>\n",
       "      <td>...</td>\n",
       "      <td>...</td>\n",
       "    </tr>\n",
       "    <tr>\n",
       "      <th>8103</th>\n",
       "      <td>R504375103</td>\n",
       "      <td>2</td>\n",
       "      <td>26</td>\n",
       "      <td>0.0</td>\n",
       "      <td>NaN</td>\n",
       "      <td>0.0</td>\n",
       "      <td>0.5</td>\n",
       "      <td>0.0</td>\n",
       "      <td>0.0</td>\n",
       "      <td>0.0</td>\n",
       "    </tr>\n",
       "    <tr>\n",
       "      <th>8104</th>\n",
       "      <td>R504380201</td>\n",
       "      <td>1</td>\n",
       "      <td>62</td>\n",
       "      <td>1.0</td>\n",
       "      <td>NaN</td>\n",
       "      <td>0.0</td>\n",
       "      <td>0.5</td>\n",
       "      <td>0.0</td>\n",
       "      <td>0.0</td>\n",
       "      <td>0.0</td>\n",
       "    </tr>\n",
       "    <tr>\n",
       "      <th>8105</th>\n",
       "      <td>R504381902</td>\n",
       "      <td>2</td>\n",
       "      <td>48</td>\n",
       "      <td>0.0</td>\n",
       "      <td>NaN</td>\n",
       "      <td>0.0</td>\n",
       "      <td>0.5</td>\n",
       "      <td>0.0</td>\n",
       "      <td>0.0</td>\n",
       "      <td>0.0</td>\n",
       "    </tr>\n",
       "    <tr>\n",
       "      <th>8106</th>\n",
       "      <td>R504393801</td>\n",
       "      <td>1</td>\n",
       "      <td>47</td>\n",
       "      <td>0.0</td>\n",
       "      <td>NaN</td>\n",
       "      <td>0.0</td>\n",
       "      <td>0.5</td>\n",
       "      <td>0.0</td>\n",
       "      <td>0.0</td>\n",
       "      <td>0.0</td>\n",
       "    </tr>\n",
       "    <tr>\n",
       "      <th>8107</th>\n",
       "      <td>R504393802</td>\n",
       "      <td>2</td>\n",
       "      <td>43</td>\n",
       "      <td>0.0</td>\n",
       "      <td>NaN</td>\n",
       "      <td>0.0</td>\n",
       "      <td>0.0</td>\n",
       "      <td>0.0</td>\n",
       "      <td>0.0</td>\n",
       "      <td>0.0</td>\n",
       "    </tr>\n",
       "  </tbody>\n",
       "</table>\n",
       "<p>38588 rows × 10 columns</p>\n",
       "</div>"
      ],
      "text/plain": [
       "              ID  sex  age  smoking smoking_stage  diabetes  obesity  \\\n",
       "1     A159723016    1   29      1.0           NaN       0.0      1.0   \n",
       "4     A159724715    1   47      1.0           NaN       0.0      1.0   \n",
       "5     A159724716    2   36      0.0           NaN       0.0      0.5   \n",
       "6     A159726414    2   28      0.0           NaN       0.0      0.5   \n",
       "7     A159726415    2   59      0.0           NaN       0.0      0.5   \n",
       "...          ...  ...  ...      ...           ...       ...      ...   \n",
       "8103  R504375103    2   26      0.0           NaN       0.0      0.5   \n",
       "8104  R504380201    1   62      1.0           NaN       0.0      0.5   \n",
       "8105  R504381902    2   48      0.0           NaN       0.0      0.5   \n",
       "8106  R504393801    1   47      0.0           NaN       0.0      0.5   \n",
       "8107  R504393802    2   43      0.0           NaN       0.0      0.0   \n",
       "\n",
       "      stomach_cancer  liver_cancer  lung_cancer  \n",
       "1                0.0           0.0          0.0  \n",
       "4                0.0           0.0          0.0  \n",
       "5                0.0           0.0          0.0  \n",
       "6                0.0           0.0          0.0  \n",
       "7                0.0           0.0          0.0  \n",
       "...              ...           ...          ...  \n",
       "8103             0.0           0.0          0.0  \n",
       "8104             0.0           0.0          0.0  \n",
       "8105             0.0           0.0          0.0  \n",
       "8106             0.0           0.0          0.0  \n",
       "8107             0.0           0.0          0.0  \n",
       "\n",
       "[38588 rows x 10 columns]"
      ]
     },
     "execution_count": 83,
     "metadata": {},
     "output_type": "execute_result"
    }
   ],
   "source": [
    "data"
   ]
  },
  {
   "cell_type": "markdown",
   "metadata": {},
   "source": [
    "## 성별에 따른 흡연자의 비율"
   ]
  },
  {
   "cell_type": "code",
   "execution_count": 19,
   "metadata": {},
   "outputs": [
    {
     "data": {
      "text/plain": [
       "sex\n",
       "1    0.768812\n",
       "2    0.109347\n",
       "Name: smoking, dtype: float64"
      ]
     },
     "execution_count": 19,
     "metadata": {},
     "output_type": "execute_result"
    }
   ],
   "source": [
    "sex_smoking_ratio = data.groupby('sex').smoking.mean()\n",
    "sex_smoking_ratio"
   ]
  },
  {
   "cell_type": "code",
   "execution_count": 20,
   "metadata": {},
   "outputs": [
    {
     "data": {
      "text/plain": [
       "Text(0, 0.5, 'sex_smoking_ratio')"
      ]
     },
     "execution_count": 20,
     "metadata": {},
     "output_type": "execute_result"
    },
    {
     "data": {
      "image/png": "[encoded data removed]",
      "text/plain": [
       "<Figure size 288x288 with 1 Axes>"
      ]
     },
     "metadata": {
      "needs_background": "light"
     },
     "output_type": "display_data"
    }
   ],
   "source": [
    "sex_group = ['M','F']\n",
    "\n",
    "plt.figure(figsize = (4, 4))\n",
    "plt.bar(sex_group, sex_smoking_ratio, width = 0.4)\n",
    "\n",
    "plt.xlabel('sex')\n",
    "plt.ylabel('sex_smoking_ratio')"
   ]
  },
  {
   "cell_type": "code",
   "execution_count": 22,
   "metadata": {},
   "outputs": [
    {
     "data": {
      "text/plain": [
       "[176.54218982356767, 0.0]"
      ]
     },
     "execution_count": 22,
     "metadata": {},
     "output_type": "execute_result"
    }
   ],
   "source": [
    "[t_stat, p] = stats.ttest_ind(data[data.sex == 1.0].smoking, data[data.sex == 2.0].smoking)\n",
    "[t_stat, p]\n",
    "#  통계적으로 유의한 차이(p < 0.05)가 난다."
   ]
  },
  {
   "cell_type": "markdown",
   "metadata": {},
   "source": [
    "## 흡연 여부에 따른 당뇨병의 비율"
   ]
  },
  {
   "cell_type": "code",
   "execution_count": 23,
   "metadata": {},
   "outputs": [
    {
     "data": {
      "text/plain": [
       "smoking\n",
       "0.0    0.084123\n",
       "1.0    0.107126\n",
       "Name: diabetes, dtype: float64"
      ]
     },
     "execution_count": 23,
     "metadata": {},
     "output_type": "execute_result"
    }
   ],
   "source": [
    "dia_ratio = data.groupby('smoking')['diabetes'].mean() #흡연자(1),비흡연자(0) 각각의 당뇨병 환자의 비율\n",
    "dia_ratio"
   ]
  },
  {
   "cell_type": "code",
   "execution_count": 24,
   "metadata": {},
   "outputs": [
    {
     "data": {
      "text/plain": [
       "Text(0, 0.5, 'diabetes ratio')"
      ]
     },
     "execution_count": 24,
     "metadata": {},
     "output_type": "execute_result"
    },
    {
     "data": {
      "image/png": "[encoded data removed]",
      "text/plain": [
       "<Figure size 288x288 with 1 Axes>"
      ]
     },
     "metadata": {
      "needs_background": "light"
     },
     "output_type": "display_data"
    }
   ],
   "source": [
    "smoking_group = ['non_smoker', 'smoker']\n",
    "\n",
    "plt.figure(figsize = (4, 4))\n",
    "plt.bar(smoking_group, dia_ratio, width = 0.4)\n",
    "\n",
    "plt.xlabel('smoking')\n",
    "plt.ylabel('diabetes ratio')"
   ]
  },
  {
   "cell_type": "code",
   "execution_count": 26,
   "metadata": {},
   "outputs": [
    {
     "data": {
      "text/plain": [
       "[-7.604571921894337, 2.923205147355777e-14]"
      ]
     },
     "execution_count": 26,
     "metadata": {},
     "output_type": "execute_result"
    }
   ],
   "source": [
    "[t_stat, p] = stats.ttest_ind(data[data.smoking == 0.0].diabetes, data[data.smoking == 1.0].diabetes)\n",
    "[t_stat, p]\n",
    "#  통계적으로 유의한 차이(p < 0.05)가 난다."
   ]
  },
  {
   "cell_type": "code",
   "execution_count": 49,
   "metadata": {},
   "outputs": [
    {
     "data": {
      "text/plain": [
       "0.09321550741163055"
      ]
     },
     "execution_count": 49,
     "metadata": {},
     "output_type": "execute_result"
    }
   ],
   "source": [
    "# 전체에서 당뇨의 비율\n",
    "(data['diabetes']==1.0).sum()/len(data)"
   ]
  },
  {
   "cell_type": "code",
   "execution_count": 50,
   "metadata": {},
   "outputs": [
    {
     "data": {
      "text/plain": [
       "0.9067844925883695"
      ]
     },
     "execution_count": 50,
     "metadata": {},
     "output_type": "execute_result"
    }
   ],
   "source": [
    "# 전체에서 당뇨가 아닌 사람의 비율\n",
    "(data['diabetes']==0.0).sum()/len(data)"
   ]
  },
  {
   "cell_type": "markdown",
   "metadata": {},
   "source": [
    "#### >> 비율값 자체가 적은 이유는 당뇨병 환자의 데이터 자체가 매우 적기 때문이다."
   ]
  },
  {
   "cell_type": "markdown",
   "metadata": {},
   "source": [
    "## 흡연 여부에 따른 비만의 비율"
   ]
  },
  {
   "cell_type": "code",
   "execution_count": 39,
   "metadata": {},
   "outputs": [
    {
     "data": {
      "text/plain": [
       "smoking\n",
       "0.0    0.681423\n",
       "1.0    0.731463\n",
       "Name: obesity, dtype: float64"
      ]
     },
     "execution_count": 39,
     "metadata": {},
     "output_type": "execute_result"
    }
   ],
   "source": [
    "obs_ratio = data.groupby('smoking')['obesity'].mean() #흡연자(1),비흡연자(0) 각각의 비만의 비율\n",
    "obs_ratio"
   ]
  },
  {
   "cell_type": "code",
   "execution_count": 40,
   "metadata": {},
   "outputs": [
    {
     "data": {
      "text/plain": [
       "Text(0, 0.5, 'obesity ratio')"
      ]
     },
     "execution_count": 40,
     "metadata": {},
     "output_type": "execute_result"
    },
    {
     "data": {
      "image/png": "[encoded data removed]",
      "text/plain": [
       "<Figure size 288x288 with 1 Axes>"
      ]
     },
     "metadata": {
      "needs_background": "light"
     },
     "output_type": "display_data"
    }
   ],
   "source": [
    "plt.figure(figsize = (4, 4))\n",
    "plt.bar(smoking_group, obs_ratio, width = 0.4)\n",
    "\n",
    "plt.xlabel('smoking')\n",
    "plt.ylabel('obesity ratio')"
   ]
  },
  {
   "cell_type": "code",
   "execution_count": 42,
   "metadata": {
    "scrolled": true
   },
   "outputs": [
    {
     "data": {
      "text/plain": [
       "[-17.02612945502385, 9.070454805315772e-65]"
      ]
     },
     "execution_count": 42,
     "metadata": {},
     "output_type": "execute_result"
    }
   ],
   "source": [
    "[t_stat, p] = stats.ttest_ind(data[data.smoking == 0.0].obesity, data[data.smoking == 1.0].obesity)\n",
    "[t_stat, p]\n",
    "#  통계적으로 유의한 차이(p < 0.05)가 난다."
   ]
  },
  {
   "cell_type": "markdown",
   "metadata": {},
   "source": [
    "# 흡연에 따른 3대암(위암, 간암, 폐암) 환자의 비율"
   ]
  },
  {
   "cell_type": "markdown",
   "metadata": {},
   "source": [
    "## 흡연 여부에 따른 위암의 비율"
   ]
  },
  {
   "cell_type": "code",
   "execution_count": 43,
   "metadata": {},
   "outputs": [
    {
     "data": {
      "text/plain": [
       "smoking\n",
       "0.0    0.006514\n",
       "1.0    0.012653\n",
       "Name: stomach_cancer, dtype: float64"
      ]
     },
     "execution_count": 43,
     "metadata": {},
     "output_type": "execute_result"
    }
   ],
   "source": [
    "stomach_cancer_ratio = data.groupby('smoking')['stomach_cancer'].mean() #흡연자(1),비흡연자(0) 각각의 위암 환자의 비율\n",
    "stomach_cancer_ratio"
   ]
  },
  {
   "cell_type": "code",
   "execution_count": 44,
   "metadata": {},
   "outputs": [
    {
     "data": {
      "text/plain": [
       "Text(0, 0.5, 'stomach_cancer_ratio')"
      ]
     },
     "execution_count": 44,
     "metadata": {},
     "output_type": "execute_result"
    },
    {
     "data": {
      "image/png": "[encoded data removed]",
      "text/plain": [
       "<Figure size 288x288 with 1 Axes>"
      ]
     },
     "metadata": {
      "needs_background": "light"
     },
     "output_type": "display_data"
    }
   ],
   "source": [
    "plt.figure(figsize = (4, 4))\n",
    "plt.bar(smoking_group, stomach_cancer_ratio, width = 0.4)\n",
    "\n",
    "plt.xlabel('smoking')\n",
    "plt.ylabel('stomach_cancer_ratio')"
   ]
  },
  {
   "cell_type": "code",
   "execution_count": 46,
   "metadata": {},
   "outputs": [
    {
     "data": {
      "text/plain": [
       "[-6.2670004368964, 3.719507666853017e-10]"
      ]
     },
     "execution_count": 46,
     "metadata": {},
     "output_type": "execute_result"
    }
   ],
   "source": [
    "[t_stat, p] = stats.ttest_ind(data[data.smoking == 0.0].stomach_cancer, data[data.smoking == 1.0].stomach_cancer)\n",
    "[t_stat, p]\n",
    "#  통계적으로 유의한 차이(p < 0.05)가 난다."
   ]
  },
  {
   "cell_type": "code",
   "execution_count": 51,
   "metadata": {},
   "outputs": [
    {
     "data": {
      "text/plain": [
       "0.008940603296361564"
      ]
     },
     "execution_count": 51,
     "metadata": {},
     "output_type": "execute_result"
    }
   ],
   "source": [
    "# 전체에서 위암의 비율\n",
    "(data['stomach_cancer']==1.0).sum()/len(data)"
   ]
  },
  {
   "cell_type": "code",
   "execution_count": 52,
   "metadata": {},
   "outputs": [
    {
     "data": {
      "text/plain": [
       "0.9910593967036384"
      ]
     },
     "execution_count": 52,
     "metadata": {},
     "output_type": "execute_result"
    }
   ],
   "source": [
    "# 전체에서 위암이 아닌 사람의 비율\n",
    "(data['stomach_cancer']==0.0).sum()/len(data)"
   ]
  },
  {
   "cell_type": "markdown",
   "metadata": {},
   "source": [
    "#### >> 비율값 자체가 적은 이유는 위암 환자의 데이터 자체가 매우 적기 때문이다."
   ]
  },
  {
   "cell_type": "markdown",
   "metadata": {},
   "source": [
    "## 흡연 여부에 따른 간암의 비율"
   ]
  },
  {
   "cell_type": "code",
   "execution_count": 56,
   "metadata": {},
   "outputs": [
    {
     "data": {
      "text/plain": [
       "smoking\n",
       "0.0    0.000686\n",
       "1.0    0.002229\n",
       "Name: liver_cancer, dtype: float64"
      ]
     },
     "execution_count": 56,
     "metadata": {},
     "output_type": "execute_result"
    }
   ],
   "source": [
    "liver_cancer_ratio = data.groupby('smoking')['liver_cancer'].mean()\n",
    "liver_cancer_ratio"
   ]
  },
  {
   "cell_type": "code",
   "execution_count": 57,
   "metadata": {},
   "outputs": [
    {
     "data": {
      "text/plain": [
       "Text(0, 0.5, 'liver_cancer_ratio')"
      ]
     },
     "execution_count": 57,
     "metadata": {},
     "output_type": "execute_result"
    },
    {
     "data": {
      "image/png": "[encoded data removed]",
      "text/plain": [
       "<Figure size 288x288 with 1 Axes>"
      ]
     },
     "metadata": {
      "needs_background": "light"
     },
     "output_type": "display_data"
    }
   ],
   "source": [
    "plt.figure(figsize = (4, 4))\n",
    "plt.bar(smoking_group, liver_cancer_ratio, width = 0.4)\n",
    "\n",
    "plt.xlabel('smoking')\n",
    "plt.ylabel('liver_cancer_ratio')"
   ]
  },
  {
   "cell_type": "code",
   "execution_count": 58,
   "metadata": {},
   "outputs": [
    {
     "data": {
      "text/plain": [
       "[-4.121374943001032, 3.774037533428494e-05]"
      ]
     },
     "execution_count": 58,
     "metadata": {},
     "output_type": "execute_result"
    }
   ],
   "source": [
    "[t_stat, p] = stats.ttest_ind(data[data.smoking == 0.0].liver_cancer, data[data.smoking == 1.0].liver_cancer)\n",
    "[t_stat, p]\n",
    "#  통계적으로 유의한 차이(p < 0.05)가 난다."
   ]
  },
  {
   "cell_type": "code",
   "execution_count": 59,
   "metadata": {},
   "outputs": [
    {
     "data": {
      "text/plain": [
       "0.0012957396081683425"
      ]
     },
     "execution_count": 59,
     "metadata": {},
     "output_type": "execute_result"
    }
   ],
   "source": [
    "# 전체에서 간암의 비율\n",
    "(data['liver_cancer']==1.0).sum()/len(data)"
   ]
  },
  {
   "cell_type": "code",
   "execution_count": 60,
   "metadata": {},
   "outputs": [
    {
     "data": {
      "text/plain": [
       "0.9987042603918317"
      ]
     },
     "execution_count": 60,
     "metadata": {},
     "output_type": "execute_result"
    }
   ],
   "source": [
    "# 전체에서 간암이 아닌 사람의 비율\n",
    "(data['liver_cancer']==0.0).sum()/len(data)"
   ]
  },
  {
   "cell_type": "markdown",
   "metadata": {},
   "source": [
    "#### >> 비율값 자체가 적은 이유는 간암 환자의 데이터 자체가 매우 적기 때문이다."
   ]
  },
  {
   "cell_type": "markdown",
   "metadata": {},
   "source": [
    "## 흡연 여부에 따른 폐암의 비율"
   ]
  },
  {
   "cell_type": "code",
   "execution_count": 62,
   "metadata": {},
   "outputs": [
    {
     "data": {
      "text/plain": [
       "smoking\n",
       "0.0    0.000814\n",
       "1.0    0.003606\n",
       "Name: lung_cancer, dtype: float64"
      ]
     },
     "execution_count": 62,
     "metadata": {},
     "output_type": "execute_result"
    }
   ],
   "source": [
    "lung_cancer_ratio = data.groupby('smoking')['lung_cancer'].mean()\n",
    "lung_cancer_ratio"
   ]
  },
  {
   "cell_type": "code",
   "execution_count": 63,
   "metadata": {},
   "outputs": [
    {
     "data": {
      "text/plain": [
       "Text(0, 0.5, 'lung_cancer_ratio')"
      ]
     },
     "execution_count": 63,
     "metadata": {},
     "output_type": "execute_result"
    },
    {
     "data": {
      "image/png": "[encoded data removed]",
      "text/plain": [
       "<Figure size 288x288 with 1 Axes>"
      ]
     },
     "metadata": {
      "needs_background": "light"
     },
     "output_type": "display_data"
    }
   ],
   "source": [
    "plt.figure(figsize = (4, 4))\n",
    "plt.bar(smoking_group, lung_cancer_ratio, width = 0.4)\n",
    "\n",
    "plt.xlabel('smoking')\n",
    "plt.ylabel('lung_cancer_ratio')"
   ]
  },
  {
   "cell_type": "code",
   "execution_count": 64,
   "metadata": {},
   "outputs": [
    {
     "data": {
      "text/plain": [
       "[-6.131109346936033, 8.811291724523771e-10]"
      ]
     },
     "execution_count": 64,
     "metadata": {},
     "output_type": "execute_result"
    }
   ],
   "source": [
    "[t_stat, p] = stats.ttest_ind(data[data.smoking == 0.0].lung_cancer, data[data.smoking == 1.0].lung_cancer)\n",
    "[t_stat, p]\n",
    "#  통계적으로 유의한 차이(p < 0.05)가 난다."
   ]
  },
  {
   "cell_type": "code",
   "execution_count": 65,
   "metadata": {},
   "outputs": [
    {
     "data": {
      "text/plain": [
       "0.0019176946200891469"
      ]
     },
     "execution_count": 65,
     "metadata": {},
     "output_type": "execute_result"
    }
   ],
   "source": [
    "# 전체에서 폐암의 비율\n",
    "(data['lung_cancer']==1.0).sum()/len(data)"
   ]
  },
  {
   "cell_type": "code",
   "execution_count": 66,
   "metadata": {},
   "outputs": [
    {
     "data": {
      "text/plain": [
       "0.0019176946200891469"
      ]
     },
     "execution_count": 66,
     "metadata": {},
     "output_type": "execute_result"
    }
   ],
   "source": [
    "# 전체에서 폐암이 아닌 사람의 비율\n",
    "(data['lung_cancer']==1.0).sum()/len(data)"
   ]
  },
  {
   "cell_type": "markdown",
   "metadata": {},
   "source": [
    "#### >> 비율값 자체가 적은 이유는 폐암 환자의 데이터 자체가 매우 적기 때문이다."
   ]
  },
  {
   "cell_type": "markdown",
   "metadata": {},
   "source": [
    "# 하루 평균 흡연량에 따른 질병의 비율\n",
    "###### 1단계: 반갑이내(~10개비)       \n",
    "###### 2단계: 반갑 ~ 한갑 이내( 11~20개비 )\n",
    "###### 3단계: 한갑 ~ 두갑 이내( 21~40개 )             \n",
    "###### 4단계: 두갑 초과( 41개비~ )\n",
    "기준은 kosis 국가통계포털에 나와있는 수치를 참고하였습니다."
   ]
  },
  {
   "cell_type": "markdown",
   "metadata": {},
   "source": [
    "## 흡연자의 단계별 당뇨병 환자의 비율"
   ]
  },
  {
   "cell_type": "code",
   "execution_count": 71,
   "metadata": {},
   "outputs": [
    {
     "data": {
      "text/plain": [
       "smoking_stage\n",
       "1단계    0.074783\n",
       "2단계    0.094904\n",
       "3단계    0.136865\n",
       "4단계    0.230769\n",
       "Name: diabetes, dtype: float64"
      ]
     },
     "execution_count": 71,
     "metadata": {},
     "output_type": "execute_result"
    }
   ],
   "source": [
    "stage_dia_ratio = data.groupby('smoking_stage')['diabetes'].mean()\n",
    "stage_dia_ratio"
   ]
  },
  {
   "cell_type": "code",
   "execution_count": 72,
   "metadata": {},
   "outputs": [
    {
     "data": {
      "text/plain": [
       "Text(0, 0.5, 'diabetes ratio')"
      ]
     },
     "execution_count": 72,
     "metadata": {},
     "output_type": "execute_result"
    },
    {
     "data": {
      "image/png": "[encoded data removed]",
      "text/plain": [
       "<Figure size 288x288 with 1 Axes>"
      ]
     },
     "metadata": {
      "needs_background": "light"
     },
     "output_type": "display_data"
    }
   ],
   "source": [
    "smoking_stage_group = ['stage 1', 'stage 2', 'stage 3', 'stage 4']\n",
    "\n",
    "plt.figure(figsize = (4, 4))\n",
    "plt.bar(smoking_stage_group, stage_dia_ratio, width = 0.4)\n",
    "\n",
    "plt.xlabel('smoking_stage')\n",
    "plt.ylabel('diabetes ratio')"
   ]
  },
  {
   "cell_type": "markdown",
   "metadata": {},
   "source": [
    "## 흡연자의 단계별 비만의 비율"
   ]
  },
  {
   "cell_type": "code",
   "execution_count": 73,
   "metadata": {},
   "outputs": [
    {
     "data": {
      "text/plain": [
       "smoking_stage\n",
       "1단계    0.699372\n",
       "2단계    0.736039\n",
       "3단계    0.756071\n",
       "4단계    0.730769\n",
       "Name: obesity, dtype: float64"
      ]
     },
     "execution_count": 73,
     "metadata": {},
     "output_type": "execute_result"
    }
   ],
   "source": [
    "stage_obs_ratio = data.groupby('smoking_stage')['obesity'].mean() \n",
    "stage_obs_ratio"
   ]
  },
  {
   "cell_type": "code",
   "execution_count": 74,
   "metadata": {},
   "outputs": [
    {
     "data": {
      "text/plain": [
       "Text(0, 0.5, 'obesity ratio')"
      ]
     },
     "execution_count": 74,
     "metadata": {},
     "output_type": "execute_result"
    },
    {
     "data": {
      "image/png": "[encoded data removed]",
      "text/plain": [
       "<Figure size 288x288 with 1 Axes>"
      ]
     },
     "metadata": {
      "needs_background": "light"
     },
     "output_type": "display_data"
    }
   ],
   "source": [
    "plt.figure(figsize = (4, 4))\n",
    "plt.bar(smoking_stage_group, stage_obs_ratio, width = 0.4)\n",
    "\n",
    "plt.xlabel('smoking_stage')\n",
    "plt.ylabel('obesity ratio')"
   ]
  },
  {
   "cell_type": "markdown",
   "metadata": {},
   "source": [
    "## 흡연자의 단계별 위암의 비율"
   ]
  },
  {
   "cell_type": "code",
   "execution_count": 75,
   "metadata": {},
   "outputs": [
    {
     "data": {
      "text/plain": [
       "smoking_stage\n",
       "1단계    0.005684\n",
       "2단계    0.004883\n",
       "3단계    0.002208\n",
       "4단계    0.000000\n",
       "Name: stomach_cancer, dtype: float64"
      ]
     },
     "execution_count": 75,
     "metadata": {},
     "output_type": "execute_result"
    }
   ],
   "source": [
    "stage_stomach_cancer_ratio = data.groupby('smoking_stage')['stomach_cancer'].mean() \n",
    "stage_stomach_cancer_ratio"
   ]
  },
  {
   "cell_type": "code",
   "execution_count": 76,
   "metadata": {},
   "outputs": [
    {
     "data": {
      "text/plain": [
       "Text(0, 0.5, 'stomach_cancer_ratio')"
      ]
     },
     "execution_count": 76,
     "metadata": {},
     "output_type": "execute_result"
    },
    {
     "data": {
      "image/png": "[encoded data removed]",
      "text/plain": [
       "<Figure size 288x288 with 1 Axes>"
      ]
     },
     "metadata": {
      "needs_background": "light"
     },
     "output_type": "display_data"
    }
   ],
   "source": [
    "plt.figure(figsize = (4, 4))\n",
    "plt.bar(smoking_stage_group, stage_stomach_cancer_ratio, width = 0.4)\n",
    "\n",
    "plt.xlabel('smoking_stage')\n",
    "plt.ylabel('stomach_cancer_ratio')"
   ]
  },
  {
   "cell_type": "markdown",
   "metadata": {},
   "source": [
    "## 흡연자의 단계별 간암의 비율"
   ]
  },
  {
   "cell_type": "code",
   "execution_count": 78,
   "metadata": {},
   "outputs": [
    {
     "data": {
      "text/plain": [
       "smoking_stage\n",
       "1단계    0.000000\n",
       "2단계    0.000610\n",
       "3단계    0.002208\n",
       "4단계    0.000000\n",
       "Name: liver_cancer, dtype: float64"
      ]
     },
     "execution_count": 78,
     "metadata": {},
     "output_type": "execute_result"
    }
   ],
   "source": [
    "stage_liver_cancer_ratio = data.groupby('smoking_stage')['liver_cancer'].mean() # 흡연자의 단계별 간암의 비율\n",
    "stage_liver_cancer_ratio"
   ]
  },
  {
   "cell_type": "code",
   "execution_count": 79,
   "metadata": {},
   "outputs": [
    {
     "data": {
      "text/plain": [
       "Text(0, 0.5, 'liver_cancer_ratio')"
      ]
     },
     "execution_count": 79,
     "metadata": {},
     "output_type": "execute_result"
    },
    {
     "data": {
      "image/png": "[encoded data removed]",
      "text/plain": [
       "<Figure size 288x288 with 1 Axes>"
      ]
     },
     "metadata": {
      "needs_background": "light"
     },
     "output_type": "display_data"
    }
   ],
   "source": [
    "plt.figure(figsize = (4, 4))\n",
    "plt.bar(smoking_stage_group, stage_liver_cancer_ratio, width = 0.4)\n",
    "\n",
    "plt.xlabel('smoking_stage')\n",
    "plt.ylabel('liver_cancer_ratio')"
   ]
  },
  {
   "cell_type": "markdown",
   "metadata": {},
   "source": [
    "## 흡연자의 단계별 폐암의 비율"
   ]
  },
  {
   "cell_type": "code",
   "execution_count": 80,
   "metadata": {},
   "outputs": [
    {
     "data": {
      "text/plain": [
       "smoking_stage\n",
       "1단계    0.000000\n",
       "2단계    0.000915\n",
       "3단계    0.000000\n",
       "4단계    0.000000\n",
       "Name: lung_cancer, dtype: float64"
      ]
     },
     "execution_count": 80,
     "metadata": {},
     "output_type": "execute_result"
    }
   ],
   "source": [
    "stage_lung_cancer_ratio = data.groupby('smoking_stage')['lung_cancer'].mean() # 흡연자의 단계별 폐암의 비율\n",
    "stage_lung_cancer_ratio"
   ]
  },
  {
   "cell_type": "code",
   "execution_count": 81,
   "metadata": {},
   "outputs": [
    {
     "data": {
      "text/plain": [
       "Text(0, 0.5, 'lung_cancer_ratio')"
      ]
     },
     "execution_count": 81,
     "metadata": {},
     "output_type": "execute_result"
    },
    {
     "data": {
      "image/png": "[encoded data removed]",
      "text/plain": [
       "<Figure size 288x288 with 1 Axes>"
      ]
     },
     "metadata": {
      "needs_background": "light"
     },
     "output_type": "display_data"
    }
   ],
   "source": [
    "plt.figure(figsize = (4, 4))\n",
    "plt.bar(smoking_stage_group, stage_lung_cancer_ratio, width = 0.4)\n",
    "\n",
    "plt.xlabel('smoking_stage')\n",
    "plt.ylabel('lung_cancer_ratio')"
   ]
  }
 ],
 "metadata": {
  "kernelspec": {
   "display_name": "Python 3",
   "language": "python",
   "name": "python3"
  },
  "language_info": {
   "codemirror_mode": {
    "name": "ipython",
    "version": 3
   },
   "file_extension": ".py",
   "mimetype": "text/x-python",
   "name": "python",
   "nbconvert_exporter": "python",
   "pygments_lexer": "ipython3",
   "version": "3.7.6"
  }
 },
 "nbformat": 4,
 "nbformat_minor": 4
}
