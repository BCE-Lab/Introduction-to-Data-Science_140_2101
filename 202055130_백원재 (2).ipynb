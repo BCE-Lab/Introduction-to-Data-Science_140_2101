{
 "cells": [
  {
   "cell_type": "code",
   "execution_count": 33,
   "metadata": {},
   "outputs": [
    {
     "data": {
      "text/plain": [
       "'%.3f'"
      ]
     },
     "execution_count": 33,
     "metadata": {},
     "output_type": "execute_result"
    }
   ],
   "source": [
    "import numpy as np\n",
    "import numpy.random as random\n",
    "import scipy as sp\n",
    "import scipy.stats as stats\n",
    "import pandas as pd\n",
    "from pandas import Series, DataFrame\n",
    "\n",
    "import matplotlib.pyplot as plt\n",
    "import matplotlib as mpl\n",
    "import seaborn as sns\n",
    "%matplotlib inline\n",
    "%precision 3"
   ]
  },
  {
   "cell_type": "code",
   "execution_count": 34,
   "metadata": {
    "scrolled": true
   },
   "outputs": [
    {
     "data": {
      "text/html": [
       "<div>\n",
       "<style scoped>\n",
       "    .dataframe tbody tr th:only-of-type {\n",
       "        vertical-align: middle;\n",
       "    }\n",
       "\n",
       "    .dataframe tbody tr th {\n",
       "        vertical-align: top;\n",
       "    }\n",
       "\n",
       "    .dataframe thead th {\n",
       "        text-align: right;\n",
       "    }\n",
       "</style>\n",
       "<table border=\"1\" class=\"dataframe\">\n",
       "  <thead>\n",
       "    <tr style=\"text-align: right;\">\n",
       "      <th></th>\n",
       "      <th>mod_d</th>\n",
       "      <th>ID</th>\n",
       "      <th>ID_fam</th>\n",
       "      <th>year</th>\n",
       "      <th>region</th>\n",
       "      <th>town_t</th>\n",
       "      <th>apt_t</th>\n",
       "      <th>psu</th>\n",
       "      <th>sex</th>\n",
       "      <th>age</th>\n",
       "      <th>...</th>\n",
       "      <th>HEI_TVEG</th>\n",
       "      <th>HEI_VEG</th>\n",
       "      <th>HEI_PROTF</th>\n",
       "      <th>HEI_DAIRY</th>\n",
       "      <th>HEI_SFA</th>\n",
       "      <th>HEI_NA</th>\n",
       "      <th>HEI_SWEET</th>\n",
       "      <th>HEI_CHO</th>\n",
       "      <th>HEI_FAT</th>\n",
       "      <th>HEI_EN</th>\n",
       "    </tr>\n",
       "  </thead>\n",
       "  <tbody>\n",
       "    <tr>\n",
       "      <th>0</th>\n",
       "      <td>2020.09.01.</td>\n",
       "      <td>A901020501</td>\n",
       "      <td>A9010205</td>\n",
       "      <td>2018</td>\n",
       "      <td>1</td>\n",
       "      <td>1</td>\n",
       "      <td>2</td>\n",
       "      <td>A901</td>\n",
       "      <td>1</td>\n",
       "      <td>80</td>\n",
       "      <td>...</td>\n",
       "      <td>1.367163</td>\n",
       "      <td>0.775022</td>\n",
       "      <td>5.800000</td>\n",
       "      <td>0.0</td>\n",
       "      <td>5.273475</td>\n",
       "      <td>10.000000</td>\n",
       "      <td>10.0</td>\n",
       "      <td>5.000000</td>\n",
       "      <td>5.000000</td>\n",
       "      <td>0.000000</td>\n",
       "    </tr>\n",
       "    <tr>\n",
       "      <th>1</th>\n",
       "      <td>2020.09.01.</td>\n",
       "      <td>A901021301</td>\n",
       "      <td>A9010213</td>\n",
       "      <td>2018</td>\n",
       "      <td>1</td>\n",
       "      <td>1</td>\n",
       "      <td>2</td>\n",
       "      <td>A901</td>\n",
       "      <td>1</td>\n",
       "      <td>78</td>\n",
       "      <td>...</td>\n",
       "      <td>4.881043</td>\n",
       "      <td>1.641812</td>\n",
       "      <td>10.000000</td>\n",
       "      <td>10.0</td>\n",
       "      <td>10.000000</td>\n",
       "      <td>3.418798</td>\n",
       "      <td>10.0</td>\n",
       "      <td>4.345249</td>\n",
       "      <td>2.956568</td>\n",
       "      <td>5.000000</td>\n",
       "    </tr>\n",
       "    <tr>\n",
       "      <th>2</th>\n",
       "      <td>2020.09.01.</td>\n",
       "      <td>A901021302</td>\n",
       "      <td>A9010213</td>\n",
       "      <td>2018</td>\n",
       "      <td>1</td>\n",
       "      <td>1</td>\n",
       "      <td>2</td>\n",
       "      <td>A901</td>\n",
       "      <td>2</td>\n",
       "      <td>75</td>\n",
       "      <td>...</td>\n",
       "      <td>3.367648</td>\n",
       "      <td>4.943629</td>\n",
       "      <td>4.849725</td>\n",
       "      <td>10.0</td>\n",
       "      <td>0.000000</td>\n",
       "      <td>9.806158</td>\n",
       "      <td>10.0</td>\n",
       "      <td>5.000000</td>\n",
       "      <td>5.000000</td>\n",
       "      <td>5.000000</td>\n",
       "    </tr>\n",
       "    <tr>\n",
       "      <th>3</th>\n",
       "      <td>2020.09.01.</td>\n",
       "      <td>A901022601</td>\n",
       "      <td>A9010226</td>\n",
       "      <td>2018</td>\n",
       "      <td>1</td>\n",
       "      <td>1</td>\n",
       "      <td>2</td>\n",
       "      <td>A901</td>\n",
       "      <td>2</td>\n",
       "      <td>43</td>\n",
       "      <td>...</td>\n",
       "      <td>NaN</td>\n",
       "      <td>NaN</td>\n",
       "      <td>NaN</td>\n",
       "      <td>NaN</td>\n",
       "      <td>NaN</td>\n",
       "      <td>NaN</td>\n",
       "      <td>NaN</td>\n",
       "      <td>NaN</td>\n",
       "      <td>NaN</td>\n",
       "      <td>NaN</td>\n",
       "    </tr>\n",
       "    <tr>\n",
       "      <th>4</th>\n",
       "      <td>2020.09.01.</td>\n",
       "      <td>A901023303</td>\n",
       "      <td>A9010233</td>\n",
       "      <td>2018</td>\n",
       "      <td>1</td>\n",
       "      <td>1</td>\n",
       "      <td>2</td>\n",
       "      <td>A901</td>\n",
       "      <td>2</td>\n",
       "      <td>80</td>\n",
       "      <td>...</td>\n",
       "      <td>4.619405</td>\n",
       "      <td>0.437024</td>\n",
       "      <td>1.951565</td>\n",
       "      <td>0.0</td>\n",
       "      <td>10.000000</td>\n",
       "      <td>8.029505</td>\n",
       "      <td>10.0</td>\n",
       "      <td>0.000000</td>\n",
       "      <td>0.000000</td>\n",
       "      <td>1.244134</td>\n",
       "    </tr>\n",
       "  </tbody>\n",
       "</table>\n",
       "<p>5 rows × 785 columns</p>\n",
       "</div>"
      ],
      "text/plain": [
       "         mod_d          ID    ID_fam  year  region  town_t  apt_t   psu  sex  \\\n",
       "0  2020.09.01.  A901020501  A9010205  2018       1       1      2  A901    1   \n",
       "1  2020.09.01.  A901021301  A9010213  2018       1       1      2  A901    1   \n",
       "2  2020.09.01.  A901021302  A9010213  2018       1       1      2  A901    2   \n",
       "3  2020.09.01.  A901022601  A9010226  2018       1       1      2  A901    2   \n",
       "4  2020.09.01.  A901023303  A9010233  2018       1       1      2  A901    2   \n",
       "\n",
       "   age  ...  HEI_TVEG   HEI_VEG  HEI_PROTF  HEI_DAIRY    HEI_SFA     HEI_NA  \\\n",
       "0   80  ...  1.367163  0.775022   5.800000        0.0   5.273475  10.000000   \n",
       "1   78  ...  4.881043  1.641812  10.000000       10.0  10.000000   3.418798   \n",
       "2   75  ...  3.367648  4.943629   4.849725       10.0   0.000000   9.806158   \n",
       "3   43  ...       NaN       NaN        NaN        NaN        NaN        NaN   \n",
       "4   80  ...  4.619405  0.437024   1.951565        0.0  10.000000   8.029505   \n",
       "\n",
       "   HEI_SWEET   HEI_CHO   HEI_FAT    HEI_EN  \n",
       "0       10.0  5.000000  5.000000  0.000000  \n",
       "1       10.0  4.345249  2.956568  5.000000  \n",
       "2       10.0  5.000000  5.000000  5.000000  \n",
       "3        NaN       NaN       NaN       NaN  \n",
       "4       10.0  0.000000  0.000000  1.244134  \n",
       "\n",
       "[5 rows x 785 columns]"
      ]
     },
     "execution_count": 34,
     "metadata": {},
     "output_type": "execute_result"
    }
   ],
   "source": [
    "Odata=pd.read_csv('hn18.csv', low_memory=False)\n",
    "Odata\n",
    "Odata.head(5)"
   ]
  },
  {
   "cell_type": "markdown",
   "metadata": {},
   "source": [
    "# 전체 데이터에서 필요한 열만 가져오고 가져온 응답을 진단, 정상으로 바꾸고 물 섭취량의 경우 구간에 따라 level을 나눔"
   ]
  },
  {
   "cell_type": "code",
   "execution_count": 35,
   "metadata": {},
   "outputs": [],
   "source": [
    "data=pd.DataFrame()\n",
    "data['ID']=Odata.ID\n",
    "data['sex']=Odata.sex\n",
    "data['age']=Odata.age\n",
    "data['water']=Odata.N_WAT_C\n",
    "data['BMI']=Odata.HE_BMI\n",
    "data['BMI2']=Odata.HE_obe\n",
    "data['협심증응답']=Odata.DI6_pr\n",
    "data['심근경색응답']=Odata.DI5_pr\n",
    "data['고혈압응답']=Odata.DI1_pr\n",
    "data['신부전응답']=Odata.DN1_pr\n",
    "data['당뇨응답']=Odata.DE1_pr\n",
    "data['Health']=Odata.D_1_1\n",
    "data['와병여부']=Odata.LQ1_sb\n",
    "data.dropna(inplace=True, axis=0)\n",
    "data=data[data['Health']!=9]\n",
    "data=data[data['와병여부']!=1]\n",
    "data['AP']=np.where(data['협심증응답']==1, 1, 0)\n",
    "data['MI']=np.where(data['심근경색응답']==1, 1, 0)\n",
    "data['HBP']=np.where(data['고혈압응답']==1, 1, 0)\n",
    "data['KF']=np.where(data['신부전응답']==1, 1, 0)\n",
    "data['D']=np.where(data['당뇨응답']==1, 1, 0)\n",
    "data['waterLv']=pd.cut(data.water, [0, 2.5, 5, 10, 999], labels=[1,2,3, 4], right=False)"
   ]
  },
  {
   "cell_type": "code",
   "execution_count": 36,
   "metadata": {
    "scrolled": true
   },
   "outputs": [
    {
     "data": {
      "text/html": [
       "<div>\n",
       "<style scoped>\n",
       "    .dataframe tbody tr th:only-of-type {\n",
       "        vertical-align: middle;\n",
       "    }\n",
       "\n",
       "    .dataframe tbody tr th {\n",
       "        vertical-align: top;\n",
       "    }\n",
       "\n",
       "    .dataframe thead th {\n",
       "        text-align: right;\n",
       "    }\n",
       "</style>\n",
       "<table border=\"1\" class=\"dataframe\">\n",
       "  <thead>\n",
       "    <tr style=\"text-align: right;\">\n",
       "      <th></th>\n",
       "      <th>ID</th>\n",
       "      <th>sex</th>\n",
       "      <th>age</th>\n",
       "      <th>water</th>\n",
       "      <th>BMI</th>\n",
       "      <th>BMI2</th>\n",
       "      <th>협심증응답</th>\n",
       "      <th>심근경색응답</th>\n",
       "      <th>고혈압응답</th>\n",
       "      <th>신부전응답</th>\n",
       "      <th>당뇨응답</th>\n",
       "      <th>Health</th>\n",
       "      <th>와병여부</th>\n",
       "      <th>AP</th>\n",
       "      <th>MI</th>\n",
       "      <th>HBP</th>\n",
       "      <th>KF</th>\n",
       "      <th>D</th>\n",
       "      <th>waterLv</th>\n",
       "    </tr>\n",
       "  </thead>\n",
       "  <tbody>\n",
       "    <tr>\n",
       "      <th>0</th>\n",
       "      <td>A901020501</td>\n",
       "      <td>1</td>\n",
       "      <td>80</td>\n",
       "      <td>5.0</td>\n",
       "      <td>21.233226</td>\n",
       "      <td>2.0</td>\n",
       "      <td>8.0</td>\n",
       "      <td>8.0</td>\n",
       "      <td>1.0</td>\n",
       "      <td>8.0</td>\n",
       "      <td>8.0</td>\n",
       "      <td>3.0</td>\n",
       "      <td>2.0</td>\n",
       "      <td>0</td>\n",
       "      <td>0</td>\n",
       "      <td>1</td>\n",
       "      <td>0</td>\n",
       "      <td>0</td>\n",
       "      <td>3</td>\n",
       "    </tr>\n",
       "    <tr>\n",
       "      <th>1</th>\n",
       "      <td>A901021301</td>\n",
       "      <td>1</td>\n",
       "      <td>78</td>\n",
       "      <td>5.0</td>\n",
       "      <td>27.166096</td>\n",
       "      <td>4.0</td>\n",
       "      <td>8.0</td>\n",
       "      <td>8.0</td>\n",
       "      <td>8.0</td>\n",
       "      <td>8.0</td>\n",
       "      <td>8.0</td>\n",
       "      <td>1.0</td>\n",
       "      <td>2.0</td>\n",
       "      <td>0</td>\n",
       "      <td>0</td>\n",
       "      <td>0</td>\n",
       "      <td>0</td>\n",
       "      <td>0</td>\n",
       "      <td>3</td>\n",
       "    </tr>\n",
       "    <tr>\n",
       "      <th>2</th>\n",
       "      <td>A901021302</td>\n",
       "      <td>2</td>\n",
       "      <td>75</td>\n",
       "      <td>5.0</td>\n",
       "      <td>21.391845</td>\n",
       "      <td>2.0</td>\n",
       "      <td>8.0</td>\n",
       "      <td>8.0</td>\n",
       "      <td>1.0</td>\n",
       "      <td>8.0</td>\n",
       "      <td>8.0</td>\n",
       "      <td>3.0</td>\n",
       "      <td>2.0</td>\n",
       "      <td>0</td>\n",
       "      <td>0</td>\n",
       "      <td>1</td>\n",
       "      <td>0</td>\n",
       "      <td>0</td>\n",
       "      <td>3</td>\n",
       "    </tr>\n",
       "    <tr>\n",
       "      <th>4</th>\n",
       "      <td>A901023303</td>\n",
       "      <td>2</td>\n",
       "      <td>80</td>\n",
       "      <td>2.5</td>\n",
       "      <td>26.984977</td>\n",
       "      <td>4.0</td>\n",
       "      <td>8.0</td>\n",
       "      <td>8.0</td>\n",
       "      <td>8.0</td>\n",
       "      <td>8.0</td>\n",
       "      <td>1.0</td>\n",
       "      <td>1.0</td>\n",
       "      <td>2.0</td>\n",
       "      <td>0</td>\n",
       "      <td>0</td>\n",
       "      <td>0</td>\n",
       "      <td>0</td>\n",
       "      <td>1</td>\n",
       "      <td>2</td>\n",
       "    </tr>\n",
       "    <tr>\n",
       "      <th>5</th>\n",
       "      <td>A901023304</td>\n",
       "      <td>2</td>\n",
       "      <td>71</td>\n",
       "      <td>10.0</td>\n",
       "      <td>21.528142</td>\n",
       "      <td>2.0</td>\n",
       "      <td>8.0</td>\n",
       "      <td>8.0</td>\n",
       "      <td>1.0</td>\n",
       "      <td>8.0</td>\n",
       "      <td>1.0</td>\n",
       "      <td>3.0</td>\n",
       "      <td>2.0</td>\n",
       "      <td>0</td>\n",
       "      <td>0</td>\n",
       "      <td>1</td>\n",
       "      <td>0</td>\n",
       "      <td>1</td>\n",
       "      <td>4</td>\n",
       "    </tr>\n",
       "  </tbody>\n",
       "</table>\n",
       "</div>"
      ],
      "text/plain": [
       "           ID  sex  age  water        BMI  BMI2  협심증응답  심근경색응답  고혈압응답  신부전응답  \\\n",
       "0  A901020501    1   80    5.0  21.233226   2.0    8.0     8.0    1.0    8.0   \n",
       "1  A901021301    1   78    5.0  27.166096   4.0    8.0     8.0    8.0    8.0   \n",
       "2  A901021302    2   75    5.0  21.391845   2.0    8.0     8.0    1.0    8.0   \n",
       "4  A901023303    2   80    2.5  26.984977   4.0    8.0     8.0    8.0    8.0   \n",
       "5  A901023304    2   71   10.0  21.528142   2.0    8.0     8.0    1.0    8.0   \n",
       "\n",
       "   당뇨응답  Health  와병여부  AP  MI  HBP  KF  D waterLv  \n",
       "0   8.0     3.0   2.0   0   0    1   0  0       3  \n",
       "1   8.0     1.0   2.0   0   0    0   0  0       3  \n",
       "2   8.0     3.0   2.0   0   0    1   0  0       3  \n",
       "4   1.0     1.0   2.0   0   0    0   0  1       2  \n",
       "5   1.0     3.0   2.0   0   0    1   0  1       4  "
      ]
     },
     "execution_count": 36,
     "metadata": {},
     "output_type": "execute_result"
    }
   ],
   "source": [
    "data.head(5)"
   ]
  },
  {
   "cell_type": "code",
   "execution_count": 37,
   "metadata": {},
   "outputs": [
    {
     "data": {
      "text/plain": [
       "3    2052\n",
       "2    1502\n",
       "1     709\n",
       "4     585\n",
       "Name: waterLv, dtype: int64"
      ]
     },
     "execution_count": 37,
     "metadata": {},
     "output_type": "execute_result"
    }
   ],
   "source": [
    "pd.value_counts(data.waterLv)"
   ]
  },
  {
   "cell_type": "code",
   "execution_count": 38,
   "metadata": {},
   "outputs": [
    {
     "data": {
      "text/plain": [
       "array([ 5. ,  2.5, 10. ,  2. ,  4. , 12. , 15. ,  7. ,  3. ,  5.5,  7.5,\n",
       "        8. ,  1. ,  0.5,  1.5,  6.5,  4.5,  5.7,  3.5,  4.2, 30. ,  7.7,\n",
       "        3.4,  1.2, 12.5,  6. ,  3.8,  2.3,  3.7,  6.3,  6.4,  0.8, 19. ,\n",
       "       20. , 14.3,  9. , 25. , 11. , 13. ,  2.4,  0.7,  8.5, 22.5,  6.1,\n",
       "        3.1,  0. , 17. , 15.8,  4.8,  6.8,  1.3,  5.3, 16.3,  7.9,  6.2,\n",
       "        0.3, 13.3, 14. ,  3.6, 17.5,  6.7,  2.7,  4.6,  0.2,  5.6, 11.3,\n",
       "        9.8,  2.6,  4.3,  4.4,  5.2,  8.7,  8.8,  7.2,  9.5,  2.2,  1.7,\n",
       "       15.5,  1.8, 11.4,  7.8,  3.2,  5.4,  9.1,  7.3, 11.5,  2.8,  8.6,\n",
       "        9.2, 18. ,  1.9])"
      ]
     },
     "execution_count": 38,
     "metadata": {},
     "output_type": "execute_result"
    }
   ],
   "source": [
    "data.water.unique()"
   ]
  },
  {
   "cell_type": "code",
   "execution_count": 39,
   "metadata": {
    "scrolled": true
   },
   "outputs": [
    {
     "data": {
      "text/plain": [
       "array([[1.   , 0.106],\n",
       "       [0.106, 1.   ]])"
      ]
     },
     "execution_count": 39,
     "metadata": {},
     "output_type": "execute_result"
    },
    {
     "data": {
      "image/png": "[encoded data removed]",
      "text/plain": [
       "<Figure size 432x288 with 1 Axes>"
      ]
     },
     "metadata": {
      "needs_background": "light"
     },
     "output_type": "display_data"
    }
   ],
   "source": [
    "sns.regplot(data = data, x = 'water', y = 'BMI')\n",
    "np.corrcoef(data.water, data.BMI)"
   ]
  },
  {
   "cell_type": "code",
   "execution_count": 40,
   "metadata": {},
   "outputs": [
    {
     "name": "stdout",
     "output_type": "stream",
     "text": [
      "waterLv\n",
      "1    23.357128\n",
      "2    23.680122\n",
      "3    24.163300\n",
      "4    24.663042\n",
      "Name: BMI, dtype: float64\n"
     ]
    },
    {
     "data": {
      "text/plain": [
       "Text(0.5, 1.0, 'BMI')"
      ]
     },
     "execution_count": 40,
     "metadata": {},
     "output_type": "execute_result"
    },
    {
     "data": {
      "image/png": "[encoded data removed]",
      "text/plain": [
       "<Figure size 432x288 with 1 Axes>"
      ]
     },
     "metadata": {
      "needs_background": "light"
     },
     "output_type": "display_data"
    }
   ],
   "source": [
    "df=data.groupby('waterLv').mean()\n",
    "print(df.BMI)\n",
    "df.BMI.plot(kind='bar')\n",
    "plt.xticks(rotation=0)\n",
    "plt.title('BMI')"
   ]
  },
  {
   "cell_type": "markdown",
   "metadata": {},
   "source": [
    "## 체중에 따라 물 섭취량이 비례함을 알 수 있다."
   ]
  },
  {
   "cell_type": "code",
   "execution_count": 41,
   "metadata": {},
   "outputs": [
    {
     "name": "stdout",
     "output_type": "stream",
     "text": [
      "waterLv\n",
      "1    0.011283\n",
      "2    0.022636\n",
      "3    0.022417\n",
      "4    0.008547\n",
      "Name: AP, dtype: float64\n"
     ]
    },
    {
     "data": {
      "text/plain": [
       "[0.02451666205951009, 0.9804415027403879]"
      ]
     },
     "execution_count": 41,
     "metadata": {},
     "output_type": "execute_result"
    },
    {
     "data": {
      "image/png": "[encoded data removed]",
      "text/plain": [
       "<Figure size 432x288 with 1 Axes>"
      ]
     },
     "metadata": {
      "needs_background": "light"
     },
     "output_type": "display_data"
    }
   ],
   "source": [
    "print(df.AP)\n",
    "df.AP.plot(kind='bar')\n",
    "plt.xticks(rotation=0)\n",
    "plt.title('AP')\n",
    "[t_stat, p] = stats.ttest_ind(data[data.AP==0].waterLv, data[data.AP==1].waterLv)\n",
    "[t_stat, p]"
   ]
  },
  {
   "cell_type": "code",
   "execution_count": 42,
   "metadata": {},
   "outputs": [
    {
     "name": "stdout",
     "output_type": "stream",
     "text": [
      "waterLv\n",
      "1    0.008463\n",
      "2    0.013981\n",
      "3    0.009259\n",
      "4    0.005128\n",
      "Name: MI, dtype: float64\n"
     ]
    },
    {
     "data": {
      "text/plain": [
       "[1.0380030673625587, 0.29932041605977827]"
      ]
     },
     "execution_count": 42,
     "metadata": {},
     "output_type": "execute_result"
    },
    {
     "data": {
      "image/png": "[encoded data removed]",
      "text/plain": [
       "<Figure size 432x288 with 1 Axes>"
      ]
     },
     "metadata": {
      "needs_background": "light"
     },
     "output_type": "display_data"
    }
   ],
   "source": [
    "print(df.MI)\n",
    "df.MI.plot(kind='bar')\n",
    "plt.xticks(rotation=0)\n",
    "plt.title('MI')\n",
    "[t_stat, p] = stats.ttest_ind(data[data.MI==0].waterLv, data[data.MI==1].waterLv)\n",
    "[t_stat, p]"
   ]
  },
  {
   "cell_type": "code",
   "execution_count": 43,
   "metadata": {
    "scrolled": true
   },
   "outputs": [
    {
     "name": "stdout",
     "output_type": "stream",
     "text": [
      "waterLv\n",
      "1    0.004231\n",
      "2    0.000666\n",
      "3    0.002924\n",
      "4    0.000000\n",
      "Name: KF, dtype: float64\n"
     ]
    },
    {
     "data": {
      "text/plain": [
       "[0.7807972243416099, 0.43495990533713214]"
      ]
     },
     "execution_count": 43,
     "metadata": {},
     "output_type": "execute_result"
    },
    {
     "data": {
      "image/png": "[encoded data removed]",
      "text/plain": [
       "<Figure size 432x288 with 1 Axes>"
      ]
     },
     "metadata": {
      "needs_background": "light"
     },
     "output_type": "display_data"
    }
   ],
   "source": [
    "print(df.KF)\n",
    "df.KF.plot(kind='bar')\n",
    "plt.title('KF')\n",
    "plt.xticks(rotation=0)\n",
    "[t_stat, p] = stats.ttest_ind(data[data.KF==0].waterLv, data[data.KF==1].waterLv)\n",
    "[t_stat, p]"
   ]
  },
  {
   "cell_type": "code",
   "execution_count": 44,
   "metadata": {},
   "outputs": [
    {
     "name": "stdout",
     "output_type": "stream",
     "text": [
      "waterLv\n",
      "1    0.084626\n",
      "2    0.101198\n",
      "3    0.092105\n",
      "4    0.073504\n",
      "Name: D, dtype: float64\n"
     ]
    }
   ],
   "source": [
    "print(df.D)"
   ]
  },
  {
   "cell_type": "code",
   "execution_count": 45,
   "metadata": {
    "scrolled": true
   },
   "outputs": [
    {
     "data": {
      "text/plain": [
       "[0.8521832845173527, 0.3941544849540767]"
      ]
     },
     "execution_count": 45,
     "metadata": {},
     "output_type": "execute_result"
    },
    {
     "data": {
      "image/png": "[encoded data removed]",
      "text/plain": [
       "<Figure size 432x288 with 1 Axes>"
      ]
     },
     "metadata": {
      "needs_background": "light"
     },
     "output_type": "display_data"
    }
   ],
   "source": [
    "df.D.plot(kind='bar')\n",
    "plt.xticks(rotation=0)\n",
    "plt.title('D')\n",
    "[t_stat, p] = stats.ttest_ind(data[data.D==0].waterLv, data[data.D==1].waterLv)\n",
    "[t_stat, p]"
   ]
  },
  {
   "cell_type": "code",
   "execution_count": 46,
   "metadata": {},
   "outputs": [
    {
     "name": "stdout",
     "output_type": "stream",
     "text": [
      "waterLv\n",
      "1    0.224260\n",
      "2    0.266312\n",
      "3    0.230507\n",
      "4    0.193162\n",
      "Name: HBP, dtype: float64\n"
     ]
    }
   ],
   "source": [
    "print(df.HBP)"
   ]
  },
  {
   "cell_type": "code",
   "execution_count": 47,
   "metadata": {
    "scrolled": false
   },
   "outputs": [
    {
     "data": {
      "text/plain": [
       "[2.045024375498108, 0.040906358756751915]"
      ]
     },
     "execution_count": 47,
     "metadata": {},
     "output_type": "execute_result"
    },
    {
     "data": {
      "image/png": "[encoded data removed]",
      "text/plain": [
       "<Figure size 432x288 with 1 Axes>"
      ]
     },
     "metadata": {
      "needs_background": "light"
     },
     "output_type": "display_data"
    }
   ],
   "source": [
    "df.HBP.plot(kind='bar')\n",
    "plt.xticks(rotation=0)\n",
    "plt.title('HBP')\n",
    "[t_stat, p] = stats.ttest_ind(data[data.HBP==0].waterLv, data[data.HBP==1].waterLv)\n",
    "[t_stat, p]"
   ]
  },
  {
   "cell_type": "markdown",
   "metadata": {},
   "source": [
    "## 고혈압과 waterLv사이의 유의확률이 낮기 때문에 고혈압과 물 섭취량이 연관 되어있음을 알 수 있다.\n",
    "\n",
    "### https://m.health.chosun.com/column/column_view.jsp?idx=877\n",
    "### https://m.health.chosun.com/svc/news_view.html?contid=2021031002245 \n",
    "### 혈압이 높으면 물을 많이 마셔야 한다는 기사를 찾을 수 있다.\n",
    "### 탈수상태가 되면 모세혈관의 일부가 닫히고 혈압이 높아질 수 있다고 한다. 또한 체내 수분이 부족해져 혈전이 생기는 것을 줄일 수 있다고 한다."
   ]
  },
  {
   "cell_type": "markdown",
   "metadata": {},
   "source": [
    "## 번외) 주관적인 건강과 물섭취"
   ]
  },
  {
   "cell_type": "code",
   "execution_count": 48,
   "metadata": {},
   "outputs": [
    {
     "name": "stdout",
     "output_type": "stream",
     "text": [
      "waterLv\n",
      "1    2.916784\n",
      "2    2.909454\n",
      "3    2.856725\n",
      "4    2.716239\n",
      "Name: Health, dtype: float64\n"
     ]
    },
    {
     "data": {
      "text/plain": [
       "Text(0.5, 1.0, 'Health')"
      ]
     },
     "execution_count": 48,
     "metadata": {},
     "output_type": "execute_result"
    },
    {
     "data": {
      "image/png": "[encoded data removed]",
      "text/plain": [
       "<Figure size 432x288 with 1 Axes>"
      ]
     },
     "metadata": {
      "needs_background": "light"
     },
     "output_type": "display_data"
    }
   ],
   "source": [
    "print(df.Health)\n",
    "df.Health.plot(kind='bar')\n",
    "plt.xticks(rotation=0)\n",
    "plt.title('Health')"
   ]
  },
  {
   "cell_type": "code",
   "execution_count": 49,
   "metadata": {
    "scrolled": true
   },
   "outputs": [
    {
     "data": {
      "text/plain": [
       "array([[ 1.   , -0.063],\n",
       "       [-0.063,  1.   ]])"
      ]
     },
     "execution_count": 49,
     "metadata": {},
     "output_type": "execute_result"
    }
   ],
   "source": [
    "np.corrcoef(data.waterLv, data.Health)"
   ]
  },
  {
   "cell_type": "code",
   "execution_count": 50,
   "metadata": {},
   "outputs": [
    {
     "data": {
      "text/plain": [
       "<matplotlib.axes._subplots.AxesSubplot at 0x204c4176790>"
      ]
     },
     "execution_count": 50,
     "metadata": {},
     "output_type": "execute_result"
    },
    {
     "data": {
      "image/png": "[encoded data removed]",
      "text/plain": [
       "<Figure size 432x288 with 1 Axes>"
      ]
     },
     "metadata": {
      "needs_background": "light"
     },
     "output_type": "display_data"
    }
   ],
   "source": [
    "sns.regplot(data = data, x = 'age', y = 'Health')"
   ]
  },
  {
   "cell_type": "code",
   "execution_count": 51,
   "metadata": {},
   "outputs": [
    {
     "data": {
      "text/plain": [
       "array([[1.  , 0.21],\n",
       "       [0.21, 1.  ]])"
      ]
     },
     "execution_count": 51,
     "metadata": {},
     "output_type": "execute_result"
    }
   ],
   "source": [
    "np.corrcoef(data.age, data.Health)"
   ]
  },
  {
   "cell_type": "code",
   "execution_count": 52,
   "metadata": {},
   "outputs": [
    {
     "data": {
      "text/plain": [
       "<matplotlib.axes._subplots.AxesSubplot at 0x204c41c5e50>"
      ]
     },
     "execution_count": 52,
     "metadata": {},
     "output_type": "execute_result"
    },
    {
     "data": {
      "image/png": "[encoded data removed]",
      "text/plain": [
       "<Figure size 432x288 with 1 Axes>"
      ]
     },
     "metadata": {
      "needs_background": "light"
     },
     "output_type": "display_data"
    }
   ],
   "source": [
    "sns.regplot(data = data, x = 'BMI', y = 'Health')"
   ]
  },
  {
   "cell_type": "code",
   "execution_count": 53,
   "metadata": {},
   "outputs": [
    {
     "data": {
      "text/plain": [
       "array([[1.   , 0.096],\n",
       "       [0.096, 1.   ]])"
      ]
     },
     "execution_count": 53,
     "metadata": {},
     "output_type": "execute_result"
    }
   ],
   "source": [
    "np.corrcoef(data.BMI, data.Health)"
   ]
  },
  {
   "cell_type": "code",
   "execution_count": 54,
   "metadata": {},
   "outputs": [
    {
     "data": {
      "text/plain": [
       "array([[1.   , 0.108],\n",
       "       [0.108, 1.   ]])"
      ]
     },
     "execution_count": 54,
     "metadata": {},
     "output_type": "execute_result"
    },
    {
     "data": {
      "image/png": "[encoded data removed]",
      "text/plain": [
       "<Figure size 432x288 with 1 Axes>"
      ]
     },
     "metadata": {
      "needs_background": "light"
     },
     "output_type": "display_data"
    }
   ],
   "source": [
    "sns.regplot(data = data[data.BMI>=18.5], x = 'BMI', y = 'Health')\n",
    "np.corrcoef(data[data.BMI>=18.5].BMI, data[data.BMI>=18.5].Health)"
   ]
  },
  {
   "cell_type": "code",
   "execution_count": 55,
   "metadata": {},
   "outputs": [
    {
     "data": {
      "text/plain": [
       "array([[1.   , 0.123],\n",
       "       [0.123, 1.   ]])"
      ]
     },
     "execution_count": 55,
     "metadata": {},
     "output_type": "execute_result"
    },
    {
     "data": {
      "image/png": "[encoded data removed]",
      "text/plain": [
       "<Figure size 432x288 with 1 Axes>"
      ]
     },
     "metadata": {
      "needs_background": "light"
     },
     "output_type": "display_data"
    }
   ],
   "source": [
    "sns.regplot(data = data[data.BMI>=25], x = 'BMI', y = 'Health')\n",
    "np.corrcoef(data[data.BMI>=25].BMI, data[data.BMI>=25].Health)"
   ]
  },
  {
   "cell_type": "code",
   "execution_count": 56,
   "metadata": {},
   "outputs": [
    {
     "data": {
      "text/plain": [
       "array([[1.   , 0.016],\n",
       "       [0.016, 1.   ]])"
      ]
     },
     "execution_count": 56,
     "metadata": {},
     "output_type": "execute_result"
    },
    {
     "data": {
      "image/png": "[encoded data removed]",
      "text/plain": [
       "<Figure size 432x288 with 1 Axes>"
      ]
     },
     "metadata": {
      "needs_background": "light"
     },
     "output_type": "display_data"
    }
   ],
   "source": [
    "sns.regplot(data = data[data.water>=10], x = 'water', y = 'BMI')\n",
    "np.corrcoef(data[data.water>=10].water, data[data.water>=10].BMI)"
   ]
  },
  {
   "cell_type": "code",
   "execution_count": 57,
   "metadata": {},
   "outputs": [
    {
     "data": {
      "text/plain": [
       "array([[ 1.   , -0.004],\n",
       "       [-0.004,  1.   ]])"
      ]
     },
     "execution_count": 57,
     "metadata": {},
     "output_type": "execute_result"
    },
    {
     "data": {
      "image/png": "[encoded data removed]",
      "text/plain": [
       "<Figure size 432x288 with 1 Axes>"
      ]
     },
     "metadata": {
      "needs_background": "light"
     },
     "output_type": "display_data"
    }
   ],
   "source": [
    "sns.regplot(data = data[data.water>=10], x = 'water', y = 'Health')\n",
    "np.corrcoef(data[data.water>=10].water, data[data.water>=10].Health)"
   ]
  },
  {
   "cell_type": "markdown",
   "metadata": {},
   "source": [
    "## 젊은 사람들이 당연히 건강하다고 생각하고 BMI와도 관련 없이 큰 질병이 없다면 건강하다고 느끼는 것을 알 수 있다."
   ]
  }
 ],
 "metadata": {
  "kernelspec": {
   "display_name": "Python 3",
   "language": "python",
   "name": "python3"
  },
  "language_info": {
   "codemirror_mode": {
    "name": "ipython",
    "version": 3
   },
   "file_extension": ".py",
   "mimetype": "text/x-python",
   "name": "python",
   "nbconvert_exporter": "python",
   "pygments_lexer": "ipython3",
   "version": "3.8.3"
  }
 },
 "nbformat": 4,
 "nbformat_minor": 4
}
