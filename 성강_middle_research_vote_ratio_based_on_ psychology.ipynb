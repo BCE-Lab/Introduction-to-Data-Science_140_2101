{
 "cells": [
  {
   "cell_type": "markdown",
   "metadata": {},
   "source": [
    "# middle research data-science 202055133 성강\n",
    "\n",
    "\n",
    "## 주제: 질문 대답 소요 시간을 기반으로 투표율의 분석  \n",
    "\n",
    "------------------\n",
    "\n",
    "### 1. 탐구 동기\n",
    "- 최근에 재보궐 선거가 있었고, 활성화 인터넷 심리검사 사람의 심리와 투표율간의 상관관계를 알고 싶다는 생각을 하게 되었고, 우연히 dacon에서 외국의 데이터이긴하지만, 심리검사와 사람의 특성을 기반으로 투표를 했는지에 대한 여부를 나타낸 데이터가 있었기에 분석을 진행해보고자 하였다. \n",
    "- 또한 심리검사 데이터를 기반으로 하면 향후 심리검사 질문의 특성, 응답 소요 시간을 기반으로 하여 투표율을 예측할 수도 있을 것이라는 기대를 하고 탐구를 시작하게 되었다.   \n",
    "\n",
    "----------------\n",
    "\n",
    "### 2. 가설\n",
    "- 본 탐구에서는 특이하게 튀는 값들을 제외하고는, 질문에 대답하는데 걸리는 시간이 길다는 것이 신중한 사람이라는 것을 나타낼 수 있는 지표중 하나라고 생각하고 아래와 같은 가설을 세웠다.\n",
    "- **질문에 대답하는 시간이 길수록 투표율이 높아질 것이다.**\n",
    "    - 이때 질문을 nlu 기반으로 3가지 그룹으로 나누고, 각 그룹으로 걸린 시간으로 분배해서도 분석해보고자 한다.\n",
    "    - 질문을 답하는 시간이 정규분포를 따를 것으로 기대한다.\n",
    "----------\n",
    "\n",
    "### 3. 탐구 과정 및 결과\n",
    "#### 1) import module"
   ]
  },
  {
   "cell_type": "code",
   "execution_count": 1,
   "metadata": {},
   "outputs": [
    {
     "data": {
      "text/plain": [
       "'%.3f'"
      ]
     },
     "execution_count": 1,
     "metadata": {},
     "output_type": "execute_result"
    }
   ],
   "source": [
    "import numpy as np\n",
    "import numpy.random as random\n",
    "import scipy as sp\n",
    "import scipy.stats as stats\n",
    "import pandas as pd\n",
    "from pandas import Series, DataFrame\n",
    "\n",
    "# 시각화 라이브러리\n",
    "import matplotlib.pyplot as plt\n",
    "import matplotlib as mpl\n",
    "import matplotlib.ticker as ticker\n",
    "import seaborn as sns\n",
    "%matplotlib inline\n",
    "\n",
    "# 소수점 3자리까지 표시\n",
    "%precision 3"
   ]
  },
  {
   "cell_type": "code",
   "execution_count": 2,
   "metadata": {},
   "outputs": [
    {
     "name": "stderr",
     "output_type": "stream",
     "text": [
      "[nltk_data] Downloading package vader_lexicon to /Users/seong-\n",
      "[nltk_data]     gang/nltk_data...\n",
      "[nltk_data]   Package vader_lexicon is already up-to-date!\n"
     ]
    }
   ],
   "source": [
    "# nlu를 위한 module를 import한다.\n",
    "import nltk\n",
    "nltk.download('vader_lexicon')\n",
    "from nltk.sentiment.vader import SentimentIntensityAnalyzer\n",
    "\n",
    "sid = SentimentIntensityAnalyzer"
   ]
  },
  {
   "cell_type": "markdown",
   "metadata": {},
   "source": [
    "#### 2) data loding\n",
    "- 처음에는 train dataset, test dataset을 다 쓸수 있을 것으로 기대하였지만, test dataset에는 voted 데이터가 빠져있기 때문에 사용하지 못했다."
   ]
  },
  {
   "cell_type": "code",
   "execution_count": 3,
   "metadata": {
    "scrolled": true
   },
   "outputs": [
    {
     "data": {
      "text/html": [
       "<div>\n",
       "<style scoped>\n",
       "    .dataframe tbody tr th:only-of-type {\n",
       "        vertical-align: middle;\n",
       "    }\n",
       "\n",
       "    .dataframe tbody tr th {\n",
       "        vertical-align: top;\n",
       "    }\n",
       "\n",
       "    .dataframe thead th {\n",
       "        text-align: right;\n",
       "    }\n",
       "</style>\n",
       "<table border=\"1\" class=\"dataframe\">\n",
       "  <thead>\n",
       "    <tr style=\"text-align: right;\">\n",
       "      <th></th>\n",
       "      <th>index</th>\n",
       "      <th>QaA</th>\n",
       "      <th>QaE</th>\n",
       "      <th>QbA</th>\n",
       "      <th>QbE</th>\n",
       "      <th>QcA</th>\n",
       "      <th>QcE</th>\n",
       "      <th>QdA</th>\n",
       "      <th>QdE</th>\n",
       "      <th>QeA</th>\n",
       "      <th>...</th>\n",
       "      <th>wr_04</th>\n",
       "      <th>wr_05</th>\n",
       "      <th>wr_06</th>\n",
       "      <th>wr_07</th>\n",
       "      <th>wr_08</th>\n",
       "      <th>wr_09</th>\n",
       "      <th>wr_10</th>\n",
       "      <th>wr_11</th>\n",
       "      <th>wr_12</th>\n",
       "      <th>wr_13</th>\n",
       "    </tr>\n",
       "  </thead>\n",
       "  <tbody>\n",
       "    <tr>\n",
       "      <th>0</th>\n",
       "      <td>0</td>\n",
       "      <td>3.0</td>\n",
       "      <td>363</td>\n",
       "      <td>4.0</td>\n",
       "      <td>1370</td>\n",
       "      <td>5.0</td>\n",
       "      <td>997</td>\n",
       "      <td>1.0</td>\n",
       "      <td>1024</td>\n",
       "      <td>2.0</td>\n",
       "      <td>...</td>\n",
       "      <td>0</td>\n",
       "      <td>1</td>\n",
       "      <td>0</td>\n",
       "      <td>1</td>\n",
       "      <td>1</td>\n",
       "      <td>0</td>\n",
       "      <td>1</td>\n",
       "      <td>0</td>\n",
       "      <td>1</td>\n",
       "      <td>1</td>\n",
       "    </tr>\n",
       "    <tr>\n",
       "      <th>1</th>\n",
       "      <td>1</td>\n",
       "      <td>5.0</td>\n",
       "      <td>647</td>\n",
       "      <td>5.0</td>\n",
       "      <td>1313</td>\n",
       "      <td>3.0</td>\n",
       "      <td>3387</td>\n",
       "      <td>5.0</td>\n",
       "      <td>2969</td>\n",
       "      <td>1.0</td>\n",
       "      <td>...</td>\n",
       "      <td>1</td>\n",
       "      <td>1</td>\n",
       "      <td>0</td>\n",
       "      <td>1</td>\n",
       "      <td>1</td>\n",
       "      <td>0</td>\n",
       "      <td>1</td>\n",
       "      <td>0</td>\n",
       "      <td>1</td>\n",
       "      <td>1</td>\n",
       "    </tr>\n",
       "    <tr>\n",
       "      <th>2</th>\n",
       "      <td>2</td>\n",
       "      <td>4.0</td>\n",
       "      <td>1623</td>\n",
       "      <td>1.0</td>\n",
       "      <td>1480</td>\n",
       "      <td>1.0</td>\n",
       "      <td>1021</td>\n",
       "      <td>4.0</td>\n",
       "      <td>3374</td>\n",
       "      <td>5.0</td>\n",
       "      <td>...</td>\n",
       "      <td>1</td>\n",
       "      <td>1</td>\n",
       "      <td>0</td>\n",
       "      <td>1</td>\n",
       "      <td>1</td>\n",
       "      <td>1</td>\n",
       "      <td>1</td>\n",
       "      <td>0</td>\n",
       "      <td>1</td>\n",
       "      <td>1</td>\n",
       "    </tr>\n",
       "    <tr>\n",
       "      <th>3</th>\n",
       "      <td>3</td>\n",
       "      <td>3.0</td>\n",
       "      <td>504</td>\n",
       "      <td>3.0</td>\n",
       "      <td>2311</td>\n",
       "      <td>4.0</td>\n",
       "      <td>992</td>\n",
       "      <td>3.0</td>\n",
       "      <td>3245</td>\n",
       "      <td>1.0</td>\n",
       "      <td>...</td>\n",
       "      <td>0</td>\n",
       "      <td>0</td>\n",
       "      <td>0</td>\n",
       "      <td>0</td>\n",
       "      <td>1</td>\n",
       "      <td>0</td>\n",
       "      <td>1</td>\n",
       "      <td>0</td>\n",
       "      <td>1</td>\n",
       "      <td>1</td>\n",
       "    </tr>\n",
       "    <tr>\n",
       "      <th>4</th>\n",
       "      <td>4</td>\n",
       "      <td>1.0</td>\n",
       "      <td>927</td>\n",
       "      <td>1.0</td>\n",
       "      <td>707</td>\n",
       "      <td>5.0</td>\n",
       "      <td>556</td>\n",
       "      <td>2.0</td>\n",
       "      <td>1062</td>\n",
       "      <td>1.0</td>\n",
       "      <td>...</td>\n",
       "      <td>1</td>\n",
       "      <td>1</td>\n",
       "      <td>1</td>\n",
       "      <td>1</td>\n",
       "      <td>1</td>\n",
       "      <td>0</td>\n",
       "      <td>1</td>\n",
       "      <td>1</td>\n",
       "      <td>1</td>\n",
       "      <td>1</td>\n",
       "    </tr>\n",
       "    <tr>\n",
       "      <th>...</th>\n",
       "      <td>...</td>\n",
       "      <td>...</td>\n",
       "      <td>...</td>\n",
       "      <td>...</td>\n",
       "      <td>...</td>\n",
       "      <td>...</td>\n",
       "      <td>...</td>\n",
       "      <td>...</td>\n",
       "      <td>...</td>\n",
       "      <td>...</td>\n",
       "      <td>...</td>\n",
       "      <td>...</td>\n",
       "      <td>...</td>\n",
       "      <td>...</td>\n",
       "      <td>...</td>\n",
       "      <td>...</td>\n",
       "      <td>...</td>\n",
       "      <td>...</td>\n",
       "      <td>...</td>\n",
       "      <td>...</td>\n",
       "      <td>...</td>\n",
       "    </tr>\n",
       "    <tr>\n",
       "      <th>45527</th>\n",
       "      <td>45527</td>\n",
       "      <td>2.0</td>\n",
       "      <td>1050</td>\n",
       "      <td>5.0</td>\n",
       "      <td>619</td>\n",
       "      <td>4.0</td>\n",
       "      <td>328</td>\n",
       "      <td>1.0</td>\n",
       "      <td>285</td>\n",
       "      <td>1.0</td>\n",
       "      <td>...</td>\n",
       "      <td>1</td>\n",
       "      <td>1</td>\n",
       "      <td>0</td>\n",
       "      <td>1</td>\n",
       "      <td>1</td>\n",
       "      <td>1</td>\n",
       "      <td>1</td>\n",
       "      <td>0</td>\n",
       "      <td>1</td>\n",
       "      <td>1</td>\n",
       "    </tr>\n",
       "    <tr>\n",
       "      <th>45528</th>\n",
       "      <td>45528</td>\n",
       "      <td>2.0</td>\n",
       "      <td>581</td>\n",
       "      <td>3.0</td>\n",
       "      <td>1353</td>\n",
       "      <td>4.0</td>\n",
       "      <td>1164</td>\n",
       "      <td>1.0</td>\n",
       "      <td>798</td>\n",
       "      <td>3.0</td>\n",
       "      <td>...</td>\n",
       "      <td>1</td>\n",
       "      <td>1</td>\n",
       "      <td>0</td>\n",
       "      <td>1</td>\n",
       "      <td>1</td>\n",
       "      <td>1</td>\n",
       "      <td>1</td>\n",
       "      <td>0</td>\n",
       "      <td>1</td>\n",
       "      <td>1</td>\n",
       "    </tr>\n",
       "    <tr>\n",
       "      <th>45529</th>\n",
       "      <td>45529</td>\n",
       "      <td>4.0</td>\n",
       "      <td>593</td>\n",
       "      <td>1.0</td>\n",
       "      <td>857</td>\n",
       "      <td>1.0</td>\n",
       "      <td>1047</td>\n",
       "      <td>4.0</td>\n",
       "      <td>1515</td>\n",
       "      <td>5.0</td>\n",
       "      <td>...</td>\n",
       "      <td>1</td>\n",
       "      <td>1</td>\n",
       "      <td>0</td>\n",
       "      <td>1</td>\n",
       "      <td>1</td>\n",
       "      <td>0</td>\n",
       "      <td>1</td>\n",
       "      <td>0</td>\n",
       "      <td>1</td>\n",
       "      <td>1</td>\n",
       "    </tr>\n",
       "    <tr>\n",
       "      <th>45530</th>\n",
       "      <td>45530</td>\n",
       "      <td>1.0</td>\n",
       "      <td>747</td>\n",
       "      <td>3.0</td>\n",
       "      <td>1331</td>\n",
       "      <td>4.0</td>\n",
       "      <td>892</td>\n",
       "      <td>2.0</td>\n",
       "      <td>1281</td>\n",
       "      <td>1.0</td>\n",
       "      <td>...</td>\n",
       "      <td>1</td>\n",
       "      <td>1</td>\n",
       "      <td>0</td>\n",
       "      <td>1</td>\n",
       "      <td>1</td>\n",
       "      <td>1</td>\n",
       "      <td>1</td>\n",
       "      <td>0</td>\n",
       "      <td>1</td>\n",
       "      <td>1</td>\n",
       "    </tr>\n",
       "    <tr>\n",
       "      <th>45531</th>\n",
       "      <td>45531</td>\n",
       "      <td>3.0</td>\n",
       "      <td>496</td>\n",
       "      <td>5.0</td>\n",
       "      <td>1827</td>\n",
       "      <td>5.0</td>\n",
       "      <td>754</td>\n",
       "      <td>3.0</td>\n",
       "      <td>1117</td>\n",
       "      <td>1.0</td>\n",
       "      <td>...</td>\n",
       "      <td>1</td>\n",
       "      <td>1</td>\n",
       "      <td>0</td>\n",
       "      <td>1</td>\n",
       "      <td>1</td>\n",
       "      <td>0</td>\n",
       "      <td>1</td>\n",
       "      <td>0</td>\n",
       "      <td>1</td>\n",
       "      <td>1</td>\n",
       "    </tr>\n",
       "  </tbody>\n",
       "</table>\n",
       "<p>45532 rows × 78 columns</p>\n",
       "</div>"
      ],
      "text/plain": [
       "       index  QaA   QaE  QbA   QbE  QcA   QcE  QdA   QdE  QeA  ...  wr_04  \\\n",
       "0          0  3.0   363  4.0  1370  5.0   997  1.0  1024  2.0  ...      0   \n",
       "1          1  5.0   647  5.0  1313  3.0  3387  5.0  2969  1.0  ...      1   \n",
       "2          2  4.0  1623  1.0  1480  1.0  1021  4.0  3374  5.0  ...      1   \n",
       "3          3  3.0   504  3.0  2311  4.0   992  3.0  3245  1.0  ...      0   \n",
       "4          4  1.0   927  1.0   707  5.0   556  2.0  1062  1.0  ...      1   \n",
       "...      ...  ...   ...  ...   ...  ...   ...  ...   ...  ...  ...    ...   \n",
       "45527  45527  2.0  1050  5.0   619  4.0   328  1.0   285  1.0  ...      1   \n",
       "45528  45528  2.0   581  3.0  1353  4.0  1164  1.0   798  3.0  ...      1   \n",
       "45529  45529  4.0   593  1.0   857  1.0  1047  4.0  1515  5.0  ...      1   \n",
       "45530  45530  1.0   747  3.0  1331  4.0   892  2.0  1281  1.0  ...      1   \n",
       "45531  45531  3.0   496  5.0  1827  5.0   754  3.0  1117  1.0  ...      1   \n",
       "\n",
       "       wr_05  wr_06  wr_07  wr_08  wr_09  wr_10  wr_11  wr_12  wr_13  \n",
       "0          1      0      1      1      0      1      0      1      1  \n",
       "1          1      0      1      1      0      1      0      1      1  \n",
       "2          1      0      1      1      1      1      0      1      1  \n",
       "3          0      0      0      1      0      1      0      1      1  \n",
       "4          1      1      1      1      0      1      1      1      1  \n",
       "...      ...    ...    ...    ...    ...    ...    ...    ...    ...  \n",
       "45527      1      0      1      1      1      1      0      1      1  \n",
       "45528      1      0      1      1      1      1      0      1      1  \n",
       "45529      1      0      1      1      0      1      0      1      1  \n",
       "45530      1      0      1      1      1      1      0      1      1  \n",
       "45531      1      0      1      1      0      1      0      1      1  \n",
       "\n",
       "[45532 rows x 78 columns]"
      ]
     },
     "execution_count": 3,
     "metadata": {},
     "output_type": "execute_result"
    }
   ],
   "source": [
    "data = pd.read_csv(\"./open data/train.csv\")\n",
    "data"
   ]
  },
  {
   "cell_type": "markdown",
   "metadata": {},
   "source": [
    "#### 3) getting time data\n",
    "- Q_E라는 요소를 활용한다.\n",
    "    - 이는 초 단위는 아니지만, 상대적인 변수이기 때문에, 그 값이 클수록 문제를 답하는데 시간이 오래걸렸다고 볼 수 있을 듯 하다."
   ]
  },
  {
   "cell_type": "code",
   "execution_count": 4,
   "metadata": {
    "scrolled": true
   },
   "outputs": [
    {
     "data": {
      "text/html": [
       "<div>\n",
       "<style scoped>\n",
       "    .dataframe tbody tr th:only-of-type {\n",
       "        vertical-align: middle;\n",
       "    }\n",
       "\n",
       "    .dataframe tbody tr th {\n",
       "        vertical-align: top;\n",
       "    }\n",
       "\n",
       "    .dataframe thead th {\n",
       "        text-align: right;\n",
       "    }\n",
       "</style>\n",
       "<table border=\"1\" class=\"dataframe\">\n",
       "  <thead>\n",
       "    <tr style=\"text-align: right;\">\n",
       "      <th></th>\n",
       "      <th>QaE</th>\n",
       "      <th>QbE</th>\n",
       "      <th>QcE</th>\n",
       "      <th>QdE</th>\n",
       "      <th>QeE</th>\n",
       "      <th>QfE</th>\n",
       "      <th>QgE</th>\n",
       "      <th>QhE</th>\n",
       "      <th>QiE</th>\n",
       "      <th>QjE</th>\n",
       "      <th>QkE</th>\n",
       "      <th>QlE</th>\n",
       "      <th>QmE</th>\n",
       "      <th>QnE</th>\n",
       "      <th>QoE</th>\n",
       "      <th>QpE</th>\n",
       "      <th>QqE</th>\n",
       "      <th>QrE</th>\n",
       "      <th>QsE</th>\n",
       "      <th>QtE</th>\n",
       "    </tr>\n",
       "  </thead>\n",
       "  <tbody>\n",
       "    <tr>\n",
       "      <th>0</th>\n",
       "      <td>363</td>\n",
       "      <td>1370</td>\n",
       "      <td>997</td>\n",
       "      <td>1024</td>\n",
       "      <td>1577</td>\n",
       "      <td>539</td>\n",
       "      <td>586</td>\n",
       "      <td>1095</td>\n",
       "      <td>1142</td>\n",
       "      <td>1287</td>\n",
       "      <td>883</td>\n",
       "      <td>851</td>\n",
       "      <td>851</td>\n",
       "      <td>816</td>\n",
       "      <td>579</td>\n",
       "      <td>924</td>\n",
       "      <td>366</td>\n",
       "      <td>876</td>\n",
       "      <td>633</td>\n",
       "      <td>1115</td>\n",
       "    </tr>\n",
       "    <tr>\n",
       "      <th>1</th>\n",
       "      <td>647</td>\n",
       "      <td>1313</td>\n",
       "      <td>3387</td>\n",
       "      <td>2969</td>\n",
       "      <td>4320</td>\n",
       "      <td>2190</td>\n",
       "      <td>826</td>\n",
       "      <td>4082</td>\n",
       "      <td>1867</td>\n",
       "      <td>1264</td>\n",
       "      <td>2943</td>\n",
       "      <td>3927</td>\n",
       "      <td>4329</td>\n",
       "      <td>1828</td>\n",
       "      <td>1214</td>\n",
       "      <td>2414</td>\n",
       "      <td>1356</td>\n",
       "      <td>3039</td>\n",
       "      <td>4304</td>\n",
       "      <td>1346</td>\n",
       "    </tr>\n",
       "    <tr>\n",
       "      <th>2</th>\n",
       "      <td>1623</td>\n",
       "      <td>1480</td>\n",
       "      <td>1021</td>\n",
       "      <td>3374</td>\n",
       "      <td>1333</td>\n",
       "      <td>531</td>\n",
       "      <td>1167</td>\n",
       "      <td>1016</td>\n",
       "      <td>2653</td>\n",
       "      <td>1569</td>\n",
       "      <td>998</td>\n",
       "      <td>2547</td>\n",
       "      <td>918</td>\n",
       "      <td>2153</td>\n",
       "      <td>1304</td>\n",
       "      <td>1131</td>\n",
       "      <td>937</td>\n",
       "      <td>1327</td>\n",
       "      <td>1170</td>\n",
       "      <td>1409</td>\n",
       "    </tr>\n",
       "    <tr>\n",
       "      <th>3</th>\n",
       "      <td>504</td>\n",
       "      <td>2311</td>\n",
       "      <td>992</td>\n",
       "      <td>3245</td>\n",
       "      <td>357</td>\n",
       "      <td>1519</td>\n",
       "      <td>159</td>\n",
       "      <td>2275</td>\n",
       "      <td>2809</td>\n",
       "      <td>5614</td>\n",
       "      <td>3219</td>\n",
       "      <td>1296</td>\n",
       "      <td>9046</td>\n",
       "      <td>1216</td>\n",
       "      <td>1169</td>\n",
       "      <td>23868</td>\n",
       "      <td>581</td>\n",
       "      <td>8830</td>\n",
       "      <td>2392</td>\n",
       "      <td>1312</td>\n",
       "    </tr>\n",
       "    <tr>\n",
       "      <th>4</th>\n",
       "      <td>927</td>\n",
       "      <td>707</td>\n",
       "      <td>556</td>\n",
       "      <td>1062</td>\n",
       "      <td>1014</td>\n",
       "      <td>628</td>\n",
       "      <td>991</td>\n",
       "      <td>1259</td>\n",
       "      <td>1153</td>\n",
       "      <td>1388</td>\n",
       "      <td>740</td>\n",
       "      <td>1181</td>\n",
       "      <td>547</td>\n",
       "      <td>575</td>\n",
       "      <td>754</td>\n",
       "      <td>1140</td>\n",
       "      <td>323</td>\n",
       "      <td>1070</td>\n",
       "      <td>583</td>\n",
       "      <td>1889</td>\n",
       "    </tr>\n",
       "    <tr>\n",
       "      <th>...</th>\n",
       "      <td>...</td>\n",
       "      <td>...</td>\n",
       "      <td>...</td>\n",
       "      <td>...</td>\n",
       "      <td>...</td>\n",
       "      <td>...</td>\n",
       "      <td>...</td>\n",
       "      <td>...</td>\n",
       "      <td>...</td>\n",
       "      <td>...</td>\n",
       "      <td>...</td>\n",
       "      <td>...</td>\n",
       "      <td>...</td>\n",
       "      <td>...</td>\n",
       "      <td>...</td>\n",
       "      <td>...</td>\n",
       "      <td>...</td>\n",
       "      <td>...</td>\n",
       "      <td>...</td>\n",
       "      <td>...</td>\n",
       "    </tr>\n",
       "    <tr>\n",
       "      <th>45527</th>\n",
       "      <td>1050</td>\n",
       "      <td>619</td>\n",
       "      <td>328</td>\n",
       "      <td>285</td>\n",
       "      <td>602</td>\n",
       "      <td>267</td>\n",
       "      <td>315</td>\n",
       "      <td>483</td>\n",
       "      <td>1016</td>\n",
       "      <td>278</td>\n",
       "      <td>611</td>\n",
       "      <td>215</td>\n",
       "      <td>388</td>\n",
       "      <td>299</td>\n",
       "      <td>1915</td>\n",
       "      <td>439</td>\n",
       "      <td>823</td>\n",
       "      <td>309</td>\n",
       "      <td>586</td>\n",
       "      <td>2252</td>\n",
       "    </tr>\n",
       "    <tr>\n",
       "      <th>45528</th>\n",
       "      <td>581</td>\n",
       "      <td>1353</td>\n",
       "      <td>1164</td>\n",
       "      <td>798</td>\n",
       "      <td>1680</td>\n",
       "      <td>560</td>\n",
       "      <td>640</td>\n",
       "      <td>1415</td>\n",
       "      <td>4494</td>\n",
       "      <td>1392</td>\n",
       "      <td>2478</td>\n",
       "      <td>1268</td>\n",
       "      <td>843</td>\n",
       "      <td>1401</td>\n",
       "      <td>1524</td>\n",
       "      <td>719</td>\n",
       "      <td>754</td>\n",
       "      <td>1118</td>\n",
       "      <td>654</td>\n",
       "      <td>1197</td>\n",
       "    </tr>\n",
       "    <tr>\n",
       "      <th>45529</th>\n",
       "      <td>593</td>\n",
       "      <td>857</td>\n",
       "      <td>1047</td>\n",
       "      <td>1515</td>\n",
       "      <td>1690</td>\n",
       "      <td>1253</td>\n",
       "      <td>1094</td>\n",
       "      <td>1283</td>\n",
       "      <td>2209</td>\n",
       "      <td>1764</td>\n",
       "      <td>1062</td>\n",
       "      <td>1489</td>\n",
       "      <td>1908</td>\n",
       "      <td>891</td>\n",
       "      <td>1298</td>\n",
       "      <td>1200</td>\n",
       "      <td>473</td>\n",
       "      <td>1779</td>\n",
       "      <td>1355</td>\n",
       "      <td>667</td>\n",
       "    </tr>\n",
       "    <tr>\n",
       "      <th>45530</th>\n",
       "      <td>747</td>\n",
       "      <td>1331</td>\n",
       "      <td>892</td>\n",
       "      <td>1281</td>\n",
       "      <td>1328</td>\n",
       "      <td>599</td>\n",
       "      <td>650</td>\n",
       "      <td>1429</td>\n",
       "      <td>1748</td>\n",
       "      <td>770</td>\n",
       "      <td>1025</td>\n",
       "      <td>742</td>\n",
       "      <td>4180</td>\n",
       "      <td>707</td>\n",
       "      <td>489</td>\n",
       "      <td>913</td>\n",
       "      <td>1301</td>\n",
       "      <td>1680</td>\n",
       "      <td>737</td>\n",
       "      <td>1124</td>\n",
       "    </tr>\n",
       "    <tr>\n",
       "      <th>45531</th>\n",
       "      <td>496</td>\n",
       "      <td>1827</td>\n",
       "      <td>754</td>\n",
       "      <td>1117</td>\n",
       "      <td>432</td>\n",
       "      <td>1422</td>\n",
       "      <td>545</td>\n",
       "      <td>1696</td>\n",
       "      <td>2172</td>\n",
       "      <td>7076</td>\n",
       "      <td>1087</td>\n",
       "      <td>1090</td>\n",
       "      <td>2195</td>\n",
       "      <td>431</td>\n",
       "      <td>914</td>\n",
       "      <td>620</td>\n",
       "      <td>410</td>\n",
       "      <td>736</td>\n",
       "      <td>667</td>\n",
       "      <td>1665</td>\n",
       "    </tr>\n",
       "  </tbody>\n",
       "</table>\n",
       "<p>45532 rows × 20 columns</p>\n",
       "</div>"
      ],
      "text/plain": [
       "        QaE   QbE   QcE   QdE   QeE   QfE   QgE   QhE   QiE   QjE   QkE   QlE  \\\n",
       "0       363  1370   997  1024  1577   539   586  1095  1142  1287   883   851   \n",
       "1       647  1313  3387  2969  4320  2190   826  4082  1867  1264  2943  3927   \n",
       "2      1623  1480  1021  3374  1333   531  1167  1016  2653  1569   998  2547   \n",
       "3       504  2311   992  3245   357  1519   159  2275  2809  5614  3219  1296   \n",
       "4       927   707   556  1062  1014   628   991  1259  1153  1388   740  1181   \n",
       "...     ...   ...   ...   ...   ...   ...   ...   ...   ...   ...   ...   ...   \n",
       "45527  1050   619   328   285   602   267   315   483  1016   278   611   215   \n",
       "45528   581  1353  1164   798  1680   560   640  1415  4494  1392  2478  1268   \n",
       "45529   593   857  1047  1515  1690  1253  1094  1283  2209  1764  1062  1489   \n",
       "45530   747  1331   892  1281  1328   599   650  1429  1748   770  1025   742   \n",
       "45531   496  1827   754  1117   432  1422   545  1696  2172  7076  1087  1090   \n",
       "\n",
       "        QmE   QnE   QoE    QpE   QqE   QrE   QsE   QtE  \n",
       "0       851   816   579    924   366   876   633  1115  \n",
       "1      4329  1828  1214   2414  1356  3039  4304  1346  \n",
       "2       918  2153  1304   1131   937  1327  1170  1409  \n",
       "3      9046  1216  1169  23868   581  8830  2392  1312  \n",
       "4       547   575   754   1140   323  1070   583  1889  \n",
       "...     ...   ...   ...    ...   ...   ...   ...   ...  \n",
       "45527   388   299  1915    439   823   309   586  2252  \n",
       "45528   843  1401  1524    719   754  1118   654  1197  \n",
       "45529  1908   891  1298   1200   473  1779  1355   667  \n",
       "45530  4180   707   489    913  1301  1680   737  1124  \n",
       "45531  2195   431   914    620   410   736   667  1665  \n",
       "\n",
       "[45532 rows x 20 columns]"
      ]
     },
     "execution_count": 4,
     "metadata": {},
     "output_type": "execute_result"
    }
   ],
   "source": [
    "time_answer_list = [f\"Q{i}E\" for i in \"abcdefghijklmnopqrst\"]\n",
    "time_answer = data[time_answer_list]\n",
    "time_answer"
   ]
  },
  {
   "cell_type": "markdown",
   "metadata": {},
   "source": [
    "- 먼저 정말로 질문들에 대한 대답이 정규분포와 같은 납득이 가능한 분포를 이루는지 확인하는 과정을 거친다."
   ]
  },
  {
   "cell_type": "code",
   "execution_count": 5,
   "metadata": {},
   "outputs": [
    {
     "data": {
      "text/html": [
       "<div>\n",
       "<style scoped>\n",
       "    .dataframe tbody tr th:only-of-type {\n",
       "        vertical-align: middle;\n",
       "    }\n",
       "\n",
       "    .dataframe tbody tr th {\n",
       "        vertical-align: top;\n",
       "    }\n",
       "\n",
       "    .dataframe thead th {\n",
       "        text-align: right;\n",
       "    }\n",
       "</style>\n",
       "<table border=\"1\" class=\"dataframe\">\n",
       "  <thead>\n",
       "    <tr style=\"text-align: right;\">\n",
       "      <th></th>\n",
       "      <th>QaE</th>\n",
       "    </tr>\n",
       "  </thead>\n",
       "  <tbody>\n",
       "    <tr>\n",
       "      <th>0</th>\n",
       "      <td>363</td>\n",
       "    </tr>\n",
       "    <tr>\n",
       "      <th>1</th>\n",
       "      <td>647</td>\n",
       "    </tr>\n",
       "    <tr>\n",
       "      <th>2</th>\n",
       "      <td>1623</td>\n",
       "    </tr>\n",
       "    <tr>\n",
       "      <th>3</th>\n",
       "      <td>504</td>\n",
       "    </tr>\n",
       "    <tr>\n",
       "      <th>4</th>\n",
       "      <td>927</td>\n",
       "    </tr>\n",
       "    <tr>\n",
       "      <th>...</th>\n",
       "      <td>...</td>\n",
       "    </tr>\n",
       "    <tr>\n",
       "      <th>45527</th>\n",
       "      <td>1050</td>\n",
       "    </tr>\n",
       "    <tr>\n",
       "      <th>45528</th>\n",
       "      <td>581</td>\n",
       "    </tr>\n",
       "    <tr>\n",
       "      <th>45529</th>\n",
       "      <td>593</td>\n",
       "    </tr>\n",
       "    <tr>\n",
       "      <th>45530</th>\n",
       "      <td>747</td>\n",
       "    </tr>\n",
       "    <tr>\n",
       "      <th>45531</th>\n",
       "      <td>496</td>\n",
       "    </tr>\n",
       "  </tbody>\n",
       "</table>\n",
       "<p>45532 rows × 1 columns</p>\n",
       "</div>"
      ],
      "text/plain": [
       "        QaE\n",
       "0       363\n",
       "1       647\n",
       "2      1623\n",
       "3       504\n",
       "4       927\n",
       "...     ...\n",
       "45527  1050\n",
       "45528   581\n",
       "45529   593\n",
       "45530   747\n",
       "45531   496\n",
       "\n",
       "[45532 rows x 1 columns]"
      ]
     },
     "execution_count": 5,
     "metadata": {},
     "output_type": "execute_result"
    }
   ],
   "source": [
    "time_a = time_answer[[\"QaE\"]]\n",
    "time_a"
   ]
  },
  {
   "cell_type": "code",
   "execution_count": 6,
   "metadata": {
    "scrolled": true
   },
   "outputs": [
    {
     "data": {
      "image/png": "[encoded data removed]",
      "text/plain": [
       "<Figure size 864x360 with 1 Axes>"
      ]
     },
     "metadata": {
      "needs_background": "light"
     },
     "output_type": "display_data"
    }
   ],
   "source": [
    "plt.rcParams[\"figure.figsize\"] = (12, 5)\n",
    "fig, ax = plt.subplots()\n",
    "sns.countplot(x=\"QaE\", data=time_a)\n",
    "ax.xaxis.set_major_locator(ticker.MultipleLocator(500))"
   ]
  },
  {
   "cell_type": "markdown",
   "metadata": {},
   "source": [
    "- 이후 QaE ~ QtE를 한번에 시각화하는 것에서도 xticks를 변화시켜줄려고했지만, 잘 되지 않았다.\n",
    "    - 그러나 이 작업의 목표는 사람들이 실제로 질문에 답변하는 시간에 있어서 정규분포를 따르는지를 확인하는 일에 있기 때문에, 큰 상관이 없다고 생각, 조사를 계속하였다.\n",
    "    - 아래의 코드는 실행하는데 엄청나게 긴 시간이 걸림."
   ]
  },
  {
   "cell_type": "code",
   "execution_count": 7,
   "metadata": {
    "scrolled": false
   },
   "outputs": [
    {
     "data": {
      "image/png": "[encoded data removed]",
      "text/plain": [
       "<Figure size 864x7200 with 20 Axes>"
      ]
     },
     "metadata": {
      "needs_background": "light"
     },
     "output_type": "display_data"
    }
   ],
   "source": [
    "plt.rcParams[\"figure.figsize\"] = (12, 100)\n",
    "fig, axes = plt.subplots(20, 1)\n",
    "for i in range(1,21):\n",
    "    plt.subplot(20, 1, i)\n",
    "    sub_data = time_answer[[time_answer_list[i-1]]]\n",
    "    x = time_answer_list[i-1]\n",
    "    sns.countplot(x=x, data=sub_data)"
   ]
  },
  {
   "cell_type": "markdown",
   "metadata": {},
   "source": [
    "- 이렇게 정규분포를 확인하는 이유는, 내가 생각하지 못한 요소가 드러날 수 있다고 생각했기 때문이다. 그렇기에 중간에 빈 공간의 크기가 비정상적으로 큰 질문들은 제외한다.\n",
    "    - 이렇게 생각하였지만, 현재 다른 노트북에서 다른 버전의 seaborn을 돌렸을 때와 그래프에 차이가 있다. 즉, 중간에 빈 값처럼 보이는 것은 너무 얇아서 빈 값으로 보이는 것이지 다르게 신경쓸 필요가 없는 것이다."
   ]
  },
  {
   "cell_type": "markdown",
   "metadata": {},
   "source": [
    "#### 4) nlu \n",
    "- 데이터를 제공해준 출처에 따르면, 사용자의 개인적인 사생활에 피해가 될 수도 있는 문제들 몇개는 secret으로 주어진다고 한다. \n",
    "- 이에 따라 secret하지 않은 질문들에 대해서는 nlu를 진행한다.\n",
    "    - 단, 현재 탐구 프로젝트는 이러한 모델링을 요구하는 것이 아니기 때문에 이미 있는 유명한 module을 가져와서 해당 단계를 진행한다.\n",
    "    - 차례대로 neg는 부정적인 정도, neu는 중립적인 정도, pos는 긍정적인 정도로, 3개의 합이 1이 되도록 나타난다. 이에 따라 나중에 질문별로 걸린 시간을 각각의 감정에 맞춰서 분류를 할 수 있는 것이다.\n",
    "    - 추가적으로 나타나는 compound에 대한 설명을 아래와 같다. 간단하게 설명하자면, -1에서 1사이의 값으로, 하나의 숫자로만 해당 문장을 분석해야할 때, 사용하는 지표이다. -1은 부정적인 것, 1은 긍정적인 것이다. 하지만 본 연구에서는 사용하지 않는 값이다.\n",
    "    - 솔직히 말해서 완전하게 마음에 드는 감정 분석은 아니었지만, 질문 자체가 3개의 카테고리만으로 정의되기에는 한계가 있는 것 같았으며, \"A sentiment lexicon is a list of lexical features (e.g., words) which are generally labeled according to their semantic orientation as either positive or negative.\"라는 설명 처럼 보통 안에 들어있는 단어들 자체의 부정적이거나, 긍정적인 요소를 분석한듯 한 느낌이 많이 들기는 하였다.\n"
   ]
  },
  {
   "cell_type": "code",
   "execution_count": 8,
   "metadata": {},
   "outputs": [
    {
     "name": "stdout",
     "output_type": "stream",
     "text": [
      "The biggest difference between most criminals and other people is that the criminals are stupid enough to get caught.----------------------------------------------------------------------- {'neg': 0.416, 'neu': 0.584, 'pos': 0.0, 'compound': -0.9079}\n",
      "Anyone who completely trusts anyone else is asking for trouble.----------------------------------------------------------------------------------------------------------------------------- {'neg': 0.192, 'neu': 0.568, 'pos': 0.241, 'compound': 0.1761}\n",
      "P.T. Barnum was wrong when he said that there's a sucker born every minute.----------------------------------------------------------------------------------------------------------------- {'neg': 0.371, 'neu': 0.629, 'pos': 0.0, 'compound': -0.7579}\n",
      "There is no excuse for lying to someone else.----------------------------------------------------------------------------------------------------------------------------------------------- {'neg': 0.434, 'neu': 0.465, 'pos': 0.101, 'compound': -0.6486}\n",
      "Most people forget more easily the death of their parents than the loss of their property.-------------------------------------------------------------------------------------------------- {'neg': 0.37, 'neu': 0.514, 'pos': 0.115, 'compound': -0.7139}\n",
      "It is safest to assume that all people have a vicious streak and it will come out when they are given a chance.----------------------------------------------------------------------------- {'neg': 0.099, 'neu': 0.714, 'pos': 0.187, 'compound': 0.296}\n",
      "All in all, it is better to be humble and honest than to be important and dishonest--------------------------------------------------------------------------------------------------------- {'neg': 0.15, 'neu': 0.526, 'pos': 0.324, 'compound': 0.5106}\n",
      "It is hard to get ahead without cutting corners here and there.----------------------------------------------------------------------------------------------------------------------------- {'neg': 0.11, 'neu': 0.783, 'pos': 0.107, 'compound': -0.0077}\n",
      "The best way to handle people is to tell them what they want to hear.----------------------------------------------------------------------------------------------------------------------- {'neg': 0.0, 'neu': 0.703, 'pos': 0.297, 'compound': 0.6705}\n",
      "Most people are basically good and kind.---------------------------------------------------------------------------------------------------------------------------------------------------- {'neg': 0.0, 'neu': 0.442, 'pos': 0.558, 'compound': 0.743}\n",
      "One should take action only when sure it is morally right.---------------------------------------------------------------------------------------------------------------------------------- {'neg': 0.0, 'neu': 0.813, 'pos': 0.187, 'compound': 0.3182}\n",
      "It is wise to flatter important people.----------------------------------------------------------------------------------------------------------------------------------------------------- {'neg': 0.0, 'neu': 0.388, 'pos': 0.612, 'compound': 0.6486}\n"
     ]
    }
   ],
   "source": [
    "sentences = [\"The biggest difference between most criminals and other people is that the criminals are stupid enough to get caught.\",  #Qb\n",
    "            \"Anyone who completely trusts anyone else is asking for trouble.\", #Qc\n",
    "            \"P.T. Barnum was wrong when he said that there's a sucker born every minute.\", #Qe\n",
    "            \"There is no excuse for lying to someone else.\", #Qf\n",
    "            \"Most people forget more easily the death of their parents than the loss of their property.\", #Qh\n",
    "            \"It is safest to assume that all people have a vicious streak and it will come out when they are given a chance.\", #Qj\n",
    "            \"All in all, it is better to be humble and honest than to be important and dishonest\", #Qk\n",
    "            \"It is hard to get ahead without cutting corners here and there.\", #Qm\n",
    "            \"The best way to handle people is to tell them what they want to hear.\", #Qo\n",
    "            \"Most people are basically good and kind.\", #Qq\n",
    "            \"One should take action only when sure it is morally right.\", #Qr\n",
    "            \"It is wise to flatter important people.\" #Qs\n",
    "            ]\n",
    "\n",
    "analyzer = SentimentIntensityAnalyzer()\n",
    "for sentence in sentences:\n",
    "    vs = analyzer.polarity_scores(sentence)\n",
    "    print(\"{:-<188} {}\".format(sentence, str(vs)))"
   ]
  },
  {
   "cell_type": "code",
   "execution_count": 9,
   "metadata": {},
   "outputs": [
    {
     "name": "stdout",
     "output_type": "stream",
     "text": [
      "{'QbE': {'neg': 0.416, 'neu': 0.584, 'pos': 0.0, 'compound': -0.9079}, 'QcE': {'neg': 0.192, 'neu': 0.568, 'pos': 0.241, 'compound': 0.1761}, 'QeE': {'neg': 0.371, 'neu': 0.629, 'pos': 0.0, 'compound': -0.7579}, 'QfE': {'neg': 0.434, 'neu': 0.465, 'pos': 0.101, 'compound': -0.6486}, 'QhE': {'neg': 0.37, 'neu': 0.514, 'pos': 0.115, 'compound': -0.7139}, 'QjE': {'neg': 0.099, 'neu': 0.714, 'pos': 0.187, 'compound': 0.296}, 'QkE': {'neg': 0.15, 'neu': 0.526, 'pos': 0.324, 'compound': 0.5106}, 'QmE': {'neg': 0.11, 'neu': 0.783, 'pos': 0.107, 'compound': -0.0077}, 'QoE': {'neg': 0.0, 'neu': 0.703, 'pos': 0.297, 'compound': 0.6705}, 'QqE': {'neg': 0.0, 'neu': 0.442, 'pos': 0.558, 'compound': 0.743}, 'QrE': {'neg': 0.0, 'neu': 0.813, 'pos': 0.187, 'compound': 0.3182}, 'QsE': {'neg': 0.0, 'neu': 0.388, 'pos': 0.612, 'compound': 0.6486}}\n",
      "True\n"
     ]
    }
   ],
   "source": [
    "nlu_question_list = [f\"Q{i}E\" for i in \"bcefhjkmoqrs\"]\n",
    "nlu_rate_list = [analyzer.polarity_scores(sentence) for sentence in sentences]\n",
    "nlu_rate_dict = dict(zip(nlu_question_list, nlu_rate_list))\n",
    "print(nlu_rate_dict)\n",
    "print(len(nlu_rate_dict) == len(sentences))"
   ]
  },
  {
   "cell_type": "markdown",
   "metadata": {},
   "source": [
    "#### 5) handling secret question\n",
    "- secret한 질문들을 다룰 방법에 대해서 생각해보았다. 즉, (a, d, g, i, l, n, p, t)을 해석하는 것이다. - 버리기에는 너무나 많은 데이터라고 생각을 하였기에, 이를 접근하는 방법에 대해서 고민을 해보았다.\n",
    "- 개인적으로 생각한 기법은 아래와 같다.(이때, 1일수록 해당 질문에 대하여 그렇다고 생각하는 지표이다.)\n",
    "    - 사용자 별로 해당 질문에 대답한 답변(1,2,3,4,5 중 하나): a(i)\n",
    "    - 사용자가 다른 질문에 대답한 답변들(1,2,3,4,5 중 하나): b(i), c(i), d(i), ...\n",
    "    - (a(i) - b(i))^2의 작업을 c(i), d(i), .. 에 대해서도 진행한다.\n",
    "    - 해당 작업을 모든 사용자들에 대해서한다.(a(1) ~ a(56915))\n",
    "    - 그 차가 가장 적은 질문을 선택하여(b라 하자), a라는 질문에 b에 해당한 nlu 값을 할당한다."
   ]
  },
  {
   "cell_type": "code",
   "execution_count": 10,
   "metadata": {},
   "outputs": [
    {
     "data": {
      "text/html": [
       "<div>\n",
       "<style scoped>\n",
       "    .dataframe tbody tr th:only-of-type {\n",
       "        vertical-align: middle;\n",
       "    }\n",
       "\n",
       "    .dataframe tbody tr th {\n",
       "        vertical-align: top;\n",
       "    }\n",
       "\n",
       "    .dataframe thead th {\n",
       "        text-align: right;\n",
       "    }\n",
       "</style>\n",
       "<table border=\"1\" class=\"dataframe\">\n",
       "  <thead>\n",
       "    <tr style=\"text-align: right;\">\n",
       "      <th></th>\n",
       "      <th>index</th>\n",
       "      <th>QaA</th>\n",
       "      <th>QaE</th>\n",
       "      <th>QbA</th>\n",
       "      <th>QbE</th>\n",
       "      <th>QcA</th>\n",
       "      <th>QcE</th>\n",
       "      <th>QdA</th>\n",
       "      <th>QdE</th>\n",
       "      <th>QeA</th>\n",
       "      <th>...</th>\n",
       "      <th>wr_04</th>\n",
       "      <th>wr_05</th>\n",
       "      <th>wr_06</th>\n",
       "      <th>wr_07</th>\n",
       "      <th>wr_08</th>\n",
       "      <th>wr_09</th>\n",
       "      <th>wr_10</th>\n",
       "      <th>wr_11</th>\n",
       "      <th>wr_12</th>\n",
       "      <th>wr_13</th>\n",
       "    </tr>\n",
       "  </thead>\n",
       "  <tbody>\n",
       "    <tr>\n",
       "      <th>0</th>\n",
       "      <td>0</td>\n",
       "      <td>3.0</td>\n",
       "      <td>363</td>\n",
       "      <td>4.0</td>\n",
       "      <td>1370</td>\n",
       "      <td>5.0</td>\n",
       "      <td>997</td>\n",
       "      <td>1.0</td>\n",
       "      <td>1024</td>\n",
       "      <td>2.0</td>\n",
       "      <td>...</td>\n",
       "      <td>0</td>\n",
       "      <td>1</td>\n",
       "      <td>0</td>\n",
       "      <td>1</td>\n",
       "      <td>1</td>\n",
       "      <td>0</td>\n",
       "      <td>1</td>\n",
       "      <td>0</td>\n",
       "      <td>1</td>\n",
       "      <td>1</td>\n",
       "    </tr>\n",
       "    <tr>\n",
       "      <th>1</th>\n",
       "      <td>1</td>\n",
       "      <td>5.0</td>\n",
       "      <td>647</td>\n",
       "      <td>5.0</td>\n",
       "      <td>1313</td>\n",
       "      <td>3.0</td>\n",
       "      <td>3387</td>\n",
       "      <td>5.0</td>\n",
       "      <td>2969</td>\n",
       "      <td>1.0</td>\n",
       "      <td>...</td>\n",
       "      <td>1</td>\n",
       "      <td>1</td>\n",
       "      <td>0</td>\n",
       "      <td>1</td>\n",
       "      <td>1</td>\n",
       "      <td>0</td>\n",
       "      <td>1</td>\n",
       "      <td>0</td>\n",
       "      <td>1</td>\n",
       "      <td>1</td>\n",
       "    </tr>\n",
       "    <tr>\n",
       "      <th>2</th>\n",
       "      <td>2</td>\n",
       "      <td>4.0</td>\n",
       "      <td>1623</td>\n",
       "      <td>1.0</td>\n",
       "      <td>1480</td>\n",
       "      <td>1.0</td>\n",
       "      <td>1021</td>\n",
       "      <td>4.0</td>\n",
       "      <td>3374</td>\n",
       "      <td>5.0</td>\n",
       "      <td>...</td>\n",
       "      <td>1</td>\n",
       "      <td>1</td>\n",
       "      <td>0</td>\n",
       "      <td>1</td>\n",
       "      <td>1</td>\n",
       "      <td>1</td>\n",
       "      <td>1</td>\n",
       "      <td>0</td>\n",
       "      <td>1</td>\n",
       "      <td>1</td>\n",
       "    </tr>\n",
       "    <tr>\n",
       "      <th>3</th>\n",
       "      <td>3</td>\n",
       "      <td>3.0</td>\n",
       "      <td>504</td>\n",
       "      <td>3.0</td>\n",
       "      <td>2311</td>\n",
       "      <td>4.0</td>\n",
       "      <td>992</td>\n",
       "      <td>3.0</td>\n",
       "      <td>3245</td>\n",
       "      <td>1.0</td>\n",
       "      <td>...</td>\n",
       "      <td>0</td>\n",
       "      <td>0</td>\n",
       "      <td>0</td>\n",
       "      <td>0</td>\n",
       "      <td>1</td>\n",
       "      <td>0</td>\n",
       "      <td>1</td>\n",
       "      <td>0</td>\n",
       "      <td>1</td>\n",
       "      <td>1</td>\n",
       "    </tr>\n",
       "    <tr>\n",
       "      <th>4</th>\n",
       "      <td>4</td>\n",
       "      <td>1.0</td>\n",
       "      <td>927</td>\n",
       "      <td>1.0</td>\n",
       "      <td>707</td>\n",
       "      <td>5.0</td>\n",
       "      <td>556</td>\n",
       "      <td>2.0</td>\n",
       "      <td>1062</td>\n",
       "      <td>1.0</td>\n",
       "      <td>...</td>\n",
       "      <td>1</td>\n",
       "      <td>1</td>\n",
       "      <td>1</td>\n",
       "      <td>1</td>\n",
       "      <td>1</td>\n",
       "      <td>0</td>\n",
       "      <td>1</td>\n",
       "      <td>1</td>\n",
       "      <td>1</td>\n",
       "      <td>1</td>\n",
       "    </tr>\n",
       "    <tr>\n",
       "      <th>...</th>\n",
       "      <td>...</td>\n",
       "      <td>...</td>\n",
       "      <td>...</td>\n",
       "      <td>...</td>\n",
       "      <td>...</td>\n",
       "      <td>...</td>\n",
       "      <td>...</td>\n",
       "      <td>...</td>\n",
       "      <td>...</td>\n",
       "      <td>...</td>\n",
       "      <td>...</td>\n",
       "      <td>...</td>\n",
       "      <td>...</td>\n",
       "      <td>...</td>\n",
       "      <td>...</td>\n",
       "      <td>...</td>\n",
       "      <td>...</td>\n",
       "      <td>...</td>\n",
       "      <td>...</td>\n",
       "      <td>...</td>\n",
       "      <td>...</td>\n",
       "    </tr>\n",
       "    <tr>\n",
       "      <th>45527</th>\n",
       "      <td>45527</td>\n",
       "      <td>2.0</td>\n",
       "      <td>1050</td>\n",
       "      <td>5.0</td>\n",
       "      <td>619</td>\n",
       "      <td>4.0</td>\n",
       "      <td>328</td>\n",
       "      <td>1.0</td>\n",
       "      <td>285</td>\n",
       "      <td>1.0</td>\n",
       "      <td>...</td>\n",
       "      <td>1</td>\n",
       "      <td>1</td>\n",
       "      <td>0</td>\n",
       "      <td>1</td>\n",
       "      <td>1</td>\n",
       "      <td>1</td>\n",
       "      <td>1</td>\n",
       "      <td>0</td>\n",
       "      <td>1</td>\n",
       "      <td>1</td>\n",
       "    </tr>\n",
       "    <tr>\n",
       "      <th>45528</th>\n",
       "      <td>45528</td>\n",
       "      <td>2.0</td>\n",
       "      <td>581</td>\n",
       "      <td>3.0</td>\n",
       "      <td>1353</td>\n",
       "      <td>4.0</td>\n",
       "      <td>1164</td>\n",
       "      <td>1.0</td>\n",
       "      <td>798</td>\n",
       "      <td>3.0</td>\n",
       "      <td>...</td>\n",
       "      <td>1</td>\n",
       "      <td>1</td>\n",
       "      <td>0</td>\n",
       "      <td>1</td>\n",
       "      <td>1</td>\n",
       "      <td>1</td>\n",
       "      <td>1</td>\n",
       "      <td>0</td>\n",
       "      <td>1</td>\n",
       "      <td>1</td>\n",
       "    </tr>\n",
       "    <tr>\n",
       "      <th>45529</th>\n",
       "      <td>45529</td>\n",
       "      <td>4.0</td>\n",
       "      <td>593</td>\n",
       "      <td>1.0</td>\n",
       "      <td>857</td>\n",
       "      <td>1.0</td>\n",
       "      <td>1047</td>\n",
       "      <td>4.0</td>\n",
       "      <td>1515</td>\n",
       "      <td>5.0</td>\n",
       "      <td>...</td>\n",
       "      <td>1</td>\n",
       "      <td>1</td>\n",
       "      <td>0</td>\n",
       "      <td>1</td>\n",
       "      <td>1</td>\n",
       "      <td>0</td>\n",
       "      <td>1</td>\n",
       "      <td>0</td>\n",
       "      <td>1</td>\n",
       "      <td>1</td>\n",
       "    </tr>\n",
       "    <tr>\n",
       "      <th>45530</th>\n",
       "      <td>45530</td>\n",
       "      <td>1.0</td>\n",
       "      <td>747</td>\n",
       "      <td>3.0</td>\n",
       "      <td>1331</td>\n",
       "      <td>4.0</td>\n",
       "      <td>892</td>\n",
       "      <td>2.0</td>\n",
       "      <td>1281</td>\n",
       "      <td>1.0</td>\n",
       "      <td>...</td>\n",
       "      <td>1</td>\n",
       "      <td>1</td>\n",
       "      <td>0</td>\n",
       "      <td>1</td>\n",
       "      <td>1</td>\n",
       "      <td>1</td>\n",
       "      <td>1</td>\n",
       "      <td>0</td>\n",
       "      <td>1</td>\n",
       "      <td>1</td>\n",
       "    </tr>\n",
       "    <tr>\n",
       "      <th>45531</th>\n",
       "      <td>45531</td>\n",
       "      <td>3.0</td>\n",
       "      <td>496</td>\n",
       "      <td>5.0</td>\n",
       "      <td>1827</td>\n",
       "      <td>5.0</td>\n",
       "      <td>754</td>\n",
       "      <td>3.0</td>\n",
       "      <td>1117</td>\n",
       "      <td>1.0</td>\n",
       "      <td>...</td>\n",
       "      <td>1</td>\n",
       "      <td>1</td>\n",
       "      <td>0</td>\n",
       "      <td>1</td>\n",
       "      <td>1</td>\n",
       "      <td>0</td>\n",
       "      <td>1</td>\n",
       "      <td>0</td>\n",
       "      <td>1</td>\n",
       "      <td>1</td>\n",
       "    </tr>\n",
       "  </tbody>\n",
       "</table>\n",
       "<p>45532 rows × 78 columns</p>\n",
       "</div>"
      ],
      "text/plain": [
       "       index  QaA   QaE  QbA   QbE  QcA   QcE  QdA   QdE  QeA  ...  wr_04  \\\n",
       "0          0  3.0   363  4.0  1370  5.0   997  1.0  1024  2.0  ...      0   \n",
       "1          1  5.0   647  5.0  1313  3.0  3387  5.0  2969  1.0  ...      1   \n",
       "2          2  4.0  1623  1.0  1480  1.0  1021  4.0  3374  5.0  ...      1   \n",
       "3          3  3.0   504  3.0  2311  4.0   992  3.0  3245  1.0  ...      0   \n",
       "4          4  1.0   927  1.0   707  5.0   556  2.0  1062  1.0  ...      1   \n",
       "...      ...  ...   ...  ...   ...  ...   ...  ...   ...  ...  ...    ...   \n",
       "45527  45527  2.0  1050  5.0   619  4.0   328  1.0   285  1.0  ...      1   \n",
       "45528  45528  2.0   581  3.0  1353  4.0  1164  1.0   798  3.0  ...      1   \n",
       "45529  45529  4.0   593  1.0   857  1.0  1047  4.0  1515  5.0  ...      1   \n",
       "45530  45530  1.0   747  3.0  1331  4.0   892  2.0  1281  1.0  ...      1   \n",
       "45531  45531  3.0   496  5.0  1827  5.0   754  3.0  1117  1.0  ...      1   \n",
       "\n",
       "       wr_05  wr_06  wr_07  wr_08  wr_09  wr_10  wr_11  wr_12  wr_13  \n",
       "0          1      0      1      1      0      1      0      1      1  \n",
       "1          1      0      1      1      0      1      0      1      1  \n",
       "2          1      0      1      1      1      1      0      1      1  \n",
       "3          0      0      0      1      0      1      0      1      1  \n",
       "4          1      1      1      1      0      1      1      1      1  \n",
       "...      ...    ...    ...    ...    ...    ...    ...    ...    ...  \n",
       "45527      1      0      1      1      1      1      0      1      1  \n",
       "45528      1      0      1      1      1      1      0      1      1  \n",
       "45529      1      0      1      1      0      1      0      1      1  \n",
       "45530      1      0      1      1      1      1      0      1      1  \n",
       "45531      1      0      1      1      0      1      0      1      1  \n",
       "\n",
       "[45532 rows x 78 columns]"
      ]
     },
     "execution_count": 10,
     "metadata": {},
     "output_type": "execute_result"
    }
   ],
   "source": [
    "data"
   ]
  },
  {
   "cell_type": "code",
   "execution_count": 11,
   "metadata": {
    "scrolled": true
   },
   "outputs": [
    {
     "data": {
      "text/html": [
       "<div>\n",
       "<style scoped>\n",
       "    .dataframe tbody tr th:only-of-type {\n",
       "        vertical-align: middle;\n",
       "    }\n",
       "\n",
       "    .dataframe tbody tr th {\n",
       "        vertical-align: top;\n",
       "    }\n",
       "\n",
       "    .dataframe thead th {\n",
       "        text-align: right;\n",
       "    }\n",
       "</style>\n",
       "<table border=\"1\" class=\"dataframe\">\n",
       "  <thead>\n",
       "    <tr style=\"text-align: right;\">\n",
       "      <th></th>\n",
       "      <th>QbA</th>\n",
       "      <th>QcA</th>\n",
       "      <th>QeA</th>\n",
       "      <th>QfA</th>\n",
       "      <th>QhA</th>\n",
       "      <th>QjA</th>\n",
       "      <th>QkA</th>\n",
       "      <th>QmA</th>\n",
       "      <th>QoA</th>\n",
       "      <th>QqA</th>\n",
       "      <th>QrA</th>\n",
       "      <th>QsA</th>\n",
       "    </tr>\n",
       "  </thead>\n",
       "  <tbody>\n",
       "    <tr>\n",
       "      <th>0</th>\n",
       "      <td>4.0</td>\n",
       "      <td>5.0</td>\n",
       "      <td>2.0</td>\n",
       "      <td>5.0</td>\n",
       "      <td>4.0</td>\n",
       "      <td>4.0</td>\n",
       "      <td>4.0</td>\n",
       "      <td>2.0</td>\n",
       "      <td>2.0</td>\n",
       "      <td>2.0</td>\n",
       "      <td>2.0</td>\n",
       "      <td>2.0</td>\n",
       "    </tr>\n",
       "    <tr>\n",
       "      <th>1</th>\n",
       "      <td>5.0</td>\n",
       "      <td>3.0</td>\n",
       "      <td>1.0</td>\n",
       "      <td>3.0</td>\n",
       "      <td>1.0</td>\n",
       "      <td>3.0</td>\n",
       "      <td>5.0</td>\n",
       "      <td>1.0</td>\n",
       "      <td>1.0</td>\n",
       "      <td>5.0</td>\n",
       "      <td>1.0</td>\n",
       "      <td>4.0</td>\n",
       "    </tr>\n",
       "    <tr>\n",
       "      <th>2</th>\n",
       "      <td>1.0</td>\n",
       "      <td>1.0</td>\n",
       "      <td>5.0</td>\n",
       "      <td>1.0</td>\n",
       "      <td>1.0</td>\n",
       "      <td>2.0</td>\n",
       "      <td>5.0</td>\n",
       "      <td>2.0</td>\n",
       "      <td>2.0</td>\n",
       "      <td>5.0</td>\n",
       "      <td>4.0</td>\n",
       "      <td>1.0</td>\n",
       "    </tr>\n",
       "    <tr>\n",
       "      <th>3</th>\n",
       "      <td>3.0</td>\n",
       "      <td>4.0</td>\n",
       "      <td>1.0</td>\n",
       "      <td>2.0</td>\n",
       "      <td>3.0</td>\n",
       "      <td>4.0</td>\n",
       "      <td>3.0</td>\n",
       "      <td>4.0</td>\n",
       "      <td>4.0</td>\n",
       "      <td>3.0</td>\n",
       "      <td>4.0</td>\n",
       "      <td>4.0</td>\n",
       "    </tr>\n",
       "    <tr>\n",
       "      <th>4</th>\n",
       "      <td>1.0</td>\n",
       "      <td>5.0</td>\n",
       "      <td>1.0</td>\n",
       "      <td>2.0</td>\n",
       "      <td>1.0</td>\n",
       "      <td>5.0</td>\n",
       "      <td>5.0</td>\n",
       "      <td>4.0</td>\n",
       "      <td>1.0</td>\n",
       "      <td>5.0</td>\n",
       "      <td>5.0</td>\n",
       "      <td>1.0</td>\n",
       "    </tr>\n",
       "    <tr>\n",
       "      <th>...</th>\n",
       "      <td>...</td>\n",
       "      <td>...</td>\n",
       "      <td>...</td>\n",
       "      <td>...</td>\n",
       "      <td>...</td>\n",
       "      <td>...</td>\n",
       "      <td>...</td>\n",
       "      <td>...</td>\n",
       "      <td>...</td>\n",
       "      <td>...</td>\n",
       "      <td>...</td>\n",
       "      <td>...</td>\n",
       "    </tr>\n",
       "    <tr>\n",
       "      <th>45527</th>\n",
       "      <td>5.0</td>\n",
       "      <td>4.0</td>\n",
       "      <td>1.0</td>\n",
       "      <td>1.0</td>\n",
       "      <td>1.0</td>\n",
       "      <td>4.0</td>\n",
       "      <td>4.0</td>\n",
       "      <td>4.0</td>\n",
       "      <td>2.0</td>\n",
       "      <td>2.0</td>\n",
       "      <td>1.0</td>\n",
       "      <td>5.0</td>\n",
       "    </tr>\n",
       "    <tr>\n",
       "      <th>45528</th>\n",
       "      <td>3.0</td>\n",
       "      <td>4.0</td>\n",
       "      <td>3.0</td>\n",
       "      <td>2.0</td>\n",
       "      <td>1.0</td>\n",
       "      <td>5.0</td>\n",
       "      <td>2.0</td>\n",
       "      <td>3.0</td>\n",
       "      <td>4.0</td>\n",
       "      <td>2.0</td>\n",
       "      <td>3.0</td>\n",
       "      <td>4.0</td>\n",
       "    </tr>\n",
       "    <tr>\n",
       "      <th>45529</th>\n",
       "      <td>1.0</td>\n",
       "      <td>1.0</td>\n",
       "      <td>5.0</td>\n",
       "      <td>4.0</td>\n",
       "      <td>1.0</td>\n",
       "      <td>1.0</td>\n",
       "      <td>5.0</td>\n",
       "      <td>1.0</td>\n",
       "      <td>1.0</td>\n",
       "      <td>5.0</td>\n",
       "      <td>5.0</td>\n",
       "      <td>3.0</td>\n",
       "    </tr>\n",
       "    <tr>\n",
       "      <th>45530</th>\n",
       "      <td>3.0</td>\n",
       "      <td>4.0</td>\n",
       "      <td>1.0</td>\n",
       "      <td>1.0</td>\n",
       "      <td>1.0</td>\n",
       "      <td>1.0</td>\n",
       "      <td>5.0</td>\n",
       "      <td>4.0</td>\n",
       "      <td>1.0</td>\n",
       "      <td>4.0</td>\n",
       "      <td>4.0</td>\n",
       "      <td>4.0</td>\n",
       "    </tr>\n",
       "    <tr>\n",
       "      <th>45531</th>\n",
       "      <td>5.0</td>\n",
       "      <td>5.0</td>\n",
       "      <td>1.0</td>\n",
       "      <td>4.0</td>\n",
       "      <td>3.0</td>\n",
       "      <td>4.0</td>\n",
       "      <td>5.0</td>\n",
       "      <td>4.0</td>\n",
       "      <td>4.0</td>\n",
       "      <td>4.0</td>\n",
       "      <td>4.0</td>\n",
       "      <td>4.0</td>\n",
       "    </tr>\n",
       "  </tbody>\n",
       "</table>\n",
       "<p>45532 rows × 12 columns</p>\n",
       "</div>"
      ],
      "text/plain": [
       "       QbA  QcA  QeA  QfA  QhA  QjA  QkA  QmA  QoA  QqA  QrA  QsA\n",
       "0      4.0  5.0  2.0  5.0  4.0  4.0  4.0  2.0  2.0  2.0  2.0  2.0\n",
       "1      5.0  3.0  1.0  3.0  1.0  3.0  5.0  1.0  1.0  5.0  1.0  4.0\n",
       "2      1.0  1.0  5.0  1.0  1.0  2.0  5.0  2.0  2.0  5.0  4.0  1.0\n",
       "3      3.0  4.0  1.0  2.0  3.0  4.0  3.0  4.0  4.0  3.0  4.0  4.0\n",
       "4      1.0  5.0  1.0  2.0  1.0  5.0  5.0  4.0  1.0  5.0  5.0  1.0\n",
       "...    ...  ...  ...  ...  ...  ...  ...  ...  ...  ...  ...  ...\n",
       "45527  5.0  4.0  1.0  1.0  1.0  4.0  4.0  4.0  2.0  2.0  1.0  5.0\n",
       "45528  3.0  4.0  3.0  2.0  1.0  5.0  2.0  3.0  4.0  2.0  3.0  4.0\n",
       "45529  1.0  1.0  5.0  4.0  1.0  1.0  5.0  1.0  1.0  5.0  5.0  3.0\n",
       "45530  3.0  4.0  1.0  1.0  1.0  1.0  5.0  4.0  1.0  4.0  4.0  4.0\n",
       "45531  5.0  5.0  1.0  4.0  3.0  4.0  5.0  4.0  4.0  4.0  4.0  4.0\n",
       "\n",
       "[45532 rows x 12 columns]"
      ]
     },
     "execution_count": 11,
     "metadata": {},
     "output_type": "execute_result"
    }
   ],
   "source": [
    "base_question_list = [f\"Q{i}A\" for i in \"bcefhjkmoqrs\"]\n",
    "base_question = data[base_question_list]\n",
    "base_question"
   ]
  },
  {
   "cell_type": "markdown",
   "metadata": {},
   "source": [
    "- 먼저 QaA로 먼저 작업이 되는지 확인한다."
   ]
  },
  {
   "cell_type": "code",
   "execution_count": 12,
   "metadata": {},
   "outputs": [
    {
     "name": "stderr",
     "output_type": "stream",
     "text": [
      "<ipython-input-12-ad1604d6c870>:2: SettingWithCopyWarning: \n",
      "A value is trying to be set on a copy of a slice from a DataFrame.\n",
      "Try using .loc[row_indexer,col_indexer] = value instead\n",
      "\n",
      "See the caveats in the documentation: https://pandas.pydata.org/pandas-docs/stable/user_guide/indexing.html#returning-a-view-versus-a-copy\n",
      "  QaA[\"b\"] = (QaA[\"QaA\"] - base_question[\"QbA\"])**2\n"
     ]
    },
    {
     "data": {
      "text/html": [
       "<div>\n",
       "<style scoped>\n",
       "    .dataframe tbody tr th:only-of-type {\n",
       "        vertical-align: middle;\n",
       "    }\n",
       "\n",
       "    .dataframe tbody tr th {\n",
       "        vertical-align: top;\n",
       "    }\n",
       "\n",
       "    .dataframe thead th {\n",
       "        text-align: right;\n",
       "    }\n",
       "</style>\n",
       "<table border=\"1\" class=\"dataframe\">\n",
       "  <thead>\n",
       "    <tr style=\"text-align: right;\">\n",
       "      <th></th>\n",
       "      <th>QaA</th>\n",
       "      <th>b</th>\n",
       "    </tr>\n",
       "  </thead>\n",
       "  <tbody>\n",
       "    <tr>\n",
       "      <th>0</th>\n",
       "      <td>3.0</td>\n",
       "      <td>1.0</td>\n",
       "    </tr>\n",
       "    <tr>\n",
       "      <th>1</th>\n",
       "      <td>5.0</td>\n",
       "      <td>0.0</td>\n",
       "    </tr>\n",
       "    <tr>\n",
       "      <th>2</th>\n",
       "      <td>4.0</td>\n",
       "      <td>9.0</td>\n",
       "    </tr>\n",
       "    <tr>\n",
       "      <th>3</th>\n",
       "      <td>3.0</td>\n",
       "      <td>0.0</td>\n",
       "    </tr>\n",
       "    <tr>\n",
       "      <th>4</th>\n",
       "      <td>1.0</td>\n",
       "      <td>0.0</td>\n",
       "    </tr>\n",
       "    <tr>\n",
       "      <th>...</th>\n",
       "      <td>...</td>\n",
       "      <td>...</td>\n",
       "    </tr>\n",
       "    <tr>\n",
       "      <th>45527</th>\n",
       "      <td>2.0</td>\n",
       "      <td>9.0</td>\n",
       "    </tr>\n",
       "    <tr>\n",
       "      <th>45528</th>\n",
       "      <td>2.0</td>\n",
       "      <td>1.0</td>\n",
       "    </tr>\n",
       "    <tr>\n",
       "      <th>45529</th>\n",
       "      <td>4.0</td>\n",
       "      <td>9.0</td>\n",
       "    </tr>\n",
       "    <tr>\n",
       "      <th>45530</th>\n",
       "      <td>1.0</td>\n",
       "      <td>4.0</td>\n",
       "    </tr>\n",
       "    <tr>\n",
       "      <th>45531</th>\n",
       "      <td>3.0</td>\n",
       "      <td>4.0</td>\n",
       "    </tr>\n",
       "  </tbody>\n",
       "</table>\n",
       "<p>45532 rows × 2 columns</p>\n",
       "</div>"
      ],
      "text/plain": [
       "       QaA    b\n",
       "0      3.0  1.0\n",
       "1      5.0  0.0\n",
       "2      4.0  9.0\n",
       "3      3.0  0.0\n",
       "4      1.0  0.0\n",
       "...    ...  ...\n",
       "45527  2.0  9.0\n",
       "45528  2.0  1.0\n",
       "45529  4.0  9.0\n",
       "45530  1.0  4.0\n",
       "45531  3.0  4.0\n",
       "\n",
       "[45532 rows x 2 columns]"
      ]
     },
     "execution_count": 12,
     "metadata": {},
     "output_type": "execute_result"
    }
   ],
   "source": [
    "QaA = data[[\"QaA\"]]\n",
    "QaA[\"b\"] = (QaA[\"QaA\"] - base_question[\"QbA\"])**2\n",
    "QaA"
   ]
  },
  {
   "cell_type": "code",
   "execution_count": 13,
   "metadata": {},
   "outputs": [
    {
     "name": "stderr",
     "output_type": "stream",
     "text": [
      "<ipython-input-13-a8682a633843>:2: SettingWithCopyWarning: \n",
      "A value is trying to be set on a copy of a slice from a DataFrame.\n",
      "Try using .loc[row_indexer,col_indexer] = value instead\n",
      "\n",
      "See the caveats in the documentation: https://pandas.pydata.org/pandas-docs/stable/user_guide/indexing.html#returning-a-view-versus-a-copy\n",
      "  QaA[f\"{i[1]}\"] = (QaA[\"QaA\"] - base_question[f\"{i}\"])**2\n"
     ]
    },
    {
     "data": {
      "text/html": [
       "<div>\n",
       "<style scoped>\n",
       "    .dataframe tbody tr th:only-of-type {\n",
       "        vertical-align: middle;\n",
       "    }\n",
       "\n",
       "    .dataframe tbody tr th {\n",
       "        vertical-align: top;\n",
       "    }\n",
       "\n",
       "    .dataframe thead th {\n",
       "        text-align: right;\n",
       "    }\n",
       "</style>\n",
       "<table border=\"1\" class=\"dataframe\">\n",
       "  <thead>\n",
       "    <tr style=\"text-align: right;\">\n",
       "      <th></th>\n",
       "      <th>QaA</th>\n",
       "      <th>b</th>\n",
       "      <th>c</th>\n",
       "      <th>e</th>\n",
       "      <th>f</th>\n",
       "      <th>h</th>\n",
       "      <th>j</th>\n",
       "      <th>k</th>\n",
       "      <th>m</th>\n",
       "      <th>o</th>\n",
       "      <th>q</th>\n",
       "      <th>r</th>\n",
       "      <th>s</th>\n",
       "    </tr>\n",
       "  </thead>\n",
       "  <tbody>\n",
       "    <tr>\n",
       "      <th>0</th>\n",
       "      <td>3.0</td>\n",
       "      <td>1.0</td>\n",
       "      <td>4.0</td>\n",
       "      <td>1.0</td>\n",
       "      <td>4.0</td>\n",
       "      <td>1.0</td>\n",
       "      <td>1.0</td>\n",
       "      <td>1.0</td>\n",
       "      <td>1.0</td>\n",
       "      <td>1.0</td>\n",
       "      <td>1.0</td>\n",
       "      <td>1.0</td>\n",
       "      <td>1.0</td>\n",
       "    </tr>\n",
       "    <tr>\n",
       "      <th>1</th>\n",
       "      <td>5.0</td>\n",
       "      <td>0.0</td>\n",
       "      <td>4.0</td>\n",
       "      <td>16.0</td>\n",
       "      <td>4.0</td>\n",
       "      <td>16.0</td>\n",
       "      <td>4.0</td>\n",
       "      <td>0.0</td>\n",
       "      <td>16.0</td>\n",
       "      <td>16.0</td>\n",
       "      <td>0.0</td>\n",
       "      <td>16.0</td>\n",
       "      <td>1.0</td>\n",
       "    </tr>\n",
       "    <tr>\n",
       "      <th>2</th>\n",
       "      <td>4.0</td>\n",
       "      <td>9.0</td>\n",
       "      <td>9.0</td>\n",
       "      <td>1.0</td>\n",
       "      <td>9.0</td>\n",
       "      <td>9.0</td>\n",
       "      <td>4.0</td>\n",
       "      <td>1.0</td>\n",
       "      <td>4.0</td>\n",
       "      <td>4.0</td>\n",
       "      <td>1.0</td>\n",
       "      <td>0.0</td>\n",
       "      <td>9.0</td>\n",
       "    </tr>\n",
       "    <tr>\n",
       "      <th>3</th>\n",
       "      <td>3.0</td>\n",
       "      <td>0.0</td>\n",
       "      <td>1.0</td>\n",
       "      <td>4.0</td>\n",
       "      <td>1.0</td>\n",
       "      <td>0.0</td>\n",
       "      <td>1.0</td>\n",
       "      <td>0.0</td>\n",
       "      <td>1.0</td>\n",
       "      <td>1.0</td>\n",
       "      <td>0.0</td>\n",
       "      <td>1.0</td>\n",
       "      <td>1.0</td>\n",
       "    </tr>\n",
       "    <tr>\n",
       "      <th>4</th>\n",
       "      <td>1.0</td>\n",
       "      <td>0.0</td>\n",
       "      <td>16.0</td>\n",
       "      <td>0.0</td>\n",
       "      <td>1.0</td>\n",
       "      <td>0.0</td>\n",
       "      <td>16.0</td>\n",
       "      <td>16.0</td>\n",
       "      <td>9.0</td>\n",
       "      <td>0.0</td>\n",
       "      <td>16.0</td>\n",
       "      <td>16.0</td>\n",
       "      <td>0.0</td>\n",
       "    </tr>\n",
       "    <tr>\n",
       "      <th>...</th>\n",
       "      <td>...</td>\n",
       "      <td>...</td>\n",
       "      <td>...</td>\n",
       "      <td>...</td>\n",
       "      <td>...</td>\n",
       "      <td>...</td>\n",
       "      <td>...</td>\n",
       "      <td>...</td>\n",
       "      <td>...</td>\n",
       "      <td>...</td>\n",
       "      <td>...</td>\n",
       "      <td>...</td>\n",
       "      <td>...</td>\n",
       "    </tr>\n",
       "    <tr>\n",
       "      <th>45527</th>\n",
       "      <td>2.0</td>\n",
       "      <td>9.0</td>\n",
       "      <td>4.0</td>\n",
       "      <td>1.0</td>\n",
       "      <td>1.0</td>\n",
       "      <td>1.0</td>\n",
       "      <td>4.0</td>\n",
       "      <td>4.0</td>\n",
       "      <td>4.0</td>\n",
       "      <td>0.0</td>\n",
       "      <td>0.0</td>\n",
       "      <td>1.0</td>\n",
       "      <td>9.0</td>\n",
       "    </tr>\n",
       "    <tr>\n",
       "      <th>45528</th>\n",
       "      <td>2.0</td>\n",
       "      <td>1.0</td>\n",
       "      <td>4.0</td>\n",
       "      <td>1.0</td>\n",
       "      <td>0.0</td>\n",
       "      <td>1.0</td>\n",
       "      <td>9.0</td>\n",
       "      <td>0.0</td>\n",
       "      <td>1.0</td>\n",
       "      <td>4.0</td>\n",
       "      <td>0.0</td>\n",
       "      <td>1.0</td>\n",
       "      <td>4.0</td>\n",
       "    </tr>\n",
       "    <tr>\n",
       "      <th>45529</th>\n",
       "      <td>4.0</td>\n",
       "      <td>9.0</td>\n",
       "      <td>9.0</td>\n",
       "      <td>1.0</td>\n",
       "      <td>0.0</td>\n",
       "      <td>9.0</td>\n",
       "      <td>9.0</td>\n",
       "      <td>1.0</td>\n",
       "      <td>9.0</td>\n",
       "      <td>9.0</td>\n",
       "      <td>1.0</td>\n",
       "      <td>1.0</td>\n",
       "      <td>1.0</td>\n",
       "    </tr>\n",
       "    <tr>\n",
       "      <th>45530</th>\n",
       "      <td>1.0</td>\n",
       "      <td>4.0</td>\n",
       "      <td>9.0</td>\n",
       "      <td>0.0</td>\n",
       "      <td>0.0</td>\n",
       "      <td>0.0</td>\n",
       "      <td>0.0</td>\n",
       "      <td>16.0</td>\n",
       "      <td>9.0</td>\n",
       "      <td>0.0</td>\n",
       "      <td>9.0</td>\n",
       "      <td>9.0</td>\n",
       "      <td>9.0</td>\n",
       "    </tr>\n",
       "    <tr>\n",
       "      <th>45531</th>\n",
       "      <td>3.0</td>\n",
       "      <td>4.0</td>\n",
       "      <td>4.0</td>\n",
       "      <td>4.0</td>\n",
       "      <td>1.0</td>\n",
       "      <td>0.0</td>\n",
       "      <td>1.0</td>\n",
       "      <td>4.0</td>\n",
       "      <td>1.0</td>\n",
       "      <td>1.0</td>\n",
       "      <td>1.0</td>\n",
       "      <td>1.0</td>\n",
       "      <td>1.0</td>\n",
       "    </tr>\n",
       "  </tbody>\n",
       "</table>\n",
       "<p>45532 rows × 13 columns</p>\n",
       "</div>"
      ],
      "text/plain": [
       "       QaA    b     c     e    f     h     j     k     m     o     q     r  \\\n",
       "0      3.0  1.0   4.0   1.0  4.0   1.0   1.0   1.0   1.0   1.0   1.0   1.0   \n",
       "1      5.0  0.0   4.0  16.0  4.0  16.0   4.0   0.0  16.0  16.0   0.0  16.0   \n",
       "2      4.0  9.0   9.0   1.0  9.0   9.0   4.0   1.0   4.0   4.0   1.0   0.0   \n",
       "3      3.0  0.0   1.0   4.0  1.0   0.0   1.0   0.0   1.0   1.0   0.0   1.0   \n",
       "4      1.0  0.0  16.0   0.0  1.0   0.0  16.0  16.0   9.0   0.0  16.0  16.0   \n",
       "...    ...  ...   ...   ...  ...   ...   ...   ...   ...   ...   ...   ...   \n",
       "45527  2.0  9.0   4.0   1.0  1.0   1.0   4.0   4.0   4.0   0.0   0.0   1.0   \n",
       "45528  2.0  1.0   4.0   1.0  0.0   1.0   9.0   0.0   1.0   4.0   0.0   1.0   \n",
       "45529  4.0  9.0   9.0   1.0  0.0   9.0   9.0   1.0   9.0   9.0   1.0   1.0   \n",
       "45530  1.0  4.0   9.0   0.0  0.0   0.0   0.0  16.0   9.0   0.0   9.0   9.0   \n",
       "45531  3.0  4.0   4.0   4.0  1.0   0.0   1.0   4.0   1.0   1.0   1.0   1.0   \n",
       "\n",
       "         s  \n",
       "0      1.0  \n",
       "1      1.0  \n",
       "2      9.0  \n",
       "3      1.0  \n",
       "4      0.0  \n",
       "...    ...  \n",
       "45527  9.0  \n",
       "45528  4.0  \n",
       "45529  1.0  \n",
       "45530  9.0  \n",
       "45531  1.0  \n",
       "\n",
       "[45532 rows x 13 columns]"
      ]
     },
     "execution_count": 13,
     "metadata": {},
     "output_type": "execute_result"
    }
   ],
   "source": [
    "for i in base_question_list:\n",
    "    QaA[f\"{i[1]}\"] = (QaA[\"QaA\"] - base_question[f\"{i}\"])**2\n",
    "QaA"
   ]
  },
  {
   "cell_type": "code",
   "execution_count": 14,
   "metadata": {},
   "outputs": [
    {
     "data": {
      "text/plain": [
       "'f'"
      ]
     },
     "execution_count": 14,
     "metadata": {},
     "output_type": "execute_result"
    }
   ],
   "source": [
    "QaA = QaA.drop(\"QaA\", axis = 1)\n",
    "min_a = QaA.sum().idxmin()\n",
    "min_a"
   ]
  },
  {
   "cell_type": "markdown",
   "metadata": {},
   "source": [
    "- 잘 나오는 것을 확인하였으므로 함수화하여서 나머지 secret한 데이터에 대해서도 진행한다."
   ]
  },
  {
   "cell_type": "code",
   "execution_count": 15,
   "metadata": {},
   "outputs": [],
   "source": [
    "def get_simillar_column(secret, base_question_list):\n",
    "    QsecretA = data[[secret]]\n",
    "    for i in base_question_list:\n",
    "        QsecretA[f\"{i[1]}\"] = (QsecretA[secret] - base_question[f\"{i}\"])**2\n",
    "    QsecretA = QsecretA.drop(secret, axis = 1)\n",
    "    min_a = QsecretA.sum().idxmin()\n",
    "    return \"Q\"+min_a+\"E\""
   ]
  },
  {
   "cell_type": "code",
   "execution_count": 16,
   "metadata": {},
   "outputs": [
    {
     "name": "stderr",
     "output_type": "stream",
     "text": [
      "<ipython-input-15-875cda7024d2>:4: SettingWithCopyWarning: \n",
      "A value is trying to be set on a copy of a slice from a DataFrame.\n",
      "Try using .loc[row_indexer,col_indexer] = value instead\n",
      "\n",
      "See the caveats in the documentation: https://pandas.pydata.org/pandas-docs/stable/user_guide/indexing.html#returning-a-view-versus-a-copy\n",
      "  QsecretA[f\"{i[1]}\"] = (QsecretA[secret] - base_question[f\"{i}\"])**2\n"
     ]
    },
    {
     "name": "stdout",
     "output_type": "stream",
     "text": [
      "{'QaA': 'QfE', 'QdA': 'QfE', 'QgA': 'QfE', 'QiA': 'QkE', 'QlA': 'QmE', 'QnA': 'QfE', 'QpA': 'QjE', 'QtA': 'QoE'}\n"
     ]
    }
   ],
   "source": [
    "secret_list = [f\"Q{i}A\" for i in \"adgilnpt\"]\n",
    "match_list = []\n",
    "\n",
    "for secret in secret_list:\n",
    "    min_Q = get_simillar_column(secret, base_question_list)\n",
    "    match_list.append(min_Q)\n",
    "    \n",
    "secret_dict = dict(zip(secret_list, match_list))\n",
    "print(secret_dict)"
   ]
  },
  {
   "cell_type": "markdown",
   "metadata": {},
   "source": [
    "- 이때 base_question에 있던 것들도 한번에 처리할 수 있게 같은 꼴로 만들어준다."
   ]
  },
  {
   "cell_type": "code",
   "execution_count": 17,
   "metadata": {},
   "outputs": [
    {
     "name": "stdout",
     "output_type": "stream",
     "text": [
      "{'QbA': 'QbE', 'QcA': 'QcE', 'QeA': 'QeE', 'QfA': 'QfE', 'QhA': 'QhE', 'QjA': 'QjE', 'QkA': 'QkE', 'QmA': 'QmE', 'QoA': 'QoE', 'QqA': 'QqE', 'QrA': 'QrE', 'QsA': 'QsE'}\n"
     ]
    }
   ],
   "source": [
    "non_secret_list = base_question_list\n",
    "self_match_list = [f\"Q{i}E\" for i in \"bcefhjkmoqrs\"]\n",
    "\n",
    "nlu_match_dict = dict(zip(non_secret_list, self_match_list))\n",
    "print(nlu_match_dict)"
   ]
  },
  {
   "cell_type": "code",
   "execution_count": 18,
   "metadata": {},
   "outputs": [
    {
     "name": "stdout",
     "output_type": "stream",
     "text": [
      "{'QbA': 'QbE', 'QcA': 'QcE', 'QeA': 'QeE', 'QfA': 'QfE', 'QhA': 'QhE', 'QjA': 'QjE', 'QkA': 'QkE', 'QmA': 'QmE', 'QoA': 'QoE', 'QqA': 'QqE', 'QrA': 'QrE', 'QsA': 'QsE', 'QaA': 'QfE', 'QdA': 'QfE', 'QgA': 'QfE', 'QiA': 'QkE', 'QlA': 'QmE', 'QnA': 'QfE', 'QpA': 'QjE', 'QtA': 'QoE'}\n"
     ]
    }
   ],
   "source": [
    "nlu_match_dict.update(secret_dict)\n",
    "print(nlu_match_dict)"
   ]
  },
  {
   "cell_type": "markdown",
   "metadata": {},
   "source": [
    "#### 6) pre-processing data with ratio of nlu result\n",
    "- nlu의 결과값으로 나온 숫자들을 기반으로 하여 이제 Q_E의 time_data를 나누어주어 생각해본다."
   ]
  },
  {
   "cell_type": "code",
   "execution_count": 19,
   "metadata": {},
   "outputs": [],
   "source": [
    "nlu_rate_df = pd.DataFrame()"
   ]
  },
  {
   "cell_type": "markdown",
   "metadata": {},
   "source": [
    "- 마찬가지로 QaE를 가지고 먼저 확인을 해본다."
   ]
  },
  {
   "cell_type": "code",
   "execution_count": 20,
   "metadata": {},
   "outputs": [
    {
     "data": {
      "text/html": [
       "<div>\n",
       "<style scoped>\n",
       "    .dataframe tbody tr th:only-of-type {\n",
       "        vertical-align: middle;\n",
       "    }\n",
       "\n",
       "    .dataframe tbody tr th {\n",
       "        vertical-align: top;\n",
       "    }\n",
       "\n",
       "    .dataframe thead th {\n",
       "        text-align: right;\n",
       "    }\n",
       "</style>\n",
       "<table border=\"1\" class=\"dataframe\">\n",
       "  <thead>\n",
       "    <tr style=\"text-align: right;\">\n",
       "      <th></th>\n",
       "      <th>QaE_neg</th>\n",
       "      <th>QaE_neu</th>\n",
       "      <th>QaE_pos</th>\n",
       "    </tr>\n",
       "  </thead>\n",
       "  <tbody>\n",
       "    <tr>\n",
       "      <th>0</th>\n",
       "      <td>157.542</td>\n",
       "      <td>168.795</td>\n",
       "      <td>36.663</td>\n",
       "    </tr>\n",
       "    <tr>\n",
       "      <th>1</th>\n",
       "      <td>280.798</td>\n",
       "      <td>300.855</td>\n",
       "      <td>65.347</td>\n",
       "    </tr>\n",
       "    <tr>\n",
       "      <th>2</th>\n",
       "      <td>704.382</td>\n",
       "      <td>754.695</td>\n",
       "      <td>163.923</td>\n",
       "    </tr>\n",
       "    <tr>\n",
       "      <th>3</th>\n",
       "      <td>218.736</td>\n",
       "      <td>234.360</td>\n",
       "      <td>50.904</td>\n",
       "    </tr>\n",
       "    <tr>\n",
       "      <th>4</th>\n",
       "      <td>402.318</td>\n",
       "      <td>431.055</td>\n",
       "      <td>93.627</td>\n",
       "    </tr>\n",
       "    <tr>\n",
       "      <th>...</th>\n",
       "      <td>...</td>\n",
       "      <td>...</td>\n",
       "      <td>...</td>\n",
       "    </tr>\n",
       "    <tr>\n",
       "      <th>45527</th>\n",
       "      <td>455.700</td>\n",
       "      <td>488.250</td>\n",
       "      <td>106.050</td>\n",
       "    </tr>\n",
       "    <tr>\n",
       "      <th>45528</th>\n",
       "      <td>252.154</td>\n",
       "      <td>270.165</td>\n",
       "      <td>58.681</td>\n",
       "    </tr>\n",
       "    <tr>\n",
       "      <th>45529</th>\n",
       "      <td>257.362</td>\n",
       "      <td>275.745</td>\n",
       "      <td>59.893</td>\n",
       "    </tr>\n",
       "    <tr>\n",
       "      <th>45530</th>\n",
       "      <td>324.198</td>\n",
       "      <td>347.355</td>\n",
       "      <td>75.447</td>\n",
       "    </tr>\n",
       "    <tr>\n",
       "      <th>45531</th>\n",
       "      <td>215.264</td>\n",
       "      <td>230.640</td>\n",
       "      <td>50.096</td>\n",
       "    </tr>\n",
       "  </tbody>\n",
       "</table>\n",
       "<p>45532 rows × 3 columns</p>\n",
       "</div>"
      ],
      "text/plain": [
       "       QaE_neg  QaE_neu  QaE_pos\n",
       "0      157.542  168.795   36.663\n",
       "1      280.798  300.855   65.347\n",
       "2      704.382  754.695  163.923\n",
       "3      218.736  234.360   50.904\n",
       "4      402.318  431.055   93.627\n",
       "...        ...      ...      ...\n",
       "45527  455.700  488.250  106.050\n",
       "45528  252.154  270.165   58.681\n",
       "45529  257.362  275.745   59.893\n",
       "45530  324.198  347.355   75.447\n",
       "45531  215.264  230.640   50.096\n",
       "\n",
       "[45532 rows x 3 columns]"
      ]
     },
     "execution_count": 20,
     "metadata": {},
     "output_type": "execute_result"
    }
   ],
   "source": [
    "question_type = [\"neg\", \"neu\", \"pos\"]\n",
    "for i in range(3):\n",
    "    t = question_type[i]\n",
    "    nlu_rate_df[f\"QaE_{t}\"] = data[\"QaE\"] * nlu_rate_dict[nlu_match_dict[\"QaA\"]][t]\n",
    "nlu_rate_df"
   ]
  },
  {
   "cell_type": "markdown",
   "metadata": {},
   "source": [
    "- 잘 되므로 함수화하여 나머지에 대해서도 진행한다."
   ]
  },
  {
   "cell_type": "code",
   "execution_count": 21,
   "metadata": {},
   "outputs": [],
   "source": [
    "def nlu_rate(QtypeE):\n",
    "    question_type = [\"neg\", \"neu\", \"pos\"]\n",
    "    for i in range(3):\n",
    "        t = question_type[i]\n",
    "        nlu_rate_df[f\"{QtypeE}_{t}\"] = data[QtypeE] * nlu_rate_dict[nlu_match_dict[QtypeE[:2]+\"A\"]][t]"
   ]
  },
  {
   "cell_type": "code",
   "execution_count": 22,
   "metadata": {},
   "outputs": [
    {
     "data": {
      "text/html": [
       "<div>\n",
       "<style scoped>\n",
       "    .dataframe tbody tr th:only-of-type {\n",
       "        vertical-align: middle;\n",
       "    }\n",
       "\n",
       "    .dataframe tbody tr th {\n",
       "        vertical-align: top;\n",
       "    }\n",
       "\n",
       "    .dataframe thead th {\n",
       "        text-align: right;\n",
       "    }\n",
       "</style>\n",
       "<table border=\"1\" class=\"dataframe\">\n",
       "  <thead>\n",
       "    <tr style=\"text-align: right;\">\n",
       "      <th></th>\n",
       "      <th>QaE_neg</th>\n",
       "      <th>QaE_neu</th>\n",
       "      <th>QaE_pos</th>\n",
       "      <th>QbE_neg</th>\n",
       "      <th>QbE_neu</th>\n",
       "      <th>QbE_pos</th>\n",
       "      <th>QcE_neg</th>\n",
       "      <th>QcE_neu</th>\n",
       "      <th>QcE_pos</th>\n",
       "      <th>QdE_neg</th>\n",
       "      <th>...</th>\n",
       "      <th>QnE_pos</th>\n",
       "      <th>QoE_neg</th>\n",
       "      <th>QoE_neu</th>\n",
       "      <th>QoE_pos</th>\n",
       "      <th>QpE_neg</th>\n",
       "      <th>QpE_neu</th>\n",
       "      <th>QpE_pos</th>\n",
       "      <th>QtE_neg</th>\n",
       "      <th>QtE_neu</th>\n",
       "      <th>QtE_pos</th>\n",
       "    </tr>\n",
       "  </thead>\n",
       "  <tbody>\n",
       "    <tr>\n",
       "      <th>0</th>\n",
       "      <td>157.542</td>\n",
       "      <td>168.795</td>\n",
       "      <td>36.663</td>\n",
       "      <td>569.920</td>\n",
       "      <td>800.080</td>\n",
       "      <td>0.0</td>\n",
       "      <td>191.424</td>\n",
       "      <td>566.296</td>\n",
       "      <td>240.277</td>\n",
       "      <td>444.416</td>\n",
       "      <td>...</td>\n",
       "      <td>82.416</td>\n",
       "      <td>0.0</td>\n",
       "      <td>407.037</td>\n",
       "      <td>171.963</td>\n",
       "      <td>91.476</td>\n",
       "      <td>659.736</td>\n",
       "      <td>172.788</td>\n",
       "      <td>0.0</td>\n",
       "      <td>783.845</td>\n",
       "      <td>331.155</td>\n",
       "    </tr>\n",
       "    <tr>\n",
       "      <th>1</th>\n",
       "      <td>280.798</td>\n",
       "      <td>300.855</td>\n",
       "      <td>65.347</td>\n",
       "      <td>546.208</td>\n",
       "      <td>766.792</td>\n",
       "      <td>0.0</td>\n",
       "      <td>650.304</td>\n",
       "      <td>1923.816</td>\n",
       "      <td>816.267</td>\n",
       "      <td>1288.546</td>\n",
       "      <td>...</td>\n",
       "      <td>184.628</td>\n",
       "      <td>0.0</td>\n",
       "      <td>853.442</td>\n",
       "      <td>360.558</td>\n",
       "      <td>238.986</td>\n",
       "      <td>1723.596</td>\n",
       "      <td>451.418</td>\n",
       "      <td>0.0</td>\n",
       "      <td>946.238</td>\n",
       "      <td>399.762</td>\n",
       "    </tr>\n",
       "    <tr>\n",
       "      <th>2</th>\n",
       "      <td>704.382</td>\n",
       "      <td>754.695</td>\n",
       "      <td>163.923</td>\n",
       "      <td>615.680</td>\n",
       "      <td>864.320</td>\n",
       "      <td>0.0</td>\n",
       "      <td>196.032</td>\n",
       "      <td>579.928</td>\n",
       "      <td>246.061</td>\n",
       "      <td>1464.316</td>\n",
       "      <td>...</td>\n",
       "      <td>217.453</td>\n",
       "      <td>0.0</td>\n",
       "      <td>916.712</td>\n",
       "      <td>387.288</td>\n",
       "      <td>111.969</td>\n",
       "      <td>807.534</td>\n",
       "      <td>211.497</td>\n",
       "      <td>0.0</td>\n",
       "      <td>990.527</td>\n",
       "      <td>418.473</td>\n",
       "    </tr>\n",
       "    <tr>\n",
       "      <th>3</th>\n",
       "      <td>218.736</td>\n",
       "      <td>234.360</td>\n",
       "      <td>50.904</td>\n",
       "      <td>961.376</td>\n",
       "      <td>1349.624</td>\n",
       "      <td>0.0</td>\n",
       "      <td>190.464</td>\n",
       "      <td>563.456</td>\n",
       "      <td>239.072</td>\n",
       "      <td>1408.330</td>\n",
       "      <td>...</td>\n",
       "      <td>122.816</td>\n",
       "      <td>0.0</td>\n",
       "      <td>821.807</td>\n",
       "      <td>347.193</td>\n",
       "      <td>2362.932</td>\n",
       "      <td>17041.752</td>\n",
       "      <td>4463.316</td>\n",
       "      <td>0.0</td>\n",
       "      <td>922.336</td>\n",
       "      <td>389.664</td>\n",
       "    </tr>\n",
       "    <tr>\n",
       "      <th>4</th>\n",
       "      <td>402.318</td>\n",
       "      <td>431.055</td>\n",
       "      <td>93.627</td>\n",
       "      <td>294.112</td>\n",
       "      <td>412.888</td>\n",
       "      <td>0.0</td>\n",
       "      <td>106.752</td>\n",
       "      <td>315.808</td>\n",
       "      <td>133.996</td>\n",
       "      <td>460.908</td>\n",
       "      <td>...</td>\n",
       "      <td>58.075</td>\n",
       "      <td>0.0</td>\n",
       "      <td>530.062</td>\n",
       "      <td>223.938</td>\n",
       "      <td>112.860</td>\n",
       "      <td>813.960</td>\n",
       "      <td>213.180</td>\n",
       "      <td>0.0</td>\n",
       "      <td>1327.967</td>\n",
       "      <td>561.033</td>\n",
       "    </tr>\n",
       "    <tr>\n",
       "      <th>...</th>\n",
       "      <td>...</td>\n",
       "      <td>...</td>\n",
       "      <td>...</td>\n",
       "      <td>...</td>\n",
       "      <td>...</td>\n",
       "      <td>...</td>\n",
       "      <td>...</td>\n",
       "      <td>...</td>\n",
       "      <td>...</td>\n",
       "      <td>...</td>\n",
       "      <td>...</td>\n",
       "      <td>...</td>\n",
       "      <td>...</td>\n",
       "      <td>...</td>\n",
       "      <td>...</td>\n",
       "      <td>...</td>\n",
       "      <td>...</td>\n",
       "      <td>...</td>\n",
       "      <td>...</td>\n",
       "      <td>...</td>\n",
       "      <td>...</td>\n",
       "    </tr>\n",
       "    <tr>\n",
       "      <th>45527</th>\n",
       "      <td>455.700</td>\n",
       "      <td>488.250</td>\n",
       "      <td>106.050</td>\n",
       "      <td>257.504</td>\n",
       "      <td>361.496</td>\n",
       "      <td>0.0</td>\n",
       "      <td>62.976</td>\n",
       "      <td>186.304</td>\n",
       "      <td>79.048</td>\n",
       "      <td>123.690</td>\n",
       "      <td>...</td>\n",
       "      <td>30.199</td>\n",
       "      <td>0.0</td>\n",
       "      <td>1346.245</td>\n",
       "      <td>568.755</td>\n",
       "      <td>43.461</td>\n",
       "      <td>313.446</td>\n",
       "      <td>82.093</td>\n",
       "      <td>0.0</td>\n",
       "      <td>1583.156</td>\n",
       "      <td>668.844</td>\n",
       "    </tr>\n",
       "    <tr>\n",
       "      <th>45528</th>\n",
       "      <td>252.154</td>\n",
       "      <td>270.165</td>\n",
       "      <td>58.681</td>\n",
       "      <td>562.848</td>\n",
       "      <td>790.152</td>\n",
       "      <td>0.0</td>\n",
       "      <td>223.488</td>\n",
       "      <td>661.152</td>\n",
       "      <td>280.524</td>\n",
       "      <td>346.332</td>\n",
       "      <td>...</td>\n",
       "      <td>141.501</td>\n",
       "      <td>0.0</td>\n",
       "      <td>1071.372</td>\n",
       "      <td>452.628</td>\n",
       "      <td>71.181</td>\n",
       "      <td>513.366</td>\n",
       "      <td>134.453</td>\n",
       "      <td>0.0</td>\n",
       "      <td>841.491</td>\n",
       "      <td>355.509</td>\n",
       "    </tr>\n",
       "    <tr>\n",
       "      <th>45529</th>\n",
       "      <td>257.362</td>\n",
       "      <td>275.745</td>\n",
       "      <td>59.893</td>\n",
       "      <td>356.512</td>\n",
       "      <td>500.488</td>\n",
       "      <td>0.0</td>\n",
       "      <td>201.024</td>\n",
       "      <td>594.696</td>\n",
       "      <td>252.327</td>\n",
       "      <td>657.510</td>\n",
       "      <td>...</td>\n",
       "      <td>89.991</td>\n",
       "      <td>0.0</td>\n",
       "      <td>912.494</td>\n",
       "      <td>385.506</td>\n",
       "      <td>118.800</td>\n",
       "      <td>856.800</td>\n",
       "      <td>224.400</td>\n",
       "      <td>0.0</td>\n",
       "      <td>468.901</td>\n",
       "      <td>198.099</td>\n",
       "    </tr>\n",
       "    <tr>\n",
       "      <th>45530</th>\n",
       "      <td>324.198</td>\n",
       "      <td>347.355</td>\n",
       "      <td>75.447</td>\n",
       "      <td>553.696</td>\n",
       "      <td>777.304</td>\n",
       "      <td>0.0</td>\n",
       "      <td>171.264</td>\n",
       "      <td>506.656</td>\n",
       "      <td>214.972</td>\n",
       "      <td>555.954</td>\n",
       "      <td>...</td>\n",
       "      <td>71.407</td>\n",
       "      <td>0.0</td>\n",
       "      <td>343.767</td>\n",
       "      <td>145.233</td>\n",
       "      <td>90.387</td>\n",
       "      <td>651.882</td>\n",
       "      <td>170.731</td>\n",
       "      <td>0.0</td>\n",
       "      <td>790.172</td>\n",
       "      <td>333.828</td>\n",
       "    </tr>\n",
       "    <tr>\n",
       "      <th>45531</th>\n",
       "      <td>215.264</td>\n",
       "      <td>230.640</td>\n",
       "      <td>50.096</td>\n",
       "      <td>760.032</td>\n",
       "      <td>1066.968</td>\n",
       "      <td>0.0</td>\n",
       "      <td>144.768</td>\n",
       "      <td>428.272</td>\n",
       "      <td>181.714</td>\n",
       "      <td>484.778</td>\n",
       "      <td>...</td>\n",
       "      <td>43.531</td>\n",
       "      <td>0.0</td>\n",
       "      <td>642.542</td>\n",
       "      <td>271.458</td>\n",
       "      <td>61.380</td>\n",
       "      <td>442.680</td>\n",
       "      <td>115.940</td>\n",
       "      <td>0.0</td>\n",
       "      <td>1170.495</td>\n",
       "      <td>494.505</td>\n",
       "    </tr>\n",
       "  </tbody>\n",
       "</table>\n",
       "<p>45532 rows × 45 columns</p>\n",
       "</div>"
      ],
      "text/plain": [
       "       QaE_neg  QaE_neu  QaE_pos  QbE_neg   QbE_neu  QbE_pos  QcE_neg  \\\n",
       "0      157.542  168.795   36.663  569.920   800.080      0.0  191.424   \n",
       "1      280.798  300.855   65.347  546.208   766.792      0.0  650.304   \n",
       "2      704.382  754.695  163.923  615.680   864.320      0.0  196.032   \n",
       "3      218.736  234.360   50.904  961.376  1349.624      0.0  190.464   \n",
       "4      402.318  431.055   93.627  294.112   412.888      0.0  106.752   \n",
       "...        ...      ...      ...      ...       ...      ...      ...   \n",
       "45527  455.700  488.250  106.050  257.504   361.496      0.0   62.976   \n",
       "45528  252.154  270.165   58.681  562.848   790.152      0.0  223.488   \n",
       "45529  257.362  275.745   59.893  356.512   500.488      0.0  201.024   \n",
       "45530  324.198  347.355   75.447  553.696   777.304      0.0  171.264   \n",
       "45531  215.264  230.640   50.096  760.032  1066.968      0.0  144.768   \n",
       "\n",
       "        QcE_neu  QcE_pos   QdE_neg  ...  QnE_pos  QoE_neg   QoE_neu  QoE_pos  \\\n",
       "0       566.296  240.277   444.416  ...   82.416      0.0   407.037  171.963   \n",
       "1      1923.816  816.267  1288.546  ...  184.628      0.0   853.442  360.558   \n",
       "2       579.928  246.061  1464.316  ...  217.453      0.0   916.712  387.288   \n",
       "3       563.456  239.072  1408.330  ...  122.816      0.0   821.807  347.193   \n",
       "4       315.808  133.996   460.908  ...   58.075      0.0   530.062  223.938   \n",
       "...         ...      ...       ...  ...      ...      ...       ...      ...   \n",
       "45527   186.304   79.048   123.690  ...   30.199      0.0  1346.245  568.755   \n",
       "45528   661.152  280.524   346.332  ...  141.501      0.0  1071.372  452.628   \n",
       "45529   594.696  252.327   657.510  ...   89.991      0.0   912.494  385.506   \n",
       "45530   506.656  214.972   555.954  ...   71.407      0.0   343.767  145.233   \n",
       "45531   428.272  181.714   484.778  ...   43.531      0.0   642.542  271.458   \n",
       "\n",
       "        QpE_neg    QpE_neu   QpE_pos  QtE_neg   QtE_neu  QtE_pos  \n",
       "0        91.476    659.736   172.788      0.0   783.845  331.155  \n",
       "1       238.986   1723.596   451.418      0.0   946.238  399.762  \n",
       "2       111.969    807.534   211.497      0.0   990.527  418.473  \n",
       "3      2362.932  17041.752  4463.316      0.0   922.336  389.664  \n",
       "4       112.860    813.960   213.180      0.0  1327.967  561.033  \n",
       "...         ...        ...       ...      ...       ...      ...  \n",
       "45527    43.461    313.446    82.093      0.0  1583.156  668.844  \n",
       "45528    71.181    513.366   134.453      0.0   841.491  355.509  \n",
       "45529   118.800    856.800   224.400      0.0   468.901  198.099  \n",
       "45530    90.387    651.882   170.731      0.0   790.172  333.828  \n",
       "45531    61.380    442.680   115.940      0.0  1170.495  494.505  \n",
       "\n",
       "[45532 rows x 45 columns]"
      ]
     },
     "execution_count": 22,
     "metadata": {},
     "output_type": "execute_result"
    }
   ],
   "source": [
    "for QtypeE in [\"QaE\", \"QbE\", \"QcE\", \"QdE\", \"QfE\", \"QgE\", \"QhE\", \"QiE\", \"QjE\", \"QkE\", \"QlE\", \"QnE\", \"QoE\", \"QpE\", \"QtE\"]:\n",
    "    nlu_rate(QtypeE)\n",
    "\n",
    "nlu_rate_df"
   ]
  },
  {
   "cell_type": "markdown",
   "metadata": {},
   "source": [
    "- 이제 목적인 neg, neu, pos 각각으로 나누어서 다 합쳐준다."
   ]
  },
  {
   "cell_type": "code",
   "execution_count": 23,
   "metadata": {},
   "outputs": [],
   "source": [
    "np_data = np.zeros((45532, 3))\n",
    "f_nlu_rate_df = pd.DataFrame(columns=[\"Q_neg\", \"Q_neu\", \"Q_pos\"], data = np_data)"
   ]
  },
  {
   "cell_type": "code",
   "execution_count": 24,
   "metadata": {},
   "outputs": [],
   "source": [
    "def f_nlu_rate(QtypeE):\n",
    "    question_type = [\"neg\", \"neu\", \"pos\"]\n",
    "    for i in range(3):\n",
    "        t = question_type[i]\n",
    "        f_nlu_rate_df[f\"Q_{t}\"] += nlu_rate_df[f\"{QtypeE}_{t}\"] "
   ]
  },
  {
   "cell_type": "code",
   "execution_count": 25,
   "metadata": {},
   "outputs": [
    {
     "data": {
      "text/html": [
       "<div>\n",
       "<style scoped>\n",
       "    .dataframe tbody tr th:only-of-type {\n",
       "        vertical-align: middle;\n",
       "    }\n",
       "\n",
       "    .dataframe tbody tr th {\n",
       "        vertical-align: top;\n",
       "    }\n",
       "\n",
       "    .dataframe thead th {\n",
       "        text-align: right;\n",
       "    }\n",
       "</style>\n",
       "<table border=\"1\" class=\"dataframe\">\n",
       "  <thead>\n",
       "    <tr style=\"text-align: right;\">\n",
       "      <th></th>\n",
       "      <th>Q_neg</th>\n",
       "      <th>Q_neu</th>\n",
       "      <th>Q_pos</th>\n",
       "    </tr>\n",
       "  </thead>\n",
       "  <tbody>\n",
       "    <tr>\n",
       "      <th>0</th>\n",
       "      <td>3227.095</td>\n",
       "      <td>7977.745</td>\n",
       "      <td>2366.062</td>\n",
       "    </tr>\n",
       "    <tr>\n",
       "      <th>1</th>\n",
       "      <td>7896.084</td>\n",
       "      <td>18753.329</td>\n",
       "      <td>5566.892</td>\n",
       "    </tr>\n",
       "    <tr>\n",
       "      <th>2</th>\n",
       "      <td>6122.784</td>\n",
       "      <td>13830.558</td>\n",
       "      <td>4022.663</td>\n",
       "    </tr>\n",
       "    <tr>\n",
       "      <th>3</th>\n",
       "      <td>8842.130</td>\n",
       "      <td>33151.212</td>\n",
       "      <td>9513.375</td>\n",
       "    </tr>\n",
       "    <tr>\n",
       "      <th>4</th>\n",
       "      <td>3346.248</td>\n",
       "      <td>8904.379</td>\n",
       "      <td>2698.670</td>\n",
       "    </tr>\n",
       "    <tr>\n",
       "      <th>...</th>\n",
       "      <td>...</td>\n",
       "      <td>...</td>\n",
       "      <td>...</td>\n",
       "    </tr>\n",
       "    <tr>\n",
       "      <th>45527</th>\n",
       "      <td>1799.617</td>\n",
       "      <td>6291.988</td>\n",
       "      <td>2280.240</td>\n",
       "    </tr>\n",
       "    <tr>\n",
       "      <th>45528</th>\n",
       "      <td>4431.475</td>\n",
       "      <td>12109.547</td>\n",
       "      <td>4442.727</td>\n",
       "    </tr>\n",
       "    <tr>\n",
       "      <th>45529</th>\n",
       "      <td>4300.286</td>\n",
       "      <td>10624.660</td>\n",
       "      <td>3296.818</td>\n",
       "    </tr>\n",
       "    <tr>\n",
       "      <th>45530</th>\n",
       "      <td>3646.933</td>\n",
       "      <td>8246.211</td>\n",
       "      <td>2553.319</td>\n",
       "    </tr>\n",
       "    <tr>\n",
       "      <th>45531</th>\n",
       "      <td>4643.748</td>\n",
       "      <td>14107.784</td>\n",
       "      <td>4159.526</td>\n",
       "    </tr>\n",
       "  </tbody>\n",
       "</table>\n",
       "<p>45532 rows × 3 columns</p>\n",
       "</div>"
      ],
      "text/plain": [
       "          Q_neg      Q_neu     Q_pos\n",
       "0      3227.095   7977.745  2366.062\n",
       "1      7896.084  18753.329  5566.892\n",
       "2      6122.784  13830.558  4022.663\n",
       "3      8842.130  33151.212  9513.375\n",
       "4      3346.248   8904.379  2698.670\n",
       "...         ...        ...       ...\n",
       "45527  1799.617   6291.988  2280.240\n",
       "45528  4431.475  12109.547  4442.727\n",
       "45529  4300.286  10624.660  3296.818\n",
       "45530  3646.933   8246.211  2553.319\n",
       "45531  4643.748  14107.784  4159.526\n",
       "\n",
       "[45532 rows x 3 columns]"
      ]
     },
     "execution_count": 25,
     "metadata": {},
     "output_type": "execute_result"
    }
   ],
   "source": [
    "for QtypeE in [\"QaE\", \"QbE\", \"QcE\", \"QdE\", \"QfE\", \"QgE\", \"QhE\", \"QiE\", \"QjE\", \"QkE\", \"QlE\", \"QnE\", \"QoE\", \"QpE\", \"QtE\"]:\n",
    "    f_nlu_rate(QtypeE)\n",
    "\n",
    "f_nlu_rate_df"
   ]
  },
  {
   "cell_type": "markdown",
   "metadata": {},
   "source": [
    "- 이제 해석할 voted data를 가져와준다. 이때, 성별도 구분해주면 좋겠다고 생각하여 gender도 함께 가져와서 처리했다."
   ]
  },
  {
   "cell_type": "code",
   "execution_count": 26,
   "metadata": {},
   "outputs": [
    {
     "data": {
      "text/html": [
       "<div>\n",
       "<style scoped>\n",
       "    .dataframe tbody tr th:only-of-type {\n",
       "        vertical-align: middle;\n",
       "    }\n",
       "\n",
       "    .dataframe tbody tr th {\n",
       "        vertical-align: top;\n",
       "    }\n",
       "\n",
       "    .dataframe thead th {\n",
       "        text-align: right;\n",
       "    }\n",
       "</style>\n",
       "<table border=\"1\" class=\"dataframe\">\n",
       "  <thead>\n",
       "    <tr style=\"text-align: right;\">\n",
       "      <th></th>\n",
       "      <th>Q_neg</th>\n",
       "      <th>Q_neu</th>\n",
       "      <th>Q_pos</th>\n",
       "      <th>voted</th>\n",
       "      <th>gender</th>\n",
       "    </tr>\n",
       "  </thead>\n",
       "  <tbody>\n",
       "    <tr>\n",
       "      <th>0</th>\n",
       "      <td>3227.095</td>\n",
       "      <td>7977.745</td>\n",
       "      <td>2366.062</td>\n",
       "      <td>0</td>\n",
       "      <td>F</td>\n",
       "    </tr>\n",
       "    <tr>\n",
       "      <th>1</th>\n",
       "      <td>7896.084</td>\n",
       "      <td>18753.329</td>\n",
       "      <td>5566.892</td>\n",
       "      <td>0</td>\n",
       "      <td>F</td>\n",
       "    </tr>\n",
       "    <tr>\n",
       "      <th>2</th>\n",
       "      <td>6122.784</td>\n",
       "      <td>13830.558</td>\n",
       "      <td>4022.663</td>\n",
       "      <td>1</td>\n",
       "      <td>M</td>\n",
       "    </tr>\n",
       "    <tr>\n",
       "      <th>3</th>\n",
       "      <td>8842.130</td>\n",
       "      <td>33151.212</td>\n",
       "      <td>9513.375</td>\n",
       "      <td>1</td>\n",
       "      <td>F</td>\n",
       "    </tr>\n",
       "    <tr>\n",
       "      <th>4</th>\n",
       "      <td>3346.248</td>\n",
       "      <td>8904.379</td>\n",
       "      <td>2698.670</td>\n",
       "      <td>1</td>\n",
       "      <td>M</td>\n",
       "    </tr>\n",
       "    <tr>\n",
       "      <th>...</th>\n",
       "      <td>...</td>\n",
       "      <td>...</td>\n",
       "      <td>...</td>\n",
       "      <td>...</td>\n",
       "      <td>...</td>\n",
       "    </tr>\n",
       "    <tr>\n",
       "      <th>45527</th>\n",
       "      <td>1799.617</td>\n",
       "      <td>6291.988</td>\n",
       "      <td>2280.240</td>\n",
       "      <td>0</td>\n",
       "      <td>F</td>\n",
       "    </tr>\n",
       "    <tr>\n",
       "      <th>45528</th>\n",
       "      <td>4431.475</td>\n",
       "      <td>12109.547</td>\n",
       "      <td>4442.727</td>\n",
       "      <td>0</td>\n",
       "      <td>M</td>\n",
       "    </tr>\n",
       "    <tr>\n",
       "      <th>45529</th>\n",
       "      <td>4300.286</td>\n",
       "      <td>10624.660</td>\n",
       "      <td>3296.818</td>\n",
       "      <td>1</td>\n",
       "      <td>F</td>\n",
       "    </tr>\n",
       "    <tr>\n",
       "      <th>45530</th>\n",
       "      <td>3646.933</td>\n",
       "      <td>8246.211</td>\n",
       "      <td>2553.319</td>\n",
       "      <td>1</td>\n",
       "      <td>M</td>\n",
       "    </tr>\n",
       "    <tr>\n",
       "      <th>45531</th>\n",
       "      <td>4643.748</td>\n",
       "      <td>14107.784</td>\n",
       "      <td>4159.526</td>\n",
       "      <td>1</td>\n",
       "      <td>M</td>\n",
       "    </tr>\n",
       "  </tbody>\n",
       "</table>\n",
       "<p>45532 rows × 5 columns</p>\n",
       "</div>"
      ],
      "text/plain": [
       "          Q_neg      Q_neu     Q_pos  voted gender\n",
       "0      3227.095   7977.745  2366.062      0      F\n",
       "1      7896.084  18753.329  5566.892      0      F\n",
       "2      6122.784  13830.558  4022.663      1      M\n",
       "3      8842.130  33151.212  9513.375      1      F\n",
       "4      3346.248   8904.379  2698.670      1      M\n",
       "...         ...        ...       ...    ...    ...\n",
       "45527  1799.617   6291.988  2280.240      0      F\n",
       "45528  4431.475  12109.547  4442.727      0      M\n",
       "45529  4300.286  10624.660  3296.818      1      F\n",
       "45530  3646.933   8246.211  2553.319      1      M\n",
       "45531  4643.748  14107.784  4159.526      1      M\n",
       "\n",
       "[45532 rows x 5 columns]"
      ]
     },
     "execution_count": 26,
     "metadata": {},
     "output_type": "execute_result"
    }
   ],
   "source": [
    "f_nlu_rate_df[\"voted\"] = np.where(data[\"voted\"]==1, 1, 0)\n",
    "f_nlu_rate_df[\"gender\"] = np.where(data[\"gender\"]==\"Female\", \"F\", \"M\")\n",
    "f_nlu_rate_df"
   ]
  },
  {
   "cell_type": "markdown",
   "metadata": {},
   "source": [
    "#### 7) neg data and t test"
   ]
  },
  {
   "cell_type": "code",
   "execution_count": 27,
   "metadata": {},
   "outputs": [],
   "source": [
    "Q_neg = f_nlu_rate_df[[\"Q_neg\", \"voted\", \"gender\"]]"
   ]
  },
  {
   "cell_type": "code",
   "execution_count": 28,
   "metadata": {},
   "outputs": [
    {
     "data": {
      "text/plain": [
       "<AxesSubplot:xlabel='voted', ylabel='Q_neg'>"
      ]
     },
     "execution_count": 28,
     "metadata": {},
     "output_type": "execute_result"
    },
    {
     "data": {
      "image/png": "[encoded data removed]",
      "text/plain": [
       "<Figure size 864x7200 with 1 Axes>"
      ]
     },
     "metadata": {
      "needs_background": "light"
     },
     "output_type": "display_data"
    }
   ],
   "source": [
    "sns.boxplot(data=Q_neg, x =\"voted\", y = \"Q_neg\", hue = \"gender\")"
   ]
  },
  {
   "cell_type": "code",
   "execution_count": 29,
   "metadata": {},
   "outputs": [
    {
     "data": {
      "text/plain": [
       "<AxesSubplot:xlabel='voted', ylabel='Q_neg'>"
      ]
     },
     "execution_count": 29,
     "metadata": {},
     "output_type": "execute_result"
    },
    {
     "data": {
      "image/png": "[encoded data removed]",
      "text/plain": [
       "<Figure size 864x360 with 1 Axes>"
      ]
     },
     "metadata": {
      "needs_background": "light"
     },
     "output_type": "display_data"
    }
   ],
   "source": [
    "plt.rcParams[\"figure.figsize\"] = (12, 5)\n",
    "sns.violinplot(data=Q_neg, x =\"voted\", y = \"Q_neg\", hue = \"gender\", split=True)"
   ]
  },
  {
   "cell_type": "code",
   "execution_count": 30,
   "metadata": {},
   "outputs": [
    {
     "data": {
      "text/plain": [
       "<AxesSubplot:xlabel='voted', ylabel='Q_neg'>"
      ]
     },
     "execution_count": 30,
     "metadata": {},
     "output_type": "execute_result"
    },
    {
     "data": {
      "image/png": "[encoded data removed]",
      "text/plain": [
       "<Figure size 864x360 with 1 Axes>"
      ]
     },
     "metadata": {
      "needs_background": "light"
     },
     "output_type": "display_data"
    }
   ],
   "source": [
    "plt.rcParams[\"figure.figsize\"] = (12, 5)\n",
    "plt.ylim(-100000, 250000)\n",
    "sns.violinplot(data=Q_neg, x =\"voted\", y = \"Q_neg\", hue = \"gender\", split=True)"
   ]
  },
  {
   "cell_type": "markdown",
   "metadata": {},
   "source": [
    "- 실제로 -값이 있는지 확인하기 위해 아래와 같이 진행하였지만, drop되는 부분이 없었다. 이는 숫자 범위가 너무 컸기에 발생한 오류로 생각하였다."
   ]
  },
  {
   "cell_type": "code",
   "execution_count": 31,
   "metadata": {},
   "outputs": [
    {
     "name": "stderr",
     "output_type": "stream",
     "text": [
      "/Users/seong-gang/opt/anaconda3/lib/python3.8/site-packages/pandas/core/frame.py:4163: SettingWithCopyWarning: \n",
      "A value is trying to be set on a copy of a slice from a DataFrame\n",
      "\n",
      "See the caveats in the documentation: https://pandas.pydata.org/pandas-docs/stable/user_guide/indexing.html#returning-a-view-versus-a-copy\n",
      "  return super().drop(\n"
     ]
    },
    {
     "data": {
      "text/html": [
       "<div>\n",
       "<style scoped>\n",
       "    .dataframe tbody tr th:only-of-type {\n",
       "        vertical-align: middle;\n",
       "    }\n",
       "\n",
       "    .dataframe tbody tr th {\n",
       "        vertical-align: top;\n",
       "    }\n",
       "\n",
       "    .dataframe thead th {\n",
       "        text-align: right;\n",
       "    }\n",
       "</style>\n",
       "<table border=\"1\" class=\"dataframe\">\n",
       "  <thead>\n",
       "    <tr style=\"text-align: right;\">\n",
       "      <th></th>\n",
       "      <th>Q_neg</th>\n",
       "      <th>voted</th>\n",
       "      <th>gender</th>\n",
       "    </tr>\n",
       "  </thead>\n",
       "  <tbody>\n",
       "    <tr>\n",
       "      <th>0</th>\n",
       "      <td>3227.095</td>\n",
       "      <td>0</td>\n",
       "      <td>F</td>\n",
       "    </tr>\n",
       "    <tr>\n",
       "      <th>1</th>\n",
       "      <td>7896.084</td>\n",
       "      <td>0</td>\n",
       "      <td>F</td>\n",
       "    </tr>\n",
       "    <tr>\n",
       "      <th>2</th>\n",
       "      <td>6122.784</td>\n",
       "      <td>1</td>\n",
       "      <td>M</td>\n",
       "    </tr>\n",
       "    <tr>\n",
       "      <th>3</th>\n",
       "      <td>8842.130</td>\n",
       "      <td>1</td>\n",
       "      <td>F</td>\n",
       "    </tr>\n",
       "    <tr>\n",
       "      <th>4</th>\n",
       "      <td>3346.248</td>\n",
       "      <td>1</td>\n",
       "      <td>M</td>\n",
       "    </tr>\n",
       "    <tr>\n",
       "      <th>...</th>\n",
       "      <td>...</td>\n",
       "      <td>...</td>\n",
       "      <td>...</td>\n",
       "    </tr>\n",
       "    <tr>\n",
       "      <th>45527</th>\n",
       "      <td>1799.617</td>\n",
       "      <td>0</td>\n",
       "      <td>F</td>\n",
       "    </tr>\n",
       "    <tr>\n",
       "      <th>45528</th>\n",
       "      <td>4431.475</td>\n",
       "      <td>0</td>\n",
       "      <td>M</td>\n",
       "    </tr>\n",
       "    <tr>\n",
       "      <th>45529</th>\n",
       "      <td>4300.286</td>\n",
       "      <td>1</td>\n",
       "      <td>F</td>\n",
       "    </tr>\n",
       "    <tr>\n",
       "      <th>45530</th>\n",
       "      <td>3646.933</td>\n",
       "      <td>1</td>\n",
       "      <td>M</td>\n",
       "    </tr>\n",
       "    <tr>\n",
       "      <th>45531</th>\n",
       "      <td>4643.748</td>\n",
       "      <td>1</td>\n",
       "      <td>M</td>\n",
       "    </tr>\n",
       "  </tbody>\n",
       "</table>\n",
       "<p>45532 rows × 3 columns</p>\n",
       "</div>"
      ],
      "text/plain": [
       "          Q_neg  voted gender\n",
       "0      3227.095      0      F\n",
       "1      7896.084      0      F\n",
       "2      6122.784      1      M\n",
       "3      8842.130      1      F\n",
       "4      3346.248      1      M\n",
       "...         ...    ...    ...\n",
       "45527  1799.617      0      F\n",
       "45528  4431.475      0      M\n",
       "45529  4300.286      1      F\n",
       "45530  3646.933      1      M\n",
       "45531  4643.748      1      M\n",
       "\n",
       "[45532 rows x 3 columns]"
      ]
     },
     "execution_count": 31,
     "metadata": {},
     "output_type": "execute_result"
    }
   ],
   "source": [
    "Q_neg.drop(Q_neg.loc[Q_neg['Q_neg']<0].index, inplace=True)\n",
    "Q_neg"
   ]
  },
  {
   "cell_type": "markdown",
   "metadata": {},
   "source": [
    "- 위를 보면 알 수 있지만, 값의 range가 너무커서 전체에 대해서 데이터 분석을 진행하는 것이 의미가 없다고 생각했고, 튀는 값을 정리하고, 이를 위하여 mean값을 qcut method를 통하여 해석하고자 한다."
   ]
  },
  {
   "cell_type": "code",
   "execution_count": 32,
   "metadata": {},
   "outputs": [
    {
     "name": "stderr",
     "output_type": "stream",
     "text": [
      "<ipython-input-32-c2b6fb28652a>:2: SettingWithCopyWarning: \n",
      "A value is trying to be set on a copy of a slice from a DataFrame.\n",
      "Try using .loc[row_indexer,col_indexer] = value instead\n",
      "\n",
      "See the caveats in the documentation: https://pandas.pydata.org/pandas-docs/stable/user_guide/indexing.html#returning-a-view-versus-a-copy\n",
      "  Q_neg[\"bins\"] = Q_neg_data\n"
     ]
    },
    {
     "data": {
      "text/html": [
       "<div>\n",
       "<style scoped>\n",
       "    .dataframe tbody tr th:only-of-type {\n",
       "        vertical-align: middle;\n",
       "    }\n",
       "\n",
       "    .dataframe tbody tr th {\n",
       "        vertical-align: top;\n",
       "    }\n",
       "\n",
       "    .dataframe thead th {\n",
       "        text-align: right;\n",
       "    }\n",
       "</style>\n",
       "<table border=\"1\" class=\"dataframe\">\n",
       "  <thead>\n",
       "    <tr style=\"text-align: right;\">\n",
       "      <th></th>\n",
       "      <th>Q_neg</th>\n",
       "      <th>voted</th>\n",
       "      <th>gender</th>\n",
       "      <th>bins</th>\n",
       "    </tr>\n",
       "  </thead>\n",
       "  <tbody>\n",
       "    <tr>\n",
       "      <th>0</th>\n",
       "      <td>3227.095</td>\n",
       "      <td>0</td>\n",
       "      <td>F</td>\n",
       "      <td>short</td>\n",
       "    </tr>\n",
       "    <tr>\n",
       "      <th>1</th>\n",
       "      <td>7896.084</td>\n",
       "      <td>0</td>\n",
       "      <td>F</td>\n",
       "      <td>long</td>\n",
       "    </tr>\n",
       "    <tr>\n",
       "      <th>2</th>\n",
       "      <td>6122.784</td>\n",
       "      <td>1</td>\n",
       "      <td>M</td>\n",
       "      <td>long</td>\n",
       "    </tr>\n",
       "    <tr>\n",
       "      <th>3</th>\n",
       "      <td>8842.130</td>\n",
       "      <td>1</td>\n",
       "      <td>F</td>\n",
       "      <td>long</td>\n",
       "    </tr>\n",
       "    <tr>\n",
       "      <th>4</th>\n",
       "      <td>3346.248</td>\n",
       "      <td>1</td>\n",
       "      <td>M</td>\n",
       "      <td>middle</td>\n",
       "    </tr>\n",
       "    <tr>\n",
       "      <th>...</th>\n",
       "      <td>...</td>\n",
       "      <td>...</td>\n",
       "      <td>...</td>\n",
       "      <td>...</td>\n",
       "    </tr>\n",
       "    <tr>\n",
       "      <th>45527</th>\n",
       "      <td>1799.617</td>\n",
       "      <td>0</td>\n",
       "      <td>F</td>\n",
       "      <td>too_short</td>\n",
       "    </tr>\n",
       "    <tr>\n",
       "      <th>45528</th>\n",
       "      <td>4431.475</td>\n",
       "      <td>0</td>\n",
       "      <td>M</td>\n",
       "      <td>middle</td>\n",
       "    </tr>\n",
       "    <tr>\n",
       "      <th>45529</th>\n",
       "      <td>4300.286</td>\n",
       "      <td>1</td>\n",
       "      <td>F</td>\n",
       "      <td>middle</td>\n",
       "    </tr>\n",
       "    <tr>\n",
       "      <th>45530</th>\n",
       "      <td>3646.933</td>\n",
       "      <td>1</td>\n",
       "      <td>M</td>\n",
       "      <td>middle</td>\n",
       "    </tr>\n",
       "    <tr>\n",
       "      <th>45531</th>\n",
       "      <td>4643.748</td>\n",
       "      <td>1</td>\n",
       "      <td>M</td>\n",
       "      <td>middle</td>\n",
       "    </tr>\n",
       "  </tbody>\n",
       "</table>\n",
       "<p>45532 rows × 4 columns</p>\n",
       "</div>"
      ],
      "text/plain": [
       "          Q_neg  voted gender       bins\n",
       "0      3227.095      0      F      short\n",
       "1      7896.084      0      F       long\n",
       "2      6122.784      1      M       long\n",
       "3      8842.130      1      F       long\n",
       "4      3346.248      1      M     middle\n",
       "...         ...    ...    ...        ...\n",
       "45527  1799.617      0      F  too_short\n",
       "45528  4431.475      0      M     middle\n",
       "45529  4300.286      1      F     middle\n",
       "45530  3646.933      1      M     middle\n",
       "45531  4643.748      1      M     middle\n",
       "\n",
       "[45532 rows x 4 columns]"
      ]
     },
     "execution_count": 32,
     "metadata": {},
     "output_type": "execute_result"
    }
   ],
   "source": [
    "Q_neg_data = pd.qcut(Q_neg[\"Q_neg\"], [0, 0.05, 0.25, 0.75, 0.95, 1], labels=[\"too_short\", \"short\", \"middle\", \"long\", \"too_long\"])\n",
    "Q_neg[\"bins\"] = Q_neg_data\n",
    "Q_neg"
   ]
  },
  {
   "cell_type": "markdown",
   "metadata": {},
   "source": [
    "- 남녀 전체에 대해서 진행"
   ]
  },
  {
   "cell_type": "code",
   "execution_count": 33,
   "metadata": {},
   "outputs": [
    {
     "name": "stdout",
     "output_type": "stream",
     "text": [
      "neg_short:  0.42345706127827804 , neg_middle:  0.4610823157339893 , neg_long:  0.4852844278497694\n"
     ]
    }
   ],
   "source": [
    "neg_short = Q_neg[Q_neg[\"bins\"]==\"short\"][\"voted\"].mean()\n",
    "neg_middle = Q_neg[Q_neg[\"bins\"]==\"middle\"][\"voted\"].mean()\n",
    "neg_long = Q_neg[Q_neg[\"bins\"]==\"long\"][\"voted\"].mean()\n",
    "print(\"neg_short: \", neg_short, \", neg_middle: \", neg_middle, \", neg_long: \", neg_long)"
   ]
  },
  {
   "cell_type": "markdown",
   "metadata": {},
   "source": [
    "- 실제로 응답시간이 길어짐에 따라, 투표율이 올라감을 볼 수 있다. 이를 유의수준 5%로 하여 검사하였을 때, 만족함을 알 수 있다."
   ]
  },
  {
   "cell_type": "code",
   "execution_count": 34,
   "metadata": {
    "scrolled": true
   },
   "outputs": [
    {
     "data": {
      "text/plain": [
       "[8.394413961012138, 5.0213017441156344e-17]"
      ]
     },
     "execution_count": 34,
     "metadata": {},
     "output_type": "execute_result"
    }
   ],
   "source": [
    "[t_stat, p] = stats.ttest_ind(Q_neg[Q_neg.bins == 'long'].voted, Q_neg[Q_neg.bins == 'short'].voted)\n",
    "[t_stat, p]"
   ]
  },
  {
   "cell_type": "markdown",
   "metadata": {},
   "source": [
    "- 여자에 대해서 진행"
   ]
  },
  {
   "cell_type": "code",
   "execution_count": 35,
   "metadata": {},
   "outputs": [
    {
     "name": "stdout",
     "output_type": "stream",
     "text": [
      "female_neg_short:  0.43563009972801453 , female_neg_middle:  0.46817711760834824 , female_neg_long:  0.4828998073217726\n"
     ]
    }
   ],
   "source": [
    "f_Q_neg = Q_neg[Q_neg[\"gender\"]==\"F\"]\n",
    "f_neg_short = f_Q_neg[f_Q_neg[\"bins\"]==\"short\"][\"voted\"].mean()\n",
    "f_neg_middle = f_Q_neg[f_Q_neg[\"bins\"]==\"middle\"][\"voted\"].mean()\n",
    "f_neg_long = f_Q_neg[f_Q_neg[\"bins\"]==\"long\"][\"voted\"].mean()\n",
    "print(\"female_neg_short: \",f_neg_short, \", female_neg_middle: \", f_neg_middle, \", female_neg_long: \", f_neg_long)"
   ]
  },
  {
   "cell_type": "markdown",
   "metadata": {},
   "source": [
    "- 실제로 응답시간이 길어짐에 따라, 투표율이 올라감을 볼 수 있다. 이를 유의수준 5%로 하여 검사하였을 때, 만족함을 알 수 있다."
   ]
  },
  {
   "cell_type": "code",
   "execution_count": 36,
   "metadata": {
    "scrolled": true
   },
   "outputs": [
    {
     "data": {
      "text/plain": [
       "[4.3919421360919095, 1.1369342642605075e-05]"
      ]
     },
     "execution_count": 36,
     "metadata": {},
     "output_type": "execute_result"
    }
   ],
   "source": [
    "[t_stat, p] = stats.ttest_ind(f_Q_neg[f_Q_neg.bins == 'long'].voted, f_Q_neg[f_Q_neg.bins == 'short'].voted)\n",
    "[t_stat, p]"
   ]
  },
  {
   "cell_type": "markdown",
   "metadata": {},
   "source": [
    "- 남자에 대해서 진행"
   ]
  },
  {
   "cell_type": "code",
   "execution_count": 37,
   "metadata": {},
   "outputs": [
    {
     "name": "stdout",
     "output_type": "stream",
     "text": [
      "male_neg_short:  0.412015338730294 , male_neg_middle:  0.454860252287905 , male_neg_long:  0.4872830036334275\n"
     ]
    }
   ],
   "source": [
    "m_Q_neg = Q_neg[Q_neg[\"gender\"]==\"M\"]\n",
    "m_neg_short = m_Q_neg[m_Q_neg[\"bins\"]==\"short\"][\"voted\"].mean()\n",
    "m_neg_middle = m_Q_neg[m_Q_neg[\"bins\"]==\"middle\"][\"voted\"].mean()\n",
    "m_neg_long = m_Q_neg[m_Q_neg[\"bins\"]==\"long\"][\"voted\"].mean()\n",
    "print(\"male_neg_short: \", m_neg_short, \", male_neg_middle: \", m_neg_middle, \", male_neg_long: \", m_neg_long)"
   ]
  },
  {
   "cell_type": "markdown",
   "metadata": {},
   "source": [
    "- 실제로 응답시간이 길어짐에 따라, 투표율이 올라감을 볼 수 있다. 이를 유의수준 5%로 하여 검사하였을 때, 만족함을 알 수 있다."
   ]
  },
  {
   "cell_type": "code",
   "execution_count": 38,
   "metadata": {
    "scrolled": true
   },
   "outputs": [
    {
     "data": {
      "text/plain": [
       "[7.447214366460221, 1.0350518769411838e-13]"
      ]
     },
     "execution_count": 38,
     "metadata": {},
     "output_type": "execute_result"
    }
   ],
   "source": [
    "[t_stat, p] = stats.ttest_ind(m_Q_neg[m_Q_neg.bins == 'long'].voted, m_Q_neg[m_Q_neg.bins == 'short'].voted)\n",
    "[t_stat, p]"
   ]
  },
  {
   "cell_type": "markdown",
   "metadata": {},
   "source": [
    "#### 8) pos data and t test"
   ]
  },
  {
   "cell_type": "code",
   "execution_count": 39,
   "metadata": {},
   "outputs": [
    {
     "name": "stderr",
     "output_type": "stream",
     "text": [
      "/Users/seong-gang/opt/anaconda3/lib/python3.8/site-packages/pandas/core/frame.py:4163: SettingWithCopyWarning: \n",
      "A value is trying to be set on a copy of a slice from a DataFrame\n",
      "\n",
      "See the caveats in the documentation: https://pandas.pydata.org/pandas-docs/stable/user_guide/indexing.html#returning-a-view-versus-a-copy\n",
      "  return super().drop(\n",
      "<ipython-input-39-e23910b07398>:4: SettingWithCopyWarning: \n",
      "A value is trying to be set on a copy of a slice from a DataFrame.\n",
      "Try using .loc[row_indexer,col_indexer] = value instead\n",
      "\n",
      "See the caveats in the documentation: https://pandas.pydata.org/pandas-docs/stable/user_guide/indexing.html#returning-a-view-versus-a-copy\n",
      "  Q_pos[\"bins\"] = pos_data\n"
     ]
    },
    {
     "data": {
      "text/html": [
       "<div>\n",
       "<style scoped>\n",
       "    .dataframe tbody tr th:only-of-type {\n",
       "        vertical-align: middle;\n",
       "    }\n",
       "\n",
       "    .dataframe tbody tr th {\n",
       "        vertical-align: top;\n",
       "    }\n",
       "\n",
       "    .dataframe thead th {\n",
       "        text-align: right;\n",
       "    }\n",
       "</style>\n",
       "<table border=\"1\" class=\"dataframe\">\n",
       "  <thead>\n",
       "    <tr style=\"text-align: right;\">\n",
       "      <th></th>\n",
       "      <th>Q_pos</th>\n",
       "      <th>voted</th>\n",
       "      <th>gender</th>\n",
       "      <th>bins</th>\n",
       "    </tr>\n",
       "  </thead>\n",
       "  <tbody>\n",
       "    <tr>\n",
       "      <th>0</th>\n",
       "      <td>2366.062</td>\n",
       "      <td>0</td>\n",
       "      <td>F</td>\n",
       "      <td>short</td>\n",
       "    </tr>\n",
       "    <tr>\n",
       "      <th>1</th>\n",
       "      <td>5566.892</td>\n",
       "      <td>0</td>\n",
       "      <td>F</td>\n",
       "      <td>long</td>\n",
       "    </tr>\n",
       "    <tr>\n",
       "      <th>2</th>\n",
       "      <td>4022.663</td>\n",
       "      <td>1</td>\n",
       "      <td>M</td>\n",
       "      <td>middle</td>\n",
       "    </tr>\n",
       "    <tr>\n",
       "      <th>3</th>\n",
       "      <td>9513.375</td>\n",
       "      <td>1</td>\n",
       "      <td>F</td>\n",
       "      <td>too_long</td>\n",
       "    </tr>\n",
       "    <tr>\n",
       "      <th>4</th>\n",
       "      <td>2698.670</td>\n",
       "      <td>1</td>\n",
       "      <td>M</td>\n",
       "      <td>middle</td>\n",
       "    </tr>\n",
       "    <tr>\n",
       "      <th>...</th>\n",
       "      <td>...</td>\n",
       "      <td>...</td>\n",
       "      <td>...</td>\n",
       "      <td>...</td>\n",
       "    </tr>\n",
       "    <tr>\n",
       "      <th>45527</th>\n",
       "      <td>2280.240</td>\n",
       "      <td>0</td>\n",
       "      <td>F</td>\n",
       "      <td>short</td>\n",
       "    </tr>\n",
       "    <tr>\n",
       "      <th>45528</th>\n",
       "      <td>4442.727</td>\n",
       "      <td>0</td>\n",
       "      <td>M</td>\n",
       "      <td>middle</td>\n",
       "    </tr>\n",
       "    <tr>\n",
       "      <th>45529</th>\n",
       "      <td>3296.818</td>\n",
       "      <td>1</td>\n",
       "      <td>F</td>\n",
       "      <td>middle</td>\n",
       "    </tr>\n",
       "    <tr>\n",
       "      <th>45530</th>\n",
       "      <td>2553.319</td>\n",
       "      <td>1</td>\n",
       "      <td>M</td>\n",
       "      <td>middle</td>\n",
       "    </tr>\n",
       "    <tr>\n",
       "      <th>45531</th>\n",
       "      <td>4159.526</td>\n",
       "      <td>1</td>\n",
       "      <td>M</td>\n",
       "      <td>middle</td>\n",
       "    </tr>\n",
       "  </tbody>\n",
       "</table>\n",
       "<p>45532 rows × 4 columns</p>\n",
       "</div>"
      ],
      "text/plain": [
       "          Q_pos  voted gender      bins\n",
       "0      2366.062      0      F     short\n",
       "1      5566.892      0      F      long\n",
       "2      4022.663      1      M    middle\n",
       "3      9513.375      1      F  too_long\n",
       "4      2698.670      1      M    middle\n",
       "...         ...    ...    ...       ...\n",
       "45527  2280.240      0      F     short\n",
       "45528  4442.727      0      M    middle\n",
       "45529  3296.818      1      F    middle\n",
       "45530  2553.319      1      M    middle\n",
       "45531  4159.526      1      M    middle\n",
       "\n",
       "[45532 rows x 4 columns]"
      ]
     },
     "execution_count": 39,
     "metadata": {},
     "output_type": "execute_result"
    }
   ],
   "source": [
    "Q_pos = f_nlu_rate_df[[\"Q_pos\", \"voted\", \"gender\"]]\n",
    "Q_pos.drop(Q_pos.loc[Q_pos['Q_pos']<0].index, inplace=True)\n",
    "pos_data = pd.qcut(Q_pos[\"Q_pos\"], [0, 0.05, 0.25, 0.75, 0.95, 1], labels=[\"too_short\", \"short\", \"middle\", \"long\", \"too_long\"])\n",
    "Q_pos[\"bins\"] = pos_data\n",
    "Q_pos"
   ]
  },
  {
   "cell_type": "markdown",
   "metadata": {},
   "source": [
    "- 남녀 전체에 대해서 진행"
   ]
  },
  {
   "cell_type": "code",
   "execution_count": 40,
   "metadata": {},
   "outputs": [
    {
     "name": "stdout",
     "output_type": "stream",
     "text": [
      "pos_short:  0.4298264880298704 , pos_middle:  0.4593253096723184 , pos_long:  0.4797935427190863\n"
     ]
    }
   ],
   "source": [
    "pos_short = Q_pos[Q_pos[\"bins\"]==\"short\"][\"voted\"].mean()\n",
    "pos_middle = Q_pos[Q_pos[\"bins\"]==\"middle\"][\"voted\"].mean()\n",
    "pos_long = Q_pos[Q_pos[\"bins\"]==\"long\"][\"voted\"].mean()\n",
    "print(\"pos_short: \", pos_short, \", pos_middle: \", pos_middle, \", pos_long: \", pos_long)"
   ]
  },
  {
   "cell_type": "markdown",
   "metadata": {},
   "source": [
    "- 실제로 응답시간이 길어짐에 따라, 투표율이 올라감을 볼 수 있다. 이를 유의수준 5%로 하여 검사하였을 때, 만족함을 알 수 있다."
   ]
  },
  {
   "cell_type": "code",
   "execution_count": 41,
   "metadata": {
    "scrolled": true
   },
   "outputs": [
    {
     "data": {
      "text/plain": [
       "[6.779022739197963, 1.2470031513704412e-11]"
      ]
     },
     "execution_count": 41,
     "metadata": {},
     "output_type": "execute_result"
    }
   ],
   "source": [
    "[t_stat, p] = stats.ttest_ind(Q_pos[Q_pos.bins == 'long'].voted, Q_pos[Q_pos.bins == 'short'].voted)\n",
    "[t_stat, p]"
   ]
  },
  {
   "cell_type": "markdown",
   "metadata": {},
   "source": [
    "- 여자에 대해서 진행"
   ]
  },
  {
   "cell_type": "code",
   "execution_count": 42,
   "metadata": {},
   "outputs": [
    {
     "name": "stdout",
     "output_type": "stream",
     "text": [
      "female_pos_short:  0.44106631416611586 , female_pos_middle:  0.4680991423993969 , female_pos_long:  0.47687360870640616\n"
     ]
    }
   ],
   "source": [
    "f_Q_pos = Q_pos[Q_pos[\"gender\"]==\"F\"]\n",
    "f_pos_short = f_Q_pos[f_Q_pos[\"bins\"]==\"short\"][\"voted\"].mean()\n",
    "f_pos_middle = f_Q_pos[f_Q_pos[\"bins\"]==\"middle\"][\"voted\"].mean()\n",
    "f_pos_long = f_Q_pos[f_Q_pos[\"bins\"]==\"long\"][\"voted\"].mean()\n",
    "print(\"female_pos_short: \",f_pos_short, \", female_pos_middle: \", f_pos_middle, \", female_pos_long: \", f_pos_long)"
   ]
  },
  {
   "cell_type": "markdown",
   "metadata": {},
   "source": [
    "- 실제로 응답시간이 길어짐에 따라, 투표율이 올라감을 볼 수 있다. 이를 유의수준 5%로 하여 검사하였을 때, 만족함을 알 수 있다."
   ]
  },
  {
   "cell_type": "code",
   "execution_count": 43,
   "metadata": {
    "scrolled": true
   },
   "outputs": [
    {
     "data": {
      "text/plain": [
       "[3.325145337019118, 0.0008874319444614855]"
      ]
     },
     "execution_count": 43,
     "metadata": {},
     "output_type": "execute_result"
    }
   ],
   "source": [
    "[t_stat, p] = stats.ttest_ind(f_Q_pos[f_Q_pos.bins == 'long'].voted, f_Q_pos[f_Q_pos.bins == 'short'].voted)\n",
    "[t_stat, p]"
   ]
  },
  {
   "cell_type": "markdown",
   "metadata": {},
   "source": [
    "- 남자에 대해서 진행"
   ]
  },
  {
   "cell_type": "code",
   "execution_count": 44,
   "metadata": {},
   "outputs": [
    {
     "name": "stdout",
     "output_type": "stream",
     "text": [
      "male_pos_short:  0.41865557258594266 , male_pos_middle:  0.4516659810777458 , male_pos_long:  0.48212522220027654\n"
     ]
    }
   ],
   "source": [
    "m_Q_pos = Q_pos[Q_pos[\"gender\"]==\"M\"]\n",
    "m_pos_short = m_Q_pos[m_Q_pos[\"bins\"]==\"short\"][\"voted\"].mean()\n",
    "m_pos_middle = m_Q_pos[m_Q_pos[\"bins\"]==\"middle\"][\"voted\"].mean()\n",
    "m_pos_long = m_Q_pos[m_Q_pos[\"bins\"]==\"long\"][\"voted\"].mean()\n",
    "print(\"male_pos_short: \", m_pos_short, \", male_pos_middle: \", m_pos_middle, \", male_pos_long: \", m_pos_long)"
   ]
  },
  {
   "cell_type": "markdown",
   "metadata": {},
   "source": [
    "- 실제로 응답시간이 길어짐에 따라, 투표율이 올라감을 볼 수 있다. 이를 유의수준 5%로 하여 검사하였을 때, 만족함을 알 수 있다."
   ]
  },
  {
   "cell_type": "code",
   "execution_count": 45,
   "metadata": {
    "scrolled": false
   },
   "outputs": [
    {
     "data": {
      "text/plain": [
       "[6.261062827627665, 3.98685616828113e-10]"
      ]
     },
     "execution_count": 45,
     "metadata": {},
     "output_type": "execute_result"
    }
   ],
   "source": [
    "[t_stat, p] = stats.ttest_ind(m_Q_pos[m_Q_pos.bins == 'long'].voted, m_Q_pos[m_Q_pos.bins == 'short'].voted)\n",
    "[t_stat, p]"
   ]
  },
  {
   "cell_type": "markdown",
   "metadata": {},
   "source": [
    "#### 9) neu data and t test"
   ]
  },
  {
   "cell_type": "code",
   "execution_count": 46,
   "metadata": {},
   "outputs": [
    {
     "name": "stderr",
     "output_type": "stream",
     "text": [
      "/Users/seong-gang/opt/anaconda3/lib/python3.8/site-packages/pandas/core/frame.py:4163: SettingWithCopyWarning: \n",
      "A value is trying to be set on a copy of a slice from a DataFrame\n",
      "\n",
      "See the caveats in the documentation: https://pandas.pydata.org/pandas-docs/stable/user_guide/indexing.html#returning-a-view-versus-a-copy\n",
      "  return super().drop(\n",
      "<ipython-input-46-251e3d7d3175>:4: SettingWithCopyWarning: \n",
      "A value is trying to be set on a copy of a slice from a DataFrame.\n",
      "Try using .loc[row_indexer,col_indexer] = value instead\n",
      "\n",
      "See the caveats in the documentation: https://pandas.pydata.org/pandas-docs/stable/user_guide/indexing.html#returning-a-view-versus-a-copy\n",
      "  Q_neu[\"bins\"] = neu_data\n"
     ]
    },
    {
     "data": {
      "text/html": [
       "<div>\n",
       "<style scoped>\n",
       "    .dataframe tbody tr th:only-of-type {\n",
       "        vertical-align: middle;\n",
       "    }\n",
       "\n",
       "    .dataframe tbody tr th {\n",
       "        vertical-align: top;\n",
       "    }\n",
       "\n",
       "    .dataframe thead th {\n",
       "        text-align: right;\n",
       "    }\n",
       "</style>\n",
       "<table border=\"1\" class=\"dataframe\">\n",
       "  <thead>\n",
       "    <tr style=\"text-align: right;\">\n",
       "      <th></th>\n",
       "      <th>Q_neu</th>\n",
       "      <th>voted</th>\n",
       "      <th>gender</th>\n",
       "      <th>bins</th>\n",
       "    </tr>\n",
       "  </thead>\n",
       "  <tbody>\n",
       "    <tr>\n",
       "      <th>0</th>\n",
       "      <td>7977.745</td>\n",
       "      <td>0</td>\n",
       "      <td>F</td>\n",
       "      <td>short</td>\n",
       "    </tr>\n",
       "    <tr>\n",
       "      <th>1</th>\n",
       "      <td>18753.329</td>\n",
       "      <td>0</td>\n",
       "      <td>F</td>\n",
       "      <td>long</td>\n",
       "    </tr>\n",
       "    <tr>\n",
       "      <th>2</th>\n",
       "      <td>13830.558</td>\n",
       "      <td>1</td>\n",
       "      <td>M</td>\n",
       "      <td>middle</td>\n",
       "    </tr>\n",
       "    <tr>\n",
       "      <th>3</th>\n",
       "      <td>33151.212</td>\n",
       "      <td>1</td>\n",
       "      <td>F</td>\n",
       "      <td>too_long</td>\n",
       "    </tr>\n",
       "    <tr>\n",
       "      <th>4</th>\n",
       "      <td>8904.379</td>\n",
       "      <td>1</td>\n",
       "      <td>M</td>\n",
       "      <td>middle</td>\n",
       "    </tr>\n",
       "    <tr>\n",
       "      <th>...</th>\n",
       "      <td>...</td>\n",
       "      <td>...</td>\n",
       "      <td>...</td>\n",
       "      <td>...</td>\n",
       "    </tr>\n",
       "    <tr>\n",
       "      <th>45527</th>\n",
       "      <td>6291.988</td>\n",
       "      <td>0</td>\n",
       "      <td>F</td>\n",
       "      <td>short</td>\n",
       "    </tr>\n",
       "    <tr>\n",
       "      <th>45528</th>\n",
       "      <td>12109.547</td>\n",
       "      <td>0</td>\n",
       "      <td>M</td>\n",
       "      <td>middle</td>\n",
       "    </tr>\n",
       "    <tr>\n",
       "      <th>45529</th>\n",
       "      <td>10624.660</td>\n",
       "      <td>1</td>\n",
       "      <td>F</td>\n",
       "      <td>middle</td>\n",
       "    </tr>\n",
       "    <tr>\n",
       "      <th>45530</th>\n",
       "      <td>8246.211</td>\n",
       "      <td>1</td>\n",
       "      <td>M</td>\n",
       "      <td>middle</td>\n",
       "    </tr>\n",
       "    <tr>\n",
       "      <th>45531</th>\n",
       "      <td>14107.784</td>\n",
       "      <td>1</td>\n",
       "      <td>M</td>\n",
       "      <td>middle</td>\n",
       "    </tr>\n",
       "  </tbody>\n",
       "</table>\n",
       "<p>45532 rows × 4 columns</p>\n",
       "</div>"
      ],
      "text/plain": [
       "           Q_neu  voted gender      bins\n",
       "0       7977.745      0      F     short\n",
       "1      18753.329      0      F      long\n",
       "2      13830.558      1      M    middle\n",
       "3      33151.212      1      F  too_long\n",
       "4       8904.379      1      M    middle\n",
       "...          ...    ...    ...       ...\n",
       "45527   6291.988      0      F     short\n",
       "45528  12109.547      0      M    middle\n",
       "45529  10624.660      1      F    middle\n",
       "45530   8246.211      1      M    middle\n",
       "45531  14107.784      1      M    middle\n",
       "\n",
       "[45532 rows x 4 columns]"
      ]
     },
     "execution_count": 46,
     "metadata": {},
     "output_type": "execute_result"
    }
   ],
   "source": [
    "Q_neu = f_nlu_rate_df[[\"Q_neu\", \"voted\", \"gender\"]]\n",
    "Q_neu.drop(Q_neu.loc[Q_neu['Q_neu']<0].index, inplace=True)\n",
    "neu_data = pd.qcut(Q_neu[\"Q_neu\"], [0, 0.05, 0.25, 0.75, 0.95, 1], labels=[\"too_short\", \"short\", \"middle\", \"long\", \"too_long\"])\n",
    "Q_neu[\"bins\"] = neu_data\n",
    "Q_neu"
   ]
  },
  {
   "cell_type": "markdown",
   "metadata": {},
   "source": [
    "- 남녀 전체에 대해서 진행"
   ]
  },
  {
   "cell_type": "code",
   "execution_count": 47,
   "metadata": {},
   "outputs": [
    {
     "name": "stdout",
     "output_type": "stream",
     "text": [
      "neu_short:  0.42521414452009665 , neu_middle:  0.4602477378546956 , neu_long:  0.486053151768065\n"
     ]
    }
   ],
   "source": [
    "neu_short = Q_neu[Q_neu[\"bins\"]==\"short\"][\"voted\"].mean()\n",
    "neu_middle = Q_neu[Q_neu[\"bins\"]==\"middle\"][\"voted\"].mean()\n",
    "neu_long = Q_neu[Q_neu[\"bins\"]==\"long\"][\"voted\"].mean()\n",
    "print(\"neu_short: \", neu_short, \", neu_middle: \", neu_middle, \", neu_long: \", neu_long)"
   ]
  },
  {
   "cell_type": "markdown",
   "metadata": {},
   "source": [
    "- 실제로 응답시간이 길어짐에 따라, 투표율이 올라감을 볼 수 있다. 이를 유의수준 5%로 하여 검사하였을 때, 만족함을 알 수 있다."
   ]
  },
  {
   "cell_type": "code",
   "execution_count": 48,
   "metadata": {
    "scrolled": true
   },
   "outputs": [
    {
     "data": {
      "text/plain": [
       "[8.257816044196595, 1.5841091384947825e-16]"
      ]
     },
     "execution_count": 48,
     "metadata": {},
     "output_type": "execute_result"
    }
   ],
   "source": [
    "[t_stat, p] = stats.ttest_ind(Q_neu[Q_neu.bins == 'long'].voted, Q_neu[Q_neu.bins == 'short'].voted)\n",
    "[t_stat, p]"
   ]
  },
  {
   "cell_type": "markdown",
   "metadata": {},
   "source": [
    "- 여자에 대해서 진행"
   ]
  },
  {
   "cell_type": "code",
   "execution_count": 49,
   "metadata": {},
   "outputs": [
    {
     "name": "stdout",
     "output_type": "stream",
     "text": [
      "female_neu_short:  0.43708165997322623 , female_neu_middle:  0.46947427925381574 , female_neu_long:  0.481201171875\n"
     ]
    }
   ],
   "source": [
    "f_Q_neu = Q_neu[Q_neu[\"gender\"]==\"F\"]\n",
    "f_neu_short = f_Q_neu[f_Q_neu[\"bins\"]==\"short\"][\"voted\"].mean()\n",
    "f_neu_middle = f_Q_neu[f_Q_neu[\"bins\"]==\"middle\"][\"voted\"].mean()\n",
    "f_neu_long = f_Q_neu[f_Q_neu[\"bins\"]==\"long\"][\"voted\"].mean()\n",
    "print(\"female_neu_short: \",f_neu_short, \", female_neu_middle: \", f_neu_middle, \", female_neu_long: \", f_neu_long)"
   ]
  },
  {
   "cell_type": "markdown",
   "metadata": {},
   "source": [
    "- 실제로 응답시간이 길어짐에 따라, 투표율이 올라감을 볼 수 있다. 이를 유의수준 5%로 하여 검사하였을 때, 만족함을 알 수 있다."
   ]
  },
  {
   "cell_type": "code",
   "execution_count": 50,
   "metadata": {
    "scrolled": true
   },
   "outputs": [
    {
     "data": {
      "text/plain": [
       "[4.10000957390779, 4.169456968014811e-05]"
      ]
     },
     "execution_count": 50,
     "metadata": {},
     "output_type": "execute_result"
    }
   ],
   "source": [
    "[t_stat, p] = stats.ttest_ind(f_Q_neu[f_Q_neu.bins == 'long'].voted, f_Q_neu[f_Q_neu.bins == 'short'].voted)\n",
    "[t_stat, p]"
   ]
  },
  {
   "cell_type": "markdown",
   "metadata": {},
   "source": [
    "- 남자에 대해서 진행"
   ]
  },
  {
   "cell_type": "code",
   "execution_count": 51,
   "metadata": {},
   "outputs": [
    {
     "name": "stdout",
     "output_type": "stream",
     "text": [
      "male_neu_short:  0.41371107266435986 , male_neu_middle:  0.4521889400921659 , male_neu_long:  0.49001996007984033\n"
     ]
    }
   ],
   "source": [
    "m_Q_neu = Q_neu[Q_neu[\"gender\"]==\"M\"]\n",
    "m_neu_short = m_Q_neu[m_Q_neu[\"bins\"]==\"short\"][\"voted\"].mean()\n",
    "m_neu_middle = m_Q_neu[m_Q_neu[\"bins\"]==\"middle\"][\"voted\"].mean()\n",
    "m_neu_long = m_Q_neu[m_Q_neu[\"bins\"]==\"long\"][\"voted\"].mean()\n",
    "print(\"male_neu_short: \", m_neu_short, \", male_neu_middle: \", m_neu_middle, \", male_neu_long: \", m_neu_long)"
   ]
  },
  {
   "cell_type": "markdown",
   "metadata": {},
   "source": [
    "- 실제로 응답시간이 길어짐에 따라, 투표율이 올라감을 볼 수 있다. 이를 유의수준 5%로 하여 검사하였을 때, 만족함을 알 수 있다."
   ]
  },
  {
   "cell_type": "code",
   "execution_count": 52,
   "metadata": {
    "scrolled": true
   },
   "outputs": [
    {
     "data": {
      "text/plain": [
       "[7.53800869546061, 5.202613301720859e-14]"
      ]
     },
     "execution_count": 52,
     "metadata": {},
     "output_type": "execute_result"
    }
   ],
   "source": [
    "[t_stat, p] = stats.ttest_ind(m_Q_neu[m_Q_neu.bins == 'long'].voted, m_Q_neu[m_Q_neu.bins == 'short'].voted)\n",
    "[t_stat, p]"
   ]
  },
  {
   "cell_type": "markdown",
   "metadata": {},
   "source": [
    "#### 10) total data and test"
   ]
  },
  {
   "cell_type": "code",
   "execution_count": 53,
   "metadata": {},
   "outputs": [
    {
     "data": {
      "text/html": [
       "<div>\n",
       "<style scoped>\n",
       "    .dataframe tbody tr th:only-of-type {\n",
       "        vertical-align: middle;\n",
       "    }\n",
       "\n",
       "    .dataframe tbody tr th {\n",
       "        vertical-align: top;\n",
       "    }\n",
       "\n",
       "    .dataframe thead th {\n",
       "        text-align: right;\n",
       "    }\n",
       "</style>\n",
       "<table border=\"1\" class=\"dataframe\">\n",
       "  <thead>\n",
       "    <tr style=\"text-align: right;\">\n",
       "      <th></th>\n",
       "      <th>time</th>\n",
       "      <th>bins</th>\n",
       "      <th>voted</th>\n",
       "      <th>gender</th>\n",
       "    </tr>\n",
       "  </thead>\n",
       "  <tbody>\n",
       "    <tr>\n",
       "      <th>0</th>\n",
       "      <td>4523.634000</td>\n",
       "      <td>short</td>\n",
       "      <td>0</td>\n",
       "      <td>F</td>\n",
       "    </tr>\n",
       "    <tr>\n",
       "      <th>1</th>\n",
       "      <td>10738.768333</td>\n",
       "      <td>long</td>\n",
       "      <td>0</td>\n",
       "      <td>F</td>\n",
       "    </tr>\n",
       "    <tr>\n",
       "      <th>2</th>\n",
       "      <td>7992.001667</td>\n",
       "      <td>middle</td>\n",
       "      <td>1</td>\n",
       "      <td>M</td>\n",
       "    </tr>\n",
       "    <tr>\n",
       "      <th>3</th>\n",
       "      <td>17168.905667</td>\n",
       "      <td>too_long</td>\n",
       "      <td>1</td>\n",
       "      <td>F</td>\n",
       "    </tr>\n",
       "    <tr>\n",
       "      <th>4</th>\n",
       "      <td>4983.099000</td>\n",
       "      <td>middle</td>\n",
       "      <td>1</td>\n",
       "      <td>M</td>\n",
       "    </tr>\n",
       "    <tr>\n",
       "      <th>...</th>\n",
       "      <td>...</td>\n",
       "      <td>...</td>\n",
       "      <td>...</td>\n",
       "      <td>...</td>\n",
       "    </tr>\n",
       "    <tr>\n",
       "      <th>45527</th>\n",
       "      <td>3457.281667</td>\n",
       "      <td>short</td>\n",
       "      <td>0</td>\n",
       "      <td>F</td>\n",
       "    </tr>\n",
       "    <tr>\n",
       "      <th>45528</th>\n",
       "      <td>6994.583000</td>\n",
       "      <td>middle</td>\n",
       "      <td>0</td>\n",
       "      <td>M</td>\n",
       "    </tr>\n",
       "    <tr>\n",
       "      <th>45529</th>\n",
       "      <td>6073.921333</td>\n",
       "      <td>middle</td>\n",
       "      <td>1</td>\n",
       "      <td>F</td>\n",
       "    </tr>\n",
       "    <tr>\n",
       "      <th>45530</th>\n",
       "      <td>4815.487667</td>\n",
       "      <td>middle</td>\n",
       "      <td>1</td>\n",
       "      <td>M</td>\n",
       "    </tr>\n",
       "    <tr>\n",
       "      <th>45531</th>\n",
       "      <td>7637.019333</td>\n",
       "      <td>middle</td>\n",
       "      <td>1</td>\n",
       "      <td>M</td>\n",
       "    </tr>\n",
       "  </tbody>\n",
       "</table>\n",
       "<p>45532 rows × 4 columns</p>\n",
       "</div>"
      ],
      "text/plain": [
       "               time      bins  voted gender\n",
       "0       4523.634000     short      0      F\n",
       "1      10738.768333      long      0      F\n",
       "2       7992.001667    middle      1      M\n",
       "3      17168.905667  too_long      1      F\n",
       "4       4983.099000    middle      1      M\n",
       "...             ...       ...    ...    ...\n",
       "45527   3457.281667     short      0      F\n",
       "45528   6994.583000    middle      0      M\n",
       "45529   6073.921333    middle      1      F\n",
       "45530   4815.487667    middle      1      M\n",
       "45531   7637.019333    middle      1      M\n",
       "\n",
       "[45532 rows x 4 columns]"
      ]
     },
     "execution_count": 53,
     "metadata": {},
     "output_type": "execute_result"
    }
   ],
   "source": [
    "np_data_whole = np.zeros((45532, 1))\n",
    "whole = pd.DataFrame(columns=[\"time\"], data = np_data_whole)\n",
    "for i in list(nlu_rate_df.columns):\n",
    "    whole[\"time\"] += nlu_rate_df[i] \n",
    "whole[\"time\"] = whole[\"time\"] / 3\n",
    "whole_data = pd.qcut(whole[\"time\"], [0, 0.05, 0.25, 0.75, 0.95, 1], labels=[\"too_short\", \"short\", \"middle\", \"long\", \"too_long\"])\n",
    "whole[\"bins\"] = whole_data\n",
    "whole[\"voted\"] = np.where(data[\"voted\"]==1, 1, 0)\n",
    "whole[\"gender\"] = np.where(data[\"gender\"]==\"Female\", \"F\", \"M\")\n",
    "whole"
   ]
  },
  {
   "cell_type": "markdown",
   "metadata": {},
   "source": [
    "- 남녀 전체에 대해서 진행"
   ]
  },
  {
   "cell_type": "code",
   "execution_count": 54,
   "metadata": {},
   "outputs": [
    {
     "name": "stdout",
     "output_type": "stream",
     "text": [
      "whole_short:  0.4262025038436196 , whole_middle:  0.4589299833084424 , whole_long:  0.4866022402811333\n"
     ]
    }
   ],
   "source": [
    "short = whole[whole[\"bins\"]==\"short\"][\"voted\"].mean()\n",
    "middle = whole[whole[\"bins\"]==\"middle\"][\"voted\"].mean()\n",
    "long = whole[whole[\"bins\"]==\"long\"][\"voted\"].mean()\n",
    "print(\"whole_short: \", short, \", whole_middle: \", middle, \", whole_long: \", long)"
   ]
  },
  {
   "cell_type": "markdown",
   "metadata": {},
   "source": [
    "- 실제로 응답시간이 길어짐에 따라, 투표율이 올라감을 볼 수 있다. 이를 유의수준 5%로 하여 검사하였을 때, 만족함을 알 수 있다."
   ]
  },
  {
   "cell_type": "code",
   "execution_count": 55,
   "metadata": {
    "scrolled": true
   },
   "outputs": [
    {
     "data": {
      "text/plain": [
       "[8.196850585353042, 2.6298482895841996e-16]"
      ]
     },
     "execution_count": 55,
     "metadata": {},
     "output_type": "execute_result"
    }
   ],
   "source": [
    "[t_stat, p] = stats.ttest_ind(whole[whole.bins == 'long'].voted, whole[whole.bins == 'short'].voted)\n",
    "[t_stat, p]"
   ]
  },
  {
   "cell_type": "markdown",
   "metadata": {},
   "source": [
    "- 여자에 대해서 진행"
   ]
  },
  {
   "cell_type": "code",
   "execution_count": 56,
   "metadata": {},
   "outputs": [
    {
     "name": "stdout",
     "output_type": "stream",
     "text": [
      "female_short:  0.4396340102655657 , female_middle:  0.4670878913617503 , female_whole_long:  0.4818602386169954\n"
     ]
    }
   ],
   "source": [
    "f_whole = whole[whole[\"gender\"]==\"F\"]\n",
    "f_whole_short = f_whole[f_whole[\"bins\"]==\"short\"][\"voted\"].mean()\n",
    "f_whole_middle = f_whole[f_whole[\"bins\"]==\"middle\"][\"voted\"].mean()\n",
    "f_whole_long = f_whole[f_whole[\"bins\"]==\"long\"][\"voted\"].mean()\n",
    "print(\"female_short: \",f_whole_short, \", female_middle: \", f_whole_middle, \", female_whole_long: \", f_whole_long)"
   ]
  },
  {
   "cell_type": "markdown",
   "metadata": {},
   "source": [
    "- 실제로 응답시간이 길어짐에 따라, 투표율이 올라감을 볼 수 있다. 이를 유의수준 5%로 하여 검사하였을 때, 만족함을 알 수 있다."
   ]
  },
  {
   "cell_type": "code",
   "execution_count": 57,
   "metadata": {
    "scrolled": true
   },
   "outputs": [
    {
     "data": {
      "text/plain": [
       "[3.9251938971773677, 8.733684377707702e-05]"
      ]
     },
     "execution_count": 57,
     "metadata": {},
     "output_type": "execute_result"
    }
   ],
   "source": [
    "[t_stat, p] = stats.ttest_ind(f_whole[f_whole.bins == 'long'].voted, f_whole[f_whole.bins == 'short'].voted)\n",
    "[t_stat, p]"
   ]
  },
  {
   "cell_type": "markdown",
   "metadata": {},
   "source": [
    "- 남자에 대해서 진행"
   ]
  },
  {
   "cell_type": "code",
   "execution_count": 58,
   "metadata": {},
   "outputs": [
    {
     "name": "stdout",
     "output_type": "stream",
     "text": [
      "male_short:  0.4131891891891892 , male_middle:  0.4518171353395823 , male_long:  0.49049809961992397\n"
     ]
    }
   ],
   "source": [
    "m_whole = whole[whole[\"gender\"]==\"M\"]\n",
    "m_whole_short = m_whole[m_whole[\"bins\"]==\"short\"][\"voted\"].mean()\n",
    "m_whole_middle = m_whole[m_whole[\"bins\"]==\"middle\"][\"voted\"].mean()\n",
    "m_whole_long = m_whole[m_whole[\"bins\"]==\"long\"][\"voted\"].mean()\n",
    "print(\"male_short: \", m_whole_short, \", male_middle: \", m_whole_middle, \", male_long: \", m_whole_long)"
   ]
  },
  {
   "cell_type": "markdown",
   "metadata": {},
   "source": [
    "- 실제로 응답시간이 길어짐에 따라, 투표율이 올라감을 볼 수 있다. 이를 유의수준 5%로 하여 검사하였을 때, 만족함을 알 수 있다."
   ]
  },
  {
   "cell_type": "code",
   "execution_count": 59,
   "metadata": {
    "scrolled": true
   },
   "outputs": [
    {
     "data": {
      "text/plain": [
       "[7.6338583534198925, 2.495051155390826e-14]"
      ]
     },
     "execution_count": 59,
     "metadata": {},
     "output_type": "execute_result"
    }
   ],
   "source": [
    "[t_stat, p] = stats.ttest_ind(m_whole[m_whole.bins == 'long'].voted, m_whole[m_whole.bins == 'short'].voted)\n",
    "[t_stat, p]"
   ]
  },
  {
   "cell_type": "markdown",
   "metadata": {},
   "source": [
    "#### 11) long한 친구들끼리 비교, 시각화"
   ]
  },
  {
   "cell_type": "code",
   "execution_count": 60,
   "metadata": {},
   "outputs": [
    {
     "data": {
      "text/html": [
       "<div>\n",
       "<style scoped>\n",
       "    .dataframe tbody tr th:only-of-type {\n",
       "        vertical-align: middle;\n",
       "    }\n",
       "\n",
       "    .dataframe tbody tr th {\n",
       "        vertical-align: top;\n",
       "    }\n",
       "\n",
       "    .dataframe thead th {\n",
       "        text-align: right;\n",
       "    }\n",
       "</style>\n",
       "<table border=\"1\" class=\"dataframe\">\n",
       "  <thead>\n",
       "    <tr style=\"text-align: right;\">\n",
       "      <th></th>\n",
       "      <th>type</th>\n",
       "      <th>gender</th>\n",
       "      <th>mean</th>\n",
       "    </tr>\n",
       "  </thead>\n",
       "  <tbody>\n",
       "    <tr>\n",
       "      <th>0</th>\n",
       "      <td>whole_long</td>\n",
       "      <td>F</td>\n",
       "      <td>0.481860</td>\n",
       "    </tr>\n",
       "    <tr>\n",
       "      <th>1</th>\n",
       "      <td>whole_long</td>\n",
       "      <td>M</td>\n",
       "      <td>0.490498</td>\n",
       "    </tr>\n",
       "    <tr>\n",
       "      <th>2</th>\n",
       "      <td>pos_long</td>\n",
       "      <td>F</td>\n",
       "      <td>0.476874</td>\n",
       "    </tr>\n",
       "    <tr>\n",
       "      <th>3</th>\n",
       "      <td>pos_long</td>\n",
       "      <td>M</td>\n",
       "      <td>0.482125</td>\n",
       "    </tr>\n",
       "    <tr>\n",
       "      <th>4</th>\n",
       "      <td>neu_long</td>\n",
       "      <td>F</td>\n",
       "      <td>0.481201</td>\n",
       "    </tr>\n",
       "    <tr>\n",
       "      <th>5</th>\n",
       "      <td>neu_long</td>\n",
       "      <td>M</td>\n",
       "      <td>0.490020</td>\n",
       "    </tr>\n",
       "    <tr>\n",
       "      <th>6</th>\n",
       "      <td>neg_long</td>\n",
       "      <td>F</td>\n",
       "      <td>0.482900</td>\n",
       "    </tr>\n",
       "    <tr>\n",
       "      <th>7</th>\n",
       "      <td>neg_long</td>\n",
       "      <td>M</td>\n",
       "      <td>0.487283</td>\n",
       "    </tr>\n",
       "  </tbody>\n",
       "</table>\n",
       "</div>"
      ],
      "text/plain": [
       "         type gender      mean\n",
       "0  whole_long      F  0.481860\n",
       "1  whole_long      M  0.490498\n",
       "2    pos_long      F  0.476874\n",
       "3    pos_long      M  0.482125\n",
       "4    neu_long      F  0.481201\n",
       "5    neu_long      M  0.490020\n",
       "6    neg_long      F  0.482900\n",
       "7    neg_long      M  0.487283"
      ]
     },
     "execution_count": 60,
     "metadata": {},
     "output_type": "execute_result"
    }
   ],
   "source": [
    "result_dict = {\n",
    "    \"type\": ['whole_long', 'whole_long', 'pos_long', 'pos_long', 'neu_long', 'neu_long', 'neg_long', 'neg_long'], \n",
    "    \"gender\": ['F', 'M', 'F', 'M', 'F', 'M', 'F', 'M'],\n",
    "    \"mean\": [f_whole_long, m_whole_long, f_pos_long, m_pos_long, f_neu_long, m_neu_long, f_neg_long, m_neg_long]\n",
    "}\n",
    "result_df = pd.DataFrame(result_dict)\n",
    "result_df"
   ]
  },
  {
   "cell_type": "code",
   "execution_count": 61,
   "metadata": {},
   "outputs": [
    {
     "data": {
      "image/png": "[encoded data removed]",
      "text/plain": [
       "<Figure size 864x360 with 1 Axes>"
      ]
     },
     "metadata": {
      "needs_background": "light"
     },
     "output_type": "display_data"
    }
   ],
   "source": [
    "sns.barplot(x='type', y='mean', hue='gender', data=result_df) \n",
    "plt.title('voted_rate of people who took long time to answer the question', fontsize=20)\n",
    "plt.legend(fontsize=12)\n",
    "plt.show()"
   ]
  },
  {
   "cell_type": "code",
   "execution_count": 62,
   "metadata": {},
   "outputs": [
    {
     "data": {
      "image/png": "[encoded data removed]",
      "text/plain": [
       "<Figure size 864x360 with 1 Axes>"
      ]
     },
     "metadata": {
      "needs_background": "light"
     },
     "output_type": "display_data"
    }
   ],
   "source": [
    "sns.barplot(x='type', y='mean', hue='gender', data=result_df) \n",
    "plt.title('voted_rate of people who took long time to answer the question', fontsize=20)\n",
    "plt.ylim(0.47, 0.5)\n",
    "plt.legend(fontsize=12)\n",
    "plt.show()"
   ]
  },
  {
   "cell_type": "markdown",
   "metadata": {},
   "source": [
    "### 4. 결론 및 고찰\n",
    "1. 엄청 큰 차이는 아니었지만, 확 튀는 값들을 제외해준 후에, 질문에 답변하는데 걸리는 시간을 3분위로 나누어서 확인해 보았을 때, 질문을 답하는데 걸리는 시간이 클수록, 투표율이 올라감을 볼 수 있었다.\n",
    "2. 남성의 경우에는 부정적인 질문에 대해 오래 고민한 사람이 투표율이 컸으며, 여성의 경우에는 긍정적인 질문에 대해 오래 고민한 사람이 투표율이 컸다.  \n",
    "3. 또한 남성의 경우에 질문에 대해 오래 고민한 사람과 짧게 고민한 사람간의 차이가 약 8%정도로 가장 컸다.\n",
    "4. 모든 분석에 대해 p값이 낮게 나오는 것이 인상적이었으며, 이는 샘플 사이즈가 매우 컸던 이유도 있다고 생각한다.\n",
    "5. nlu 자체에 대한 만족도는 높지 않았으며, 추후에 하게 된다면, nlu 파트에 대한 더욱 세분화, 구체화가 된다면 더 좋은 탐구가 되었을 것으로 예상한다.\n",
    "6. 심리검사에 대답하는 사람들의 답변이 아니라 단순히 걸리는 시간 만으로도 이렇게 유의미한 차이가 난다는 것이 신기하였다. \n",
    "\n",
    "---------------\n",
    "\n",
    "### 5. 출처\n",
    "데이터 출처: openpsychometrics.org"
   ]
  }
 ],
 "metadata": {
  "kernelspec": {
   "display_name": "Python 3",
   "language": "python",
   "name": "python3"
  },
  "language_info": {
   "codemirror_mode": {
    "name": "ipython",
    "version": 3
   },
   "file_extension": ".py",
   "mimetype": "text/x-python",
   "name": "python",
   "nbconvert_exporter": "python",
   "pygments_lexer": "ipython3",
   "version": "3.8.5"
  }
 },
 "nbformat": 4,
 "nbformat_minor": 4
}
