{
 "cells": [
  {
   "cell_type": "markdown",
   "metadata": {},
   "source": [
    "# <날씨예측>"
   ]
  },
  {
   "cell_type": "markdown",
   "metadata": {},
   "source": [
    "# 1. 서론"
   ]
  },
  {
   "cell_type": "markdown",
   "metadata": {},
   "source": [
    "## 동기 및 프로젝트 방향성"
   ]
  },
  {
   "cell_type": "markdown",
   "metadata": {},
   "source": [
    "최근 환절기로 기후의 변화가 많이 일어납니다. \\\n",
    "빨래나 환기등을 위해 창문을 열어놓는 일이 잦아졌는데, 이를 위해서는 비가 오는지를 확인해 보아야합니다. 하지만, 2일전까지만 해도 비가 오지 않는다던 기상예보가 당일이되면 비가오는 경우가 많습니다. \\\n",
    "\\\n",
    "저는 이를 계기로 날씨를 예측하는 것이 얼마나 어려운지 지역에 따라 알아볼 예정입니다.\\\n",
    "지역은 내륙 지역인 서울, 해안가인 울산, 거주중인 양산 총 세 지역으로 나누어 분석을 진행하였습니다.\\\n",
    "또한, 날씨 중에서도 우리와 가장 밀접한 '비'에 대해서 집중적으로 분석을 해보려 합니다.\\\n",
    "총 두가지, 비가 오는지 안오는지와 강수량에 대한 모델을 구상해 볼 계획입니다.\\\n",
    "\\\n",
    "그리고 이렇게 알아본 바를 이용하여 각각의 변수를 입력하였을 때, 비의 강수량을 예측하는 프로그램을 만들어볼 예정입니다."
   ]
  },
  {
   "cell_type": "markdown",
   "metadata": {},
   "source": [
    "## 필요 라이브러리 불러오기"
   ]
  },
  {
   "cell_type": "code",
   "execution_count": 1,
   "metadata": {},
   "outputs": [
    {
     "name": "stdout",
     "output_type": "stream",
     "text": [
      "Requirement already satisfied: IPython in c:\\users\\pjwlo\\anaconda3\\lib\\site-packages (7.12.0)\n",
      "Requirement already satisfied: backcall in c:\\users\\pjwlo\\anaconda3\\lib\\site-packages (from IPython) (0.1.0)\n",
      "Requirement already satisfied: decorator in c:\\users\\pjwlo\\anaconda3\\lib\\site-packages (from IPython) (4.4.1)\n",
      "Requirement already satisfied: setuptools>=18.5 in c:\\users\\pjwlo\\anaconda3\\lib\\site-packages (from IPython) (45.2.0.post20200210)\n",
      "Requirement already satisfied: pygments in c:\\users\\pjwlo\\anaconda3\\lib\\site-packages (from IPython) (2.5.2)\n",
      "Requirement already satisfied: traitlets>=4.2 in c:\\users\\pjwlo\\anaconda3\\lib\\site-packages (from IPython) (4.3.3)\n",
      "Requirement already satisfied: colorama; sys_platform == \"win32\" in c:\\users\\pjwlo\\anaconda3\\lib\\site-packages (from IPython) (0.4.3)\n",
      "Requirement already satisfied: pickleshare in c:\\users\\pjwlo\\anaconda3\\lib\\site-packages (from IPython) (0.7.5)\n",
      "Requirement already satisfied: prompt-toolkit!=3.0.0,!=3.0.1,<3.1.0,>=2.0.0 in c:\\users\\pjwlo\\anaconda3\\lib\\site-packages (from IPython) (3.0.3)\n",
      "Requirement already satisfied: jedi>=0.10 in c:\\users\\pjwlo\\anaconda3\\lib\\site-packages (from IPython) (0.14.1)\n",
      "Requirement already satisfied: ipython-genutils in c:\\users\\pjwlo\\anaconda3\\lib\\site-packages (from traitlets>=4.2->IPython) (0.2.0)\n",
      "Requirement already satisfied: six in c:\\users\\pjwlo\\anaconda3\\lib\\site-packages (from traitlets>=4.2->IPython) (1.14.0)\n",
      "Requirement already satisfied: wcwidth in c:\\users\\pjwlo\\anaconda3\\lib\\site-packages (from prompt-toolkit!=3.0.0,!=3.0.1,<3.1.0,>=2.0.0->IPython) (0.1.8)\n",
      "Requirement already satisfied: parso>=0.5.0 in c:\\users\\pjwlo\\anaconda3\\lib\\site-packages (from jedi>=0.10->IPython) (0.5.2)\n"
     ]
    }
   ],
   "source": [
    "!pip install IPython"
   ]
  },
  {
   "cell_type": "code",
   "execution_count": 2,
   "metadata": {},
   "outputs": [],
   "source": [
    "import sys\n",
    "import glob\n",
    "import numpy as np\n",
    "import pandas as pd\n",
    "import scipy as sp\n",
    "from scipy import stats\n",
    "from IPython.display import Image\n",
    "\n",
    "from matplotlib import pyplot as plt\n",
    "import seaborn as sns\n",
    "sns.set()\n",
    "\n",
    "import statsmodels.formula.api as smf\n",
    "import statsmodels.api as sm\n",
    "\n",
    "%precision 3\n",
    "%matplotlib inline"
   ]
  },
  {
   "cell_type": "markdown",
   "metadata": {},
   "source": [
    "## 데이터 불러오기 및 필요한 변수만 가져오기"
   ]
  },
  {
   "cell_type": "markdown",
   "metadata": {},
   "source": [
    "### 데이터 불러오기"
   ]
  },
  {
   "cell_type": "code",
   "execution_count": 3,
   "metadata": {},
   "outputs": [],
   "source": [
    "#서울 데이터\n",
    "seoul_18 = pd.read_excel(\"서울_186.xlsx\", header = 0)\n",
    "seoul_19 = pd.read_excel(\"서울_196.xlsx\", header = 0)\n",
    "seoul_20 = pd.read_excel(\"서울_206.xlsx\", header = 0)\n",
    "\n",
    "#울산 데이터\n",
    "ulsan_18 = pd.read_excel(\"울산_186.xlsx\", header = 0)\n",
    "ulsan_19 = pd.read_excel(\"울산_196.xlsx\", header = 0)\n",
    "ulsan_20 = pd.read_excel(\"울산_206.xlsx\", header = 0)\n",
    "\n",
    "#양산 데이터\n",
    "yangsan_18 = pd.read_excel(\"양산_186.xlsx\", header = 0)\n",
    "yangsan_19 = pd.read_excel(\"양산_196.xlsx\", header = 0)\n",
    "yangsan_20 = pd.read_excel(\"양산_206.xlsx\", header = 0)"
   ]
  },
  {
   "cell_type": "markdown",
   "metadata": {},
   "source": [
    "### 파일 지역별로 병합하기"
   ]
  },
  {
   "cell_type": "code",
   "execution_count": 4,
   "metadata": {},
   "outputs": [],
   "source": [
    "seoul = pd.concat([seoul_18, seoul_19, seoul_20])\n",
    "ulsan = pd.concat([ulsan_18, ulsan_19, ulsan_20])\n",
    "yangsan = pd.concat([yangsan_18, yangsan_19, yangsan_20])\n",
    "\n",
    "seoul.index = seoul.일시\n",
    "ulsan.index = ulsan.일시\n",
    "yangsan.index = yangsan.일시"
   ]
  },
  {
   "cell_type": "markdown",
   "metadata": {},
   "source": [
    "### 필요한 변수 제외 제외 및 정리하기"
   ]
  },
  {
   "cell_type": "markdown",
   "metadata": {},
   "source": [
    "각각의 QC플래그는 품질검사를 수행한 결과를 나타내고 있습니다. 값으로는 0, 1, 9, nan가 있는데 0만이 검사결과가 좋다고 할 수 있는데 자료에서 그 수가 적어 모두 옳은 값이라는 가정을 두고 모델을 만들 예정입니다.\\\n",
    "또한, 운형은 수치형이 아니기에 제외하였습니다."
   ]
  },
  {
   "cell_type": "code",
   "execution_count": 5,
   "metadata": {},
   "outputs": [],
   "source": [
    "seoul = seoul.drop(['지점', '지점명','일시', '지면상태(지면상태코드)', '기온 QC플래그', '강수량 QC플래그',\n",
    "                    '풍속 QC플래그', '풍향 QC플래그', '습도 QC플래그', '현지기압 QC플래그', '해면기압 QC플래그', \n",
    "                    '일조 QC플래그', '지면온도 QC플래그', '운형(운형약어)'], axis = 1)\n",
    "ulsan = ulsan.drop(['지점', '지점명','일시', '지면상태(지면상태코드)', '기온 QC플래그', '강수량 QC플래그',\n",
    "                    '풍속 QC플래그', '풍향 QC플래그', '습도 QC플래그', '현지기압 QC플래그', '해면기압 QC플래그', \n",
    "                    '일조 QC플래그', '지면온도 QC플래그', '운형(운형약어)'], axis = 1)\n",
    "yangsan = yangsan.drop(['지점', '지점명','일시', '지면상태(지면상태코드)', '기온 QC플래그', '강수량 QC플래그',\n",
    "                    '풍속 QC플래그', '풍향 QC플래그', '습도 QC플래그', '현지기압 QC플래그', '해면기압 QC플래그', \n",
    "                    '일조 QC플래그', '지면온도 QC플래그', '운형(운형약어)'], axis = 1)"
   ]
  },
  {
   "cell_type": "code",
   "execution_count": 6,
   "metadata": {},
   "outputs": [],
   "source": [
    "seoul.columns = ['temperature', 'rain_amount', 'wind_speed', 'wind_direction', 'humidity', 'vapor_pressure', 'dew_point_temperature', \n",
    "               'local_pressure', 'sea_level_pressure', 'sunshine', 'solar', 'snow_cover', '3_hour_new_snow', 'total_amount_of_cloud', \n",
    "               'low_middle_level_clouds', 'minimum_cloud_height', 'visibility', 'phenomenon_number', 'ground_temperature', \n",
    "               'ground_temperature_5cm', 'ground_temperature_10cm', 'ground_temperature_20cm', 'ground_temperature_30cm']\n",
    "ulsan.columns = ['temperature', 'rain_amount', 'wind_speed', 'wind_direction', 'humidity', 'vapor_pressure', 'dew_point_temperature', \n",
    "               'local_pressure', 'sea_level_pressure', 'sunshine', 'solar', 'snow_cover', '3_hour_new_snow', 'total_amount_of_cloud', \n",
    "               'low_middle_level_clouds', 'minimum_cloud_height', 'visibility', 'phenomenon_number', 'ground_temperature', \n",
    "               'ground_temperature_5cm', 'ground_temperature_10cm', 'ground_temperature_20cm', 'ground_temperature_30cm']\n",
    "yangsan.columns = ['temperature', 'rain_amount', 'wind_speed', 'wind_direction', 'humidity', 'vapor_pressure', 'dew_point_temperature', \n",
    "               'local_pressure', 'sea_level_pressure', 'sunshine', 'solar', 'snow_cover', '3_hour_new_snow', 'total_amount_of_cloud', \n",
    "               'low_middle_level_clouds', 'minimum_cloud_height', 'visibility', 'phenomenon_number', 'ground_temperature', \n",
    "               'ground_temperature_5cm', 'ground_temperature_10cm', 'ground_temperature_20cm', 'ground_temperature_30cm']"
   ]
  },
  {
   "cell_type": "markdown",
   "metadata": {},
   "source": [
    "비가 오는지 안오는지와 강수량이 어느정도 오는지를 확인해 보려 합니다. \\\n",
    "전자는 범주형이기에 로지스틱 회귀를 사용하고, 후자는 연속형이기에 선형회귀모델을 사용하도록 하겠습니다.\\\n",
    "\\\n",
    "아래는 전자를 실행하기 위해 비의 유무를 나타내는 column을 만드는 code입니다."
   ]
  },
  {
   "cell_type": "code",
   "execution_count": 7,
   "metadata": {},
   "outputs": [],
   "source": [
    "seoul['rain'] = np.where(seoul['rain_amount']>0, 1, 0)\n",
    "ulsan['rain'] = np.where(ulsan['rain_amount']>0, 1, 0)\n",
    "yangsan['rain'] = np.where(yangsan['rain_amount']>0, 1, 0)"
   ]
  },
  {
   "cell_type": "code",
   "execution_count": 8,
   "metadata": {},
   "outputs": [],
   "source": [
    "seoul = seoul.fillna(0)\n",
    "ulsan = ulsan.fillna(0)\n",
    "yangsan = yangsan.fillna(0)"
   ]
  },
  {
   "cell_type": "markdown",
   "metadata": {},
   "source": [
    "# 2. 본론"
   ]
  },
  {
   "cell_type": "markdown",
   "metadata": {},
   "source": [
    "모든 변수를 포함한 모델을 형성한 뒤, 각 변수의 p값을 구하여 0.05보다 큰 값은 제외하고 모델을 만들 계획입니다."
   ]
  },
  {
   "cell_type": "markdown",
   "metadata": {},
   "source": [
    "## 2-1. 비의 유무 예측"
   ]
  },
  {
   "cell_type": "markdown",
   "metadata": {},
   "source": [
    "### 1-1) 단일 독립변수"
   ]
  },
  {
   "cell_type": "code",
   "execution_count": 9,
   "metadata": {},
   "outputs": [
    {
     "name": "stderr",
     "output_type": "stream",
     "text": [
      "C:\\Users\\pjwlo\\anaconda3\\lib\\site-packages\\statsmodels\\genmod\\families\\family.py:894: RuntimeWarning: divide by zero encountered in true_divide\n",
      "  n_endog_mu = self._clean((1. - endog) / (1. - mu))\n"
     ]
    }
   ],
   "source": [
    "seoul_temperature = smf.glm(formula = \"rain ~ temperature\", data = seoul, family = sm.families.Binomial()).fit()\n",
    "seoul_wind_speed = smf.glm(formula = \"rain ~ wind_speed\", data = seoul, family = sm.families.Binomial()).fit()\n",
    "seoul_wind_direction = smf.glm(formula = \"rain ~ wind_direction\", data = seoul, family = sm.families.Binomial()).fit()\n",
    "seoul_humidity = smf.glm(formula = \"rain ~ humidity\", data = seoul, family = sm.families.Binomial()).fit()\n",
    "seoul_vapor_pressure = smf.glm(formula = \"rain ~ vapor_pressure\", data = seoul, family = sm.families.Binomial()).fit()\n",
    "seoul_dew_point_temperature = smf.glm(formula = \"rain ~ dew_point_temperature\", data = seoul, family = sm.families.Binomial()).fit()\n",
    "seoul_local_pressure = smf.glm(formula = \"rain ~ local_pressure\", data = seoul, family = sm.families.Binomial()).fit()\n",
    "seoul_sea_level_pressure = smf.glm(formula = \"rain ~ sea_level_pressure\", data = seoul, family = sm.families.Binomial()).fit()\n",
    "seoul_sunshine = smf.glm(formula = \"rain ~ sunshine\", data = seoul, family = sm.families.Binomial()).fit()\n",
    "seoul_solar = smf.glm(formula = \"rain ~ solar\", data = seoul, family = sm.families.Binomial()).fit()\n",
    "seoul_total_amount_of_cloud = smf.glm(formula = \"rain ~ total_amount_of_cloud\", data = seoul, family = sm.families.Binomial()).fit()\n",
    "seoul_low_middle_level_clouds = smf.glm(formula = \"rain ~ low_middle_level_clouds\", data = seoul, family = sm.families.Binomial()).fit()\n",
    "seoul_minimum_cloud_height = smf.glm(formula = \"rain ~ minimum_cloud_height\", data = seoul, family = sm.families.Binomial()).fit()\n",
    "seoul_visibility = smf.glm(formula = \"rain ~ visibility\", data = seoul, family = sm.families.Binomial()).fit()\n",
    "seoul_ground_temperature = smf.glm(formula = \"rain ~ ground_temperature\", data = seoul, family = sm.families.Binomial()).fit()\n",
    "seoul_ground_temperature_5cm = smf.glm(formula = \"rain ~ ground_temperature_5cm\", data = seoul, family = sm.families.Binomial()).fit()\n",
    "seoul_ground_temperature_10cm = smf.glm(formula = \"rain ~ ground_temperature_10cm\", data = seoul, family = sm.families.Binomial()).fit()\n",
    "seoul_ground_temperature_20cm = smf.glm(formula = \"rain ~ ground_temperature_20cm\", data = seoul, family = sm.families.Binomial()).fit()\n",
    "seoul_ground_temperature_30cm = smf.glm(formula = \"rain ~ ground_temperature_30cm\", data = seoul, family = sm.families.Binomial()).fit()\n",
    "\n",
    "\n",
    "ulsan_temperature = smf.glm(formula = \"rain ~ temperature\", data = ulsan, family = sm.families.Binomial()).fit()\n",
    "ulsan_wind_speed = smf.glm(formula = \"rain ~ wind_speed\", data = ulsan, family = sm.families.Binomial()).fit()\n",
    "ulsan_wind_direction = smf.glm(formula = \"rain ~ wind_direction\", data = ulsan, family = sm.families.Binomial()).fit()\n",
    "ulsan_humidity = smf.glm(formula = \"rain ~ humidity\", data = ulsan, family = sm.families.Binomial()).fit()\n",
    "ulsan_vapor_pressure = smf.glm(formula = \"rain ~ vapor_pressure\", data = ulsan, family = sm.families.Binomial()).fit()\n",
    "ulsan_dew_point_temperature = smf.glm(formula = \"rain ~ dew_point_temperature\", data = ulsan, family = sm.families.Binomial()).fit()\n",
    "ulsan_local_pressure = smf.glm(formula = \"rain ~ local_pressure\", data = ulsan, family = sm.families.Binomial()).fit()\n",
    "ulsan_sea_level_pressure = smf.glm(formula = \"rain ~ sea_level_pressure\", data = ulsan, family = sm.families.Binomial()).fit()\n",
    "ulsan_sunshine = smf.glm(formula = \"rain ~ sunshine\", data = ulsan, family = sm.families.Binomial()).fit()\n",
    "ulsan_solar = smf.glm(formula = \"rain ~ solar\", data = ulsan, family = sm.families.Binomial()).fit()\n",
    "ulsan_total_amount_of_cloud = smf.glm(formula = \"rain ~ total_amount_of_cloud\", data = ulsan, family = sm.families.Binomial()).fit()\n",
    "ulsan_low_middle_level_clouds = smf.glm(formula = \"rain ~ low_middle_level_clouds\", data = ulsan, family = sm.families.Binomial()).fit()\n",
    "ulsan_minimum_cloud_height = smf.glm(formula = \"rain ~ minimum_cloud_height\", data = ulsan, family = sm.families.Binomial()).fit()\n",
    "ulsan_visibility = smf.glm(formula = \"rain ~ visibility\", data = ulsan, family = sm.families.Binomial()).fit()\n",
    "ulsan_ground_temperature = smf.glm(formula = \"rain ~ ground_temperature\", data = ulsan, family = sm.families.Binomial()).fit()\n",
    "ulsan_ground_temperature_5cm = smf.glm(formula = \"rain ~ ground_temperature_5cm\", data = ulsan, family = sm.families.Binomial()).fit()\n",
    "ulsan_ground_temperature_10cm = smf.glm(formula = \"rain ~ ground_temperature_10cm\", data = ulsan, family = sm.families.Binomial()).fit()\n",
    "ulsan_ground_temperature_20cm = smf.glm(formula = \"rain ~ ground_temperature_20cm\", data = ulsan, family = sm.families.Binomial()).fit()\n",
    "ulsan_ground_temperature_30cm = smf.glm(formula = \"rain ~ ground_temperature_30cm\", data = ulsan, family = sm.families.Binomial()).fit()\n",
    "\n",
    "\n",
    "yangsan_temperature = smf.glm(formula = \"rain ~ temperature\", data = yangsan, family = sm.families.Binomial()).fit()\n",
    "yangsan_wind_speed = smf.glm(formula = \"rain ~ wind_speed\", data = yangsan, family = sm.families.Binomial()).fit()\n",
    "yangsan_wind_direction = smf.glm(formula = \"rain ~ wind_direction\", data = yangsan, family = sm.families.Binomial()).fit()\n",
    "yangsan_humidity = smf.glm(formula = \"rain ~ humidity\", data = yangsan, family = sm.families.Binomial()).fit()\n",
    "yangsan_vapor_pressure = smf.glm(formula = \"rain ~ vapor_pressure\", data = yangsan, family = sm.families.Binomial()).fit()\n",
    "yangsan_dew_point_temperature = smf.glm(formula = \"rain ~ dew_point_temperature\", data = yangsan, family = sm.families.Binomial()).fit()\n",
    "yangsan_local_pressure = smf.glm(formula = \"rain ~ local_pressure\", data = yangsan, family = sm.families.Binomial()).fit()\n",
    "yangsan_sea_level_pressure = smf.glm(formula = \"rain ~ sea_level_pressure\", data = yangsan, family = sm.families.Binomial()).fit()\n",
    "yangsan_sunshine = smf.glm(formula = \"rain ~ sunshine\", data = yangsan, family = sm.families.Binomial()).fit()\n",
    "yangsan_solar = smf.glm(formula = \"rain ~ solar\", data = yangsan, family = sm.families.Binomial()).fit()\n",
    "yangsan_total_amount_of_cloud = smf.glm(formula = \"rain ~ total_amount_of_cloud\", data = yangsan, family = sm.families.Binomial()).fit()\n",
    "yangsan_low_middle_level_clouds = smf.glm(formula = \"rain ~ low_middle_level_clouds\", data = yangsan, family = sm.families.Binomial()).fit()\n",
    "yangsan_minimum_cloud_height = smf.glm(formula = \"rain ~ minimum_cloud_height\", data = yangsan, family = sm.families.Binomial()).fit()\n",
    "yangsan_visibility = smf.glm(formula = \"rain ~ visibility\", data = yangsan, family = sm.families.Binomial()).fit()\n",
    "yangsan_ground_temperature = smf.glm(formula = \"rain ~ ground_temperature\", data = yangsan, family = sm.families.Binomial()).fit()\n",
    "yangsan_ground_temperature_5cm = smf.glm(formula = \"rain ~ ground_temperature_5cm\", data = yangsan, family = sm.families.Binomial()).fit()\n",
    "yangsan_ground_temperature_10cm = smf.glm(formula = \"rain ~ ground_temperature_10cm\", data = yangsan, family = sm.families.Binomial()).fit()\n",
    "yangsan_ground_temperature_20cm = smf.glm(formula = \"rain ~ ground_temperature_20cm\", data = yangsan, family = sm.families.Binomial()).fit()\n",
    "yangsan_ground_temperature_30cm = smf.glm(formula = \"rain ~ ground_temperature_30cm\", data = yangsan, family = sm.families.Binomial()).fit()"
   ]
  },
  {
   "cell_type": "markdown",
   "metadata": {},
   "source": [
    "### 1-2) 각 독립변수에 대한 AIC값"
   ]
  },
  {
   "cell_type": "code",
   "execution_count": 10,
   "metadata": {},
   "outputs": [
    {
     "name": "stderr",
     "output_type": "stream",
     "text": [
      "C:\\Users\\pjwlo\\anaconda3\\lib\\site-packages\\statsmodels\\genmod\\families\\family.py:946: RuntimeWarning: divide by zero encountered in true_divide\n",
      "  special.gammaln(n - y + 1) + y * np.log(mu / (1 - mu)) +\n",
      "C:\\Users\\pjwlo\\anaconda3\\lib\\site-packages\\statsmodels\\genmod\\families\\family.py:946: RuntimeWarning: invalid value encountered in multiply\n",
      "  special.gammaln(n - y + 1) + y * np.log(mu / (1 - mu)) +\n",
      "C:\\Users\\pjwlo\\anaconda3\\lib\\site-packages\\statsmodels\\genmod\\families\\family.py:947: RuntimeWarning: divide by zero encountered in log\n",
      "  n * np.log(1 - mu)) * var_weights\n"
     ]
    }
   ],
   "source": [
    "seoul_aic = [seoul_temperature.aic, seoul_wind_speed.aic, seoul_wind_direction.aic, seoul_humidity.aic, seoul_vapor_pressure.aic, \n",
    "             seoul_dew_point_temperature.aic, seoul_local_pressure.aic, seoul_sea_level_pressure.aic, seoul_sunshine.aic, \n",
    "             seoul_solar.aic, seoul_total_amount_of_cloud.aic, seoul_low_middle_level_clouds.aic, seoul_minimum_cloud_height.aic, \n",
    "             seoul_visibility.aic, seoul_ground_temperature.aic, seoul_ground_temperature_5cm.aic, seoul_ground_temperature_10cm.aic, \n",
    "             seoul_ground_temperature_20cm.aic, seoul_ground_temperature_30cm.aic]\n",
    "\n",
    "ulsan_aic = [ulsan_temperature.aic, ulsan_wind_speed.aic, ulsan_wind_direction.aic, ulsan_humidity.aic, ulsan_vapor_pressure.aic, \n",
    "             ulsan_dew_point_temperature.aic, ulsan_local_pressure.aic, ulsan_sea_level_pressure.aic, ulsan_sunshine.aic, \n",
    "             ulsan_solar.aic, ulsan_total_amount_of_cloud.aic, ulsan_low_middle_level_clouds.aic, ulsan_minimum_cloud_height.aic, \n",
    "             ulsan_visibility.aic, ulsan_ground_temperature.aic, ulsan_ground_temperature_5cm.aic, ulsan_ground_temperature_10cm.aic, \n",
    "             ulsan_ground_temperature_20cm.aic, ulsan_ground_temperature_30cm.aic]\n",
    "\n",
    "yangsan_aic = [yangsan_temperature.aic, yangsan_wind_speed.aic, yangsan_wind_direction.aic, yangsan_humidity.aic, \n",
    "               yangsan_vapor_pressure.aic, yangsan_dew_point_temperature.aic, yangsan_local_pressure.aic, yangsan_sea_level_pressure.aic, \n",
    "               yangsan_sunshine.aic, yangsan_solar.aic, yangsan_total_amount_of_cloud.aic, yangsan_low_middle_level_clouds.aic, \n",
    "               yangsan_minimum_cloud_height.aic, yangsan_visibility.aic, yangsan_ground_temperature.aic, \n",
    "               yangsan_ground_temperature_5cm.aic, yangsan_ground_temperature_10cm.aic, yangsan_ground_temperature_20cm.aic, \n",
    "               yangsan_ground_temperature_30cm.aic]"
   ]
  },
  {
   "cell_type": "code",
   "execution_count": 11,
   "metadata": {},
   "outputs": [
    {
     "name": "stdout",
     "output_type": "stream",
     "text": [
      "1 11947.204547759058\n",
      "2 12287.321730056678    biggest\n",
      "3 12076.975329096138\n",
      "4 6825.274566793541    smallest\n",
      "5 10451.90098050625\n",
      "6 10349.901025947138\n",
      "7 12229.680229609043\n",
      "8 12220.771628355704\n",
      "9 11142.161173328175\n",
      "10 11662.972616081268\n",
      "11 7504.262559173129\n",
      "12 9785.693528716747\n",
      "13 12277.860072691485\n",
      "14 10625.328923506635\n",
      "15 12177.254047082268\n",
      "16 11893.235406592448\n",
      "17 11763.71715709483\n",
      "18 11679.903826240887\n",
      "19 11607.343052190523\n"
     ]
    }
   ],
   "source": [
    "small1 = min(seoul_aic)\n",
    "big1 = max(seoul_aic)\n",
    "for i in range(len(seoul_aic)):\n",
    "    if seoul_aic[i] == small1:\n",
    "        print(i+1, seoul_aic[i],'   smallest')\n",
    "    elif seoul_aic[i] == big1:\n",
    "        print(i+1, seoul_aic[i], '   biggest')\n",
    "    else:\n",
    "        print(i+1, seoul_aic[i])"
   ]
  },
  {
   "cell_type": "code",
   "execution_count": 12,
   "metadata": {},
   "outputs": [
    {
     "name": "stdout",
     "output_type": "stream",
     "text": [
      "1 12789.667092571392\n",
      "2 13079.983369553409\n",
      "3 13075.42026699567\n",
      "4 7821.066480688661\n",
      "5 11807.296610757754\n",
      "6 11493.025843489104\n",
      "7 nan\n",
      "8 nan\n",
      "9 11699.832730676619\n",
      "10 13104.753150328801    biggest\n",
      "11 7722.85027734304    smallest\n",
      "12 10242.78569640146\n",
      "13 13029.185316857662\n",
      "14 10406.9330529217\n",
      "15 12838.564360981189\n",
      "16 13104.753150328801    biggest\n",
      "17 13104.753150328801    biggest\n",
      "18 13104.753150328801    biggest\n",
      "19 13104.753150328801    biggest\n"
     ]
    }
   ],
   "source": [
    "small2 = min(ulsan_aic)\n",
    "big2 = max(ulsan_aic)\n",
    "for i in range(len(ulsan_aic)):\n",
    "    if ulsan_aic[i] == small2:\n",
    "        print(i+1, ulsan_aic[i],'   smallest')\n",
    "    elif ulsan_aic[i] == big2:\n",
    "        print(i+1, ulsan_aic[i], '   biggest')\n",
    "    else:\n",
    "        print(i+1, ulsan_aic[i])"
   ]
  },
  {
   "cell_type": "code",
   "execution_count": 13,
   "metadata": {
    "scrolled": true
   },
   "outputs": [
    {
     "name": "stdout",
     "output_type": "stream",
     "text": [
      "1 11994.78991249017\n",
      "2 12149.933011462612\n",
      "3 12111.022493700917\n",
      "4 7767.920585760811    smallest\n",
      "5 10880.40067181511\n",
      "6 10648.227457558523\n",
      "7 12330.240593618304    biggest\n",
      "8 12328.743041901038\n",
      "9 11185.528694943177\n",
      "10 11774.636469185321\n",
      "11 10706.957652270961\n",
      "12 11834.551542160107\n",
      "13 12282.293063394556\n",
      "14 11380.616178548124\n",
      "15 12181.299105140788\n",
      "16 11989.490440474538\n",
      "17 11976.757743680517\n",
      "18 11840.38483410067\n",
      "19 11769.163867587771\n"
     ]
    }
   ],
   "source": [
    "small3 = min(yangsan_aic)\n",
    "big3 = max(yangsan_aic)\n",
    "for i in range(len(yangsan_aic)):\n",
    "    if yangsan_aic[i] == small3:\n",
    "        print(i+1, yangsan_aic[i],'   smallest')\n",
    "    elif yangsan_aic[i] == big3:\n",
    "        print(i+1, yangsan_aic[i], '   biggest')\n",
    "    else:\n",
    "        print(i+1, yangsan_aic[i])"
   ]
  },
  {
   "cell_type": "code",
   "execution_count": 14,
   "metadata": {},
   "outputs": [],
   "source": [
    "seoul_array= (['humidity', 'total_amount_of_cloud', 'low_middle_level_clouds', 'dew_point_temperature', 'vapor_pressure', 'visibility', \n",
    "               'sunshine', 'ground_temperature_30cm', 'solar', 'ground_temperature_20cm', 'ground_temperature_10cm', \n",
    "               'ground_temperature_5cm', 'temperature', 'wind_direction', 'ground_temperature', 'sea_level_pressure', 'local_pressure', \n",
    "               'minimum_cloud_height', 'wind_speed'])\n",
    "\n",
    "ulsan_array = (['total_amount_of_cloud', 'humidity', 'low_middle_level_clouds', 'visibility', 'dew_point_temperature', 'sunshine', \n",
    "                'vapor_pressure', 'temperature', 'ground_temperature', 'minimum_cloud_height', 'wind_direction', 'wind_speed', ('solar', \n",
    "                 'ground_temperature_5cm', 'ground_temperature_10cm', 'ground_temperature_20cm', 'ground_temperature_30cm'), '', '', '', \n",
    "                '', '', ''])\n",
    "\n",
    "yangsan_array = (['humidity', 'dew_point_temperature', 'total_amount_of_cloud', 'vapor_pressure', 'sunshine', 'visibility', \n",
    "                  'ground_temperature_30cm', 'solar', 'low_middle_level_clouds', 'ground_temperature_20cm', 'ground_temperature_10cm', \n",
    "                  'ground_temperature_5cm', 'temperature', 'wind_direction', 'wind_speed', 'ground_temperature', 'minimum_cloud_height', \n",
    "                  'sea_level_pressure', 'local_pressure'])"
   ]
  },
  {
   "cell_type": "code",
   "execution_count": 15,
   "metadata": {},
   "outputs": [
    {
     "data": {
      "text/html": [
       "<div>\n",
       "<style scoped>\n",
       "    .dataframe tbody tr th:only-of-type {\n",
       "        vertical-align: middle;\n",
       "    }\n",
       "\n",
       "    .dataframe tbody tr th {\n",
       "        vertical-align: top;\n",
       "    }\n",
       "\n",
       "    .dataframe thead th {\n",
       "        text-align: right;\n",
       "    }\n",
       "</style>\n",
       "<table border=\"1\" class=\"dataframe\">\n",
       "  <thead>\n",
       "    <tr style=\"text-align: right;\">\n",
       "      <th></th>\n",
       "      <th>seoul</th>\n",
       "      <th>ulsan</th>\n",
       "      <th>yangsan</th>\n",
       "    </tr>\n",
       "  </thead>\n",
       "  <tbody>\n",
       "    <tr>\n",
       "      <th>0</th>\n",
       "      <td>humidity</td>\n",
       "      <td>total_amount_of_cloud</td>\n",
       "      <td>humidity</td>\n",
       "    </tr>\n",
       "    <tr>\n",
       "      <th>1</th>\n",
       "      <td>total_amount_of_cloud</td>\n",
       "      <td>humidity</td>\n",
       "      <td>dew_point_temperature</td>\n",
       "    </tr>\n",
       "    <tr>\n",
       "      <th>2</th>\n",
       "      <td>low_middle_level_clouds</td>\n",
       "      <td>low_middle_level_clouds</td>\n",
       "      <td>total_amount_of_cloud</td>\n",
       "    </tr>\n",
       "    <tr>\n",
       "      <th>3</th>\n",
       "      <td>dew_point_temperature</td>\n",
       "      <td>visibility</td>\n",
       "      <td>vapor_pressure</td>\n",
       "    </tr>\n",
       "    <tr>\n",
       "      <th>4</th>\n",
       "      <td>vapor_pressure</td>\n",
       "      <td>dew_point_temperature</td>\n",
       "      <td>sunshine</td>\n",
       "    </tr>\n",
       "    <tr>\n",
       "      <th>5</th>\n",
       "      <td>visibility</td>\n",
       "      <td>sunshine</td>\n",
       "      <td>visibility</td>\n",
       "    </tr>\n",
       "    <tr>\n",
       "      <th>6</th>\n",
       "      <td>sunshine</td>\n",
       "      <td>vapor_pressure</td>\n",
       "      <td>ground_temperature_30cm</td>\n",
       "    </tr>\n",
       "    <tr>\n",
       "      <th>7</th>\n",
       "      <td>ground_temperature_30cm</td>\n",
       "      <td>temperature</td>\n",
       "      <td>solar</td>\n",
       "    </tr>\n",
       "    <tr>\n",
       "      <th>8</th>\n",
       "      <td>solar</td>\n",
       "      <td>ground_temperature</td>\n",
       "      <td>low_middle_level_clouds</td>\n",
       "    </tr>\n",
       "    <tr>\n",
       "      <th>9</th>\n",
       "      <td>ground_temperature_20cm</td>\n",
       "      <td>minimum_cloud_height</td>\n",
       "      <td>ground_temperature_20cm</td>\n",
       "    </tr>\n",
       "    <tr>\n",
       "      <th>10</th>\n",
       "      <td>ground_temperature_10cm</td>\n",
       "      <td>wind_direction</td>\n",
       "      <td>ground_temperature_10cm</td>\n",
       "    </tr>\n",
       "    <tr>\n",
       "      <th>11</th>\n",
       "      <td>ground_temperature_5cm</td>\n",
       "      <td>wind_speed</td>\n",
       "      <td>ground_temperature_5cm</td>\n",
       "    </tr>\n",
       "    <tr>\n",
       "      <th>12</th>\n",
       "      <td>temperature</td>\n",
       "      <td>(solar, ground_temperature_5cm, ground_tempera...</td>\n",
       "      <td>temperature</td>\n",
       "    </tr>\n",
       "    <tr>\n",
       "      <th>13</th>\n",
       "      <td>wind_direction</td>\n",
       "      <td></td>\n",
       "      <td>wind_direction</td>\n",
       "    </tr>\n",
       "    <tr>\n",
       "      <th>14</th>\n",
       "      <td>ground_temperature</td>\n",
       "      <td></td>\n",
       "      <td>wind_speed</td>\n",
       "    </tr>\n",
       "    <tr>\n",
       "      <th>15</th>\n",
       "      <td>sea_level_pressure</td>\n",
       "      <td></td>\n",
       "      <td>ground_temperature</td>\n",
       "    </tr>\n",
       "    <tr>\n",
       "      <th>16</th>\n",
       "      <td>local_pressure</td>\n",
       "      <td></td>\n",
       "      <td>minimum_cloud_height</td>\n",
       "    </tr>\n",
       "    <tr>\n",
       "      <th>17</th>\n",
       "      <td>minimum_cloud_height</td>\n",
       "      <td></td>\n",
       "      <td>sea_level_pressure</td>\n",
       "    </tr>\n",
       "    <tr>\n",
       "      <th>18</th>\n",
       "      <td>wind_speed</td>\n",
       "      <td></td>\n",
       "      <td>local_pressure</td>\n",
       "    </tr>\n",
       "  </tbody>\n",
       "</table>\n",
       "</div>"
      ],
      "text/plain": [
       "                      seoul  \\\n",
       "0                  humidity   \n",
       "1     total_amount_of_cloud   \n",
       "2   low_middle_level_clouds   \n",
       "3     dew_point_temperature   \n",
       "4            vapor_pressure   \n",
       "5                visibility   \n",
       "6                  sunshine   \n",
       "7   ground_temperature_30cm   \n",
       "8                     solar   \n",
       "9   ground_temperature_20cm   \n",
       "10  ground_temperature_10cm   \n",
       "11   ground_temperature_5cm   \n",
       "12              temperature   \n",
       "13           wind_direction   \n",
       "14       ground_temperature   \n",
       "15       sea_level_pressure   \n",
       "16           local_pressure   \n",
       "17     minimum_cloud_height   \n",
       "18               wind_speed   \n",
       "\n",
       "                                                ulsan                  yangsan  \n",
       "0                               total_amount_of_cloud                 humidity  \n",
       "1                                            humidity    dew_point_temperature  \n",
       "2                             low_middle_level_clouds    total_amount_of_cloud  \n",
       "3                                          visibility           vapor_pressure  \n",
       "4                               dew_point_temperature                 sunshine  \n",
       "5                                            sunshine               visibility  \n",
       "6                                      vapor_pressure  ground_temperature_30cm  \n",
       "7                                         temperature                    solar  \n",
       "8                                  ground_temperature  low_middle_level_clouds  \n",
       "9                                minimum_cloud_height  ground_temperature_20cm  \n",
       "10                                     wind_direction  ground_temperature_10cm  \n",
       "11                                         wind_speed   ground_temperature_5cm  \n",
       "12  (solar, ground_temperature_5cm, ground_tempera...              temperature  \n",
       "13                                                              wind_direction  \n",
       "14                                                                  wind_speed  \n",
       "15                                                          ground_temperature  \n",
       "16                                                        minimum_cloud_height  \n",
       "17                                                          sea_level_pressure  \n",
       "18                                                              local_pressure  "
      ]
     },
     "metadata": {},
     "output_type": "display_data"
    }
   ],
   "source": [
    "dict_region = {'seoul':seoul_array, 'ulsan': ulsan_array, 'yangsan': yangsan_array}\n",
    "display(pd.DataFrame(dict_region))"
   ]
  },
  {
   "cell_type": "markdown",
   "metadata": {},
   "source": [
    "변수에 대한 분석은 강수량에서 하도록 하겠습니다."
   ]
  },
  {
   "cell_type": "markdown",
   "metadata": {},
   "source": [
    "### 1-3) AIC를 기준으로 모델 생성\n",
    "null 모델부터 시작하여 AIC값이 작은것부터 차례로 변수를 더해가며 모델을 만들었습니다."
   ]
  },
  {
   "cell_type": "code",
   "execution_count": 16,
   "metadata": {},
   "outputs": [],
   "source": [
    "seoul_null = smf.glm(formula = \"rain ~ 1\", data = seoul, family = sm.families.Binomial()).fit()\n",
    "seoul1 = smf.glm(formula = \"rain ~ humidity\", data = seoul, family = sm.families.Binomial()).fit()\n",
    "seoul2 = smf.glm(formula = \"rain ~ humidity + total_amount_of_cloud\", data = seoul, family = sm.families.Binomial()).fit()\n",
    "seoul3 = smf.glm(formula = \"rain ~ humidity + total_amount_of_cloud + low_middle_level_clouds\", data = seoul, family = sm.families.Binomial()).fit()\n",
    "seoul4 = smf.glm(formula = \"rain ~ humidity + total_amount_of_cloud + low_middle_level_clouds + dew_point_temperature\", data = seoul, family = sm.families.Binomial()).fit()\n",
    "seoul5 = smf.glm(formula = \"rain ~ humidity + total_amount_of_cloud + low_middle_level_clouds + dew_point_temperature + vapor_pressure\", data = seoul, family = sm.families.Binomial()).fit()\n",
    "seoul6 = smf.glm(formula = \"rain ~ humidity + total_amount_of_cloud + low_middle_level_clouds + dew_point_temperature + vapor_pressure + visibility\", data = seoul, family = sm.families.Binomial()).fit()\n",
    "seoul7 = smf.glm(formula = \"rain ~ humidity + total_amount_of_cloud + low_middle_level_clouds + dew_point_temperature + vapor_pressure + visibility + sunshine\", data = seoul, family = sm.families.Binomial()).fit()\n",
    "seoul8 = smf.glm(formula = \"rain ~ humidity + total_amount_of_cloud + low_middle_level_clouds + dew_point_temperature + vapor_pressure + visibility + sunshine + ground_temperature_30cm\", data = seoul, family = sm.families.Binomial()).fit()\n",
    "seoul9 = smf.glm(formula = \"rain ~ humidity + total_amount_of_cloud + low_middle_level_clouds + dew_point_temperature + vapor_pressure + visibility + sunshine + ground_temperature_30cm + solar\", data = seoul, family = sm.families.Binomial()).fit()\n",
    "seoul10 = smf.glm(formula = \"rain ~ humidity + total_amount_of_cloud + low_middle_level_clouds + dew_point_temperature + vapor_pressure + visibility + sunshine + ground_temperature_30cm + solar + ground_temperature_20cm\", data = seoul, family = sm.families.Binomial()).fit()\n",
    "seoul11 = smf.glm(formula = \"rain ~ humidity + total_amount_of_cloud + low_middle_level_clouds + dew_point_temperature + vapor_pressure + visibility + sunshine + ground_temperature_30cm + solar + ground_temperature_20cm + ground_temperature_10cm\", data = seoul, family = sm.families.Binomial()).fit()\n",
    "seoul12 = smf.glm(formula = \"rain ~ humidity + total_amount_of_cloud + low_middle_level_clouds + dew_point_temperature + vapor_pressure + visibility + sunshine + ground_temperature_30cm + solar + ground_temperature_20cm + ground_temperature_10cm + ground_temperature_5cm\", data = seoul, family = sm.families.Binomial()).fit()\n",
    "seoul13 = smf.glm(formula = \"rain ~ humidity + total_amount_of_cloud + low_middle_level_clouds + dew_point_temperature + vapor_pressure + visibility + sunshine + ground_temperature_30cm + solar + ground_temperature_20cm + ground_temperature_10cm + ground_temperature_5cm + temperature\", data = seoul, family = sm.families.Binomial()).fit()\n",
    "seoul14 = smf.glm(formula = \"rain ~ humidity + total_amount_of_cloud + low_middle_level_clouds + dew_point_temperature + vapor_pressure + visibility + sunshine + ground_temperature_30cm + solar + ground_temperature_20cm + ground_temperature_10cm + ground_temperature_5cm + temperature + wind_direction\", data = seoul, family = sm.families.Binomial()).fit()\n",
    "seoul15 = smf.glm(formula = \"rain ~ humidity + total_amount_of_cloud + low_middle_level_clouds + dew_point_temperature + vapor_pressure + visibility + sunshine + ground_temperature_30cm + solar + ground_temperature_20cm + ground_temperature_10cm + ground_temperature_5cm + temperature + wind_direction + ground_temperature\", data = seoul, family = sm.families.Binomial()).fit()\n",
    "seoul16 = smf.glm(formula = \"rain ~ humidity + total_amount_of_cloud + low_middle_level_clouds + dew_point_temperature + vapor_pressure + visibility + sunshine + ground_temperature_30cm + solar + ground_temperature_20cm + ground_temperature_10cm + ground_temperature_5cm + temperature + wind_direction + ground_temperature + sea_level_pressure\", data = seoul, family = sm.families.Binomial()).fit()\n",
    "seoul17 = smf.glm(formula = \"rain ~ humidity + total_amount_of_cloud + low_middle_level_clouds + dew_point_temperature + vapor_pressure + visibility + sunshine + ground_temperature_30cm + solar + ground_temperature_20cm + ground_temperature_10cm + ground_temperature_5cm + temperature + wind_direction + ground_temperature + sea_level_pressure + local_pressure\", data = seoul, family = sm.families.Binomial()).fit()\n",
    "seoul18 = smf.glm(formula = \"rain ~ humidity + total_amount_of_cloud + low_middle_level_clouds + dew_point_temperature + vapor_pressure + visibility + sunshine + ground_temperature_30cm + solar + ground_temperature_20cm + ground_temperature_10cm + ground_temperature_5cm + temperature + wind_direction + ground_temperature + sea_level_pressure + local_pressure + minimum_cloud_height\", data = seoul, family = sm.families.Binomial()).fit()\n",
    "seoul19 = smf.glm(formula = \"rain ~ humidity + total_amount_of_cloud + low_middle_level_clouds + dew_point_temperature + vapor_pressure + visibility + sunshine + ground_temperature_30cm + solar + ground_temperature_20cm + ground_temperature_10cm + ground_temperature_5cm + temperature + wind_direction + ground_temperature + sea_level_pressure + local_pressure + minimum_cloud_height + wind_speed\", data = seoul, family = sm.families.Binomial()).fit()"
   ]
  },
  {
   "cell_type": "code",
   "execution_count": 17,
   "metadata": {},
   "outputs": [
    {
     "name": "stderr",
     "output_type": "stream",
     "text": [
      "C:\\Users\\pjwlo\\anaconda3\\lib\\site-packages\\statsmodels\\genmod\\families\\family.py:894: RuntimeWarning: divide by zero encountered in true_divide\n",
      "  n_endog_mu = self._clean((1. - endog) / (1. - mu))\n",
      "C:\\Users\\pjwlo\\anaconda3\\lib\\site-packages\\statsmodels\\genmod\\families\\family.py:894: RuntimeWarning: invalid value encountered in true_divide\n",
      "  n_endog_mu = self._clean((1. - endog) / (1. - mu))\n",
      "C:\\Users\\pjwlo\\anaconda3\\lib\\site-packages\\statsmodels\\genmod\\families\\links.py:188: RuntimeWarning: overflow encountered in exp\n",
      "  t = np.exp(-z)\n",
      "C:\\Users\\pjwlo\\anaconda3\\lib\\site-packages\\statsmodels\\genmod\\families\\family.py:893: RuntimeWarning: divide by zero encountered in true_divide\n",
      "  endog_mu = self._clean(endog / mu)\n",
      "C:\\Users\\pjwlo\\anaconda3\\lib\\site-packages\\statsmodels\\genmod\\families\\family.py:893: RuntimeWarning: invalid value encountered in true_divide\n",
      "  endog_mu = self._clean(endog / mu)\n"
     ]
    }
   ],
   "source": [
    "ulsan_null = smf.glm(formula = \"rain ~ 1\", data = ulsan, family = sm.families.Binomial()).fit()\n",
    "ulsan1 = smf.glm(formula = \"rain ~ total_amount_of_cloud\", data = ulsan, family = sm.families.Binomial()).fit()\n",
    "ulsan2 = smf.glm(formula = \"rain ~ total_amount_of_cloud + humidity\", data = ulsan, family = sm.families.Binomial()).fit()\n",
    "ulsan3 = smf.glm(formula = \"rain ~ total_amount_of_cloud + humidity + low_middle_level_clouds\", data = ulsan, family = sm.families.Binomial()).fit()\n",
    "ulsan4 = smf.glm(formula = \"rain ~ total_amount_of_cloud + humidity + low_middle_level_clouds + visibility\", data = ulsan, family = sm.families.Binomial()).fit()\n",
    "ulsan5 = smf.glm(formula = \"rain ~ total_amount_of_cloud + humidity + low_middle_level_clouds + visibility + dew_point_temperature\", data = ulsan, family = sm.families.Binomial()).fit()\n",
    "ulsan6 = smf.glm(formula = \"rain ~ total_amount_of_cloud + humidity + low_middle_level_clouds + visibility + dew_point_temperature + sunshine\", data = ulsan, family = sm.families.Binomial()).fit()\n",
    "ulsan7 = smf.glm(formula = \"rain ~ total_amount_of_cloud + humidity + low_middle_level_clouds + visibility + dew_point_temperature + sunshine + vapor_pressure\", data = ulsan, family = sm.families.Binomial()).fit()\n",
    "ulsan8 = smf.glm(formula = \"rain ~ total_amount_of_cloud + humidity + low_middle_level_clouds + visibility + dew_point_temperature + sunshine + vapor_pressure + temperature\", data = ulsan, family = sm.families.Binomial()).fit()\n",
    "ulsan9 = smf.glm(formula = \"rain ~ total_amount_of_cloud + humidity + low_middle_level_clouds + visibility + dew_point_temperature + sunshine + vapor_pressure + temperature + ground_temperature\", data = ulsan, family = sm.families.Binomial()).fit()\n",
    "ulsan10 = smf.glm(formula = \"rain ~ total_amount_of_cloud + humidity + low_middle_level_clouds + visibility + dew_point_temperature + sunshine + vapor_pressure + temperature + ground_temperature + minimum_cloud_height\", data = ulsan, family = sm.families.Binomial()).fit()\n",
    "ulsan11 = smf.glm(formula = \"rain ~ total_amount_of_cloud + humidity + low_middle_level_clouds + visibility + dew_point_temperature + sunshine + vapor_pressure + temperature + ground_temperature + minimum_cloud_height + wind_direction\", data = ulsan, family = sm.families.Binomial()).fit()\n",
    "ulsan12 = smf.glm(formula = \"rain ~ total_amount_of_cloud + humidity + low_middle_level_clouds + visibility + dew_point_temperature + sunshine + vapor_pressure + temperature + ground_temperature + minimum_cloud_height + wind_direction + wind_speed\", data = ulsan, family = sm.families.Binomial()).fit()\n",
    "ulsan13 = smf.glm(formula = \"rain ~ total_amount_of_cloud + humidity + low_middle_level_clouds + visibility + dew_point_temperature + sunshine + vapor_pressure + temperature + ground_temperature + minimum_cloud_height + wind_direction + wind_speed + solar + ground_temperature_5cm + ground_temperature_10cm + ground_temperature_20cm + ground_temperature_30cm\", data = ulsan, family = sm.families.Binomial()).fit()"
   ]
  },
  {
   "cell_type": "code",
   "execution_count": 18,
   "metadata": {},
   "outputs": [],
   "source": [
    "yangsan_null = smf.glm(formula = \"rain ~ 1\", data = yangsan, family = sm.families.Binomial()).fit()\n",
    "yangsan1 = smf.glm(formula = \"rain ~ humidity\", data = yangsan, family = sm.families.Binomial()).fit()\n",
    "yangsan2 = smf.glm(formula = \"rain ~ humidity + dew_point_temperature\", data = yangsan, family = sm.families.Binomial()).fit()\n",
    "yangsan3 = smf.glm(formula = \"rain ~ humidity + dew_point_temperature + total_amount_of_cloud\", data = yangsan, family = sm.families.Binomial()).fit()\n",
    "yangsan4 = smf.glm(formula = \"rain ~ humidity + dew_point_temperature + total_amount_of_cloud + vapor_pressure\", data = yangsan, family = sm.families.Binomial()).fit()\n",
    "yangsan5 = smf.glm(formula = \"rain ~ humidity + dew_point_temperature + total_amount_of_cloud + vapor_pressure + sunshine\", data = yangsan, family = sm.families.Binomial()).fit()\n",
    "yangsan6 = smf.glm(formula = \"rain ~ humidity + dew_point_temperature + total_amount_of_cloud + vapor_pressure + sunshine + visibility\", data = yangsan, family = sm.families.Binomial()).fit()\n",
    "yangsan7 = smf.glm(formula = \"rain ~ humidity + dew_point_temperature + total_amount_of_cloud + vapor_pressure + sunshine + visibility + ground_temperature_30cm\", data = yangsan, family = sm.families.Binomial()).fit()\n",
    "yangsan8 = smf.glm(formula = \"rain ~ humidity + dew_point_temperature + total_amount_of_cloud + vapor_pressure + sunshine + visibility + ground_temperature_30cm + solar\", data = yangsan, family = sm.families.Binomial()).fit()\n",
    "yangsan9 = smf.glm(formula = \"rain ~ humidity + dew_point_temperature + total_amount_of_cloud + vapor_pressure + sunshine + visibility + ground_temperature_30cm + solar + low_middle_level_clouds\", data = yangsan, family = sm.families.Binomial()).fit()\n",
    "yangsan10 = smf.glm(formula = \"rain ~ humidity + dew_point_temperature + total_amount_of_cloud + vapor_pressure + sunshine + visibility + ground_temperature_30cm + solar + low_middle_level_clouds + ground_temperature_20cm\", data = yangsan, family = sm.families.Binomial()).fit()\n",
    "yangsan11 = smf.glm(formula = \"rain ~ humidity + dew_point_temperature + total_amount_of_cloud + vapor_pressure + sunshine + visibility + ground_temperature_30cm + solar + low_middle_level_clouds + ground_temperature_20cm + ground_temperature_10cm\", data = yangsan, family = sm.families.Binomial()).fit()\n",
    "yangsan12 = smf.glm(formula = \"rain ~ humidity + dew_point_temperature + total_amount_of_cloud + vapor_pressure + sunshine + visibility + ground_temperature_30cm + solar + low_middle_level_clouds + ground_temperature_20cm + ground_temperature_10cm + ground_temperature_5cm\", data = yangsan, family = sm.families.Binomial()).fit()\n",
    "yangsan13 = smf.glm(formula = \"rain ~ humidity + dew_point_temperature + total_amount_of_cloud + vapor_pressure + sunshine + visibility + ground_temperature_30cm + solar + low_middle_level_clouds + ground_temperature_20cm + ground_temperature_10cm + ground_temperature_5cm + temperature\", data = yangsan, family = sm.families.Binomial()).fit()\n",
    "yangsan14 = smf.glm(formula = \"rain ~ humidity + dew_point_temperature + total_amount_of_cloud + vapor_pressure + sunshine + visibility + ground_temperature_30cm + solar + low_middle_level_clouds + ground_temperature_20cm + ground_temperature_10cm + ground_temperature_5cm + temperature + wind_direction\", data = yangsan, family = sm.families.Binomial()).fit()\n",
    "yangsan15 = smf.glm(formula = \"rain ~ humidity + dew_point_temperature + total_amount_of_cloud + vapor_pressure + sunshine + visibility + ground_temperature_30cm + solar + low_middle_level_clouds + ground_temperature_20cm + ground_temperature_10cm + ground_temperature_5cm + temperature + wind_direction + wind_speed\", data = yangsan, family = sm.families.Binomial()).fit()\n",
    "yangsan16 = smf.glm(formula = \"rain ~ humidity + dew_point_temperature + total_amount_of_cloud + vapor_pressure + sunshine + visibility + ground_temperature_30cm + solar + low_middle_level_clouds + ground_temperature_20cm + ground_temperature_10cm + ground_temperature_5cm + temperature + wind_direction + wind_speed + ground_temperature\", data = yangsan, family = sm.families.Binomial()).fit()\n",
    "yangsan17 = smf.glm(formula = \"rain ~ humidity + dew_point_temperature + total_amount_of_cloud + vapor_pressure + sunshine + visibility + ground_temperature_30cm + solar + low_middle_level_clouds + ground_temperature_20cm + ground_temperature_10cm + ground_temperature_5cm + temperature + wind_direction + wind_speed + ground_temperature + minimum_cloud_height\", data = yangsan, family = sm.families.Binomial()).fit()\n",
    "yangsan18 = smf.glm(formula = \"rain ~ humidity + dew_point_temperature + total_amount_of_cloud + vapor_pressure + sunshine + visibility + ground_temperature_30cm + solar + low_middle_level_clouds + ground_temperature_20cm + ground_temperature_10cm + ground_temperature_5cm + temperature + wind_direction + wind_speed + ground_temperature + minimum_cloud_height + sea_level_pressure\", data = yangsan, family = sm.families.Binomial()).fit()\n",
    "yangsan19 = smf.glm(formula = \"rain ~ humidity + dew_point_temperature + total_amount_of_cloud + vapor_pressure + sunshine + visibility + ground_temperature_30cm + solar + low_middle_level_clouds + ground_temperature_20cm + ground_temperature_10cm + ground_temperature_5cm + temperature + wind_direction + wind_speed + ground_temperature + minimum_cloud_height + sea_level_pressure + local_pressure\", data = yangsan, family = sm.families.Binomial()).fit()"
   ]
  },
  {
   "cell_type": "markdown",
   "metadata": {},
   "source": [
    "### 1-4) 다변수 모델의 AIC값"
   ]
  },
  {
   "cell_type": "code",
   "execution_count": 19,
   "metadata": {},
   "outputs": [
    {
     "name": "stderr",
     "output_type": "stream",
     "text": [
      "C:\\Users\\pjwlo\\anaconda3\\lib\\site-packages\\statsmodels\\genmod\\families\\family.py:946: RuntimeWarning: divide by zero encountered in true_divide\n",
      "  special.gammaln(n - y + 1) + y * np.log(mu / (1 - mu)) +\n",
      "C:\\Users\\pjwlo\\anaconda3\\lib\\site-packages\\statsmodels\\genmod\\families\\family.py:946: RuntimeWarning: divide by zero encountered in log\n",
      "  special.gammaln(n - y + 1) + y * np.log(mu / (1 - mu)) +\n",
      "C:\\Users\\pjwlo\\anaconda3\\lib\\site-packages\\statsmodels\\genmod\\families\\family.py:946: RuntimeWarning: invalid value encountered in multiply\n",
      "  special.gammaln(n - y + 1) + y * np.log(mu / (1 - mu)) +\n",
      "C:\\Users\\pjwlo\\anaconda3\\lib\\site-packages\\statsmodels\\genmod\\families\\family.py:947: RuntimeWarning: divide by zero encountered in log\n",
      "  n * np.log(1 - mu)) * var_weights\n",
      "C:\\Users\\pjwlo\\anaconda3\\lib\\site-packages\\statsmodels\\genmod\\families\\family.py:947: RuntimeWarning: invalid value encountered in add\n",
      "  n * np.log(1 - mu)) * var_weights\n"
     ]
    }
   ],
   "source": [
    "complete_seoul_aic = [seoul1.aic, seoul2.aic, seoul3.aic, seoul4.aic, seoul5.aic, seoul6.aic, seoul7.aic, seoul8.aic, seoul9.aic, seoul10.aic,\n",
    "                  seoul11.aic, seoul12.aic, seoul13.aic, seoul14.aic, seoul15.aic, seoul16.aic, seoul17.aic, seoul18.aic, seoul19.aic]\n",
    "\n",
    "complete_ulsan_aic = [ulsan1.aic, ulsan2.aic, ulsan3.aic, ulsan4.aic, ulsan5.aic, ulsan6.aic, ulsan7.aic, ulsan8.aic, ulsan9.aic, ulsan10.aic,\n",
    "                  ulsan11.aic, ulsan12.aic, ulsan13.aic]\n",
    "\n",
    "complete_yangsan_aic = [yangsan1.aic, yangsan2.aic, yangsan3.aic, yangsan4.aic, yangsan5.aic, yangsan6.aic, yangsan7.aic, yangsan8.aic,\n",
    "                   yangsan9.aic, yangsan10.aic, yangsan11.aic, yangsan12.aic, yangsan13.aic, yangsan14.aic, yangsan15.aic, yangsan16.aic,\n",
    "                   yangsan17.aic, yangsan18.aic, yangsan19.aic]"
   ]
  },
  {
   "cell_type": "markdown",
   "metadata": {},
   "source": [
    "### 1-5) AIC값이 가장 작은 것을 기준으로 날씨 유무를 예측하는 최종 모델 선정"
   ]
  },
  {
   "cell_type": "code",
   "execution_count": 20,
   "metadata": {},
   "outputs": [
    {
     "name": "stdout",
     "output_type": "stream",
     "text": [
      "19 5061.5626601321055    smallest\n"
     ]
    }
   ],
   "source": [
    "small4 = min(complete_seoul_aic)\n",
    "for i in range(len(complete_seoul_aic)):\n",
    "    if complete_seoul_aic[i] == small4:\n",
    "        print(i+1, complete_seoul_aic[i],'   smallest')\n",
    "    else:\n",
    "        pass"
   ]
  },
  {
   "cell_type": "code",
   "execution_count": 21,
   "metadata": {},
   "outputs": [
    {
     "name": "stdout",
     "output_type": "stream",
     "text": [
      "10 5473.074675798038    smallest\n"
     ]
    }
   ],
   "source": [
    "small5 = min(complete_ulsan_aic)\n",
    "for i in range(len(complete_ulsan_aic)):\n",
    "    if complete_ulsan_aic[i] == small5:\n",
    "        print(i+1, complete_ulsan_aic[i],'   smallest')\n",
    "    else:\n",
    "        pass"
   ]
  },
  {
   "cell_type": "code",
   "execution_count": 22,
   "metadata": {},
   "outputs": [
    {
     "name": "stdout",
     "output_type": "stream",
     "text": [
      "12 6629.498921949501    smallest\n"
     ]
    }
   ],
   "source": [
    "small6 = min(complete_yangsan_aic)\n",
    "for i in range(len(complete_yangsan_aic)):\n",
    "    if complete_yangsan_aic[i] == small6:\n",
    "        print(i+1, complete_yangsan_aic[i],'   smallest')\n",
    "    else:\n",
    "        pass"
   ]
  },
  {
   "cell_type": "markdown",
   "metadata": {},
   "source": [
    "### 1-6) 예측한 값을 기존값과 비교하기 위한 column추가"
   ]
  },
  {
   "cell_type": "code",
   "execution_count": 23,
   "metadata": {},
   "outputs": [],
   "source": [
    "seoul_test = seoul19.predict()\n",
    "seoul['predict'] = np.where(seoul_test > 0.5, 1, 0)\n",
    "check_seoul = seoul.predict == seoul.rain\n",
    "seoul['correct'] = check_seoul"
   ]
  },
  {
   "cell_type": "code",
   "execution_count": 24,
   "metadata": {},
   "outputs": [],
   "source": [
    "ulsan_test = ulsan5.predict()\n",
    "ulsan['predict'] = np.where(ulsan_test > 0.5, 1, 0)\n",
    "check_ulsan = ulsan.predict == ulsan.rain\n",
    "ulsan['correct'] = check_ulsan"
   ]
  },
  {
   "cell_type": "code",
   "execution_count": 25,
   "metadata": {},
   "outputs": [],
   "source": [
    "yangsan_test = yangsan6.predict()\n",
    "yangsan['predict'] = np.where(yangsan_test > 0.5, 1, 0)\n",
    "check_yangsan = yangsan.predict == yangsan.rain\n",
    "yangsan['correct'] = check_yangsan"
   ]
  },
  {
   "cell_type": "markdown",
   "metadata": {},
   "source": [
    "### 1-7) 예측의 정확도"
   ]
  },
  {
   "cell_type": "code",
   "execution_count": 26,
   "metadata": {},
   "outputs": [],
   "source": [
    "seoul_wrong = seoul[seoul['correct']==False]\n",
    "ulsan_wrong = ulsan[ulsan['correct']==False]\n",
    "yangsan_wrong = yangsan[yangsan['correct']==False]"
   ]
  },
  {
   "cell_type": "code",
   "execution_count": 27,
   "metadata": {},
   "outputs": [
    {
     "name": "stdout",
     "output_type": "stream",
     "text": [
      "seoul:  96.06143552311435\n",
      "ulsan:  95.09580291970804\n",
      "yangsan:  94.96274330900243\n"
     ]
    }
   ],
   "source": [
    "print(\"seoul: \", 100 - len(seoul_wrong)/len(seoul) * 100)\n",
    "print(\"ulsan: \", 100 - len(ulsan_wrong)/len(ulsan) * 100)\n",
    "print(\"yangsan: \", 100 - len(yangsan_wrong)/len(yangsan) * 100)"
   ]
  },
  {
   "cell_type": "markdown",
   "metadata": {},
   "source": [
    "## 2-2) 강수량 예측"
   ]
  },
  {
   "cell_type": "markdown",
   "metadata": {},
   "source": [
    "### 2-1) 단일독립 변수"
   ]
  },
  {
   "cell_type": "code",
   "execution_count": 28,
   "metadata": {},
   "outputs": [],
   "source": [
    "seoul_amount_temperature = smf.glm(formula = \"rain_amount ~ temperature\", data = seoul, family = sm.families.Poisson()).fit()\n",
    "seoul_amount_wind_speed = smf.glm(formula = \"rain_amount ~ wind_speed\", data = seoul, family = sm.families.Poisson()).fit()\n",
    "seoul_amount_wind_direction = smf.glm(formula = \"rain_amount ~ wind_direction\", data = seoul, family = sm.families.Poisson()).fit()\n",
    "seoul_amount_humidity = smf.glm(formula = \"rain_amount ~ humidity\", data = seoul, family = sm.families.Poisson()).fit()\n",
    "seoul_amount_vapor_pressure = smf.glm(formula = \"rain_amount ~ vapor_pressure\", data = seoul, family = sm.families.Poisson()).fit()\n",
    "seoul_amount_dew_point_temperature = smf.glm(formula = \"rain_amount ~ dew_point_temperature\", data = seoul, family = sm.families.Poisson()).fit()\n",
    "seoul_amount_local_pressure = smf.glm(formula = \"rain_amount ~ local_pressure\", data = seoul, family = sm.families.Poisson()).fit()\n",
    "seoul_amount_sea_level_pressure = smf.glm(formula = \"rain_amount ~ sea_level_pressure\", data = seoul, family = sm.families.Poisson()).fit()\n",
    "seoul_amount_sunshine = smf.glm(formula = \"rain_amount ~ sunshine\", data = seoul, family = sm.families.Poisson()).fit()\n",
    "seoul_amount_solar = smf.glm(formula = \"rain_amount ~ solar\", data = seoul, family = sm.families.Poisson()).fit()\n",
    "seoul_amount_total_amount_of_cloud = smf.glm(formula = \"rain_amount ~ total_amount_of_cloud\", data = seoul, family = sm.families.Poisson()).fit()\n",
    "seoul_amount_low_middle_level_clouds = smf.glm(formula = \"rain_amount ~ low_middle_level_clouds\", data = seoul, family = sm.families.Poisson()).fit()\n",
    "seoul_amount_minimum_cloud_height = smf.glm(formula = \"rain_amount ~ minimum_cloud_height\", data = seoul, family = sm.families.Poisson()).fit()\n",
    "seoul_amount_visibility = smf.glm(formula = \"rain_amount ~ visibility\", data = seoul, family = sm.families.Poisson()).fit()\n",
    "seoul_amount_ground_temperature = smf.glm(formula = \"rain_amount ~ ground_temperature\", data = seoul, family = sm.families.Poisson()).fit()\n",
    "seoul_amount_ground_temperature_5cm = smf.glm(formula = \"rain_amount ~ ground_temperature_5cm\", data = seoul, family = sm.families.Poisson()).fit()\n",
    "seoul_amount_ground_temperature_10cm = smf.glm(formula = \"rain_amount ~ ground_temperature_10cm\", data = seoul, family = sm.families.Poisson()).fit()\n",
    "seoul_amount_ground_temperature_20cm = smf.glm(formula = \"rain_amount ~ ground_temperature_20cm\", data = seoul, family = sm.families.Poisson()).fit()\n",
    "seoul_amount_ground_temperature_30cm = smf.glm(formula = \"rain_amount ~ ground_temperature_30cm\", data = seoul, family = sm.families.Poisson()).fit()\n",
    "\n",
    "\n",
    "ulsan_amount_temperature = smf.glm(formula = \"rain_amount ~ temperature\", data = ulsan, family = sm.families.Poisson()).fit()\n",
    "ulsan_amount_wind_speed = smf.glm(formula = \"rain_amount ~ wind_speed\", data = ulsan, family = sm.families.Poisson()).fit()\n",
    "ulsan_amount_wind_direction = smf.glm(formula = \"rain_amount ~ wind_direction\", data = ulsan, family = sm.families.Poisson()).fit()\n",
    "ulsan_amount_humidity = smf.glm(formula = \"rain_amount ~ humidity\", data = ulsan, family = sm.families.Poisson()).fit()\n",
    "ulsan_amount_vapor_pressure = smf.glm(formula = \"rain_amount ~ vapor_pressure\", data = ulsan, family = sm.families.Poisson()).fit()\n",
    "ulsan_amount_dew_point_temperature = smf.glm(formula = \"rain_amount ~ dew_point_temperature\", data = ulsan, family = sm.families.Poisson()).fit()\n",
    "ulsan_amount_local_pressure = smf.glm(formula = \"rain_amount ~ local_pressure\", data = ulsan, family = sm.families.Poisson()).fit()\n",
    "ulsan_amount_sea_level_pressure = smf.glm(formula = \"rain_amount ~ sea_level_pressure\", data = ulsan, family = sm.families.Poisson()).fit()\n",
    "ulsan_amount_sunshine = smf.glm(formula = \"rain_amount ~ sunshine\", data = ulsan, family = sm.families.Poisson()).fit()\n",
    "ulsan_amount_solar = smf.glm(formula = \"rain_amount ~ solar\", data = ulsan, family = sm.families.Poisson()).fit()\n",
    "ulsan_amount_total_amount_of_cloud = smf.glm(formula = \"rain_amount ~ total_amount_of_cloud\", data = ulsan, family = sm.families.Poisson()).fit()\n",
    "ulsan_amount_low_middle_level_clouds = smf.glm(formula = \"rain_amount ~ low_middle_level_clouds\", data = ulsan, family = sm.families.Poisson()).fit()\n",
    "ulsan_amount_minimum_cloud_height = smf.glm(formula = \"rain_amount ~ minimum_cloud_height\", data = ulsan, family = sm.families.Poisson()).fit()\n",
    "ulsan_amount_visibility = smf.glm(formula = \"rain_amount ~ visibility\", data = ulsan, family = sm.families.Poisson()).fit()\n",
    "ulsan_amount_ground_temperature = smf.glm(formula = \"rain_amount ~ ground_temperature\", data = ulsan, family = sm.families.Poisson()).fit()\n",
    "ulsan_amount_ground_temperature_5cm = smf.glm(formula = \"rain_amount ~ ground_temperature_5cm\", data = ulsan, family = sm.families.Poisson()).fit()\n",
    "ulsan_amount_ground_temperature_10cm = smf.glm(formula = \"rain_amount ~ ground_temperature_10cm\", data = ulsan, family = sm.families.Poisson()).fit()\n",
    "ulsan_amount_ground_temperature_20cm = smf.glm(formula = \"rain_amount ~ ground_temperature_20cm\", data = ulsan, family = sm.families.Poisson()).fit()\n",
    "ulsan_amount_ground_temperature_30cm = smf.glm(formula = \"rain_amount ~ ground_temperature_30cm\", data = ulsan, family = sm.families.Poisson()).fit()\n",
    "\n",
    "\n",
    "yangsan_amount_temperature = smf.glm(formula = \"rain_amount ~ temperature\", data = yangsan, family = sm.families.Poisson()).fit()\n",
    "yangsan_amount_wind_speed = smf.glm(formula = \"rain_amount ~ wind_speed\", data = yangsan, family = sm.families.Poisson()).fit()\n",
    "yangsan_amount_wind_direction = smf.glm(formula = \"rain_amount ~ wind_direction\", data = yangsan, family = sm.families.Poisson()).fit()\n",
    "yangsan_amount_humidity = smf.glm(formula = \"rain_amount ~ humidity\", data = yangsan, family = sm.families.Poisson()).fit()\n",
    "yangsan_amount_vapor_pressure = smf.glm(formula = \"rain_amount ~ vapor_pressure\", data = yangsan, family = sm.families.Poisson()).fit()\n",
    "yangsan_amount_dew_point_temperature = smf.glm(formula = \"rain_amount ~ dew_point_temperature\", data = yangsan, family = sm.families.Poisson()).fit()\n",
    "yangsan_amount_local_pressure = smf.glm(formula = \"rain_amount ~ local_pressure\", data = yangsan, family = sm.families.Poisson()).fit()\n",
    "yangsan_amount_sea_level_pressure = smf.glm(formula = \"rain_amount ~ sea_level_pressure\", data = yangsan, family = sm.families.Poisson()).fit()\n",
    "yangsan_amount_sunshine = smf.glm(formula = \"rain_amount ~ sunshine\", data = yangsan, family = sm.families.Poisson()).fit()\n",
    "yangsan_amount_solar = smf.glm(formula = \"rain_amount ~ solar\", data = yangsan, family = sm.families.Poisson()).fit()\n",
    "yangsan_amount_total_amount_of_cloud = smf.glm(formula = \"rain_amount ~ total_amount_of_cloud\", data = yangsan, family = sm.families.Poisson()).fit()\n",
    "yangsan_amount_low_middle_level_clouds = smf.glm(formula = \"rain_amount ~ low_middle_level_clouds\", data = yangsan, family = sm.families.Poisson()).fit()\n",
    "yangsan_amount_minimum_cloud_height = smf.glm(formula = \"rain_amount ~ minimum_cloud_height\", data = yangsan, family = sm.families.Poisson()).fit()\n",
    "yangsan_amount_visibility = smf.glm(formula = \"rain_amount ~ visibility\", data = yangsan, family = sm.families.Poisson()).fit()\n",
    "yangsan_amount_ground_temperature = smf.glm(formula = \"rain_amount ~ ground_temperature\", data = yangsan, family = sm.families.Poisson()).fit()\n",
    "yangsan_amount_ground_temperature_5cm = smf.glm(formula = \"rain_amount ~ ground_temperature_5cm\", data = yangsan, family = sm.families.Poisson()).fit()\n",
    "yangsan_amount_ground_temperature_10cm = smf.glm(formula = \"rain_amount ~ ground_temperature_10cm\", data = yangsan, family = sm.families.Poisson()).fit()\n",
    "yangsan_amount_ground_temperature_20cm = smf.glm(formula = \"rain_amount ~ ground_temperature_20cm\", data = yangsan, family = sm.families.Poisson()).fit()\n",
    "yangsan_amount_ground_temperature_30cm = smf.glm(formula = \"rain_amount ~ ground_temperature_30cm\", data = yangsan, family = sm.families.Poisson()).fit()"
   ]
  },
  {
   "cell_type": "markdown",
   "metadata": {},
   "source": [
    "### 2-2) 각 독립변수에 대한 AIC값"
   ]
  },
  {
   "cell_type": "code",
   "execution_count": 29,
   "metadata": {},
   "outputs": [],
   "source": [
    "seoul_amount_aic = [seoul_amount_temperature.aic, seoul_amount_wind_speed.aic, seoul_amount_wind_direction.aic, seoul_amount_humidity.aic, \n",
    "                    seoul_amount_vapor_pressure.aic, seoul_amount_dew_point_temperature.aic, seoul_amount_local_pressure.aic, \n",
    "                    seoul_amount_sea_level_pressure.aic, seoul_amount_sunshine.aic, seoul_amount_solar.aic, \n",
    "                    seoul_amount_total_amount_of_cloud.aic, seoul_amount_low_middle_level_clouds.aic, \n",
    "                    seoul_amount_minimum_cloud_height.aic, seoul_amount_visibility.aic, seoul_amount_ground_temperature.aic, \n",
    "                    seoul_amount_ground_temperature_5cm.aic, seoul_amount_ground_temperature_10cm.aic, \n",
    "                    seoul_amount_ground_temperature_20cm.aic, seoul_amount_ground_temperature_30cm.aic]\n",
    "\n",
    "ulsan_amount_aic = [ulsan_amount_temperature.aic, ulsan_amount_wind_speed.aic, ulsan_amount_wind_direction.aic, ulsan_amount_humidity.aic, \n",
    "                    ulsan_amount_vapor_pressure.aic, ulsan_amount_dew_point_temperature.aic, ulsan_amount_local_pressure.aic, \n",
    "                    ulsan_amount_sea_level_pressure.aic, ulsan_amount_sunshine.aic, ulsan_amount_solar.aic, \n",
    "                    ulsan_amount_total_amount_of_cloud.aic, ulsan_amount_low_middle_level_clouds.aic, \n",
    "                    ulsan_amount_minimum_cloud_height.aic, ulsan_amount_visibility.aic, ulsan_amount_ground_temperature.aic, \n",
    "                    ulsan_amount_ground_temperature_5cm.aic, ulsan_amount_ground_temperature_10cm.aic, \n",
    "                    ulsan_amount_ground_temperature_20cm.aic, ulsan_amount_ground_temperature_30cm.aic]\n",
    "\n",
    "yangsan_amount_aic = [yangsan_amount_temperature.aic, yangsan_amount_wind_speed.aic, yangsan_amount_wind_direction.aic, \n",
    "                      yangsan_amount_humidity.aic, yangsan_amount_vapor_pressure.aic, yangsan_amount_dew_point_temperature.aic, \n",
    "                      yangsan_amount_local_pressure.aic, yangsan_amount_sea_level_pressure.aic, yangsan_amount_sunshine.aic, \n",
    "                      yangsan_amount_solar.aic, yangsan_amount_total_amount_of_cloud.aic, yangsan_amount_low_middle_level_clouds.aic, \n",
    "                      yangsan_amount_minimum_cloud_height.aic, yangsan_amount_visibility.aic, yangsan_amount_ground_temperature.aic, \n",
    "                      yangsan_amount_ground_temperature_5cm.aic, yangsan_amount_ground_temperature_10cm.aic, \n",
    "                      yangsan_amount_ground_temperature_20cm.aic, yangsan_amount_ground_temperature_30cm.aic]"
   ]
  },
  {
   "cell_type": "code",
   "execution_count": 30,
   "metadata": {},
   "outputs": [
    {
     "name": "stdout",
     "output_type": "stream",
     "text": [
      "1 30037.989622632755\n",
      "2 30625.715684196402\n",
      "3 30578.269652387793\n",
      "4 14232.564951100294    smallest\n",
      "5 25753.43114149139\n",
      "6 25471.777999280486\n",
      "7 30996.251117965763    biggest\n",
      "8 30991.223261321255\n",
      "9 28147.685423170922\n",
      "10 29107.91335699957\n",
      "11 19345.75383671134\n",
      "12 24521.926448002596\n",
      "13 30788.5769470085\n",
      "14 23130.48143180382\n",
      "15 30733.452700521753\n",
      "16 30001.67383833833\n",
      "17 29657.127690352296\n",
      "18 29405.494426980717\n",
      "19 29202.47027590686\n"
     ]
    }
   ],
   "source": [
    "small7 = min(seoul_amount_aic)\n",
    "big7 = max(seoul_amount_aic)\n",
    "for i in range(len(seoul_amount_aic)):\n",
    "    if seoul_amount_aic[i] == small7:\n",
    "        print(i+1, seoul_amount_aic[i],'   smallest')\n",
    "    elif seoul_amount_aic[i] == big7:\n",
    "        print(i+1, seoul_amount_aic[i], '   biggest')\n",
    "    else:\n",
    "        print(i+1, seoul_amount_aic[i])"
   ]
  },
  {
   "cell_type": "code",
   "execution_count": 31,
   "metadata": {},
   "outputs": [
    {
     "name": "stdout",
     "output_type": "stream",
     "text": [
      "1 33663.02986895891\n",
      "2 32302.7281434666\n",
      "3 34241.7846779099\n",
      "4 20097.336212323855    smallest\n",
      "5 30996.430873279296\n",
      "6 30302.267160576026\n",
      "7 1420691360518461.2    biggest\n",
      "8 3556712.2336732466\n",
      "9 31051.691856576304\n",
      "10 34593.806887603714\n",
      "11 21655.49096435017\n",
      "12 26203.207065985618\n",
      "13 34020.260469452835\n",
      "14 22488.60273449905\n",
      "15 33867.974382036016\n",
      "16 34593.806887603714\n",
      "17 34593.806887603714\n",
      "18 34593.806887603714\n",
      "19 34593.806887603714\n"
     ]
    }
   ],
   "source": [
    "small8 = min(ulsan_amount_aic)\n",
    "big8 = max(ulsan_amount_aic)\n",
    "for i in range(len(ulsan_amount_aic)):\n",
    "    if ulsan_amount_aic[i] == small8:\n",
    "        print(i+1, ulsan_amount_aic[i],'   smallest')\n",
    "    elif ulsan_amount_aic[i] == big8:\n",
    "        print(i+1, ulsan_amount_aic[i], '   biggest')\n",
    "    else:\n",
    "        print(i+1, ulsan_amount_aic[i])"
   ]
  },
  {
   "cell_type": "code",
   "execution_count": 32,
   "metadata": {},
   "outputs": [
    {
     "name": "stdout",
     "output_type": "stream",
     "text": [
      "1 37964.91600006829\n",
      "2 35735.30872288439\n",
      "3 39049.850803278205\n",
      "4 23986.231907168032    smallest\n",
      "5 33825.355417618965\n",
      "6 33245.71417196817\n",
      "7 39333.10055276525    biggest\n",
      "8 39326.37224237056\n",
      "9 35875.37378658414\n",
      "10 37078.25994564577\n",
      "11 34041.003346815436\n",
      "12 37401.80011246492\n",
      "13 39018.22260586629\n",
      "14 27658.876905730853\n",
      "15 38870.87135996817\n",
      "16 38252.39596156751\n",
      "17 38201.506426166416\n",
      "18 37769.8561474163\n",
      "19 37531.28572640942\n"
     ]
    }
   ],
   "source": [
    "small9 = min(yangsan_amount_aic)\n",
    "big9 = max(yangsan_amount_aic)\n",
    "for i in range(len(yangsan_amount_aic)):\n",
    "    if yangsan_amount_aic[i] == small9:\n",
    "        print(i+1, yangsan_amount_aic[i],'   smallest')\n",
    "    elif yangsan_amount_aic[i] == big9:\n",
    "        print(i+1, yangsan_amount_aic[i], '   biggest')\n",
    "    else:\n",
    "        print(i+1, yangsan_amount_aic[i])"
   ]
  },
  {
   "cell_type": "markdown",
   "metadata": {},
   "source": [
    "#### 지역별로 AIC 순위 비교하기"
   ]
  },
  {
   "cell_type": "code",
   "execution_count": 33,
   "metadata": {},
   "outputs": [],
   "source": [
    "seoul_amount_array = (['humidity', 'total_amount_of_cloud', 'visibility', 'low_middle_level_clouds', 'dew_point_temperature', \n",
    "                       'vapor_pressure','sunshine', 'solar', 'ground_temperature_30cm', 'ground_temperature_20cm', \n",
    "                       'ground_temperature_10cm', 'ground_temperature_5cm', 'temperature', 'wind_direction', 'wind_speed', \n",
    "                       'ground_temperature', 'minimum_cloud_height', 'sea_level_pressure', 'local_pressure'])\n",
    "\n",
    "ulsan_amount_array = (['humidity', 'total_amount_of_cloud', 'visibility', 'low_middle_level_clouds', 'dew_point_temperature', \n",
    "                       'vapor_pressure', 'sunshine', 'wind_speed', 'temperature', 'ground_temperature', 'minimum_cloud_height', \n",
    "                       'wind_direction', ('solar', 'ground_temperature_5cm', 'ground_temperature_10cm', 'ground_temperature_20cm', \n",
    "                       'ground_temperature_30cm'), '', '','', '', 'sea_level_pressure', 'local_pressure'])\n",
    "\n",
    "yangsan_amount_array= (['humidity', 'visibility', 'dew_point_temperature', 'vapor_pressure', 'total_amount_of_cloud', 'wind_speed', \n",
    "                        'sunshine', 'solar', 'low_middle_level_clouds', 'ground_temperature_30cm', 'ground_temperature_20cm', \n",
    "                        'temperature','ground_temperature_10cm', 'ground_temperature_5cm', 'ground_temperature', 'minimum_cloud_height', \n",
    "                        'wind_direction', 'sea_level_pressure', 'local_pressure'])"
   ]
  },
  {
   "cell_type": "code",
   "execution_count": 34,
   "metadata": {},
   "outputs": [
    {
     "data": {
      "text/html": [
       "<div>\n",
       "<style scoped>\n",
       "    .dataframe tbody tr th:only-of-type {\n",
       "        vertical-align: middle;\n",
       "    }\n",
       "\n",
       "    .dataframe tbody tr th {\n",
       "        vertical-align: top;\n",
       "    }\n",
       "\n",
       "    .dataframe thead th {\n",
       "        text-align: right;\n",
       "    }\n",
       "</style>\n",
       "<table border=\"1\" class=\"dataframe\">\n",
       "  <thead>\n",
       "    <tr style=\"text-align: right;\">\n",
       "      <th></th>\n",
       "      <th>seoul</th>\n",
       "      <th>ulsan</th>\n",
       "      <th>yangsan</th>\n",
       "    </tr>\n",
       "  </thead>\n",
       "  <tbody>\n",
       "    <tr>\n",
       "      <th>0</th>\n",
       "      <td>humidity</td>\n",
       "      <td>humidity</td>\n",
       "      <td>humidity</td>\n",
       "    </tr>\n",
       "    <tr>\n",
       "      <th>1</th>\n",
       "      <td>total_amount_of_cloud</td>\n",
       "      <td>total_amount_of_cloud</td>\n",
       "      <td>visibility</td>\n",
       "    </tr>\n",
       "    <tr>\n",
       "      <th>2</th>\n",
       "      <td>visibility</td>\n",
       "      <td>visibility</td>\n",
       "      <td>dew_point_temperature</td>\n",
       "    </tr>\n",
       "    <tr>\n",
       "      <th>3</th>\n",
       "      <td>low_middle_level_clouds</td>\n",
       "      <td>low_middle_level_clouds</td>\n",
       "      <td>vapor_pressure</td>\n",
       "    </tr>\n",
       "    <tr>\n",
       "      <th>4</th>\n",
       "      <td>dew_point_temperature</td>\n",
       "      <td>dew_point_temperature</td>\n",
       "      <td>total_amount_of_cloud</td>\n",
       "    </tr>\n",
       "    <tr>\n",
       "      <th>5</th>\n",
       "      <td>vapor_pressure</td>\n",
       "      <td>vapor_pressure</td>\n",
       "      <td>wind_speed</td>\n",
       "    </tr>\n",
       "    <tr>\n",
       "      <th>6</th>\n",
       "      <td>sunshine</td>\n",
       "      <td>sunshine</td>\n",
       "      <td>sunshine</td>\n",
       "    </tr>\n",
       "    <tr>\n",
       "      <th>7</th>\n",
       "      <td>solar</td>\n",
       "      <td>wind_speed</td>\n",
       "      <td>solar</td>\n",
       "    </tr>\n",
       "    <tr>\n",
       "      <th>8</th>\n",
       "      <td>ground_temperature_30cm</td>\n",
       "      <td>temperature</td>\n",
       "      <td>low_middle_level_clouds</td>\n",
       "    </tr>\n",
       "    <tr>\n",
       "      <th>9</th>\n",
       "      <td>ground_temperature_20cm</td>\n",
       "      <td>ground_temperature</td>\n",
       "      <td>ground_temperature_30cm</td>\n",
       "    </tr>\n",
       "    <tr>\n",
       "      <th>10</th>\n",
       "      <td>ground_temperature_10cm</td>\n",
       "      <td>minimum_cloud_height</td>\n",
       "      <td>ground_temperature_20cm</td>\n",
       "    </tr>\n",
       "    <tr>\n",
       "      <th>11</th>\n",
       "      <td>ground_temperature_5cm</td>\n",
       "      <td>wind_direction</td>\n",
       "      <td>temperature</td>\n",
       "    </tr>\n",
       "    <tr>\n",
       "      <th>12</th>\n",
       "      <td>temperature</td>\n",
       "      <td>(solar, ground_temperature_5cm, ground_tempera...</td>\n",
       "      <td>ground_temperature_10cm</td>\n",
       "    </tr>\n",
       "    <tr>\n",
       "      <th>13</th>\n",
       "      <td>wind_direction</td>\n",
       "      <td></td>\n",
       "      <td>ground_temperature_5cm</td>\n",
       "    </tr>\n",
       "    <tr>\n",
       "      <th>14</th>\n",
       "      <td>wind_speed</td>\n",
       "      <td></td>\n",
       "      <td>ground_temperature</td>\n",
       "    </tr>\n",
       "    <tr>\n",
       "      <th>15</th>\n",
       "      <td>ground_temperature</td>\n",
       "      <td></td>\n",
       "      <td>minimum_cloud_height</td>\n",
       "    </tr>\n",
       "    <tr>\n",
       "      <th>16</th>\n",
       "      <td>minimum_cloud_height</td>\n",
       "      <td></td>\n",
       "      <td>wind_direction</td>\n",
       "    </tr>\n",
       "    <tr>\n",
       "      <th>17</th>\n",
       "      <td>sea_level_pressure</td>\n",
       "      <td>sea_level_pressure</td>\n",
       "      <td>sea_level_pressure</td>\n",
       "    </tr>\n",
       "    <tr>\n",
       "      <th>18</th>\n",
       "      <td>local_pressure</td>\n",
       "      <td>local_pressure</td>\n",
       "      <td>local_pressure</td>\n",
       "    </tr>\n",
       "  </tbody>\n",
       "</table>\n",
       "</div>"
      ],
      "text/plain": [
       "                      seoul  \\\n",
       "0                  humidity   \n",
       "1     total_amount_of_cloud   \n",
       "2                visibility   \n",
       "3   low_middle_level_clouds   \n",
       "4     dew_point_temperature   \n",
       "5            vapor_pressure   \n",
       "6                  sunshine   \n",
       "7                     solar   \n",
       "8   ground_temperature_30cm   \n",
       "9   ground_temperature_20cm   \n",
       "10  ground_temperature_10cm   \n",
       "11   ground_temperature_5cm   \n",
       "12              temperature   \n",
       "13           wind_direction   \n",
       "14               wind_speed   \n",
       "15       ground_temperature   \n",
       "16     minimum_cloud_height   \n",
       "17       sea_level_pressure   \n",
       "18           local_pressure   \n",
       "\n",
       "                                                ulsan                  yangsan  \n",
       "0                                            humidity                 humidity  \n",
       "1                               total_amount_of_cloud               visibility  \n",
       "2                                          visibility    dew_point_temperature  \n",
       "3                             low_middle_level_clouds           vapor_pressure  \n",
       "4                               dew_point_temperature    total_amount_of_cloud  \n",
       "5                                      vapor_pressure               wind_speed  \n",
       "6                                            sunshine                 sunshine  \n",
       "7                                          wind_speed                    solar  \n",
       "8                                         temperature  low_middle_level_clouds  \n",
       "9                                  ground_temperature  ground_temperature_30cm  \n",
       "10                               minimum_cloud_height  ground_temperature_20cm  \n",
       "11                                     wind_direction              temperature  \n",
       "12  (solar, ground_temperature_5cm, ground_tempera...  ground_temperature_10cm  \n",
       "13                                                      ground_temperature_5cm  \n",
       "14                                                          ground_temperature  \n",
       "15                                                        minimum_cloud_height  \n",
       "16                                                              wind_direction  \n",
       "17                                 sea_level_pressure       sea_level_pressure  \n",
       "18                                     local_pressure           local_pressure  "
      ]
     },
     "metadata": {},
     "output_type": "display_data"
    }
   ],
   "source": [
    "dict_amount_region = {'seoul':seoul_amount_array, 'ulsan': ulsan_amount_array, 'yangsan': yangsan_amount_array}\n",
    "display(pd.DataFrame(dict_amount_region))"
   ]
  },
  {
   "cell_type": "markdown",
   "metadata": {},
   "source": [
    "이에 대한 분석은 결론에서 말할 예정"
   ]
  },
  {
   "cell_type": "markdown",
   "metadata": {},
   "source": [
    "### 2-3) AIC를 기준으로 모델 생성\n",
    "null 모델부터 시작하여 AIC값이 작은것부터 차례로 변수를 더해가며 모델을 만들었습니다."
   ]
  },
  {
   "cell_type": "code",
   "execution_count": 35,
   "metadata": {},
   "outputs": [],
   "source": [
    "seoul_amount_null = smf.glm(formula = \"rain_amount ~ 1\", data = seoul, family = sm.families.Poisson()).fit()\n",
    "seoul_amount1 = smf.glm(formula = \"rain_amount ~ humidity\", data = seoul, family = sm.families.Poisson()).fit()\n",
    "seoul_amount2 = smf.glm(formula = \"rain_amount ~ humidity + total_amount_of_cloud\", data = seoul, family = sm.families.Poisson()).fit()\n",
    "seoul_amount3 = smf.glm(formula = \"rain_amount ~ humidity + total_amount_of_cloud + visibility\", data = seoul, family = sm.families.Poisson()).fit()\n",
    "seoul_amount4 = smf.glm(formula = \"rain_amount ~ humidity + total_amount_of_cloud + visibility + low_middle_level_clouds\", data = seoul, family = sm.families.Poisson()).fit()\n",
    "seoul_amount5 = smf.glm(formula = \"rain_amount ~ humidity + total_amount_of_cloud + visibility + low_middle_level_clouds + dew_point_temperature\", data = seoul, family = sm.families.Poisson()).fit()\n",
    "seoul_amount6 = smf.glm(formula = \"rain_amount ~ humidity + total_amount_of_cloud + visibility + low_middle_level_clouds + dew_point_temperature + vapor_pressure\", data = seoul, family = sm.families.Poisson()).fit()\n",
    "seoul_amount7 = smf.glm(formula = \"rain_amount ~ humidity + total_amount_of_cloud + visibility + low_middle_level_clouds + dew_point_temperature + vapor_pressure + sunshine\", data = seoul, family = sm.families.Poisson()).fit()\n",
    "seoul_amount8 = smf.glm(formula = \"rain_amount ~ humidity + total_amount_of_cloud + visibility + low_middle_level_clouds + dew_point_temperature + vapor_pressure + sunshine + solar\", data = seoul, family = sm.families.Poisson()).fit()\n",
    "seoul_amount9 = smf.glm(formula = \"rain_amount ~ humidity + total_amount_of_cloud + visibility + low_middle_level_clouds + dew_point_temperature + vapor_pressure + sunshine + solar + ground_temperature_30cm\", data = seoul, family = sm.families.Poisson()).fit()\n",
    "seoul_amount10 = smf.glm(formula = \"rain_amount ~ humidity + total_amount_of_cloud + visibility + low_middle_level_clouds + dew_point_temperature + vapor_pressure + sunshine + solar + ground_temperature_30cm + ground_temperature_20cm\", data = seoul, family = sm.families.Poisson()).fit()\n",
    "seoul_amount11 = smf.glm(formula = \"rain_amount ~ humidity + total_amount_of_cloud + visibility + low_middle_level_clouds + dew_point_temperature + vapor_pressure + sunshine + solar + ground_temperature_30cm + ground_temperature_20cm + ground_temperature_10cm\", data = seoul, family = sm.families.Poisson()).fit()\n",
    "seoul_amount12 = smf.glm(formula = \"rain_amount ~ humidity + total_amount_of_cloud + visibility + low_middle_level_clouds + dew_point_temperature + vapor_pressure + sunshine + solar + ground_temperature_30cm + ground_temperature_20cm + ground_temperature_10cm + ground_temperature_5cm\", data = seoul, family = sm.families.Poisson()).fit()\n",
    "seoul_amount13 = smf.glm(formula = \"rain_amount ~ humidity + total_amount_of_cloud + visibility + low_middle_level_clouds + dew_point_temperature + vapor_pressure + sunshine + solar + ground_temperature_30cm + ground_temperature_20cm + ground_temperature_10cm + ground_temperature_5cm + temperature\", data = seoul, family = sm.families.Poisson()).fit()\n",
    "seoul_amount14 = smf.glm(formula = \"rain_amount ~ humidity + total_amount_of_cloud + visibility + low_middle_level_clouds + dew_point_temperature + vapor_pressure + sunshine + solar + ground_temperature_30cm + ground_temperature_20cm + ground_temperature_10cm + ground_temperature_5cm + temperature + wind_direction\", data = seoul, family = sm.families.Poisson()).fit()\n",
    "seoul_amount15 = smf.glm(formula = \"rain_amount ~ humidity + total_amount_of_cloud + visibility + low_middle_level_clouds + dew_point_temperature + vapor_pressure + sunshine + solar + ground_temperature_30cm + ground_temperature_20cm + ground_temperature_10cm + ground_temperature_5cm + temperature + wind_direction + wind_speed\", data = seoul, family = sm.families.Poisson()).fit()\n",
    "seoul_amount16 = smf.glm(formula = \"rain_amount ~ humidity + total_amount_of_cloud + visibility + low_middle_level_clouds + dew_point_temperature + vapor_pressure + sunshine + solar + ground_temperature_30cm + ground_temperature_20cm + ground_temperature_10cm + ground_temperature_5cm + temperature + wind_direction + wind_speed + ground_temperature\", data = seoul, family = sm.families.Poisson()).fit()\n",
    "seoul_amount17 = smf.glm(formula = \"rain_amount ~ humidity + total_amount_of_cloud + visibility + low_middle_level_clouds + dew_point_temperature + vapor_pressure + sunshine + solar + ground_temperature_30cm + ground_temperature_20cm + ground_temperature_10cm + ground_temperature_5cm + temperature + wind_direction + wind_speed + ground_temperature + minimum_cloud_height\", data = seoul, family = sm.families.Poisson()).fit()\n",
    "seoul_amount18 = smf.glm(formula = \"rain_amount ~ humidity + total_amount_of_cloud + visibility + low_middle_level_clouds + dew_point_temperature + vapor_pressure + sunshine + solar + ground_temperature_30cm + ground_temperature_20cm + ground_temperature_10cm + ground_temperature_5cm + temperature + wind_direction + wind_speed + ground_temperature + minimum_cloud_height + sea_level_pressure\", data = seoul, family = sm.families.Poisson()).fit()\n",
    "seoul_amount19 = smf.glm(formula = \"rain_amount ~ humidity + total_amount_of_cloud + visibility + low_middle_level_clouds + dew_point_temperature + vapor_pressure + sunshine + solar + ground_temperature_30cm + ground_temperature_20cm + ground_temperature_10cm + ground_temperature_5cm + temperature + wind_direction + wind_speed + ground_temperature + minimum_cloud_height + sea_level_pressure + local_pressure\", data = seoul, family = sm.families.Poisson()).fit()"
   ]
  },
  {
   "cell_type": "code",
   "execution_count": 36,
   "metadata": {},
   "outputs": [],
   "source": [
    "ulsan_amount_null = smf.glm(formula = \"rain_amount ~ 1\", data = ulsan, family = sm.families.Poisson()).fit()\n",
    "ulsan_amount1 = smf.glm(formula = \"rain_amount ~ humidity\", data = ulsan, family = sm.families.Poisson()).fit()\n",
    "ulsan_amount2 = smf.glm(formula = \"rain_amount ~ humidity + total_amount_of_cloud\", data = ulsan, family = sm.families.Poisson()).fit()\n",
    "ulsan_amount3 = smf.glm(formula = \"rain_amount ~ humidity + total_amount_of_cloud + visibility\", data = ulsan, family = sm.families.Poisson()).fit()\n",
    "ulsan_amount4 = smf.glm(formula = \"rain_amount ~ humidity + total_amount_of_cloud + visibility + low_middle_level_clouds\", data = ulsan, family = sm.families.Poisson()).fit()\n",
    "ulsan_amount5 = smf.glm(formula = \"rain_amount ~ humidity + total_amount_of_cloud + visibility + low_middle_level_clouds + dew_point_temperature\", data = ulsan, family = sm.families.Poisson()).fit()\n",
    "ulsan_amount6 = smf.glm(formula = \"rain_amount ~ humidity + total_amount_of_cloud + visibility + low_middle_level_clouds + dew_point_temperature + vapor_pressure\", data = ulsan, family = sm.families.Poisson()).fit()\n",
    "ulsan_amount7 = smf.glm(formula = \"rain_amount ~ humidity + total_amount_of_cloud + visibility + low_middle_level_clouds + dew_point_temperature + vapor_pressure + sunshine\", data = ulsan, family = sm.families.Poisson()).fit()\n",
    "ulsan_amount8 = smf.glm(formula = \"rain_amount ~ humidity + total_amount_of_cloud + visibility + low_middle_level_clouds + dew_point_temperature + vapor_pressure + sunshine + wind_speed\", data = ulsan, family = sm.families.Poisson()).fit()\n",
    "ulsan_amount9 = smf.glm(formula = \"rain_amount ~ humidity + total_amount_of_cloud + visibility + low_middle_level_clouds + dew_point_temperature + vapor_pressure + sunshine + wind_speed + temperature\", data = ulsan, family = sm.families.Poisson()).fit()\n",
    "ulsan_amount10 = smf.glm(formula = \"rain_amount ~ humidity + total_amount_of_cloud + visibility + low_middle_level_clouds + dew_point_temperature + vapor_pressure + sunshine + wind_speed + temperature + ground_temperature\", data = ulsan, family = sm.families.Poisson()).fit()\n",
    "ulsan_amount11 = smf.glm(formula = \"rain_amount ~ humidity + total_amount_of_cloud + visibility + low_middle_level_clouds + dew_point_temperature + vapor_pressure + sunshine + wind_speed + temperature + ground_temperature + minimum_cloud_height\", data = ulsan, family = sm.families.Poisson()).fit()\n",
    "ulsan_amount12 = smf.glm(formula = \"rain_amount ~ humidity + total_amount_of_cloud + visibility + low_middle_level_clouds + dew_point_temperature + vapor_pressure + sunshine + wind_speed + temperature + ground_temperature + minimum_cloud_height + wind_direction\", data = ulsan, family = sm.families.Poisson()).fit()\n",
    "ulsan_amount13 = smf.glm(formula = \"rain_amount ~ humidity + total_amount_of_cloud + visibility + low_middle_level_clouds + dew_point_temperature + vapor_pressure + sunshine + wind_speed + temperature + ground_temperature + minimum_cloud_height + wind_direction + solar + ground_temperature_5cm + ground_temperature_10cm + ground_temperature_20cm + ground_temperature_30cm\", data = ulsan, family = sm.families.Poisson()).fit()\n",
    "ulsan_amount14 = smf.glm(formula = \"rain_amount ~ humidity + total_amount_of_cloud + visibility + low_middle_level_clouds + dew_point_temperature + vapor_pressure + sunshine + wind_speed + temperature + ground_temperature + minimum_cloud_height + wind_direction + solar + ground_temperature_5cm + ground_temperature_10cm + ground_temperature_20cm + ground_temperature_30cm + sea_level_pressure\", data = ulsan, family = sm.families.Poisson()).fit()\n",
    "ulsan_amount15 = smf.glm(formula = \"rain_amount ~ humidity + total_amount_of_cloud + visibility + low_middle_level_clouds + dew_point_temperature + vapor_pressure + sunshine + wind_speed + temperature + ground_temperature + minimum_cloud_height + wind_direction + solar + ground_temperature_5cm + ground_temperature_10cm + ground_temperature_20cm + ground_temperature_30cm + sea_level_pressure + local_pressure\", data = ulsan, family = sm.families.Poisson()).fit()"
   ]
  },
  {
   "cell_type": "code",
   "execution_count": 37,
   "metadata": {},
   "outputs": [],
   "source": [
    "yangsan_amount_null = smf.glm(formula = \"rain_amount ~ 1\", data = yangsan, family = sm.families.Poisson()).fit()\n",
    "yangsan_amount1 = smf.glm(formula = \"rain_amount ~ humidity\", data = yangsan, family = sm.families.Poisson()).fit()\n",
    "yangsan_amount2 = smf.glm(formula = \"rain_amount ~ humidity + visibility\", data = yangsan, family = sm.families.Poisson()).fit()\n",
    "yangsan_amount3 = smf.glm(formula = \"rain_amount ~ humidity + visibility + dew_point_temperature\", data = yangsan, family = sm.families.Poisson()).fit()\n",
    "yangsan_amount4 = smf.glm(formula = \"rain_amount ~ humidity + visibility + dew_point_temperature + vapor_pressure\", data = yangsan, family = sm.families.Poisson()).fit()\n",
    "yangsan_amount5 = smf.glm(formula = \"rain_amount ~ humidity + visibility + dew_point_temperature + vapor_pressure + total_amount_of_cloud\", data = yangsan, family = sm.families.Poisson()).fit()\n",
    "yangsan_amount6 = smf.glm(formula = \"rain_amount ~ humidity + visibility + dew_point_temperature + vapor_pressure + total_amount_of_cloud + wind_speed\", data = yangsan, family = sm.families.Poisson()).fit()\n",
    "yangsan_amount7 = smf.glm(formula = \"rain_amount ~ humidity + visibility + dew_point_temperature + vapor_pressure + total_amount_of_cloud + wind_speed + sunshine\", data = yangsan, family = sm.families.Poisson()).fit()\n",
    "yangsan_amount8 = smf.glm(formula = \"rain_amount ~ humidity + visibility + dew_point_temperature + vapor_pressure + total_amount_of_cloud + wind_speed + sunshine + solar\", data = yangsan, family = sm.families.Poisson()).fit()\n",
    "yangsan_amount9 = smf.glm(formula = \"rain_amount ~ humidity + visibility + dew_point_temperature + vapor_pressure + total_amount_of_cloud + wind_speed + sunshine + solar + low_middle_level_clouds\", data = yangsan, family = sm.families.Poisson()).fit()\n",
    "yangsan_amount10 = smf.glm(formula = \"rain_amount ~ humidity + visibility + dew_point_temperature + vapor_pressure + total_amount_of_cloud + wind_speed + sunshine + solar + low_middle_level_clouds + ground_temperature_30cm\", data = yangsan, family = sm.families.Poisson()).fit()\n",
    "yangsan_amount11 = smf.glm(formula = \"rain_amount ~ humidity + visibility + dew_point_temperature + vapor_pressure + total_amount_of_cloud + wind_speed + sunshine + solar + low_middle_level_clouds + ground_temperature_30cm + ground_temperature_20cm\", data = yangsan, family = sm.families.Poisson()).fit()\n",
    "yangsan_amount12 = smf.glm(formula = \"rain_amount ~ humidity + visibility + dew_point_temperature + vapor_pressure + total_amount_of_cloud + wind_speed + sunshine + solar + low_middle_level_clouds + ground_temperature_30cm + ground_temperature_20cm + temperature\", data = yangsan, family = sm.families.Poisson()).fit()\n",
    "yangsan_amount13 = smf.glm(formula = \"rain_amount ~ humidity + visibility + dew_point_temperature + vapor_pressure + total_amount_of_cloud + wind_speed + sunshine + solar + low_middle_level_clouds + ground_temperature_30cm + ground_temperature_20cm + temperature + ground_temperature_10cm\", data = yangsan, family = sm.families.Poisson()).fit()\n",
    "yangsan_amount14 = smf.glm(formula = \"rain_amount ~ humidity + visibility + dew_point_temperature + vapor_pressure + total_amount_of_cloud + wind_speed + sunshine + solar + low_middle_level_clouds + ground_temperature_30cm + ground_temperature_20cm + temperature + ground_temperature_10cm + ground_temperature_5cm\", data = yangsan, family = sm.families.Poisson()).fit()\n",
    "yangsan_amount15 = smf.glm(formula = \"rain_amount ~ humidity + visibility + dew_point_temperature + vapor_pressure + total_amount_of_cloud + wind_speed + sunshine + solar + low_middle_level_clouds + ground_temperature_30cm + ground_temperature_20cm + temperature + ground_temperature_10cm + ground_temperature_5cm + ground_temperature\", data = yangsan, family = sm.families.Poisson()).fit()\n",
    "yangsan_amount16 = smf.glm(formula = \"rain_amount ~ humidity + visibility + dew_point_temperature + vapor_pressure + total_amount_of_cloud + wind_speed + sunshine + solar + low_middle_level_clouds + ground_temperature_30cm + ground_temperature_20cm + temperature + ground_temperature_10cm + ground_temperature_5cm + ground_temperature + minimum_cloud_height\", data = yangsan, family = sm.families.Poisson()).fit()\n",
    "yangsan_amount17 = smf.glm(formula = \"rain_amount ~ humidity + visibility + dew_point_temperature + vapor_pressure + total_amount_of_cloud + wind_speed + sunshine + solar + low_middle_level_clouds + ground_temperature_30cm + ground_temperature_20cm + temperature + ground_temperature_10cm + ground_temperature_5cm + ground_temperature + minimum_cloud_height + wind_direction\", data = yangsan, family = sm.families.Poisson()).fit()\n",
    "yangsan_amount18 = smf.glm(formula = \"rain_amount ~ humidity + visibility + dew_point_temperature + vapor_pressure + total_amount_of_cloud + wind_speed + sunshine + solar + low_middle_level_clouds + ground_temperature_30cm + ground_temperature_20cm + temperature + ground_temperature_10cm + ground_temperature_5cm + ground_temperature + minimum_cloud_height + wind_direction + sea_level_pressure\", data = yangsan, family = sm.families.Poisson()).fit()\n",
    "yangsan_amount19 = smf.glm(formula = \"rain_amount ~ humidity + visibility + dew_point_temperature + vapor_pressure + total_amount_of_cloud + wind_speed + sunshine + solar + low_middle_level_clouds + ground_temperature_30cm + ground_temperature_20cm + temperature + ground_temperature_10cm + ground_temperature_5cm + ground_temperature + minimum_cloud_height + wind_direction + sea_level_pressure + local_pressure\", data = yangsan, family = sm.families.Poisson()).fit()"
   ]
  },
  {
   "cell_type": "markdown",
   "metadata": {},
   "source": [
    "### 2-4) 다변수 모델의 AIC값"
   ]
  },
  {
   "cell_type": "code",
   "execution_count": 38,
   "metadata": {},
   "outputs": [],
   "source": [
    "complete_amount_seoul_aic = [seoul_amount1.aic, seoul_amount2.aic, seoul_amount3.aic, seoul_amount4.aic, \n",
    "                             seoul_amount5.aic, seoul_amount6.aic, seoul_amount7.aic, seoul_amount8.aic, \n",
    "                             seoul_amount9.aic, seoul_amount10.aic, seoul_amount11.aic, seoul_amount12.aic, \n",
    "                             seoul_amount13.aic, seoul_amount14.aic, seoul_amount15.aic, seoul_amount16.aic, \n",
    "                             seoul_amount17.aic, seoul_amount18.aic, seoul_amount19.aic]\n",
    "\n",
    "complete_amount_ulsan_aic = [ulsan_amount1.aic, ulsan_amount2.aic, ulsan_amount3.aic, ulsan_amount4.aic, \n",
    "                             ulsan_amount5.aic, ulsan_amount6.aic, ulsan_amount7.aic, ulsan_amount8.aic, \n",
    "                             ulsan_amount9.aic, ulsan_amount10.aic, ulsan_amount11.aic, ulsan_amount12.aic, \n",
    "                             ulsan_amount13.aic, ulsan_amount14.aic, ulsan_amount15.aic]\n",
    "\n",
    "complete_amount_yangsan_aic = [yangsan_amount1.aic, yangsan_amount2.aic, yangsan_amount3.aic, \n",
    "                               yangsan_amount4.aic, yangsan_amount5.aic, yangsan_amount6.aic, \n",
    "                               yangsan_amount7.aic, yangsan_amount8.aic, yangsan_amount9.aic, \n",
    "                               yangsan_amount10.aic, yangsan_amount11.aic, yangsan_amount12.aic, \n",
    "                               yangsan_amount13.aic, yangsan_amount14.aic, yangsan_amount15.aic, \n",
    "                               yangsan_amount16.aic, yangsan_amount17.aic, yangsan_amount18.aic, \n",
    "                               yangsan_amount19.aic]"
   ]
  },
  {
   "cell_type": "markdown",
   "metadata": {},
   "source": [
    "### 2-5) AIC값이 가장 작은 것을 기준으로 날씨 유무를 예측하는 최종 모델 선정"
   ]
  },
  {
   "cell_type": "code",
   "execution_count": 39,
   "metadata": {},
   "outputs": [
    {
     "name": "stdout",
     "output_type": "stream",
     "text": [
      "17 11396.328766778168    smallest\n"
     ]
    }
   ],
   "source": [
    "small10 = min(complete_amount_seoul_aic)\n",
    "for i in range(len(complete_amount_seoul_aic)):\n",
    "    if complete_amount_seoul_aic[i] == small10:\n",
    "        print(i+1, complete_amount_seoul_aic[i],'   smallest')\n",
    "    else:\n",
    "        pass"
   ]
  },
  {
   "cell_type": "code",
   "execution_count": 40,
   "metadata": {},
   "outputs": [
    {
     "name": "stdout",
     "output_type": "stream",
     "text": [
      "14 12405.077950077544    smallest\n"
     ]
    }
   ],
   "source": [
    "small11 = min(complete_amount_ulsan_aic)\n",
    "for i in range(len(complete_amount_ulsan_aic)):\n",
    "    if complete_amount_ulsan_aic[i] == small11:\n",
    "        print(i+1, complete_amount_ulsan_aic[i],'   smallest')\n",
    "    else:\n",
    "        pass"
   ]
  },
  {
   "cell_type": "code",
   "execution_count": 41,
   "metadata": {},
   "outputs": [
    {
     "name": "stdout",
     "output_type": "stream",
     "text": [
      "18 14828.326415256959    smallest\n"
     ]
    }
   ],
   "source": [
    "small12 = min(complete_amount_yangsan_aic)\n",
    "for i in range(len(complete_amount_yangsan_aic)):\n",
    "    if complete_amount_yangsan_aic[i] == small12:\n",
    "        print(i+1, complete_amount_yangsan_aic[i],'   smallest')\n",
    "    else:\n",
    "        pass"
   ]
  },
  {
   "cell_type": "markdown",
   "metadata": {},
   "source": [
    "### 2-6) 예측한 값을 기존값과 비교하기 위한 column추가"
   ]
  },
  {
   "cell_type": "code",
   "execution_count": 42,
   "metadata": {},
   "outputs": [],
   "source": [
    "seoul_amount_test = seoul_amount17.predict().round(3)\n",
    "seoul['predict_amount'] = seoul_amount_test\n",
    "\n",
    "ulsan_amount_test = ulsan_amount14.predict().round(3)\n",
    "ulsan['predict_amount'] = ulsan_amount_test\n",
    "\n",
    "yangsan_amount_test = yangsan_amount18.predict().round(3)\n",
    "yangsan['predict_amount'] = yangsan_amount_test"
   ]
  },
  {
   "cell_type": "code",
   "execution_count": 43,
   "metadata": {},
   "outputs": [],
   "source": [
    "seoul['correct_amount'] = np.where((seoul.predict_amount - 0.05 < seoul.rain_amount) & (seoul.rain_amount < seoul.predict_amount + 0.05), 1, 0)\n",
    "ulsan['correct_amount'] = np.where((ulsan.predict_amount - 0.05 < ulsan.rain_amount) & (ulsan.rain_amount < ulsan.predict_amount + 0.05), 1, 0)\n",
    "yangsan['correct_amount'] = np.where((yangsan.predict_amount - 0.05 < yangsan.rain_amount) & (yangsan.rain_amount < yangsan.predict_amount + 0.05), 1, 0)"
   ]
  },
  {
   "cell_type": "markdown",
   "metadata": {},
   "source": [
    "### 2-7) 예측의 정확도"
   ]
  },
  {
   "cell_type": "code",
   "execution_count": 44,
   "metadata": {},
   "outputs": [],
   "source": [
    "seoul_amount_wrong = seoul[seoul['correct_amount'] == 0]\n",
    "ulsan_amount_wrong = ulsan[ulsan['correct_amount'] == 0]\n",
    "yangsan_amount_wrong = yangsan[yangsan['correct_amount'] == 0]"
   ]
  },
  {
   "cell_type": "code",
   "execution_count": 45,
   "metadata": {},
   "outputs": [
    {
     "name": "stdout",
     "output_type": "stream",
     "text": [
      "seoul:  86.06675790754258\n",
      "ulsan:  84.8654197080292\n",
      "yangsan:  78.58500608272506\n"
     ]
    }
   ],
   "source": [
    "print(\"seoul: \", 100 - len(seoul_amount_wrong)/len(seoul) * 100)\n",
    "print(\"ulsan: \", 100 - len(ulsan_amount_wrong)/len(ulsan) * 100)\n",
    "print(\"yangsan: \", 100 - len(yangsan_amount_wrong)/len(yangsan) * 100)"
   ]
  },
  {
   "cell_type": "markdown",
   "metadata": {},
   "source": [
    "## 2-3) 활용 프로그램"
   ]
  },
  {
   "cell_type": "markdown",
   "metadata": {},
   "source": [
    "입력의 간결성을 위해 상위 6개의 변수만을 포함하는 모델을 사용하여 예측해 보았습니다. \\\n",
    "이를 위해 우선 각각의 6변수의 정확성 먼저 확인해 보겠습니다."
   ]
  },
  {
   "cell_type": "markdown",
   "metadata": {},
   "source": [
    "### 3-1) 6변수의 정확성"
   ]
  },
  {
   "cell_type": "code",
   "execution_count": 46,
   "metadata": {},
   "outputs": [],
   "source": [
    "test_seo = seoul_amount6.predict().round(3)\n",
    "seoul['test'] = test_seo\n",
    "\n",
    "test_uls = ulsan_amount6.predict().round(3)\n",
    "ulsan['test'] = test_uls\n",
    "\n",
    "test_yan = yangsan_amount6.predict().round(3)\n",
    "yangsan['test'] = test_yan"
   ]
  },
  {
   "cell_type": "code",
   "execution_count": 47,
   "metadata": {},
   "outputs": [],
   "source": [
    "seoul['test_cor'] = np.where((seoul.test - 0.05 < seoul.rain_amount) & (seoul.rain_amount < seoul.test + 0.05), 1, 0)\n",
    "ulsan['test_cor'] = np.where((ulsan.test - 0.05 < ulsan.rain_amount) & (ulsan.rain_amount < ulsan.test + 0.05), 1, 0)\n",
    "yangsan['test_cor'] = np.where((yangsan.test - 0.05 < yangsan.rain_amount) & (yangsan.rain_amount < yangsan.test + 0.05), 1, 0)"
   ]
  },
  {
   "cell_type": "code",
   "execution_count": 48,
   "metadata": {},
   "outputs": [],
   "source": [
    "test_wrong_seo = seoul[seoul['test_cor'] == 0]\n",
    "test_wrong_uls = ulsan[ulsan['test_cor'] == 0]\n",
    "test_wrong_yan = yangsan[yangsan['test_cor'] == 0]"
   ]
  },
  {
   "cell_type": "code",
   "execution_count": 49,
   "metadata": {},
   "outputs": [
    {
     "name": "stdout",
     "output_type": "stream",
     "text": [
      "seoul:  85.59534671532846\n",
      "ulsan:  84.45483576642336\n",
      "yangsan:  77.12895377128953\n"
     ]
    }
   ],
   "source": [
    "print(\"seoul: \", 100 - len(test_wrong_seo)/len(seoul) * 100)\n",
    "print(\"ulsan: \", 100 - len(test_wrong_uls)/len(ulsan) * 100)\n",
    "print(\"yangsan: \", 100 - len(test_wrong_yan)/len(yangsan) * 100)"
   ]
  },
  {
   "cell_type": "markdown",
   "metadata": {},
   "source": [
    "이정도면 무난하게 예측을 진행할 수 있다고 판단하여 진행하도록 하겠습니다. \\\n",
    "(양산의 경우 확률이 적지만 변수를 추가하여도 미미하게 올라가는 것을 확인하고 변수 6개를 그대로 적용하기로 했습니다.)"
   ]
  },
  {
   "cell_type": "markdown",
   "metadata": {},
   "source": [
    "### 3-2) 프로그램"
   ]
  },
  {
   "cell_type": "code",
   "execution_count": 50,
   "metadata": {},
   "outputs": [],
   "source": [
    "com_seo = seoul_amount6\n",
    "com_uls = ulsan_amount6\n",
    "com_yan = yangsan_amount6"
   ]
  },
  {
   "cell_type": "code",
   "execution_count": 57,
   "metadata": {},
   "outputs": [
    {
     "name": "stdout",
     "output_type": "stream",
     "text": [
      "지역(울산, 서울, 양산)양산\n",
      "습도(%): 66\n",
      "시정(10m): 1578\n",
      "이슬점온도(°C): 8.584\n",
      "증기압(hPa): 13.89\n",
      "전운량(10분위): 4.745\n",
      "풍속(m/s): 6\n",
      "해당 요인을 분석해 보았을 때, 양산에 비가 올 확률은  -4 % ~  5 %입니다.\n"
     ]
    }
   ],
   "source": [
    "region = input('지역(울산, 서울, 양산)')\n",
    "\n",
    "if region == '서울':\n",
    "    humidity = float(input('습도(%): '))\n",
    "    total_amount_of_cloud = float(input('전운량(10분위): '))\n",
    "    visibility = float(input('시정(10m)'))\n",
    "    low_middle_level_clouds = float(input('중하층운량(10분위): '))\n",
    "    dew_point_temperature = float(input('이슬점온도(°C): '))\n",
    "    vapor_pressure = float(input('증기압(hPa): '))\n",
    "    \n",
    "    pre = com_seo.predict(pd.DataFrame({\"humidity\":[humidity], \"total_amount_of_cloud\":[total_amount_of_cloud], \"visibility\": [visibility],\n",
    "                                   \"low_middle_level_clouds\": [low_middle_level_clouds], \"dew_point_temperature\": [dew_point_temperature],\n",
    "                                   \"vapor_pressure\": [vapor_pressure]}))\n",
    "    print(\"해당 요인을 분석해 보았을 때, 서울에 비가 올 확률은 \", int((pre - 0.05)*100), \"% ~ \", int((pre + 0.05)*100), \"%입니다.\")\n",
    "\n",
    "elif region == '울산':\n",
    "    humidity = float(input('습도(%): '))\n",
    "    total_amount_of_cloud = float(input('전운량(10분위): '))\n",
    "    visibility = float(input('시정(10m): '))\n",
    "    low_middle_level_clouds = float(input('중하층운량(10분위): '))\n",
    "    dew_point_temperature = float(input('이슬점온도(°C): '))\n",
    "    vapor_pressure = float(input('증기압(hPa): '))\n",
    "    \n",
    "    pre = com_uls.predict(pd.DataFrame({\"humidity\":[humidity], \"total_amount_of_cloud\":[total_amount_of_cloud], \"visibility\": [visibility],\n",
    "                                   \"low_middle_level_clouds\": [low_middle_level_clouds], \"dew_point_temperature\": [dew_point_temperature],\n",
    "                                   \"vapor_pressure\": [vapor_pressure]}))\n",
    "    print(\"해당 요인을 분석해 보았을 때, 울산에 비가 올 확률은 \", int((pre - 0.05)*100), \"% ~ \", int((pre + 0.05)*100), \"%입니다.\")\n",
    "    \n",
    "elif region == '양산':\n",
    "    humidity = float(input('습도(%): '))\n",
    "    visibility = float(input('시정(10m): '))\n",
    "    dew_point_temperature = float(input('이슬점온도(°C): '))\n",
    "    vapor_pressure = float(input('증기압(hPa): '))\n",
    "    total_amount_of_cloud = float(input('전운량(10분위): '))\n",
    "    wind_speed = float(input('풍속(m/s): '))\n",
    "    \n",
    "    pre = com_yan.predict(pd.DataFrame({\"humidity\":[humidity], \"visibility\": [visibility], \"dew_point_temperature\": [dew_point_temperature],\n",
    "                                  \"vapor_pressure\": [vapor_pressure], \"total_amount_of_cloud\": [total_amount_of_cloud], \n",
    "                                  \"wind_speed\": [wind_speed]}))\n",
    "    print(\"해당 요인을 분석해 보았을 때, 양산에 비가 올 확률은 \", int((pre - 0.05)*100), \"% ~ \", int((pre + 0.05)*100), \"%입니다.\")\n",
    "\n",
    "else:\n",
    "    pass"
   ]
  },
  {
   "cell_type": "markdown",
   "metadata": {},
   "source": [
    "# 3. 결론"
   ]
  },
  {
   "cell_type": "raw",
   "metadata": {},
   "source": [
    "#비의 유무\n",
    "0\thumidity\t            total_amount_of_cloud\thumidity \n",
    "1\ttotal_amount_of_cloud\thumidity\t            dew_point_temperature \n",
    "2\tlow_middle_level_clouds\tlow_middle_level_clouds\ttotal_amount_of_cloud \n",
    "3\tdew_point_temperature\tvisibility\t            vapor_pressure \n",
    "4\tvapor_pressure\t        dew_point_temperature\tsunshine \n",
    "5\tvisibility\t            sunshine\t            visibility \n",
    "6\tsunshine\t            vapor_pressure\t        ground_temperature_30cm"
   ]
  },
  {
   "cell_type": "raw",
   "metadata": {},
   "source": [
    "#강수량\n",
    "0\thumidity\t            humidity            \thumidity\n",
    "1\ttotal_amount_of_cloud\ttotal_amount_of_cloud\tvisibility\n",
    "2\tvisibility\t            visibility\t            dew_point_temperature\n",
    "3\tlow_middle_level_clouds\tlow_middle_level_clouds\tvapor_pressure\n",
    "4\tdew_point_temperature\tdew_point_temperature\ttotal_amount_of_cloud\n",
    "5\tvapor_pressure\t        vapor_pressure\t        wind_speed\n",
    "6\tsunshine\t            sunshine\t            sunshine"
   ]
  },
  {
   "cell_type": "markdown",
   "metadata": {},
   "source": [
    "## 비에 영향을 많이 주는 요인"
   ]
  },
  {
   "cell_type": "code",
   "execution_count": 52,
   "metadata": {},
   "outputs": [
    {
     "data": {
      "text/plain": [
       "Intercept                 -22.543027\n",
       "humidity                    0.116078\n",
       "total_amount_of_cloud       1.242183\n",
       "low_middle_level_clouds     0.015628\n",
       "dew_point_temperature      -0.041252\n",
       "vapor_pressure              0.103983\n",
       "visibility                 -0.000178\n",
       "sunshine                    1.111145\n",
       "ground_temperature_30cm    -0.272444\n",
       "solar                       1.567565\n",
       "ground_temperature_20cm     0.253244\n",
       "ground_temperature_10cm     0.474207\n",
       "ground_temperature_5cm     -0.111648\n",
       "temperature                -0.081920\n",
       "wind_direction             -0.001208\n",
       "ground_temperature         -0.292836\n",
       "sea_level_pressure         -0.000861\n",
       "local_pressure             -0.000661\n",
       "dtype: float64"
      ]
     },
     "execution_count": 52,
     "metadata": {},
     "output_type": "execute_result"
    }
   ],
   "source": [
    "seoul17.params"
   ]
  },
  {
   "cell_type": "markdown",
   "metadata": {},
   "source": [
    "비가 오는데 많은 영향을 주는 요인은 습도가 가장 중요했습니다.\\\n",
    "그리고 전운량 즉, 총 구름의 양도 중요했는데 이슬점와 연관지어 생각해보면 우선 구름이 있어야지 비가 오고 구름이 생성되는데 이슬점에 도달해야하기에 이슬점이 낮을수록 비가 오기 쉽다는 것을 알 수 있습니다.\\\n",
    "시정을 의미하는 visibility도 높은 순위를 차지하고 있었는데 이것은 앞이 보이는 정도를 의미합니다. 즉. 수치가 높을수록 공기가 탁하지 않고 멀리까지 보인다는 뜻인데요. 시정이 탁해지는 경우는 안개나 미세먼지로 인한 경우입니다. 그렇기에 탁할수록 비가 올 확률이 높아진다는 것은 납득 가능하다고 봅니다.\\\n",
    "구름 중에서도 중하층운량도 순위권에 있는데요. 이는 난층운이 특히 비를 내리게 하는 구름이며, 그 구름이 하층에 존재하기 때문이라고 생각됩니다.\\\n",
    "온도가 내륙지역에서는 생각보다 낮은 순위를 차지하고 있는데 이 이유는 해양지역에는 온도가 바닷물의 증발에 영향을 많이 미치기 때문이라고 추측됩니다.\\"
   ]
  },
  {
   "cell_type": "code",
   "execution_count": 53,
   "metadata": {},
   "outputs": [
    {
     "data": {
      "image/jpeg": "[encoded data removed]",
      "text/plain": [
       "<IPython.core.display.Image object>"
      ]
     },
     "execution_count": 53,
     "metadata": {},
     "output_type": "execute_result"
    }
   ],
   "source": [
    "Image(\"구름.jpg\")\n",
    "#사진출처 https://blog.naver.com/bang9465/220965197506"
   ]
  }
 ],
 "metadata": {
  "kernelspec": {
   "display_name": "Python 3",
   "language": "python",
   "name": "python3"
  },
  "language_info": {
   "codemirror_mode": {
    "name": "ipython",
    "version": 3
   },
   "file_extension": ".py",
   "mimetype": "text/x-python",
   "name": "python",
   "nbconvert_exporter": "python",
   "pygments_lexer": "ipython3",
   "version": "3.7.6"
  }
 },
 "nbformat": 4,
 "nbformat_minor": 4
}
