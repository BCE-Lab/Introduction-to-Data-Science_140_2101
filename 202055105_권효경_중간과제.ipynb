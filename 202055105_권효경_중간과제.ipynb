{
 "cells": [
  {
   "cell_type": "code",
   "execution_count": 1,
   "metadata": {},
   "outputs": [
    {
     "data": {
      "text/html": [
       "<div>\n",
       "<style scoped>\n",
       "    .dataframe tbody tr th:only-of-type {\n",
       "        vertical-align: middle;\n",
       "    }\n",
       "\n",
       "    .dataframe tbody tr th {\n",
       "        vertical-align: top;\n",
       "    }\n",
       "\n",
       "    .dataframe thead th {\n",
       "        text-align: right;\n",
       "    }\n",
       "</style>\n",
       "<table border=\"1\" class=\"dataframe\">\n",
       "  <thead>\n",
       "    <tr style=\"text-align: right;\">\n",
       "      <th></th>\n",
       "      <th>age</th>\n",
       "      <th>sex</th>\n",
       "      <th>height</th>\n",
       "      <th>weight</th>\n",
       "      <th>dateOfoperation</th>\n",
       "      <th>cancerStaging</th>\n",
       "      <th>hospitalization</th>\n",
       "      <th>diseaseCode</th>\n",
       "    </tr>\n",
       "  </thead>\n",
       "  <tbody>\n",
       "    <tr>\n",
       "      <th>0</th>\n",
       "      <td>75</td>\n",
       "      <td>남</td>\n",
       "      <td>161.0</td>\n",
       "      <td>64.0</td>\n",
       "      <td>2011-06-22</td>\n",
       "      <td>I</td>\n",
       "      <td>48</td>\n",
       "      <td>C187</td>\n",
       "    </tr>\n",
       "    <tr>\n",
       "      <th>1</th>\n",
       "      <td>52</td>\n",
       "      <td>여</td>\n",
       "      <td>176.6</td>\n",
       "      <td>75.3</td>\n",
       "      <td>2011-05-19</td>\n",
       "      <td>IV</td>\n",
       "      <td>17</td>\n",
       "      <td>C187</td>\n",
       "    </tr>\n",
       "    <tr>\n",
       "      <th>2</th>\n",
       "      <td>67</td>\n",
       "      <td>여</td>\n",
       "      <td>154.0</td>\n",
       "      <td>65.6</td>\n",
       "      <td>2011-05-31</td>\n",
       "      <td>III</td>\n",
       "      <td>10</td>\n",
       "      <td>C187</td>\n",
       "    </tr>\n",
       "    <tr>\n",
       "      <th>3</th>\n",
       "      <td>62</td>\n",
       "      <td>남</td>\n",
       "      <td>162.0</td>\n",
       "      <td>57.0</td>\n",
       "      <td>2011-06-21</td>\n",
       "      <td>I</td>\n",
       "      <td>11</td>\n",
       "      <td>C187</td>\n",
       "    </tr>\n",
       "    <tr>\n",
       "      <th>4</th>\n",
       "      <td>70</td>\n",
       "      <td>남</td>\n",
       "      <td>171.0</td>\n",
       "      <td>65.0</td>\n",
       "      <td>2011-06-09</td>\n",
       "      <td>II</td>\n",
       "      <td>10</td>\n",
       "      <td>C182</td>\n",
       "    </tr>\n",
       "    <tr>\n",
       "      <th>...</th>\n",
       "      <td>...</td>\n",
       "      <td>...</td>\n",
       "      <td>...</td>\n",
       "      <td>...</td>\n",
       "      <td>...</td>\n",
       "      <td>...</td>\n",
       "      <td>...</td>\n",
       "      <td>...</td>\n",
       "    </tr>\n",
       "    <tr>\n",
       "      <th>18305</th>\n",
       "      <td>51</td>\n",
       "      <td>여</td>\n",
       "      <td>155.0</td>\n",
       "      <td>47.0</td>\n",
       "      <td>2011-03-03</td>\n",
       "      <td>III</td>\n",
       "      <td>29</td>\n",
       "      <td>C185</td>\n",
       "    </tr>\n",
       "    <tr>\n",
       "      <th>18306</th>\n",
       "      <td>55</td>\n",
       "      <td>남</td>\n",
       "      <td>171.0</td>\n",
       "      <td>75.0</td>\n",
       "      <td>2011-04-21</td>\n",
       "      <td>IV</td>\n",
       "      <td>19</td>\n",
       "      <td>C19</td>\n",
       "    </tr>\n",
       "    <tr>\n",
       "      <th>18307</th>\n",
       "      <td>54</td>\n",
       "      <td>남</td>\n",
       "      <td>165.0</td>\n",
       "      <td>66.5</td>\n",
       "      <td>2011-04-29</td>\n",
       "      <td>I</td>\n",
       "      <td>37</td>\n",
       "      <td>C189</td>\n",
       "    </tr>\n",
       "    <tr>\n",
       "      <th>18308</th>\n",
       "      <td>61</td>\n",
       "      <td>남</td>\n",
       "      <td>159.0</td>\n",
       "      <td>59.0</td>\n",
       "      <td>2011-02-16</td>\n",
       "      <td>II</td>\n",
       "      <td>22</td>\n",
       "      <td>C189</td>\n",
       "    </tr>\n",
       "    <tr>\n",
       "      <th>18309</th>\n",
       "      <td>76</td>\n",
       "      <td>남</td>\n",
       "      <td>155.0</td>\n",
       "      <td>49.5</td>\n",
       "      <td>2011-06-03</td>\n",
       "      <td>III</td>\n",
       "      <td>19</td>\n",
       "      <td>C184</td>\n",
       "    </tr>\n",
       "  </tbody>\n",
       "</table>\n",
       "<p>18310 rows × 8 columns</p>\n",
       "</div>"
      ],
      "text/plain": [
       "       age sex  height  weight dateOfoperation cancerStaging  hospitalization  \\\n",
       "0       75   남   161.0    64.0      2011-06-22             I               48   \n",
       "1       52   여   176.6    75.3      2011-05-19            IV               17   \n",
       "2       67   여   154.0    65.6      2011-05-31           III               10   \n",
       "3       62   남   162.0    57.0      2011-06-21             I               11   \n",
       "4       70   남   171.0    65.0      2011-06-09            II               10   \n",
       "...    ...  ..     ...     ...             ...           ...              ...   \n",
       "18305   51   여   155.0    47.0      2011-03-03           III               29   \n",
       "18306   55   남   171.0    75.0      2011-04-21            IV               19   \n",
       "18307   54   남   165.0    66.5      2011-04-29             I               37   \n",
       "18308   61   남   159.0    59.0      2011-02-16            II               22   \n",
       "18309   76   남   155.0    49.5      2011-06-03           III               19   \n",
       "\n",
       "      diseaseCode  \n",
       "0            C187  \n",
       "1            C187  \n",
       "2            C187  \n",
       "3            C187  \n",
       "4            C182  \n",
       "...           ...  \n",
       "18305        C185  \n",
       "18306         C19  \n",
       "18307        C189  \n",
       "18308        C189  \n",
       "18309        C184  \n",
       "\n",
       "[18310 rows x 8 columns]"
      ]
     },
     "execution_count": 1,
     "metadata": {},
     "output_type": "execute_result"
    }
   ],
   "source": [
    "import numpy as np\n",
    "import numpy.random as random\n",
    "import scipy as sp\n",
    "import scipy.stats as stats\n",
    "import pandas as pd\n",
    "from pandas import Series, DataFrame\n",
    "\n",
    "import matplotlib.pyplot as plt\n",
    "import matplotlib as mpl\n",
    "import seaborn as sns\n",
    "%matplotlib inline\n",
    "%precision 3\n",
    "\n",
    "data = pd.read_csv('example_cancer.csv',encoding='cp949') #'cp949' 한글 인코딩\n",
    "data"
   ]
  },
  {
   "cell_type": "markdown",
   "metadata": {},
   "source": [
    "# 1. 비만일수록 암에 걸릴 확률이 높을까?"
   ]
  },
  {
   "cell_type": "code",
   "execution_count": 2,
   "metadata": {},
   "outputs": [
    {
     "name": "stderr",
     "output_type": "stream",
     "text": [
      "C:\\Users\\LG\\anaconda3\\lib\\site-packages\\ipykernel_launcher.py:7: SettingWithCopyWarning: \n",
      "A value is trying to be set on a copy of a slice from a DataFrame.\n",
      "Try using .loc[row_indexer,col_indexer] = value instead\n",
      "\n",
      "See the caveats in the documentation: https://pandas.pydata.org/pandas-docs/stable/user_guide/indexing.html#returning-a-view-versus-a-copy\n",
      "  import sys\n"
     ]
    },
    {
     "data": {
      "text/html": [
       "<div>\n",
       "<style scoped>\n",
       "    .dataframe tbody tr th:only-of-type {\n",
       "        vertical-align: middle;\n",
       "    }\n",
       "\n",
       "    .dataframe tbody tr th {\n",
       "        vertical-align: top;\n",
       "    }\n",
       "\n",
       "    .dataframe thead th {\n",
       "        text-align: right;\n",
       "    }\n",
       "</style>\n",
       "<table border=\"1\" class=\"dataframe\">\n",
       "  <thead>\n",
       "    <tr style=\"text-align: right;\">\n",
       "      <th></th>\n",
       "      <th>age</th>\n",
       "      <th>sex</th>\n",
       "      <th>height</th>\n",
       "      <th>weight</th>\n",
       "      <th>dateOfoperation</th>\n",
       "      <th>cancerStaging</th>\n",
       "      <th>hospitalization</th>\n",
       "      <th>diseaseCode</th>\n",
       "      <th>BMI</th>\n",
       "    </tr>\n",
       "  </thead>\n",
       "  <tbody>\n",
       "    <tr>\n",
       "      <th>0</th>\n",
       "      <td>75</td>\n",
       "      <td>남</td>\n",
       "      <td>161.0</td>\n",
       "      <td>64.0</td>\n",
       "      <td>2011-06-22</td>\n",
       "      <td>I</td>\n",
       "      <td>48</td>\n",
       "      <td>C187</td>\n",
       "      <td>24.690405</td>\n",
       "    </tr>\n",
       "    <tr>\n",
       "      <th>1</th>\n",
       "      <td>52</td>\n",
       "      <td>여</td>\n",
       "      <td>176.6</td>\n",
       "      <td>75.3</td>\n",
       "      <td>2011-05-19</td>\n",
       "      <td>IV</td>\n",
       "      <td>17</td>\n",
       "      <td>C187</td>\n",
       "      <td>24.144242</td>\n",
       "    </tr>\n",
       "    <tr>\n",
       "      <th>2</th>\n",
       "      <td>67</td>\n",
       "      <td>여</td>\n",
       "      <td>154.0</td>\n",
       "      <td>65.6</td>\n",
       "      <td>2011-05-31</td>\n",
       "      <td>III</td>\n",
       "      <td>10</td>\n",
       "      <td>C187</td>\n",
       "      <td>27.660651</td>\n",
       "    </tr>\n",
       "    <tr>\n",
       "      <th>3</th>\n",
       "      <td>62</td>\n",
       "      <td>남</td>\n",
       "      <td>162.0</td>\n",
       "      <td>57.0</td>\n",
       "      <td>2011-06-21</td>\n",
       "      <td>I</td>\n",
       "      <td>11</td>\n",
       "      <td>C187</td>\n",
       "      <td>21.719250</td>\n",
       "    </tr>\n",
       "    <tr>\n",
       "      <th>4</th>\n",
       "      <td>70</td>\n",
       "      <td>남</td>\n",
       "      <td>171.0</td>\n",
       "      <td>65.0</td>\n",
       "      <td>2011-06-09</td>\n",
       "      <td>II</td>\n",
       "      <td>10</td>\n",
       "      <td>C182</td>\n",
       "      <td>22.229062</td>\n",
       "    </tr>\n",
       "  </tbody>\n",
       "</table>\n",
       "</div>"
      ],
      "text/plain": [
       "   age sex  height  weight dateOfoperation cancerStaging  hospitalization  \\\n",
       "0   75   남   161.0    64.0      2011-06-22             I               48   \n",
       "1   52   여   176.6    75.3      2011-05-19            IV               17   \n",
       "2   67   여   154.0    65.6      2011-05-31           III               10   \n",
       "3   62   남   162.0    57.0      2011-06-21             I               11   \n",
       "4   70   남   171.0    65.0      2011-06-09            II               10   \n",
       "\n",
       "  diseaseCode        BMI  \n",
       "0        C187  24.690405  \n",
       "1        C187  24.144242  \n",
       "2        C187  27.660651  \n",
       "3        C187  21.719250  \n",
       "4        C182  22.229062  "
      ]
     },
     "execution_count": 2,
     "metadata": {},
     "output_type": "execute_result"
    }
   ],
   "source": [
    "#바로 사용할 수 있는 데이터로 변환\n",
    "#엑셀파일에서 숫자가 아닌 부분은 NaN으로 변경\n",
    "data=data.dropna()\n",
    "\n",
    "#BMI 열 추가 = kg/m^2\n",
    "height_m=data['height']/100 \n",
    "data['BMI']=data['weight']/(height_m*height_m)\n",
    "data.head()"
   ]
  },
  {
   "cell_type": "code",
   "execution_count": 70,
   "metadata": {
    "scrolled": false
   },
   "outputs": [
    {
     "name": "stderr",
     "output_type": "stream",
     "text": [
      "C:\\Users\\LG\\anaconda3\\lib\\site-packages\\ipykernel_launcher.py:5: SettingWithCopyWarning: \n",
      "A value is trying to be set on a copy of a slice from a DataFrame.\n",
      "Try using .loc[row_indexer,col_indexer] = value instead\n",
      "\n",
      "See the caveats in the documentation: https://pandas.pydata.org/pandas-docs/stable/user_guide/indexing.html#returning-a-view-versus-a-copy\n",
      "  \"\"\"\n"
     ]
    },
    {
     "data": {
      "text/html": [
       "<div>\n",
       "<style scoped>\n",
       "    .dataframe tbody tr th:only-of-type {\n",
       "        vertical-align: middle;\n",
       "    }\n",
       "\n",
       "    .dataframe tbody tr th {\n",
       "        vertical-align: top;\n",
       "    }\n",
       "\n",
       "    .dataframe thead th {\n",
       "        text-align: right;\n",
       "    }\n",
       "</style>\n",
       "<table border=\"1\" class=\"dataframe\">\n",
       "  <thead>\n",
       "    <tr style=\"text-align: right;\">\n",
       "      <th></th>\n",
       "      <th>age</th>\n",
       "      <th>sex</th>\n",
       "      <th>height</th>\n",
       "      <th>weight</th>\n",
       "      <th>dateOfoperation</th>\n",
       "      <th>cancerStaging</th>\n",
       "      <th>hospitalization</th>\n",
       "      <th>diseaseCode</th>\n",
       "      <th>BMI</th>\n",
       "      <th>obesity</th>\n",
       "    </tr>\n",
       "  </thead>\n",
       "  <tbody>\n",
       "    <tr>\n",
       "      <th>0</th>\n",
       "      <td>75</td>\n",
       "      <td>남</td>\n",
       "      <td>161.0</td>\n",
       "      <td>64.0</td>\n",
       "      <td>2011-06-22</td>\n",
       "      <td>I</td>\n",
       "      <td>48</td>\n",
       "      <td>C187</td>\n",
       "      <td>24.690405</td>\n",
       "      <td>정상</td>\n",
       "    </tr>\n",
       "    <tr>\n",
       "      <th>1</th>\n",
       "      <td>52</td>\n",
       "      <td>여</td>\n",
       "      <td>176.6</td>\n",
       "      <td>75.3</td>\n",
       "      <td>2011-05-19</td>\n",
       "      <td>IV</td>\n",
       "      <td>17</td>\n",
       "      <td>C187</td>\n",
       "      <td>24.144242</td>\n",
       "      <td>정상</td>\n",
       "    </tr>\n",
       "    <tr>\n",
       "      <th>2</th>\n",
       "      <td>67</td>\n",
       "      <td>여</td>\n",
       "      <td>154.0</td>\n",
       "      <td>65.6</td>\n",
       "      <td>2011-05-31</td>\n",
       "      <td>III</td>\n",
       "      <td>10</td>\n",
       "      <td>C187</td>\n",
       "      <td>27.660651</td>\n",
       "      <td>비만</td>\n",
       "    </tr>\n",
       "    <tr>\n",
       "      <th>3</th>\n",
       "      <td>62</td>\n",
       "      <td>남</td>\n",
       "      <td>162.0</td>\n",
       "      <td>57.0</td>\n",
       "      <td>2011-06-21</td>\n",
       "      <td>I</td>\n",
       "      <td>11</td>\n",
       "      <td>C187</td>\n",
       "      <td>21.719250</td>\n",
       "      <td>정상</td>\n",
       "    </tr>\n",
       "    <tr>\n",
       "      <th>4</th>\n",
       "      <td>70</td>\n",
       "      <td>남</td>\n",
       "      <td>171.0</td>\n",
       "      <td>65.0</td>\n",
       "      <td>2011-06-09</td>\n",
       "      <td>II</td>\n",
       "      <td>10</td>\n",
       "      <td>C182</td>\n",
       "      <td>22.229062</td>\n",
       "      <td>정상</td>\n",
       "    </tr>\n",
       "  </tbody>\n",
       "</table>\n",
       "</div>"
      ],
      "text/plain": [
       "   age sex  height  weight dateOfoperation cancerStaging  hospitalization  \\\n",
       "0   75   남   161.0    64.0      2011-06-22             I               48   \n",
       "1   52   여   176.6    75.3      2011-05-19            IV               17   \n",
       "2   67   여   154.0    65.6      2011-05-31           III               10   \n",
       "3   62   남   162.0    57.0      2011-06-21             I               11   \n",
       "4   70   남   171.0    65.0      2011-06-09            II               10   \n",
       "\n",
       "  diseaseCode        BMI obesity  \n",
       "0        C187  24.690405      정상  \n",
       "1        C187  24.144242      정상  \n",
       "2        C187  27.660651      비만  \n",
       "3        C187  21.719250      정상  \n",
       "4        C182  22.229062      정상  "
      ]
     },
     "execution_count": 70,
     "metadata": {},
     "output_type": "execute_result"
    }
   ],
   "source": [
    "#BMI로 저체중, 정상, 비만 그룹 나누기\n",
    "group_name = ['저체중','정상','비만']\n",
    "group_bin = [0,18.5,25,50]\n",
    "data_ob = pd.cut(data.BMI,group_bin,labels=group_name,right=False)\n",
    "data['obesity']=data_ob\n",
    "data.head(5)"
   ]
  },
  {
   "cell_type": "code",
   "execution_count": 71,
   "metadata": {},
   "outputs": [
    {
     "data": {
      "text/html": [
       "<div>\n",
       "<style scoped>\n",
       "    .dataframe tbody tr th:only-of-type {\n",
       "        vertical-align: middle;\n",
       "    }\n",
       "\n",
       "    .dataframe tbody tr th {\n",
       "        vertical-align: top;\n",
       "    }\n",
       "\n",
       "    .dataframe thead th {\n",
       "        text-align: right;\n",
       "    }\n",
       "</style>\n",
       "<table border=\"1\" class=\"dataframe\">\n",
       "  <thead>\n",
       "    <tr style=\"text-align: right;\">\n",
       "      <th></th>\n",
       "      <th>age</th>\n",
       "      <th>sex</th>\n",
       "      <th>height</th>\n",
       "      <th>weight</th>\n",
       "      <th>dateOfoperation</th>\n",
       "      <th>cancerStaging</th>\n",
       "      <th>hospitalization</th>\n",
       "      <th>diseaseCode</th>\n",
       "      <th>BMI</th>\n",
       "    </tr>\n",
       "    <tr>\n",
       "      <th>obesity</th>\n",
       "      <th></th>\n",
       "      <th></th>\n",
       "      <th></th>\n",
       "      <th></th>\n",
       "      <th></th>\n",
       "      <th></th>\n",
       "      <th></th>\n",
       "      <th></th>\n",
       "      <th></th>\n",
       "    </tr>\n",
       "  </thead>\n",
       "  <tbody>\n",
       "    <tr>\n",
       "      <th>저체중</th>\n",
       "      <td>976</td>\n",
       "      <td>976</td>\n",
       "      <td>976</td>\n",
       "      <td>976</td>\n",
       "      <td>976</td>\n",
       "      <td>976</td>\n",
       "      <td>976</td>\n",
       "      <td>976</td>\n",
       "      <td>976</td>\n",
       "    </tr>\n",
       "    <tr>\n",
       "      <th>정상</th>\n",
       "      <td>11470</td>\n",
       "      <td>11470</td>\n",
       "      <td>11470</td>\n",
       "      <td>11470</td>\n",
       "      <td>11470</td>\n",
       "      <td>11470</td>\n",
       "      <td>11470</td>\n",
       "      <td>11470</td>\n",
       "      <td>11470</td>\n",
       "    </tr>\n",
       "    <tr>\n",
       "      <th>비만</th>\n",
       "      <td>5431</td>\n",
       "      <td>5431</td>\n",
       "      <td>5431</td>\n",
       "      <td>5431</td>\n",
       "      <td>5431</td>\n",
       "      <td>5431</td>\n",
       "      <td>5431</td>\n",
       "      <td>5431</td>\n",
       "      <td>5431</td>\n",
       "    </tr>\n",
       "  </tbody>\n",
       "</table>\n",
       "</div>"
      ],
      "text/plain": [
       "           age    sex  height  weight  dateOfoperation  cancerStaging  \\\n",
       "obesity                                                                 \n",
       "저체중        976    976     976     976              976            976   \n",
       "정상       11470  11470   11470   11470            11470          11470   \n",
       "비만        5431   5431    5431    5431             5431           5431   \n",
       "\n",
       "         hospitalization  diseaseCode    BMI  \n",
       "obesity                                       \n",
       "저체중                  976          976    976  \n",
       "정상                 11470        11470  11470  \n",
       "비만                  5431         5431   5431  "
      ]
     },
     "execution_count": 71,
     "metadata": {},
     "output_type": "execute_result"
    }
   ],
   "source": [
    "#비만에 따른 환자 수\n",
    "data.groupby('obesity').count()"
   ]
  },
  {
   "cell_type": "code",
   "execution_count": 72,
   "metadata": {},
   "outputs": [
    {
     "data": {
      "text/plain": [
       "<seaborn.axisgrid.FacetGrid at 0x211e45897c8>"
      ]
     },
     "execution_count": 72,
     "metadata": {},
     "output_type": "execute_result"
    },
    {
     "data": {
      "image/png": "[encoded data removed]",
      "text/plain": [
       "<Figure size 360x360 with 1 Axes>"
      ]
     },
     "metadata": {
      "needs_background": "light"
     },
     "output_type": "display_data"
    }
   ],
   "source": [
    "#BMI에 따른 환자 수\n",
    "sns.displot(data['BMI'],kde=False)"
   ]
  },
  {
   "cell_type": "markdown",
   "metadata": {},
   "source": [
    "### 저체중인 사람은 976명, 정상인 사람은 11470, 비만인 사람은 5431명으로 비만이라고 해서 대장암에 걸릴 확률이 높다고 말할 수는 없다.\n",
    "### BMI로 히스토그램을 나타내보아도 평균수치라고 할 수 있는 18.5에서 25까지 인원수가 가장 많은 것을 알 수 있다."
   ]
  },
  {
   "cell_type": "markdown",
   "metadata": {},
   "source": [
    "# 1+. 그렇다면 비만일때 cancer staging과의 관계는?"
   ]
  },
  {
   "cell_type": "code",
   "execution_count": 73,
   "metadata": {},
   "outputs": [
    {
     "data": {
      "text/plain": [
       "cancerStaging\n",
       "I      24.030059\n",
       "II     23.287365\n",
       "III    23.491759\n",
       "IV     22.990213\n",
       "Name: BMI, dtype: float64"
      ]
     },
     "execution_count": 73,
     "metadata": {},
     "output_type": "execute_result"
    }
   ],
   "source": [
    "#cancer staging에 따른 BMI 평균\n",
    "data.groupby('cancerStaging').BMI.mean()"
   ]
  },
  {
   "cell_type": "markdown",
   "metadata": {},
   "source": [
    "### 암단계에 따른 BMI 평균이 다 정상영역에 있는 것으로 보아 특별한 관계는 없는 것으로 볼 수 있다."
   ]
  },
  {
   "cell_type": "markdown",
   "metadata": {},
   "source": [
    "# 2. 나이가 많을수록 암에 걸릴 확률이 높을까?"
   ]
  },
  {
   "cell_type": "code",
   "execution_count": 74,
   "metadata": {},
   "outputs": [
    {
     "data": {
      "text/plain": [
       "<matplotlib.axes._subplots.AxesSubplot at 0x211e45ac088>"
      ]
     },
     "execution_count": 74,
     "metadata": {},
     "output_type": "execute_result"
    },
    {
     "data": {
      "image/png": "[encoded data removed]",
      "text/plain": [
       "<Figure size 432x288 with 1 Axes>"
      ]
     },
     "metadata": {
      "needs_background": "light"
     },
     "output_type": "display_data"
    }
   ],
   "source": [
    "#나이별 환자수 분포\n",
    "data_m=data.groupby('age').count()\n",
    "data_m['sex'].plot()"
   ]
  },
  {
   "cell_type": "code",
   "execution_count": 92,
   "metadata": {},
   "outputs": [
    {
     "data": {
      "text/plain": [
       "<seaborn.axisgrid.FacetGrid at 0x211e8d5d488>"
      ]
     },
     "execution_count": 92,
     "metadata": {},
     "output_type": "execute_result"
    },
    {
     "data": {
      "image/png": "[encoded data removed]",
      "text/plain": [
       "<Figure size 360x360 with 1 Axes>"
      ]
     },
     "metadata": {
      "needs_background": "light"
     },
     "output_type": "display_data"
    }
   ],
   "source": [
    "sns.displot(data.age,kde=True)"
   ]
  },
  {
   "cell_type": "markdown",
   "metadata": {},
   "source": [
    "### 위 그래프를 보면 50~70대가 가장 많이 걸렸다고 생각할 수 있다. 하지만 이 그래프는 딱 환자의 수만 측정한 것이기 때문에 단순히 나이가 어린 환자와 늙은 환자가 적은 것일수도 있다. "
   ]
  },
  {
   "cell_type": "code",
   "execution_count": 88,
   "metadata": {},
   "outputs": [
    {
     "name": "stderr",
     "output_type": "stream",
     "text": [
      "C:\\Users\\LG\\anaconda3\\lib\\site-packages\\ipykernel_launcher.py:5: SettingWithCopyWarning: \n",
      "A value is trying to be set on a copy of a slice from a DataFrame.\n",
      "Try using .loc[row_indexer,col_indexer] = value instead\n",
      "\n",
      "See the caveats in the documentation: https://pandas.pydata.org/pandas-docs/stable/user_guide/indexing.html#returning-a-view-versus-a-copy\n",
      "  \"\"\"\n"
     ]
    },
    {
     "data": {
      "text/html": [
       "<div>\n",
       "<style scoped>\n",
       "    .dataframe tbody tr th:only-of-type {\n",
       "        vertical-align: middle;\n",
       "    }\n",
       "\n",
       "    .dataframe tbody tr th {\n",
       "        vertical-align: top;\n",
       "    }\n",
       "\n",
       "    .dataframe thead th {\n",
       "        text-align: right;\n",
       "    }\n",
       "</style>\n",
       "<table border=\"1\" class=\"dataframe\">\n",
       "  <thead>\n",
       "    <tr style=\"text-align: right;\">\n",
       "      <th></th>\n",
       "      <th>age</th>\n",
       "      <th>sex</th>\n",
       "      <th>height</th>\n",
       "      <th>weight</th>\n",
       "      <th>dateOfoperation</th>\n",
       "      <th>cancerStaging</th>\n",
       "      <th>hospitalization</th>\n",
       "      <th>diseaseCode</th>\n",
       "      <th>BMI</th>\n",
       "      <th>obesity</th>\n",
       "      <th>age_group</th>\n",
       "    </tr>\n",
       "  </thead>\n",
       "  <tbody>\n",
       "    <tr>\n",
       "      <th>0</th>\n",
       "      <td>75</td>\n",
       "      <td>남</td>\n",
       "      <td>161.0</td>\n",
       "      <td>64.0</td>\n",
       "      <td>2011-06-22</td>\n",
       "      <td>I</td>\n",
       "      <td>48</td>\n",
       "      <td>C187</td>\n",
       "      <td>24.690405</td>\n",
       "      <td>정상</td>\n",
       "      <td>70대</td>\n",
       "    </tr>\n",
       "    <tr>\n",
       "      <th>1</th>\n",
       "      <td>52</td>\n",
       "      <td>여</td>\n",
       "      <td>176.6</td>\n",
       "      <td>75.3</td>\n",
       "      <td>2011-05-19</td>\n",
       "      <td>IV</td>\n",
       "      <td>17</td>\n",
       "      <td>C187</td>\n",
       "      <td>24.144242</td>\n",
       "      <td>정상</td>\n",
       "      <td>50대</td>\n",
       "    </tr>\n",
       "    <tr>\n",
       "      <th>2</th>\n",
       "      <td>67</td>\n",
       "      <td>여</td>\n",
       "      <td>154.0</td>\n",
       "      <td>65.6</td>\n",
       "      <td>2011-05-31</td>\n",
       "      <td>III</td>\n",
       "      <td>10</td>\n",
       "      <td>C187</td>\n",
       "      <td>27.660651</td>\n",
       "      <td>비만</td>\n",
       "      <td>60대</td>\n",
       "    </tr>\n",
       "    <tr>\n",
       "      <th>3</th>\n",
       "      <td>62</td>\n",
       "      <td>남</td>\n",
       "      <td>162.0</td>\n",
       "      <td>57.0</td>\n",
       "      <td>2011-06-21</td>\n",
       "      <td>I</td>\n",
       "      <td>11</td>\n",
       "      <td>C187</td>\n",
       "      <td>21.719250</td>\n",
       "      <td>정상</td>\n",
       "      <td>60대</td>\n",
       "    </tr>\n",
       "    <tr>\n",
       "      <th>4</th>\n",
       "      <td>70</td>\n",
       "      <td>남</td>\n",
       "      <td>171.0</td>\n",
       "      <td>65.0</td>\n",
       "      <td>2011-06-09</td>\n",
       "      <td>II</td>\n",
       "      <td>10</td>\n",
       "      <td>C182</td>\n",
       "      <td>22.229062</td>\n",
       "      <td>정상</td>\n",
       "      <td>70대</td>\n",
       "    </tr>\n",
       "    <tr>\n",
       "      <th>...</th>\n",
       "      <td>...</td>\n",
       "      <td>...</td>\n",
       "      <td>...</td>\n",
       "      <td>...</td>\n",
       "      <td>...</td>\n",
       "      <td>...</td>\n",
       "      <td>...</td>\n",
       "      <td>...</td>\n",
       "      <td>...</td>\n",
       "      <td>...</td>\n",
       "      <td>...</td>\n",
       "    </tr>\n",
       "    <tr>\n",
       "      <th>18305</th>\n",
       "      <td>51</td>\n",
       "      <td>여</td>\n",
       "      <td>155.0</td>\n",
       "      <td>47.0</td>\n",
       "      <td>2011-03-03</td>\n",
       "      <td>III</td>\n",
       "      <td>29</td>\n",
       "      <td>C185</td>\n",
       "      <td>19.562955</td>\n",
       "      <td>정상</td>\n",
       "      <td>50대</td>\n",
       "    </tr>\n",
       "    <tr>\n",
       "      <th>18306</th>\n",
       "      <td>55</td>\n",
       "      <td>남</td>\n",
       "      <td>171.0</td>\n",
       "      <td>75.0</td>\n",
       "      <td>2011-04-21</td>\n",
       "      <td>IV</td>\n",
       "      <td>19</td>\n",
       "      <td>C19</td>\n",
       "      <td>25.648918</td>\n",
       "      <td>비만</td>\n",
       "      <td>50대</td>\n",
       "    </tr>\n",
       "    <tr>\n",
       "      <th>18307</th>\n",
       "      <td>54</td>\n",
       "      <td>남</td>\n",
       "      <td>165.0</td>\n",
       "      <td>66.5</td>\n",
       "      <td>2011-04-29</td>\n",
       "      <td>I</td>\n",
       "      <td>37</td>\n",
       "      <td>C189</td>\n",
       "      <td>24.426079</td>\n",
       "      <td>정상</td>\n",
       "      <td>50대</td>\n",
       "    </tr>\n",
       "    <tr>\n",
       "      <th>18308</th>\n",
       "      <td>61</td>\n",
       "      <td>남</td>\n",
       "      <td>159.0</td>\n",
       "      <td>59.0</td>\n",
       "      <td>2011-02-16</td>\n",
       "      <td>II</td>\n",
       "      <td>22</td>\n",
       "      <td>C189</td>\n",
       "      <td>23.337684</td>\n",
       "      <td>정상</td>\n",
       "      <td>60대</td>\n",
       "    </tr>\n",
       "    <tr>\n",
       "      <th>18309</th>\n",
       "      <td>76</td>\n",
       "      <td>남</td>\n",
       "      <td>155.0</td>\n",
       "      <td>49.5</td>\n",
       "      <td>2011-06-03</td>\n",
       "      <td>III</td>\n",
       "      <td>19</td>\n",
       "      <td>C184</td>\n",
       "      <td>20.603538</td>\n",
       "      <td>정상</td>\n",
       "      <td>70대</td>\n",
       "    </tr>\n",
       "  </tbody>\n",
       "</table>\n",
       "<p>17878 rows × 11 columns</p>\n",
       "</div>"
      ],
      "text/plain": [
       "       age sex  height  weight dateOfoperation cancerStaging  hospitalization  \\\n",
       "0       75   남   161.0    64.0      2011-06-22             I               48   \n",
       "1       52   여   176.6    75.3      2011-05-19            IV               17   \n",
       "2       67   여   154.0    65.6      2011-05-31           III               10   \n",
       "3       62   남   162.0    57.0      2011-06-21             I               11   \n",
       "4       70   남   171.0    65.0      2011-06-09            II               10   \n",
       "...    ...  ..     ...     ...             ...           ...              ...   \n",
       "18305   51   여   155.0    47.0      2011-03-03           III               29   \n",
       "18306   55   남   171.0    75.0      2011-04-21            IV               19   \n",
       "18307   54   남   165.0    66.5      2011-04-29             I               37   \n",
       "18308   61   남   159.0    59.0      2011-02-16            II               22   \n",
       "18309   76   남   155.0    49.5      2011-06-03           III               19   \n",
       "\n",
       "      diseaseCode        BMI obesity age_group  \n",
       "0            C187  24.690405      정상       70대  \n",
       "1            C187  24.144242      정상       50대  \n",
       "2            C187  27.660651      비만       60대  \n",
       "3            C187  21.719250      정상       60대  \n",
       "4            C182  22.229062      정상       70대  \n",
       "...           ...        ...     ...       ...  \n",
       "18305        C185  19.562955      정상       50대  \n",
       "18306         C19  25.648918      비만       50대  \n",
       "18307        C189  24.426079      정상       50대  \n",
       "18308        C189  23.337684      정상       60대  \n",
       "18309        C184  20.603538      정상       70대  \n",
       "\n",
       "[17878 rows x 11 columns]"
      ]
     },
     "execution_count": 88,
     "metadata": {},
     "output_type": "execute_result"
    }
   ],
   "source": [
    "#나이대 열 생성\n",
    "group_bin1=[10,20,30,40,50,60,70,80,90,100,200]\n",
    "group_name1=['10대','20대','30대','40대','50대','60대','70대','80대','90대','100이상']\n",
    "data_age=pd.cut(data.age,group_bin1, right=False, labels=group_name1)\n",
    "data['age_group']=data_age\n",
    "data"
   ]
  },
  {
   "cell_type": "code",
   "execution_count": 76,
   "metadata": {},
   "outputs": [
    {
     "data": {
      "text/plain": [
       "age_group\n",
       "10대      0.000056\n",
       "20대      0.003300\n",
       "30대      0.022038\n",
       "40대      0.089104\n",
       "50대      0.244043\n",
       "60대      0.305795\n",
       "70대      0.267200\n",
       "80대      0.065499\n",
       "90대      0.002909\n",
       "100이상    0.000056\n",
       "Name: age, dtype: float64"
      ]
     },
     "execution_count": 76,
     "metadata": {},
     "output_type": "execute_result"
    }
   ],
   "source": [
    "#나이대별 환자 수 비율\n",
    "data_age=data.groupby('age_group').age.count()\n",
    "data_age/data['age'].count()"
   ]
  },
  {
   "cell_type": "markdown",
   "metadata": {},
   "source": [
    "### 나이대별 비율을 보면 50대에서 70대가 확실히 많은 것을 알 수 있으며, 10대와 100세 이상인 환자의 비율은 0.0056%로 매우 낮은 것을 알 수 있다.따라서 위에서 나타낸 그래프만 보고는 나이와 암의 상관관계를 비교할 수 없다."
   ]
  },
  {
   "cell_type": "markdown",
   "metadata": {},
   "source": [
    "# 2+. 그렇다면 나이에 따른 cancerStaging과의 관계는?"
   ]
  },
  {
   "cell_type": "code",
   "execution_count": 100,
   "metadata": {},
   "outputs": [
    {
     "data": {
      "text/plain": [
       "cancerStaging\n",
       "I      63.463252\n",
       "II     63.742272\n",
       "III    63.452341\n",
       "IV     63.064772\n",
       "Name: age, dtype: float64"
      ]
     },
     "execution_count": 100,
     "metadata": {},
     "output_type": "execute_result"
    }
   ],
   "source": [
    "data.groupby('cancerStaging').age.mean()"
   ]
  },
  {
   "cell_type": "markdown",
   "metadata": {},
   "source": [
    "### 각 단계별 평균 연령이 63세로 비슷한 것으로 보아 암의 진행단계와 나이는 별 관계가 없다고 볼 수 있다."
   ]
  },
  {
   "cell_type": "markdown",
   "metadata": {},
   "source": [
    "# 3. 대장암은 여자가 많이 걸릴까? 남자가 많이 걸릴까?"
   ]
  },
  {
   "cell_type": "code",
   "execution_count": 124,
   "metadata": {},
   "outputs": [
    {
     "data": {
      "text/plain": [
       "sex\n",
       "남    10846\n",
       "여     7032\n",
       "Name: sex, dtype: int64"
      ]
     },
     "execution_count": 124,
     "metadata": {},
     "output_type": "execute_result"
    }
   ],
   "source": [
    "#성별에 따른 환자 수\n",
    "data.groupby('sex').sex.count()"
   ]
  },
  {
   "cell_type": "markdown",
   "metadata": {},
   "source": [
    "### 남자는 10845명, 여자는 7032명으로 남자가 더 많이 걸렸다고 할 수 있다. 하지만 성별에 따라서는 확연한 차이가 나지 않는 것으로 보아 성별이 영향을 미친다고는 할 수 없다."
   ]
  },
  {
   "cell_type": "markdown",
   "metadata": {},
   "source": [
    "# 3+. 1번질문과 3번질문 비교"
   ]
  },
  {
   "cell_type": "code",
   "execution_count": 86,
   "metadata": {},
   "outputs": [
    {
     "data": {
      "text/html": [
       "<div>\n",
       "<style scoped>\n",
       "    .dataframe tbody tr th:only-of-type {\n",
       "        vertical-align: middle;\n",
       "    }\n",
       "\n",
       "    .dataframe tbody tr th {\n",
       "        vertical-align: top;\n",
       "    }\n",
       "\n",
       "    .dataframe thead th {\n",
       "        text-align: right;\n",
       "    }\n",
       "</style>\n",
       "<table border=\"1\" class=\"dataframe\">\n",
       "  <thead>\n",
       "    <tr style=\"text-align: right;\">\n",
       "      <th>obesity</th>\n",
       "      <th>저체중</th>\n",
       "      <th>정상</th>\n",
       "      <th>비만</th>\n",
       "    </tr>\n",
       "    <tr>\n",
       "      <th>sex</th>\n",
       "      <th></th>\n",
       "      <th></th>\n",
       "      <th></th>\n",
       "    </tr>\n",
       "  </thead>\n",
       "  <tbody>\n",
       "    <tr>\n",
       "      <th>남</th>\n",
       "      <td>601</td>\n",
       "      <td>6956</td>\n",
       "      <td>3288</td>\n",
       "    </tr>\n",
       "    <tr>\n",
       "      <th>여</th>\n",
       "      <td>375</td>\n",
       "      <td>4514</td>\n",
       "      <td>2143</td>\n",
       "    </tr>\n",
       "  </tbody>\n",
       "</table>\n",
       "</div>"
      ],
      "text/plain": [
       "obesity  저체중    정상    비만\n",
       "sex                     \n",
       "남        601  6956  3288\n",
       "여        375  4514  2143"
      ]
     },
     "execution_count": 86,
     "metadata": {},
     "output_type": "execute_result"
    }
   ],
   "source": [
    "crosstab=pd.crosstab(data.sex,data.obesity)\n",
    "crosstab"
   ]
  },
  {
   "cell_type": "code",
   "execution_count": 87,
   "metadata": {},
   "outputs": [
    {
     "data": {
      "text/plain": [
       "(0.37753278745501284,\n",
       " 0.8279799054036793,\n",
       " 2,\n",
       " array([[ 592.086, 6958.223, 3294.691],\n",
       "        [ 383.914, 4511.777, 2136.309]]))"
      ]
     },
     "execution_count": 87,
     "metadata": {},
     "output_type": "execute_result"
    }
   ],
   "source": [
    "stats.chi2_contingency(crosstab)"
   ]
  },
  {
   "cell_type": "markdown",
   "metadata": {},
   "source": [
    "### 카이제곱검정을 이용하여 BMI와 성별 간에 차이를 알아보았다. p값을 계산해보아도 0.05보다 큰 값인 0.83이 나온 것으로 보아 이 두 관계에는 유의한 의미가 없다는 것을 알 수 있으며, 위에서 밝혔듯이 BMI와 암이 특별한 관계가 없었기에 성별도 암과 특별한 관련이 없다는 것을 알 수 있다."
   ]
  },
  {
   "cell_type": "code",
   "execution_count": null,
   "metadata": {},
   "outputs": [],
   "source": []
  }
 ],
 "metadata": {
  "kernelspec": {
   "display_name": "Python 3",
   "language": "python",
   "name": "python3"
  },
  "language_info": {
   "codemirror_mode": {
    "name": "ipython",
    "version": 3
   },
   "file_extension": ".py",
   "mimetype": "text/x-python",
   "name": "python",
   "nbconvert_exporter": "python",
   "pygments_lexer": "ipython3",
   "version": "3.7.6"
  }
 },
 "nbformat": 4,
 "nbformat_minor": 4
}
