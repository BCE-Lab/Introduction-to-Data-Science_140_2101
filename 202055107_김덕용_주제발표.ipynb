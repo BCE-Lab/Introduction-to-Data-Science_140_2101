{
 "cells": [
  {
   "cell_type": "markdown",
   "metadata": {},
   "source": [
    "# 음주, 흡연량과 각종 질병과의 상관관계"
   ]
  },
  {
   "cell_type": "markdown",
   "metadata": {},
   "source": [
    "## 암, 고혈압, 골다공증, 우울증"
   ]
  },
  {
   "cell_type": "code",
   "execution_count": 1,
   "metadata": {},
   "outputs": [],
   "source": [
    "import numpy as np\n",
    "import numpy.random as random\n",
    "import scipy as sp\n",
    "import scipy.stats as stats\n",
    "import pandas as pd\n",
    "from pandas import Series, DataFrame\n",
    "\n",
    "# 시각화 라이브러리\n",
    "import matplotlib.pyplot as plt\n",
    "import matplotlib as mpl\n",
    "import seaborn as sns\n",
    "%matplotlib inline\n",
    "\n",
    "# 소수점 3자리까지 표시\n",
    "%precision 3\n",
    "df = pd.read_csv('hn18.csv', encoding = 'cp949', low_memory=False)"
   ]
  },
  {
   "cell_type": "markdown",
   "metadata": {},
   "source": [
    "# 필요한 column만 추출"
   ]
  },
  {
   "cell_type": "code",
   "execution_count": 2,
   "metadata": {},
   "outputs": [],
   "source": [
    "df2 = df[['sex', 'age', 'DI1_pr', 'DM4_pr', 'DJ2_pr', 'DE1_pr', 'DE2_pr', 'DC1_pr', 'DC2_pr', 'DC3_pr', 'DC4_pr',\n",
    "           'DC5_pr', 'DC6_pr', 'DC7_pr', 'DF2_pr', 'BD2_1', 'BS1_1', 'BS3_2', 'HE_ht', 'HE_wt', 'HE_wc', 'HE_BMI']]"
   ]
  },
  {
   "cell_type": "code",
   "execution_count": 3,
   "metadata": {
    "scrolled": false
   },
   "outputs": [],
   "source": [
    "data = df2.rename({'sex':'성별', 'age':'나이', 'DI1_pr':'고혈압유병', 'DM4_pr':'골다공증', \n",
    "             'DJ2_pr':'폐결핵', 'DE1_pr':'당뇨병', 'DE2_pr':'갑상선질환', 'DC1_pr':'위암', 'DC2_pr':'간암', 'DC3_pr':'대장암', \n",
    "             'DC4_pr':'유방암', 'DC5_pr':'자궁경부암', 'DC6_pr':'폐암', 'DC7_pr':'갑상선암', 'DF2_pr':'우울증', 'BD2_1':'1회음주량(잔)', \n",
    "             'BS1_1':'평생흡연여부', 'BS3_2':'하루평균흡연량', 'HE_ht':'키', 'HE_wt':'몸무게', 'HE_wc':'허리둘레',\n",
    "             'HE_BMI':'BMI'}, axis = 'columns')"
   ]
  },
  {
   "cell_type": "markdown",
   "metadata": {},
   "source": [
    "### 나이대, 비만도 열 추가"
   ]
  },
  {
   "cell_type": "code",
   "execution_count": 4,
   "metadata": {
    "scrolled": true
   },
   "outputs": [
    {
     "data": {
      "text/html": [
       "<div>\n",
       "<style scoped>\n",
       "    .dataframe tbody tr th:only-of-type {\n",
       "        vertical-align: middle;\n",
       "    }\n",
       "\n",
       "    .dataframe tbody tr th {\n",
       "        vertical-align: top;\n",
       "    }\n",
       "\n",
       "    .dataframe thead th {\n",
       "        text-align: right;\n",
       "    }\n",
       "</style>\n",
       "<table border=\"1\" class=\"dataframe\">\n",
       "  <thead>\n",
       "    <tr style=\"text-align: right;\">\n",
       "      <th></th>\n",
       "      <th>성별</th>\n",
       "      <th>나이</th>\n",
       "      <th>고혈압유병</th>\n",
       "      <th>골다공증</th>\n",
       "      <th>폐결핵</th>\n",
       "      <th>당뇨병</th>\n",
       "      <th>갑상선질환</th>\n",
       "      <th>위암</th>\n",
       "      <th>간암</th>\n",
       "      <th>대장암</th>\n",
       "      <th>...</th>\n",
       "      <th>우울증</th>\n",
       "      <th>1회음주량(잔)</th>\n",
       "      <th>평생흡연여부</th>\n",
       "      <th>하루평균흡연량</th>\n",
       "      <th>키</th>\n",
       "      <th>몸무게</th>\n",
       "      <th>허리둘레</th>\n",
       "      <th>BMI</th>\n",
       "      <th>나이대</th>\n",
       "      <th>비만도</th>\n",
       "    </tr>\n",
       "  </thead>\n",
       "  <tbody>\n",
       "    <tr>\n",
       "      <th>0</th>\n",
       "      <td>1</td>\n",
       "      <td>80</td>\n",
       "      <td>1.0</td>\n",
       "      <td>8.0</td>\n",
       "      <td>8.0</td>\n",
       "      <td>8.0</td>\n",
       "      <td>8.0</td>\n",
       "      <td>8.0</td>\n",
       "      <td>8.0</td>\n",
       "      <td>8.0</td>\n",
       "      <td>...</td>\n",
       "      <td>8.0</td>\n",
       "      <td>1.0</td>\n",
       "      <td>2.0</td>\n",
       "      <td>888.0</td>\n",
       "      <td>162.4</td>\n",
       "      <td>56.0</td>\n",
       "      <td>82.2</td>\n",
       "      <td>21.233226</td>\n",
       "      <td>80대</td>\n",
       "      <td>정상</td>\n",
       "    </tr>\n",
       "    <tr>\n",
       "      <th>1</th>\n",
       "      <td>1</td>\n",
       "      <td>78</td>\n",
       "      <td>8.0</td>\n",
       "      <td>8.0</td>\n",
       "      <td>8.0</td>\n",
       "      <td>8.0</td>\n",
       "      <td>8.0</td>\n",
       "      <td>8.0</td>\n",
       "      <td>8.0</td>\n",
       "      <td>8.0</td>\n",
       "      <td>...</td>\n",
       "      <td>8.0</td>\n",
       "      <td>2.0</td>\n",
       "      <td>3.0</td>\n",
       "      <td>888.0</td>\n",
       "      <td>167.7</td>\n",
       "      <td>76.4</td>\n",
       "      <td>98.3</td>\n",
       "      <td>27.166096</td>\n",
       "      <td>70대</td>\n",
       "      <td>비만</td>\n",
       "    </tr>\n",
       "    <tr>\n",
       "      <th>2</th>\n",
       "      <td>2</td>\n",
       "      <td>75</td>\n",
       "      <td>1.0</td>\n",
       "      <td>8.0</td>\n",
       "      <td>8.0</td>\n",
       "      <td>8.0</td>\n",
       "      <td>8.0</td>\n",
       "      <td>8.0</td>\n",
       "      <td>8.0</td>\n",
       "      <td>8.0</td>\n",
       "      <td>...</td>\n",
       "      <td>8.0</td>\n",
       "      <td>8.0</td>\n",
       "      <td>3.0</td>\n",
       "      <td>888.0</td>\n",
       "      <td>157.7</td>\n",
       "      <td>53.2</td>\n",
       "      <td>80.7</td>\n",
       "      <td>21.391845</td>\n",
       "      <td>70대</td>\n",
       "      <td>정상</td>\n",
       "    </tr>\n",
       "    <tr>\n",
       "      <th>3</th>\n",
       "      <td>2</td>\n",
       "      <td>43</td>\n",
       "      <td>8.0</td>\n",
       "      <td>8.0</td>\n",
       "      <td>8.0</td>\n",
       "      <td>8.0</td>\n",
       "      <td>8.0</td>\n",
       "      <td>8.0</td>\n",
       "      <td>8.0</td>\n",
       "      <td>8.0</td>\n",
       "      <td>...</td>\n",
       "      <td>8.0</td>\n",
       "      <td>2.0</td>\n",
       "      <td>3.0</td>\n",
       "      <td>888.0</td>\n",
       "      <td>151.0</td>\n",
       "      <td>53.5</td>\n",
       "      <td>79.7</td>\n",
       "      <td>23.463883</td>\n",
       "      <td>40대</td>\n",
       "      <td>정상</td>\n",
       "    </tr>\n",
       "    <tr>\n",
       "      <th>4</th>\n",
       "      <td>2</td>\n",
       "      <td>80</td>\n",
       "      <td>8.0</td>\n",
       "      <td>8.0</td>\n",
       "      <td>8.0</td>\n",
       "      <td>1.0</td>\n",
       "      <td>8.0</td>\n",
       "      <td>8.0</td>\n",
       "      <td>8.0</td>\n",
       "      <td>8.0</td>\n",
       "      <td>...</td>\n",
       "      <td>8.0</td>\n",
       "      <td>8.0</td>\n",
       "      <td>3.0</td>\n",
       "      <td>888.0</td>\n",
       "      <td>146.1</td>\n",
       "      <td>57.6</td>\n",
       "      <td>93.0</td>\n",
       "      <td>26.984977</td>\n",
       "      <td>80대</td>\n",
       "      <td>비만</td>\n",
       "    </tr>\n",
       "    <tr>\n",
       "      <th>...</th>\n",
       "      <td>...</td>\n",
       "      <td>...</td>\n",
       "      <td>...</td>\n",
       "      <td>...</td>\n",
       "      <td>...</td>\n",
       "      <td>...</td>\n",
       "      <td>...</td>\n",
       "      <td>...</td>\n",
       "      <td>...</td>\n",
       "      <td>...</td>\n",
       "      <td>...</td>\n",
       "      <td>...</td>\n",
       "      <td>...</td>\n",
       "      <td>...</td>\n",
       "      <td>...</td>\n",
       "      <td>...</td>\n",
       "      <td>...</td>\n",
       "      <td>...</td>\n",
       "      <td>...</td>\n",
       "      <td>...</td>\n",
       "      <td>...</td>\n",
       "    </tr>\n",
       "    <tr>\n",
       "      <th>7987</th>\n",
       "      <td>2</td>\n",
       "      <td>73</td>\n",
       "      <td>1.0</td>\n",
       "      <td>8.0</td>\n",
       "      <td>8.0</td>\n",
       "      <td>8.0</td>\n",
       "      <td>8.0</td>\n",
       "      <td>8.0</td>\n",
       "      <td>8.0</td>\n",
       "      <td>8.0</td>\n",
       "      <td>...</td>\n",
       "      <td>8.0</td>\n",
       "      <td>8.0</td>\n",
       "      <td>3.0</td>\n",
       "      <td>888.0</td>\n",
       "      <td>145.2</td>\n",
       "      <td>51.8</td>\n",
       "      <td>77.2</td>\n",
       "      <td>24.569512</td>\n",
       "      <td>70대</td>\n",
       "      <td>정상</td>\n",
       "    </tr>\n",
       "    <tr>\n",
       "      <th>7988</th>\n",
       "      <td>1</td>\n",
       "      <td>43</td>\n",
       "      <td>1.0</td>\n",
       "      <td>8.0</td>\n",
       "      <td>8.0</td>\n",
       "      <td>8.0</td>\n",
       "      <td>8.0</td>\n",
       "      <td>8.0</td>\n",
       "      <td>8.0</td>\n",
       "      <td>8.0</td>\n",
       "      <td>...</td>\n",
       "      <td>0.0</td>\n",
       "      <td>5.0</td>\n",
       "      <td>2.0</td>\n",
       "      <td>20.0</td>\n",
       "      <td>176.8</td>\n",
       "      <td>84.1</td>\n",
       "      <td>99.2</td>\n",
       "      <td>26.904906</td>\n",
       "      <td>40대</td>\n",
       "      <td>비만</td>\n",
       "    </tr>\n",
       "    <tr>\n",
       "      <th>7989</th>\n",
       "      <td>2</td>\n",
       "      <td>39</td>\n",
       "      <td>8.0</td>\n",
       "      <td>9.0</td>\n",
       "      <td>9.0</td>\n",
       "      <td>8.0</td>\n",
       "      <td>9.0</td>\n",
       "      <td>9.0</td>\n",
       "      <td>9.0</td>\n",
       "      <td>9.0</td>\n",
       "      <td>...</td>\n",
       "      <td>9.0</td>\n",
       "      <td>3.0</td>\n",
       "      <td>3.0</td>\n",
       "      <td>888.0</td>\n",
       "      <td>163.1</td>\n",
       "      <td>59.5</td>\n",
       "      <td>81.2</td>\n",
       "      <td>22.367067</td>\n",
       "      <td>30대</td>\n",
       "      <td>정상</td>\n",
       "    </tr>\n",
       "    <tr>\n",
       "      <th>7990</th>\n",
       "      <td>1</td>\n",
       "      <td>10</td>\n",
       "      <td>8.0</td>\n",
       "      <td>8.0</td>\n",
       "      <td>8.0</td>\n",
       "      <td>8.0</td>\n",
       "      <td>8.0</td>\n",
       "      <td>8.0</td>\n",
       "      <td>8.0</td>\n",
       "      <td>8.0</td>\n",
       "      <td>...</td>\n",
       "      <td>8.0</td>\n",
       "      <td>8.0</td>\n",
       "      <td>8.0</td>\n",
       "      <td>888.0</td>\n",
       "      <td>141.4</td>\n",
       "      <td>35.3</td>\n",
       "      <td>63.0</td>\n",
       "      <td>17.655332</td>\n",
       "      <td>미성년자</td>\n",
       "      <td>저체중</td>\n",
       "    </tr>\n",
       "    <tr>\n",
       "      <th>7991</th>\n",
       "      <td>2</td>\n",
       "      <td>8</td>\n",
       "      <td>8.0</td>\n",
       "      <td>8.0</td>\n",
       "      <td>8.0</td>\n",
       "      <td>8.0</td>\n",
       "      <td>8.0</td>\n",
       "      <td>8.0</td>\n",
       "      <td>8.0</td>\n",
       "      <td>8.0</td>\n",
       "      <td>...</td>\n",
       "      <td>8.0</td>\n",
       "      <td>8.0</td>\n",
       "      <td>8.0</td>\n",
       "      <td>888.0</td>\n",
       "      <td>141.7</td>\n",
       "      <td>38.6</td>\n",
       "      <td>70.6</td>\n",
       "      <td>19.224170</td>\n",
       "      <td>미성년자</td>\n",
       "      <td>정상</td>\n",
       "    </tr>\n",
       "  </tbody>\n",
       "</table>\n",
       "<p>7992 rows × 24 columns</p>\n",
       "</div>"
      ],
      "text/plain": [
       "      성별  나이  고혈압유병  골다공증  폐결핵  당뇨병  갑상선질환   위암   간암  대장암  ...  우울증  1회음주량(잔)  \\\n",
       "0      1  80    1.0   8.0  8.0  8.0    8.0  8.0  8.0  8.0  ...  8.0       1.0   \n",
       "1      1  78    8.0   8.0  8.0  8.0    8.0  8.0  8.0  8.0  ...  8.0       2.0   \n",
       "2      2  75    1.0   8.0  8.0  8.0    8.0  8.0  8.0  8.0  ...  8.0       8.0   \n",
       "3      2  43    8.0   8.0  8.0  8.0    8.0  8.0  8.0  8.0  ...  8.0       2.0   \n",
       "4      2  80    8.0   8.0  8.0  1.0    8.0  8.0  8.0  8.0  ...  8.0       8.0   \n",
       "...   ..  ..    ...   ...  ...  ...    ...  ...  ...  ...  ...  ...       ...   \n",
       "7987   2  73    1.0   8.0  8.0  8.0    8.0  8.0  8.0  8.0  ...  8.0       8.0   \n",
       "7988   1  43    1.0   8.0  8.0  8.0    8.0  8.0  8.0  8.0  ...  0.0       5.0   \n",
       "7989   2  39    8.0   9.0  9.0  8.0    9.0  9.0  9.0  9.0  ...  9.0       3.0   \n",
       "7990   1  10    8.0   8.0  8.0  8.0    8.0  8.0  8.0  8.0  ...  8.0       8.0   \n",
       "7991   2   8    8.0   8.0  8.0  8.0    8.0  8.0  8.0  8.0  ...  8.0       8.0   \n",
       "\n",
       "      평생흡연여부  하루평균흡연량      키   몸무게  허리둘레        BMI   나이대  비만도  \n",
       "0        2.0    888.0  162.4  56.0  82.2  21.233226   80대   정상  \n",
       "1        3.0    888.0  167.7  76.4  98.3  27.166096   70대   비만  \n",
       "2        3.0    888.0  157.7  53.2  80.7  21.391845   70대   정상  \n",
       "3        3.0    888.0  151.0  53.5  79.7  23.463883   40대   정상  \n",
       "4        3.0    888.0  146.1  57.6  93.0  26.984977   80대   비만  \n",
       "...      ...      ...    ...   ...   ...        ...   ...  ...  \n",
       "7987     3.0    888.0  145.2  51.8  77.2  24.569512   70대   정상  \n",
       "7988     2.0     20.0  176.8  84.1  99.2  26.904906   40대   비만  \n",
       "7989     3.0    888.0  163.1  59.5  81.2  22.367067   30대   정상  \n",
       "7990     8.0    888.0  141.4  35.3  63.0  17.655332  미성년자  저체중  \n",
       "7991     8.0    888.0  141.7  38.6  70.6  19.224170  미성년자   정상  \n",
       "\n",
       "[7992 rows x 24 columns]"
      ]
     },
     "execution_count": 4,
     "metadata": {},
     "output_type": "execute_result"
    }
   ],
   "source": [
    "age_group = [0, 20, 30, 40, 50, 60, 70, 80, 90]\n",
    "\n",
    "age_group_cut_data = pd.cut(data.성별, age_group)\n",
    "\n",
    "\n",
    "group_names = ['미성년자', '20대', '30대', '40대', '50대', '60대', '70대', '80대']\n",
    "age_group_data = pd.cut(data.나이, age_group, labels = group_names, right = False)\n",
    "data['나이대'] = age_group_data\n",
    "\n",
    "obesity = [0, 18.5, 25, 100]\n",
    "data['비만도'] = pd.cut(data.BMI, obesity, labels = ['저체중', '정상', '비만'], right = False)\n",
    "\n",
    "data"
   ]
  },
  {
   "cell_type": "markdown",
   "metadata": {},
   "source": [
    "### 객관식 번호로 입력된 설문 결과를 유효값(해당됨, 해당안됨)으로 변경"
   ]
  },
  {
   "cell_type": "code",
   "execution_count": 5,
   "metadata": {
    "scrolled": true
   },
   "outputs": [],
   "source": [
    "#성별변환\n",
    "sex2 = [0, 1.5, 2.5]\n",
    "data['성별'] = pd.cut(data.성별, sex2, labels = ['남성', '여성'], right = False)\n",
    "\n",
    "#고혈압유병\n",
    "bp = [0, 0.5, 1.5, 9.5, 10]\n",
    "data['고혈압유병'] = pd.cut(data.고혈압유병, bp, labels = ['있음', '없음', '해당없음', '무응답'], right = False)\n",
    "\n",
    "#골다공증\n",
    "data['골다공증'] = pd.cut(data.골다공증, bp, labels = ['있음', '없음', '해당없음', '무응답'], right = False)\n",
    "\n",
    "#폐결핵\n",
    "data['폐결핵'] = pd.cut(data.폐결핵, bp, labels = ['있음', '없음', '해당없음', '무응답'], right = False)\n",
    "\n",
    "#당뇨병\n",
    "data['당뇨병'] = pd.cut(data.당뇨병, bp, labels = ['있음', '없음', '해당없음', '무응답'], right = False)\n",
    "\n",
    "#감상선질환\n",
    "data['갑상선질환'] = pd.cut(data.갑상선질환, bp, labels = ['있음', '없음', '해당없음', '무응답'], right = False)\n",
    "\n",
    "#위암\n",
    "data['위암'] = pd.cut(data.위암, bp, labels = ['있음', '없음', '해당없음', '무응답'], right = False)\n",
    "\n",
    "#간암\n",
    "data['간암'] = pd.cut(data.간암, bp, labels = ['있음', '없음', '해당없음', '무응답'], right = False)\n",
    "\n",
    "#대장암\n",
    "data['대장암'] = pd.cut(data.대장암, bp, labels = ['있음', '없음', '해당없음', '무응답'], right = False)\n",
    "\n",
    "#유방암\n",
    "data['유방암'] = pd.cut(data.유방암, bp, labels = ['있음', '없음', '해당없음', '무응답'], right = False)\n",
    "\n",
    "#자궁경부암\n",
    "data['자궁경부암'] = pd.cut(data.자궁경부암, bp, labels = ['있음', '없음', '해당없음', '무응답'], right = False)\n",
    "\n",
    "#폐암\n",
    "data['폐암'] = pd.cut(data.폐암, bp, labels = ['있음', '없음', '해당없음', '무응답'], right = False)\n",
    "\n",
    "#갑상선암\n",
    "data['갑상선암'] = pd.cut(data.갑상선암, bp, labels = ['있음', '없음', '해당없음', '무응답'], right = False)\n",
    "\n",
    "#우울증\n",
    "data['우울증'] = pd.cut(data.우울증, bp, labels = ['있음', '없음', '해당없음', '무응답'], right = False)\n",
    "\n",
    "#평생흡연여부\n",
    "cg = [0, 1.5, 2.5, 3.5, 8.5, 9.5]\n",
    "data['평생흡연여부'] = pd.cut(data.평생흡연여부, cg, labels = ['5갑미만', '5갑이상', '비흡연자', '해당없음', '무응답'], right = False)\n",
    "\n",
    "#BMI\n",
    "\n",
    "\n",
    "#data['1일 흡연량'] = ['무응답' if b == 999 & '해당없음' if b == 888 for b in data['하루평균흡연량']]\n",
    "\n",
    "#하루평균흡연량\n",
    "data[['하루평균흡연량']] = data[['하루평균흡연량']].replace(888, 0)\n",
    "data[['하루평균흡연량']] = data[['하루평균흡연량']].replace(999, 0)"
   ]
  },
  {
   "cell_type": "markdown",
   "metadata": {},
   "source": [
    "# 1.흡연의 영향"
   ]
  },
  {
   "cell_type": "markdown",
   "metadata": {},
   "source": [
    "### 성별별 흡연 여부(교차표, 막대그래프)"
   ]
  },
  {
   "cell_type": "code",
   "execution_count": 6,
   "metadata": {
    "scrolled": true
   },
   "outputs": [
    {
     "data": {
      "text/html": [
       "<div>\n",
       "<style scoped>\n",
       "    .dataframe tbody tr th:only-of-type {\n",
       "        vertical-align: middle;\n",
       "    }\n",
       "\n",
       "    .dataframe tbody tr th {\n",
       "        vertical-align: top;\n",
       "    }\n",
       "\n",
       "    .dataframe thead th {\n",
       "        text-align: right;\n",
       "    }\n",
       "</style>\n",
       "<table border=\"1\" class=\"dataframe\">\n",
       "  <thead>\n",
       "    <tr style=\"text-align: right;\">\n",
       "      <th>성별</th>\n",
       "      <th>남성</th>\n",
       "      <th>여성</th>\n",
       "    </tr>\n",
       "    <tr>\n",
       "      <th>평생흡연여부</th>\n",
       "      <th></th>\n",
       "      <th></th>\n",
       "    </tr>\n",
       "  </thead>\n",
       "  <tbody>\n",
       "    <tr>\n",
       "      <th>5갑미만</th>\n",
       "      <td>72</td>\n",
       "      <td>56</td>\n",
       "    </tr>\n",
       "    <tr>\n",
       "      <th>5갑이상</th>\n",
       "      <td>2001</td>\n",
       "      <td>360</td>\n",
       "    </tr>\n",
       "    <tr>\n",
       "      <th>비흡연자</th>\n",
       "      <td>641</td>\n",
       "      <td>3054</td>\n",
       "    </tr>\n",
       "    <tr>\n",
       "      <th>해당없음</th>\n",
       "      <td>719</td>\n",
       "      <td>686</td>\n",
       "    </tr>\n",
       "    <tr>\n",
       "      <th>무응답</th>\n",
       "      <td>20</td>\n",
       "      <td>31</td>\n",
       "    </tr>\n",
       "  </tbody>\n",
       "</table>\n",
       "</div>"
      ],
      "text/plain": [
       "성별        남성    여성\n",
       "평생흡연여부            \n",
       "5갑미만      72    56\n",
       "5갑이상    2001   360\n",
       "비흡연자     641  3054\n",
       "해당없음     719   686\n",
       "무응답       20    31"
      ]
     },
     "execution_count": 6,
     "metadata": {},
     "output_type": "execute_result"
    }
   ],
   "source": [
    "pd.crosstab(index = [data['평생흡연여부']], columns = data['성별'])"
   ]
  },
  {
   "cell_type": "code",
   "execution_count": 7,
   "metadata": {
    "scrolled": true
   },
   "outputs": [
    {
     "data": {
      "text/plain": [
       "<matplotlib.axes._subplots.AxesSubplot at 0x15ae8abf7f0>"
      ]
     },
     "execution_count": 7,
     "metadata": {},
     "output_type": "execute_result"
    },
    {
     "name": "stderr",
     "output_type": "stream",
     "text": [
      "C:\\anaconda\\lib\\site-packages\\matplotlib\\backends\\backend_agg.py:214: RuntimeWarning: Glyph 54616 missing from current font.\n",
      "  font.set_text(s, 0.0, flags=flags)\n",
      "C:\\anaconda\\lib\\site-packages\\matplotlib\\backends\\backend_agg.py:214: RuntimeWarning: Glyph 47336 missing from current font.\n",
      "  font.set_text(s, 0.0, flags=flags)\n",
      "C:\\anaconda\\lib\\site-packages\\matplotlib\\backends\\backend_agg.py:214: RuntimeWarning: Glyph 54217 missing from current font.\n",
      "  font.set_text(s, 0.0, flags=flags)\n",
      "C:\\anaconda\\lib\\site-packages\\matplotlib\\backends\\backend_agg.py:214: RuntimeWarning: Glyph 44512 missing from current font.\n",
      "  font.set_text(s, 0.0, flags=flags)\n",
      "C:\\anaconda\\lib\\site-packages\\matplotlib\\backends\\backend_agg.py:214: RuntimeWarning: Glyph 55137 missing from current font.\n",
      "  font.set_text(s, 0.0, flags=flags)\n",
      "C:\\anaconda\\lib\\site-packages\\matplotlib\\backends\\backend_agg.py:214: RuntimeWarning: Glyph 50672 missing from current font.\n",
      "  font.set_text(s, 0.0, flags=flags)\n",
      "C:\\anaconda\\lib\\site-packages\\matplotlib\\backends\\backend_agg.py:214: RuntimeWarning: Glyph 47049 missing from current font.\n",
      "  font.set_text(s, 0.0, flags=flags)\n",
      "C:\\anaconda\\lib\\site-packages\\matplotlib\\backends\\backend_agg.py:183: RuntimeWarning: Glyph 54616 missing from current font.\n",
      "  font.set_text(s, 0, flags=flags)\n",
      "C:\\anaconda\\lib\\site-packages\\matplotlib\\backends\\backend_agg.py:183: RuntimeWarning: Glyph 47336 missing from current font.\n",
      "  font.set_text(s, 0, flags=flags)\n",
      "C:\\anaconda\\lib\\site-packages\\matplotlib\\backends\\backend_agg.py:183: RuntimeWarning: Glyph 54217 missing from current font.\n",
      "  font.set_text(s, 0, flags=flags)\n",
      "C:\\anaconda\\lib\\site-packages\\matplotlib\\backends\\backend_agg.py:183: RuntimeWarning: Glyph 44512 missing from current font.\n",
      "  font.set_text(s, 0, flags=flags)\n",
      "C:\\anaconda\\lib\\site-packages\\matplotlib\\backends\\backend_agg.py:183: RuntimeWarning: Glyph 55137 missing from current font.\n",
      "  font.set_text(s, 0, flags=flags)\n",
      "C:\\anaconda\\lib\\site-packages\\matplotlib\\backends\\backend_agg.py:183: RuntimeWarning: Glyph 50672 missing from current font.\n",
      "  font.set_text(s, 0, flags=flags)\n",
      "C:\\anaconda\\lib\\site-packages\\matplotlib\\backends\\backend_agg.py:183: RuntimeWarning: Glyph 47049 missing from current font.\n",
      "  font.set_text(s, 0, flags=flags)\n"
     ]
    },
    {
     "data": {
      "image/png": "[encoded data removed]",
      "text/plain": [
       "<Figure size 432x288 with 1 Axes>"
      ]
     },
     "metadata": {
      "needs_background": "light"
     },
     "output_type": "display_data"
    }
   ],
   "source": [
    "length_a = data.query('성별 == \"남성\"')[\"하루평균흡연량\"]\n",
    "length_b = data.query('성별 == \"여성\"')[\"하루평균흡연량\"]\n",
    "\n",
    "\n",
    "sns.distplot(length_a, bins = 10,\n",
    "             color = 'red', kde = False)\n",
    "sns.distplot(length_b, bins = 10,\n",
    "             color = 'black', kde = False)"
   ]
  },
  {
   "cell_type": "markdown",
   "metadata": {},
   "source": [
    "남성>여성"
   ]
  },
  {
   "cell_type": "markdown",
   "metadata": {},
   "source": [
    "### 폐암과 흡연 - 생각보다 수가 적다 (해당없음이 대다수)"
   ]
  },
  {
   "cell_type": "code",
   "execution_count": 8,
   "metadata": {
    "scrolled": true
   },
   "outputs": [
    {
     "data": {
      "text/html": [
       "<div>\n",
       "<style scoped>\n",
       "    .dataframe tbody tr th:only-of-type {\n",
       "        vertical-align: middle;\n",
       "    }\n",
       "\n",
       "    .dataframe tbody tr th {\n",
       "        vertical-align: top;\n",
       "    }\n",
       "\n",
       "    .dataframe thead th {\n",
       "        text-align: right;\n",
       "    }\n",
       "</style>\n",
       "<table border=\"1\" class=\"dataframe\">\n",
       "  <thead>\n",
       "    <tr style=\"text-align: right;\">\n",
       "      <th></th>\n",
       "      <th>폐암</th>\n",
       "      <th>있음</th>\n",
       "      <th>없음</th>\n",
       "      <th>해당없음</th>\n",
       "    </tr>\n",
       "    <tr>\n",
       "      <th>평생흡연여부</th>\n",
       "      <th>성별</th>\n",
       "      <th></th>\n",
       "      <th></th>\n",
       "      <th></th>\n",
       "    </tr>\n",
       "  </thead>\n",
       "  <tbody>\n",
       "    <tr>\n",
       "      <th rowspan=\"2\" valign=\"top\">5갑미만</th>\n",
       "      <th>남성</th>\n",
       "      <td>0</td>\n",
       "      <td>0</td>\n",
       "      <td>72</td>\n",
       "    </tr>\n",
       "    <tr>\n",
       "      <th>여성</th>\n",
       "      <td>0</td>\n",
       "      <td>0</td>\n",
       "      <td>56</td>\n",
       "    </tr>\n",
       "    <tr>\n",
       "      <th rowspan=\"2\" valign=\"top\">5갑이상</th>\n",
       "      <th>남성</th>\n",
       "      <td>3</td>\n",
       "      <td>5</td>\n",
       "      <td>1993</td>\n",
       "    </tr>\n",
       "    <tr>\n",
       "      <th>여성</th>\n",
       "      <td>1</td>\n",
       "      <td>0</td>\n",
       "      <td>359</td>\n",
       "    </tr>\n",
       "    <tr>\n",
       "      <th rowspan=\"2\" valign=\"top\">비흡연자</th>\n",
       "      <th>남성</th>\n",
       "      <td>0</td>\n",
       "      <td>1</td>\n",
       "      <td>640</td>\n",
       "    </tr>\n",
       "    <tr>\n",
       "      <th>여성</th>\n",
       "      <td>0</td>\n",
       "      <td>1</td>\n",
       "      <td>3053</td>\n",
       "    </tr>\n",
       "    <tr>\n",
       "      <th rowspan=\"2\" valign=\"top\">해당없음</th>\n",
       "      <th>남성</th>\n",
       "      <td>0</td>\n",
       "      <td>0</td>\n",
       "      <td>719</td>\n",
       "    </tr>\n",
       "    <tr>\n",
       "      <th>여성</th>\n",
       "      <td>0</td>\n",
       "      <td>0</td>\n",
       "      <td>686</td>\n",
       "    </tr>\n",
       "    <tr>\n",
       "      <th rowspan=\"2\" valign=\"top\">무응답</th>\n",
       "      <th>남성</th>\n",
       "      <td>0</td>\n",
       "      <td>0</td>\n",
       "      <td>20</td>\n",
       "    </tr>\n",
       "    <tr>\n",
       "      <th>여성</th>\n",
       "      <td>0</td>\n",
       "      <td>0</td>\n",
       "      <td>31</td>\n",
       "    </tr>\n",
       "  </tbody>\n",
       "</table>\n",
       "</div>"
      ],
      "text/plain": [
       "폐암         있음  없음  해당없음\n",
       "평생흡연여부 성별              \n",
       "5갑미만   남성   0   0    72\n",
       "       여성   0   0    56\n",
       "5갑이상   남성   3   5  1993\n",
       "       여성   1   0   359\n",
       "비흡연자   남성   0   1   640\n",
       "       여성   0   1  3053\n",
       "해당없음   남성   0   0   719\n",
       "       여성   0   0   686\n",
       "무응답    남성   0   0    20\n",
       "       여성   0   0    31"
      ]
     },
     "execution_count": 8,
     "metadata": {},
     "output_type": "execute_result"
    }
   ],
   "source": [
    "pd.crosstab(index = [data['평생흡연여부'], data['성별']], columns = data['폐암'])"
   ]
  },
  {
   "cell_type": "markdown",
   "metadata": {},
   "source": [
    "#### 해당없음이 대다수 -> 대다수의 사람이 폐암 검진을 받지 않았다 -> 관련검진을 해본 사람의 결과만 필요"
   ]
  },
  {
   "cell_type": "markdown",
   "metadata": {},
   "source": [
    "#### 건강검진, 암검진여부 열 추가+원래 표에 결합"
   ]
  },
  {
   "cell_type": "code",
   "execution_count": 9,
   "metadata": {
    "scrolled": false
   },
   "outputs": [
    {
     "data": {
      "text/html": [
       "<div>\n",
       "<style scoped>\n",
       "    .dataframe tbody tr th:only-of-type {\n",
       "        vertical-align: middle;\n",
       "    }\n",
       "\n",
       "    .dataframe tbody tr th {\n",
       "        vertical-align: top;\n",
       "    }\n",
       "\n",
       "    .dataframe thead th {\n",
       "        text-align: right;\n",
       "    }\n",
       "</style>\n",
       "<table border=\"1\" class=\"dataframe\">\n",
       "  <thead>\n",
       "    <tr style=\"text-align: right;\">\n",
       "      <th></th>\n",
       "      <th>건강검진여부</th>\n",
       "      <th>암검진여부</th>\n",
       "    </tr>\n",
       "  </thead>\n",
       "  <tbody>\n",
       "    <tr>\n",
       "      <th>0</th>\n",
       "      <td>받지않음</td>\n",
       "      <td>받지않음</td>\n",
       "    </tr>\n",
       "    <tr>\n",
       "      <th>1</th>\n",
       "      <td>해당없음</td>\n",
       "      <td>해당없음</td>\n",
       "    </tr>\n",
       "    <tr>\n",
       "      <th>2</th>\n",
       "      <td>해당없음</td>\n",
       "      <td>해당없음</td>\n",
       "    </tr>\n",
       "    <tr>\n",
       "      <th>3</th>\n",
       "      <td>받지않음</td>\n",
       "      <td>해당없음</td>\n",
       "    </tr>\n",
       "    <tr>\n",
       "      <th>4</th>\n",
       "      <td>받지않음</td>\n",
       "      <td>받지않음</td>\n",
       "    </tr>\n",
       "    <tr>\n",
       "      <th>...</th>\n",
       "      <td>...</td>\n",
       "      <td>...</td>\n",
       "    </tr>\n",
       "    <tr>\n",
       "      <th>7987</th>\n",
       "      <td>해당없음</td>\n",
       "      <td>해당없음</td>\n",
       "    </tr>\n",
       "    <tr>\n",
       "      <th>7988</th>\n",
       "      <td>받지않음</td>\n",
       "      <td>받지않음</td>\n",
       "    </tr>\n",
       "    <tr>\n",
       "      <th>7989</th>\n",
       "      <td>해당없음</td>\n",
       "      <td>해당없음</td>\n",
       "    </tr>\n",
       "    <tr>\n",
       "      <th>7990</th>\n",
       "      <td>해당없음</td>\n",
       "      <td>해당없음</td>\n",
       "    </tr>\n",
       "    <tr>\n",
       "      <th>7991</th>\n",
       "      <td>해당없음</td>\n",
       "      <td>해당없음</td>\n",
       "    </tr>\n",
       "  </tbody>\n",
       "</table>\n",
       "<p>7992 rows × 2 columns</p>\n",
       "</div>"
      ],
      "text/plain": [
       "     건강검진여부 암검진여부\n",
       "0      받지않음  받지않음\n",
       "1      해당없음  해당없음\n",
       "2      해당없음  해당없음\n",
       "3      받지않음  해당없음\n",
       "4      받지않음  받지않음\n",
       "...     ...   ...\n",
       "7987   해당없음  해당없음\n",
       "7988   받지않음  받지않음\n",
       "7989   해당없음  해당없음\n",
       "7990   해당없음  해당없음\n",
       "7991   해당없음  해당없음\n",
       "\n",
       "[7992 rows x 2 columns]"
      ]
     },
     "execution_count": 9,
     "metadata": {},
     "output_type": "execute_result"
    }
   ],
   "source": [
    "df3 = df[['BH1', 'BH2_61']]\n",
    "df3_rn = df3.rename({'BH1' : '건강검진여부', 'BH2_61':'암검진여부'}, axis = 'columns')\n",
    "df3_rn['건강검진여부'] = pd.cut(df3_rn.건강검진여부, bp, labels = ['받음', '받지않음', '해당없음', '무응답'], right = False)\n",
    "df3_rn['암검진여부'] = pd.cut(df3_rn.암검진여부, bp, labels = ['받음', '받지않음', '해당없음', '무응답'], right = False)\n",
    "df3_rn"
   ]
  },
  {
   "cell_type": "code",
   "execution_count": 10,
   "metadata": {
    "scrolled": true
   },
   "outputs": [
    {
     "data": {
      "text/html": [
       "<div>\n",
       "<style scoped>\n",
       "    .dataframe tbody tr th:only-of-type {\n",
       "        vertical-align: middle;\n",
       "    }\n",
       "\n",
       "    .dataframe tbody tr th {\n",
       "        vertical-align: top;\n",
       "    }\n",
       "\n",
       "    .dataframe thead th {\n",
       "        text-align: right;\n",
       "    }\n",
       "</style>\n",
       "<table border=\"1\" class=\"dataframe\">\n",
       "  <thead>\n",
       "    <tr style=\"text-align: right;\">\n",
       "      <th></th>\n",
       "      <th>성별</th>\n",
       "      <th>나이</th>\n",
       "      <th>고혈압유병</th>\n",
       "      <th>골다공증</th>\n",
       "      <th>폐결핵</th>\n",
       "      <th>당뇨병</th>\n",
       "      <th>갑상선질환</th>\n",
       "      <th>위암</th>\n",
       "      <th>간암</th>\n",
       "      <th>대장암</th>\n",
       "      <th>...</th>\n",
       "      <th>평생흡연여부</th>\n",
       "      <th>하루평균흡연량</th>\n",
       "      <th>키</th>\n",
       "      <th>몸무게</th>\n",
       "      <th>허리둘레</th>\n",
       "      <th>BMI</th>\n",
       "      <th>나이대</th>\n",
       "      <th>비만도</th>\n",
       "      <th>건강검진여부</th>\n",
       "      <th>암검진여부</th>\n",
       "    </tr>\n",
       "  </thead>\n",
       "  <tbody>\n",
       "    <tr>\n",
       "      <th>0</th>\n",
       "      <td>남성</td>\n",
       "      <td>80</td>\n",
       "      <td>없음</td>\n",
       "      <td>해당없음</td>\n",
       "      <td>해당없음</td>\n",
       "      <td>해당없음</td>\n",
       "      <td>해당없음</td>\n",
       "      <td>해당없음</td>\n",
       "      <td>해당없음</td>\n",
       "      <td>해당없음</td>\n",
       "      <td>...</td>\n",
       "      <td>5갑이상</td>\n",
       "      <td>0.0</td>\n",
       "      <td>162.4</td>\n",
       "      <td>56.0</td>\n",
       "      <td>82.2</td>\n",
       "      <td>21.233226</td>\n",
       "      <td>80대</td>\n",
       "      <td>정상</td>\n",
       "      <td>받지않음</td>\n",
       "      <td>받지않음</td>\n",
       "    </tr>\n",
       "    <tr>\n",
       "      <th>1</th>\n",
       "      <td>남성</td>\n",
       "      <td>78</td>\n",
       "      <td>해당없음</td>\n",
       "      <td>해당없음</td>\n",
       "      <td>해당없음</td>\n",
       "      <td>해당없음</td>\n",
       "      <td>해당없음</td>\n",
       "      <td>해당없음</td>\n",
       "      <td>해당없음</td>\n",
       "      <td>해당없음</td>\n",
       "      <td>...</td>\n",
       "      <td>비흡연자</td>\n",
       "      <td>0.0</td>\n",
       "      <td>167.7</td>\n",
       "      <td>76.4</td>\n",
       "      <td>98.3</td>\n",
       "      <td>27.166096</td>\n",
       "      <td>70대</td>\n",
       "      <td>비만</td>\n",
       "      <td>해당없음</td>\n",
       "      <td>해당없음</td>\n",
       "    </tr>\n",
       "    <tr>\n",
       "      <th>2</th>\n",
       "      <td>여성</td>\n",
       "      <td>75</td>\n",
       "      <td>없음</td>\n",
       "      <td>해당없음</td>\n",
       "      <td>해당없음</td>\n",
       "      <td>해당없음</td>\n",
       "      <td>해당없음</td>\n",
       "      <td>해당없음</td>\n",
       "      <td>해당없음</td>\n",
       "      <td>해당없음</td>\n",
       "      <td>...</td>\n",
       "      <td>비흡연자</td>\n",
       "      <td>0.0</td>\n",
       "      <td>157.7</td>\n",
       "      <td>53.2</td>\n",
       "      <td>80.7</td>\n",
       "      <td>21.391845</td>\n",
       "      <td>70대</td>\n",
       "      <td>정상</td>\n",
       "      <td>해당없음</td>\n",
       "      <td>해당없음</td>\n",
       "    </tr>\n",
       "    <tr>\n",
       "      <th>3</th>\n",
       "      <td>여성</td>\n",
       "      <td>43</td>\n",
       "      <td>해당없음</td>\n",
       "      <td>해당없음</td>\n",
       "      <td>해당없음</td>\n",
       "      <td>해당없음</td>\n",
       "      <td>해당없음</td>\n",
       "      <td>해당없음</td>\n",
       "      <td>해당없음</td>\n",
       "      <td>해당없음</td>\n",
       "      <td>...</td>\n",
       "      <td>비흡연자</td>\n",
       "      <td>0.0</td>\n",
       "      <td>151.0</td>\n",
       "      <td>53.5</td>\n",
       "      <td>79.7</td>\n",
       "      <td>23.463883</td>\n",
       "      <td>40대</td>\n",
       "      <td>정상</td>\n",
       "      <td>받지않음</td>\n",
       "      <td>해당없음</td>\n",
       "    </tr>\n",
       "    <tr>\n",
       "      <th>4</th>\n",
       "      <td>여성</td>\n",
       "      <td>80</td>\n",
       "      <td>해당없음</td>\n",
       "      <td>해당없음</td>\n",
       "      <td>해당없음</td>\n",
       "      <td>없음</td>\n",
       "      <td>해당없음</td>\n",
       "      <td>해당없음</td>\n",
       "      <td>해당없음</td>\n",
       "      <td>해당없음</td>\n",
       "      <td>...</td>\n",
       "      <td>비흡연자</td>\n",
       "      <td>0.0</td>\n",
       "      <td>146.1</td>\n",
       "      <td>57.6</td>\n",
       "      <td>93.0</td>\n",
       "      <td>26.984977</td>\n",
       "      <td>80대</td>\n",
       "      <td>비만</td>\n",
       "      <td>받지않음</td>\n",
       "      <td>받지않음</td>\n",
       "    </tr>\n",
       "    <tr>\n",
       "      <th>...</th>\n",
       "      <td>...</td>\n",
       "      <td>...</td>\n",
       "      <td>...</td>\n",
       "      <td>...</td>\n",
       "      <td>...</td>\n",
       "      <td>...</td>\n",
       "      <td>...</td>\n",
       "      <td>...</td>\n",
       "      <td>...</td>\n",
       "      <td>...</td>\n",
       "      <td>...</td>\n",
       "      <td>...</td>\n",
       "      <td>...</td>\n",
       "      <td>...</td>\n",
       "      <td>...</td>\n",
       "      <td>...</td>\n",
       "      <td>...</td>\n",
       "      <td>...</td>\n",
       "      <td>...</td>\n",
       "      <td>...</td>\n",
       "      <td>...</td>\n",
       "    </tr>\n",
       "    <tr>\n",
       "      <th>7987</th>\n",
       "      <td>여성</td>\n",
       "      <td>73</td>\n",
       "      <td>없음</td>\n",
       "      <td>해당없음</td>\n",
       "      <td>해당없음</td>\n",
       "      <td>해당없음</td>\n",
       "      <td>해당없음</td>\n",
       "      <td>해당없음</td>\n",
       "      <td>해당없음</td>\n",
       "      <td>해당없음</td>\n",
       "      <td>...</td>\n",
       "      <td>비흡연자</td>\n",
       "      <td>0.0</td>\n",
       "      <td>145.2</td>\n",
       "      <td>51.8</td>\n",
       "      <td>77.2</td>\n",
       "      <td>24.569512</td>\n",
       "      <td>70대</td>\n",
       "      <td>정상</td>\n",
       "      <td>해당없음</td>\n",
       "      <td>해당없음</td>\n",
       "    </tr>\n",
       "    <tr>\n",
       "      <th>7988</th>\n",
       "      <td>남성</td>\n",
       "      <td>43</td>\n",
       "      <td>없음</td>\n",
       "      <td>해당없음</td>\n",
       "      <td>해당없음</td>\n",
       "      <td>해당없음</td>\n",
       "      <td>해당없음</td>\n",
       "      <td>해당없음</td>\n",
       "      <td>해당없음</td>\n",
       "      <td>해당없음</td>\n",
       "      <td>...</td>\n",
       "      <td>5갑이상</td>\n",
       "      <td>20.0</td>\n",
       "      <td>176.8</td>\n",
       "      <td>84.1</td>\n",
       "      <td>99.2</td>\n",
       "      <td>26.904906</td>\n",
       "      <td>40대</td>\n",
       "      <td>비만</td>\n",
       "      <td>받지않음</td>\n",
       "      <td>받지않음</td>\n",
       "    </tr>\n",
       "    <tr>\n",
       "      <th>7989</th>\n",
       "      <td>여성</td>\n",
       "      <td>39</td>\n",
       "      <td>해당없음</td>\n",
       "      <td>해당없음</td>\n",
       "      <td>해당없음</td>\n",
       "      <td>해당없음</td>\n",
       "      <td>해당없음</td>\n",
       "      <td>해당없음</td>\n",
       "      <td>해당없음</td>\n",
       "      <td>해당없음</td>\n",
       "      <td>...</td>\n",
       "      <td>비흡연자</td>\n",
       "      <td>0.0</td>\n",
       "      <td>163.1</td>\n",
       "      <td>59.5</td>\n",
       "      <td>81.2</td>\n",
       "      <td>22.367067</td>\n",
       "      <td>30대</td>\n",
       "      <td>정상</td>\n",
       "      <td>해당없음</td>\n",
       "      <td>해당없음</td>\n",
       "    </tr>\n",
       "    <tr>\n",
       "      <th>7990</th>\n",
       "      <td>남성</td>\n",
       "      <td>10</td>\n",
       "      <td>해당없음</td>\n",
       "      <td>해당없음</td>\n",
       "      <td>해당없음</td>\n",
       "      <td>해당없음</td>\n",
       "      <td>해당없음</td>\n",
       "      <td>해당없음</td>\n",
       "      <td>해당없음</td>\n",
       "      <td>해당없음</td>\n",
       "      <td>...</td>\n",
       "      <td>해당없음</td>\n",
       "      <td>0.0</td>\n",
       "      <td>141.4</td>\n",
       "      <td>35.3</td>\n",
       "      <td>63.0</td>\n",
       "      <td>17.655332</td>\n",
       "      <td>미성년자</td>\n",
       "      <td>저체중</td>\n",
       "      <td>해당없음</td>\n",
       "      <td>해당없음</td>\n",
       "    </tr>\n",
       "    <tr>\n",
       "      <th>7991</th>\n",
       "      <td>여성</td>\n",
       "      <td>8</td>\n",
       "      <td>해당없음</td>\n",
       "      <td>해당없음</td>\n",
       "      <td>해당없음</td>\n",
       "      <td>해당없음</td>\n",
       "      <td>해당없음</td>\n",
       "      <td>해당없음</td>\n",
       "      <td>해당없음</td>\n",
       "      <td>해당없음</td>\n",
       "      <td>...</td>\n",
       "      <td>해당없음</td>\n",
       "      <td>0.0</td>\n",
       "      <td>141.7</td>\n",
       "      <td>38.6</td>\n",
       "      <td>70.6</td>\n",
       "      <td>19.224170</td>\n",
       "      <td>미성년자</td>\n",
       "      <td>정상</td>\n",
       "      <td>해당없음</td>\n",
       "      <td>해당없음</td>\n",
       "    </tr>\n",
       "  </tbody>\n",
       "</table>\n",
       "<p>7992 rows × 26 columns</p>\n",
       "</div>"
      ],
      "text/plain": [
       "      성별  나이 고혈압유병  골다공증   폐결핵   당뇨병 갑상선질환    위암    간암   대장암  ... 평생흡연여부  \\\n",
       "0     남성  80    없음  해당없음  해당없음  해당없음  해당없음  해당없음  해당없음  해당없음  ...   5갑이상   \n",
       "1     남성  78  해당없음  해당없음  해당없음  해당없음  해당없음  해당없음  해당없음  해당없음  ...   비흡연자   \n",
       "2     여성  75    없음  해당없음  해당없음  해당없음  해당없음  해당없음  해당없음  해당없음  ...   비흡연자   \n",
       "3     여성  43  해당없음  해당없음  해당없음  해당없음  해당없음  해당없음  해당없음  해당없음  ...   비흡연자   \n",
       "4     여성  80  해당없음  해당없음  해당없음    없음  해당없음  해당없음  해당없음  해당없음  ...   비흡연자   \n",
       "...   ..  ..   ...   ...   ...   ...   ...   ...   ...   ...  ...    ...   \n",
       "7987  여성  73    없음  해당없음  해당없음  해당없음  해당없음  해당없음  해당없음  해당없음  ...   비흡연자   \n",
       "7988  남성  43    없음  해당없음  해당없음  해당없음  해당없음  해당없음  해당없음  해당없음  ...   5갑이상   \n",
       "7989  여성  39  해당없음  해당없음  해당없음  해당없음  해당없음  해당없음  해당없음  해당없음  ...   비흡연자   \n",
       "7990  남성  10  해당없음  해당없음  해당없음  해당없음  해당없음  해당없음  해당없음  해당없음  ...   해당없음   \n",
       "7991  여성   8  해당없음  해당없음  해당없음  해당없음  해당없음  해당없음  해당없음  해당없음  ...   해당없음   \n",
       "\n",
       "     하루평균흡연량      키   몸무게  허리둘레        BMI   나이대  비만도  건강검진여부  암검진여부  \n",
       "0        0.0  162.4  56.0  82.2  21.233226   80대   정상    받지않음   받지않음  \n",
       "1        0.0  167.7  76.4  98.3  27.166096   70대   비만    해당없음   해당없음  \n",
       "2        0.0  157.7  53.2  80.7  21.391845   70대   정상    해당없음   해당없음  \n",
       "3        0.0  151.0  53.5  79.7  23.463883   40대   정상    받지않음   해당없음  \n",
       "4        0.0  146.1  57.6  93.0  26.984977   80대   비만    받지않음   받지않음  \n",
       "...      ...    ...   ...   ...        ...   ...  ...     ...    ...  \n",
       "7987     0.0  145.2  51.8  77.2  24.569512   70대   정상    해당없음   해당없음  \n",
       "7988    20.0  176.8  84.1  99.2  26.904906   40대   비만    받지않음   받지않음  \n",
       "7989     0.0  163.1  59.5  81.2  22.367067   30대   정상    해당없음   해당없음  \n",
       "7990     0.0  141.4  35.3  63.0  17.655332  미성년자  저체중    해당없음   해당없음  \n",
       "7991     0.0  141.7  38.6  70.6  19.224170  미성년자   정상    해당없음   해당없음  \n",
       "\n",
       "[7992 rows x 26 columns]"
      ]
     },
     "execution_count": 10,
     "metadata": {},
     "output_type": "execute_result"
    }
   ],
   "source": [
    "data['건강검진여부'] = df3_rn['건강검진여부']\n",
    "data['암검진여부'] = df3_rn['암검진여부']\n",
    "data"
   ]
  },
  {
   "cell_type": "code",
   "execution_count": 11,
   "metadata": {
    "scrolled": true
   },
   "outputs": [
    {
     "data": {
      "text/html": [
       "<div>\n",
       "<style scoped>\n",
       "    .dataframe tbody tr th:only-of-type {\n",
       "        vertical-align: middle;\n",
       "    }\n",
       "\n",
       "    .dataframe tbody tr th {\n",
       "        vertical-align: top;\n",
       "    }\n",
       "\n",
       "    .dataframe thead th {\n",
       "        text-align: right;\n",
       "    }\n",
       "</style>\n",
       "<table border=\"1\" class=\"dataframe\">\n",
       "  <thead>\n",
       "    <tr style=\"text-align: right;\">\n",
       "      <th>건강검진여부</th>\n",
       "      <th>받지않음</th>\n",
       "      <th>해당없음</th>\n",
       "    </tr>\n",
       "    <tr>\n",
       "      <th>폐암</th>\n",
       "      <th></th>\n",
       "      <th></th>\n",
       "    </tr>\n",
       "  </thead>\n",
       "  <tbody>\n",
       "    <tr>\n",
       "      <th>있음</th>\n",
       "      <td>3</td>\n",
       "      <td>1</td>\n",
       "    </tr>\n",
       "    <tr>\n",
       "      <th>없음</th>\n",
       "      <td>5</td>\n",
       "      <td>2</td>\n",
       "    </tr>\n",
       "    <tr>\n",
       "      <th>해당없음</th>\n",
       "      <td>4181</td>\n",
       "      <td>3448</td>\n",
       "    </tr>\n",
       "  </tbody>\n",
       "</table>\n",
       "</div>"
      ],
      "text/plain": [
       "건강검진여부  받지않음  해당없음\n",
       "폐암                \n",
       "있음         3     1\n",
       "없음         5     2\n",
       "해당없음    4181  3448"
      ]
     },
     "execution_count": 11,
     "metadata": {},
     "output_type": "execute_result"
    }
   ],
   "source": [
    "pd.crosstab(index = [data['폐암']], columns = data['건강검진여부'])"
   ]
  },
  {
   "cell_type": "markdown",
   "metadata": {},
   "source": [
    "#### OMG"
   ]
  },
  {
   "cell_type": "code",
   "execution_count": 12,
   "metadata": {
    "scrolled": false
   },
   "outputs": [
    {
     "data": {
      "text/plain": [
       "받지않음    4189\n",
       "해당없음    3451\n",
       "무응답        0\n",
       "받음         0\n",
       "Name: 건강검진여부, dtype: int64"
      ]
     },
     "execution_count": 12,
     "metadata": {},
     "output_type": "execute_result"
    }
   ],
   "source": [
    "data['건강검진여부'].value_counts()"
   ]
  },
  {
   "cell_type": "code",
   "execution_count": 13,
   "metadata": {
    "scrolled": true
   },
   "outputs": [
    {
     "data": {
      "text/plain": [
       "해당없음    4040\n",
       "받지않음    3600\n",
       "무응답        0\n",
       "받음         0\n",
       "Name: 암검진여부, dtype: int64"
      ]
     },
     "execution_count": 13,
     "metadata": {},
     "output_type": "execute_result"
    }
   ],
   "source": [
    "data['암검진여부'].value_counts()"
   ]
  },
  {
   "cell_type": "markdown",
   "metadata": {},
   "source": [
    "### 암, 건강검진여부에서 받은사람이 0"
   ]
  },
  {
   "cell_type": "code",
   "execution_count": 14,
   "metadata": {},
   "outputs": [
    {
     "data": {
      "text/html": [
       "<div>\n",
       "<style scoped>\n",
       "    .dataframe tbody tr th:only-of-type {\n",
       "        vertical-align: middle;\n",
       "    }\n",
       "\n",
       "    .dataframe tbody tr th {\n",
       "        vertical-align: top;\n",
       "    }\n",
       "\n",
       "    .dataframe thead th {\n",
       "        text-align: right;\n",
       "    }\n",
       "</style>\n",
       "<table border=\"1\" class=\"dataframe\">\n",
       "  <thead>\n",
       "    <tr style=\"text-align: right;\">\n",
       "      <th>암검진여부</th>\n",
       "      <th>받지않음</th>\n",
       "      <th>해당없음</th>\n",
       "    </tr>\n",
       "    <tr>\n",
       "      <th>폐암</th>\n",
       "      <th></th>\n",
       "      <th></th>\n",
       "    </tr>\n",
       "  </thead>\n",
       "  <tbody>\n",
       "    <tr>\n",
       "      <th>있음</th>\n",
       "      <td>3</td>\n",
       "      <td>1</td>\n",
       "    </tr>\n",
       "    <tr>\n",
       "      <th>없음</th>\n",
       "      <td>5</td>\n",
       "      <td>2</td>\n",
       "    </tr>\n",
       "    <tr>\n",
       "      <th>해당없음</th>\n",
       "      <td>3592</td>\n",
       "      <td>4037</td>\n",
       "    </tr>\n",
       "  </tbody>\n",
       "</table>\n",
       "</div>"
      ],
      "text/plain": [
       "암검진여부  받지않음  해당없음\n",
       "폐암               \n",
       "있음        3     1\n",
       "없음        5     2\n",
       "해당없음   3592  4037"
      ]
     },
     "execution_count": 14,
     "metadata": {},
     "output_type": "execute_result"
    }
   ],
   "source": [
    "pd.crosstab(index = [data['폐암']], columns = data['암검진여부'])"
   ]
  },
  {
   "cell_type": "code",
   "execution_count": 15,
   "metadata": {
    "scrolled": true
   },
   "outputs": [
    {
     "data": {
      "text/html": [
       "<div>\n",
       "<style scoped>\n",
       "    .dataframe tbody tr th:only-of-type {\n",
       "        vertical-align: middle;\n",
       "    }\n",
       "\n",
       "    .dataframe tbody tr th {\n",
       "        vertical-align: top;\n",
       "    }\n",
       "\n",
       "    .dataframe thead th {\n",
       "        text-align: right;\n",
       "    }\n",
       "</style>\n",
       "<table border=\"1\" class=\"dataframe\">\n",
       "  <thead>\n",
       "    <tr style=\"text-align: right;\">\n",
       "      <th>폐암</th>\n",
       "      <th>있음</th>\n",
       "      <th>없음</th>\n",
       "      <th>해당없음</th>\n",
       "    </tr>\n",
       "    <tr>\n",
       "      <th>평생흡연여부</th>\n",
       "      <th></th>\n",
       "      <th></th>\n",
       "      <th></th>\n",
       "    </tr>\n",
       "  </thead>\n",
       "  <tbody>\n",
       "    <tr>\n",
       "      <th>5갑미만</th>\n",
       "      <td>0</td>\n",
       "      <td>0</td>\n",
       "      <td>128</td>\n",
       "    </tr>\n",
       "    <tr>\n",
       "      <th>5갑이상</th>\n",
       "      <td>4</td>\n",
       "      <td>5</td>\n",
       "      <td>2352</td>\n",
       "    </tr>\n",
       "    <tr>\n",
       "      <th>비흡연자</th>\n",
       "      <td>0</td>\n",
       "      <td>2</td>\n",
       "      <td>3693</td>\n",
       "    </tr>\n",
       "    <tr>\n",
       "      <th>해당없음</th>\n",
       "      <td>0</td>\n",
       "      <td>0</td>\n",
       "      <td>1405</td>\n",
       "    </tr>\n",
       "    <tr>\n",
       "      <th>무응답</th>\n",
       "      <td>0</td>\n",
       "      <td>0</td>\n",
       "      <td>51</td>\n",
       "    </tr>\n",
       "  </tbody>\n",
       "</table>\n",
       "</div>"
      ],
      "text/plain": [
       "폐암      있음  없음  해당없음\n",
       "평생흡연여부              \n",
       "5갑미만     0   0   128\n",
       "5갑이상     4   5  2352\n",
       "비흡연자     0   2  3693\n",
       "해당없음     0   0  1405\n",
       "무응답      0   0    51"
      ]
     },
     "execution_count": 15,
     "metadata": {},
     "output_type": "execute_result"
    }
   ],
   "source": [
    "pd.crosstab(index = [data['평생흡연여부']], columns = data['폐암'])"
   ]
  },
  {
   "cell_type": "markdown",
   "metadata": {},
   "source": [
    "(예상대로) : 암에 관한 분석은 힘들것 같다"
   ]
  },
  {
   "cell_type": "markdown",
   "metadata": {},
   "source": [
    "## 흡연과 폐기능의 상관관계?"
   ]
  },
  {
   "cell_type": "markdown",
   "metadata": {},
   "source": [
    "노력성 호기량을 바탕으로 상관관계 분석"
   ]
  },
  {
   "cell_type": "code",
   "execution_count": 16,
   "metadata": {
    "scrolled": true
   },
   "outputs": [
    {
     "data": {
      "text/html": [
       "<div>\n",
       "<style scoped>\n",
       "    .dataframe tbody tr th:only-of-type {\n",
       "        vertical-align: middle;\n",
       "    }\n",
       "\n",
       "    .dataframe tbody tr th {\n",
       "        vertical-align: top;\n",
       "    }\n",
       "\n",
       "    .dataframe thead th {\n",
       "        text-align: right;\n",
       "    }\n",
       "</style>\n",
       "<table border=\"1\" class=\"dataframe\">\n",
       "  <thead>\n",
       "    <tr style=\"text-align: right;\">\n",
       "      <th></th>\n",
       "      <th>성별</th>\n",
       "      <th>나이</th>\n",
       "      <th>고혈압유병</th>\n",
       "      <th>골다공증</th>\n",
       "      <th>폐결핵</th>\n",
       "      <th>당뇨병</th>\n",
       "      <th>갑상선질환</th>\n",
       "      <th>위암</th>\n",
       "      <th>간암</th>\n",
       "      <th>대장암</th>\n",
       "      <th>...</th>\n",
       "      <th>하루평균흡연량</th>\n",
       "      <th>키</th>\n",
       "      <th>몸무게</th>\n",
       "      <th>허리둘레</th>\n",
       "      <th>BMI</th>\n",
       "      <th>나이대</th>\n",
       "      <th>비만도</th>\n",
       "      <th>건강검진여부</th>\n",
       "      <th>암검진여부</th>\n",
       "      <th>노력성호기량</th>\n",
       "    </tr>\n",
       "  </thead>\n",
       "  <tbody>\n",
       "    <tr>\n",
       "      <th>0</th>\n",
       "      <td>남성</td>\n",
       "      <td>80</td>\n",
       "      <td>없음</td>\n",
       "      <td>해당없음</td>\n",
       "      <td>해당없음</td>\n",
       "      <td>해당없음</td>\n",
       "      <td>해당없음</td>\n",
       "      <td>해당없음</td>\n",
       "      <td>해당없음</td>\n",
       "      <td>해당없음</td>\n",
       "      <td>...</td>\n",
       "      <td>0.0</td>\n",
       "      <td>162.4</td>\n",
       "      <td>56.0</td>\n",
       "      <td>82.2</td>\n",
       "      <td>21.233226</td>\n",
       "      <td>80대</td>\n",
       "      <td>정상</td>\n",
       "      <td>받지않음</td>\n",
       "      <td>받지않음</td>\n",
       "      <td>NaN</td>\n",
       "    </tr>\n",
       "    <tr>\n",
       "      <th>1</th>\n",
       "      <td>남성</td>\n",
       "      <td>78</td>\n",
       "      <td>해당없음</td>\n",
       "      <td>해당없음</td>\n",
       "      <td>해당없음</td>\n",
       "      <td>해당없음</td>\n",
       "      <td>해당없음</td>\n",
       "      <td>해당없음</td>\n",
       "      <td>해당없음</td>\n",
       "      <td>해당없음</td>\n",
       "      <td>...</td>\n",
       "      <td>0.0</td>\n",
       "      <td>167.7</td>\n",
       "      <td>76.4</td>\n",
       "      <td>98.3</td>\n",
       "      <td>27.166096</td>\n",
       "      <td>70대</td>\n",
       "      <td>비만</td>\n",
       "      <td>해당없음</td>\n",
       "      <td>해당없음</td>\n",
       "      <td>2.29</td>\n",
       "    </tr>\n",
       "    <tr>\n",
       "      <th>2</th>\n",
       "      <td>여성</td>\n",
       "      <td>75</td>\n",
       "      <td>없음</td>\n",
       "      <td>해당없음</td>\n",
       "      <td>해당없음</td>\n",
       "      <td>해당없음</td>\n",
       "      <td>해당없음</td>\n",
       "      <td>해당없음</td>\n",
       "      <td>해당없음</td>\n",
       "      <td>해당없음</td>\n",
       "      <td>...</td>\n",
       "      <td>0.0</td>\n",
       "      <td>157.7</td>\n",
       "      <td>53.2</td>\n",
       "      <td>80.7</td>\n",
       "      <td>21.391845</td>\n",
       "      <td>70대</td>\n",
       "      <td>정상</td>\n",
       "      <td>해당없음</td>\n",
       "      <td>해당없음</td>\n",
       "      <td>1.51</td>\n",
       "    </tr>\n",
       "    <tr>\n",
       "      <th>3</th>\n",
       "      <td>여성</td>\n",
       "      <td>43</td>\n",
       "      <td>해당없음</td>\n",
       "      <td>해당없음</td>\n",
       "      <td>해당없음</td>\n",
       "      <td>해당없음</td>\n",
       "      <td>해당없음</td>\n",
       "      <td>해당없음</td>\n",
       "      <td>해당없음</td>\n",
       "      <td>해당없음</td>\n",
       "      <td>...</td>\n",
       "      <td>0.0</td>\n",
       "      <td>151.0</td>\n",
       "      <td>53.5</td>\n",
       "      <td>79.7</td>\n",
       "      <td>23.463883</td>\n",
       "      <td>40대</td>\n",
       "      <td>정상</td>\n",
       "      <td>받지않음</td>\n",
       "      <td>해당없음</td>\n",
       "      <td>2.70</td>\n",
       "    </tr>\n",
       "    <tr>\n",
       "      <th>4</th>\n",
       "      <td>여성</td>\n",
       "      <td>80</td>\n",
       "      <td>해당없음</td>\n",
       "      <td>해당없음</td>\n",
       "      <td>해당없음</td>\n",
       "      <td>없음</td>\n",
       "      <td>해당없음</td>\n",
       "      <td>해당없음</td>\n",
       "      <td>해당없음</td>\n",
       "      <td>해당없음</td>\n",
       "      <td>...</td>\n",
       "      <td>0.0</td>\n",
       "      <td>146.1</td>\n",
       "      <td>57.6</td>\n",
       "      <td>93.0</td>\n",
       "      <td>26.984977</td>\n",
       "      <td>80대</td>\n",
       "      <td>비만</td>\n",
       "      <td>받지않음</td>\n",
       "      <td>받지않음</td>\n",
       "      <td>1.80</td>\n",
       "    </tr>\n",
       "    <tr>\n",
       "      <th>...</th>\n",
       "      <td>...</td>\n",
       "      <td>...</td>\n",
       "      <td>...</td>\n",
       "      <td>...</td>\n",
       "      <td>...</td>\n",
       "      <td>...</td>\n",
       "      <td>...</td>\n",
       "      <td>...</td>\n",
       "      <td>...</td>\n",
       "      <td>...</td>\n",
       "      <td>...</td>\n",
       "      <td>...</td>\n",
       "      <td>...</td>\n",
       "      <td>...</td>\n",
       "      <td>...</td>\n",
       "      <td>...</td>\n",
       "      <td>...</td>\n",
       "      <td>...</td>\n",
       "      <td>...</td>\n",
       "      <td>...</td>\n",
       "      <td>...</td>\n",
       "    </tr>\n",
       "    <tr>\n",
       "      <th>7987</th>\n",
       "      <td>여성</td>\n",
       "      <td>73</td>\n",
       "      <td>없음</td>\n",
       "      <td>해당없음</td>\n",
       "      <td>해당없음</td>\n",
       "      <td>해당없음</td>\n",
       "      <td>해당없음</td>\n",
       "      <td>해당없음</td>\n",
       "      <td>해당없음</td>\n",
       "      <td>해당없음</td>\n",
       "      <td>...</td>\n",
       "      <td>0.0</td>\n",
       "      <td>145.2</td>\n",
       "      <td>51.8</td>\n",
       "      <td>77.2</td>\n",
       "      <td>24.569512</td>\n",
       "      <td>70대</td>\n",
       "      <td>정상</td>\n",
       "      <td>해당없음</td>\n",
       "      <td>해당없음</td>\n",
       "      <td>1.66</td>\n",
       "    </tr>\n",
       "    <tr>\n",
       "      <th>7988</th>\n",
       "      <td>남성</td>\n",
       "      <td>43</td>\n",
       "      <td>없음</td>\n",
       "      <td>해당없음</td>\n",
       "      <td>해당없음</td>\n",
       "      <td>해당없음</td>\n",
       "      <td>해당없음</td>\n",
       "      <td>해당없음</td>\n",
       "      <td>해당없음</td>\n",
       "      <td>해당없음</td>\n",
       "      <td>...</td>\n",
       "      <td>20.0</td>\n",
       "      <td>176.8</td>\n",
       "      <td>84.1</td>\n",
       "      <td>99.2</td>\n",
       "      <td>26.904906</td>\n",
       "      <td>40대</td>\n",
       "      <td>비만</td>\n",
       "      <td>받지않음</td>\n",
       "      <td>받지않음</td>\n",
       "      <td>3.27</td>\n",
       "    </tr>\n",
       "    <tr>\n",
       "      <th>7989</th>\n",
       "      <td>여성</td>\n",
       "      <td>39</td>\n",
       "      <td>해당없음</td>\n",
       "      <td>해당없음</td>\n",
       "      <td>해당없음</td>\n",
       "      <td>해당없음</td>\n",
       "      <td>해당없음</td>\n",
       "      <td>해당없음</td>\n",
       "      <td>해당없음</td>\n",
       "      <td>해당없음</td>\n",
       "      <td>...</td>\n",
       "      <td>0.0</td>\n",
       "      <td>163.1</td>\n",
       "      <td>59.5</td>\n",
       "      <td>81.2</td>\n",
       "      <td>22.367067</td>\n",
       "      <td>30대</td>\n",
       "      <td>정상</td>\n",
       "      <td>해당없음</td>\n",
       "      <td>해당없음</td>\n",
       "      <td>NaN</td>\n",
       "    </tr>\n",
       "    <tr>\n",
       "      <th>7990</th>\n",
       "      <td>남성</td>\n",
       "      <td>10</td>\n",
       "      <td>해당없음</td>\n",
       "      <td>해당없음</td>\n",
       "      <td>해당없음</td>\n",
       "      <td>해당없음</td>\n",
       "      <td>해당없음</td>\n",
       "      <td>해당없음</td>\n",
       "      <td>해당없음</td>\n",
       "      <td>해당없음</td>\n",
       "      <td>...</td>\n",
       "      <td>0.0</td>\n",
       "      <td>141.4</td>\n",
       "      <td>35.3</td>\n",
       "      <td>63.0</td>\n",
       "      <td>17.655332</td>\n",
       "      <td>미성년자</td>\n",
       "      <td>저체중</td>\n",
       "      <td>해당없음</td>\n",
       "      <td>해당없음</td>\n",
       "      <td>NaN</td>\n",
       "    </tr>\n",
       "    <tr>\n",
       "      <th>7991</th>\n",
       "      <td>여성</td>\n",
       "      <td>8</td>\n",
       "      <td>해당없음</td>\n",
       "      <td>해당없음</td>\n",
       "      <td>해당없음</td>\n",
       "      <td>해당없음</td>\n",
       "      <td>해당없음</td>\n",
       "      <td>해당없음</td>\n",
       "      <td>해당없음</td>\n",
       "      <td>해당없음</td>\n",
       "      <td>...</td>\n",
       "      <td>0.0</td>\n",
       "      <td>141.7</td>\n",
       "      <td>38.6</td>\n",
       "      <td>70.6</td>\n",
       "      <td>19.224170</td>\n",
       "      <td>미성년자</td>\n",
       "      <td>정상</td>\n",
       "      <td>해당없음</td>\n",
       "      <td>해당없음</td>\n",
       "      <td>NaN</td>\n",
       "    </tr>\n",
       "  </tbody>\n",
       "</table>\n",
       "<p>7992 rows × 27 columns</p>\n",
       "</div>"
      ],
      "text/plain": [
       "      성별  나이 고혈압유병  골다공증   폐결핵   당뇨병 갑상선질환    위암    간암   대장암  ... 하루평균흡연량  \\\n",
       "0     남성  80    없음  해당없음  해당없음  해당없음  해당없음  해당없음  해당없음  해당없음  ...     0.0   \n",
       "1     남성  78  해당없음  해당없음  해당없음  해당없음  해당없음  해당없음  해당없음  해당없음  ...     0.0   \n",
       "2     여성  75    없음  해당없음  해당없음  해당없음  해당없음  해당없음  해당없음  해당없음  ...     0.0   \n",
       "3     여성  43  해당없음  해당없음  해당없음  해당없음  해당없음  해당없음  해당없음  해당없음  ...     0.0   \n",
       "4     여성  80  해당없음  해당없음  해당없음    없음  해당없음  해당없음  해당없음  해당없음  ...     0.0   \n",
       "...   ..  ..   ...   ...   ...   ...   ...   ...   ...   ...  ...     ...   \n",
       "7987  여성  73    없음  해당없음  해당없음  해당없음  해당없음  해당없음  해당없음  해당없음  ...     0.0   \n",
       "7988  남성  43    없음  해당없음  해당없음  해당없음  해당없음  해당없음  해당없음  해당없음  ...    20.0   \n",
       "7989  여성  39  해당없음  해당없음  해당없음  해당없음  해당없음  해당없음  해당없음  해당없음  ...     0.0   \n",
       "7990  남성  10  해당없음  해당없음  해당없음  해당없음  해당없음  해당없음  해당없음  해당없음  ...     0.0   \n",
       "7991  여성   8  해당없음  해당없음  해당없음  해당없음  해당없음  해당없음  해당없음  해당없음  ...     0.0   \n",
       "\n",
       "          키   몸무게  허리둘레        BMI   나이대  비만도  건강검진여부  암검진여부  노력성호기량  \n",
       "0     162.4  56.0  82.2  21.233226   80대   정상    받지않음   받지않음     NaN  \n",
       "1     167.7  76.4  98.3  27.166096   70대   비만    해당없음   해당없음    2.29  \n",
       "2     157.7  53.2  80.7  21.391845   70대   정상    해당없음   해당없음    1.51  \n",
       "3     151.0  53.5  79.7  23.463883   40대   정상    받지않음   해당없음    2.70  \n",
       "4     146.1  57.6  93.0  26.984977   80대   비만    받지않음   받지않음    1.80  \n",
       "...     ...   ...   ...        ...   ...  ...     ...    ...     ...  \n",
       "7987  145.2  51.8  77.2  24.569512   70대   정상    해당없음   해당없음    1.66  \n",
       "7988  176.8  84.1  99.2  26.904906   40대   비만    받지않음   받지않음    3.27  \n",
       "7989  163.1  59.5  81.2  22.367067   30대   정상    해당없음   해당없음     NaN  \n",
       "7990  141.4  35.3  63.0  17.655332  미성년자  저체중    해당없음   해당없음     NaN  \n",
       "7991  141.7  38.6  70.6  19.224170  미성년자   정상    해당없음   해당없음     NaN  \n",
       "\n",
       "[7992 rows x 27 columns]"
      ]
     },
     "execution_count": 16,
     "metadata": {},
     "output_type": "execute_result"
    }
   ],
   "source": [
    "dff = df[['HE_fev1']]\n",
    "dff_rn = dff.rename({'HE_fev1' : '노력성호기량'}, axis = 'columns')\n",
    "\n",
    "data['노력성호기량'] = dff_rn['노력성호기량']\n",
    "data"
   ]
  },
  {
   "cell_type": "code",
   "execution_count": 17,
   "metadata": {},
   "outputs": [
    {
     "data": {
      "text/plain": [
       "<matplotlib.axes._subplots.AxesSubplot at 0x15aeee7e430>"
      ]
     },
     "execution_count": 17,
     "metadata": {},
     "output_type": "execute_result"
    },
    {
     "name": "stderr",
     "output_type": "stream",
     "text": [
      "C:\\anaconda\\lib\\site-packages\\matplotlib\\backends\\backend_agg.py:214: RuntimeWarning: Glyph 45432 missing from current font.\n",
      "  font.set_text(s, 0.0, flags=flags)\n",
      "C:\\anaconda\\lib\\site-packages\\matplotlib\\backends\\backend_agg.py:214: RuntimeWarning: Glyph 47141 missing from current font.\n",
      "  font.set_text(s, 0.0, flags=flags)\n",
      "C:\\anaconda\\lib\\site-packages\\matplotlib\\backends\\backend_agg.py:214: RuntimeWarning: Glyph 49457 missing from current font.\n",
      "  font.set_text(s, 0.0, flags=flags)\n",
      "C:\\anaconda\\lib\\site-packages\\matplotlib\\backends\\backend_agg.py:214: RuntimeWarning: Glyph 54840 missing from current font.\n",
      "  font.set_text(s, 0.0, flags=flags)\n",
      "C:\\anaconda\\lib\\site-packages\\matplotlib\\backends\\backend_agg.py:214: RuntimeWarning: Glyph 44592 missing from current font.\n",
      "  font.set_text(s, 0.0, flags=flags)\n",
      "C:\\anaconda\\lib\\site-packages\\matplotlib\\backends\\backend_agg.py:214: RuntimeWarning: Glyph 47049 missing from current font.\n",
      "  font.set_text(s, 0.0, flags=flags)\n",
      "C:\\anaconda\\lib\\site-packages\\matplotlib\\backends\\backend_agg.py:183: RuntimeWarning: Glyph 45432 missing from current font.\n",
      "  font.set_text(s, 0, flags=flags)\n",
      "C:\\anaconda\\lib\\site-packages\\matplotlib\\backends\\backend_agg.py:183: RuntimeWarning: Glyph 47141 missing from current font.\n",
      "  font.set_text(s, 0, flags=flags)\n",
      "C:\\anaconda\\lib\\site-packages\\matplotlib\\backends\\backend_agg.py:183: RuntimeWarning: Glyph 49457 missing from current font.\n",
      "  font.set_text(s, 0, flags=flags)\n",
      "C:\\anaconda\\lib\\site-packages\\matplotlib\\backends\\backend_agg.py:183: RuntimeWarning: Glyph 54840 missing from current font.\n",
      "  font.set_text(s, 0, flags=flags)\n",
      "C:\\anaconda\\lib\\site-packages\\matplotlib\\backends\\backend_agg.py:183: RuntimeWarning: Glyph 44592 missing from current font.\n",
      "  font.set_text(s, 0, flags=flags)\n",
      "C:\\anaconda\\lib\\site-packages\\matplotlib\\backends\\backend_agg.py:183: RuntimeWarning: Glyph 47049 missing from current font.\n",
      "  font.set_text(s, 0, flags=flags)\n"
     ]
    },
    {
     "data": {
      "image/png": "[encoded data removed]",
      "text/plain": [
       "<Figure size 432x288 with 1 Axes>"
      ]
     },
     "metadata": {
      "needs_background": "light"
     },
     "output_type": "display_data"
    }
   ],
   "source": [
    "length_a = data.query('평생흡연여부 == \"비흡연자\"')[\"노력성호기량\"]\n",
    "length_b = data.query('평생흡연여부 == \"5갑이상\"')[\"노력성호기량\"]\n",
    "\n",
    "\n",
    "sns.distplot(length_a, bins = 100, \n",
    "             color = 'black', kde = False)\n",
    "sns.distplot(length_b, bins = 100, \n",
    "             color = 'red', kde = False)"
   ]
  },
  {
   "cell_type": "code",
   "execution_count": 18,
   "metadata": {
    "scrolled": true
   },
   "outputs": [
    {
     "name": "stdout",
     "output_type": "stream",
     "text": [
      "[0.24411231817334716, 4.242405303205382e-52]\n"
     ]
    },
    {
     "name": "stderr",
     "output_type": "stream",
     "text": [
      "C:\\anaconda\\lib\\site-packages\\matplotlib\\backends\\backend_agg.py:214: RuntimeWarning: Glyph 54616 missing from current font.\n",
      "  font.set_text(s, 0.0, flags=flags)\n",
      "C:\\anaconda\\lib\\site-packages\\matplotlib\\backends\\backend_agg.py:214: RuntimeWarning: Glyph 47336 missing from current font.\n",
      "  font.set_text(s, 0.0, flags=flags)\n",
      "C:\\anaconda\\lib\\site-packages\\matplotlib\\backends\\backend_agg.py:214: RuntimeWarning: Glyph 54217 missing from current font.\n",
      "  font.set_text(s, 0.0, flags=flags)\n",
      "C:\\anaconda\\lib\\site-packages\\matplotlib\\backends\\backend_agg.py:214: RuntimeWarning: Glyph 44512 missing from current font.\n",
      "  font.set_text(s, 0.0, flags=flags)\n",
      "C:\\anaconda\\lib\\site-packages\\matplotlib\\backends\\backend_agg.py:214: RuntimeWarning: Glyph 55137 missing from current font.\n",
      "  font.set_text(s, 0.0, flags=flags)\n",
      "C:\\anaconda\\lib\\site-packages\\matplotlib\\backends\\backend_agg.py:214: RuntimeWarning: Glyph 50672 missing from current font.\n",
      "  font.set_text(s, 0.0, flags=flags)\n",
      "C:\\anaconda\\lib\\site-packages\\matplotlib\\backends\\backend_agg.py:214: RuntimeWarning: Glyph 47049 missing from current font.\n",
      "  font.set_text(s, 0.0, flags=flags)\n",
      "C:\\anaconda\\lib\\site-packages\\matplotlib\\backends\\backend_agg.py:214: RuntimeWarning: Glyph 45432 missing from current font.\n",
      "  font.set_text(s, 0.0, flags=flags)\n",
      "C:\\anaconda\\lib\\site-packages\\matplotlib\\backends\\backend_agg.py:214: RuntimeWarning: Glyph 47141 missing from current font.\n",
      "  font.set_text(s, 0.0, flags=flags)\n",
      "C:\\anaconda\\lib\\site-packages\\matplotlib\\backends\\backend_agg.py:214: RuntimeWarning: Glyph 49457 missing from current font.\n",
      "  font.set_text(s, 0.0, flags=flags)\n",
      "C:\\anaconda\\lib\\site-packages\\matplotlib\\backends\\backend_agg.py:214: RuntimeWarning: Glyph 54840 missing from current font.\n",
      "  font.set_text(s, 0.0, flags=flags)\n",
      "C:\\anaconda\\lib\\site-packages\\matplotlib\\backends\\backend_agg.py:214: RuntimeWarning: Glyph 44592 missing from current font.\n",
      "  font.set_text(s, 0.0, flags=flags)\n",
      "C:\\anaconda\\lib\\site-packages\\matplotlib\\backends\\backend_agg.py:183: RuntimeWarning: Glyph 54616 missing from current font.\n",
      "  font.set_text(s, 0, flags=flags)\n",
      "C:\\anaconda\\lib\\site-packages\\matplotlib\\backends\\backend_agg.py:183: RuntimeWarning: Glyph 47336 missing from current font.\n",
      "  font.set_text(s, 0, flags=flags)\n",
      "C:\\anaconda\\lib\\site-packages\\matplotlib\\backends\\backend_agg.py:183: RuntimeWarning: Glyph 54217 missing from current font.\n",
      "  font.set_text(s, 0, flags=flags)\n",
      "C:\\anaconda\\lib\\site-packages\\matplotlib\\backends\\backend_agg.py:183: RuntimeWarning: Glyph 44512 missing from current font.\n",
      "  font.set_text(s, 0, flags=flags)\n",
      "C:\\anaconda\\lib\\site-packages\\matplotlib\\backends\\backend_agg.py:183: RuntimeWarning: Glyph 55137 missing from current font.\n",
      "  font.set_text(s, 0, flags=flags)\n",
      "C:\\anaconda\\lib\\site-packages\\matplotlib\\backends\\backend_agg.py:183: RuntimeWarning: Glyph 50672 missing from current font.\n",
      "  font.set_text(s, 0, flags=flags)\n",
      "C:\\anaconda\\lib\\site-packages\\matplotlib\\backends\\backend_agg.py:183: RuntimeWarning: Glyph 47049 missing from current font.\n",
      "  font.set_text(s, 0, flags=flags)\n",
      "C:\\anaconda\\lib\\site-packages\\matplotlib\\backends\\backend_agg.py:183: RuntimeWarning: Glyph 45432 missing from current font.\n",
      "  font.set_text(s, 0, flags=flags)\n",
      "C:\\anaconda\\lib\\site-packages\\matplotlib\\backends\\backend_agg.py:183: RuntimeWarning: Glyph 47141 missing from current font.\n",
      "  font.set_text(s, 0, flags=flags)\n",
      "C:\\anaconda\\lib\\site-packages\\matplotlib\\backends\\backend_agg.py:183: RuntimeWarning: Glyph 49457 missing from current font.\n",
      "  font.set_text(s, 0, flags=flags)\n",
      "C:\\anaconda\\lib\\site-packages\\matplotlib\\backends\\backend_agg.py:183: RuntimeWarning: Glyph 54840 missing from current font.\n",
      "  font.set_text(s, 0, flags=flags)\n",
      "C:\\anaconda\\lib\\site-packages\\matplotlib\\backends\\backend_agg.py:183: RuntimeWarning: Glyph 44592 missing from current font.\n",
      "  font.set_text(s, 0, flags=flags)\n"
     ]
    },
    {
     "data": {
      "image/png": "[encoded data removed]",
      "text/plain": [
       "<Figure size 432x288 with 1 Axes>"
      ]
     },
     "metadata": {
      "needs_background": "light"
     },
     "output_type": "display_data"
    }
   ],
   "source": [
    "dataa = data.dropna()\n",
    "sns.regplot(data = dataa, x = '하루평균흡연량', y = '노력성호기량')\n",
    "[R, p] = stats.pearsonr(dataa['하루평균흡연량'], dataa['노력성호기량'])\n",
    "print([R, p])"
   ]
  },
  {
   "cell_type": "code",
   "execution_count": 19,
   "metadata": {
    "scrolled": true
   },
   "outputs": [
    {
     "data": {
      "text/plain": [
       "(9824.596970310358,\n",
       " 2.0482186412489632e-41,\n",
       " 8004,\n",
       " array([[8.291e-01, 8.291e-01, 8.291e-01, ..., 8.291e-01, 8.291e-01,\n",
       "         8.291e-01],\n",
       "        [3.993e-03, 3.993e-03, 3.993e-03, ..., 3.993e-03, 3.993e-03,\n",
       "         3.993e-03],\n",
       "        [5.323e-03, 5.323e-03, 5.323e-03, ..., 5.323e-03, 5.323e-03,\n",
       "         5.323e-03],\n",
       "        ...,\n",
       "        [5.590e-03, 5.590e-03, 5.590e-03, ..., 5.590e-03, 5.590e-03,\n",
       "         5.590e-03],\n",
       "        [1.597e-03, 1.597e-03, 1.597e-03, ..., 1.597e-03, 1.597e-03,\n",
       "         1.597e-03],\n",
       "        [2.662e-04, 2.662e-04, 2.662e-04, ..., 2.662e-04, 2.662e-04,\n",
       "         2.662e-04]]))"
      ]
     },
     "execution_count": 19,
     "metadata": {},
     "output_type": "execute_result"
    }
   ],
   "source": [
    "stats.chi2_contingency(pd.crosstab(dataa.하루평균흡연량, dataa.노력성호기량))"
   ]
  },
  {
   "cell_type": "markdown",
   "metadata": {},
   "source": [
    "p=1.0628611687139912e-50(매우작은값)+카이제곱검정=우연에 의한 차이가 아니다!"
   ]
  },
  {
   "cell_type": "markdown",
   "metadata": {},
   "source": [
    "## 흡연량과 혈압의 관계?"
   ]
  },
  {
   "cell_type": "markdown",
   "metadata": {},
   "source": [
    "고혈압 분석을 위해 연속된 숫자로 된 수축,이완기혈압 컬럼 추가"
   ]
  },
  {
   "cell_type": "code",
   "execution_count": 20,
   "metadata": {},
   "outputs": [],
   "source": [
    "df4 = df[['HE_sbp', 'HE_dbp']]\n",
    "df4_rn = df4.rename({'HE_sbp' : '수축기혈압', 'HE_dbp':'이완기혈압'}, axis = 'columns')\n",
    "df4_rn2 = df4_rn.dropna()"
   ]
  },
  {
   "cell_type": "code",
   "execution_count": 21,
   "metadata": {
    "scrolled": true
   },
   "outputs": [
    {
     "data": {
      "text/html": [
       "<div>\n",
       "<style scoped>\n",
       "    .dataframe tbody tr th:only-of-type {\n",
       "        vertical-align: middle;\n",
       "    }\n",
       "\n",
       "    .dataframe tbody tr th {\n",
       "        vertical-align: top;\n",
       "    }\n",
       "\n",
       "    .dataframe thead th {\n",
       "        text-align: right;\n",
       "    }\n",
       "</style>\n",
       "<table border=\"1\" class=\"dataframe\">\n",
       "  <thead>\n",
       "    <tr style=\"text-align: right;\">\n",
       "      <th></th>\n",
       "      <th>성별</th>\n",
       "      <th>나이</th>\n",
       "      <th>고혈압유병</th>\n",
       "      <th>골다공증</th>\n",
       "      <th>폐결핵</th>\n",
       "      <th>당뇨병</th>\n",
       "      <th>갑상선질환</th>\n",
       "      <th>위암</th>\n",
       "      <th>간암</th>\n",
       "      <th>대장암</th>\n",
       "      <th>...</th>\n",
       "      <th>몸무게</th>\n",
       "      <th>허리둘레</th>\n",
       "      <th>BMI</th>\n",
       "      <th>나이대</th>\n",
       "      <th>비만도</th>\n",
       "      <th>건강검진여부</th>\n",
       "      <th>암검진여부</th>\n",
       "      <th>노력성호기량</th>\n",
       "      <th>수축기혈압</th>\n",
       "      <th>이완기혈압</th>\n",
       "    </tr>\n",
       "  </thead>\n",
       "  <tbody>\n",
       "    <tr>\n",
       "      <th>0</th>\n",
       "      <td>남성</td>\n",
       "      <td>80</td>\n",
       "      <td>없음</td>\n",
       "      <td>해당없음</td>\n",
       "      <td>해당없음</td>\n",
       "      <td>해당없음</td>\n",
       "      <td>해당없음</td>\n",
       "      <td>해당없음</td>\n",
       "      <td>해당없음</td>\n",
       "      <td>해당없음</td>\n",
       "      <td>...</td>\n",
       "      <td>56.0</td>\n",
       "      <td>82.2</td>\n",
       "      <td>21.233226</td>\n",
       "      <td>80대</td>\n",
       "      <td>정상</td>\n",
       "      <td>받지않음</td>\n",
       "      <td>받지않음</td>\n",
       "      <td>NaN</td>\n",
       "      <td>150.0</td>\n",
       "      <td>84.0</td>\n",
       "    </tr>\n",
       "    <tr>\n",
       "      <th>1</th>\n",
       "      <td>남성</td>\n",
       "      <td>78</td>\n",
       "      <td>해당없음</td>\n",
       "      <td>해당없음</td>\n",
       "      <td>해당없음</td>\n",
       "      <td>해당없음</td>\n",
       "      <td>해당없음</td>\n",
       "      <td>해당없음</td>\n",
       "      <td>해당없음</td>\n",
       "      <td>해당없음</td>\n",
       "      <td>...</td>\n",
       "      <td>76.4</td>\n",
       "      <td>98.3</td>\n",
       "      <td>27.166096</td>\n",
       "      <td>70대</td>\n",
       "      <td>비만</td>\n",
       "      <td>해당없음</td>\n",
       "      <td>해당없음</td>\n",
       "      <td>2.29</td>\n",
       "      <td>132.0</td>\n",
       "      <td>77.0</td>\n",
       "    </tr>\n",
       "    <tr>\n",
       "      <th>2</th>\n",
       "      <td>여성</td>\n",
       "      <td>75</td>\n",
       "      <td>없음</td>\n",
       "      <td>해당없음</td>\n",
       "      <td>해당없음</td>\n",
       "      <td>해당없음</td>\n",
       "      <td>해당없음</td>\n",
       "      <td>해당없음</td>\n",
       "      <td>해당없음</td>\n",
       "      <td>해당없음</td>\n",
       "      <td>...</td>\n",
       "      <td>53.2</td>\n",
       "      <td>80.7</td>\n",
       "      <td>21.391845</td>\n",
       "      <td>70대</td>\n",
       "      <td>정상</td>\n",
       "      <td>해당없음</td>\n",
       "      <td>해당없음</td>\n",
       "      <td>1.51</td>\n",
       "      <td>156.0</td>\n",
       "      <td>73.0</td>\n",
       "    </tr>\n",
       "    <tr>\n",
       "      <th>3</th>\n",
       "      <td>여성</td>\n",
       "      <td>43</td>\n",
       "      <td>해당없음</td>\n",
       "      <td>해당없음</td>\n",
       "      <td>해당없음</td>\n",
       "      <td>해당없음</td>\n",
       "      <td>해당없음</td>\n",
       "      <td>해당없음</td>\n",
       "      <td>해당없음</td>\n",
       "      <td>해당없음</td>\n",
       "      <td>...</td>\n",
       "      <td>53.5</td>\n",
       "      <td>79.7</td>\n",
       "      <td>23.463883</td>\n",
       "      <td>40대</td>\n",
       "      <td>정상</td>\n",
       "      <td>받지않음</td>\n",
       "      <td>해당없음</td>\n",
       "      <td>2.70</td>\n",
       "      <td>102.0</td>\n",
       "      <td>70.0</td>\n",
       "    </tr>\n",
       "    <tr>\n",
       "      <th>4</th>\n",
       "      <td>여성</td>\n",
       "      <td>80</td>\n",
       "      <td>해당없음</td>\n",
       "      <td>해당없음</td>\n",
       "      <td>해당없음</td>\n",
       "      <td>없음</td>\n",
       "      <td>해당없음</td>\n",
       "      <td>해당없음</td>\n",
       "      <td>해당없음</td>\n",
       "      <td>해당없음</td>\n",
       "      <td>...</td>\n",
       "      <td>57.6</td>\n",
       "      <td>93.0</td>\n",
       "      <td>26.984977</td>\n",
       "      <td>80대</td>\n",
       "      <td>비만</td>\n",
       "      <td>받지않음</td>\n",
       "      <td>받지않음</td>\n",
       "      <td>1.80</td>\n",
       "      <td>149.0</td>\n",
       "      <td>81.0</td>\n",
       "    </tr>\n",
       "    <tr>\n",
       "      <th>...</th>\n",
       "      <td>...</td>\n",
       "      <td>...</td>\n",
       "      <td>...</td>\n",
       "      <td>...</td>\n",
       "      <td>...</td>\n",
       "      <td>...</td>\n",
       "      <td>...</td>\n",
       "      <td>...</td>\n",
       "      <td>...</td>\n",
       "      <td>...</td>\n",
       "      <td>...</td>\n",
       "      <td>...</td>\n",
       "      <td>...</td>\n",
       "      <td>...</td>\n",
       "      <td>...</td>\n",
       "      <td>...</td>\n",
       "      <td>...</td>\n",
       "      <td>...</td>\n",
       "      <td>...</td>\n",
       "      <td>...</td>\n",
       "      <td>...</td>\n",
       "    </tr>\n",
       "    <tr>\n",
       "      <th>7987</th>\n",
       "      <td>여성</td>\n",
       "      <td>73</td>\n",
       "      <td>없음</td>\n",
       "      <td>해당없음</td>\n",
       "      <td>해당없음</td>\n",
       "      <td>해당없음</td>\n",
       "      <td>해당없음</td>\n",
       "      <td>해당없음</td>\n",
       "      <td>해당없음</td>\n",
       "      <td>해당없음</td>\n",
       "      <td>...</td>\n",
       "      <td>51.8</td>\n",
       "      <td>77.2</td>\n",
       "      <td>24.569512</td>\n",
       "      <td>70대</td>\n",
       "      <td>정상</td>\n",
       "      <td>해당없음</td>\n",
       "      <td>해당없음</td>\n",
       "      <td>1.66</td>\n",
       "      <td>136.0</td>\n",
       "      <td>82.0</td>\n",
       "    </tr>\n",
       "    <tr>\n",
       "      <th>7988</th>\n",
       "      <td>남성</td>\n",
       "      <td>43</td>\n",
       "      <td>없음</td>\n",
       "      <td>해당없음</td>\n",
       "      <td>해당없음</td>\n",
       "      <td>해당없음</td>\n",
       "      <td>해당없음</td>\n",
       "      <td>해당없음</td>\n",
       "      <td>해당없음</td>\n",
       "      <td>해당없음</td>\n",
       "      <td>...</td>\n",
       "      <td>84.1</td>\n",
       "      <td>99.2</td>\n",
       "      <td>26.904906</td>\n",
       "      <td>40대</td>\n",
       "      <td>비만</td>\n",
       "      <td>받지않음</td>\n",
       "      <td>받지않음</td>\n",
       "      <td>3.27</td>\n",
       "      <td>122.0</td>\n",
       "      <td>99.0</td>\n",
       "    </tr>\n",
       "    <tr>\n",
       "      <th>7989</th>\n",
       "      <td>여성</td>\n",
       "      <td>39</td>\n",
       "      <td>해당없음</td>\n",
       "      <td>해당없음</td>\n",
       "      <td>해당없음</td>\n",
       "      <td>해당없음</td>\n",
       "      <td>해당없음</td>\n",
       "      <td>해당없음</td>\n",
       "      <td>해당없음</td>\n",
       "      <td>해당없음</td>\n",
       "      <td>...</td>\n",
       "      <td>59.5</td>\n",
       "      <td>81.2</td>\n",
       "      <td>22.367067</td>\n",
       "      <td>30대</td>\n",
       "      <td>정상</td>\n",
       "      <td>해당없음</td>\n",
       "      <td>해당없음</td>\n",
       "      <td>NaN</td>\n",
       "      <td>130.0</td>\n",
       "      <td>76.0</td>\n",
       "    </tr>\n",
       "    <tr>\n",
       "      <th>7990</th>\n",
       "      <td>남성</td>\n",
       "      <td>10</td>\n",
       "      <td>해당없음</td>\n",
       "      <td>해당없음</td>\n",
       "      <td>해당없음</td>\n",
       "      <td>해당없음</td>\n",
       "      <td>해당없음</td>\n",
       "      <td>해당없음</td>\n",
       "      <td>해당없음</td>\n",
       "      <td>해당없음</td>\n",
       "      <td>...</td>\n",
       "      <td>35.3</td>\n",
       "      <td>63.0</td>\n",
       "      <td>17.655332</td>\n",
       "      <td>미성년자</td>\n",
       "      <td>저체중</td>\n",
       "      <td>해당없음</td>\n",
       "      <td>해당없음</td>\n",
       "      <td>NaN</td>\n",
       "      <td>105.0</td>\n",
       "      <td>70.0</td>\n",
       "    </tr>\n",
       "    <tr>\n",
       "      <th>7991</th>\n",
       "      <td>여성</td>\n",
       "      <td>8</td>\n",
       "      <td>해당없음</td>\n",
       "      <td>해당없음</td>\n",
       "      <td>해당없음</td>\n",
       "      <td>해당없음</td>\n",
       "      <td>해당없음</td>\n",
       "      <td>해당없음</td>\n",
       "      <td>해당없음</td>\n",
       "      <td>해당없음</td>\n",
       "      <td>...</td>\n",
       "      <td>38.6</td>\n",
       "      <td>70.6</td>\n",
       "      <td>19.224170</td>\n",
       "      <td>미성년자</td>\n",
       "      <td>정상</td>\n",
       "      <td>해당없음</td>\n",
       "      <td>해당없음</td>\n",
       "      <td>NaN</td>\n",
       "      <td>NaN</td>\n",
       "      <td>NaN</td>\n",
       "    </tr>\n",
       "  </tbody>\n",
       "</table>\n",
       "<p>7992 rows × 29 columns</p>\n",
       "</div>"
      ],
      "text/plain": [
       "      성별  나이 고혈압유병  골다공증   폐결핵   당뇨병 갑상선질환    위암    간암   대장암  ...   몸무게  허리둘레  \\\n",
       "0     남성  80    없음  해당없음  해당없음  해당없음  해당없음  해당없음  해당없음  해당없음  ...  56.0  82.2   \n",
       "1     남성  78  해당없음  해당없음  해당없음  해당없음  해당없음  해당없음  해당없음  해당없음  ...  76.4  98.3   \n",
       "2     여성  75    없음  해당없음  해당없음  해당없음  해당없음  해당없음  해당없음  해당없음  ...  53.2  80.7   \n",
       "3     여성  43  해당없음  해당없음  해당없음  해당없음  해당없음  해당없음  해당없음  해당없음  ...  53.5  79.7   \n",
       "4     여성  80  해당없음  해당없음  해당없음    없음  해당없음  해당없음  해당없음  해당없음  ...  57.6  93.0   \n",
       "...   ..  ..   ...   ...   ...   ...   ...   ...   ...   ...  ...   ...   ...   \n",
       "7987  여성  73    없음  해당없음  해당없음  해당없음  해당없음  해당없음  해당없음  해당없음  ...  51.8  77.2   \n",
       "7988  남성  43    없음  해당없음  해당없음  해당없음  해당없음  해당없음  해당없음  해당없음  ...  84.1  99.2   \n",
       "7989  여성  39  해당없음  해당없음  해당없음  해당없음  해당없음  해당없음  해당없음  해당없음  ...  59.5  81.2   \n",
       "7990  남성  10  해당없음  해당없음  해당없음  해당없음  해당없음  해당없음  해당없음  해당없음  ...  35.3  63.0   \n",
       "7991  여성   8  해당없음  해당없음  해당없음  해당없음  해당없음  해당없음  해당없음  해당없음  ...  38.6  70.6   \n",
       "\n",
       "            BMI   나이대  비만도  건강검진여부 암검진여부  노력성호기량  수축기혈압  이완기혈압  \n",
       "0     21.233226   80대   정상    받지않음  받지않음     NaN  150.0   84.0  \n",
       "1     27.166096   70대   비만    해당없음  해당없음    2.29  132.0   77.0  \n",
       "2     21.391845   70대   정상    해당없음  해당없음    1.51  156.0   73.0  \n",
       "3     23.463883   40대   정상    받지않음  해당없음    2.70  102.0   70.0  \n",
       "4     26.984977   80대   비만    받지않음  받지않음    1.80  149.0   81.0  \n",
       "...         ...   ...  ...     ...   ...     ...    ...    ...  \n",
       "7987  24.569512   70대   정상    해당없음  해당없음    1.66  136.0   82.0  \n",
       "7988  26.904906   40대   비만    받지않음  받지않음    3.27  122.0   99.0  \n",
       "7989  22.367067   30대   정상    해당없음  해당없음     NaN  130.0   76.0  \n",
       "7990  17.655332  미성년자  저체중    해당없음  해당없음     NaN  105.0   70.0  \n",
       "7991  19.224170  미성년자   정상    해당없음  해당없음     NaN    NaN    NaN  \n",
       "\n",
       "[7992 rows x 29 columns]"
      ]
     },
     "execution_count": 21,
     "metadata": {},
     "output_type": "execute_result"
    }
   ],
   "source": [
    "data['수축기혈압'] = df4_rn2['수축기혈압']\n",
    "data['이완기혈압'] = df4_rn2['이완기혈압']\n",
    "data"
   ]
  },
  {
   "cell_type": "code",
   "execution_count": 22,
   "metadata": {
    "scrolled": false
   },
   "outputs": [
    {
     "data": {
      "text/plain": [
       "<matplotlib.axes._subplots.AxesSubplot at 0x15ae83a7d00>"
      ]
     },
     "execution_count": 22,
     "metadata": {},
     "output_type": "execute_result"
    },
    {
     "name": "stderr",
     "output_type": "stream",
     "text": [
      "C:\\anaconda\\lib\\site-packages\\matplotlib\\backends\\backend_agg.py:214: RuntimeWarning: Glyph 49688 missing from current font.\n",
      "  font.set_text(s, 0.0, flags=flags)\n",
      "C:\\anaconda\\lib\\site-packages\\matplotlib\\backends\\backend_agg.py:214: RuntimeWarning: Glyph 52629 missing from current font.\n",
      "  font.set_text(s, 0.0, flags=flags)\n",
      "C:\\anaconda\\lib\\site-packages\\matplotlib\\backends\\backend_agg.py:214: RuntimeWarning: Glyph 44592 missing from current font.\n",
      "  font.set_text(s, 0.0, flags=flags)\n",
      "C:\\anaconda\\lib\\site-packages\\matplotlib\\backends\\backend_agg.py:214: RuntimeWarning: Glyph 54792 missing from current font.\n",
      "  font.set_text(s, 0.0, flags=flags)\n",
      "C:\\anaconda\\lib\\site-packages\\matplotlib\\backends\\backend_agg.py:214: RuntimeWarning: Glyph 50517 missing from current font.\n",
      "  font.set_text(s, 0.0, flags=flags)\n",
      "C:\\anaconda\\lib\\site-packages\\matplotlib\\backends\\backend_agg.py:183: RuntimeWarning: Glyph 49688 missing from current font.\n",
      "  font.set_text(s, 0, flags=flags)\n",
      "C:\\anaconda\\lib\\site-packages\\matplotlib\\backends\\backend_agg.py:183: RuntimeWarning: Glyph 52629 missing from current font.\n",
      "  font.set_text(s, 0, flags=flags)\n",
      "C:\\anaconda\\lib\\site-packages\\matplotlib\\backends\\backend_agg.py:183: RuntimeWarning: Glyph 44592 missing from current font.\n",
      "  font.set_text(s, 0, flags=flags)\n",
      "C:\\anaconda\\lib\\site-packages\\matplotlib\\backends\\backend_agg.py:183: RuntimeWarning: Glyph 54792 missing from current font.\n",
      "  font.set_text(s, 0, flags=flags)\n",
      "C:\\anaconda\\lib\\site-packages\\matplotlib\\backends\\backend_agg.py:183: RuntimeWarning: Glyph 50517 missing from current font.\n",
      "  font.set_text(s, 0, flags=flags)\n"
     ]
    },
    {
     "data": {
      "image/png": "[encoded data removed]",
      "text/plain": [
       "<Figure size 432x288 with 1 Axes>"
      ]
     },
     "metadata": {
      "needs_background": "light"
     },
     "output_type": "display_data"
    }
   ],
   "source": [
    "length_a = data.query('평생흡연여부 == \"비흡연자\"')[\"수축기혈압\"]\n",
    "length_b = data.query('평생흡연여부 == \"5갑이상\"')[\"수축기혈압\"]\n",
    "\n",
    "\n",
    "sns.distplot(length_a, bins = 100, \n",
    "             color = 'black', kde = False)\n",
    "sns.distplot(length_b, bins = 100, \n",
    "             color = 'red', kde = False)"
   ]
  },
  {
   "cell_type": "code",
   "execution_count": 23,
   "metadata": {
    "scrolled": false
   },
   "outputs": [
    {
     "data": {
      "text/plain": [
       "(1765.1325219208898,\n",
       " 1.0,\n",
       " 2438,\n",
       " array([[8.291e-01, 8.291e-01, 1.658e+00, ..., 8.291e-01, 8.291e-01,\n",
       "         8.291e-01],\n",
       "        [4.000e-03, 4.000e-03, 8.000e-03, ..., 4.000e-03, 4.000e-03,\n",
       "         4.000e-03],\n",
       "        [5.333e-03, 5.333e-03, 1.067e-02, ..., 5.333e-03, 5.333e-03,\n",
       "         5.333e-03],\n",
       "        ...,\n",
       "        [5.600e-03, 5.600e-03, 1.120e-02, ..., 5.600e-03, 5.600e-03,\n",
       "         5.600e-03],\n",
       "        [1.600e-03, 1.600e-03, 3.200e-03, ..., 1.600e-03, 1.600e-03,\n",
       "         1.600e-03],\n",
       "        [2.667e-04, 2.667e-04, 5.333e-04, ..., 2.667e-04, 2.667e-04,\n",
       "         2.667e-04]]))"
      ]
     },
     "execution_count": 23,
     "metadata": {},
     "output_type": "execute_result"
    }
   ],
   "source": [
    "stats.chi2_contingency(pd.crosstab(dataa.하루평균흡연량, data.수축기혈압))"
   ]
  },
  {
   "cell_type": "code",
   "execution_count": 24,
   "metadata": {
    "scrolled": true
   },
   "outputs": [
    {
     "data": {
      "text/plain": [
       "<matplotlib.axes._subplots.AxesSubplot at 0x15aeee7efd0>"
      ]
     },
     "execution_count": 24,
     "metadata": {},
     "output_type": "execute_result"
    },
    {
     "name": "stderr",
     "output_type": "stream",
     "text": [
      "C:\\anaconda\\lib\\site-packages\\matplotlib\\backends\\backend_agg.py:214: RuntimeWarning: Glyph 51060 missing from current font.\n",
      "  font.set_text(s, 0.0, flags=flags)\n",
      "C:\\anaconda\\lib\\site-packages\\matplotlib\\backends\\backend_agg.py:214: RuntimeWarning: Glyph 50756 missing from current font.\n",
      "  font.set_text(s, 0.0, flags=flags)\n",
      "C:\\anaconda\\lib\\site-packages\\matplotlib\\backends\\backend_agg.py:183: RuntimeWarning: Glyph 51060 missing from current font.\n",
      "  font.set_text(s, 0, flags=flags)\n",
      "C:\\anaconda\\lib\\site-packages\\matplotlib\\backends\\backend_agg.py:183: RuntimeWarning: Glyph 50756 missing from current font.\n",
      "  font.set_text(s, 0, flags=flags)\n"
     ]
    },
    {
     "data": {
      "image/png": "[encoded data removed]",
      "text/plain": [
       "<Figure size 432x288 with 1 Axes>"
      ]
     },
     "metadata": {
      "needs_background": "light"
     },
     "output_type": "display_data"
    }
   ],
   "source": [
    "length_a = data.query('평생흡연여부 == \"비흡연자\"')[\"이완기혈압\"]\n",
    "length_b = data.query('평생흡연여부 == \"5갑이상\"')[\"이완기혈압\"]\n",
    "\n",
    "\n",
    "sns.distplot(length_a, bins = 100, \n",
    "             color = 'black', kde = False)\n",
    "sns.distplot(length_b, bins = 100, \n",
    "             color = 'red', kde = False)"
   ]
  },
  {
   "cell_type": "code",
   "execution_count": 25,
   "metadata": {},
   "outputs": [
    {
     "data": {
      "text/plain": [
       "(1427.593280142943,\n",
       " 0.9995700293642894,\n",
       " 1610,\n",
       " array([[8.291e-01, 8.291e-01, 1.658e+00, ..., 8.291e-01, 8.291e-01,\n",
       "         8.291e-01],\n",
       "        [4.000e-03, 4.000e-03, 8.000e-03, ..., 4.000e-03, 4.000e-03,\n",
       "         4.000e-03],\n",
       "        [5.333e-03, 5.333e-03, 1.067e-02, ..., 5.333e-03, 5.333e-03,\n",
       "         5.333e-03],\n",
       "        ...,\n",
       "        [5.600e-03, 5.600e-03, 1.120e-02, ..., 5.600e-03, 5.600e-03,\n",
       "         5.600e-03],\n",
       "        [1.600e-03, 1.600e-03, 3.200e-03, ..., 1.600e-03, 1.600e-03,\n",
       "         1.600e-03],\n",
       "        [2.667e-04, 2.667e-04, 5.333e-04, ..., 2.667e-04, 2.667e-04,\n",
       "         2.667e-04]]))"
      ]
     },
     "execution_count": 25,
     "metadata": {},
     "output_type": "execute_result"
    }
   ],
   "source": [
    "stats.chi2_contingency(pd.crosstab(dataa.하루평균흡연량, data.이완기혈압))"
   ]
  },
  {
   "cell_type": "markdown",
   "metadata": {},
   "source": [
    "카이제곱검정 결과 이완, 수축기 혈압과 흡연량은 유의미한 상관관계가 없는것으로 판정"
   ]
  },
  {
   "cell_type": "markdown",
   "metadata": {},
   "source": [
    "### +비만도와 폐기능의 상관관계?"
   ]
  },
  {
   "cell_type": "code",
   "execution_count": 26,
   "metadata": {
    "scrolled": true
   },
   "outputs": [
    {
     "data": {
      "text/plain": [
       "<matplotlib.axes._subplots.AxesSubplot at 0x15aef0c18b0>"
      ]
     },
     "execution_count": 26,
     "metadata": {},
     "output_type": "execute_result"
    },
    {
     "name": "stderr",
     "output_type": "stream",
     "text": [
      "C:\\anaconda\\lib\\site-packages\\matplotlib\\backends\\backend_agg.py:214: RuntimeWarning: Glyph 45432 missing from current font.\n",
      "  font.set_text(s, 0.0, flags=flags)\n",
      "C:\\anaconda\\lib\\site-packages\\matplotlib\\backends\\backend_agg.py:214: RuntimeWarning: Glyph 47141 missing from current font.\n",
      "  font.set_text(s, 0.0, flags=flags)\n",
      "C:\\anaconda\\lib\\site-packages\\matplotlib\\backends\\backend_agg.py:214: RuntimeWarning: Glyph 49457 missing from current font.\n",
      "  font.set_text(s, 0.0, flags=flags)\n",
      "C:\\anaconda\\lib\\site-packages\\matplotlib\\backends\\backend_agg.py:214: RuntimeWarning: Glyph 54840 missing from current font.\n",
      "  font.set_text(s, 0.0, flags=flags)\n",
      "C:\\anaconda\\lib\\site-packages\\matplotlib\\backends\\backend_agg.py:214: RuntimeWarning: Glyph 47049 missing from current font.\n",
      "  font.set_text(s, 0.0, flags=flags)\n",
      "C:\\anaconda\\lib\\site-packages\\matplotlib\\backends\\backend_agg.py:183: RuntimeWarning: Glyph 45432 missing from current font.\n",
      "  font.set_text(s, 0, flags=flags)\n",
      "C:\\anaconda\\lib\\site-packages\\matplotlib\\backends\\backend_agg.py:183: RuntimeWarning: Glyph 47141 missing from current font.\n",
      "  font.set_text(s, 0, flags=flags)\n",
      "C:\\anaconda\\lib\\site-packages\\matplotlib\\backends\\backend_agg.py:183: RuntimeWarning: Glyph 49457 missing from current font.\n",
      "  font.set_text(s, 0, flags=flags)\n",
      "C:\\anaconda\\lib\\site-packages\\matplotlib\\backends\\backend_agg.py:183: RuntimeWarning: Glyph 54840 missing from current font.\n",
      "  font.set_text(s, 0, flags=flags)\n",
      "C:\\anaconda\\lib\\site-packages\\matplotlib\\backends\\backend_agg.py:183: RuntimeWarning: Glyph 47049 missing from current font.\n",
      "  font.set_text(s, 0, flags=flags)\n"
     ]
    },
    {
     "data": {
      "image/png": "[encoded data removed]",
      "text/plain": [
       "<Figure size 432x288 with 1 Axes>"
      ]
     },
     "metadata": {
      "needs_background": "light"
     },
     "output_type": "display_data"
    }
   ],
   "source": [
    "length_a = data.query('비만도 == \"정상\"')[\"노력성호기량\"]\n",
    "length_b = data.query('비만도 == \"비만\"')[\"노력성호기량\"]\n",
    "\n",
    "\n",
    "sns.distplot(length_a, bins = 100, \n",
    "             color = 'black', kde = False)\n",
    "sns.distplot(length_b, bins = 100, \n",
    "             color = 'red', kde = False)"
   ]
  },
  {
   "cell_type": "code",
   "execution_count": 27,
   "metadata": {},
   "outputs": [
    {
     "data": {
      "text/plain": [
       "(773.4227053183702,\n",
       " 0.021663355478938315,\n",
       " 696,\n",
       " array([[0.017, 0.017, 0.017, ..., 0.017, 0.017, 0.017],\n",
       "        [0.619, 0.619, 0.619, ..., 0.619, 0.619, 0.619],\n",
       "        [0.364, 0.364, 0.364, ..., 0.364, 0.364, 0.364]]))"
      ]
     },
     "execution_count": 27,
     "metadata": {},
     "output_type": "execute_result"
    }
   ],
   "source": [
    "stats.chi2_contingency(pd.crosstab(dataa.비만도, dataa.노력성호기량))"
   ]
  },
  {
   "cell_type": "code",
   "execution_count": 28,
   "metadata": {
    "scrolled": true
   },
   "outputs": [
    {
     "name": "stdout",
     "output_type": "stream",
     "text": [
      "[0.03615197837520071, 0.02684026316715392]\n"
     ]
    },
    {
     "name": "stderr",
     "output_type": "stream",
     "text": [
      "C:\\anaconda\\lib\\site-packages\\matplotlib\\backends\\backend_agg.py:214: RuntimeWarning: Glyph 45432 missing from current font.\n",
      "  font.set_text(s, 0.0, flags=flags)\n",
      "C:\\anaconda\\lib\\site-packages\\matplotlib\\backends\\backend_agg.py:214: RuntimeWarning: Glyph 47141 missing from current font.\n",
      "  font.set_text(s, 0.0, flags=flags)\n",
      "C:\\anaconda\\lib\\site-packages\\matplotlib\\backends\\backend_agg.py:214: RuntimeWarning: Glyph 49457 missing from current font.\n",
      "  font.set_text(s, 0.0, flags=flags)\n",
      "C:\\anaconda\\lib\\site-packages\\matplotlib\\backends\\backend_agg.py:214: RuntimeWarning: Glyph 54840 missing from current font.\n",
      "  font.set_text(s, 0.0, flags=flags)\n",
      "C:\\anaconda\\lib\\site-packages\\matplotlib\\backends\\backend_agg.py:214: RuntimeWarning: Glyph 44592 missing from current font.\n",
      "  font.set_text(s, 0.0, flags=flags)\n",
      "C:\\anaconda\\lib\\site-packages\\matplotlib\\backends\\backend_agg.py:214: RuntimeWarning: Glyph 47049 missing from current font.\n",
      "  font.set_text(s, 0.0, flags=flags)\n",
      "C:\\anaconda\\lib\\site-packages\\matplotlib\\backends\\backend_agg.py:183: RuntimeWarning: Glyph 45432 missing from current font.\n",
      "  font.set_text(s, 0, flags=flags)\n",
      "C:\\anaconda\\lib\\site-packages\\matplotlib\\backends\\backend_agg.py:183: RuntimeWarning: Glyph 47141 missing from current font.\n",
      "  font.set_text(s, 0, flags=flags)\n",
      "C:\\anaconda\\lib\\site-packages\\matplotlib\\backends\\backend_agg.py:183: RuntimeWarning: Glyph 49457 missing from current font.\n",
      "  font.set_text(s, 0, flags=flags)\n",
      "C:\\anaconda\\lib\\site-packages\\matplotlib\\backends\\backend_agg.py:183: RuntimeWarning: Glyph 54840 missing from current font.\n",
      "  font.set_text(s, 0, flags=flags)\n",
      "C:\\anaconda\\lib\\site-packages\\matplotlib\\backends\\backend_agg.py:183: RuntimeWarning: Glyph 44592 missing from current font.\n",
      "  font.set_text(s, 0, flags=flags)\n",
      "C:\\anaconda\\lib\\site-packages\\matplotlib\\backends\\backend_agg.py:183: RuntimeWarning: Glyph 47049 missing from current font.\n",
      "  font.set_text(s, 0, flags=flags)\n"
     ]
    },
    {
     "data": {
      "image/png": "[encoded data removed]",
      "text/plain": [
       "<Figure size 432x288 with 1 Axes>"
      ]
     },
     "metadata": {
      "needs_background": "light"
     },
     "output_type": "display_data"
    }
   ],
   "source": [
    "dataa = data.dropna()\n",
    "sns.regplot(data = dataa, x = '노력성호기량', y = 'BMI')\n",
    "[R, p] = stats.pearsonr(dataa['노력성호기량'], dataa['BMI'])\n",
    "print([R, p])"
   ]
  },
  {
   "cell_type": "markdown",
   "metadata": {},
   "source": [
    "통계적으로 유의미한 차이가 난다(비만일수록 노력성호기량 저하)"
   ]
  },
  {
   "cell_type": "markdown",
   "metadata": {},
   "source": [
    "### 흡연량과 우울증의 상관관계"
   ]
  },
  {
   "cell_type": "code",
   "execution_count": 29,
   "metadata": {
    "scrolled": false
   },
   "outputs": [
    {
     "data": {
      "text/html": [
       "<div>\n",
       "<style scoped>\n",
       "    .dataframe tbody tr th:only-of-type {\n",
       "        vertical-align: middle;\n",
       "    }\n",
       "\n",
       "    .dataframe tbody tr th {\n",
       "        vertical-align: top;\n",
       "    }\n",
       "\n",
       "    .dataframe thead th {\n",
       "        text-align: right;\n",
       "    }\n",
       "</style>\n",
       "<table border=\"1\" class=\"dataframe\">\n",
       "  <thead>\n",
       "    <tr style=\"text-align: right;\">\n",
       "      <th>우울증</th>\n",
       "      <th>있음</th>\n",
       "      <th>없음</th>\n",
       "      <th>해당없음</th>\n",
       "    </tr>\n",
       "    <tr>\n",
       "      <th>평생흡연여부</th>\n",
       "      <th></th>\n",
       "      <th></th>\n",
       "      <th></th>\n",
       "    </tr>\n",
       "  </thead>\n",
       "  <tbody>\n",
       "    <tr>\n",
       "      <th>5갑미만</th>\n",
       "      <td>1</td>\n",
       "      <td>5</td>\n",
       "      <td>122</td>\n",
       "    </tr>\n",
       "    <tr>\n",
       "      <th>5갑이상</th>\n",
       "      <td>37</td>\n",
       "      <td>50</td>\n",
       "      <td>2274</td>\n",
       "    </tr>\n",
       "    <tr>\n",
       "      <th>비흡연자</th>\n",
       "      <td>80</td>\n",
       "      <td>102</td>\n",
       "      <td>3513</td>\n",
       "    </tr>\n",
       "    <tr>\n",
       "      <th>해당없음</th>\n",
       "      <td>0</td>\n",
       "      <td>0</td>\n",
       "      <td>1405</td>\n",
       "    </tr>\n",
       "    <tr>\n",
       "      <th>무응답</th>\n",
       "      <td>0</td>\n",
       "      <td>1</td>\n",
       "      <td>50</td>\n",
       "    </tr>\n",
       "  </tbody>\n",
       "</table>\n",
       "</div>"
      ],
      "text/plain": [
       "우울증     있음   없음  해당없음\n",
       "평생흡연여부               \n",
       "5갑미만     1    5   122\n",
       "5갑이상    37   50  2274\n",
       "비흡연자    80  102  3513\n",
       "해당없음     0    0  1405\n",
       "무응답      0    1    50"
      ]
     },
     "execution_count": 29,
     "metadata": {},
     "output_type": "execute_result"
    }
   ],
   "source": [
    "pd.crosstab(index = [data['평생흡연여부']], columns = data['우울증'])"
   ]
  },
  {
   "cell_type": "code",
   "execution_count": 30,
   "metadata": {
    "scrolled": true
   },
   "outputs": [
    {
     "data": {
      "text/plain": [
       "<matplotlib.axes._subplots.AxesSubplot at 0x15aef867910>"
      ]
     },
     "execution_count": 30,
     "metadata": {},
     "output_type": "execute_result"
    },
    {
     "name": "stderr",
     "output_type": "stream",
     "text": [
      "C:\\anaconda\\lib\\site-packages\\matplotlib\\backends\\backend_agg.py:214: RuntimeWarning: Glyph 54616 missing from current font.\n",
      "  font.set_text(s, 0.0, flags=flags)\n",
      "C:\\anaconda\\lib\\site-packages\\matplotlib\\backends\\backend_agg.py:214: RuntimeWarning: Glyph 47336 missing from current font.\n",
      "  font.set_text(s, 0.0, flags=flags)\n",
      "C:\\anaconda\\lib\\site-packages\\matplotlib\\backends\\backend_agg.py:214: RuntimeWarning: Glyph 54217 missing from current font.\n",
      "  font.set_text(s, 0.0, flags=flags)\n",
      "C:\\anaconda\\lib\\site-packages\\matplotlib\\backends\\backend_agg.py:214: RuntimeWarning: Glyph 44512 missing from current font.\n",
      "  font.set_text(s, 0.0, flags=flags)\n",
      "C:\\anaconda\\lib\\site-packages\\matplotlib\\backends\\backend_agg.py:214: RuntimeWarning: Glyph 55137 missing from current font.\n",
      "  font.set_text(s, 0.0, flags=flags)\n",
      "C:\\anaconda\\lib\\site-packages\\matplotlib\\backends\\backend_agg.py:214: RuntimeWarning: Glyph 50672 missing from current font.\n",
      "  font.set_text(s, 0.0, flags=flags)\n",
      "C:\\anaconda\\lib\\site-packages\\matplotlib\\backends\\backend_agg.py:214: RuntimeWarning: Glyph 47049 missing from current font.\n",
      "  font.set_text(s, 0.0, flags=flags)\n",
      "C:\\anaconda\\lib\\site-packages\\matplotlib\\backends\\backend_agg.py:183: RuntimeWarning: Glyph 54616 missing from current font.\n",
      "  font.set_text(s, 0, flags=flags)\n",
      "C:\\anaconda\\lib\\site-packages\\matplotlib\\backends\\backend_agg.py:183: RuntimeWarning: Glyph 47336 missing from current font.\n",
      "  font.set_text(s, 0, flags=flags)\n",
      "C:\\anaconda\\lib\\site-packages\\matplotlib\\backends\\backend_agg.py:183: RuntimeWarning: Glyph 54217 missing from current font.\n",
      "  font.set_text(s, 0, flags=flags)\n",
      "C:\\anaconda\\lib\\site-packages\\matplotlib\\backends\\backend_agg.py:183: RuntimeWarning: Glyph 44512 missing from current font.\n",
      "  font.set_text(s, 0, flags=flags)\n",
      "C:\\anaconda\\lib\\site-packages\\matplotlib\\backends\\backend_agg.py:183: RuntimeWarning: Glyph 55137 missing from current font.\n",
      "  font.set_text(s, 0, flags=flags)\n",
      "C:\\anaconda\\lib\\site-packages\\matplotlib\\backends\\backend_agg.py:183: RuntimeWarning: Glyph 50672 missing from current font.\n",
      "  font.set_text(s, 0, flags=flags)\n",
      "C:\\anaconda\\lib\\site-packages\\matplotlib\\backends\\backend_agg.py:183: RuntimeWarning: Glyph 47049 missing from current font.\n",
      "  font.set_text(s, 0, flags=flags)\n"
     ]
    },
    {
     "data": {
      "image/png": "[encoded data removed]",
      "text/plain": [
       "<Figure size 432x288 with 1 Axes>"
      ]
     },
     "metadata": {
      "needs_background": "light"
     },
     "output_type": "display_data"
    }
   ],
   "source": [
    "length_a = dataa.query('우울증 == \"있음\"')[\"하루평균흡연량\"]\n",
    "length_b = dataa.query('우울증 == \"없음\"')[\"하루평균흡연량\"]\n",
    "\n",
    "\n",
    "sns.distplot(length_a, bins = 10,\n",
    "             color = 'red', kde = False)\n",
    "sns.distplot(length_b, bins = 10,\n",
    "             color = 'black', kde = False)"
   ]
  },
  {
   "cell_type": "code",
   "execution_count": 31,
   "metadata": {
    "scrolled": true
   },
   "outputs": [
    {
     "data": {
      "text/plain": [
       "(28.067174226296324,\n",
       " 0.9828764051398917,\n",
       " 46,\n",
       " array([[6.467e+01, 8.042e+01, 2.964e+03],\n",
       "        [3.120e-01, 3.880e-01, 1.430e+01],\n",
       "        [4.160e-01, 5.173e-01, 1.907e+01],\n",
       "        [4.784e-01, 5.949e-01, 2.193e+01],\n",
       "        [1.040e-01, 1.293e-01, 4.767e+00],\n",
       "        [8.528e-01, 1.061e+00, 3.909e+01],\n",
       "        [3.328e-01, 4.139e-01, 1.525e+01],\n",
       "        [3.536e-01, 4.397e-01, 1.621e+01],\n",
       "        [1.248e-01, 1.552e-01, 5.720e+00],\n",
       "        [2.080e-02, 2.587e-02, 9.533e-01],\n",
       "        [2.912e+00, 3.621e+00, 1.335e+02],\n",
       "        [2.704e-01, 3.363e-01, 1.239e+01],\n",
       "        [1.872e-01, 2.328e-01, 8.580e+00],\n",
       "        [4.160e-02, 5.173e-02, 1.907e+00],\n",
       "        [2.184e+00, 2.716e+00, 1.001e+02],\n",
       "        [1.040e-01, 1.293e-01, 4.767e+00],\n",
       "        [8.320e-02, 1.035e-01, 3.813e+00],\n",
       "        [2.080e-02, 2.587e-02, 9.533e-01],\n",
       "        [3.786e+00, 4.708e+00, 1.735e+02],\n",
       "        [2.080e-02, 2.587e-02, 9.533e-01],\n",
       "        [1.456e-01, 1.811e-01, 6.673e+00],\n",
       "        [4.368e-01, 5.432e-01, 2.002e+01],\n",
       "        [1.248e-01, 1.552e-01, 5.720e+00],\n",
       "        [2.080e-02, 2.587e-02, 9.533e-01]]))"
      ]
     },
     "execution_count": 31,
     "metadata": {},
     "output_type": "execute_result"
    }
   ],
   "source": [
    "stats.chi2_contingency(pd.crosstab(dataa.하루평균흡연량, dataa.우울증))"
   ]
  },
  {
   "cell_type": "markdown",
   "metadata": {},
   "source": [
    "표본이 많지 않아서 명확한 결과는 나오지 않았지만 큰 관계는 없는것으로 보인다"
   ]
  },
  {
   "cell_type": "markdown",
   "metadata": {},
   "source": [
    "### 흡연량과 골다공증의 상관관계"
   ]
  },
  {
   "cell_type": "code",
   "execution_count": 32,
   "metadata": {
    "scrolled": true
   },
   "outputs": [
    {
     "data": {
      "text/plain": [
       "<matplotlib.axes._subplots.AxesSubplot at 0x15aef8e3820>"
      ]
     },
     "execution_count": 32,
     "metadata": {},
     "output_type": "execute_result"
    },
    {
     "data": {
      "image/png": "[encoded data removed]",
      "text/plain": [
       "<Figure size 432x288 with 1 Axes>"
      ]
     },
     "metadata": {
      "needs_background": "light"
     },
     "output_type": "display_data"
    }
   ],
   "source": [
    "length_a = dataa.query('골다공증 == \"있음\"')[\"하루평균흡연량\"]\n",
    "length_b = dataa.query('골다공증 == \"없음\"')[\"하루평균흡연량\"]\n",
    "\n",
    "\n",
    "sns.distplot(length_a, bins = 10,\n",
    "             color = 'red', kde = False)\n",
    "sns.distplot(length_b, bins = 10,\n",
    "             color = 'black', kde = False)"
   ]
  },
  {
   "cell_type": "code",
   "execution_count": 33,
   "metadata": {
    "scrolled": true
   },
   "outputs": [
    {
     "data": {
      "text/plain": [
       "(55.49798725544217,\n",
       " 0.15920650336018516,\n",
       " 46,\n",
       " array([[6.467e+01, 2.321e+02, 2.812e+03],\n",
       "        [3.120e-01, 1.120e+00, 1.357e+01],\n",
       "        [4.160e-01, 1.493e+00, 1.809e+01],\n",
       "        [4.784e-01, 1.717e+00, 2.080e+01],\n",
       "        [1.040e-01, 3.733e-01, 4.523e+00],\n",
       "        [8.528e-01, 3.061e+00, 3.709e+01],\n",
       "        [3.328e-01, 1.195e+00, 1.447e+01],\n",
       "        [3.536e-01, 1.269e+00, 1.538e+01],\n",
       "        [1.248e-01, 4.480e-01, 5.427e+00],\n",
       "        [2.080e-02, 7.467e-02, 9.045e-01],\n",
       "        [2.912e+00, 1.045e+01, 1.266e+02],\n",
       "        [2.704e-01, 9.707e-01, 1.176e+01],\n",
       "        [1.872e-01, 6.720e-01, 8.141e+00],\n",
       "        [4.160e-02, 1.493e-01, 1.809e+00],\n",
       "        [2.184e+00, 7.840e+00, 9.498e+01],\n",
       "        [1.040e-01, 3.733e-01, 4.523e+00],\n",
       "        [8.320e-02, 2.987e-01, 3.618e+00],\n",
       "        [2.080e-02, 7.467e-02, 9.045e-01],\n",
       "        [3.786e+00, 1.359e+01, 1.646e+02],\n",
       "        [2.080e-02, 7.467e-02, 9.045e-01],\n",
       "        [1.456e-01, 5.227e-01, 6.332e+00],\n",
       "        [4.368e-01, 1.568e+00, 1.900e+01],\n",
       "        [1.248e-01, 4.480e-01, 5.427e+00],\n",
       "        [2.080e-02, 7.467e-02, 9.045e-01]]))"
      ]
     },
     "execution_count": 33,
     "metadata": {},
     "output_type": "execute_result"
    }
   ],
   "source": [
    "stats.chi2_contingency(pd.crosstab(dataa.하루평균흡연량, dataa.골다공증))"
   ]
  },
  {
   "cell_type": "markdown",
   "metadata": {},
   "source": [
    "표본이 부족하기는 하지만 비흡연자는 골다공증이 없는사람이 있는사람보다 약 4배 많다"
   ]
  },
  {
   "cell_type": "markdown",
   "metadata": {},
   "source": [
    "카이제곱검정결과에 의하면 위 결과는 우연일 확률이 높다"
   ]
  },
  {
   "cell_type": "markdown",
   "metadata": {},
   "source": [
    "# 2.음주의 영향"
   ]
  },
  {
   "cell_type": "markdown",
   "metadata": {},
   "source": [
    "## 성별별 음주량(교차표, 막대그래프)"
   ]
  },
  {
   "cell_type": "code",
   "execution_count": 34,
   "metadata": {},
   "outputs": [
    {
     "data": {
      "text/html": [
       "<div>\n",
       "<style scoped>\n",
       "    .dataframe tbody tr th:only-of-type {\n",
       "        vertical-align: middle;\n",
       "    }\n",
       "\n",
       "    .dataframe tbody tr th {\n",
       "        vertical-align: top;\n",
       "    }\n",
       "\n",
       "    .dataframe thead th {\n",
       "        text-align: right;\n",
       "    }\n",
       "</style>\n",
       "<table border=\"1\" class=\"dataframe\">\n",
       "  <thead>\n",
       "    <tr style=\"text-align: right;\">\n",
       "      <th>성별</th>\n",
       "      <th>남성</th>\n",
       "      <th>여성</th>\n",
       "    </tr>\n",
       "    <tr>\n",
       "      <th>1회음주량(잔)</th>\n",
       "      <th></th>\n",
       "      <th></th>\n",
       "    </tr>\n",
       "  </thead>\n",
       "  <tbody>\n",
       "    <tr>\n",
       "      <th>1.0</th>\n",
       "      <td>488</td>\n",
       "      <td>1217</td>\n",
       "    </tr>\n",
       "    <tr>\n",
       "      <th>2.0</th>\n",
       "      <td>466</td>\n",
       "      <td>527</td>\n",
       "    </tr>\n",
       "    <tr>\n",
       "      <th>3.0</th>\n",
       "      <td>377</td>\n",
       "      <td>254</td>\n",
       "    </tr>\n",
       "    <tr>\n",
       "      <th>4.0</th>\n",
       "      <td>512</td>\n",
       "      <td>182</td>\n",
       "    </tr>\n",
       "    <tr>\n",
       "      <th>5.0</th>\n",
       "      <td>450</td>\n",
       "      <td>136</td>\n",
       "    </tr>\n",
       "    <tr>\n",
       "      <th>8.0</th>\n",
       "      <td>1143</td>\n",
       "      <td>1841</td>\n",
       "    </tr>\n",
       "    <tr>\n",
       "      <th>9.0</th>\n",
       "      <td>17</td>\n",
       "      <td>30</td>\n",
       "    </tr>\n",
       "  </tbody>\n",
       "</table>\n",
       "</div>"
      ],
      "text/plain": [
       "성별          남성    여성\n",
       "1회음주량(잔)            \n",
       "1.0        488  1217\n",
       "2.0        466   527\n",
       "3.0        377   254\n",
       "4.0        512   182\n",
       "5.0        450   136\n",
       "8.0       1143  1841\n",
       "9.0         17    30"
      ]
     },
     "execution_count": 34,
     "metadata": {},
     "output_type": "execute_result"
    }
   ],
   "source": [
    "pd.crosstab(index = [data['1회음주량(잔)']], columns = data['성별'])"
   ]
  },
  {
   "cell_type": "code",
   "execution_count": 35,
   "metadata": {},
   "outputs": [
    {
     "data": {
      "text/plain": [
       "<matplotlib.axes._subplots.AxesSubplot at 0x15aef9750d0>"
      ]
     },
     "execution_count": 35,
     "metadata": {},
     "output_type": "execute_result"
    },
    {
     "name": "stderr",
     "output_type": "stream",
     "text": [
      "C:\\anaconda\\lib\\site-packages\\matplotlib\\backends\\backend_agg.py:214: RuntimeWarning: Glyph 54924 missing from current font.\n",
      "  font.set_text(s, 0.0, flags=flags)\n",
      "C:\\anaconda\\lib\\site-packages\\matplotlib\\backends\\backend_agg.py:214: RuntimeWarning: Glyph 51020 missing from current font.\n",
      "  font.set_text(s, 0.0, flags=flags)\n",
      "C:\\anaconda\\lib\\site-packages\\matplotlib\\backends\\backend_agg.py:214: RuntimeWarning: Glyph 51452 missing from current font.\n",
      "  font.set_text(s, 0.0, flags=flags)\n",
      "C:\\anaconda\\lib\\site-packages\\matplotlib\\backends\\backend_agg.py:214: RuntimeWarning: Glyph 47049 missing from current font.\n",
      "  font.set_text(s, 0.0, flags=flags)\n",
      "C:\\anaconda\\lib\\site-packages\\matplotlib\\backends\\backend_agg.py:214: RuntimeWarning: Glyph 51092 missing from current font.\n",
      "  font.set_text(s, 0.0, flags=flags)\n",
      "C:\\anaconda\\lib\\site-packages\\matplotlib\\backends\\backend_agg.py:183: RuntimeWarning: Glyph 54924 missing from current font.\n",
      "  font.set_text(s, 0, flags=flags)\n",
      "C:\\anaconda\\lib\\site-packages\\matplotlib\\backends\\backend_agg.py:183: RuntimeWarning: Glyph 51020 missing from current font.\n",
      "  font.set_text(s, 0, flags=flags)\n",
      "C:\\anaconda\\lib\\site-packages\\matplotlib\\backends\\backend_agg.py:183: RuntimeWarning: Glyph 51452 missing from current font.\n",
      "  font.set_text(s, 0, flags=flags)\n",
      "C:\\anaconda\\lib\\site-packages\\matplotlib\\backends\\backend_agg.py:183: RuntimeWarning: Glyph 47049 missing from current font.\n",
      "  font.set_text(s, 0, flags=flags)\n",
      "C:\\anaconda\\lib\\site-packages\\matplotlib\\backends\\backend_agg.py:183: RuntimeWarning: Glyph 51092 missing from current font.\n",
      "  font.set_text(s, 0, flags=flags)\n"
     ]
    },
    {
     "data": {
      "image/png": "[encoded data removed]",
      "text/plain": [
       "<Figure size 432x288 with 1 Axes>"
      ]
     },
     "metadata": {
      "needs_background": "light"
     },
     "output_type": "display_data"
    }
   ],
   "source": [
    "length_a = dataa.query('성별 == \"남성\"')[\"1회음주량(잔)\"]\n",
    "length_b = dataa.query('성별 == \"여성\"')[\"1회음주량(잔)\"]\n",
    "\n",
    "\n",
    "sns.distplot(length_a, bins = 10,\n",
    "             color = 'red', kde = False)\n",
    "sns.distplot(length_b, bins = 10,\n",
    "             color = 'black', kde = False)"
   ]
  },
  {
   "cell_type": "markdown",
   "metadata": {},
   "source": [
    "재미있는결과: 술을 아예 적게마시는 사람, 많이 마시는 사람은 남성보다 여성이 더 많다!"
   ]
  },
  {
   "cell_type": "markdown",
   "metadata": {},
   "source": [
    "### 음주와 혈압의 상관관계?"
   ]
  },
  {
   "cell_type": "code",
   "execution_count": 36,
   "metadata": {},
   "outputs": [
    {
     "data": {
      "text/plain": [
       "<matplotlib.axes._subplots.AxesSubplot at 0x15aef954220>"
      ]
     },
     "execution_count": 36,
     "metadata": {},
     "output_type": "execute_result"
    },
    {
     "data": {
      "image/png": "[encoded data removed]",
      "text/plain": [
       "<Figure size 432x288 with 1 Axes>"
      ]
     },
     "metadata": {
      "needs_background": "light"
     },
     "output_type": "display_data"
    }
   ],
   "source": [
    "length_a = data.query('고혈압유병 == \"있음\"')[\"1회음주량(잔)\"]\n",
    "length_b = data.query('고혈압유병 == \"없음\"')[\"1회음주량(잔)\"]\n",
    "\n",
    "\n",
    "sns.distplot(length_a, bins = 100, \n",
    "             color = 'black', kde = False)\n",
    "sns.distplot(length_b, bins = 100, \n",
    "             color = 'red', kde = False)"
   ]
  },
  {
   "cell_type": "code",
   "execution_count": 37,
   "metadata": {
    "scrolled": true
   },
   "outputs": [
    {
     "name": "stdout",
     "output_type": "stream",
     "text": [
      "[0.09976156189379934, 9.219699798115237e-10]\n"
     ]
    },
    {
     "name": "stderr",
     "output_type": "stream",
     "text": [
      "C:\\anaconda\\lib\\site-packages\\matplotlib\\backends\\backend_agg.py:214: RuntimeWarning: Glyph 54924 missing from current font.\n",
      "  font.set_text(s, 0.0, flags=flags)\n",
      "C:\\anaconda\\lib\\site-packages\\matplotlib\\backends\\backend_agg.py:214: RuntimeWarning: Glyph 51020 missing from current font.\n",
      "  font.set_text(s, 0.0, flags=flags)\n",
      "C:\\anaconda\\lib\\site-packages\\matplotlib\\backends\\backend_agg.py:214: RuntimeWarning: Glyph 51452 missing from current font.\n",
      "  font.set_text(s, 0.0, flags=flags)\n",
      "C:\\anaconda\\lib\\site-packages\\matplotlib\\backends\\backend_agg.py:214: RuntimeWarning: Glyph 47049 missing from current font.\n",
      "  font.set_text(s, 0.0, flags=flags)\n",
      "C:\\anaconda\\lib\\site-packages\\matplotlib\\backends\\backend_agg.py:214: RuntimeWarning: Glyph 51092 missing from current font.\n",
      "  font.set_text(s, 0.0, flags=flags)\n",
      "C:\\anaconda\\lib\\site-packages\\matplotlib\\backends\\backend_agg.py:214: RuntimeWarning: Glyph 49688 missing from current font.\n",
      "  font.set_text(s, 0.0, flags=flags)\n",
      "C:\\anaconda\\lib\\site-packages\\matplotlib\\backends\\backend_agg.py:214: RuntimeWarning: Glyph 52629 missing from current font.\n",
      "  font.set_text(s, 0.0, flags=flags)\n",
      "C:\\anaconda\\lib\\site-packages\\matplotlib\\backends\\backend_agg.py:214: RuntimeWarning: Glyph 44592 missing from current font.\n",
      "  font.set_text(s, 0.0, flags=flags)\n",
      "C:\\anaconda\\lib\\site-packages\\matplotlib\\backends\\backend_agg.py:214: RuntimeWarning: Glyph 54792 missing from current font.\n",
      "  font.set_text(s, 0.0, flags=flags)\n",
      "C:\\anaconda\\lib\\site-packages\\matplotlib\\backends\\backend_agg.py:214: RuntimeWarning: Glyph 50517 missing from current font.\n",
      "  font.set_text(s, 0.0, flags=flags)\n",
      "C:\\anaconda\\lib\\site-packages\\matplotlib\\backends\\backend_agg.py:183: RuntimeWarning: Glyph 54924 missing from current font.\n",
      "  font.set_text(s, 0, flags=flags)\n",
      "C:\\anaconda\\lib\\site-packages\\matplotlib\\backends\\backend_agg.py:183: RuntimeWarning: Glyph 51020 missing from current font.\n",
      "  font.set_text(s, 0, flags=flags)\n",
      "C:\\anaconda\\lib\\site-packages\\matplotlib\\backends\\backend_agg.py:183: RuntimeWarning: Glyph 51452 missing from current font.\n",
      "  font.set_text(s, 0, flags=flags)\n",
      "C:\\anaconda\\lib\\site-packages\\matplotlib\\backends\\backend_agg.py:183: RuntimeWarning: Glyph 47049 missing from current font.\n",
      "  font.set_text(s, 0, flags=flags)\n",
      "C:\\anaconda\\lib\\site-packages\\matplotlib\\backends\\backend_agg.py:183: RuntimeWarning: Glyph 51092 missing from current font.\n",
      "  font.set_text(s, 0, flags=flags)\n",
      "C:\\anaconda\\lib\\site-packages\\matplotlib\\backends\\backend_agg.py:183: RuntimeWarning: Glyph 49688 missing from current font.\n",
      "  font.set_text(s, 0, flags=flags)\n",
      "C:\\anaconda\\lib\\site-packages\\matplotlib\\backends\\backend_agg.py:183: RuntimeWarning: Glyph 52629 missing from current font.\n",
      "  font.set_text(s, 0, flags=flags)\n",
      "C:\\anaconda\\lib\\site-packages\\matplotlib\\backends\\backend_agg.py:183: RuntimeWarning: Glyph 44592 missing from current font.\n",
      "  font.set_text(s, 0, flags=flags)\n",
      "C:\\anaconda\\lib\\site-packages\\matplotlib\\backends\\backend_agg.py:183: RuntimeWarning: Glyph 54792 missing from current font.\n",
      "  font.set_text(s, 0, flags=flags)\n",
      "C:\\anaconda\\lib\\site-packages\\matplotlib\\backends\\backend_agg.py:183: RuntimeWarning: Glyph 50517 missing from current font.\n",
      "  font.set_text(s, 0, flags=flags)\n"
     ]
    },
    {
     "data": {
      "image/png": "[encoded data removed]",
      "text/plain": [
       "<Figure size 432x288 with 1 Axes>"
      ]
     },
     "metadata": {
      "needs_background": "light"
     },
     "output_type": "display_data"
    }
   ],
   "source": [
    "dataa = data.dropna()\n",
    "sns.regplot(data = dataa, x = '1회음주량(잔)', y = '수축기혈압')\n",
    "[R, p] = stats.pearsonr(dataa['1회음주량(잔)'], dataa['수축기혈압'])\n",
    "print([R, p])"
   ]
  },
  {
   "cell_type": "code",
   "execution_count": 38,
   "metadata": {
    "scrolled": true
   },
   "outputs": [
    {
     "name": "stdout",
     "output_type": "stream",
     "text": [
      "[-0.02635994885969984, 0.10653764693821914]\n"
     ]
    },
    {
     "name": "stderr",
     "output_type": "stream",
     "text": [
      "C:\\anaconda\\lib\\site-packages\\matplotlib\\backends\\backend_agg.py:214: RuntimeWarning: Glyph 54924 missing from current font.\n",
      "  font.set_text(s, 0.0, flags=flags)\n",
      "C:\\anaconda\\lib\\site-packages\\matplotlib\\backends\\backend_agg.py:214: RuntimeWarning: Glyph 51020 missing from current font.\n",
      "  font.set_text(s, 0.0, flags=flags)\n",
      "C:\\anaconda\\lib\\site-packages\\matplotlib\\backends\\backend_agg.py:214: RuntimeWarning: Glyph 51452 missing from current font.\n",
      "  font.set_text(s, 0.0, flags=flags)\n",
      "C:\\anaconda\\lib\\site-packages\\matplotlib\\backends\\backend_agg.py:214: RuntimeWarning: Glyph 47049 missing from current font.\n",
      "  font.set_text(s, 0.0, flags=flags)\n",
      "C:\\anaconda\\lib\\site-packages\\matplotlib\\backends\\backend_agg.py:214: RuntimeWarning: Glyph 51092 missing from current font.\n",
      "  font.set_text(s, 0.0, flags=flags)\n",
      "C:\\anaconda\\lib\\site-packages\\matplotlib\\backends\\backend_agg.py:214: RuntimeWarning: Glyph 51060 missing from current font.\n",
      "  font.set_text(s, 0.0, flags=flags)\n",
      "C:\\anaconda\\lib\\site-packages\\matplotlib\\backends\\backend_agg.py:214: RuntimeWarning: Glyph 50756 missing from current font.\n",
      "  font.set_text(s, 0.0, flags=flags)\n",
      "C:\\anaconda\\lib\\site-packages\\matplotlib\\backends\\backend_agg.py:214: RuntimeWarning: Glyph 44592 missing from current font.\n",
      "  font.set_text(s, 0.0, flags=flags)\n",
      "C:\\anaconda\\lib\\site-packages\\matplotlib\\backends\\backend_agg.py:214: RuntimeWarning: Glyph 54792 missing from current font.\n",
      "  font.set_text(s, 0.0, flags=flags)\n",
      "C:\\anaconda\\lib\\site-packages\\matplotlib\\backends\\backend_agg.py:214: RuntimeWarning: Glyph 50517 missing from current font.\n",
      "  font.set_text(s, 0.0, flags=flags)\n",
      "C:\\anaconda\\lib\\site-packages\\matplotlib\\backends\\backend_agg.py:183: RuntimeWarning: Glyph 54924 missing from current font.\n",
      "  font.set_text(s, 0, flags=flags)\n",
      "C:\\anaconda\\lib\\site-packages\\matplotlib\\backends\\backend_agg.py:183: RuntimeWarning: Glyph 51020 missing from current font.\n",
      "  font.set_text(s, 0, flags=flags)\n",
      "C:\\anaconda\\lib\\site-packages\\matplotlib\\backends\\backend_agg.py:183: RuntimeWarning: Glyph 51452 missing from current font.\n",
      "  font.set_text(s, 0, flags=flags)\n",
      "C:\\anaconda\\lib\\site-packages\\matplotlib\\backends\\backend_agg.py:183: RuntimeWarning: Glyph 47049 missing from current font.\n",
      "  font.set_text(s, 0, flags=flags)\n",
      "C:\\anaconda\\lib\\site-packages\\matplotlib\\backends\\backend_agg.py:183: RuntimeWarning: Glyph 51092 missing from current font.\n",
      "  font.set_text(s, 0, flags=flags)\n",
      "C:\\anaconda\\lib\\site-packages\\matplotlib\\backends\\backend_agg.py:183: RuntimeWarning: Glyph 51060 missing from current font.\n",
      "  font.set_text(s, 0, flags=flags)\n",
      "C:\\anaconda\\lib\\site-packages\\matplotlib\\backends\\backend_agg.py:183: RuntimeWarning: Glyph 50756 missing from current font.\n",
      "  font.set_text(s, 0, flags=flags)\n",
      "C:\\anaconda\\lib\\site-packages\\matplotlib\\backends\\backend_agg.py:183: RuntimeWarning: Glyph 44592 missing from current font.\n",
      "  font.set_text(s, 0, flags=flags)\n",
      "C:\\anaconda\\lib\\site-packages\\matplotlib\\backends\\backend_agg.py:183: RuntimeWarning: Glyph 54792 missing from current font.\n",
      "  font.set_text(s, 0, flags=flags)\n",
      "C:\\anaconda\\lib\\site-packages\\matplotlib\\backends\\backend_agg.py:183: RuntimeWarning: Glyph 50517 missing from current font.\n",
      "  font.set_text(s, 0, flags=flags)\n"
     ]
    },
    {
     "data": {
      "image/png": "[encoded data removed]",
      "text/plain": [
       "<Figure size 432x288 with 1 Axes>"
      ]
     },
     "metadata": {
      "needs_background": "light"
     },
     "output_type": "display_data"
    }
   ],
   "source": [
    "dataa = data.dropna()\n",
    "sns.regplot(data = dataa, x = '1회음주량(잔)', y = '이완기혈압')\n",
    "[R, p] = stats.pearsonr(dataa['1회음주량(잔)'], dataa['이완기혈압'])\n",
    "print([R, p])"
   ]
  },
  {
   "cell_type": "code",
   "execution_count": 39,
   "metadata": {},
   "outputs": [
    {
     "data": {
      "text/plain": [
       "(801.1827671117317,\n",
       " 0.005397186394562401,\n",
       " 702,\n",
       " array([[2.484e-01, 2.484e-01, 2.484e-01, 2.484e-01, 2.484e-01, 7.452e-01,\n",
       "         4.968e-01, 9.936e-01, 1.242e+00, 1.987e+00, 1.987e+00, 4.223e+00,\n",
       "         4.471e+00, 5.961e+00, 7.203e+00, 1.143e+01, 1.540e+01, 1.987e+01,\n",
       "         1.764e+01, 2.161e+01, 2.236e+01, 2.260e+01, 2.707e+01, 3.378e+01,\n",
       "         3.080e+01, 3.353e+01, 4.272e+01, 4.049e+01, 4.993e+01, 4.645e+01,\n",
       "         3.949e+01, 3.900e+01, 3.850e+01, 4.695e+01, 3.875e+01, 4.620e+01,\n",
       "         4.595e+01, 5.191e+01, 5.092e+01, 4.074e+01, 3.453e+01, 3.701e+01,\n",
       "         3.254e+01, 3.751e+01, 3.080e+01, 3.304e+01, 3.055e+01, 3.254e+01,\n",
       "         3.701e+01, 3.328e+01, 2.285e+01, 2.360e+01, 2.335e+01, 2.434e+01,\n",
       "         2.534e+01, 2.285e+01, 2.086e+01, 2.484e+01, 2.236e+01, 2.161e+01,\n",
       "         1.316e+01, 1.565e+01, 1.515e+01, 1.813e+01, 1.093e+01, 1.242e+01,\n",
       "         9.687e+00, 9.936e+00, 1.068e+01, 1.143e+01, 9.936e+00, 7.700e+00,\n",
       "         6.707e+00, 7.949e+00, 7.203e+00, 4.471e+00, 3.974e+00, 4.719e+00,\n",
       "         5.713e+00, 2.236e+00, 1.739e+00, 2.732e+00, 2.732e+00, 3.477e+00,\n",
       "         2.484e+00, 2.236e+00, 1.242e+00, 1.242e+00, 7.452e-01, 9.936e-01,\n",
       "         2.236e+00, 7.452e-01, 1.242e+00, 2.484e-01, 1.242e+00, 1.242e+00,\n",
       "         7.452e-01, 1.242e+00, 7.452e-01, 4.968e-01, 2.484e-01, 4.968e-01,\n",
       "         7.452e-01, 2.484e-01, 4.968e-01, 4.968e-01, 4.968e-01, 4.968e-01,\n",
       "         2.484e-01, 2.484e-01, 4.968e-01, 2.484e-01, 2.484e-01, 2.484e-01,\n",
       "         2.484e-01, 4.968e-01, 4.968e-01, 2.484e-01],\n",
       "        [1.447e-01, 1.447e-01, 1.447e-01, 1.447e-01, 1.447e-01, 4.340e-01,\n",
       "         2.893e-01, 5.786e-01, 7.233e-01, 1.157e+00, 1.157e+00, 2.459e+00,\n",
       "         2.604e+00, 3.472e+00, 4.195e+00, 6.654e+00, 8.968e+00, 1.157e+01,\n",
       "         1.027e+01, 1.258e+01, 1.302e+01, 1.316e+01, 1.577e+01, 1.967e+01,\n",
       "         1.794e+01, 1.953e+01, 2.488e+01, 2.358e+01, 2.908e+01, 2.705e+01,\n",
       "         2.300e+01, 2.271e+01, 2.242e+01, 2.734e+01, 2.257e+01, 2.691e+01,\n",
       "         2.676e+01, 3.023e+01, 2.965e+01, 2.372e+01, 2.011e+01, 2.155e+01,\n",
       "         1.895e+01, 2.184e+01, 1.794e+01, 1.924e+01, 1.779e+01, 1.895e+01,\n",
       "         2.155e+01, 1.938e+01, 1.331e+01, 1.374e+01, 1.360e+01, 1.418e+01,\n",
       "         1.475e+01, 1.331e+01, 1.215e+01, 1.447e+01, 1.302e+01, 1.258e+01,\n",
       "         7.667e+00, 9.113e+00, 8.824e+00, 1.056e+01, 6.365e+00, 7.233e+00,\n",
       "         5.641e+00, 5.786e+00, 6.220e+00, 6.654e+00, 5.786e+00, 4.484e+00,\n",
       "         3.906e+00, 4.629e+00, 4.195e+00, 2.604e+00, 2.314e+00, 2.748e+00,\n",
       "         3.327e+00, 1.302e+00, 1.013e+00, 1.591e+00, 1.591e+00, 2.025e+00,\n",
       "         1.447e+00, 1.302e+00, 7.233e-01, 7.233e-01, 4.340e-01, 5.786e-01,\n",
       "         1.302e+00, 4.340e-01, 7.233e-01, 1.447e-01, 7.233e-01, 7.233e-01,\n",
       "         4.340e-01, 7.233e-01, 4.340e-01, 2.893e-01, 1.447e-01, 2.893e-01,\n",
       "         4.340e-01, 1.447e-01, 2.893e-01, 2.893e-01, 2.893e-01, 2.893e-01,\n",
       "         1.447e-01, 1.447e-01, 2.893e-01, 1.447e-01, 1.447e-01, 1.447e-01,\n",
       "         1.447e-01, 2.893e-01, 2.893e-01, 1.447e-01],\n",
       "        [9.191e-02, 9.191e-02, 9.191e-02, 9.191e-02, 9.191e-02, 2.757e-01,\n",
       "         1.838e-01, 3.676e-01, 4.595e-01, 7.352e-01, 7.352e-01, 1.562e+00,\n",
       "         1.654e+00, 2.206e+00, 2.665e+00, 4.228e+00, 5.698e+00, 7.352e+00,\n",
       "         6.525e+00, 7.996e+00, 8.271e+00, 8.363e+00, 1.002e+01, 1.250e+01,\n",
       "         1.140e+01, 1.241e+01, 1.581e+01, 1.498e+01, 1.847e+01, 1.719e+01,\n",
       "         1.461e+01, 1.443e+01, 1.425e+01, 1.737e+01, 1.434e+01, 1.709e+01,\n",
       "         1.700e+01, 1.921e+01, 1.884e+01, 1.507e+01, 1.277e+01, 1.369e+01,\n",
       "         1.204e+01, 1.388e+01, 1.140e+01, 1.222e+01, 1.130e+01, 1.204e+01,\n",
       "         1.369e+01, 1.232e+01, 8.455e+00, 8.731e+00, 8.639e+00, 9.007e+00,\n",
       "         9.374e+00, 8.455e+00, 7.720e+00, 9.191e+00, 8.271e+00, 7.996e+00,\n",
       "         4.871e+00, 5.790e+00, 5.606e+00, 6.709e+00, 4.044e+00, 4.595e+00,\n",
       "         3.584e+00, 3.676e+00, 3.952e+00, 4.228e+00, 3.676e+00, 2.849e+00,\n",
       "         2.481e+00, 2.941e+00, 2.665e+00, 1.654e+00, 1.470e+00, 1.746e+00,\n",
       "         2.114e+00, 8.271e-01, 6.433e-01, 1.011e+00, 1.011e+00, 1.287e+00,\n",
       "         9.191e-01, 8.271e-01, 4.595e-01, 4.595e-01, 2.757e-01, 3.676e-01,\n",
       "         8.271e-01, 2.757e-01, 4.595e-01, 9.191e-02, 4.595e-01, 4.595e-01,\n",
       "         2.757e-01, 4.595e-01, 2.757e-01, 1.838e-01, 9.191e-02, 1.838e-01,\n",
       "         2.757e-01, 9.191e-02, 1.838e-01, 1.838e-01, 1.838e-01, 1.838e-01,\n",
       "         9.191e-02, 9.191e-02, 1.838e-01, 9.191e-02, 9.191e-02, 9.191e-02,\n",
       "         9.191e-02, 1.838e-01, 1.838e-01, 9.191e-02],\n",
       "        [1.007e-01, 1.007e-01, 1.007e-01, 1.007e-01, 1.007e-01, 3.020e-01,\n",
       "         2.013e-01, 4.027e-01, 5.034e-01, 8.054e-01, 8.054e-01, 1.711e+00,\n",
       "         1.812e+00, 2.416e+00, 2.919e+00, 4.631e+00, 6.242e+00, 8.054e+00,\n",
       "         7.148e+00, 8.758e+00, 9.060e+00, 9.161e+00, 1.097e+01, 1.369e+01,\n",
       "         1.248e+01, 1.359e+01, 1.732e+01, 1.641e+01, 2.024e+01, 1.883e+01,\n",
       "         1.601e+01, 1.581e+01, 1.560e+01, 1.903e+01, 1.570e+01, 1.873e+01,\n",
       "         1.862e+01, 2.104e+01, 2.064e+01, 1.651e+01, 1.399e+01, 1.500e+01,\n",
       "         1.319e+01, 1.520e+01, 1.248e+01, 1.339e+01, 1.238e+01, 1.319e+01,\n",
       "         1.500e+01, 1.349e+01, 9.262e+00, 9.564e+00, 9.463e+00, 9.866e+00,\n",
       "         1.027e+01, 9.262e+00, 8.456e+00, 1.007e+01, 9.060e+00, 8.758e+00,\n",
       "         5.336e+00, 6.342e+00, 6.141e+00, 7.349e+00, 4.430e+00, 5.034e+00,\n",
       "         3.926e+00, 4.027e+00, 4.329e+00, 4.631e+00, 4.027e+00, 3.121e+00,\n",
       "         2.718e+00, 3.222e+00, 2.919e+00, 1.812e+00, 1.611e+00, 1.913e+00,\n",
       "         2.315e+00, 9.060e-01, 7.047e-01, 1.107e+00, 1.107e+00, 1.409e+00,\n",
       "         1.007e+00, 9.060e-01, 5.034e-01, 5.034e-01, 3.020e-01, 4.027e-01,\n",
       "         9.060e-01, 3.020e-01, 5.034e-01, 1.007e-01, 5.034e-01, 5.034e-01,\n",
       "         3.020e-01, 5.034e-01, 3.020e-01, 2.013e-01, 1.007e-01, 2.013e-01,\n",
       "         3.020e-01, 1.007e-01, 2.013e-01, 2.013e-01, 2.013e-01, 2.013e-01,\n",
       "         1.007e-01, 1.007e-01, 2.013e-01, 1.007e-01, 1.007e-01, 1.007e-01,\n",
       "         1.007e-01, 2.013e-01, 2.013e-01, 1.007e-01],\n",
       "        [8.445e-02, 8.445e-02, 8.445e-02, 8.445e-02, 8.445e-02, 2.534e-01,\n",
       "         1.689e-01, 3.378e-01, 4.223e-01, 6.756e-01, 6.756e-01, 1.436e+00,\n",
       "         1.520e+00, 2.027e+00, 2.449e+00, 3.885e+00, 5.236e+00, 6.756e+00,\n",
       "         5.996e+00, 7.347e+00, 7.601e+00, 7.685e+00, 9.205e+00, 1.149e+01,\n",
       "         1.047e+01, 1.140e+01, 1.453e+01, 1.377e+01, 1.698e+01, 1.579e+01,\n",
       "         1.343e+01, 1.326e+01, 1.309e+01, 1.596e+01, 1.317e+01, 1.571e+01,\n",
       "         1.562e+01, 1.765e+01, 1.731e+01, 1.385e+01, 1.174e+01, 1.258e+01,\n",
       "         1.106e+01, 1.275e+01, 1.047e+01, 1.123e+01, 1.039e+01, 1.106e+01,\n",
       "         1.258e+01, 1.132e+01, 7.770e+00, 8.023e+00, 7.939e+00, 8.276e+00,\n",
       "         8.614e+00, 7.770e+00, 7.094e+00, 8.445e+00, 7.601e+00, 7.347e+00,\n",
       "         4.476e+00, 5.321e+00, 5.152e+00, 6.165e+00, 3.716e+00, 4.223e+00,\n",
       "         3.294e+00, 3.378e+00, 3.632e+00, 3.885e+00, 3.378e+00, 2.618e+00,\n",
       "         2.280e+00, 2.703e+00, 2.449e+00, 1.520e+00, 1.351e+00, 1.605e+00,\n",
       "         1.942e+00, 7.601e-01, 5.912e-01, 9.290e-01, 9.290e-01, 1.182e+00,\n",
       "         8.445e-01, 7.601e-01, 4.223e-01, 4.223e-01, 2.534e-01, 3.378e-01,\n",
       "         7.601e-01, 2.534e-01, 4.223e-01, 8.445e-02, 4.223e-01, 4.223e-01,\n",
       "         2.534e-01, 4.223e-01, 2.534e-01, 1.689e-01, 8.445e-02, 1.689e-01,\n",
       "         2.534e-01, 8.445e-02, 1.689e-01, 1.689e-01, 1.689e-01, 1.689e-01,\n",
       "         8.445e-02, 8.445e-02, 1.689e-01, 8.445e-02, 8.445e-02, 8.445e-02,\n",
       "         8.445e-02, 1.689e-01, 1.689e-01, 8.445e-02],\n",
       "        [3.236e-01, 3.236e-01, 3.236e-01, 3.236e-01, 3.236e-01, 9.709e-01,\n",
       "         6.473e-01, 1.295e+00, 1.618e+00, 2.589e+00, 2.589e+00, 5.502e+00,\n",
       "         5.826e+00, 7.767e+00, 9.386e+00, 1.489e+01, 2.007e+01, 2.589e+01,\n",
       "         2.298e+01, 2.816e+01, 2.913e+01, 2.945e+01, 3.528e+01, 4.402e+01,\n",
       "         4.013e+01, 4.369e+01, 5.567e+01, 5.275e+01, 6.505e+01, 6.052e+01,\n",
       "         5.146e+01, 5.081e+01, 5.016e+01, 6.117e+01, 5.049e+01, 6.020e+01,\n",
       "         5.987e+01, 6.764e+01, 6.635e+01, 5.308e+01, 4.499e+01, 4.822e+01,\n",
       "         4.240e+01, 4.887e+01, 4.013e+01, 4.304e+01, 3.981e+01, 4.240e+01,\n",
       "         4.822e+01, 4.337e+01, 2.977e+01, 3.075e+01, 3.042e+01, 3.172e+01,\n",
       "         3.301e+01, 2.977e+01, 2.719e+01, 3.236e+01, 2.913e+01, 2.816e+01,\n",
       "         1.715e+01, 2.039e+01, 1.974e+01, 2.363e+01, 1.424e+01, 1.618e+01,\n",
       "         1.262e+01, 1.295e+01, 1.392e+01, 1.489e+01, 1.295e+01, 1.003e+01,\n",
       "         8.738e+00, 1.036e+01, 9.386e+00, 5.826e+00, 5.178e+00, 6.149e+00,\n",
       "         7.444e+00, 2.913e+00, 2.265e+00, 3.560e+00, 3.560e+00, 4.531e+00,\n",
       "         3.236e+00, 2.913e+00, 1.618e+00, 1.618e+00, 9.709e-01, 1.295e+00,\n",
       "         2.913e+00, 9.709e-01, 1.618e+00, 3.236e-01, 1.618e+00, 1.618e+00,\n",
       "         9.709e-01, 1.618e+00, 9.709e-01, 6.473e-01, 3.236e-01, 6.473e-01,\n",
       "         9.709e-01, 3.236e-01, 6.473e-01, 6.473e-01, 6.473e-01, 6.473e-01,\n",
       "         3.236e-01, 3.236e-01, 6.473e-01, 3.236e-01, 3.236e-01, 3.236e-01,\n",
       "         3.236e-01, 6.473e-01, 6.473e-01, 3.236e-01],\n",
       "        [6.283e-03, 6.283e-03, 6.283e-03, 6.283e-03, 6.283e-03, 1.885e-02,\n",
       "         1.257e-02, 2.513e-02, 3.141e-02, 5.026e-02, 5.026e-02, 1.068e-01,\n",
       "         1.131e-01, 1.508e-01, 1.822e-01, 2.890e-01, 3.895e-01, 5.026e-01,\n",
       "         4.461e-01, 5.466e-01, 5.655e-01, 5.717e-01, 6.848e-01, 8.545e-01,\n",
       "         7.791e-01, 8.482e-01, 1.081e+00, 1.024e+00, 1.263e+00, 1.175e+00,\n",
       "         9.990e-01, 9.864e-01, 9.738e-01, 1.187e+00, 9.801e-01, 1.169e+00,\n",
       "         1.162e+00, 1.313e+00, 1.288e+00, 1.030e+00, 8.733e-01, 9.361e-01,\n",
       "         8.231e-01, 9.487e-01, 7.791e-01, 8.356e-01, 7.728e-01, 8.231e-01,\n",
       "         9.361e-01, 8.419e-01, 5.780e-01, 5.969e-01, 5.906e-01, 6.157e-01,\n",
       "         6.409e-01, 5.780e-01, 5.278e-01, 6.283e-01, 5.655e-01, 5.466e-01,\n",
       "         3.330e-01, 3.958e-01, 3.833e-01, 4.586e-01, 2.764e-01, 3.141e-01,\n",
       "         2.450e-01, 2.513e-01, 2.702e-01, 2.890e-01, 2.513e-01, 1.948e-01,\n",
       "         1.696e-01, 2.011e-01, 1.822e-01, 1.131e-01, 1.005e-01, 1.194e-01,\n",
       "         1.445e-01, 5.655e-02, 4.398e-02, 6.911e-02, 6.911e-02, 8.796e-02,\n",
       "         6.283e-02, 5.655e-02, 3.141e-02, 3.141e-02, 1.885e-02, 2.513e-02,\n",
       "         5.655e-02, 1.885e-02, 3.141e-02, 6.283e-03, 3.141e-02, 3.141e-02,\n",
       "         1.885e-02, 3.141e-02, 1.885e-02, 1.257e-02, 6.283e-03, 1.257e-02,\n",
       "         1.885e-02, 6.283e-03, 1.257e-02, 1.257e-02, 1.257e-02, 1.257e-02,\n",
       "         6.283e-03, 6.283e-03, 1.257e-02, 6.283e-03, 6.283e-03, 6.283e-03,\n",
       "         6.283e-03, 1.257e-02, 1.257e-02, 6.283e-03]]))"
      ]
     },
     "execution_count": 39,
     "metadata": {},
     "output_type": "execute_result"
    }
   ],
   "source": [
    "stats.chi2_contingency(pd.crosstab(data['1회음주량(잔)'], data.수축기혈압))"
   ]
  },
  {
   "cell_type": "code",
   "execution_count": 40,
   "metadata": {},
   "outputs": [
    {
     "data": {
      "text/plain": [
       "(947.6287106618788,\n",
       " 1.1021219254725554e-28,\n",
       " 510,\n",
       " array([[2.484e-01, 2.484e-01, 4.968e-01, 2.484e-01, 2.484e-01, 7.452e-01,\n",
       "         9.936e-01, 9.936e-01, 1.987e+00, 1.490e+00, 1.242e+00, 1.242e+00,\n",
       "         2.732e+00, 3.726e+00, 4.471e+00, 3.974e+00, 4.471e+00, 4.719e+00,\n",
       "         9.191e+00, 1.093e+01, 9.191e+00, 1.615e+01, 1.813e+01, 2.385e+01,\n",
       "         3.577e+01, 3.751e+01, 3.800e+01, 4.049e+01, 4.769e+01, 4.223e+01,\n",
       "         4.819e+01, 5.415e+01, 5.589e+01, 7.650e+01, 6.061e+01, 7.675e+01,\n",
       "         8.122e+01, 6.955e+01, 8.197e+01, 7.104e+01, 4.372e+01, 4.968e+01,\n",
       "         5.440e+01, 5.216e+01, 4.074e+01, 5.067e+01, 4.446e+01, 4.198e+01,\n",
       "         3.850e+01, 3.204e+01, 2.707e+01, 2.558e+01, 1.987e+01, 1.838e+01,\n",
       "         1.739e+01, 1.664e+01, 1.366e+01, 1.043e+01, 1.118e+01, 9.439e+00,\n",
       "         6.707e+00, 5.713e+00, 4.223e+00, 3.726e+00, 2.981e+00, 2.236e+00,\n",
       "         2.236e+00, 3.477e+00, 1.242e+00, 1.490e+00, 4.968e-01, 1.490e+00,\n",
       "         4.968e-01, 9.936e-01, 1.242e+00, 4.968e-01, 9.936e-01, 2.484e-01,\n",
       "         2.484e-01, 4.968e-01, 2.484e-01, 2.484e-01, 2.484e-01, 2.484e-01,\n",
       "         2.484e-01, 2.484e-01],\n",
       "        [1.447e-01, 1.447e-01, 2.893e-01, 1.447e-01, 1.447e-01, 4.340e-01,\n",
       "         5.786e-01, 5.786e-01, 1.157e+00, 8.679e-01, 7.233e-01, 7.233e-01,\n",
       "         1.591e+00, 2.170e+00, 2.604e+00, 2.314e+00, 2.604e+00, 2.748e+00,\n",
       "         5.352e+00, 6.365e+00, 5.352e+00, 9.402e+00, 1.056e+01, 1.389e+01,\n",
       "         2.083e+01, 2.184e+01, 2.213e+01, 2.358e+01, 2.777e+01, 2.459e+01,\n",
       "         2.806e+01, 3.153e+01, 3.255e+01, 4.455e+01, 3.530e+01, 4.470e+01,\n",
       "         4.730e+01, 4.050e+01, 4.774e+01, 4.137e+01, 2.546e+01, 2.893e+01,\n",
       "         3.168e+01, 3.038e+01, 2.372e+01, 2.951e+01, 2.589e+01, 2.445e+01,\n",
       "         2.242e+01, 1.866e+01, 1.577e+01, 1.490e+01, 1.157e+01, 1.070e+01,\n",
       "         1.013e+01, 9.692e+00, 7.956e+00, 6.075e+00, 6.509e+00, 5.497e+00,\n",
       "         3.906e+00, 3.327e+00, 2.459e+00, 2.170e+00, 1.736e+00, 1.302e+00,\n",
       "         1.302e+00, 2.025e+00, 7.233e-01, 8.679e-01, 2.893e-01, 8.679e-01,\n",
       "         2.893e-01, 5.786e-01, 7.233e-01, 2.893e-01, 5.786e-01, 1.447e-01,\n",
       "         1.447e-01, 2.893e-01, 1.447e-01, 1.447e-01, 1.447e-01, 1.447e-01,\n",
       "         1.447e-01, 1.447e-01],\n",
       "        [9.191e-02, 9.191e-02, 1.838e-01, 9.191e-02, 9.191e-02, 2.757e-01,\n",
       "         3.676e-01, 3.676e-01, 7.352e-01, 5.514e-01, 4.595e-01, 4.595e-01,\n",
       "         1.011e+00, 1.379e+00, 1.654e+00, 1.470e+00, 1.654e+00, 1.746e+00,\n",
       "         3.400e+00, 4.044e+00, 3.400e+00, 5.974e+00, 6.709e+00, 8.823e+00,\n",
       "         1.323e+01, 1.388e+01, 1.406e+01, 1.498e+01, 1.765e+01, 1.562e+01,\n",
       "         1.783e+01, 2.004e+01, 2.068e+01, 2.831e+01, 2.242e+01, 2.840e+01,\n",
       "         3.005e+01, 2.573e+01, 3.033e+01, 2.628e+01, 1.618e+01, 1.838e+01,\n",
       "         2.013e+01, 1.930e+01, 1.507e+01, 1.875e+01, 1.645e+01, 1.553e+01,\n",
       "         1.425e+01, 1.186e+01, 1.002e+01, 9.466e+00, 7.352e+00, 6.801e+00,\n",
       "         6.433e+00, 6.158e+00, 5.055e+00, 3.860e+00, 4.136e+00, 3.492e+00,\n",
       "         2.481e+00, 2.114e+00, 1.562e+00, 1.379e+00, 1.103e+00, 8.271e-01,\n",
       "         8.271e-01, 1.287e+00, 4.595e-01, 5.514e-01, 1.838e-01, 5.514e-01,\n",
       "         1.838e-01, 3.676e-01, 4.595e-01, 1.838e-01, 3.676e-01, 9.191e-02,\n",
       "         9.191e-02, 1.838e-01, 9.191e-02, 9.191e-02, 9.191e-02, 9.191e-02,\n",
       "         9.191e-02, 9.191e-02],\n",
       "        [1.007e-01, 1.007e-01, 2.013e-01, 1.007e-01, 1.007e-01, 3.020e-01,\n",
       "         4.027e-01, 4.027e-01, 8.054e-01, 6.040e-01, 5.034e-01, 5.034e-01,\n",
       "         1.107e+00, 1.510e+00, 1.812e+00, 1.611e+00, 1.812e+00, 1.913e+00,\n",
       "         3.725e+00, 4.430e+00, 3.725e+00, 6.544e+00, 7.349e+00, 9.665e+00,\n",
       "         1.450e+01, 1.520e+01, 1.540e+01, 1.641e+01, 1.933e+01, 1.711e+01,\n",
       "         1.953e+01, 2.195e+01, 2.265e+01, 3.101e+01, 2.456e+01, 3.111e+01,\n",
       "         3.292e+01, 2.819e+01, 3.322e+01, 2.879e+01, 1.772e+01, 2.013e+01,\n",
       "         2.205e+01, 2.114e+01, 1.651e+01, 2.054e+01, 1.802e+01, 1.701e+01,\n",
       "         1.560e+01, 1.299e+01, 1.097e+01, 1.037e+01, 8.054e+00, 7.450e+00,\n",
       "         7.047e+00, 6.745e+00, 5.537e+00, 4.228e+00, 4.530e+00, 3.826e+00,\n",
       "         2.718e+00, 2.315e+00, 1.711e+00, 1.510e+00, 1.208e+00, 9.060e-01,\n",
       "         9.060e-01, 1.409e+00, 5.034e-01, 6.040e-01, 2.013e-01, 6.040e-01,\n",
       "         2.013e-01, 4.027e-01, 5.034e-01, 2.013e-01, 4.027e-01, 1.007e-01,\n",
       "         1.007e-01, 2.013e-01, 1.007e-01, 1.007e-01, 1.007e-01, 1.007e-01,\n",
       "         1.007e-01, 1.007e-01],\n",
       "        [8.445e-02, 8.445e-02, 1.689e-01, 8.445e-02, 8.445e-02, 2.534e-01,\n",
       "         3.378e-01, 3.378e-01, 6.756e-01, 5.067e-01, 4.223e-01, 4.223e-01,\n",
       "         9.290e-01, 1.267e+00, 1.520e+00, 1.351e+00, 1.520e+00, 1.605e+00,\n",
       "         3.125e+00, 3.716e+00, 3.125e+00, 5.489e+00, 6.165e+00, 8.108e+00,\n",
       "         1.216e+01, 1.275e+01, 1.292e+01, 1.377e+01, 1.622e+01, 1.436e+01,\n",
       "         1.638e+01, 1.841e+01, 1.900e+01, 2.601e+01, 2.061e+01, 2.610e+01,\n",
       "         2.762e+01, 2.365e+01, 2.787e+01, 2.415e+01, 1.486e+01, 1.689e+01,\n",
       "         1.850e+01, 1.774e+01, 1.385e+01, 1.723e+01, 1.512e+01, 1.427e+01,\n",
       "         1.309e+01, 1.089e+01, 9.205e+00, 8.699e+00, 6.756e+00, 6.250e+00,\n",
       "         5.912e+00, 5.658e+00, 4.645e+00, 3.547e+00, 3.800e+00, 3.209e+00,\n",
       "         2.280e+00, 1.942e+00, 1.436e+00, 1.267e+00, 1.013e+00, 7.601e-01,\n",
       "         7.601e-01, 1.182e+00, 4.223e-01, 5.067e-01, 1.689e-01, 5.067e-01,\n",
       "         1.689e-01, 3.378e-01, 4.223e-01, 1.689e-01, 3.378e-01, 8.445e-02,\n",
       "         8.445e-02, 1.689e-01, 8.445e-02, 8.445e-02, 8.445e-02, 8.445e-02,\n",
       "         8.445e-02, 8.445e-02],\n",
       "        [3.236e-01, 3.236e-01, 6.473e-01, 3.236e-01, 3.236e-01, 9.709e-01,\n",
       "         1.295e+00, 1.295e+00, 2.589e+00, 1.942e+00, 1.618e+00, 1.618e+00,\n",
       "         3.560e+00, 4.855e+00, 5.826e+00, 5.178e+00, 5.826e+00, 6.149e+00,\n",
       "         1.197e+01, 1.424e+01, 1.197e+01, 2.104e+01, 2.363e+01, 3.107e+01,\n",
       "         4.660e+01, 4.887e+01, 4.952e+01, 5.275e+01, 6.214e+01, 5.502e+01,\n",
       "         6.279e+01, 7.055e+01, 7.282e+01, 9.968e+01, 7.897e+01, 1.000e+02,\n",
       "         1.058e+02, 9.062e+01, 1.068e+02, 9.256e+01, 5.696e+01, 6.473e+01,\n",
       "         7.088e+01, 6.796e+01, 5.308e+01, 6.602e+01, 5.793e+01, 5.470e+01,\n",
       "         5.016e+01, 4.175e+01, 3.528e+01, 3.334e+01, 2.589e+01, 2.395e+01,\n",
       "         2.265e+01, 2.168e+01, 1.780e+01, 1.359e+01, 1.456e+01, 1.230e+01,\n",
       "         8.738e+00, 7.444e+00, 5.502e+00, 4.855e+00, 3.884e+00, 2.913e+00,\n",
       "         2.913e+00, 4.531e+00, 1.618e+00, 1.942e+00, 6.473e-01, 1.942e+00,\n",
       "         6.473e-01, 1.295e+00, 1.618e+00, 6.473e-01, 1.295e+00, 3.236e-01,\n",
       "         3.236e-01, 6.473e-01, 3.236e-01, 3.236e-01, 3.236e-01, 3.236e-01,\n",
       "         3.236e-01, 3.236e-01],\n",
       "        [6.283e-03, 6.283e-03, 1.257e-02, 6.283e-03, 6.283e-03, 1.885e-02,\n",
       "         2.513e-02, 2.513e-02, 5.026e-02, 3.770e-02, 3.141e-02, 3.141e-02,\n",
       "         6.911e-02, 9.424e-02, 1.131e-01, 1.005e-01, 1.131e-01, 1.194e-01,\n",
       "         2.325e-01, 2.764e-01, 2.325e-01, 4.084e-01, 4.586e-01, 6.032e-01,\n",
       "         9.047e-01, 9.487e-01, 9.613e-01, 1.024e+00, 1.206e+00, 1.068e+00,\n",
       "         1.219e+00, 1.370e+00, 1.414e+00, 1.935e+00, 1.533e+00, 1.941e+00,\n",
       "         2.055e+00, 1.759e+00, 2.073e+00, 1.797e+00, 1.106e+00, 1.257e+00,\n",
       "         1.376e+00, 1.319e+00, 1.030e+00, 1.282e+00, 1.125e+00, 1.062e+00,\n",
       "         9.738e-01, 8.105e-01, 6.848e-01, 6.471e-01, 5.026e-01, 4.649e-01,\n",
       "         4.398e-01, 4.210e-01, 3.456e-01, 2.639e-01, 2.827e-01, 2.387e-01,\n",
       "         1.696e-01, 1.445e-01, 1.068e-01, 9.424e-02, 7.539e-02, 5.655e-02,\n",
       "         5.655e-02, 8.796e-02, 3.141e-02, 3.770e-02, 1.257e-02, 3.770e-02,\n",
       "         1.257e-02, 2.513e-02, 3.141e-02, 1.257e-02, 2.513e-02, 6.283e-03,\n",
       "         6.283e-03, 1.257e-02, 6.283e-03, 6.283e-03, 6.283e-03, 6.283e-03,\n",
       "         6.283e-03, 6.283e-03]]))"
      ]
     },
     "execution_count": 40,
     "metadata": {},
     "output_type": "execute_result"
    }
   ],
   "source": [
    "stats.chi2_contingency(pd.crosstab(data['1회음주량(잔)'], data.이완기혈압))"
   ]
  },
  {
   "cell_type": "markdown",
   "metadata": {},
   "source": [
    "수축기혈압은 유의미, 이완기혈압은 우연?"
   ]
  },
  {
   "cell_type": "markdown",
   "metadata": {},
   "source": [
    "### 음주량과 우울증의 상관관계?"
   ]
  },
  {
   "cell_type": "code",
   "execution_count": 41,
   "metadata": {},
   "outputs": [
    {
     "data": {
      "text/html": [
       "<div>\n",
       "<style scoped>\n",
       "    .dataframe tbody tr th:only-of-type {\n",
       "        vertical-align: middle;\n",
       "    }\n",
       "\n",
       "    .dataframe tbody tr th {\n",
       "        vertical-align: top;\n",
       "    }\n",
       "\n",
       "    .dataframe thead th {\n",
       "        text-align: right;\n",
       "    }\n",
       "</style>\n",
       "<table border=\"1\" class=\"dataframe\">\n",
       "  <thead>\n",
       "    <tr style=\"text-align: right;\">\n",
       "      <th>우울증</th>\n",
       "      <th>있음</th>\n",
       "      <th>없음</th>\n",
       "      <th>해당없음</th>\n",
       "    </tr>\n",
       "    <tr>\n",
       "      <th>1회음주량(잔)</th>\n",
       "      <th></th>\n",
       "      <th></th>\n",
       "      <th></th>\n",
       "    </tr>\n",
       "  </thead>\n",
       "  <tbody>\n",
       "    <tr>\n",
       "      <th>1.0</th>\n",
       "      <td>43</td>\n",
       "      <td>41</td>\n",
       "      <td>1621</td>\n",
       "    </tr>\n",
       "    <tr>\n",
       "      <th>2.0</th>\n",
       "      <td>12</td>\n",
       "      <td>19</td>\n",
       "      <td>962</td>\n",
       "    </tr>\n",
       "    <tr>\n",
       "      <th>3.0</th>\n",
       "      <td>6</td>\n",
       "      <td>7</td>\n",
       "      <td>618</td>\n",
       "    </tr>\n",
       "    <tr>\n",
       "      <th>4.0</th>\n",
       "      <td>6</td>\n",
       "      <td>9</td>\n",
       "      <td>679</td>\n",
       "    </tr>\n",
       "    <tr>\n",
       "      <th>5.0</th>\n",
       "      <td>12</td>\n",
       "      <td>14</td>\n",
       "      <td>560</td>\n",
       "    </tr>\n",
       "    <tr>\n",
       "      <th>8.0</th>\n",
       "      <td>39</td>\n",
       "      <td>68</td>\n",
       "      <td>2877</td>\n",
       "    </tr>\n",
       "    <tr>\n",
       "      <th>9.0</th>\n",
       "      <td>0</td>\n",
       "      <td>0</td>\n",
       "      <td>47</td>\n",
       "    </tr>\n",
       "  </tbody>\n",
       "</table>\n",
       "</div>"
      ],
      "text/plain": [
       "우울증       있음  없음  해당없음\n",
       "1회음주량(잔)              \n",
       "1.0       43  41  1621\n",
       "2.0       12  19   962\n",
       "3.0        6   7   618\n",
       "4.0        6   9   679\n",
       "5.0       12  14   560\n",
       "8.0       39  68  2877\n",
       "9.0        0   0    47"
      ]
     },
     "execution_count": 41,
     "metadata": {},
     "output_type": "execute_result"
    }
   ],
   "source": [
    "pd.crosstab(index = [data['1회음주량(잔)']], columns = data['우울증'])"
   ]
  },
  {
   "cell_type": "code",
   "execution_count": 42,
   "metadata": {},
   "outputs": [
    {
     "data": {
      "text/plain": [
       "<matplotlib.axes._subplots.AxesSubplot at 0x15aefca78e0>"
      ]
     },
     "execution_count": 42,
     "metadata": {},
     "output_type": "execute_result"
    },
    {
     "name": "stderr",
     "output_type": "stream",
     "text": [
      "C:\\anaconda\\lib\\site-packages\\matplotlib\\backends\\backend_agg.py:214: RuntimeWarning: Glyph 54924 missing from current font.\n",
      "  font.set_text(s, 0.0, flags=flags)\n",
      "C:\\anaconda\\lib\\site-packages\\matplotlib\\backends\\backend_agg.py:214: RuntimeWarning: Glyph 51020 missing from current font.\n",
      "  font.set_text(s, 0.0, flags=flags)\n",
      "C:\\anaconda\\lib\\site-packages\\matplotlib\\backends\\backend_agg.py:214: RuntimeWarning: Glyph 51452 missing from current font.\n",
      "  font.set_text(s, 0.0, flags=flags)\n",
      "C:\\anaconda\\lib\\site-packages\\matplotlib\\backends\\backend_agg.py:214: RuntimeWarning: Glyph 47049 missing from current font.\n",
      "  font.set_text(s, 0.0, flags=flags)\n",
      "C:\\anaconda\\lib\\site-packages\\matplotlib\\backends\\backend_agg.py:214: RuntimeWarning: Glyph 51092 missing from current font.\n",
      "  font.set_text(s, 0.0, flags=flags)\n",
      "C:\\anaconda\\lib\\site-packages\\matplotlib\\backends\\backend_agg.py:183: RuntimeWarning: Glyph 54924 missing from current font.\n",
      "  font.set_text(s, 0, flags=flags)\n",
      "C:\\anaconda\\lib\\site-packages\\matplotlib\\backends\\backend_agg.py:183: RuntimeWarning: Glyph 51020 missing from current font.\n",
      "  font.set_text(s, 0, flags=flags)\n",
      "C:\\anaconda\\lib\\site-packages\\matplotlib\\backends\\backend_agg.py:183: RuntimeWarning: Glyph 51452 missing from current font.\n",
      "  font.set_text(s, 0, flags=flags)\n",
      "C:\\anaconda\\lib\\site-packages\\matplotlib\\backends\\backend_agg.py:183: RuntimeWarning: Glyph 47049 missing from current font.\n",
      "  font.set_text(s, 0, flags=flags)\n",
      "C:\\anaconda\\lib\\site-packages\\matplotlib\\backends\\backend_agg.py:183: RuntimeWarning: Glyph 51092 missing from current font.\n",
      "  font.set_text(s, 0, flags=flags)\n"
     ]
    },
    {
     "data": {
      "image/png": "[encoded data removed]",
      "text/plain": [
       "<Figure size 432x288 with 1 Axes>"
      ]
     },
     "metadata": {
      "needs_background": "light"
     },
     "output_type": "display_data"
    }
   ],
   "source": [
    "length_a = dataa.query('우울증 == \"있음\"')[\"1회음주량(잔)\"]\n",
    "length_b = dataa.query('우울증 == \"없음\"')[\"1회음주량(잔)\"]\n",
    "\n",
    "\n",
    "sns.distplot(length_a, bins = 10,\n",
    "             color = 'red', kde = False)\n",
    "sns.distplot(length_b, bins = 10,\n",
    "             color = 'black', kde = False)"
   ]
  },
  {
   "cell_type": "markdown",
   "metadata": {},
   "source": [
    "표본이 많지는 않으나 크게 상관관계가 있는것 같지는 않다"
   ]
  },
  {
   "cell_type": "markdown",
   "metadata": {},
   "source": [
    "### 음주량과 골다공증의 상관관계?"
   ]
  },
  {
   "cell_type": "code",
   "execution_count": 43,
   "metadata": {
    "scrolled": true
   },
   "outputs": [
    {
     "data": {
      "text/html": [
       "<div>\n",
       "<style scoped>\n",
       "    .dataframe tbody tr th:only-of-type {\n",
       "        vertical-align: middle;\n",
       "    }\n",
       "\n",
       "    .dataframe tbody tr th {\n",
       "        vertical-align: top;\n",
       "    }\n",
       "\n",
       "    .dataframe thead th {\n",
       "        text-align: right;\n",
       "    }\n",
       "</style>\n",
       "<table border=\"1\" class=\"dataframe\">\n",
       "  <thead>\n",
       "    <tr style=\"text-align: right;\">\n",
       "      <th>골다공증</th>\n",
       "      <th>있음</th>\n",
       "      <th>없음</th>\n",
       "      <th>해당없음</th>\n",
       "    </tr>\n",
       "    <tr>\n",
       "      <th>1회음주량(잔)</th>\n",
       "      <th></th>\n",
       "      <th></th>\n",
       "      <th></th>\n",
       "    </tr>\n",
       "  </thead>\n",
       "  <tbody>\n",
       "    <tr>\n",
       "      <th>1.0</th>\n",
       "      <td>33</td>\n",
       "      <td>121</td>\n",
       "      <td>1551</td>\n",
       "    </tr>\n",
       "    <tr>\n",
       "      <th>2.0</th>\n",
       "      <td>8</td>\n",
       "      <td>29</td>\n",
       "      <td>956</td>\n",
       "    </tr>\n",
       "    <tr>\n",
       "      <th>3.0</th>\n",
       "      <td>3</td>\n",
       "      <td>10</td>\n",
       "      <td>618</td>\n",
       "    </tr>\n",
       "    <tr>\n",
       "      <th>4.0</th>\n",
       "      <td>4</td>\n",
       "      <td>2</td>\n",
       "      <td>688</td>\n",
       "    </tr>\n",
       "    <tr>\n",
       "      <th>5.0</th>\n",
       "      <td>1</td>\n",
       "      <td>2</td>\n",
       "      <td>583</td>\n",
       "    </tr>\n",
       "    <tr>\n",
       "      <th>8.0</th>\n",
       "      <td>51</td>\n",
       "      <td>226</td>\n",
       "      <td>2707</td>\n",
       "    </tr>\n",
       "    <tr>\n",
       "      <th>9.0</th>\n",
       "      <td>0</td>\n",
       "      <td>1</td>\n",
       "      <td>46</td>\n",
       "    </tr>\n",
       "  </tbody>\n",
       "</table>\n",
       "</div>"
      ],
      "text/plain": [
       "골다공증      있음   없음  해당없음\n",
       "1회음주량(잔)               \n",
       "1.0       33  121  1551\n",
       "2.0        8   29   956\n",
       "3.0        3   10   618\n",
       "4.0        4    2   688\n",
       "5.0        1    2   583\n",
       "8.0       51  226  2707\n",
       "9.0        0    1    46"
      ]
     },
     "execution_count": 43,
     "metadata": {},
     "output_type": "execute_result"
    }
   ],
   "source": [
    "pd.crosstab(index = [data['1회음주량(잔)']], columns = data['골다공증'])"
   ]
  },
  {
   "cell_type": "code",
   "execution_count": 44,
   "metadata": {},
   "outputs": [
    {
     "data": {
      "text/plain": [
       "<matplotlib.axes._subplots.AxesSubplot at 0x15aefd2d400>"
      ]
     },
     "execution_count": 44,
     "metadata": {},
     "output_type": "execute_result"
    },
    {
     "name": "stderr",
     "output_type": "stream",
     "text": [
      "C:\\anaconda\\lib\\site-packages\\matplotlib\\backends\\backend_agg.py:214: RuntimeWarning: Glyph 54924 missing from current font.\n",
      "  font.set_text(s, 0.0, flags=flags)\n",
      "C:\\anaconda\\lib\\site-packages\\matplotlib\\backends\\backend_agg.py:214: RuntimeWarning: Glyph 51020 missing from current font.\n",
      "  font.set_text(s, 0.0, flags=flags)\n",
      "C:\\anaconda\\lib\\site-packages\\matplotlib\\backends\\backend_agg.py:214: RuntimeWarning: Glyph 51452 missing from current font.\n",
      "  font.set_text(s, 0.0, flags=flags)\n",
      "C:\\anaconda\\lib\\site-packages\\matplotlib\\backends\\backend_agg.py:214: RuntimeWarning: Glyph 47049 missing from current font.\n",
      "  font.set_text(s, 0.0, flags=flags)\n",
      "C:\\anaconda\\lib\\site-packages\\matplotlib\\backends\\backend_agg.py:214: RuntimeWarning: Glyph 51092 missing from current font.\n",
      "  font.set_text(s, 0.0, flags=flags)\n",
      "C:\\anaconda\\lib\\site-packages\\matplotlib\\backends\\backend_agg.py:183: RuntimeWarning: Glyph 54924 missing from current font.\n",
      "  font.set_text(s, 0, flags=flags)\n",
      "C:\\anaconda\\lib\\site-packages\\matplotlib\\backends\\backend_agg.py:183: RuntimeWarning: Glyph 51020 missing from current font.\n",
      "  font.set_text(s, 0, flags=flags)\n",
      "C:\\anaconda\\lib\\site-packages\\matplotlib\\backends\\backend_agg.py:183: RuntimeWarning: Glyph 51452 missing from current font.\n",
      "  font.set_text(s, 0, flags=flags)\n",
      "C:\\anaconda\\lib\\site-packages\\matplotlib\\backends\\backend_agg.py:183: RuntimeWarning: Glyph 47049 missing from current font.\n",
      "  font.set_text(s, 0, flags=flags)\n",
      "C:\\anaconda\\lib\\site-packages\\matplotlib\\backends\\backend_agg.py:183: RuntimeWarning: Glyph 51092 missing from current font.\n",
      "  font.set_text(s, 0, flags=flags)\n"
     ]
    },
    {
     "data": {
      "image/png": "[encoded data removed]",
      "text/plain": [
       "<Figure size 432x288 with 1 Axes>"
      ]
     },
     "metadata": {
      "needs_background": "light"
     },
     "output_type": "display_data"
    }
   ],
   "source": [
    "length_a = dataa.query('골다공증 == \"있음\"')[\"1회음주량(잔)\"]\n",
    "length_b = dataa.query('골다공증 == \"없음\"')[\"1회음주량(잔)\"]\n",
    "\n",
    "\n",
    "sns.distplot(length_a, bins = 10,\n",
    "             color = 'red', kde = False)\n",
    "sns.distplot(length_b, bins = 10,\n",
    "             color = 'black', kde = False)"
   ]
  },
  {
   "cell_type": "markdown",
   "metadata": {},
   "source": [
    "오히려 1회음주량이 높은사람중엔 골다공증이 없는 사람이 더 많다? :아마 1회음주량이 높은사람은 건강상태가 좋을것이므로 골다공증x"
   ]
  },
  {
   "cell_type": "markdown",
   "metadata": {},
   "source": [
    "### 음주량과 비만도의 상관관계?"
   ]
  },
  {
   "cell_type": "code",
   "execution_count": 45,
   "metadata": {},
   "outputs": [
    {
     "data": {
      "text/plain": [
       "<matplotlib.axes._subplots.AxesSubplot at 0x15aefdbc670>"
      ]
     },
     "execution_count": 45,
     "metadata": {},
     "output_type": "execute_result"
    },
    {
     "data": {
      "image/png": "[encoded data removed]",
      "text/plain": [
       "<Figure size 432x288 with 1 Axes>"
      ]
     },
     "metadata": {
      "needs_background": "light"
     },
     "output_type": "display_data"
    }
   ],
   "source": [
    "length_a = dataa.query('비만도 == \"비만\"')[\"1회음주량(잔)\"]\n",
    "length_b = dataa.query('비만도 == \"정상\"')[\"1회음주량(잔)\"]\n",
    "\n",
    "\n",
    "sns.distplot(length_a, bins = 10,\n",
    "             color = 'red', kde = False)\n",
    "sns.distplot(length_b, bins = 10,\n",
    "             color = 'black', kde = False)"
   ]
  },
  {
   "cell_type": "code",
   "execution_count": 46,
   "metadata": {
    "scrolled": true
   },
   "outputs": [
    {
     "name": "stdout",
     "output_type": "stream",
     "text": [
      "[0.040731850706831746, 0.012613121713622139]\n"
     ]
    },
    {
     "name": "stderr",
     "output_type": "stream",
     "text": [
      "C:\\anaconda\\lib\\site-packages\\matplotlib\\backends\\backend_agg.py:214: RuntimeWarning: Glyph 54924 missing from current font.\n",
      "  font.set_text(s, 0.0, flags=flags)\n",
      "C:\\anaconda\\lib\\site-packages\\matplotlib\\backends\\backend_agg.py:214: RuntimeWarning: Glyph 51020 missing from current font.\n",
      "  font.set_text(s, 0.0, flags=flags)\n",
      "C:\\anaconda\\lib\\site-packages\\matplotlib\\backends\\backend_agg.py:214: RuntimeWarning: Glyph 51452 missing from current font.\n",
      "  font.set_text(s, 0.0, flags=flags)\n",
      "C:\\anaconda\\lib\\site-packages\\matplotlib\\backends\\backend_agg.py:214: RuntimeWarning: Glyph 47049 missing from current font.\n",
      "  font.set_text(s, 0.0, flags=flags)\n",
      "C:\\anaconda\\lib\\site-packages\\matplotlib\\backends\\backend_agg.py:214: RuntimeWarning: Glyph 51092 missing from current font.\n",
      "  font.set_text(s, 0.0, flags=flags)\n",
      "C:\\anaconda\\lib\\site-packages\\matplotlib\\backends\\backend_agg.py:183: RuntimeWarning: Glyph 54924 missing from current font.\n",
      "  font.set_text(s, 0, flags=flags)\n",
      "C:\\anaconda\\lib\\site-packages\\matplotlib\\backends\\backend_agg.py:183: RuntimeWarning: Glyph 51020 missing from current font.\n",
      "  font.set_text(s, 0, flags=flags)\n",
      "C:\\anaconda\\lib\\site-packages\\matplotlib\\backends\\backend_agg.py:183: RuntimeWarning: Glyph 51452 missing from current font.\n",
      "  font.set_text(s, 0, flags=flags)\n",
      "C:\\anaconda\\lib\\site-packages\\matplotlib\\backends\\backend_agg.py:183: RuntimeWarning: Glyph 47049 missing from current font.\n",
      "  font.set_text(s, 0, flags=flags)\n",
      "C:\\anaconda\\lib\\site-packages\\matplotlib\\backends\\backend_agg.py:183: RuntimeWarning: Glyph 51092 missing from current font.\n",
      "  font.set_text(s, 0, flags=flags)\n"
     ]
    },
    {
     "data": {
      "image/png": "[encoded data removed]",
      "text/plain": [
       "<Figure size 432x288 with 1 Axes>"
      ]
     },
     "metadata": {
      "needs_background": "light"
     },
     "output_type": "display_data"
    }
   ],
   "source": [
    "dataa = data.dropna()\n",
    "sns.regplot(data = dataa, x = '1회음주량(잔)', y = 'BMI')\n",
    "[R, p] = stats.pearsonr(dataa['1회음주량(잔)'], dataa['BMI'])\n",
    "print([R, p])"
   ]
  },
  {
   "cell_type": "markdown",
   "metadata": {},
   "source": [
    "## +c.f.)음주량과 흡연량의 상관관계?"
   ]
  },
  {
   "cell_type": "code",
   "execution_count": 47,
   "metadata": {
    "scrolled": true
   },
   "outputs": [
    {
     "name": "stdout",
     "output_type": "stream",
     "text": [
      "[-0.014944447023922235, 0.36024269642144363]\n"
     ]
    },
    {
     "name": "stderr",
     "output_type": "stream",
     "text": [
      "C:\\anaconda\\lib\\site-packages\\matplotlib\\backends\\backend_agg.py:214: RuntimeWarning: Glyph 54924 missing from current font.\n",
      "  font.set_text(s, 0.0, flags=flags)\n",
      "C:\\anaconda\\lib\\site-packages\\matplotlib\\backends\\backend_agg.py:214: RuntimeWarning: Glyph 51020 missing from current font.\n",
      "  font.set_text(s, 0.0, flags=flags)\n",
      "C:\\anaconda\\lib\\site-packages\\matplotlib\\backends\\backend_agg.py:214: RuntimeWarning: Glyph 51452 missing from current font.\n",
      "  font.set_text(s, 0.0, flags=flags)\n",
      "C:\\anaconda\\lib\\site-packages\\matplotlib\\backends\\backend_agg.py:214: RuntimeWarning: Glyph 47049 missing from current font.\n",
      "  font.set_text(s, 0.0, flags=flags)\n",
      "C:\\anaconda\\lib\\site-packages\\matplotlib\\backends\\backend_agg.py:214: RuntimeWarning: Glyph 51092 missing from current font.\n",
      "  font.set_text(s, 0.0, flags=flags)\n",
      "C:\\anaconda\\lib\\site-packages\\matplotlib\\backends\\backend_agg.py:214: RuntimeWarning: Glyph 54616 missing from current font.\n",
      "  font.set_text(s, 0.0, flags=flags)\n",
      "C:\\anaconda\\lib\\site-packages\\matplotlib\\backends\\backend_agg.py:214: RuntimeWarning: Glyph 47336 missing from current font.\n",
      "  font.set_text(s, 0.0, flags=flags)\n",
      "C:\\anaconda\\lib\\site-packages\\matplotlib\\backends\\backend_agg.py:214: RuntimeWarning: Glyph 54217 missing from current font.\n",
      "  font.set_text(s, 0.0, flags=flags)\n",
      "C:\\anaconda\\lib\\site-packages\\matplotlib\\backends\\backend_agg.py:214: RuntimeWarning: Glyph 44512 missing from current font.\n",
      "  font.set_text(s, 0.0, flags=flags)\n",
      "C:\\anaconda\\lib\\site-packages\\matplotlib\\backends\\backend_agg.py:214: RuntimeWarning: Glyph 55137 missing from current font.\n",
      "  font.set_text(s, 0.0, flags=flags)\n",
      "C:\\anaconda\\lib\\site-packages\\matplotlib\\backends\\backend_agg.py:214: RuntimeWarning: Glyph 50672 missing from current font.\n",
      "  font.set_text(s, 0.0, flags=flags)\n",
      "C:\\anaconda\\lib\\site-packages\\matplotlib\\backends\\backend_agg.py:183: RuntimeWarning: Glyph 54924 missing from current font.\n",
      "  font.set_text(s, 0, flags=flags)\n",
      "C:\\anaconda\\lib\\site-packages\\matplotlib\\backends\\backend_agg.py:183: RuntimeWarning: Glyph 51020 missing from current font.\n",
      "  font.set_text(s, 0, flags=flags)\n",
      "C:\\anaconda\\lib\\site-packages\\matplotlib\\backends\\backend_agg.py:183: RuntimeWarning: Glyph 51452 missing from current font.\n",
      "  font.set_text(s, 0, flags=flags)\n",
      "C:\\anaconda\\lib\\site-packages\\matplotlib\\backends\\backend_agg.py:183: RuntimeWarning: Glyph 47049 missing from current font.\n",
      "  font.set_text(s, 0, flags=flags)\n",
      "C:\\anaconda\\lib\\site-packages\\matplotlib\\backends\\backend_agg.py:183: RuntimeWarning: Glyph 51092 missing from current font.\n",
      "  font.set_text(s, 0, flags=flags)\n",
      "C:\\anaconda\\lib\\site-packages\\matplotlib\\backends\\backend_agg.py:183: RuntimeWarning: Glyph 54616 missing from current font.\n",
      "  font.set_text(s, 0, flags=flags)\n",
      "C:\\anaconda\\lib\\site-packages\\matplotlib\\backends\\backend_agg.py:183: RuntimeWarning: Glyph 47336 missing from current font.\n",
      "  font.set_text(s, 0, flags=flags)\n",
      "C:\\anaconda\\lib\\site-packages\\matplotlib\\backends\\backend_agg.py:183: RuntimeWarning: Glyph 54217 missing from current font.\n",
      "  font.set_text(s, 0, flags=flags)\n",
      "C:\\anaconda\\lib\\site-packages\\matplotlib\\backends\\backend_agg.py:183: RuntimeWarning: Glyph 44512 missing from current font.\n",
      "  font.set_text(s, 0, flags=flags)\n",
      "C:\\anaconda\\lib\\site-packages\\matplotlib\\backends\\backend_agg.py:183: RuntimeWarning: Glyph 55137 missing from current font.\n",
      "  font.set_text(s, 0, flags=flags)\n",
      "C:\\anaconda\\lib\\site-packages\\matplotlib\\backends\\backend_agg.py:183: RuntimeWarning: Glyph 50672 missing from current font.\n",
      "  font.set_text(s, 0, flags=flags)\n"
     ]
    },
    {
     "data": {
      "image/png": "[encoded data removed]",
      "text/plain": [
       "<Figure size 432x288 with 1 Axes>"
      ]
     },
     "metadata": {
      "needs_background": "light"
     },
     "output_type": "display_data"
    }
   ],
   "source": [
    "dataa = data.dropna()\n",
    "sns.regplot(data = dataa, x = '1회음주량(잔)', y = '하루평균흡연량')\n",
    "[R, p] = stats.pearsonr(dataa['1회음주량(잔)'], dataa['하루평균흡연량'])\n",
    "print([R, p])"
   ]
  },
  {
   "cell_type": "markdown",
   "metadata": {},
   "source": [
    "음주량과 흡연량관에 상관관계가 있다면 이는 우연에 의한 상관관계일 가능성이 높다."
   ]
  },
  {
   "cell_type": "markdown",
   "metadata": {},
   "source": [
    "# 결론"
   ]
  },
  {
   "cell_type": "markdown",
   "metadata": {},
   "source": [
    "## 1. 성별별 흡연량 남>여, 성별별 음주여부 여>남\n",
    "## 2. 흡연과 혈압:상관관계 x , 음주와 혈압 - 오류\n",
    "## 3. 흡연, 음주와 골다공증, 우울증: 연관x\n",
    "## 4. c.f) 흡연과 노력성 호기량, 비만도와 노력성 호기량은 상관관계를 가진다\n",
    "## 5. c.f) 음주량과 비만도, 음주량과 흡연량은 상관관계x"
   ]
  },
  {
   "cell_type": "code",
   "execution_count": null,
   "metadata": {},
   "outputs": [],
   "source": []
  }
 ],
 "metadata": {
  "kernelspec": {
   "display_name": "Python 3",
   "language": "python",
   "name": "python3"
  },
  "language_info": {
   "codemirror_mode": {
    "name": "ipython",
    "version": 3
   },
   "file_extension": ".py",
   "mimetype": "text/x-python",
   "name": "python",
   "nbconvert_exporter": "python",
   "pygments_lexer": "ipython3",
   "version": "3.8.3"
  }
 },
 "nbformat": 4,
 "nbformat_minor": 4
}
