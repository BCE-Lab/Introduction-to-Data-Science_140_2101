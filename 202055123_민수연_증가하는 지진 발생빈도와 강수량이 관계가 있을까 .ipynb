{
 "cells": [
  {
   "cell_type": "code",
   "execution_count": 1,
   "metadata": {},
   "outputs": [],
   "source": [
    "import numpy as np\n",
    "import pandas as pd\n",
    "\n",
    "from pandas import Series, DataFrame\n",
    "\n",
    "import matplotlib.pyplot as plt\n",
    "import matplotlib as mpl\n",
    "import seaborn as sns\n",
    "%matplotlib inline"
   ]
  },
  {
   "cell_type": "markdown",
   "metadata": {},
   "source": [
    "# 사용한 데이터"
   ]
  },
  {
   "cell_type": "code",
   "execution_count": 3,
   "metadata": {},
   "outputs": [
    {
     "data": {
      "text/html": [
       "<div>\n",
       "<style scoped>\n",
       "    .dataframe tbody tr th:only-of-type {\n",
       "        vertical-align: middle;\n",
       "    }\n",
       "\n",
       "    .dataframe tbody tr th {\n",
       "        vertical-align: top;\n",
       "    }\n",
       "\n",
       "    .dataframe thead th {\n",
       "        text-align: right;\n",
       "    }\n",
       "</style>\n",
       "<table border=\"1\" class=\"dataframe\">\n",
       "  <thead>\n",
       "    <tr style=\"text-align: right;\">\n",
       "      <th></th>\n",
       "      <th>시간</th>\n",
       "      <th>규모</th>\n",
       "      <th>위도</th>\n",
       "      <th>경도</th>\n",
       "      <th>위치</th>\n",
       "    </tr>\n",
       "  </thead>\n",
       "  <tbody>\n",
       "    <tr>\n",
       "      <th>0</th>\n",
       "      <td>2000-01-18 15:08</td>\n",
       "      <td>3.0</td>\n",
       "      <td>38.70</td>\n",
       "      <td>127.90</td>\n",
       "      <td>북한 강원 회양 동쪽 26km 지역</td>\n",
       "    </tr>\n",
       "    <tr>\n",
       "      <th>1</th>\n",
       "      <td>2000-02-21 1:06</td>\n",
       "      <td>2.1</td>\n",
       "      <td>35.80</td>\n",
       "      <td>128.20</td>\n",
       "      <td>경북 고령군 북서쪽 10km 지역</td>\n",
       "    </tr>\n",
       "    <tr>\n",
       "      <th>2</th>\n",
       "      <td>2000-03-15 1:10</td>\n",
       "      <td>2.5</td>\n",
       "      <td>36.30</td>\n",
       "      <td>125.90</td>\n",
       "      <td>전북 군산시 어청도 북북서쪽 20km 해역</td>\n",
       "    </tr>\n",
       "    <tr>\n",
       "      <th>3</th>\n",
       "      <td>2000-03-21 13:43</td>\n",
       "      <td>2.3</td>\n",
       "      <td>36.50</td>\n",
       "      <td>126.00</td>\n",
       "      <td>충남 태안군 남서쪽 38km 해역</td>\n",
       "    </tr>\n",
       "    <tr>\n",
       "      <th>4</th>\n",
       "      <td>2000-04-12 4:44</td>\n",
       "      <td>3.5</td>\n",
       "      <td>36.90</td>\n",
       "      <td>125.30</td>\n",
       "      <td>충남 태안군 서격렬비열도 북북서쪽 39km 해역</td>\n",
       "    </tr>\n",
       "    <tr>\n",
       "      <th>...</th>\n",
       "      <td>...</td>\n",
       "      <td>...</td>\n",
       "      <td>...</td>\n",
       "      <td>...</td>\n",
       "      <td>...</td>\n",
       "    </tr>\n",
       "    <tr>\n",
       "      <th>1401</th>\n",
       "      <td>2020-11-17 3:10</td>\n",
       "      <td>2.6</td>\n",
       "      <td>41.28</td>\n",
       "      <td>129.18</td>\n",
       "      <td>북한 함경북도 길주 북북서쪽 38km 지역</td>\n",
       "    </tr>\n",
       "    <tr>\n",
       "      <th>1402</th>\n",
       "      <td>2020-11-19 23:17</td>\n",
       "      <td>3.1</td>\n",
       "      <td>37.99</td>\n",
       "      <td>125.37</td>\n",
       "      <td>북한 황해남도 옹진 북쪽 7km 지역</td>\n",
       "    </tr>\n",
       "    <tr>\n",
       "      <th>1403</th>\n",
       "      <td>2020-12-15 17:15</td>\n",
       "      <td>2.3</td>\n",
       "      <td>37.70</td>\n",
       "      <td>125.17</td>\n",
       "      <td>북한 황해남도 옹진 남남서쪽 31km 해역</td>\n",
       "    </tr>\n",
       "    <tr>\n",
       "      <th>1404</th>\n",
       "      <td>2020-12-18 17:17</td>\n",
       "      <td>2.7</td>\n",
       "      <td>37.66</td>\n",
       "      <td>129.32</td>\n",
       "      <td>강원 동해시 북동쪽 24km 해역</td>\n",
       "    </tr>\n",
       "    <tr>\n",
       "      <th>1405</th>\n",
       "      <td>2020-12-23 21:28</td>\n",
       "      <td>2.2</td>\n",
       "      <td>37.73</td>\n",
       "      <td>126.73</td>\n",
       "      <td>경기 파주시 남서쪽 6km 지역</td>\n",
       "    </tr>\n",
       "  </tbody>\n",
       "</table>\n",
       "<p>1406 rows × 5 columns</p>\n",
       "</div>"
      ],
      "text/plain": [
       "                    시간   규모     위도      경도                          위치\n",
       "0     2000-01-18 15:08  3.0  38.70  127.90         북한 강원 회양 동쪽 26km 지역\n",
       "1      2000-02-21 1:06  2.1  35.80  128.20          경북 고령군 북서쪽 10km 지역\n",
       "2      2000-03-15 1:10  2.5  36.30  125.90     전북 군산시 어청도 북북서쪽 20km 해역\n",
       "3     2000-03-21 13:43  2.3  36.50  126.00          충남 태안군 남서쪽 38km 해역\n",
       "4      2000-04-12 4:44  3.5  36.90  125.30  충남 태안군 서격렬비열도 북북서쪽 39km 해역\n",
       "...                ...  ...    ...     ...                         ...\n",
       "1401   2020-11-17 3:10  2.6  41.28  129.18     북한 함경북도 길주 북북서쪽 38km 지역\n",
       "1402  2020-11-19 23:17  3.1  37.99  125.37        북한 황해남도 옹진 북쪽 7km 지역\n",
       "1403  2020-12-15 17:15  2.3  37.70  125.17     북한 황해남도 옹진 남남서쪽 31km 해역\n",
       "1404  2020-12-18 17:17  2.7  37.66  129.32          강원 동해시 북동쪽 24km 해역\n",
       "1405  2020-12-23 21:28  2.2  37.73  126.73           경기 파주시 남서쪽 6km 지역\n",
       "\n",
       "[1406 rows x 5 columns]"
      ]
     },
     "execution_count": 3,
     "metadata": {},
     "output_type": "execute_result"
    }
   ],
   "source": [
    "data=pd.read_csv('지진정보.csv',encoding='ANSI')\n",
    "data"
   ]
  },
  {
   "cell_type": "code",
   "execution_count": 4,
   "metadata": {},
   "outputs": [
    {
     "data": {
      "text/html": [
       "<div>\n",
       "<style scoped>\n",
       "    .dataframe tbody tr th:only-of-type {\n",
       "        vertical-align: middle;\n",
       "    }\n",
       "\n",
       "    .dataframe tbody tr th {\n",
       "        vertical-align: top;\n",
       "    }\n",
       "\n",
       "    .dataframe thead th {\n",
       "        text-align: right;\n",
       "    }\n",
       "</style>\n",
       "<table border=\"1\" class=\"dataframe\">\n",
       "  <thead>\n",
       "    <tr style=\"text-align: right;\">\n",
       "      <th></th>\n",
       "      <th>날짜</th>\n",
       "      <th>강수량(mm)</th>\n",
       "    </tr>\n",
       "  </thead>\n",
       "  <tbody>\n",
       "    <tr>\n",
       "      <th>0</th>\n",
       "      <td>2000-01-01</td>\n",
       "      <td>1.7</td>\n",
       "    </tr>\n",
       "    <tr>\n",
       "      <th>1</th>\n",
       "      <td>2000-01-02</td>\n",
       "      <td>2.5</td>\n",
       "    </tr>\n",
       "    <tr>\n",
       "      <th>2</th>\n",
       "      <td>2000-01-03</td>\n",
       "      <td>0.0</td>\n",
       "    </tr>\n",
       "    <tr>\n",
       "      <th>3</th>\n",
       "      <td>2000-01-04</td>\n",
       "      <td>0.0</td>\n",
       "    </tr>\n",
       "    <tr>\n",
       "      <th>4</th>\n",
       "      <td>2000-01-05</td>\n",
       "      <td>9.1</td>\n",
       "    </tr>\n",
       "    <tr>\n",
       "      <th>...</th>\n",
       "      <td>...</td>\n",
       "      <td>...</td>\n",
       "    </tr>\n",
       "    <tr>\n",
       "      <th>7666</th>\n",
       "      <td>2020-12-27</td>\n",
       "      <td>2.2</td>\n",
       "    </tr>\n",
       "    <tr>\n",
       "      <th>7667</th>\n",
       "      <td>2020-12-28</td>\n",
       "      <td>0.1</td>\n",
       "    </tr>\n",
       "    <tr>\n",
       "      <th>7668</th>\n",
       "      <td>2020-12-29</td>\n",
       "      <td>1.8</td>\n",
       "    </tr>\n",
       "    <tr>\n",
       "      <th>7669</th>\n",
       "      <td>2020-12-30</td>\n",
       "      <td>1.2</td>\n",
       "    </tr>\n",
       "    <tr>\n",
       "      <th>7670</th>\n",
       "      <td>2020-12-31</td>\n",
       "      <td>0.2</td>\n",
       "    </tr>\n",
       "  </tbody>\n",
       "</table>\n",
       "<p>7671 rows × 2 columns</p>\n",
       "</div>"
      ],
      "text/plain": [
       "              날짜  강수량(mm)\n",
       "0     2000-01-01      1.7\n",
       "1     2000-01-02      2.5\n",
       "2     2000-01-03      0.0\n",
       "3     2000-01-04      0.0\n",
       "4     2000-01-05      9.1\n",
       "...          ...      ...\n",
       "7666  2020-12-27      2.2\n",
       "7667  2020-12-28      0.1\n",
       "7668  2020-12-29      1.8\n",
       "7669  2020-12-30      1.2\n",
       "7670  2020-12-31      0.2\n",
       "\n",
       "[7671 rows x 2 columns]"
      ]
     },
     "execution_count": 4,
     "metadata": {},
     "output_type": "execute_result"
    }
   ],
   "source": [
    "rain=pd.read_csv('전국강수량.csv',encoding='ANSI')\n",
    "rain"
   ]
  },
  {
   "cell_type": "markdown",
   "metadata": {},
   "source": [
    "# 가설 1.\n",
    "> 계절별로 지역과 해역에서의 주기성이 있을 것이다.\n",
    "\n",
    "# 가설2.\n",
    "> 지진활동의 증가는 강수량과 상관관계가 있을 것이다."
   ]
  },
  {
   "cell_type": "markdown",
   "metadata": {},
   "source": [
    "# 데이터 정리"
   ]
  },
  {
   "cell_type": "code",
   "execution_count": 5,
   "metadata": {},
   "outputs": [],
   "source": [
    "a=[]\n",
    "for i in range(len(data.위치)):\n",
    "    a.append(data.위치[i][-2:])\n",
    "data['지역/해역']=a\n",
    "\n",
    "b=[]\n",
    "for i in range(len(data.시간)):\n",
    "    b.append(data.시간[i][:10])\n",
    "data['날짜']=b"
   ]
  },
  {
   "cell_type": "code",
   "execution_count": 6,
   "metadata": {},
   "outputs": [],
   "source": [
    "year=[]\n",
    "for i in range(len(data.날짜)):\n",
    "    year.append(data.날짜[i][2:4])\n",
    "data['year']=year\n",
    "\n",
    "month=[]\n",
    "for i in range(len(data.날짜)):\n",
    "    month.append(int(data.날짜[i][5:7]))\n",
    "data['month']=month"
   ]
  },
  {
   "cell_type": "code",
   "execution_count": 7,
   "metadata": {},
   "outputs": [],
   "source": [
    "data['진도']=['격진' if s >=7 else ('열진' if s>=6 else ('강진' if s>=5 else ('중진' if s>=4 else('약진' if s>=3 else('경진' if s>=2 else ('미진' if s>=1 else '무감'))))))for s in data['규모']]\n",
    "\n",
    "data['season']=['winter' if s >=10 else ('fall' if s>=7 else ('summer' if s>=4 else 'spring'))for s in data['month']]"
   ]
  },
  {
   "cell_type": "code",
   "execution_count": 8,
   "metadata": {
    "scrolled": true
   },
   "outputs": [],
   "source": [
    "del data['시간']"
   ]
  },
  {
   "cell_type": "code",
   "execution_count": 9,
   "metadata": {
    "scrolled": true
   },
   "outputs": [
    {
     "data": {
      "text/html": [
       "<div>\n",
       "<style scoped>\n",
       "    .dataframe tbody tr th:only-of-type {\n",
       "        vertical-align: middle;\n",
       "    }\n",
       "\n",
       "    .dataframe tbody tr th {\n",
       "        vertical-align: top;\n",
       "    }\n",
       "\n",
       "    .dataframe thead th {\n",
       "        text-align: right;\n",
       "    }\n",
       "</style>\n",
       "<table border=\"1\" class=\"dataframe\">\n",
       "  <thead>\n",
       "    <tr style=\"text-align: right;\">\n",
       "      <th></th>\n",
       "      <th>규모</th>\n",
       "      <th>위도</th>\n",
       "      <th>경도</th>\n",
       "      <th>위치</th>\n",
       "      <th>지역/해역</th>\n",
       "      <th>날짜</th>\n",
       "      <th>year</th>\n",
       "      <th>month</th>\n",
       "      <th>진도</th>\n",
       "      <th>season</th>\n",
       "    </tr>\n",
       "  </thead>\n",
       "  <tbody>\n",
       "    <tr>\n",
       "      <th>0</th>\n",
       "      <td>3.0</td>\n",
       "      <td>38.70</td>\n",
       "      <td>127.90</td>\n",
       "      <td>북한 강원 회양 동쪽 26km 지역</td>\n",
       "      <td>지역</td>\n",
       "      <td>2000-01-18</td>\n",
       "      <td>00</td>\n",
       "      <td>1</td>\n",
       "      <td>약진</td>\n",
       "      <td>spring</td>\n",
       "    </tr>\n",
       "    <tr>\n",
       "      <th>1</th>\n",
       "      <td>2.1</td>\n",
       "      <td>35.80</td>\n",
       "      <td>128.20</td>\n",
       "      <td>경북 고령군 북서쪽 10km 지역</td>\n",
       "      <td>지역</td>\n",
       "      <td>2000-02-21</td>\n",
       "      <td>00</td>\n",
       "      <td>2</td>\n",
       "      <td>경진</td>\n",
       "      <td>spring</td>\n",
       "    </tr>\n",
       "    <tr>\n",
       "      <th>2</th>\n",
       "      <td>2.5</td>\n",
       "      <td>36.30</td>\n",
       "      <td>125.90</td>\n",
       "      <td>전북 군산시 어청도 북북서쪽 20km 해역</td>\n",
       "      <td>해역</td>\n",
       "      <td>2000-03-15</td>\n",
       "      <td>00</td>\n",
       "      <td>3</td>\n",
       "      <td>경진</td>\n",
       "      <td>spring</td>\n",
       "    </tr>\n",
       "    <tr>\n",
       "      <th>3</th>\n",
       "      <td>2.3</td>\n",
       "      <td>36.50</td>\n",
       "      <td>126.00</td>\n",
       "      <td>충남 태안군 남서쪽 38km 해역</td>\n",
       "      <td>해역</td>\n",
       "      <td>2000-03-21</td>\n",
       "      <td>00</td>\n",
       "      <td>3</td>\n",
       "      <td>경진</td>\n",
       "      <td>spring</td>\n",
       "    </tr>\n",
       "    <tr>\n",
       "      <th>4</th>\n",
       "      <td>3.5</td>\n",
       "      <td>36.90</td>\n",
       "      <td>125.30</td>\n",
       "      <td>충남 태안군 서격렬비열도 북북서쪽 39km 해역</td>\n",
       "      <td>해역</td>\n",
       "      <td>2000-04-12</td>\n",
       "      <td>00</td>\n",
       "      <td>4</td>\n",
       "      <td>약진</td>\n",
       "      <td>summer</td>\n",
       "    </tr>\n",
       "    <tr>\n",
       "      <th>...</th>\n",
       "      <td>...</td>\n",
       "      <td>...</td>\n",
       "      <td>...</td>\n",
       "      <td>...</td>\n",
       "      <td>...</td>\n",
       "      <td>...</td>\n",
       "      <td>...</td>\n",
       "      <td>...</td>\n",
       "      <td>...</td>\n",
       "      <td>...</td>\n",
       "    </tr>\n",
       "    <tr>\n",
       "      <th>1401</th>\n",
       "      <td>2.6</td>\n",
       "      <td>41.28</td>\n",
       "      <td>129.18</td>\n",
       "      <td>북한 함경북도 길주 북북서쪽 38km 지역</td>\n",
       "      <td>지역</td>\n",
       "      <td>2020-11-17</td>\n",
       "      <td>20</td>\n",
       "      <td>11</td>\n",
       "      <td>경진</td>\n",
       "      <td>winter</td>\n",
       "    </tr>\n",
       "    <tr>\n",
       "      <th>1402</th>\n",
       "      <td>3.1</td>\n",
       "      <td>37.99</td>\n",
       "      <td>125.37</td>\n",
       "      <td>북한 황해남도 옹진 북쪽 7km 지역</td>\n",
       "      <td>지역</td>\n",
       "      <td>2020-11-19</td>\n",
       "      <td>20</td>\n",
       "      <td>11</td>\n",
       "      <td>약진</td>\n",
       "      <td>winter</td>\n",
       "    </tr>\n",
       "    <tr>\n",
       "      <th>1403</th>\n",
       "      <td>2.3</td>\n",
       "      <td>37.70</td>\n",
       "      <td>125.17</td>\n",
       "      <td>북한 황해남도 옹진 남남서쪽 31km 해역</td>\n",
       "      <td>해역</td>\n",
       "      <td>2020-12-15</td>\n",
       "      <td>20</td>\n",
       "      <td>12</td>\n",
       "      <td>경진</td>\n",
       "      <td>winter</td>\n",
       "    </tr>\n",
       "    <tr>\n",
       "      <th>1404</th>\n",
       "      <td>2.7</td>\n",
       "      <td>37.66</td>\n",
       "      <td>129.32</td>\n",
       "      <td>강원 동해시 북동쪽 24km 해역</td>\n",
       "      <td>해역</td>\n",
       "      <td>2020-12-18</td>\n",
       "      <td>20</td>\n",
       "      <td>12</td>\n",
       "      <td>경진</td>\n",
       "      <td>winter</td>\n",
       "    </tr>\n",
       "    <tr>\n",
       "      <th>1405</th>\n",
       "      <td>2.2</td>\n",
       "      <td>37.73</td>\n",
       "      <td>126.73</td>\n",
       "      <td>경기 파주시 남서쪽 6km 지역</td>\n",
       "      <td>지역</td>\n",
       "      <td>2020-12-23</td>\n",
       "      <td>20</td>\n",
       "      <td>12</td>\n",
       "      <td>경진</td>\n",
       "      <td>winter</td>\n",
       "    </tr>\n",
       "  </tbody>\n",
       "</table>\n",
       "<p>1406 rows × 10 columns</p>\n",
       "</div>"
      ],
      "text/plain": [
       "       규모     위도      경도                          위치 지역/해역          날짜 year  \\\n",
       "0     3.0  38.70  127.90         북한 강원 회양 동쪽 26km 지역    지역  2000-01-18   00   \n",
       "1     2.1  35.80  128.20          경북 고령군 북서쪽 10km 지역    지역  2000-02-21   00   \n",
       "2     2.5  36.30  125.90     전북 군산시 어청도 북북서쪽 20km 해역    해역  2000-03-15   00   \n",
       "3     2.3  36.50  126.00          충남 태안군 남서쪽 38km 해역    해역  2000-03-21   00   \n",
       "4     3.5  36.90  125.30  충남 태안군 서격렬비열도 북북서쪽 39km 해역    해역  2000-04-12   00   \n",
       "...   ...    ...     ...                         ...   ...         ...  ...   \n",
       "1401  2.6  41.28  129.18     북한 함경북도 길주 북북서쪽 38km 지역    지역  2020-11-17   20   \n",
       "1402  3.1  37.99  125.37        북한 황해남도 옹진 북쪽 7km 지역    지역  2020-11-19   20   \n",
       "1403  2.3  37.70  125.17     북한 황해남도 옹진 남남서쪽 31km 해역    해역  2020-12-15   20   \n",
       "1404  2.7  37.66  129.32          강원 동해시 북동쪽 24km 해역    해역  2020-12-18   20   \n",
       "1405  2.2  37.73  126.73           경기 파주시 남서쪽 6km 지역    지역  2020-12-23   20   \n",
       "\n",
       "      month  진도  season  \n",
       "0         1  약진  spring  \n",
       "1         2  경진  spring  \n",
       "2         3  경진  spring  \n",
       "3         3  경진  spring  \n",
       "4         4  약진  summer  \n",
       "...     ...  ..     ...  \n",
       "1401     11  경진  winter  \n",
       "1402     11  약진  winter  \n",
       "1403     12  경진  winter  \n",
       "1404     12  경진  winter  \n",
       "1405     12  경진  winter  \n",
       "\n",
       "[1406 rows x 10 columns]"
      ]
     },
     "execution_count": 9,
     "metadata": {},
     "output_type": "execute_result"
    }
   ],
   "source": [
    "data"
   ]
  },
  {
   "cell_type": "markdown",
   "metadata": {},
   "source": [
    "# 연도별 지진 발생 빈도"
   ]
  },
  {
   "cell_type": "code",
   "execution_count": 10,
   "metadata": {},
   "outputs": [
    {
     "data": {
      "text/plain": [
       "([0, 1, 2, 3, 4, 5, 6, 7, 8, 9, 10, 11, 12, 13, 14, 15, 16, 17, 18, 19, 20],\n",
       " <a list of 21 Text xticklabel objects>)"
      ]
     },
     "execution_count": 10,
     "metadata": {},
     "output_type": "execute_result"
    },
    {
     "data": {
      "image/png": "[encoded data removed]",
      "text/plain": [
       "<Figure size 432x288 with 1 Axes>"
      ]
     },
     "metadata": {
      "needs_background": "light"
     },
     "output_type": "display_data"
    }
   ],
   "source": [
    "F=data['year'].value_counts(sort=False)\n",
    "F=F.reindex(index=['00','01','02','03','04','05','06','07','08','09','10','11','12','13','14','15','16','17','18','19','20'])\n",
    "plt.plot(F)\n",
    "plt.title('Frequency')\n",
    "plt.ylabel('count')\n",
    "plt.xticks(rotation=90)"
   ]
  },
  {
   "cell_type": "markdown",
   "metadata": {},
   "source": [
    "# 지역과 해역의 계절별 지진 현상"
   ]
  },
  {
   "cell_type": "code",
   "execution_count": 11,
   "metadata": {
    "scrolled": true
   },
   "outputs": [],
   "source": [
    "land=data[data['지역/해역']=='지역']\n",
    "ocean=data[data['지역/해역']=='해역']\n",
    "\n",
    "l=land['season'].value_counts(sort=False)\n",
    "o=ocean['season'].value_counts(sort=False)\n",
    "\n",
    "l=l.reindex(index=['spring','summer','fall','winter'])\n",
    "o=o.reindex(index=['spring','summer','fall','winter'])"
   ]
  },
  {
   "cell_type": "code",
   "execution_count": 12,
   "metadata": {
    "scrolled": true
   },
   "outputs": [
    {
     "data": {
      "image/png": "[encoded data removed]",
      "text/plain": [
       "<Figure size 432x288 with 1 Axes>"
      ]
     },
     "metadata": {
      "needs_background": "light"
     },
     "output_type": "display_data"
    }
   ],
   "source": [
    "p1=plt.plot(l)\n",
    "p2=plt.plot(o)"
   ]
  },
  {
   "cell_type": "markdown",
   "metadata": {},
   "source": [
    "# 연도별 평균 강수량 비교"
   ]
  },
  {
   "cell_type": "code",
   "execution_count": 13,
   "metadata": {},
   "outputs": [],
   "source": [
    "year2=[]\n",
    "for i in range(len(rain.날짜)):\n",
    "    year2.append(rain.날짜[i][2:4])\n",
    "rain['year']=year2\n",
    "\n",
    "month2=[]\n",
    "for i in range(len(rain.날짜)):\n",
    "    month2.append(int(rain.날짜[i][5:7]))\n",
    "rain['month']=month2\n",
    "\n",
    "rain['season']=['winter' if s >=10 else ('fall' if s>=7 else ('summer' if s>=4 else 'spring'))for s in rain['month']]"
   ]
  },
  {
   "cell_type": "code",
   "execution_count": 14,
   "metadata": {
    "scrolled": false
   },
   "outputs": [
    {
     "data": {
      "text/html": [
       "<div>\n",
       "<style scoped>\n",
       "    .dataframe tbody tr th:only-of-type {\n",
       "        vertical-align: middle;\n",
       "    }\n",
       "\n",
       "    .dataframe tbody tr th {\n",
       "        vertical-align: top;\n",
       "    }\n",
       "\n",
       "    .dataframe thead th {\n",
       "        text-align: right;\n",
       "    }\n",
       "</style>\n",
       "<table border=\"1\" class=\"dataframe\">\n",
       "  <thead>\n",
       "    <tr style=\"text-align: right;\">\n",
       "      <th></th>\n",
       "      <th>날짜</th>\n",
       "      <th>강수량(mm)</th>\n",
       "      <th>year</th>\n",
       "      <th>month</th>\n",
       "      <th>season</th>\n",
       "    </tr>\n",
       "  </thead>\n",
       "  <tbody>\n",
       "    <tr>\n",
       "      <th>0</th>\n",
       "      <td>2000-01-01</td>\n",
       "      <td>1.7</td>\n",
       "      <td>00</td>\n",
       "      <td>1</td>\n",
       "      <td>spring</td>\n",
       "    </tr>\n",
       "    <tr>\n",
       "      <th>1</th>\n",
       "      <td>2000-01-02</td>\n",
       "      <td>2.5</td>\n",
       "      <td>00</td>\n",
       "      <td>1</td>\n",
       "      <td>spring</td>\n",
       "    </tr>\n",
       "    <tr>\n",
       "      <th>2</th>\n",
       "      <td>2000-01-03</td>\n",
       "      <td>0.0</td>\n",
       "      <td>00</td>\n",
       "      <td>1</td>\n",
       "      <td>spring</td>\n",
       "    </tr>\n",
       "    <tr>\n",
       "      <th>3</th>\n",
       "      <td>2000-01-04</td>\n",
       "      <td>0.0</td>\n",
       "      <td>00</td>\n",
       "      <td>1</td>\n",
       "      <td>spring</td>\n",
       "    </tr>\n",
       "    <tr>\n",
       "      <th>4</th>\n",
       "      <td>2000-01-05</td>\n",
       "      <td>9.1</td>\n",
       "      <td>00</td>\n",
       "      <td>1</td>\n",
       "      <td>spring</td>\n",
       "    </tr>\n",
       "    <tr>\n",
       "      <th>...</th>\n",
       "      <td>...</td>\n",
       "      <td>...</td>\n",
       "      <td>...</td>\n",
       "      <td>...</td>\n",
       "      <td>...</td>\n",
       "    </tr>\n",
       "    <tr>\n",
       "      <th>7666</th>\n",
       "      <td>2020-12-27</td>\n",
       "      <td>2.2</td>\n",
       "      <td>20</td>\n",
       "      <td>12</td>\n",
       "      <td>winter</td>\n",
       "    </tr>\n",
       "    <tr>\n",
       "      <th>7667</th>\n",
       "      <td>2020-12-28</td>\n",
       "      <td>0.1</td>\n",
       "      <td>20</td>\n",
       "      <td>12</td>\n",
       "      <td>winter</td>\n",
       "    </tr>\n",
       "    <tr>\n",
       "      <th>7668</th>\n",
       "      <td>2020-12-29</td>\n",
       "      <td>1.8</td>\n",
       "      <td>20</td>\n",
       "      <td>12</td>\n",
       "      <td>winter</td>\n",
       "    </tr>\n",
       "    <tr>\n",
       "      <th>7669</th>\n",
       "      <td>2020-12-30</td>\n",
       "      <td>1.2</td>\n",
       "      <td>20</td>\n",
       "      <td>12</td>\n",
       "      <td>winter</td>\n",
       "    </tr>\n",
       "    <tr>\n",
       "      <th>7670</th>\n",
       "      <td>2020-12-31</td>\n",
       "      <td>0.2</td>\n",
       "      <td>20</td>\n",
       "      <td>12</td>\n",
       "      <td>winter</td>\n",
       "    </tr>\n",
       "  </tbody>\n",
       "</table>\n",
       "<p>7671 rows × 5 columns</p>\n",
       "</div>"
      ],
      "text/plain": [
       "              날짜  강수량(mm) year  month  season\n",
       "0     2000-01-01      1.7   00      1  spring\n",
       "1     2000-01-02      2.5   00      1  spring\n",
       "2     2000-01-03      0.0   00      1  spring\n",
       "3     2000-01-04      0.0   00      1  spring\n",
       "4     2000-01-05      9.1   00      1  spring\n",
       "...          ...      ...  ...    ...     ...\n",
       "7666  2020-12-27      2.2   20     12  winter\n",
       "7667  2020-12-28      0.1   20     12  winter\n",
       "7668  2020-12-29      1.8   20     12  winter\n",
       "7669  2020-12-30      1.2   20     12  winter\n",
       "7670  2020-12-31      0.2   20     12  winter\n",
       "\n",
       "[7671 rows x 5 columns]"
      ]
     },
     "execution_count": 14,
     "metadata": {},
     "output_type": "execute_result"
    }
   ],
   "source": [
    "rain"
   ]
  },
  {
   "cell_type": "code",
   "execution_count": 15,
   "metadata": {
    "scrolled": false
   },
   "outputs": [
    {
     "data": {
      "text/plain": [
       "<matplotlib.axes._subplots.AxesSubplot at 0x13277f8e908>"
      ]
     },
     "execution_count": 15,
     "metadata": {},
     "output_type": "execute_result"
    },
    {
     "data": {
      "image/png": "[encoded data removed]",
      "text/plain": [
       "<Figure size 432x288 with 1 Axes>"
      ]
     },
     "metadata": {
      "needs_background": "light"
     },
     "output_type": "display_data"
    }
   ],
   "source": [
    "rain.groupby('year')['강수량(mm)'].mean().plot(kind='bar')"
   ]
  },
  {
   "cell_type": "markdown",
   "metadata": {},
   "source": [
    "# 강수량과 지진발생 빈도의 관계"
   ]
  },
  {
   "cell_type": "code",
   "execution_count": 16,
   "metadata": {},
   "outputs": [
    {
     "name": "stderr",
     "output_type": "stream",
     "text": [
      "C:\\ProgramData\\anaconda3\\lib\\site-packages\\matplotlib\\backends\\backend_agg.py:211: RuntimeWarning: Glyph 44053 missing from current font.\n",
      "  font.set_text(s, 0.0, flags=flags)\n",
      "C:\\ProgramData\\anaconda3\\lib\\site-packages\\matplotlib\\backends\\backend_agg.py:211: RuntimeWarning: Glyph 49688 missing from current font.\n",
      "  font.set_text(s, 0.0, flags=flags)\n",
      "C:\\ProgramData\\anaconda3\\lib\\site-packages\\matplotlib\\backends\\backend_agg.py:211: RuntimeWarning: Glyph 47049 missing from current font.\n",
      "  font.set_text(s, 0.0, flags=flags)\n"
     ]
    },
    {
     "data": {
      "text/plain": [
       "<seaborn.axisgrid.PairGrid at 0x13277ec2648>"
      ]
     },
     "execution_count": 16,
     "metadata": {},
     "output_type": "execute_result"
    },
    {
     "name": "stderr",
     "output_type": "stream",
     "text": [
      "C:\\ProgramData\\anaconda3\\lib\\site-packages\\matplotlib\\backends\\backend_agg.py:180: RuntimeWarning: Glyph 44053 missing from current font.\n",
      "  font.set_text(s, 0, flags=flags)\n",
      "C:\\ProgramData\\anaconda3\\lib\\site-packages\\matplotlib\\backends\\backend_agg.py:180: RuntimeWarning: Glyph 49688 missing from current font.\n",
      "  font.set_text(s, 0, flags=flags)\n",
      "C:\\ProgramData\\anaconda3\\lib\\site-packages\\matplotlib\\backends\\backend_agg.py:180: RuntimeWarning: Glyph 47049 missing from current font.\n",
      "  font.set_text(s, 0, flags=flags)\n"
     ]
    },
    {
     "data": {
      "image/png": "[encoded data removed]",
      "text/plain": [
       "<Figure size 360x360 with 6 Axes>"
      ]
     },
     "metadata": {
      "needs_background": "light"
     },
     "output_type": "display_data"
    }
   ],
   "source": [
    "p=DataFrame(rain.groupby('year')['강수량(mm)'].mean())\n",
    "p['frequency']=F\n",
    "sns.pairplot(p)"
   ]
  },
  {
   "cell_type": "code",
   "execution_count": 17,
   "metadata": {
    "scrolled": true
   },
   "outputs": [
    {
     "data": {
      "text/html": [
       "<div>\n",
       "<style scoped>\n",
       "    .dataframe tbody tr th:only-of-type {\n",
       "        vertical-align: middle;\n",
       "    }\n",
       "\n",
       "    .dataframe tbody tr th {\n",
       "        vertical-align: top;\n",
       "    }\n",
       "\n",
       "    .dataframe thead th {\n",
       "        text-align: right;\n",
       "    }\n",
       "</style>\n",
       "<table border=\"1\" class=\"dataframe\">\n",
       "  <thead>\n",
       "    <tr style=\"text-align: right;\">\n",
       "      <th></th>\n",
       "      <th>강수량(mm)</th>\n",
       "      <th>frequency</th>\n",
       "    </tr>\n",
       "  </thead>\n",
       "  <tbody>\n",
       "    <tr>\n",
       "      <th>강수량(mm)</th>\n",
       "      <td>1.000000</td>\n",
       "      <td>-0.182055</td>\n",
       "    </tr>\n",
       "    <tr>\n",
       "      <th>frequency</th>\n",
       "      <td>-0.182055</td>\n",
       "      <td>1.000000</td>\n",
       "    </tr>\n",
       "  </tbody>\n",
       "</table>\n",
       "</div>"
      ],
      "text/plain": [
       "            강수량(mm)  frequency\n",
       "강수량(mm)    1.000000  -0.182055\n",
       "frequency -0.182055   1.000000"
      ]
     },
     "execution_count": 17,
     "metadata": {},
     "output_type": "execute_result"
    }
   ],
   "source": [
    "p.corr(method='spearman')"
   ]
  },
  {
   "cell_type": "markdown",
   "metadata": {},
   "source": [
    "# 연속적으로 발생한 지진과 강수량의 관계"
   ]
  },
  {
   "cell_type": "code",
   "execution_count": 28,
   "metadata": {},
   "outputs": [
    {
     "data": {
      "text/html": [
       "<div>\n",
       "<style scoped>\n",
       "    .dataframe tbody tr th:only-of-type {\n",
       "        vertical-align: middle;\n",
       "    }\n",
       "\n",
       "    .dataframe tbody tr th {\n",
       "        vertical-align: top;\n",
       "    }\n",
       "\n",
       "    .dataframe thead th {\n",
       "        text-align: right;\n",
       "    }\n",
       "</style>\n",
       "<table border=\"1\" class=\"dataframe\">\n",
       "  <thead>\n",
       "    <tr style=\"text-align: right;\">\n",
       "      <th></th>\n",
       "      <th></th>\n",
       "      <th>강수량(mm)</th>\n",
       "      <th>continue</th>\n",
       "    </tr>\n",
       "    <tr>\n",
       "      <th>year</th>\n",
       "      <th>month</th>\n",
       "      <th></th>\n",
       "      <th></th>\n",
       "    </tr>\n",
       "  </thead>\n",
       "  <tbody>\n",
       "    <tr>\n",
       "      <th>06</th>\n",
       "      <th>4</th>\n",
       "      <td>5.457143</td>\n",
       "      <td>11.0</td>\n",
       "    </tr>\n",
       "    <tr>\n",
       "      <th>11</th>\n",
       "      <th>6</th>\n",
       "      <td>8.740625</td>\n",
       "      <td>10.0</td>\n",
       "    </tr>\n",
       "    <tr>\n",
       "      <th rowspan=\"4\" valign=\"top\">13</th>\n",
       "      <th>5</th>\n",
       "      <td>4.056757</td>\n",
       "      <td>12.0</td>\n",
       "    </tr>\n",
       "    <tr>\n",
       "      <th>6</th>\n",
       "      <td>3.441667</td>\n",
       "      <td>19.0</td>\n",
       "    </tr>\n",
       "    <tr>\n",
       "      <th>7</th>\n",
       "      <td>10.067647</td>\n",
       "      <td>12.0</td>\n",
       "    </tr>\n",
       "    <tr>\n",
       "      <th>8</th>\n",
       "      <td>4.932353</td>\n",
       "      <td>11.0</td>\n",
       "    </tr>\n",
       "    <tr>\n",
       "      <th rowspan=\"4\" valign=\"top\">16</th>\n",
       "      <th>9</th>\n",
       "      <td>5.285849</td>\n",
       "      <td>91.0</td>\n",
       "    </tr>\n",
       "    <tr>\n",
       "      <th>10</th>\n",
       "      <td>4.738235</td>\n",
       "      <td>18.0</td>\n",
       "    </tr>\n",
       "    <tr>\n",
       "      <th>11</th>\n",
       "      <td>1.032432</td>\n",
       "      <td>21.0</td>\n",
       "    </tr>\n",
       "    <tr>\n",
       "      <th>12</th>\n",
       "      <td>1.783784</td>\n",
       "      <td>21.0</td>\n",
       "    </tr>\n",
       "    <tr>\n",
       "      <th rowspan=\"9\" valign=\"top\">17</th>\n",
       "      <th>1</th>\n",
       "      <td>0.466667</td>\n",
       "      <td>14.0</td>\n",
       "    </tr>\n",
       "    <tr>\n",
       "      <th>2</th>\n",
       "      <td>0.964706</td>\n",
       "      <td>16.0</td>\n",
       "    </tr>\n",
       "    <tr>\n",
       "      <th>3</th>\n",
       "      <td>0.708108</td>\n",
       "      <td>18.0</td>\n",
       "    </tr>\n",
       "    <tr>\n",
       "      <th>4</th>\n",
       "      <td>1.908333</td>\n",
       "      <td>17.0</td>\n",
       "    </tr>\n",
       "    <tr>\n",
       "      <th>5</th>\n",
       "      <td>0.958333</td>\n",
       "      <td>13.0</td>\n",
       "    </tr>\n",
       "    <tr>\n",
       "      <th>6</th>\n",
       "      <td>1.990323</td>\n",
       "      <td>10.0</td>\n",
       "    </tr>\n",
       "    <tr>\n",
       "      <th>10</th>\n",
       "      <td>1.982353</td>\n",
       "      <td>12.0</td>\n",
       "    </tr>\n",
       "    <tr>\n",
       "      <th>11</th>\n",
       "      <td>0.282353</td>\n",
       "      <td>53.0</td>\n",
       "    </tr>\n",
       "    <tr>\n",
       "      <th>12</th>\n",
       "      <td>0.584211</td>\n",
       "      <td>23.0</td>\n",
       "    </tr>\n",
       "    <tr>\n",
       "      <th rowspan=\"2\" valign=\"top\">18</th>\n",
       "      <th>2</th>\n",
       "      <td>0.878049</td>\n",
       "      <td>27.0</td>\n",
       "    </tr>\n",
       "    <tr>\n",
       "      <th>11</th>\n",
       "      <td>1.524242</td>\n",
       "      <td>11.0</td>\n",
       "    </tr>\n",
       "    <tr>\n",
       "      <th>19</th>\n",
       "      <th>6</th>\n",
       "      <td>4.754286</td>\n",
       "      <td>11.0</td>\n",
       "    </tr>\n",
       "  </tbody>\n",
       "</table>\n",
       "</div>"
      ],
      "text/plain": [
       "              강수량(mm)  continue\n",
       "year month                     \n",
       "06   4       5.457143      11.0\n",
       "11   6       8.740625      10.0\n",
       "13   5       4.056757      12.0\n",
       "     6       3.441667      19.0\n",
       "     7      10.067647      12.0\n",
       "     8       4.932353      11.0\n",
       "16   9       5.285849      91.0\n",
       "     10      4.738235      18.0\n",
       "     11      1.032432      21.0\n",
       "     12      1.783784      21.0\n",
       "17   1       0.466667      14.0\n",
       "     2       0.964706      16.0\n",
       "     3       0.708108      18.0\n",
       "     4       1.908333      17.0\n",
       "     5       0.958333      13.0\n",
       "     6       1.990323      10.0\n",
       "     10      1.982353      12.0\n",
       "     11      0.282353      53.0\n",
       "     12      0.584211      23.0\n",
       "18   2       0.878049      27.0\n",
       "     11      1.524242      11.0\n",
       "19   6       4.754286      11.0"
      ]
     },
     "execution_count": 28,
     "metadata": {},
     "output_type": "execute_result"
    }
   ],
   "source": [
    "rm=DataFrame(data2.groupby(['year','month'])['강수량(mm)'].mean())\n",
    "h=DataFrame(data.groupby('year')['month'].value_counts(sort=False))\n",
    "rm['continue']=h[h['month']>=10]\n",
    "rm.dropna(axis=0)"
   ]
  },
  {
   "cell_type": "code",
   "execution_count": 40,
   "metadata": {
    "scrolled": true
   },
   "outputs": [
    {
     "name": "stderr",
     "output_type": "stream",
     "text": [
      "C:\\ProgramData\\anaconda3\\lib\\site-packages\\matplotlib\\backends\\backend_agg.py:211: RuntimeWarning: Glyph 44053 missing from current font.\n",
      "  font.set_text(s, 0.0, flags=flags)\n",
      "C:\\ProgramData\\anaconda3\\lib\\site-packages\\matplotlib\\backends\\backend_agg.py:211: RuntimeWarning: Glyph 49688 missing from current font.\n",
      "  font.set_text(s, 0.0, flags=flags)\n",
      "C:\\ProgramData\\anaconda3\\lib\\site-packages\\matplotlib\\backends\\backend_agg.py:211: RuntimeWarning: Glyph 47049 missing from current font.\n",
      "  font.set_text(s, 0.0, flags=flags)\n"
     ]
    },
    {
     "data": {
      "text/plain": [
       "<seaborn.axisgrid.PairGrid at 0x132789d90c8>"
      ]
     },
     "execution_count": 40,
     "metadata": {},
     "output_type": "execute_result"
    },
    {
     "name": "stderr",
     "output_type": "stream",
     "text": [
      "C:\\ProgramData\\anaconda3\\lib\\site-packages\\matplotlib\\backends\\backend_agg.py:180: RuntimeWarning: Glyph 44053 missing from current font.\n",
      "  font.set_text(s, 0, flags=flags)\n",
      "C:\\ProgramData\\anaconda3\\lib\\site-packages\\matplotlib\\backends\\backend_agg.py:180: RuntimeWarning: Glyph 49688 missing from current font.\n",
      "  font.set_text(s, 0, flags=flags)\n",
      "C:\\ProgramData\\anaconda3\\lib\\site-packages\\matplotlib\\backends\\backend_agg.py:180: RuntimeWarning: Glyph 47049 missing from current font.\n",
      "  font.set_text(s, 0, flags=flags)\n"
     ]
    },
    {
     "data": {
      "image/png": "[encoded data removed]",
      "text/plain": [
       "<Figure size 360x360 with 6 Axes>"
      ]
     },
     "metadata": {
      "needs_background": "light"
     },
     "output_type": "display_data"
    }
   ],
   "source": [
    "sns.pairplot(rm)"
   ]
  },
  {
   "cell_type": "markdown",
   "metadata": {},
   "source": [
    "# 결론\n",
    "> 1. 계절별로 주기성은 있다. 해역에서는 여름에 지진이 자주 발생하고, 지역에서는 가을과 겨울에 지진이 자주 발생하는 경향이 있다. \n",
    "\n",
    "> 2. 강수량과 지진빈도에는 상관관계가 없는 것 같다. "
   ]
  },
  {
   "cell_type": "code",
   "execution_count": null,
   "metadata": {},
   "outputs": [],
   "source": []
  }
 ],
 "metadata": {
  "kernelspec": {
   "display_name": "Python 3",
   "language": "python",
   "name": "python3"
  },
  "language_info": {
   "codemirror_mode": {
    "name": "ipython",
    "version": 3
   },
   "file_extension": ".py",
   "mimetype": "text/x-python",
   "name": "python",
   "nbconvert_exporter": "python",
   "pygments_lexer": "ipython3",
   "version": "3.7.6"
  }
 },
 "nbformat": 4,
 "nbformat_minor": 4
}
