{
 "cells": [
  {
   "cell_type": "markdown",
   "metadata": {},
   "source": [
    "# 경구피임약의 부작용으로 알려진 질환여성암은 정말 경구피임약과 유의미한 관계를 가질까?"
   ]
  },
  {
   "cell_type": "markdown",
   "metadata": {},
   "source": [
    "# 수정\n",
    "T-test 검정을 crosstab으로 바꾸어 유의미한지 알아보았다\n",
    "\n",
    " 한눈에 비교하기 쉽게 하나의 figure에 경구피임약 복용한 경우, 복용하지 않은 경우 모두 나타내었다\n",
    " \n",
    " 결론을 추가했다\n"
   ]
  },
  {
   "cell_type": "code",
   "execution_count": 1,
   "metadata": {
    "scrolled": false
   },
   "outputs": [
    {
     "name": "stderr",
     "output_type": "stream",
     "text": [
      "C:\\Users\\seong\\anaconda3\\lib\\site-packages\\IPython\\core\\interactiveshell.py:3071: DtypeWarning: Columns (107,380,399,505,514,517,530,541) have mixed types.Specify dtype option on import or set low_memory=False.\n",
      "  has_raised = await self.run_ast_nodes(code_ast.body, cell_name,\n",
      "C:\\Users\\seong\\anaconda3\\lib\\site-packages\\IPython\\core\\interactiveshell.py:3071: DtypeWarning: Columns (146,436,555,570,572,587) have mixed types.Specify dtype option on import or set low_memory=False.\n",
      "  has_raised = await self.run_ast_nodes(code_ast.body, cell_name,\n",
      "C:\\Users\\seong\\anaconda3\\lib\\site-packages\\IPython\\core\\interactiveshell.py:3071: DtypeWarning: Columns (119,158,507,639,659) have mixed types.Specify dtype option on import or set low_memory=False.\n",
      "  has_raised = await self.run_ast_nodes(code_ast.body, cell_name,\n",
      "C:\\Users\\seong\\anaconda3\\lib\\site-packages\\IPython\\core\\interactiveshell.py:3071: DtypeWarning: Columns (455,461,586,643,678) have mixed types.Specify dtype option on import or set low_memory=False.\n",
      "  has_raised = await self.run_ast_nodes(code_ast.body, cell_name,\n",
      "C:\\Users\\seong\\anaconda3\\lib\\site-packages\\IPython\\core\\interactiveshell.py:3071: DtypeWarning: Columns (372,383,385,393,398,599,636) have mixed types.Specify dtype option on import or set low_memory=False.\n",
      "  has_raised = await self.run_ast_nodes(code_ast.body, cell_name,\n",
      "C:\\Users\\seong\\anaconda3\\lib\\site-packages\\IPython\\core\\interactiveshell.py:3071: DtypeWarning: Columns (147,594,596) have mixed types.Specify dtype option on import or set low_memory=False.\n",
      "  has_raised = await self.run_ast_nodes(code_ast.body, cell_name,\n",
      "C:\\Users\\seong\\anaconda3\\lib\\site-packages\\IPython\\core\\interactiveshell.py:3071: DtypeWarning: Columns (604,607,608) have mixed types.Specify dtype option on import or set low_memory=False.\n",
      "  has_raised = await self.run_ast_nodes(code_ast.body, cell_name,\n",
      "C:\\Users\\seong\\anaconda3\\lib\\site-packages\\IPython\\core\\interactiveshell.py:3071: DtypeWarning: Columns (123,329,350,410,443,447,633) have mixed types.Specify dtype option on import or set low_memory=False.\n",
      "  has_raised = await self.run_ast_nodes(code_ast.body, cell_name,\n",
      "C:\\Users\\seong\\anaconda3\\lib\\site-packages\\IPython\\core\\interactiveshell.py:3071: DtypeWarning: Columns (113,146,157,343,364,424,457,461) have mixed types.Specify dtype option on import or set low_memory=False.\n",
      "  has_raised = await self.run_ast_nodes(code_ast.body, cell_name,\n",
      "C:\\Users\\seong\\anaconda3\\lib\\site-packages\\IPython\\core\\interactiveshell.py:3071: DtypeWarning: Columns (203,209,347,368,428,458,463,656) have mixed types.Specify dtype option on import or set low_memory=False.\n",
      "  has_raised = await self.run_ast_nodes(code_ast.body, cell_name,\n",
      "<ipython-input-1-bebe051f0ac7>:33: SettingWithCopyWarning: \n",
      "A value is trying to be set on a copy of a slice from a DataFrame.\n",
      "Try using .loc[row_indexer,col_indexer] = value instead\n",
      "\n",
      "See the caveats in the documentation: https://pandas.pydata.org/pandas-docs/stable/user_guide/indexing.html#returning-a-view-versus-a-copy\n",
      "  d_F['age_c'] = np.select(age_c, age_list, default = 'NaN')\n"
     ]
    }
   ],
   "source": [
    "import numpy as np\n",
    "import numpy.random as random\n",
    "import scipy as sp\n",
    "import scipy.stats as stats\n",
    "import pandas as pd\n",
    "from pandas import Series, DataFrame\n",
    "\n",
    "# 시각화 라이브러리\n",
    "import matplotlib.pyplot as plt\n",
    "import matplotlib as mpl\n",
    "import seaborn as sns\n",
    "%matplotlib inline\n",
    "\n",
    "# 소수점 3자리까지 표시\n",
    "%precision 3\n",
    "d19 = pd.read_csv('hn19_all.csv')\n",
    "d18 = pd.read_csv('hn18_all.csv')\n",
    "d17 = pd.read_csv('hn17_all.csv')\n",
    "d16 = pd.read_csv('hn16_all.csv')\n",
    "d15 = pd.read_csv('hn15_all.csv')\n",
    "d14 = pd.read_csv('hn14_all.csv')\n",
    "d13 = pd.read_csv('hn13_all.csv')\n",
    "d12 = pd.read_csv('hn12_all.csv')\n",
    "d11 = pd.read_csv('hn11_all.csv')\n",
    "d10 = pd.read_csv('hn10_all.csv')\n",
    "\n",
    "data = pd.concat([d19, d18,d17,d16,d15,d14,d13,d12,d11,d10])\n",
    "d_F = data[data['sex']==2]\n",
    "age_c = [(d_F.age >=60), \n",
    "        (d_F.age < 60) & (d_F.age >= 40), \n",
    "        (d_F.age < 40) &(d_F.age>=20) ]\n",
    "age_list = [ '노년', '중년', '청년']\n",
    "d_F['age_c'] = np.select(age_c, age_list, default = 'NaN')\n"
   ]
  },
  {
   "cell_type": "code",
   "execution_count": 2,
   "metadata": {
    "scrolled": false
   },
   "outputs": [],
   "source": [
    "D_F_G = d_F[['ID','sex','age','DC5_lt','DC4_lt','LW_pr','LW_oc','age_c']]\n",
    "\n",
    "#여성질환 관련 데이터프래임 \n",
    "\n",
    "drop_index_0 = D_F_G[D_F_G['age_c']=='NaN'].index\n",
    "D_F_G_1 = D_F_G.drop(drop_index_0).dropna()\n",
    "\n",
    "\n",
    "#데이터값 중에 모름에 해당하는 값, 9.0이 존재하는지 확인\n",
    "D_F_G_SEE_1 = D_F_G_1['DC5_lt']== 9.0\n",
    "D_F_G_SEE_1.sum()\n",
    "\n",
    "#데이터값 중 모름에 해당하는 값 삭제\n",
    "drop_index_2 = D_F_G_1[D_F_G_1['DC5_lt'] == 9.0 ].index\n",
    "D_F_G_2 = D_F_G_1.drop(drop_index_2)\n",
    "D_F_G_2\n",
    "#데이터값 중 모름에 해당하는 값이 존재하는지 확인\n",
    "D_F_G_SEE_2 = D_F_G_2['DC4_lt']== 9.0\n",
    "D_F_G_SEE_2.sum()\n",
    "\n",
    "#데이터값 중 모름에 해당하는 값 삭제\n",
    "drop_index_3 = D_F_G_2[D_F_G_2['LW_pr'] == 9.0 ].index\n",
    "D_F_G_3 = D_F_G_2.drop(drop_index_3)\n",
    "D_F_G_3\n",
    "drop_index_4 = D_F_G_3[D_F_G_3['LW_oc'] == 9.0 ].index\n",
    "D_F_G_final = D_F_G_3.drop(drop_index_4)\n",
    "D_F_G_final\n",
    "\n",
    "D_F_G_final_Y = D_F_G_final[D_F_G_final['age_c'] =='청년']\n",
    "D_F_G_final_M = D_F_G_final[D_F_G_final['age_c'] =='중년']\n",
    "D_F_G_final_O = D_F_G_final[D_F_G_final['age_c'] =='노년']"
   ]
  },
  {
   "cell_type": "code",
   "execution_count": 3,
   "metadata": {
    "scrolled": true
   },
   "outputs": [
    {
     "data": {
      "text/html": [
       "<div>\n",
       "<style scoped>\n",
       "    .dataframe tbody tr th:only-of-type {\n",
       "        vertical-align: middle;\n",
       "    }\n",
       "\n",
       "    .dataframe tbody tr th {\n",
       "        vertical-align: top;\n",
       "    }\n",
       "\n",
       "    .dataframe thead th {\n",
       "        text-align: right;\n",
       "    }\n",
       "</style>\n",
       "<table border=\"1\" class=\"dataframe\">\n",
       "  <thead>\n",
       "    <tr style=\"text-align: right;\">\n",
       "      <th></th>\n",
       "      <th>ID</th>\n",
       "      <th>sex</th>\n",
       "      <th>age</th>\n",
       "      <th>DC5_lt</th>\n",
       "      <th>DC4_lt</th>\n",
       "      <th>LW_pr</th>\n",
       "      <th>LW_oc</th>\n",
       "      <th>age_c</th>\n",
       "    </tr>\n",
       "  </thead>\n",
       "  <tbody>\n",
       "    <tr>\n",
       "      <th>50</th>\n",
       "      <td>A108977505</td>\n",
       "      <td>2</td>\n",
       "      <td>66</td>\n",
       "      <td>0.0</td>\n",
       "      <td>0.0</td>\n",
       "      <td>1.0</td>\n",
       "      <td>1.0</td>\n",
       "      <td>노년</td>\n",
       "    </tr>\n",
       "    <tr>\n",
       "      <th>156</th>\n",
       "      <td>A110979902</td>\n",
       "      <td>2</td>\n",
       "      <td>42</td>\n",
       "      <td>0.0</td>\n",
       "      <td>0.0</td>\n",
       "      <td>1.0</td>\n",
       "      <td>1.0</td>\n",
       "      <td>중년</td>\n",
       "    </tr>\n",
       "    <tr>\n",
       "      <th>173</th>\n",
       "      <td>A111974902</td>\n",
       "      <td>2</td>\n",
       "      <td>62</td>\n",
       "      <td>0.0</td>\n",
       "      <td>0.0</td>\n",
       "      <td>1.0</td>\n",
       "      <td>1.0</td>\n",
       "      <td>노년</td>\n",
       "    </tr>\n",
       "    <tr>\n",
       "      <th>198</th>\n",
       "      <td>A111979702</td>\n",
       "      <td>2</td>\n",
       "      <td>60</td>\n",
       "      <td>0.0</td>\n",
       "      <td>0.0</td>\n",
       "      <td>1.0</td>\n",
       "      <td>1.0</td>\n",
       "      <td>노년</td>\n",
       "    </tr>\n",
       "    <tr>\n",
       "      <th>298</th>\n",
       "      <td>A114971702</td>\n",
       "      <td>2</td>\n",
       "      <td>63</td>\n",
       "      <td>0.0</td>\n",
       "      <td>0.0</td>\n",
       "      <td>1.0</td>\n",
       "      <td>1.0</td>\n",
       "      <td>노년</td>\n",
       "    </tr>\n",
       "    <tr>\n",
       "      <th>...</th>\n",
       "      <td>...</td>\n",
       "      <td>...</td>\n",
       "      <td>...</td>\n",
       "      <td>...</td>\n",
       "      <td>...</td>\n",
       "      <td>...</td>\n",
       "      <td>...</td>\n",
       "      <td>...</td>\n",
       "    </tr>\n",
       "    <tr>\n",
       "      <th>8882</th>\n",
       "      <td>P310800902</td>\n",
       "      <td>2</td>\n",
       "      <td>65</td>\n",
       "      <td>0.0</td>\n",
       "      <td>0.0</td>\n",
       "      <td>1.0</td>\n",
       "      <td>1.0</td>\n",
       "      <td>노년</td>\n",
       "    </tr>\n",
       "    <tr>\n",
       "      <th>8894</th>\n",
       "      <td>P311219802</td>\n",
       "      <td>2</td>\n",
       "      <td>54</td>\n",
       "      <td>0.0</td>\n",
       "      <td>0.0</td>\n",
       "      <td>1.0</td>\n",
       "      <td>1.0</td>\n",
       "      <td>중년</td>\n",
       "    </tr>\n",
       "    <tr>\n",
       "      <th>8898</th>\n",
       "      <td>P311259601</td>\n",
       "      <td>2</td>\n",
       "      <td>67</td>\n",
       "      <td>0.0</td>\n",
       "      <td>0.0</td>\n",
       "      <td>1.0</td>\n",
       "      <td>1.0</td>\n",
       "      <td>노년</td>\n",
       "    </tr>\n",
       "    <tr>\n",
       "      <th>8919</th>\n",
       "      <td>P311579804</td>\n",
       "      <td>2</td>\n",
       "      <td>71</td>\n",
       "      <td>1.0</td>\n",
       "      <td>0.0</td>\n",
       "      <td>1.0</td>\n",
       "      <td>1.0</td>\n",
       "      <td>노년</td>\n",
       "    </tr>\n",
       "    <tr>\n",
       "      <th>8932</th>\n",
       "      <td>P311800501</td>\n",
       "      <td>2</td>\n",
       "      <td>31</td>\n",
       "      <td>0.0</td>\n",
       "      <td>0.0</td>\n",
       "      <td>1.0</td>\n",
       "      <td>1.0</td>\n",
       "      <td>청년</td>\n",
       "    </tr>\n",
       "  </tbody>\n",
       "</table>\n",
       "<p>666 rows × 8 columns</p>\n",
       "</div>"
      ],
      "text/plain": [
       "              ID  sex  age  DC5_lt  DC4_lt  LW_pr  LW_oc age_c\n",
       "50    A108977505    2   66     0.0     0.0    1.0    1.0    노년\n",
       "156   A110979902    2   42     0.0     0.0    1.0    1.0    중년\n",
       "173   A111974902    2   62     0.0     0.0    1.0    1.0    노년\n",
       "198   A111979702    2   60     0.0     0.0    1.0    1.0    노년\n",
       "298   A114971702    2   63     0.0     0.0    1.0    1.0    노년\n",
       "...          ...  ...  ...     ...     ...    ...    ...   ...\n",
       "8882  P310800902    2   65     0.0     0.0    1.0    1.0    노년\n",
       "8894  P311219802    2   54     0.0     0.0    1.0    1.0    중년\n",
       "8898  P311259601    2   67     0.0     0.0    1.0    1.0    노년\n",
       "8919  P311579804    2   71     1.0     0.0    1.0    1.0    노년\n",
       "8932  P311800501    2   31     0.0     0.0    1.0    1.0    청년\n",
       "\n",
       "[666 rows x 8 columns]"
      ]
     },
     "execution_count": 3,
     "metadata": {},
     "output_type": "execute_result"
    }
   ],
   "source": [
    "#경구피임약을 섭취한 집단\n",
    "OC_Y = D_F_G_final[D_F_G_final['LW_oc'] == 1.0]\n",
    "\n",
    "#집단을 세대별로 나누기\n",
    "OC_Y_young =OC_Y[OC_Y['age_c'] =='청년']\n",
    "OC_Y_middle = OC_Y[OC_Y['age_c']=='중년']\n",
    "OC_Y_old = OC_Y[OC_Y['age_c']=='노년']\n",
    "\n",
    "OC_Y"
   ]
  },
  {
   "cell_type": "code",
   "execution_count": 5,
   "metadata": {
    "scrolled": true
   },
   "outputs": [],
   "source": [
    "#경구피임약을 섭취하지 않은 집단\n",
    "OC_N = D_F_G_final[D_F_G_final['LW_oc'] == 2.0]\n",
    "#집단을 세대별로 나누기\n",
    "OC_N_young = OC_N[OC_N['age_c'] =='청년']\n",
    "OC_N_middle = OC_N[OC_N['age_c']=='중년']\n",
    "OC_N_old = OC_N[OC_N['age_c']=='노년']\n"
   ]
  },
  {
   "cell_type": "markdown",
   "metadata": {},
   "source": [
    "# 유방암과 경구피임약의 관계"
   ]
  },
  {
   "cell_type": "code",
   "execution_count": 6,
   "metadata": {},
   "outputs": [
    {
     "data": {
      "image/png": "[encoded data removed]",
      "text/plain": [
       "<Figure size 720x432 with 1 Axes>"
      ]
     },
     "metadata": {
      "needs_background": "light"
     },
     "output_type": "display_data"
    }
   ],
   "source": [
    "#유방암 비율(경구피임약을 섭취하였을때)\n",
    "x = [1,2,3]\n",
    "y = [OC_Y_young['DC4_lt'].mean(),OC_Y_middle['DC4_lt'].mean(),OC_Y_old['DC4_lt'].mean()]\n",
    "\n",
    "# 그래프 크기 지정  \n",
    "plt.figure(figsize = (10, 6))\n",
    "\n",
    "plt.bar(x, y, align='center', width = 0.5)\n",
    "\n",
    "# 막대 그래프의 각 레이블\n",
    "plt.xticks(x, ['young', 'middle','old'])\n",
    "\n",
    "# x와 y 레이블 설정\n",
    "plt.xlabel('age_c')\n",
    "plt.ylabel('ratio')\n",
    "\n",
    "# 그리드 표시\n",
    "plt.grid(True)"
   ]
  },
  {
   "cell_type": "code",
   "execution_count": 7,
   "metadata": {},
   "outputs": [
    {
     "data": {
      "image/png": "[encoded data removed]",
      "text/plain": [
       "<Figure size 720x432 with 1 Axes>"
      ]
     },
     "metadata": {
      "needs_background": "light"
     },
     "output_type": "display_data"
    }
   ],
   "source": [
    "#유방암 비율(경구피임약 섭취하지 않았을때)\n",
    "\n",
    "x = [1,2,3]\n",
    "y = [OC_N_young['DC4_lt'].mean(),OC_N_middle['DC4_lt'].mean(),OC_N_old['DC4_lt'].mean()]\n",
    "\n",
    "plt.figure(figsize = (10, 6))\n",
    "\n",
    "plt.bar(x, y, align='center', width = 0.5)\n",
    "\n",
    "plt.xticks(x, ['young', 'middle','old'])\n",
    "\n",
    "plt.xlabel('age_c')\n",
    "plt.ylabel('ratio')\n",
    "\n",
    "plt.grid(True)"
   ]
  },
  {
   "cell_type": "markdown",
   "metadata": {},
   "source": [
    "# 그래프수정"
   ]
  },
  {
   "cell_type": "code",
   "execution_count": 8,
   "metadata": {},
   "outputs": [
    {
     "data": {
      "image/png": "[encoded data removed]",
      "text/plain": [
       "<Figure size 720x432 with 1 Axes>"
      ]
     },
     "metadata": {
      "needs_background": "light"
     },
     "output_type": "display_data"
    }
   ],
   "source": [
    "# 데이터 생성\n",
    "y1 = np.array([OC_Y_young['DC4_lt'].mean(),OC_Y_middle['DC4_lt'].mean(),OC_Y_old['DC4_lt'].mean()])\n",
    "y2 = np.array([OC_N_young['DC4_lt'].mean(),OC_N_middle['DC4_lt'].mean(),OC_N_old['DC4_lt'].mean()])\n",
    "\n",
    "# X축 데이터\n",
    "x = np.arange(len(y1))\n",
    "#변수세개 똑같은 길이로 나두는거\n",
    "\n",
    "# 그래프 너비\n",
    "w = 0.4\n",
    "\n",
    "# 그래프 크기 지정\n",
    "plt.figure(figsize = (10, 6))\n",
    "\n",
    "# 그래프 출력. y2는 막대의 너비만큼 오른쪽으로 이동시켜 그림\n",
    "plt.bar(x, y1, color = 'blue', width = w, label = 'OC_Y', align = 'center')\n",
    "plt.bar(x + w, y2, color='green', width = w, label = 'OC_N', align = 'center')\n",
    "#X+W는 엑스축으로 W만큼 이동 안하면 겹쳐짐\n",
    "\n",
    "# 최적 위치에 범례 배치\n",
    "plt.legend(loc = 'best')\n",
    "\n",
    "plt.xticks(x + w / 2, ['young', 'middle', 'old'])\n",
    "plt.grid(True)"
   ]
  },
  {
   "cell_type": "code",
   "execution_count": 9,
   "metadata": {},
   "outputs": [
    {
     "data": {
      "image/png": "[encoded data removed]",
      "text/plain": [
       "<Figure size 720x432 with 1 Axes>"
      ]
     },
     "metadata": {
      "needs_background": "light"
     },
     "output_type": "display_data"
    }
   ],
   "source": [
    "#청년 유방암 비율\n",
    "x = [1,2]\n",
    "y = [OC_Y_young['DC4_lt'].mean(),OC_N_young['DC4_lt'].mean()]\n",
    "\n",
    "# 그래프 크기 지정  \n",
    "plt.figure(figsize = (10, 6))\n",
    "\n",
    "plt.bar(x, y, align='center', width = 0.5)\n",
    "\n",
    "# 막대 그래프의 각 레이블\n",
    "plt.xticks(x, ['OC_YES', 'OC_NO'])\n",
    "\n",
    "# x와 y 레이블 설정\n",
    "plt.xlabel('OC')\n",
    "plt.ylabel('ratio')\n",
    "\n",
    "# 그리드 표시\n",
    "plt.grid(True)"
   ]
  },
  {
   "cell_type": "code",
   "execution_count": 10,
   "metadata": {},
   "outputs": [
    {
     "data": {
      "text/plain": [
       "(2.0542148982515958,\n",
       " 0.1517854749214734,\n",
       " 1,\n",
       " array([[1.079e+02, 9.000e-02],\n",
       "        [1.091e+03, 9.100e-01]]))"
      ]
     },
     "execution_count": 10,
     "metadata": {},
     "output_type": "execute_result"
    }
   ],
   "source": [
    "#유의미한지 분석\n",
    "crosstab = pd.crosstab(D_F_G_final_Y.LW_oc, D_F_G_final_Y.DC4_lt)\n",
    "stats.chi2_contingency(crosstab)"
   ]
  },
  {
   "cell_type": "code",
   "execution_count": 11,
   "metadata": {},
   "outputs": [
    {
     "data": {
      "image/png": "[encoded data removed]",
      "text/plain": [
       "<Figure size 720x432 with 1 Axes>"
      ]
     },
     "metadata": {
      "needs_background": "light"
     },
     "output_type": "display_data"
    }
   ],
   "source": [
    "#중년 유방암 비율\n",
    "x = [1,2]\n",
    "y = [OC_Y_middle['DC4_lt'].mean(),OC_N_middle['DC4_lt'].mean()]\n",
    "\n",
    "# 그래프 크기 지정  \n",
    "plt.figure(figsize = (10, 6))\n",
    "\n",
    "plt.bar(x, y, align='center', width = 0.5)\n",
    "\n",
    "# 막대 그래프의 각 레이블\n",
    "plt.xticks(x, ['OC_YES', 'OC_NO'])\n",
    "\n",
    "# x와 y 레이블 설정\n",
    "plt.xlabel('OC')\n",
    "plt.ylabel('ratio')\n",
    "\n",
    "# 그리드 표시\n",
    "plt.grid(True)"
   ]
  },
  {
   "cell_type": "code",
   "execution_count": 12,
   "metadata": {},
   "outputs": [
    {
     "data": {
      "text/plain": [
       "(1.2024198821003185,\n",
       " 0.2728385577375625,\n",
       " 1,\n",
       " array([[ 221.661,    3.339],\n",
       "        [1305.339,   19.661]]))"
      ]
     },
     "execution_count": 12,
     "metadata": {},
     "output_type": "execute_result"
    }
   ],
   "source": [
    "#유의미한지 분석\n",
    "crosstab = pd.crosstab(D_F_G_final_M.LW_oc, D_F_G_final_M.DC4_lt)\n",
    "stats.chi2_contingency(crosstab)"
   ]
  },
  {
   "cell_type": "code",
   "execution_count": 13,
   "metadata": {},
   "outputs": [
    {
     "data": {
      "image/png": "[encoded data removed]",
      "text/plain": [
       "<Figure size 720x432 with 1 Axes>"
      ]
     },
     "metadata": {
      "needs_background": "light"
     },
     "output_type": "display_data"
    }
   ],
   "source": [
    "# 노년 유방암 비율\n",
    "x = [1,2]\n",
    "y = [OC_Y_old['DC4_lt'].mean(),OC_N_old['DC4_lt'].mean()]\n",
    "\n",
    "# 그래프 크기 지정  \n",
    "plt.figure(figsize = (10, 6))\n",
    "\n",
    "plt.bar(x, y, align='center', width = 0.5)\n",
    "\n",
    "# 막대 그래프의 각 레이블\n",
    "plt.xticks(x, ['OC_YES', 'OC_NO'])\n",
    "\n",
    "# x와 y 레이블 설정\n",
    "plt.xlabel('OC')\n",
    "plt.ylabel('ratio')\n",
    "\n",
    "# 그리드 표시\n",
    "plt.grid(True)"
   ]
  },
  {
   "cell_type": "code",
   "execution_count": 14,
   "metadata": {},
   "outputs": [
    {
     "data": {
      "text/plain": [
       "(0.06963299561932686,\n",
       " 0.7918718890537823,\n",
       " 1,\n",
       " array([[ 329.047,    3.953],\n",
       "        [1002.953,   12.047]]))"
      ]
     },
     "execution_count": 14,
     "metadata": {},
     "output_type": "execute_result"
    }
   ],
   "source": [
    "#유의미한지 분석\n",
    "crosstab = pd.crosstab(D_F_G_final_O.LW_oc, D_F_G_final_O.DC4_lt)\n",
    "stats.chi2_contingency(crosstab)"
   ]
  },
  {
   "cell_type": "markdown",
   "metadata": {},
   "source": [
    "# 자궁경부암과 경구피임약의 관계"
   ]
  },
  {
   "cell_type": "code",
   "execution_count": 15,
   "metadata": {},
   "outputs": [
    {
     "data": {
      "image/png": "[encoded data removed]",
      "text/plain": [
       "<Figure size 720x432 with 1 Axes>"
      ]
     },
     "metadata": {
      "needs_background": "light"
     },
     "output_type": "display_data"
    }
   ],
   "source": [
    "#자궁경부암 비율(경구피임약 섭취)\n",
    "x = [1,2,3]\n",
    "y = [OC_Y_young['DC5_lt'].mean(),OC_Y_middle['DC5_lt'].mean(),OC_Y_old['DC5_lt'].mean()]\n",
    "\n",
    "# 그래프 크기 지정  \n",
    "plt.figure(figsize = (10, 6))\n",
    "\n",
    "plt.bar(x, y, align='center', width = 0.5)\n",
    "\n",
    "# 막대 그래프의 각 레이블\n",
    "plt.xticks(x, ['young', 'middle','old'])\n",
    "\n",
    "# x와 y 레이블 설정\n",
    "plt.xlabel('age_c')\n",
    "plt.ylabel('ratio')\n",
    "\n",
    "# 그리드 표시\n",
    "plt.grid(True)"
   ]
  },
  {
   "cell_type": "code",
   "execution_count": 16,
   "metadata": {
    "scrolled": true
   },
   "outputs": [
    {
     "data": {
      "image/png": "[encoded data removed]",
      "text/plain": [
       "<Figure size 720x432 with 1 Axes>"
      ]
     },
     "metadata": {
      "needs_background": "light"
     },
     "output_type": "display_data"
    }
   ],
   "source": [
    "#자궁경부암 비율(경구피임약 섭취하지 않았을때)\n",
    "x = [1,2,3]\n",
    "y = [OC_N_young['DC5_lt'].mean(),OC_N_middle['DC5_lt'].mean(),OC_N_old['DC5_lt'].mean()]\n",
    "\n",
    "plt.figure(figsize = (10, 6))\n",
    "\n",
    "plt.bar(x, y, align='center', width = 0.5)\n",
    "\n",
    "plt.xticks(x, ['young', 'middle','old'])\n",
    "\n",
    "plt.xlabel('age_c')\n",
    "plt.ylabel('ratio')\n",
    "\n",
    "plt.grid(True)"
   ]
  },
  {
   "cell_type": "markdown",
   "metadata": {},
   "source": [
    "# 그래프수정"
   ]
  },
  {
   "cell_type": "code",
   "execution_count": 17,
   "metadata": {},
   "outputs": [
    {
     "data": {
      "image/png": "[encoded data removed]",
      "text/plain": [
       "<Figure size 720x432 with 1 Axes>"
      ]
     },
     "metadata": {
      "needs_background": "light"
     },
     "output_type": "display_data"
    }
   ],
   "source": [
    "# 데이터 생성\n",
    "y1 = np.array([OC_Y_young['DC5_lt'].mean(),OC_Y_middle['DC5_lt'].mean(),OC_Y_old['DC5_lt'].mean()])\n",
    "y2 = np.array([OC_N_young['DC5_lt'].mean(),OC_N_middle['DC5_lt'].mean(),OC_N_old['DC5_lt'].mean()])\n",
    "\n",
    "# X축 데이터\n",
    "x = np.arange(len(y1))\n",
    "#변수세개 똑같은 길이로 나두는거\n",
    "\n",
    "# 그래프 너비\n",
    "w = 0.4\n",
    "\n",
    "# 그래프 크기 지정\n",
    "plt.figure(figsize = (10, 6))\n",
    "\n",
    "# 그래프 출력. y2는 막대의 너비만큼 오른쪽으로 이동시켜 그림\n",
    "plt.bar(x, y1, color = 'blue', width = w, label = 'OC_Y', align = 'center')\n",
    "plt.bar(x + w, y2, color='green', width = w, label = 'OC_N', align = 'center')\n",
    "#X+W는 엑스축으로 W만큼 이동 안하면 겹쳐짐\n",
    "\n",
    "# 최적 위치에 범례 배치\n",
    "plt.legend(loc = 'best')\n",
    "\n",
    "plt.xticks(x + w / 2, ['young', 'middle', 'old'])\n",
    "plt.grid(True)"
   ]
  },
  {
   "cell_type": "code",
   "execution_count": 18,
   "metadata": {},
   "outputs": [
    {
     "data": {
      "image/png": "[encoded data removed]",
      "text/plain": [
       "<Figure size 720x432 with 1 Axes>"
      ]
     },
     "metadata": {
      "needs_background": "light"
     },
     "output_type": "display_data"
    }
   ],
   "source": [
    "#청년 자궁경부암 비율\n",
    "x = [1,2]\n",
    "y = [OC_Y_young['DC5_lt'].mean(),OC_N_young['DC5_lt'].mean()]\n",
    "\n",
    "# 그래프 크기 지정  \n",
    "plt.figure(figsize = (10, 6))\n",
    "\n",
    "plt.bar(x, y, align='center', width = 0.5)\n",
    "\n",
    "# 막대 그래프의 각 레이블\n",
    "plt.xticks(x, ['OC_YES', 'OC_NO'])\n",
    "\n",
    "# x와 y 레이블 설정\n",
    "plt.xlabel('OC')\n",
    "plt.ylabel('ratio')\n",
    "\n",
    "# 그리드 표시\n",
    "plt.grid(True)"
   ]
  },
  {
   "cell_type": "code",
   "execution_count": 19,
   "metadata": {},
   "outputs": [
    {
     "data": {
      "text/plain": [
       "(0.000,\n",
       " 1.000,\n",
       " 0,\n",
       " array([[ 108.],\n",
       "        [1092.]]))"
      ]
     },
     "execution_count": 19,
     "metadata": {},
     "output_type": "execute_result"
    }
   ],
   "source": [
    "crosstab = pd.crosstab(D_F_G_final_Y.LW_oc, D_F_G_final_Y.DC5_lt)\n",
    "stats.chi2_contingency(crosstab)"
   ]
  },
  {
   "cell_type": "code",
   "execution_count": 20,
   "metadata": {
    "scrolled": true
   },
   "outputs": [
    {
     "data": {
      "image/png": "[encoded data removed]",
      "text/plain": [
       "<Figure size 720x432 with 1 Axes>"
      ]
     },
     "metadata": {
      "needs_background": "light"
     },
     "output_type": "display_data"
    }
   ],
   "source": [
    "#중년 자궁경부암 비율\n",
    "x = [1,2]\n",
    "y = [OC_Y_middle['DC5_lt'].mean(),OC_N_middle['DC5_lt'].mean()]\n",
    "\n",
    "# 그래프 크기 지정  \n",
    "plt.figure(figsize = (10, 6))\n",
    "\n",
    "plt.bar(x, y, align='center', width = 0.5)\n",
    "\n",
    "# 막대 그래프의 각 레이블\n",
    "plt.xticks(x, ['OC_YES', 'OC_NO'])\n",
    "# x와 y 레이블 설정\n",
    "plt.xlabel('OC')\n",
    "plt.ylabel('ratio')\n",
    "\n",
    "# 그리드 표시\n",
    "plt.grid(True)"
   ]
  },
  {
   "cell_type": "code",
   "execution_count": 21,
   "metadata": {},
   "outputs": [
    {
     "data": {
      "text/plain": [
       "(0.11616560213395977,\n",
       " 0.7332309976553528,\n",
       " 1,\n",
       " array([[2.238e+02, 1.161e+00],\n",
       "        [1.318e+03, 6.839e+00]]))"
      ]
     },
     "execution_count": 21,
     "metadata": {},
     "output_type": "execute_result"
    }
   ],
   "source": [
    "crosstab = pd.crosstab(D_F_G_final_M.LW_oc, D_F_G_final_M.DC5_lt)\n",
    "stats.chi2_contingency(crosstab)"
   ]
  },
  {
   "cell_type": "code",
   "execution_count": 22,
   "metadata": {},
   "outputs": [
    {
     "data": {
      "image/png": "[encoded data removed]",
      "text/plain": [
       "<Figure size 720x432 with 1 Axes>"
      ]
     },
     "metadata": {
      "needs_background": "light"
     },
     "output_type": "display_data"
    }
   ],
   "source": [
    "#노년 자궁경부암 비율\n",
    "x = [1,2]\n",
    "y = [OC_Y_old['DC5_lt'].mean(),OC_N_old['DC5_lt'].mean()]\n",
    "\n",
    "# 그래프 크기 지정  \n",
    "plt.figure(figsize = (10, 6))\n",
    "\n",
    "plt.bar(x, y, align='center', width = 0.5)\n",
    "\n",
    "# 막대 그래프의 각 레이블\n",
    "plt.xticks(x, ['OC_YES', 'OC_NO'])\n",
    "\n",
    "# x와 y 레이블 설정\n",
    "plt.xlabel('OC')\n",
    "plt.ylabel('ratio')\n",
    "\n",
    "# 그리드 표시\n",
    "plt.grid(True)"
   ]
  },
  {
   "cell_type": "code",
   "execution_count": 23,
   "metadata": {},
   "outputs": [
    {
     "data": {
      "text/plain": [
       "(1.2764024876512994,\n",
       " 0.25856900493630447,\n",
       " 1,\n",
       " array([[ 328.553,    4.447],\n",
       "        [1001.447,   13.553]]))"
      ]
     },
     "execution_count": 23,
     "metadata": {},
     "output_type": "execute_result"
    }
   ],
   "source": [
    "crosstab = pd.crosstab(D_F_G_final_O.LW_oc, D_F_G_final_O.DC5_lt)\n",
    "stats.chi2_contingency(crosstab)"
   ]
  },
  {
   "cell_type": "markdown",
   "metadata": {},
   "source": [
    "# 자궁경부암과 경구피임약의 관계-2"
   ]
  },
  {
   "cell_type": "code",
   "execution_count": 24,
   "metadata": {
    "scrolled": false
   },
   "outputs": [
    {
     "name": "stderr",
     "output_type": "stream",
     "text": [
      "<ipython-input-24-438a6a9baebb>:3: SettingWithCopyWarning: \n",
      "A value is trying to be set on a copy of a slice from a DataFrame.\n",
      "Try using .loc[row_indexer,col_indexer] = value instead\n",
      "\n",
      "See the caveats in the documentation: https://pandas.pydata.org/pandas-docs/stable/user_guide/indexing.html#returning-a-view-versus-a-copy\n",
      "  D_F_G_Y[D_F_G_Y['LW_oc'] == 2.0] = 0.0\n",
      "C:\\Users\\seong\\anaconda3\\lib\\site-packages\\pandas\\core\\indexing.py:966: SettingWithCopyWarning: \n",
      "A value is trying to be set on a copy of a slice from a DataFrame.\n",
      "Try using .loc[row_indexer,col_indexer] = value instead\n",
      "\n",
      "See the caveats in the documentation: https://pandas.pydata.org/pandas-docs/stable/user_guide/indexing.html#returning-a-view-versus-a-copy\n",
      "  self.obj[item] = s\n"
     ]
    },
    {
     "data": {
      "text/plain": [
       "0.308"
      ]
     },
     "execution_count": 24,
     "metadata": {},
     "output_type": "execute_result"
    }
   ],
   "source": [
    "#암에 걸린 집단에서 피임약을 복용한 비율\n",
    "D_F_G_Y = D_F_G_final[D_F_G_final['DC5_lt'] == 1.0]\n",
    "D_F_G_Y[D_F_G_Y['LW_oc'] == 2.0] = 0.0\n",
    "D_F_G_Y['LW_oc'].mean()"
   ]
  },
  {
   "cell_type": "code",
   "execution_count": 25,
   "metadata": {},
   "outputs": [
    {
     "data": {
      "text/plain": [
       "(-1.11427390140732, 1.199717050466078, -1.1181566223262358, 1.1602927609830176)"
      ]
     },
     "execution_count": 25,
     "metadata": {},
     "output_type": "execute_result"
    },
    {
     "data": {
      "image/png": "[encoded data removed]",
      "text/plain": [
       "<Figure size 1080x432 with 1 Axes>"
      ]
     },
     "metadata": {},
     "output_type": "display_data"
    }
   ],
   "source": [
    "labels = ['OC_NO','OC_Yes']\n",
    "sizes = [69.2, 30.8]\n",
    "colors = ['yellowgreen', 'lightskyblue']\n",
    "explode = (0, 0.1) \n",
    "\n",
    "\n",
    "# 그래프 크기 지정\n",
    "plt.figure(figsize = (15, 6))\n",
    "\n",
    "# 그래프 출력\n",
    "plt.pie(sizes, explode = explode, labels = labels, colors = colors,\n",
    "        autopct = '%1.1f%%', shadow = True, startangle = 90)\n",
    "\n",
    "\n",
    "\n",
    "\n",
    "# 원을 그림\n",
    "plt.axis('equal')\n"
   ]
  },
  {
   "cell_type": "code",
   "execution_count": 26,
   "metadata": {},
   "outputs": [
    {
     "name": "stderr",
     "output_type": "stream",
     "text": [
      "<ipython-input-26-2b0f75ad56aa>:3: SettingWithCopyWarning: \n",
      "A value is trying to be set on a copy of a slice from a DataFrame.\n",
      "Try using .loc[row_indexer,col_indexer] = value instead\n",
      "\n",
      "See the caveats in the documentation: https://pandas.pydata.org/pandas-docs/stable/user_guide/indexing.html#returning-a-view-versus-a-copy\n",
      "  D_F_G_Y[D_F_G_Y['LW_oc'] == 2.0] = 0.0\n"
     ]
    },
    {
     "data": {
      "text/plain": [
       "0.162"
      ]
     },
     "execution_count": 26,
     "metadata": {},
     "output_type": "execute_result"
    }
   ],
   "source": [
    "#암에 걸리지 않은 집단에서 피임약을 복용한 비율\n",
    "D_F_G_Y = D_F_G_final[D_F_G_final['DC5_lt'] == 0.0]\n",
    "D_F_G_Y[D_F_G_Y['LW_oc'] == 2.0] = 0.0\n",
    "D_F_G_Y['LW_oc'].mean()"
   ]
  },
  {
   "cell_type": "code",
   "execution_count": 27,
   "metadata": {},
   "outputs": [
    {
     "data": {
      "text/plain": [
       "(-1.1059846145917, 1.1065876903209801, -1.1098595615243712, 1.1919542270090289)"
      ]
     },
     "execution_count": 27,
     "metadata": {},
     "output_type": "execute_result"
    },
    {
     "data": {
      "image/png": "[encoded data removed]",
      "text/plain": [
       "<Figure size 1080x432 with 1 Axes>"
      ]
     },
     "metadata": {},
     "output_type": "display_data"
    }
   ],
   "source": [
    "labels = ['OC_NO','OC_Yes']\n",
    "sizes = [83.8, 16.2]\n",
    "colors = ['yellowgreen', 'lightskyblue']\n",
    "explode = (0, 0.1) \n",
    "\n",
    "\n",
    "# 그래프 크기 지정\n",
    "plt.figure(figsize = (15, 6))\n",
    "\n",
    "# 그래프 출력\n",
    "plt.pie(sizes, explode = explode, labels = labels, colors = colors,\n",
    "        autopct = '%1.1f%%', shadow = True, startangle = 90)\n",
    "\n",
    "\n",
    "\n",
    "\n",
    "# 원을 그림\n",
    "plt.axis('equal')\n"
   ]
  },
  {
   "cell_type": "markdown",
   "metadata": {},
   "source": [
    "# 자궁경부암과 경구피임약의 관계(추가변수:성행위)"
   ]
  },
  {
   "cell_type": "code",
   "execution_count": 28,
   "metadata": {
    "scrolled": true
   },
   "outputs": [
    {
     "data": {
      "image/png": "[encoded data removed]",
      "text/plain": [
       "<Figure size 720x432 with 1 Axes>"
      ]
     },
     "metadata": {
      "needs_background": "light"
     },
     "output_type": "display_data"
    }
   ],
   "source": [
    "#임신한 경우와 임신하지 않은 경우(성행위라는 변수대체)\n",
    "\n",
    "#경구피임약을 섭취 임신YES\n",
    "OC_Y_Y = D_F_G_final[(D_F_G_final['LW_oc'] == 1.0) & (D_F_G_final['LW_pr'] == 1.0)]\n",
    "OC_Y_Y['DC5_lt'].mean()\n",
    "\n",
    "#경구피임약 섭취 임신NO\n",
    "OC_Y_N = D_F_G_final[(D_F_G_final['LW_oc'] == 1.0) & (D_F_G_final['LW_pr'] == 2.0)]\n",
    "OC_Y_N['DC5_lt'].mean()\n",
    "\n",
    "#경구피임약을 섭취X 임신YES\n",
    "OC_N_Y = D_F_G_final[(D_F_G_final['LW_oc'] == 2.0) & (D_F_G_final['LW_pr'] == 1.0)]\n",
    "OC_N_Y['DC5_lt'].mean()\n",
    "\n",
    "#경구피임약 섭취X 임신NO\n",
    "OC_N_N = D_F_G_final[(D_F_G_final['LW_oc'] == 2.0) & (D_F_G_final['LW_pr'] == 2.0)]\n",
    "OC_N_N['DC5_lt'].mean()\n",
    "\n",
    "#시각화\n",
    "x = [1,2,3,4]\n",
    "y = [OC_Y_Y['DC5_lt'].mean(),OC_Y_N['DC5_lt'].mean(),OC_N_Y['DC5_lt'].mean(),OC_N_N['DC5_lt'].mean()]\n",
    "\n",
    "plt.figure(figsize = (10, 6))\n",
    "\n",
    "plt.bar(x, y, align='center', width = 0.5)\n",
    "\n",
    "plt.xticks(x, ['YY', 'YN', 'NY','NN'])\n",
    "\n",
    "plt.xlabel('OC & PR')\n",
    "plt.ylabel('ratio')\n",
    "\n",
    "plt.grid(True)"
   ]
  },
  {
   "cell_type": "markdown",
   "metadata": {},
   "source": [
    "# 결론"
   ]
  },
  {
   "cell_type": "markdown",
   "metadata": {},
   "source": [
    "crosstab으로 분석해보았을 때 모두 p값이 0.05이상으로 모든 세대에서 경구피임약과 여성암이 유의미한 관계를 가진다고 볼 수 없다.\n",
    "하지만, 이 데이터는 경구피임약의 복용횟수에 상관없이 복용여부에 대한 정보만 있기 때문에(복용횟수, 달수 정보에 대한 컬럼도 있지만, 이에 응답한 집단이 매우 적어 분석할 수 없는 수준이었다.) 더욱 정확한 상관관계를 구하는데 어려움이 있었으며, 또한 전체 데이터양에 비해 경구피임약의 복용한 집단과 여성암의 유병경험이 있는 집단에 대한 데이터의 크기가 적어서 생긴 문제라고 생각한다.\n",
    "따라서 다음기회에 조금 더 적합한 데이터셋을 찾아 복용여부, 복용횟수, 복용기간 등 많은 변수에 대해서 분석해보고 싶다."
   ]
  },
  {
   "cell_type": "code",
   "execution_count": null,
   "metadata": {},
   "outputs": [],
   "source": []
  }
 ],
 "metadata": {
  "kernelspec": {
   "display_name": "Python 3",
   "language": "python",
   "name": "python3"
  },
  "language_info": {
   "codemirror_mode": {
    "name": "ipython",
    "version": 3
   },
   "file_extension": ".py",
   "mimetype": "text/x-python",
   "name": "python",
   "nbconvert_exporter": "python",
   "pygments_lexer": "ipython3",
   "version": "3.8.3"
  }
 },
 "nbformat": 4,
 "nbformat_minor": 4
}
