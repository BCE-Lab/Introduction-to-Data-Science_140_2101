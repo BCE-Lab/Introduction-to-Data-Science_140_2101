{
 "cells": [
  {
   "cell_type": "markdown",
   "metadata": {},
   "source": [
    "# 유동인구 기반 코로나 데이터셋 분석"
   ]
  },
  {
   "cell_type": "markdown",
   "metadata": {},
   "source": [
    "장재원(202055144)"
   ]
  },
  {
   "cell_type": "markdown",
   "metadata": {},
   "source": [
    "### 분석내용 요약"
   ]
  },
  {
   "cell_type": "markdown",
   "metadata": {},
   "source": [
    "코로나 사태를 뉴스로 접하며 유동인구수와 확진자수의 상관관계에 있을 것이라고 예상했고, 저는 SKT 빅데이터 허브에서제공된 유동인구 데이터를 이용하여 유동인구수와 확진자수사이의 상관관계를 분석했습니다. 또한,https://www.kaggle.com/kimjihoo/ds4c-what-is-this-dataset-detailed-description 의 코로나데이터셋 Policy파일을 통해, 사회적거리두기 정책의 실효성을 알아보고자 했습니다.\n",
    "\n",
    "지역별 한달 평균 유동인구수와 코로나 확진자수분석 결과\n",
    "지역별 평균 유동인구수와 코로나 확진자수는 그 상관관계가 크지않고\n",
    "오히려 다른 변수들에 의해 크게 영향을 받는 것으로 생각됩니다.\n",
    "\n",
    "서울시내 코로나 누적확진자수와 서울시내 유동인구수를 분석결과\n",
    "코로나확진자수의 증가는 서울시내 유동인구의 큰 영향을 주지 못한것으로 생각됩니다.\n",
    "\n",
    "사회적거리두기 정책 실행날짜를 기준으로 서울시내 일별 확진자수, 유동인구를 분석한 결과\n",
    "회적거리두기 정책은 코로나환자수를 일시적으로 감소시키는데 효과가 있는것으로 생각됩니다."
   ]
  },
  {
   "cell_type": "code",
   "execution_count": 31,
   "metadata": {},
   "outputs": [],
   "source": [
    "import numpy as np \n",
    "import pandas as pd\n",
    "import matplotlib.pyplot as plt\n",
    "import datetime\n",
    "import matplotlib as mpl\n",
    "import seaborn as sns\n",
    "%matplotlib inline"
   ]
  },
  {
   "cell_type": "code",
   "execution_count": 32,
   "metadata": {},
   "outputs": [],
   "source": [
    "#파일 불러오기\n",
    "policy = pd.read_csv('Policy.csv')\n",
    "floating2 = pd.read_csv('floating/Floating_Population_2002.csv')\n",
    "floating3 = pd.read_csv('floating/Floating_Population_2003.csv')\n",
    "floating4 = pd.read_csv('floating/Floating_Population_2004.csv')\n",
    "floating5 = pd.read_csv('floating/Floating_Population_2005.csv')\n",
    "floating6 = pd.read_csv('floating/Floating_Population_2006.csv')"
   ]
  },
  {
   "cell_type": "code",
   "execution_count": 33,
   "metadata": {},
   "outputs": [],
   "source": [
    "confirmed = pd.read_csv('floating/real_eng.csv',encoding='CP949')"
   ]
  },
  {
   "cell_type": "code",
   "execution_count": 34,
   "metadata": {},
   "outputs": [
    {
     "data": {
      "text/html": [
       "<div>\n",
       "<style scoped>\n",
       "    .dataframe tbody tr th:only-of-type {\n",
       "        vertical-align: middle;\n",
       "    }\n",
       "\n",
       "    .dataframe tbody tr th {\n",
       "        vertical-align: top;\n",
       "    }\n",
       "\n",
       "    .dataframe thead th {\n",
       "        text-align: right;\n",
       "    }\n",
       "</style>\n",
       "<table border=\"1\" class=\"dataframe\">\n",
       "  <thead>\n",
       "    <tr style=\"text-align: right;\">\n",
       "      <th></th>\n",
       "      <th>date</th>\n",
       "      <th>Time(unit=1hour)</th>\n",
       "      <th>Age(unit=10years_old)</th>\n",
       "      <th>sex</th>\n",
       "      <th>Province</th>\n",
       "      <th>city</th>\n",
       "      <th>Floating_population</th>\n",
       "      <th>Time(unit=1hour)(1Time(unit=1hour)단위)</th>\n",
       "    </tr>\n",
       "  </thead>\n",
       "  <tbody>\n",
       "    <tr>\n",
       "      <th>0</th>\n",
       "      <td>20200201</td>\n",
       "      <td>0.0</td>\n",
       "      <td>60</td>\n",
       "      <td>Female</td>\n",
       "      <td>Seoul</td>\n",
       "      <td>Eunpyeong-gu</td>\n",
       "      <td>29130</td>\n",
       "      <td>NaN</td>\n",
       "    </tr>\n",
       "    <tr>\n",
       "      <th>1</th>\n",
       "      <td>20200201</td>\n",
       "      <td>0.0</td>\n",
       "      <td>60</td>\n",
       "      <td>Female</td>\n",
       "      <td>Seoul</td>\n",
       "      <td>Jungnang-gu</td>\n",
       "      <td>24880</td>\n",
       "      <td>NaN</td>\n",
       "    </tr>\n",
       "    <tr>\n",
       "      <th>2</th>\n",
       "      <td>20200201</td>\n",
       "      <td>0.0</td>\n",
       "      <td>70</td>\n",
       "      <td>Male</td>\n",
       "      <td>Seoul</td>\n",
       "      <td>Dongdaemun-gu</td>\n",
       "      <td>14740</td>\n",
       "      <td>NaN</td>\n",
       "    </tr>\n",
       "    <tr>\n",
       "      <th>3</th>\n",
       "      <td>20200201</td>\n",
       "      <td>1.0</td>\n",
       "      <td>40</td>\n",
       "      <td>Female</td>\n",
       "      <td>Seoul</td>\n",
       "      <td>Yangcheon-gu</td>\n",
       "      <td>43140</td>\n",
       "      <td>NaN</td>\n",
       "    </tr>\n",
       "    <tr>\n",
       "      <th>4</th>\n",
       "      <td>20200201</td>\n",
       "      <td>2.0</td>\n",
       "      <td>40</td>\n",
       "      <td>Male</td>\n",
       "      <td>Seoul</td>\n",
       "      <td>Dobong-gu</td>\n",
       "      <td>25320</td>\n",
       "      <td>NaN</td>\n",
       "    </tr>\n",
       "    <tr>\n",
       "      <th>...</th>\n",
       "      <td>...</td>\n",
       "      <td>...</td>\n",
       "      <td>...</td>\n",
       "      <td>...</td>\n",
       "      <td>...</td>\n",
       "      <td>...</td>\n",
       "      <td>...</td>\n",
       "      <td>...</td>\n",
       "    </tr>\n",
       "    <tr>\n",
       "      <th>215995</th>\n",
       "      <td>20200630</td>\n",
       "      <td>22.0</td>\n",
       "      <td>60</td>\n",
       "      <td>Male</td>\n",
       "      <td>Seoul</td>\n",
       "      <td>Eunpyeong-gu</td>\n",
       "      <td>22910</td>\n",
       "      <td>NaN</td>\n",
       "    </tr>\n",
       "    <tr>\n",
       "      <th>215996</th>\n",
       "      <td>20200630</td>\n",
       "      <td>22.0</td>\n",
       "      <td>70</td>\n",
       "      <td>Female</td>\n",
       "      <td>Seoul</td>\n",
       "      <td>Gangbuk-gu</td>\n",
       "      <td>18330</td>\n",
       "      <td>NaN</td>\n",
       "    </tr>\n",
       "    <tr>\n",
       "      <th>215997</th>\n",
       "      <td>20200630</td>\n",
       "      <td>23.0</td>\n",
       "      <td>20</td>\n",
       "      <td>Female</td>\n",
       "      <td>Seoul</td>\n",
       "      <td>Seocho-gu</td>\n",
       "      <td>30840</td>\n",
       "      <td>NaN</td>\n",
       "    </tr>\n",
       "    <tr>\n",
       "      <th>215998</th>\n",
       "      <td>20200630</td>\n",
       "      <td>23.0</td>\n",
       "      <td>60</td>\n",
       "      <td>Male</td>\n",
       "      <td>Seoul</td>\n",
       "      <td>Eunpyeong-gu</td>\n",
       "      <td>23050</td>\n",
       "      <td>NaN</td>\n",
       "    </tr>\n",
       "    <tr>\n",
       "      <th>215999</th>\n",
       "      <td>20200630</td>\n",
       "      <td>23.0</td>\n",
       "      <td>70</td>\n",
       "      <td>Female</td>\n",
       "      <td>Seoul</td>\n",
       "      <td>Seocho-gu</td>\n",
       "      <td>15850</td>\n",
       "      <td>NaN</td>\n",
       "    </tr>\n",
       "  </tbody>\n",
       "</table>\n",
       "<p>1077600 rows × 8 columns</p>\n",
       "</div>"
      ],
      "text/plain": [
       "            date  Time(unit=1hour)  Age(unit=10years_old)     sex Province  \\\n",
       "0       20200201               0.0                     60  Female    Seoul   \n",
       "1       20200201               0.0                     60  Female    Seoul   \n",
       "2       20200201               0.0                     70    Male    Seoul   \n",
       "3       20200201               1.0                     40  Female    Seoul   \n",
       "4       20200201               2.0                     40    Male    Seoul   \n",
       "...          ...               ...                    ...     ...      ...   \n",
       "215995  20200630              22.0                     60    Male    Seoul   \n",
       "215996  20200630              22.0                     70  Female    Seoul   \n",
       "215997  20200630              23.0                     20  Female    Seoul   \n",
       "215998  20200630              23.0                     60    Male    Seoul   \n",
       "215999  20200630              23.0                     70  Female    Seoul   \n",
       "\n",
       "                 city  Floating_population  \\\n",
       "0        Eunpyeong-gu                29130   \n",
       "1         Jungnang-gu                24880   \n",
       "2       Dongdaemun-gu                14740   \n",
       "3        Yangcheon-gu                43140   \n",
       "4           Dobong-gu                25320   \n",
       "...               ...                  ...   \n",
       "215995   Eunpyeong-gu                22910   \n",
       "215996     Gangbuk-gu                18330   \n",
       "215997      Seocho-gu                30840   \n",
       "215998   Eunpyeong-gu                23050   \n",
       "215999      Seocho-gu                15850   \n",
       "\n",
       "        Time(unit=1hour)(1Time(unit=1hour)단위)  \n",
       "0                                         NaN  \n",
       "1                                         NaN  \n",
       "2                                         NaN  \n",
       "3                                         NaN  \n",
       "4                                         NaN  \n",
       "...                                       ...  \n",
       "215995                                    NaN  \n",
       "215996                                    NaN  \n",
       "215997                                    NaN  \n",
       "215998                                    NaN  \n",
       "215999                                    NaN  \n",
       "\n",
       "[1077600 rows x 8 columns]"
      ]
     },
     "execution_count": 34,
     "metadata": {},
     "output_type": "execute_result"
    }
   ],
   "source": [
    "#유동인구량 파일 붙임\n",
    "floating = pd.concat([floating2, floating3, floating4, floating5, floating6])\n",
    "floating"
   ]
  },
  {
   "cell_type": "code",
   "execution_count": 35,
   "metadata": {},
   "outputs": [
    {
     "data": {
      "text/html": [
       "<div>\n",
       "<style scoped>\n",
       "    .dataframe tbody tr th:only-of-type {\n",
       "        vertical-align: middle;\n",
       "    }\n",
       "\n",
       "    .dataframe tbody tr th {\n",
       "        vertical-align: top;\n",
       "    }\n",
       "\n",
       "    .dataframe thead th {\n",
       "        text-align: right;\n",
       "    }\n",
       "</style>\n",
       "<table border=\"1\" class=\"dataframe\">\n",
       "  <thead>\n",
       "    <tr style=\"text-align: right;\">\n",
       "      <th></th>\n",
       "      <th>date</th>\n",
       "      <th>Time(unit=1hour)</th>\n",
       "      <th>Age(unit=10years_old)</th>\n",
       "      <th>sex</th>\n",
       "      <th>Province</th>\n",
       "      <th>city</th>\n",
       "      <th>Floating_population</th>\n",
       "      <th>Time(unit=1hour)(1Time(unit=1hour)단위)</th>\n",
       "    </tr>\n",
       "  </thead>\n",
       "  <tbody>\n",
       "    <tr>\n",
       "      <th>0</th>\n",
       "      <td>20200201</td>\n",
       "      <td>0.0</td>\n",
       "      <td>60</td>\n",
       "      <td>Female</td>\n",
       "      <td>Seoul</td>\n",
       "      <td>Eunpyeong-gu</td>\n",
       "      <td>29130</td>\n",
       "      <td>NaN</td>\n",
       "    </tr>\n",
       "    <tr>\n",
       "      <th>1</th>\n",
       "      <td>20200201</td>\n",
       "      <td>0.0</td>\n",
       "      <td>60</td>\n",
       "      <td>Female</td>\n",
       "      <td>Seoul</td>\n",
       "      <td>Jungnang-gu</td>\n",
       "      <td>24880</td>\n",
       "      <td>NaN</td>\n",
       "    </tr>\n",
       "    <tr>\n",
       "      <th>2</th>\n",
       "      <td>20200201</td>\n",
       "      <td>0.0</td>\n",
       "      <td>70</td>\n",
       "      <td>Male</td>\n",
       "      <td>Seoul</td>\n",
       "      <td>Dongdaemun-gu</td>\n",
       "      <td>14740</td>\n",
       "      <td>NaN</td>\n",
       "    </tr>\n",
       "    <tr>\n",
       "      <th>3</th>\n",
       "      <td>20200201</td>\n",
       "      <td>1.0</td>\n",
       "      <td>40</td>\n",
       "      <td>Female</td>\n",
       "      <td>Seoul</td>\n",
       "      <td>Yangcheon-gu</td>\n",
       "      <td>43140</td>\n",
       "      <td>NaN</td>\n",
       "    </tr>\n",
       "    <tr>\n",
       "      <th>4</th>\n",
       "      <td>20200201</td>\n",
       "      <td>2.0</td>\n",
       "      <td>40</td>\n",
       "      <td>Male</td>\n",
       "      <td>Seoul</td>\n",
       "      <td>Dobong-gu</td>\n",
       "      <td>25320</td>\n",
       "      <td>NaN</td>\n",
       "    </tr>\n",
       "  </tbody>\n",
       "</table>\n",
       "</div>"
      ],
      "text/plain": [
       "       date  Time(unit=1hour)  Age(unit=10years_old)     sex Province  \\\n",
       "0  20200201               0.0                     60  Female    Seoul   \n",
       "1  20200201               0.0                     60  Female    Seoul   \n",
       "2  20200201               0.0                     70    Male    Seoul   \n",
       "3  20200201               1.0                     40  Female    Seoul   \n",
       "4  20200201               2.0                     40    Male    Seoul   \n",
       "\n",
       "            city  Floating_population  Time(unit=1hour)(1Time(unit=1hour)단위)  \n",
       "0   Eunpyeong-gu                29130                                    NaN  \n",
       "1    Jungnang-gu                24880                                    NaN  \n",
       "2  Dongdaemun-gu                14740                                    NaN  \n",
       "3   Yangcheon-gu                43140                                    NaN  \n",
       "4      Dobong-gu                25320                                    NaN  "
      ]
     },
     "execution_count": 35,
     "metadata": {},
     "output_type": "execute_result"
    }
   ],
   "source": [
    "floating.head()"
   ]
  },
  {
   "cell_type": "code",
   "execution_count": 36,
   "metadata": {},
   "outputs": [
    {
     "data": {
      "text/html": [
       "<div>\n",
       "<style scoped>\n",
       "    .dataframe tbody tr th:only-of-type {\n",
       "        vertical-align: middle;\n",
       "    }\n",
       "\n",
       "    .dataframe tbody tr th {\n",
       "        vertical-align: top;\n",
       "    }\n",
       "\n",
       "    .dataframe thead th {\n",
       "        text-align: right;\n",
       "    }\n",
       "</style>\n",
       "<table border=\"1\" class=\"dataframe\">\n",
       "  <thead>\n",
       "    <tr style=\"text-align: right;\">\n",
       "      <th></th>\n",
       "      <th>Floating_population</th>\n",
       "    </tr>\n",
       "    <tr>\n",
       "      <th>date</th>\n",
       "      <th></th>\n",
       "    </tr>\n",
       "  </thead>\n",
       "  <tbody>\n",
       "    <tr>\n",
       "      <th>20200201</th>\n",
       "      <td>27145.294444</td>\n",
       "    </tr>\n",
       "    <tr>\n",
       "      <th>20200202</th>\n",
       "      <td>26824.380556</td>\n",
       "    </tr>\n",
       "    <tr>\n",
       "      <th>20200203</th>\n",
       "      <td>27886.648611</td>\n",
       "    </tr>\n",
       "    <tr>\n",
       "      <th>20200204</th>\n",
       "      <td>27889.215278</td>\n",
       "    </tr>\n",
       "    <tr>\n",
       "      <th>20200205</th>\n",
       "      <td>27880.240278</td>\n",
       "    </tr>\n",
       "  </tbody>\n",
       "</table>\n",
       "</div>"
      ],
      "text/plain": [
       "          Floating_population\n",
       "date                         \n",
       "20200201         27145.294444\n",
       "20200202         26824.380556\n",
       "20200203         27886.648611\n",
       "20200204         27889.215278\n",
       "20200205         27880.240278"
      ]
     },
     "execution_count": 36,
     "metadata": {},
     "output_type": "execute_result"
    }
   ],
   "source": [
    "#서울에서 일별 평균 유동인구량\n",
    "f =floating.groupby('date')[['Floating_population']].mean()\n",
    "f.head()"
   ]
  },
  {
   "cell_type": "code",
   "execution_count": 37,
   "metadata": {},
   "outputs": [
    {
     "data": {
      "text/html": [
       "<div>\n",
       "<style scoped>\n",
       "    .dataframe tbody tr th:only-of-type {\n",
       "        vertical-align: middle;\n",
       "    }\n",
       "\n",
       "    .dataframe tbody tr th {\n",
       "        vertical-align: top;\n",
       "    }\n",
       "\n",
       "    .dataframe thead th {\n",
       "        text-align: right;\n",
       "    }\n",
       "</style>\n",
       "<table border=\"1\" class=\"dataframe\">\n",
       "  <thead>\n",
       "    <tr style=\"text-align: right;\">\n",
       "      <th></th>\n",
       "      <th>Floating_population</th>\n",
       "    </tr>\n",
       "    <tr>\n",
       "      <th>city</th>\n",
       "      <th></th>\n",
       "    </tr>\n",
       "  </thead>\n",
       "  <tbody>\n",
       "    <tr>\n",
       "      <th>Dobong-gu</th>\n",
       "      <td>19953.820295</td>\n",
       "    </tr>\n",
       "    <tr>\n",
       "      <th>Dongdaemun-gu</th>\n",
       "      <td>24267.343402</td>\n",
       "    </tr>\n",
       "    <tr>\n",
       "      <th>Dongjak-gu</th>\n",
       "      <td>26052.310226</td>\n",
       "    </tr>\n",
       "    <tr>\n",
       "      <th>Eunpyeong-gu</th>\n",
       "      <td>27955.616648</td>\n",
       "    </tr>\n",
       "    <tr>\n",
       "      <th>Gangbuk-gu</th>\n",
       "      <td>19824.457127</td>\n",
       "    </tr>\n",
       "  </tbody>\n",
       "</table>\n",
       "</div>"
      ],
      "text/plain": [
       "               Floating_population\n",
       "city                              \n",
       "Dobong-gu             19953.820295\n",
       "Dongdaemun-gu         24267.343402\n",
       "Dongjak-gu            26052.310226\n",
       "Eunpyeong-gu          27955.616648\n",
       "Gangbuk-gu            19824.457127"
      ]
     },
     "execution_count": 37,
     "metadata": {},
     "output_type": "execute_result"
    }
   ],
   "source": [
    "#2월 1일부터 6월30일까지 군구별 평균 이동량\n",
    "g= floating.groupby('city')[['Floating_population']].mean()\n",
    "g.head()"
   ]
  },
  {
   "cell_type": "code",
   "execution_count": 38,
   "metadata": {},
   "outputs": [
    {
     "data": {
      "text/html": [
       "<div>\n",
       "<style scoped>\n",
       "    .dataframe tbody tr th:only-of-type {\n",
       "        vertical-align: middle;\n",
       "    }\n",
       "\n",
       "    .dataframe tbody tr th {\n",
       "        vertical-align: top;\n",
       "    }\n",
       "\n",
       "    .dataframe thead th {\n",
       "        text-align: right;\n",
       "    }\n",
       "</style>\n",
       "<table border=\"1\" class=\"dataframe\">\n",
       "  <thead>\n",
       "    <tr style=\"text-align: right;\">\n",
       "      <th></th>\n",
       "      <th>date</th>\n",
       "      <th>city</th>\n",
       "      <th>Floating_population</th>\n",
       "    </tr>\n",
       "  </thead>\n",
       "  <tbody>\n",
       "    <tr>\n",
       "      <th>0</th>\n",
       "      <td>20200201</td>\n",
       "      <td>Eunpyeong-gu</td>\n",
       "      <td>29130</td>\n",
       "    </tr>\n",
       "    <tr>\n",
       "      <th>1</th>\n",
       "      <td>20200201</td>\n",
       "      <td>Jungnang-gu</td>\n",
       "      <td>24880</td>\n",
       "    </tr>\n",
       "    <tr>\n",
       "      <th>2</th>\n",
       "      <td>20200201</td>\n",
       "      <td>Dongdaemun-gu</td>\n",
       "      <td>14740</td>\n",
       "    </tr>\n",
       "    <tr>\n",
       "      <th>3</th>\n",
       "      <td>20200201</td>\n",
       "      <td>Yangcheon-gu</td>\n",
       "      <td>43140</td>\n",
       "    </tr>\n",
       "    <tr>\n",
       "      <th>4</th>\n",
       "      <td>20200201</td>\n",
       "      <td>Dobong-gu</td>\n",
       "      <td>25320</td>\n",
       "    </tr>\n",
       "    <tr>\n",
       "      <th>...</th>\n",
       "      <td>...</td>\n",
       "      <td>...</td>\n",
       "      <td>...</td>\n",
       "    </tr>\n",
       "    <tr>\n",
       "      <th>215995</th>\n",
       "      <td>20200630</td>\n",
       "      <td>Eunpyeong-gu</td>\n",
       "      <td>22910</td>\n",
       "    </tr>\n",
       "    <tr>\n",
       "      <th>215996</th>\n",
       "      <td>20200630</td>\n",
       "      <td>Gangbuk-gu</td>\n",
       "      <td>18330</td>\n",
       "    </tr>\n",
       "    <tr>\n",
       "      <th>215997</th>\n",
       "      <td>20200630</td>\n",
       "      <td>Seocho-gu</td>\n",
       "      <td>30840</td>\n",
       "    </tr>\n",
       "    <tr>\n",
       "      <th>215998</th>\n",
       "      <td>20200630</td>\n",
       "      <td>Eunpyeong-gu</td>\n",
       "      <td>23050</td>\n",
       "    </tr>\n",
       "    <tr>\n",
       "      <th>215999</th>\n",
       "      <td>20200630</td>\n",
       "      <td>Seocho-gu</td>\n",
       "      <td>15850</td>\n",
       "    </tr>\n",
       "  </tbody>\n",
       "</table>\n",
       "<p>1077600 rows × 3 columns</p>\n",
       "</div>"
      ],
      "text/plain": [
       "            date           city  Floating_population\n",
       "0       20200201   Eunpyeong-gu                29130\n",
       "1       20200201    Jungnang-gu                24880\n",
       "2       20200201  Dongdaemun-gu                14740\n",
       "3       20200201   Yangcheon-gu                43140\n",
       "4       20200201      Dobong-gu                25320\n",
       "...          ...            ...                  ...\n",
       "215995  20200630   Eunpyeong-gu                22910\n",
       "215996  20200630     Gangbuk-gu                18330\n",
       "215997  20200630      Seocho-gu                30840\n",
       "215998  20200630   Eunpyeong-gu                23050\n",
       "215999  20200630      Seocho-gu                15850\n",
       "\n",
       "[1077600 rows x 3 columns]"
      ]
     },
     "execution_count": 38,
     "metadata": {},
     "output_type": "execute_result"
    }
   ],
   "source": [
    "#유동인구수 요약\n",
    "sum_float= floating.drop(['Time(unit=1hour)','Age(unit=10years_old)','sex','Province','Time(unit=1hour)(1Time(unit=1hour)단위)'],axis=1)\n",
    "sum_float"
   ]
  },
  {
   "cell_type": "code",
   "execution_count": 39,
   "metadata": {},
   "outputs": [
    {
     "data": {
      "text/html": [
       "<div>\n",
       "<style scoped>\n",
       "    .dataframe tbody tr th:only-of-type {\n",
       "        vertical-align: middle;\n",
       "    }\n",
       "\n",
       "    .dataframe tbody tr th {\n",
       "        vertical-align: top;\n",
       "    }\n",
       "\n",
       "    .dataframe thead th {\n",
       "        text-align: right;\n",
       "    }\n",
       "</style>\n",
       "<table border=\"1\" class=\"dataframe\">\n",
       "  <thead>\n",
       "    <tr style=\"text-align: right;\">\n",
       "      <th></th>\n",
       "      <th></th>\n",
       "      <th>Floating_population</th>\n",
       "    </tr>\n",
       "    <tr>\n",
       "      <th>date</th>\n",
       "      <th>city</th>\n",
       "      <th></th>\n",
       "    </tr>\n",
       "  </thead>\n",
       "  <tbody>\n",
       "    <tr>\n",
       "      <th rowspan=\"5\" valign=\"top\">20200201</th>\n",
       "      <th>Dobong-gu</th>\n",
       "      <td>20940.381944</td>\n",
       "    </tr>\n",
       "    <tr>\n",
       "      <th>Dongdaemun-gu</th>\n",
       "      <td>24316.875000</td>\n",
       "    </tr>\n",
       "    <tr>\n",
       "      <th>Dongjak-gu</th>\n",
       "      <td>27070.243056</td>\n",
       "    </tr>\n",
       "    <tr>\n",
       "      <th>Eunpyeong-gu</th>\n",
       "      <td>29592.083333</td>\n",
       "    </tr>\n",
       "    <tr>\n",
       "      <th>Gangbuk-gu</th>\n",
       "      <td>20717.013889</td>\n",
       "    </tr>\n",
       "  </tbody>\n",
       "</table>\n",
       "</div>"
      ],
      "text/plain": [
       "                        Floating_population\n",
       "date     city                              \n",
       "20200201 Dobong-gu             20940.381944\n",
       "         Dongdaemun-gu         24316.875000\n",
       "         Dongjak-gu            27070.243056\n",
       "         Eunpyeong-gu          29592.083333\n",
       "         Gangbuk-gu            20717.013889"
      ]
     },
     "execution_count": 39,
     "metadata": {},
     "output_type": "execute_result"
    }
   ],
   "source": [
    "#일별 지역별 평균유동인구\n",
    "daily_float= sum_float.groupby(['date','city'])[['Floating_population']].mean()\n",
    "daily_float.head()"
   ]
  },
  {
   "cell_type": "code",
   "execution_count": 40,
   "metadata": {},
   "outputs": [
    {
     "data": {
      "text/html": [
       "<div>\n",
       "<style scoped>\n",
       "    .dataframe tbody tr th:only-of-type {\n",
       "        vertical-align: middle;\n",
       "    }\n",
       "\n",
       "    .dataframe tbody tr th {\n",
       "        vertical-align: top;\n",
       "    }\n",
       "\n",
       "    .dataframe thead th {\n",
       "        text-align: right;\n",
       "    }\n",
       "</style>\n",
       "<table border=\"1\" class=\"dataframe\">\n",
       "  <thead>\n",
       "    <tr style=\"text-align: right;\">\n",
       "      <th></th>\n",
       "      <th>city</th>\n",
       "      <th>Floating_population</th>\n",
       "    </tr>\n",
       "  </thead>\n",
       "  <tbody>\n",
       "    <tr>\n",
       "      <th>0</th>\n",
       "      <td>Dobong-gu</td>\n",
       "      <td>19653.355324</td>\n",
       "    </tr>\n",
       "    <tr>\n",
       "      <th>1</th>\n",
       "      <td>Dongdaemun-gu</td>\n",
       "      <td>24214.483796</td>\n",
       "    </tr>\n",
       "    <tr>\n",
       "      <th>2</th>\n",
       "      <td>Dongjak-gu</td>\n",
       "      <td>25890.785880</td>\n",
       "    </tr>\n",
       "    <tr>\n",
       "      <th>3</th>\n",
       "      <td>Eunpyeong-gu</td>\n",
       "      <td>27482.921296</td>\n",
       "    </tr>\n",
       "    <tr>\n",
       "      <th>4</th>\n",
       "      <td>Gangbuk-gu</td>\n",
       "      <td>19472.200231</td>\n",
       "    </tr>\n",
       "  </tbody>\n",
       "</table>\n",
       "</div>"
      ],
      "text/plain": [
       "            city  Floating_population\n",
       "0      Dobong-gu         19653.355324\n",
       "1  Dongdaemun-gu         24214.483796\n",
       "2     Dongjak-gu         25890.785880\n",
       "3   Eunpyeong-gu         27482.921296\n",
       "4     Gangbuk-gu         19472.200231"
      ]
     },
     "execution_count": 40,
     "metadata": {},
     "output_type": "execute_result"
    }
   ],
   "source": [
    "#monthly_float2_df (2 = 월)\n",
    "#2월 지역별 평균유동인구 추이\n",
    "monthly_float2=daily_float.loc[20200201:20200229].unstack().mean()\n",
    "#2월 지역별 평균유동인구 추이의 데이터프레임 변환\n",
    "monthly_float2_df= monthly_float2.to_frame().reset_index().drop(['level_0'],axis=1)\n",
    "monthly_float2_df.rename(columns = {'city':'city', 0:'Floating_population'}, inplace = True)\n",
    "\n",
    "#3월 지역별 평균유동인구 추이\n",
    "monthly_float3=daily_float.loc[20200301:20200331].unstack().mean()\n",
    "#3월 지역별 유동인구 추이의 데이터프레임 변환\n",
    "monthly_float3_df= monthly_float3.to_frame().reset_index().drop(['level_0'],axis=1)\n",
    "monthly_float3_df.rename(columns = {'city':'city', 0:'Floating_population'}, inplace = True)\n",
    "\n",
    "#4월 지역별 평균유동인구 추이\n",
    "monthly_float4=daily_float.loc[20200401:20200430].unstack().mean()\n",
    "#4월 지역별 평균유동인구 추이의 데이터프레임 변환\n",
    "monthly_float4_df= monthly_float4.to_frame().reset_index().drop(['level_0'],axis=1)\n",
    "monthly_float4_df.rename(columns = {'city':'city', 0:'Floating_population'}, inplace = True)\n",
    "\n",
    "#5월 지역별 평균유동인구 추이\n",
    "monthly_float5=daily_float.loc[20200501:20200531].unstack().mean()\n",
    "#5월 지역별 평균유동인구 추이의 데이터프레임 변환\n",
    "monthly_float5_df= monthly_float5.to_frame().reset_index().drop(['level_0'],axis=1)\n",
    "monthly_float5_df.rename(columns = {'city':'city', 0:'Floating_population'}, inplace = True)\n",
    "\n",
    "#6월 지역별 평균유동인구 추이\n",
    "monthly_float6=daily_float.loc[20200601:20200630].unstack().mean()\n",
    "#6월 지역별 평균유동인구 추이의 데이터프레임 변환\n",
    "monthly_float6_df= monthly_float6.to_frame().reset_index().drop(['level_0'],axis=1)\n",
    "monthly_float6_df.rename(columns = {'city':'city', 0:'Floating_population'}, inplace = True)\n",
    "\n",
    "monthly_float6_df.head()"
   ]
  },
  {
   "cell_type": "code",
   "execution_count": 41,
   "metadata": {},
   "outputs": [
    {
     "data": {
      "text/html": [
       "<div>\n",
       "<style scoped>\n",
       "    .dataframe tbody tr th:only-of-type {\n",
       "        vertical-align: middle;\n",
       "    }\n",
       "\n",
       "    .dataframe tbody tr th {\n",
       "        vertical-align: top;\n",
       "    }\n",
       "\n",
       "    .dataframe thead th {\n",
       "        text-align: right;\n",
       "    }\n",
       "</style>\n",
       "<table border=\"1\" class=\"dataframe\">\n",
       "  <thead>\n",
       "    <tr style=\"text-align: right;\">\n",
       "      <th></th>\n",
       "      <th>number</th>\n",
       "      <th>확진일</th>\n",
       "      <th>확진일.1</th>\n",
       "      <th>확진일1</th>\n",
       "      <th>date</th>\n",
       "      <th>환자번호</th>\n",
       "      <th>국적</th>\n",
       "      <th>환자정보</th>\n",
       "      <th>city</th>\n",
       "      <th>여행력</th>\n",
       "      <th>접촉력</th>\n",
       "      <th>조치사항</th>\n",
       "      <th>상태</th>\n",
       "      <th>이동경로</th>\n",
       "      <th>등록일</th>\n",
       "      <th>수정일</th>\n",
       "      <th>노출여부</th>\n",
       "    </tr>\n",
       "  </thead>\n",
       "  <tbody>\n",
       "    <tr>\n",
       "      <th>0</th>\n",
       "      <td>15356</td>\n",
       "      <td>12.21.</td>\n",
       "      <td>12-21-</td>\n",
       "      <td>12-21</td>\n",
       "      <td>2020-12-21</td>\n",
       "      <td>NaN</td>\n",
       "      <td>NaN</td>\n",
       "      <td>NaN</td>\n",
       "      <td>Eunpyeong-gu</td>\n",
       "      <td>NaN</td>\n",
       "      <td>기타 확진자 접촉</td>\n",
       "      <td>NaN</td>\n",
       "      <td>NaN</td>\n",
       "      <td>NaN</td>\n",
       "      <td>2020-12-22 10:35</td>\n",
       "      <td>2020-12-22 10:35</td>\n",
       "      <td>Y</td>\n",
       "    </tr>\n",
       "  </tbody>\n",
       "</table>\n",
       "</div>"
      ],
      "text/plain": [
       "   number     확진일   확진일.1   확진일1        date  환자번호  국적  환자정보          city  \\\n",
       "0   15356  12.21.  12-21-  12-21  2020-12-21   NaN NaN   NaN  Eunpyeong-gu   \n",
       "\n",
       "   여행력        접촉력  조치사항   상태 이동경로               등록일               수정일 노출여부  \n",
       "0  NaN  기타 확진자 접촉   NaN  NaN  NaN  2020-12-22 10:35  2020-12-22 10:35    Y  "
      ]
     },
     "execution_count": 41,
     "metadata": {},
     "output_type": "execute_result"
    }
   ],
   "source": [
    "confirmed.head(1)"
   ]
  },
  {
   "cell_type": "code",
   "execution_count": 42,
   "metadata": {
    "scrolled": true
   },
   "outputs": [
    {
     "data": {
      "text/html": [
       "<div>\n",
       "<style scoped>\n",
       "    .dataframe tbody tr th:only-of-type {\n",
       "        vertical-align: middle;\n",
       "    }\n",
       "\n",
       "    .dataframe tbody tr th {\n",
       "        vertical-align: top;\n",
       "    }\n",
       "\n",
       "    .dataframe thead th {\n",
       "        text-align: right;\n",
       "    }\n",
       "</style>\n",
       "<table border=\"1\" class=\"dataframe\">\n",
       "  <thead>\n",
       "    <tr style=\"text-align: right;\">\n",
       "      <th></th>\n",
       "      <th>date</th>\n",
       "      <th>number</th>\n",
       "      <th>city</th>\n",
       "    </tr>\n",
       "  </thead>\n",
       "  <tbody>\n",
       "    <tr>\n",
       "      <th>1310</th>\n",
       "      <td>2020-06-30</td>\n",
       "      <td>1317</td>\n",
       "      <td>Gwanak-gu</td>\n",
       "    </tr>\n",
       "    <tr>\n",
       "      <th>1311</th>\n",
       "      <td>2020-06-30</td>\n",
       "      <td>1316</td>\n",
       "      <td>Gwanak-gu</td>\n",
       "    </tr>\n",
       "    <tr>\n",
       "      <th>1312</th>\n",
       "      <td>2020-06-30</td>\n",
       "      <td>1315</td>\n",
       "      <td>Geumcheon-gu</td>\n",
       "    </tr>\n",
       "    <tr>\n",
       "      <th>1313</th>\n",
       "      <td>2020-06-30</td>\n",
       "      <td>1318</td>\n",
       "      <td>Gwanak-gu</td>\n",
       "    </tr>\n",
       "    <tr>\n",
       "      <th>1314</th>\n",
       "      <td>2020-06-30</td>\n",
       "      <td>1314</td>\n",
       "      <td>Mapo-gu</td>\n",
       "    </tr>\n",
       "  </tbody>\n",
       "</table>\n",
       "</div>"
      ],
      "text/plain": [
       "            date  number          city\n",
       "1310  2020-06-30    1317     Gwanak-gu\n",
       "1311  2020-06-30    1316     Gwanak-gu\n",
       "1312  2020-06-30    1315  Geumcheon-gu\n",
       "1313  2020-06-30    1318     Gwanak-gu\n",
       "1314  2020-06-30    1314       Mapo-gu"
      ]
     },
     "execution_count": 42,
     "metadata": {},
     "output_type": "execute_result"
    }
   ],
   "source": [
    "#서울시 지역별 확진자, 칼럼 요약, number= 환자번호\n",
    "sum_confirmed1=confirmed.drop(['환자번호','확진일','확진일.1','확진일1','국적','환자정보','여행력','접촉력','조치사항','상태','이동경로','등록일','수정일','노출여부'], axis=1).iloc[:15356]\n",
    "sum_confirmed=sum_confirmed1.set_index('date').sort_index().loc['2020-02-01':'2020-06-31'].reset_index()\n",
    "sum_confirmed.tail()"
   ]
  },
  {
   "cell_type": "code",
   "execution_count": 43,
   "metadata": {},
   "outputs": [
    {
     "data": {
      "text/html": [
       "<div>\n",
       "<style scoped>\n",
       "    .dataframe tbody tr th:only-of-type {\n",
       "        vertical-align: middle;\n",
       "    }\n",
       "\n",
       "    .dataframe tbody tr th {\n",
       "        vertical-align: top;\n",
       "    }\n",
       "\n",
       "    .dataframe thead th {\n",
       "        text-align: right;\n",
       "    }\n",
       "</style>\n",
       "<table border=\"1\" class=\"dataframe\">\n",
       "  <thead>\n",
       "    <tr style=\"text-align: right;\">\n",
       "      <th></th>\n",
       "      <th></th>\n",
       "      <th>number</th>\n",
       "    </tr>\n",
       "    <tr>\n",
       "      <th>date</th>\n",
       "      <th>city</th>\n",
       "      <th></th>\n",
       "    </tr>\n",
       "  </thead>\n",
       "  <tbody>\n",
       "    <tr>\n",
       "      <th>2020-02-16</th>\n",
       "      <th>Jongno-gu</th>\n",
       "      <td>2</td>\n",
       "    </tr>\n",
       "    <tr>\n",
       "      <th rowspan=\"2\" valign=\"top\">2020-02-19</th>\n",
       "      <th>Jongno-gu</th>\n",
       "      <td>1</td>\n",
       "    </tr>\n",
       "    <tr>\n",
       "      <th>Seongdong-gu</th>\n",
       "      <td>1</td>\n",
       "    </tr>\n",
       "    <tr>\n",
       "      <th>2020-02-2-</th>\n",
       "      <th>the others</th>\n",
       "      <td>1</td>\n",
       "    </tr>\n",
       "    <tr>\n",
       "      <th>2020-02-20</th>\n",
       "      <th>Gangnam-gu</th>\n",
       "      <td>1</td>\n",
       "    </tr>\n",
       "    <tr>\n",
       "      <th>...</th>\n",
       "      <th>...</th>\n",
       "      <td>...</td>\n",
       "    </tr>\n",
       "    <tr>\n",
       "      <th rowspan=\"5\" valign=\"top\">2020-06-30</th>\n",
       "      <th>Geumcheon-gu</th>\n",
       "      <td>1</td>\n",
       "    </tr>\n",
       "    <tr>\n",
       "      <th>Gwanak-gu</th>\n",
       "      <td>4</td>\n",
       "    </tr>\n",
       "    <tr>\n",
       "      <th>Mapo-gu</th>\n",
       "      <td>1</td>\n",
       "    </tr>\n",
       "    <tr>\n",
       "      <th>Seocho-gu</th>\n",
       "      <td>1</td>\n",
       "    </tr>\n",
       "    <tr>\n",
       "      <th>Yeongdeungpo-gu</th>\n",
       "      <td>2</td>\n",
       "    </tr>\n",
       "  </tbody>\n",
       "</table>\n",
       "<p>826 rows × 1 columns</p>\n",
       "</div>"
      ],
      "text/plain": [
       "                            number\n",
       "date       city                   \n",
       "2020-02-16 Jongno-gu             2\n",
       "2020-02-19 Jongno-gu             1\n",
       "           Seongdong-gu          1\n",
       "2020-02-2- the others            1\n",
       "2020-02-20 Gangnam-gu            1\n",
       "...                            ...\n",
       "2020-06-30 Geumcheon-gu          1\n",
       "           Gwanak-gu             4\n",
       "           Mapo-gu               1\n",
       "           Seocho-gu             1\n",
       "           Yeongdeungpo-gu       2\n",
       "\n",
       "[826 rows x 1 columns]"
      ]
     },
     "execution_count": 43,
     "metadata": {},
     "output_type": "execute_result"
    }
   ],
   "source": [
    "#2월1일부터 6월31일까지 일자별, 지역별 확진자수 , number = 확진자수\n",
    "confirmed_data = sum_confirmed.groupby(['date','city'])[['number']].count()\n",
    "confirmed_data"
   ]
  },
  {
   "cell_type": "code",
   "execution_count": 44,
   "metadata": {},
   "outputs": [
    {
     "data": {
      "text/html": [
       "<div>\n",
       "<style scoped>\n",
       "    .dataframe tbody tr th:only-of-type {\n",
       "        vertical-align: middle;\n",
       "    }\n",
       "\n",
       "    .dataframe tbody tr th {\n",
       "        vertical-align: top;\n",
       "    }\n",
       "\n",
       "    .dataframe thead th {\n",
       "        text-align: right;\n",
       "    }\n",
       "</style>\n",
       "<table border=\"1\" class=\"dataframe\">\n",
       "  <thead>\n",
       "    <tr style=\"text-align: right;\">\n",
       "      <th></th>\n",
       "      <th>city</th>\n",
       "      <th>number</th>\n",
       "    </tr>\n",
       "  </thead>\n",
       "  <tbody>\n",
       "    <tr>\n",
       "      <th>0</th>\n",
       "      <td>Dobong-gu</td>\n",
       "      <td>43.0</td>\n",
       "    </tr>\n",
       "    <tr>\n",
       "      <th>1</th>\n",
       "      <td>Dongdaemun-gu</td>\n",
       "      <td>4.0</td>\n",
       "    </tr>\n",
       "    <tr>\n",
       "      <th>2</th>\n",
       "      <td>Dongjak-gu</td>\n",
       "      <td>13.0</td>\n",
       "    </tr>\n",
       "    <tr>\n",
       "      <th>3</th>\n",
       "      <td>Eunpyeong-gu</td>\n",
       "      <td>18.0</td>\n",
       "    </tr>\n",
       "    <tr>\n",
       "      <th>4</th>\n",
       "      <td>Gangbuk-gu</td>\n",
       "      <td>10.0</td>\n",
       "    </tr>\n",
       "  </tbody>\n",
       "</table>\n",
       "</div>"
      ],
      "text/plain": [
       "            city  number\n",
       "0      Dobong-gu    43.0\n",
       "1  Dongdaemun-gu     4.0\n",
       "2     Dongjak-gu    13.0\n",
       "3   Eunpyeong-gu    18.0\n",
       "4     Gangbuk-gu    10.0"
      ]
     },
     "execution_count": 44,
     "metadata": {},
     "output_type": "execute_result"
    }
   ],
   "source": [
    "#monthly_confirmed2 (2=월)\n",
    "#2월 확진자수\n",
    "monthly_confirmed2 = confirmed_data.loc['2020-02-01':'2020-02-29'].unstack().sum().to_frame().reset_index().drop(['level_0'],axis=1)\n",
    "monthly_confirmed2.rename(columns = {'city':'city', 0:'number'}, inplace = True)\n",
    "\n",
    "#3월 확진자수\n",
    "monthly_confirmed3 = confirmed_data.loc['2020-03-01':'2020-03-31'].unstack().sum().to_frame().reset_index().drop(['level_0'],axis=1)\n",
    "monthly_confirmed3.rename(columns = {'city':'city', 0:'number'}, inplace = True)\n",
    "\n",
    "#4월 확진자수\n",
    "monthly_confirmed4 = confirmed_data.loc['2020-04-01':'2020-04-30'].unstack().sum().to_frame().reset_index().drop(['level_0'],axis=1)\n",
    "monthly_confirmed4.rename(columns = {'city':'city', 0:'number'}, inplace = True)\n",
    "\n",
    "#5월 확진자수\n",
    "monthly_confirmed5 = confirmed_data.loc['2020-05-01':'2020-05-31'].unstack().sum().to_frame().reset_index().drop(['level_0'],axis=1)\n",
    "monthly_confirmed5.rename(columns = {'city':'city', 0:'number'}, inplace = True)\n",
    "\n",
    "#6월 확진자수\n",
    "monthly_confirmed6 = confirmed_data.loc['2020-06-01':'2020-06-30'].unstack().sum().to_frame().reset_index().drop(['level_0'],axis=1)\n",
    "monthly_confirmed6.rename(columns = {'city':'city', 0:'number'}, inplace = True)\n",
    "\n",
    "monthly_confirmed6.head()"
   ]
  },
  {
   "cell_type": "code",
   "execution_count": 45,
   "metadata": {},
   "outputs": [
    {
     "data": {
      "text/html": [
       "<div>\n",
       "<style scoped>\n",
       "    .dataframe tbody tr th:only-of-type {\n",
       "        vertical-align: middle;\n",
       "    }\n",
       "\n",
       "    .dataframe tbody tr th {\n",
       "        vertical-align: top;\n",
       "    }\n",
       "\n",
       "    .dataframe thead th {\n",
       "        text-align: right;\n",
       "    }\n",
       "</style>\n",
       "<table border=\"1\" class=\"dataframe\">\n",
       "  <thead>\n",
       "    <tr style=\"text-align: right;\">\n",
       "      <th></th>\n",
       "      <th>Floating_population</th>\n",
       "      <th>number</th>\n",
       "    </tr>\n",
       "    <tr>\n",
       "      <th>city</th>\n",
       "      <th></th>\n",
       "      <th></th>\n",
       "    </tr>\n",
       "  </thead>\n",
       "  <tbody>\n",
       "    <tr>\n",
       "      <th>Dobong-gu</th>\n",
       "      <td>19653.355324</td>\n",
       "      <td>43.0</td>\n",
       "    </tr>\n",
       "    <tr>\n",
       "      <th>Dongdaemun-gu</th>\n",
       "      <td>24214.483796</td>\n",
       "      <td>4.0</td>\n",
       "    </tr>\n",
       "    <tr>\n",
       "      <th>Dongjak-gu</th>\n",
       "      <td>25890.785880</td>\n",
       "      <td>13.0</td>\n",
       "    </tr>\n",
       "    <tr>\n",
       "      <th>Eunpyeong-gu</th>\n",
       "      <td>27482.921296</td>\n",
       "      <td>18.0</td>\n",
       "    </tr>\n",
       "    <tr>\n",
       "      <th>Gangbuk-gu</th>\n",
       "      <td>19472.200231</td>\n",
       "      <td>10.0</td>\n",
       "    </tr>\n",
       "  </tbody>\n",
       "</table>\n",
       "</div>"
      ],
      "text/plain": [
       "               Floating_population  number\n",
       "city                                      \n",
       "Dobong-gu             19653.355324    43.0\n",
       "Dongdaemun-gu         24214.483796     4.0\n",
       "Dongjak-gu            25890.785880    13.0\n",
       "Eunpyeong-gu          27482.921296    18.0\n",
       "Gangbuk-gu            19472.200231    10.0"
      ]
     },
     "execution_count": 45,
     "metadata": {},
     "output_type": "execute_result"
    }
   ],
   "source": [
    "#2월부터 6월까지 각월 총인구이동량과 확진자수\n",
    "month2 = monthly_float2_df.combine_first(monthly_confirmed2).fillna(0).set_index('city')\n",
    "month3 = monthly_float3_df.combine_first(monthly_confirmed3).fillna(0).set_index('city').drop('the others')\n",
    "month4 = monthly_float4_df.combine_first(monthly_confirmed4).fillna(0).set_index('city')\n",
    "month5 = monthly_float5_df.combine_first(monthly_confirmed5).fillna(0).set_index('city').drop('the others')\n",
    "month6 = monthly_float6_df.combine_first(monthly_confirmed6).fillna(0).set_index('city').drop('the others')\n",
    "month6.head()"
   ]
  },
  {
   "cell_type": "markdown",
   "metadata": {},
   "source": [
    "# 확진자와 유동인구 상관관계"
   ]
  },
  {
   "cell_type": "code",
   "execution_count": 46,
   "metadata": {},
   "outputs": [
    {
     "data": {
      "text/plain": [
       "<matplotlib.axes._subplots.AxesSubplot at 0x244b0b09d30>"
      ]
     },
     "execution_count": 46,
     "metadata": {},
     "output_type": "execute_result"
    },
    {
     "data": {
      "image/png": "[encoded data removed]",
      "text/plain": [
       "<Figure size 432x288 with 1 Axes>"
      ]
     },
     "metadata": {
      "needs_background": "light"
     },
     "output_type": "display_data"
    }
   ],
   "source": [
    "#2월 확진자와 유동인구의 상관관계\n",
    "sns.regplot(data = month2, x = 'Floating_population', y = 'number', scatter_kws = {'s':1})"
   ]
  },
  {
   "cell_type": "code",
   "execution_count": 53,
   "metadata": {},
   "outputs": [
    {
     "data": {
      "text/html": [
       "<div>\n",
       "<style scoped>\n",
       "    .dataframe tbody tr th:only-of-type {\n",
       "        vertical-align: middle;\n",
       "    }\n",
       "\n",
       "    .dataframe tbody tr th {\n",
       "        vertical-align: top;\n",
       "    }\n",
       "\n",
       "    .dataframe thead th {\n",
       "        text-align: right;\n",
       "    }\n",
       "</style>\n",
       "<table border=\"1\" class=\"dataframe\">\n",
       "  <thead>\n",
       "    <tr style=\"text-align: right;\">\n",
       "      <th></th>\n",
       "      <th>Floating_population</th>\n",
       "      <th>number</th>\n",
       "    </tr>\n",
       "  </thead>\n",
       "  <tbody>\n",
       "    <tr>\n",
       "      <th>Floating_population</th>\n",
       "      <td>1.000000</td>\n",
       "      <td>-0.115482</td>\n",
       "    </tr>\n",
       "    <tr>\n",
       "      <th>number</th>\n",
       "      <td>-0.115482</td>\n",
       "      <td>1.000000</td>\n",
       "    </tr>\n",
       "  </tbody>\n",
       "</table>\n",
       "</div>"
      ],
      "text/plain": [
       "                     Floating_population    number\n",
       "Floating_population             1.000000 -0.115482\n",
       "number                         -0.115482  1.000000"
      ]
     },
     "execution_count": 53,
     "metadata": {},
     "output_type": "execute_result"
    }
   ],
   "source": [
    "month2.corr()"
   ]
  },
  {
   "cell_type": "code",
   "execution_count": 47,
   "metadata": {},
   "outputs": [
    {
     "data": {
      "text/plain": [
       "<matplotlib.axes._subplots.AxesSubplot at 0x244b95b2c10>"
      ]
     },
     "execution_count": 47,
     "metadata": {},
     "output_type": "execute_result"
    },
    {
     "data": {
      "image/png": "[encoded data removed]",
      "text/plain": [
       "<Figure size 432x288 with 1 Axes>"
      ]
     },
     "metadata": {
      "needs_background": "light"
     },
     "output_type": "display_data"
    }
   ],
   "source": [
    "#3월 확진자와 유동인구의 상관관계\n",
    "sns.regplot(data = month3, x = 'Floating_population', y = 'number', scatter_kws = {'s':1})"
   ]
  },
  {
   "cell_type": "code",
   "execution_count": 54,
   "metadata": {},
   "outputs": [
    {
     "data": {
      "text/html": [
       "<div>\n",
       "<style scoped>\n",
       "    .dataframe tbody tr th:only-of-type {\n",
       "        vertical-align: middle;\n",
       "    }\n",
       "\n",
       "    .dataframe tbody tr th {\n",
       "        vertical-align: top;\n",
       "    }\n",
       "\n",
       "    .dataframe thead th {\n",
       "        text-align: right;\n",
       "    }\n",
       "</style>\n",
       "<table border=\"1\" class=\"dataframe\">\n",
       "  <thead>\n",
       "    <tr style=\"text-align: right;\">\n",
       "      <th></th>\n",
       "      <th>Floating_population</th>\n",
       "      <th>number</th>\n",
       "    </tr>\n",
       "  </thead>\n",
       "  <tbody>\n",
       "    <tr>\n",
       "      <th>Floating_population</th>\n",
       "      <td>1.000000</td>\n",
       "      <td>0.701544</td>\n",
       "    </tr>\n",
       "    <tr>\n",
       "      <th>number</th>\n",
       "      <td>0.701544</td>\n",
       "      <td>1.000000</td>\n",
       "    </tr>\n",
       "  </tbody>\n",
       "</table>\n",
       "</div>"
      ],
      "text/plain": [
       "                     Floating_population    number\n",
       "Floating_population             1.000000  0.701544\n",
       "number                          0.701544  1.000000"
      ]
     },
     "execution_count": 54,
     "metadata": {},
     "output_type": "execute_result"
    }
   ],
   "source": [
    "month3.corr()"
   ]
  },
  {
   "cell_type": "code",
   "execution_count": 48,
   "metadata": {
    "scrolled": true
   },
   "outputs": [
    {
     "data": {
      "text/plain": [
       "<matplotlib.axes._subplots.AxesSubplot at 0x244b4955760>"
      ]
     },
     "execution_count": 48,
     "metadata": {},
     "output_type": "execute_result"
    },
    {
     "data": {
      "image/png": "[encoded data removed]",
      "text/plain": [
       "<Figure size 432x288 with 1 Axes>"
      ]
     },
     "metadata": {
      "needs_background": "light"
     },
     "output_type": "display_data"
    }
   ],
   "source": [
    "#4월 확진자와 유동인구의 상관관계\n",
    "sns.regplot(data = month4, x = 'Floating_population', y = 'number', scatter_kws = {'s':1})"
   ]
  },
  {
   "cell_type": "code",
   "execution_count": 55,
   "metadata": {},
   "outputs": [
    {
     "data": {
      "text/html": [
       "<div>\n",
       "<style scoped>\n",
       "    .dataframe tbody tr th:only-of-type {\n",
       "        vertical-align: middle;\n",
       "    }\n",
       "\n",
       "    .dataframe tbody tr th {\n",
       "        vertical-align: top;\n",
       "    }\n",
       "\n",
       "    .dataframe thead th {\n",
       "        text-align: right;\n",
       "    }\n",
       "</style>\n",
       "<table border=\"1\" class=\"dataframe\">\n",
       "  <thead>\n",
       "    <tr style=\"text-align: right;\">\n",
       "      <th></th>\n",
       "      <th>Floating_population</th>\n",
       "      <th>number</th>\n",
       "    </tr>\n",
       "  </thead>\n",
       "  <tbody>\n",
       "    <tr>\n",
       "      <th>Floating_population</th>\n",
       "      <td>1.00000</td>\n",
       "      <td>-0.15556</td>\n",
       "    </tr>\n",
       "    <tr>\n",
       "      <th>number</th>\n",
       "      <td>-0.15556</td>\n",
       "      <td>1.00000</td>\n",
       "    </tr>\n",
       "  </tbody>\n",
       "</table>\n",
       "</div>"
      ],
      "text/plain": [
       "                     Floating_population   number\n",
       "Floating_population              1.00000 -0.15556\n",
       "number                          -0.15556  1.00000"
      ]
     },
     "execution_count": 55,
     "metadata": {},
     "output_type": "execute_result"
    }
   ],
   "source": [
    "month4.corr()"
   ]
  },
  {
   "cell_type": "code",
   "execution_count": 49,
   "metadata": {},
   "outputs": [
    {
     "data": {
      "text/plain": [
       "<matplotlib.axes._subplots.AxesSubplot at 0x244b4995820>"
      ]
     },
     "execution_count": 49,
     "metadata": {},
     "output_type": "execute_result"
    },
    {
     "data": {
      "image/png": "[encoded data removed]",
      "text/plain": [
       "<Figure size 432x288 with 1 Axes>"
      ]
     },
     "metadata": {
      "needs_background": "light"
     },
     "output_type": "display_data"
    }
   ],
   "source": [
    "#5월 확진자와 유동인구의 상관관계\n",
    "sns.regplot(data = month5, x = 'Floating_population', y = 'number', scatter_kws = {'s':1})"
   ]
  },
  {
   "cell_type": "code",
   "execution_count": 56,
   "metadata": {},
   "outputs": [
    {
     "data": {
      "text/html": [
       "<div>\n",
       "<style scoped>\n",
       "    .dataframe tbody tr th:only-of-type {\n",
       "        vertical-align: middle;\n",
       "    }\n",
       "\n",
       "    .dataframe tbody tr th {\n",
       "        vertical-align: top;\n",
       "    }\n",
       "\n",
       "    .dataframe thead th {\n",
       "        text-align: right;\n",
       "    }\n",
       "</style>\n",
       "<table border=\"1\" class=\"dataframe\">\n",
       "  <thead>\n",
       "    <tr style=\"text-align: right;\">\n",
       "      <th></th>\n",
       "      <th>Floating_population</th>\n",
       "      <th>number</th>\n",
       "    </tr>\n",
       "  </thead>\n",
       "  <tbody>\n",
       "    <tr>\n",
       "      <th>Floating_population</th>\n",
       "      <td>1.000000</td>\n",
       "      <td>0.182849</td>\n",
       "    </tr>\n",
       "    <tr>\n",
       "      <th>number</th>\n",
       "      <td>0.182849</td>\n",
       "      <td>1.000000</td>\n",
       "    </tr>\n",
       "  </tbody>\n",
       "</table>\n",
       "</div>"
      ],
      "text/plain": [
       "                     Floating_population    number\n",
       "Floating_population             1.000000  0.182849\n",
       "number                          0.182849  1.000000"
      ]
     },
     "execution_count": 56,
     "metadata": {},
     "output_type": "execute_result"
    }
   ],
   "source": [
    "month5.corr()"
   ]
  },
  {
   "cell_type": "code",
   "execution_count": 51,
   "metadata": {
    "scrolled": true
   },
   "outputs": [
    {
     "data": {
      "text/plain": [
       "<matplotlib.axes._subplots.AxesSubplot at 0x244b546e700>"
      ]
     },
     "execution_count": 51,
     "metadata": {},
     "output_type": "execute_result"
    },
    {
     "data": {
      "image/png": "[encoded data removed]",
      "text/plain": [
       "<Figure size 432x288 with 1 Axes>"
      ]
     },
     "metadata": {
      "needs_background": "light"
     },
     "output_type": "display_data"
    }
   ],
   "source": [
    "#6월 확진자와 유동인구의 상관관계\n",
    "sns.regplot(data = month6, x = 'Floating_population', y = 'number', scatter_kws = {'s':1})"
   ]
  },
  {
   "cell_type": "code",
   "execution_count": 57,
   "metadata": {},
   "outputs": [
    {
     "data": {
      "text/html": [
       "<div>\n",
       "<style scoped>\n",
       "    .dataframe tbody tr th:only-of-type {\n",
       "        vertical-align: middle;\n",
       "    }\n",
       "\n",
       "    .dataframe tbody tr th {\n",
       "        vertical-align: top;\n",
       "    }\n",
       "\n",
       "    .dataframe thead th {\n",
       "        text-align: right;\n",
       "    }\n",
       "</style>\n",
       "<table border=\"1\" class=\"dataframe\">\n",
       "  <thead>\n",
       "    <tr style=\"text-align: right;\">\n",
       "      <th></th>\n",
       "      <th>Floating_population</th>\n",
       "      <th>number</th>\n",
       "    </tr>\n",
       "  </thead>\n",
       "  <tbody>\n",
       "    <tr>\n",
       "      <th>Floating_population</th>\n",
       "      <td>1.000000</td>\n",
       "      <td>0.132728</td>\n",
       "    </tr>\n",
       "    <tr>\n",
       "      <th>number</th>\n",
       "      <td>0.132728</td>\n",
       "      <td>1.000000</td>\n",
       "    </tr>\n",
       "  </tbody>\n",
       "</table>\n",
       "</div>"
      ],
      "text/plain": [
       "                     Floating_population    number\n",
       "Floating_population             1.000000  0.132728\n",
       "number                          0.132728  1.000000"
      ]
     },
     "execution_count": 57,
     "metadata": {},
     "output_type": "execute_result"
    }
   ],
   "source": [
    "month6.corr()"
   ]
  },
  {
   "cell_type": "markdown",
   "metadata": {},
   "source": [
    "각 월별로 상관관계가 모두 고르지 않고 변동이 심하여 상관관계가 미미하다고 판단된다."
   ]
  },
  {
   "cell_type": "markdown",
   "metadata": {},
   "source": [
    "## 지역별 한달 평균 유동인구수와 코로나 확진자수 그래프\n",
    "가시적인 데이터를 통해 통계량을 알아보자."
   ]
  },
  {
   "cell_type": "code",
   "execution_count": 17,
   "metadata": {},
   "outputs": [
    {
     "data": {
      "text/plain": [
       "<matplotlib.legend.Legend at 0x244b3cac190>"
      ]
     },
     "execution_count": 17,
     "metadata": {},
     "output_type": "execute_result"
    },
    {
     "data": {
      "image/png": "[encoded data removed]",
      "text/plain": [
       "<Figure size 1800x504 with 4 Axes>"
      ]
     },
     "metadata": {
      "needs_background": "light"
     },
     "output_type": "display_data"
    }
   ],
   "source": [
    "#2월부터 6월까지 평균 유동인구수와 확진자 수 분석\n",
    "fig, axes = plt.subplots(1,2, figsize= (25, 7))\n",
    "#2월\n",
    "month2[\"Floating_population\"].plot(ax=axes[0], kind = 'bar', ylim = [10000, 50000], color ='c')\n",
    "axes01 = axes[0].twinx()\n",
    "month2[\"number\"].plot(ax= axes01, kind = 'line', color = 'r', ylim = [0,60],label='confirmed_number')\n",
    "axes[0].set_title('February')\n",
    "axes[0].set_ylabel('Floating_population')\n",
    "axes01.set_ylabel('confirmed_number')\n",
    "axes[0].legend(loc='upper left')\n",
    "plt.legend()\n",
    "#3월\n",
    "month3[\"Floating_population\"].plot(ax=axes[1], kind = 'bar', ylim = [10000, 50000],color ='c')\n",
    "axes11 = axes[1].twinx()\n",
    "month3[\"number\"].plot(ax= axes11, kind = 'line', color = 'r', ylim = [0,60],label='confirmed_number')\n",
    "axes[1].set_title('March')\n",
    "axes[1].set_ylabel('Floating_population')\n",
    "axes11.set_ylabel('confirmed_number')\n",
    "axes[1].legend(loc='upper left')\n",
    "plt.legend()"
   ]
  },
  {
   "cell_type": "code",
   "execution_count": 18,
   "metadata": {},
   "outputs": [
    {
     "data": {
      "text/plain": [
       "<matplotlib.legend.Legend at 0x244b4a48700>"
      ]
     },
     "execution_count": 18,
     "metadata": {},
     "output_type": "execute_result"
    },
    {
     "data": {
      "image/png": "[encoded data removed]",
      "text/plain": [
       "<Figure size 1800x504 with 4 Axes>"
      ]
     },
     "metadata": {
      "needs_background": "light"
     },
     "output_type": "display_data"
    }
   ],
   "source": [
    "fig, axes = plt.subplots(1,2, figsize= (25, 7))\n",
    "#4월\n",
    "month4[\"Floating_population\"].plot(ax=axes[0], kind = 'bar', ylim = [10000, 50000],color ='c',label= 'Floating_population')\n",
    "axes01 = axes[0].twinx()\n",
    "month4[\"number\"].plot(ax= axes01, kind = 'line', color = 'r', ylim = [0,60],label='confirmed_number')\n",
    "axes[0].set_title('April')\n",
    "axes[0].set_ylabel('Floating_population')\n",
    "axes01.set_ylabel('confirmed_number')\n",
    "axes[0].legend(loc='upper left')\n",
    "plt.legend()\n",
    "#5월\n",
    "month5[\"Floating_population\"].plot(ax=axes[1], kind = 'bar',ylim = [10000, 50000],color ='c',label= 'Floating_population')\n",
    "axes11 = axes[1].twinx()\n",
    "month5[\"number\"].plot(ax= axes11, kind = 'line', color = 'r',ylim = [0,60],label='confirmed_number')\n",
    "axes[1].set_title('May')\n",
    "axes[1].set_ylabel('Floating_population')\n",
    "axes11.set_ylabel('confirmed_number')\n",
    "axes[1].legend(loc='upper left')\n",
    "plt.legend()"
   ]
  },
  {
   "cell_type": "code",
   "execution_count": 19,
   "metadata": {
    "scrolled": false
   },
   "outputs": [
    {
     "data": {
      "text/plain": [
       "<matplotlib.legend.Legend at 0x244b4b330a0>"
      ]
     },
     "execution_count": 19,
     "metadata": {},
     "output_type": "execute_result"
    },
    {
     "data": {
      "image/png": "[encoded data removed]",
      "text/plain": [
       "<Figure size 1800x504 with 3 Axes>"
      ]
     },
     "metadata": {
      "needs_background": "light"
     },
     "output_type": "display_data"
    }
   ],
   "source": [
    "fig, axes = plt.subplots(1,2,figsize= (25, 7))\n",
    "\n",
    "#6월\n",
    "month6[\"Floating_population\"].plot(ax=axes[0], kind = 'bar',ylim = [10000, 50000],color ='c', label= 'Floating_population')\n",
    "axes01 = axes[0].twinx()\n",
    "month6[\"number\"].plot(ax= axes01, kind = 'line', color = 'r',ylim = [0,60], label='confirmed_number')\n",
    "axes[0].set_title('June')\n",
    "axes[0].set_ylabel('Floating_population')\n",
    "axes01.set_ylabel('confirmed_number')\n",
    "axes[0].legend(loc='upper left')\n",
    "plt.legend()"
   ]
  },
  {
   "cell_type": "markdown",
   "metadata": {},
   "source": [
    "## 분석결과(지역별 한달 평균 유동인구수와 코로나 확진자수)"
   ]
  },
  {
   "cell_type": "markdown",
   "metadata": {},
   "source": [
    "2월,3월,4월,5월,6월의 지역별 평균 유동인구수와 코로나 확진자수를 분석했습니다.\n",
    "평균 유동인구수가 높은 지역에 코로나 확진자가 많을 것이라고 예상했습니다.\n",
    "분석결과, 지역별 평균 유동인구수가 높은 지역에서 코로나확진자가 많을 때도 보이지만, 그 상관관계가 크지 않아보입니다.\n",
    "따라서, 지역별 평균 유동인구수와 코로나 확진자수는 그 상관관계가 크지않고, 오히려 다른 변수들에 의해 크게 영향을 받는 것으로 생각됩니다."
   ]
  },
  {
   "cell_type": "code",
   "execution_count": 20,
   "metadata": {},
   "outputs": [
    {
     "data": {
      "text/html": [
       "<div>\n",
       "<style scoped>\n",
       "    .dataframe tbody tr th:only-of-type {\n",
       "        vertical-align: middle;\n",
       "    }\n",
       "\n",
       "    .dataframe tbody tr th {\n",
       "        vertical-align: top;\n",
       "    }\n",
       "\n",
       "    .dataframe thead th {\n",
       "        text-align: right;\n",
       "    }\n",
       "</style>\n",
       "<table border=\"1\" class=\"dataframe\">\n",
       "  <thead>\n",
       "    <tr style=\"text-align: right;\">\n",
       "      <th></th>\n",
       "      <th>number</th>\n",
       "    </tr>\n",
       "    <tr>\n",
       "      <th>date</th>\n",
       "      <th></th>\n",
       "    </tr>\n",
       "  </thead>\n",
       "  <tbody>\n",
       "    <tr>\n",
       "      <th>2020-02-16</th>\n",
       "      <td>2</td>\n",
       "    </tr>\n",
       "    <tr>\n",
       "      <th>2020-02-19</th>\n",
       "      <td>4</td>\n",
       "    </tr>\n",
       "    <tr>\n",
       "      <th>2020-02-2-</th>\n",
       "      <td>5</td>\n",
       "    </tr>\n",
       "    <tr>\n",
       "      <th>2020-02-20</th>\n",
       "      <td>10</td>\n",
       "    </tr>\n",
       "    <tr>\n",
       "      <th>2020-02-21</th>\n",
       "      <td>12</td>\n",
       "    </tr>\n",
       "  </tbody>\n",
       "</table>\n",
       "</div>"
      ],
      "text/plain": [
       "            number\n",
       "date              \n",
       "2020-02-16       2\n",
       "2020-02-19       4\n",
       "2020-02-2-       5\n",
       "2020-02-20      10\n",
       "2020-02-21      12"
      ]
     },
     "execution_count": 20,
     "metadata": {},
     "output_type": "execute_result"
    }
   ],
   "source": [
    "#서울시내 일별 누적확진자수, number = 누적확진자수\n",
    "daily_confirmed = sum_confirmed.groupby('date')[['number']].count().cumsum()\n",
    "daily_confirmed.head()"
   ]
  },
  {
   "cell_type": "code",
   "execution_count": 52,
   "metadata": {},
   "outputs": [
    {
     "data": {
      "text/html": [
       "<div>\n",
       "<style scoped>\n",
       "    .dataframe tbody tr th:only-of-type {\n",
       "        vertical-align: middle;\n",
       "    }\n",
       "\n",
       "    .dataframe tbody tr th {\n",
       "        vertical-align: top;\n",
       "    }\n",
       "\n",
       "    .dataframe thead th {\n",
       "        text-align: right;\n",
       "    }\n",
       "</style>\n",
       "<table border=\"1\" class=\"dataframe\">\n",
       "  <thead>\n",
       "    <tr style=\"text-align: right;\">\n",
       "      <th></th>\n",
       "      <th>Floating_population</th>\n",
       "      <th>day</th>\n",
       "    </tr>\n",
       "    <tr>\n",
       "      <th>date</th>\n",
       "      <th></th>\n",
       "      <th></th>\n",
       "    </tr>\n",
       "  </thead>\n",
       "  <tbody>\n",
       "    <tr>\n",
       "      <th>20200201</th>\n",
       "      <td>27145.294444</td>\n",
       "      <td>2020-02-01</td>\n",
       "    </tr>\n",
       "    <tr>\n",
       "      <th>20200202</th>\n",
       "      <td>26824.380556</td>\n",
       "      <td>2020-02-02</td>\n",
       "    </tr>\n",
       "    <tr>\n",
       "      <th>20200203</th>\n",
       "      <td>27886.648611</td>\n",
       "      <td>2020-02-03</td>\n",
       "    </tr>\n",
       "    <tr>\n",
       "      <th>20200204</th>\n",
       "      <td>27889.215278</td>\n",
       "      <td>2020-02-04</td>\n",
       "    </tr>\n",
       "    <tr>\n",
       "      <th>20200205</th>\n",
       "      <td>27880.240278</td>\n",
       "      <td>2020-02-05</td>\n",
       "    </tr>\n",
       "  </tbody>\n",
       "</table>\n",
       "</div>"
      ],
      "text/plain": [
       "          Floating_population         day\n",
       "date                                     \n",
       "20200201         27145.294444  2020-02-01\n",
       "20200202         26824.380556  2020-02-02\n",
       "20200203         27886.648611  2020-02-03\n",
       "20200204         27889.215278  2020-02-04\n",
       "20200205         27880.240278  2020-02-05"
      ]
     },
     "execution_count": 52,
     "metadata": {},
     "output_type": "execute_result"
    }
   ],
   "source": [
    "#date를 문자로 바꾸기 위함(두 pandas의 결합을 원활하게 하기위해)\n",
    "f1=f.reset_index()\n",
    "f1_list = f1['date'].tolist()\n",
    "f2 =[]\n",
    "for i in f1_list:\n",
    "    a = str(i)[0:4]+'-'+str(i)[4:6]+'-'+str(i)[6:8]\n",
    "    f2.append(a)\n",
    "    \n",
    "f[\"day\"]= f2\n",
    "f.head()"
   ]
  },
  {
   "cell_type": "code",
   "execution_count": 22,
   "metadata": {},
   "outputs": [
    {
     "data": {
      "text/html": [
       "<div>\n",
       "<style scoped>\n",
       "    .dataframe tbody tr th:only-of-type {\n",
       "        vertical-align: middle;\n",
       "    }\n",
       "\n",
       "    .dataframe tbody tr th {\n",
       "        vertical-align: top;\n",
       "    }\n",
       "\n",
       "    .dataframe thead th {\n",
       "        text-align: right;\n",
       "    }\n",
       "</style>\n",
       "<table border=\"1\" class=\"dataframe\">\n",
       "  <thead>\n",
       "    <tr style=\"text-align: right;\">\n",
       "      <th></th>\n",
       "      <th>Floating_population</th>\n",
       "    </tr>\n",
       "    <tr>\n",
       "      <th>day</th>\n",
       "      <th></th>\n",
       "    </tr>\n",
       "  </thead>\n",
       "  <tbody>\n",
       "    <tr>\n",
       "      <th>2020-02-01</th>\n",
       "      <td>27145.294444</td>\n",
       "    </tr>\n",
       "    <tr>\n",
       "      <th>2020-02-02</th>\n",
       "      <td>26824.380556</td>\n",
       "    </tr>\n",
       "    <tr>\n",
       "      <th>2020-02-03</th>\n",
       "      <td>27886.648611</td>\n",
       "    </tr>\n",
       "    <tr>\n",
       "      <th>2020-02-04</th>\n",
       "      <td>27889.215278</td>\n",
       "    </tr>\n",
       "    <tr>\n",
       "      <th>2020-02-05</th>\n",
       "      <td>27880.240278</td>\n",
       "    </tr>\n",
       "    <tr>\n",
       "      <th>...</th>\n",
       "      <td>...</td>\n",
       "    </tr>\n",
       "    <tr>\n",
       "      <th>2020-06-26</th>\n",
       "      <td>27547.380556</td>\n",
       "    </tr>\n",
       "    <tr>\n",
       "      <th>2020-06-27</th>\n",
       "      <td>26276.615278</td>\n",
       "    </tr>\n",
       "    <tr>\n",
       "      <th>2020-06-28</th>\n",
       "      <td>26048.809722</td>\n",
       "    </tr>\n",
       "    <tr>\n",
       "      <th>2020-06-29</th>\n",
       "      <td>27587.784722</td>\n",
       "    </tr>\n",
       "    <tr>\n",
       "      <th>2020-06-30</th>\n",
       "      <td>27981.143056</td>\n",
       "    </tr>\n",
       "  </tbody>\n",
       "</table>\n",
       "<p>150 rows × 1 columns</p>\n",
       "</div>"
      ],
      "text/plain": [
       "            Floating_population\n",
       "day                            \n",
       "2020-02-01         27145.294444\n",
       "2020-02-02         26824.380556\n",
       "2020-02-03         27886.648611\n",
       "2020-02-04         27889.215278\n",
       "2020-02-05         27880.240278\n",
       "...                         ...\n",
       "2020-06-26         27547.380556\n",
       "2020-06-27         26276.615278\n",
       "2020-06-28         26048.809722\n",
       "2020-06-29         27587.784722\n",
       "2020-06-30         27981.143056\n",
       "\n",
       "[150 rows x 1 columns]"
      ]
     },
     "execution_count": 22,
     "metadata": {},
     "output_type": "execute_result"
    }
   ],
   "source": [
    "#서울시 유동인구 평균\n",
    "seoul_floating=f.reset_index().drop('date', axis=1).set_index('day')\n",
    "seoul_floating"
   ]
  },
  {
   "cell_type": "markdown",
   "metadata": {},
   "source": [
    "## 서울시내 코로나 누적확진자수와 서울시내 유동인구수 그래프"
   ]
  },
  {
   "cell_type": "code",
   "execution_count": 23,
   "metadata": {},
   "outputs": [
    {
     "data": {
      "image/png": "[encoded data removed]",
      "text/plain": [
       "<Figure size 1800x504 with 2 Axes>"
      ]
     },
     "metadata": {
      "needs_background": "light"
     },
     "output_type": "display_data"
    }
   ],
   "source": [
    "#유동인구와 코로나누적환지자 그래프\n",
    "fig, axes = plt.subplots(1,1, figsize= (25, 7))\n",
    "daily_confirmed.plot(ax= axes,kind='line',color ='c', label = 'confirmed_number')\n",
    "axes01 = axes.twinx()\n",
    "seoul_floating.plot(ax= axes01, kind = 'line', color = 'r', label= 'Floating_number')\n",
    "axes.set_title('floating_population and confirmed population')\n",
    "axes.set_ylabel('confirmed_number')\n",
    "axes01.set_ylabel('Floating_number')\n",
    "axes.legend(loc='upper left')\n",
    "plt.show()"
   ]
  },
  {
   "cell_type": "markdown",
   "metadata": {},
   "source": [
    "## 분석결과(서울시내 코로나 누적확진자수와 서울시내 유동인구수)"
   ]
  },
  {
   "cell_type": "markdown",
   "metadata": {},
   "source": [
    "서울시내 코로나 누적확진자수와 서울시내 유동인구수를 분석했습니다.\n",
    "코로나 누적확진자수가 증가할수록 사회적거리두기 강화로 유동인구가 감소할 것이라고 예상했습니다.\n",
    "하지만, 분석결과 일시적으로 2월에 큰폭의 증가, 3월의 큰폭의 감소가 있었지만, 대체적으로 서울시내 유동인구의 변화는 크지 않았습니다.\n",
    "따라서, 코로나확진자수의 증가는 정부의 사회적거리두기 강화에도 불구하고, 서울시내 유동인구의 큰 영향을 주지 못한것으로 생각됩니다."
   ]
  },
  {
   "cell_type": "code",
   "execution_count": 58,
   "metadata": {},
   "outputs": [
    {
     "data": {
      "text/html": [
       "<div>\n",
       "<style scoped>\n",
       "    .dataframe tbody tr th:only-of-type {\n",
       "        vertical-align: middle;\n",
       "    }\n",
       "\n",
       "    .dataframe tbody tr th {\n",
       "        vertical-align: top;\n",
       "    }\n",
       "\n",
       "    .dataframe thead th {\n",
       "        text-align: right;\n",
       "    }\n",
       "</style>\n",
       "<table border=\"1\" class=\"dataframe\">\n",
       "  <thead>\n",
       "    <tr style=\"text-align: right;\">\n",
       "      <th></th>\n",
       "      <th>policy_id</th>\n",
       "      <th>country</th>\n",
       "      <th>type</th>\n",
       "      <th>gov_policy</th>\n",
       "      <th>detail</th>\n",
       "      <th>start_date</th>\n",
       "      <th>end_date</th>\n",
       "    </tr>\n",
       "  </thead>\n",
       "  <tbody>\n",
       "    <tr>\n",
       "      <th>0</th>\n",
       "      <td>1</td>\n",
       "      <td>Korea</td>\n",
       "      <td>Alert</td>\n",
       "      <td>Infectious Disease Alert Level</td>\n",
       "      <td>Level 1 (Blue)</td>\n",
       "      <td>2020-01-03</td>\n",
       "      <td>2020-01-19</td>\n",
       "    </tr>\n",
       "    <tr>\n",
       "      <th>1</th>\n",
       "      <td>2</td>\n",
       "      <td>Korea</td>\n",
       "      <td>Alert</td>\n",
       "      <td>Infectious Disease Alert Level</td>\n",
       "      <td>Level 2 (Yellow)</td>\n",
       "      <td>2020-01-20</td>\n",
       "      <td>2020-01-27</td>\n",
       "    </tr>\n",
       "    <tr>\n",
       "      <th>2</th>\n",
       "      <td>3</td>\n",
       "      <td>Korea</td>\n",
       "      <td>Alert</td>\n",
       "      <td>Infectious Disease Alert Level</td>\n",
       "      <td>Level 3 (Orange)</td>\n",
       "      <td>2020-01-28</td>\n",
       "      <td>2020-02-22</td>\n",
       "    </tr>\n",
       "    <tr>\n",
       "      <th>3</th>\n",
       "      <td>4</td>\n",
       "      <td>Korea</td>\n",
       "      <td>Alert</td>\n",
       "      <td>Infectious Disease Alert Level</td>\n",
       "      <td>Level 4 (Red)</td>\n",
       "      <td>2020-02-23</td>\n",
       "      <td>NaN</td>\n",
       "    </tr>\n",
       "    <tr>\n",
       "      <th>4</th>\n",
       "      <td>5</td>\n",
       "      <td>Korea</td>\n",
       "      <td>Immigration</td>\n",
       "      <td>Special Immigration Procedure</td>\n",
       "      <td>from China</td>\n",
       "      <td>2020-02-04</td>\n",
       "      <td>NaN</td>\n",
       "    </tr>\n",
       "  </tbody>\n",
       "</table>\n",
       "</div>"
      ],
      "text/plain": [
       "   policy_id country         type                      gov_policy  \\\n",
       "0          1   Korea        Alert  Infectious Disease Alert Level   \n",
       "1          2   Korea        Alert  Infectious Disease Alert Level   \n",
       "2          3   Korea        Alert  Infectious Disease Alert Level   \n",
       "3          4   Korea        Alert  Infectious Disease Alert Level   \n",
       "4          5   Korea  Immigration   Special Immigration Procedure   \n",
       "\n",
       "             detail  start_date    end_date  \n",
       "0    Level 1 (Blue)  2020-01-03  2020-01-19  \n",
       "1  Level 2 (Yellow)  2020-01-20  2020-01-27  \n",
       "2  Level 3 (Orange)  2020-01-28  2020-02-22  \n",
       "3     Level 4 (Red)  2020-02-23         NaN  \n",
       "4        from China  2020-02-04         NaN  "
      ]
     },
     "execution_count": 58,
     "metadata": {},
     "output_type": "execute_result"
    }
   ],
   "source": [
    "#policy 파일\n",
    "policy.head(5)"
   ]
  },
  {
   "cell_type": "code",
   "execution_count": 25,
   "metadata": {},
   "outputs": [
    {
     "data": {
      "text/html": [
       "<div>\n",
       "<style scoped>\n",
       "    .dataframe tbody tr th:only-of-type {\n",
       "        vertical-align: middle;\n",
       "    }\n",
       "\n",
       "    .dataframe tbody tr th {\n",
       "        vertical-align: top;\n",
       "    }\n",
       "\n",
       "    .dataframe thead th {\n",
       "        text-align: right;\n",
       "    }\n",
       "</style>\n",
       "<table border=\"1\" class=\"dataframe\">\n",
       "  <thead>\n",
       "    <tr style=\"text-align: right;\">\n",
       "      <th></th>\n",
       "      <th>policy_id</th>\n",
       "      <th>country</th>\n",
       "      <th>type</th>\n",
       "      <th>detail</th>\n",
       "      <th>start_date</th>\n",
       "      <th>end_date</th>\n",
       "    </tr>\n",
       "    <tr>\n",
       "      <th>gov_policy</th>\n",
       "      <th></th>\n",
       "      <th></th>\n",
       "      <th></th>\n",
       "      <th></th>\n",
       "      <th></th>\n",
       "      <th></th>\n",
       "    </tr>\n",
       "  </thead>\n",
       "  <tbody>\n",
       "    <tr>\n",
       "      <th>Social Distancing Campaign</th>\n",
       "      <td>29</td>\n",
       "      <td>Korea</td>\n",
       "      <td>Social</td>\n",
       "      <td>Strong</td>\n",
       "      <td>2020-02-29</td>\n",
       "      <td>2020-03-21</td>\n",
       "    </tr>\n",
       "    <tr>\n",
       "      <th>Social Distancing Campaign</th>\n",
       "      <td>30</td>\n",
       "      <td>Korea</td>\n",
       "      <td>Social</td>\n",
       "      <td>Strong</td>\n",
       "      <td>2020-03-22</td>\n",
       "      <td>2020-04-19</td>\n",
       "    </tr>\n",
       "    <tr>\n",
       "      <th>Social Distancing Campaign</th>\n",
       "      <td>31</td>\n",
       "      <td>Korea</td>\n",
       "      <td>Social</td>\n",
       "      <td>Weak</td>\n",
       "      <td>2020-04-20</td>\n",
       "      <td>2020-05-05</td>\n",
       "    </tr>\n",
       "    <tr>\n",
       "      <th>Social Distancing Campaign</th>\n",
       "      <td>32</td>\n",
       "      <td>Korea</td>\n",
       "      <td>Social</td>\n",
       "      <td>Weak(1st)</td>\n",
       "      <td>2020-05-06</td>\n",
       "      <td>NaN</td>\n",
       "    </tr>\n",
       "  </tbody>\n",
       "</table>\n",
       "</div>"
      ],
      "text/plain": [
       "                            policy_id country    type     detail  start_date  \\\n",
       "gov_policy                                                                     \n",
       "Social Distancing Campaign         29   Korea  Social     Strong  2020-02-29   \n",
       "Social Distancing Campaign         30   Korea  Social     Strong  2020-03-22   \n",
       "Social Distancing Campaign         31   Korea  Social       Weak  2020-04-20   \n",
       "Social Distancing Campaign         32   Korea  Social  Weak(1st)  2020-05-06   \n",
       "\n",
       "                              end_date  \n",
       "gov_policy                              \n",
       "Social Distancing Campaign  2020-03-21  \n",
       "Social Distancing Campaign  2020-04-19  \n",
       "Social Distancing Campaign  2020-05-05  \n",
       "Social Distancing Campaign         NaN  "
      ]
     },
     "execution_count": 25,
     "metadata": {},
     "output_type": "execute_result"
    }
   ],
   "source": [
    "#사회적거리두기 기준 데이터프레임\n",
    "social_dis=policy.set_index('gov_policy').loc['Social Distancing Campaign']\n",
    "social_dis"
   ]
  },
  {
   "cell_type": "code",
   "execution_count": 26,
   "metadata": {},
   "outputs": [],
   "source": [
    "#policy파일에서 gov_policy detail start_date만을 칼럼 데이터프레임\n",
    "soc=social_dis.drop(['policy_id', 'country', 'type','end_date'], axis=1).reset_index()"
   ]
  },
  {
   "cell_type": "code",
   "execution_count": 27,
   "metadata": {},
   "outputs": [
    {
     "data": {
      "text/plain": [
       "'2020-02-29'"
      ]
     },
     "execution_count": 27,
     "metadata": {},
     "output_type": "execute_result"
    }
   ],
   "source": [
    "soc1=soc.drop('gov_policy', axis=1)\n",
    "soc2=soc1['start_date'].to_list()\n",
    "soc2[0]"
   ]
  },
  {
   "cell_type": "code",
   "execution_count": 28,
   "metadata": {},
   "outputs": [
    {
     "data": {
      "text/plain": [
       "28.0"
      ]
     },
     "execution_count": 28,
     "metadata": {},
     "output_type": "execute_result"
    }
   ],
   "source": [
    "#day기준 index 세기위한 데이터프레임(유동인구)\n",
    "sf=seoul_floating.reset_index().reset_index().set_index('day')\n",
    "\n",
    "sf.loc[soc2[0]]['index']"
   ]
  },
  {
   "cell_type": "code",
   "execution_count": 29,
   "metadata": {},
   "outputs": [
    {
     "data": {
      "text/html": [
       "<div>\n",
       "<style scoped>\n",
       "    .dataframe tbody tr th:only-of-type {\n",
       "        vertical-align: middle;\n",
       "    }\n",
       "\n",
       "    .dataframe tbody tr th {\n",
       "        vertical-align: top;\n",
       "    }\n",
       "\n",
       "    .dataframe thead th {\n",
       "        text-align: right;\n",
       "    }\n",
       "</style>\n",
       "<table border=\"1\" class=\"dataframe\">\n",
       "  <thead>\n",
       "    <tr style=\"text-align: right;\">\n",
       "      <th></th>\n",
       "      <th>number</th>\n",
       "    </tr>\n",
       "    <tr>\n",
       "      <th>date</th>\n",
       "      <th></th>\n",
       "    </tr>\n",
       "  </thead>\n",
       "  <tbody>\n",
       "    <tr>\n",
       "      <th>2020-02-16</th>\n",
       "      <td>2</td>\n",
       "    </tr>\n",
       "    <tr>\n",
       "      <th>2020-02-19</th>\n",
       "      <td>2</td>\n",
       "    </tr>\n",
       "    <tr>\n",
       "      <th>2020-02-2-</th>\n",
       "      <td>1</td>\n",
       "    </tr>\n",
       "    <tr>\n",
       "      <th>2020-02-20</th>\n",
       "      <td>5</td>\n",
       "    </tr>\n",
       "    <tr>\n",
       "      <th>2020-02-21</th>\n",
       "      <td>2</td>\n",
       "    </tr>\n",
       "  </tbody>\n",
       "</table>\n",
       "</div>"
      ],
      "text/plain": [
       "            number\n",
       "date              \n",
       "2020-02-16       2\n",
       "2020-02-19       2\n",
       "2020-02-2-       1\n",
       "2020-02-20       5\n",
       "2020-02-21       2"
      ]
     },
     "execution_count": 29,
     "metadata": {},
     "output_type": "execute_result"
    }
   ],
   "source": [
    "#일별 확진자수(누적X)\n",
    "daily_confirmed2 = sum_confirmed.groupby('date')[['number']].count()\n",
    "daily_confirmed2.head()"
   ]
  },
  {
   "cell_type": "markdown",
   "metadata": {},
   "source": [
    "## 사회적거리두기 정책기반 서울시내 일별 확진자수, 유동인구 분석 그래프 "
   ]
  },
  {
   "cell_type": "code",
   "execution_count": 59,
   "metadata": {
    "scrolled": true
   },
   "outputs": [
    {
     "data": {
      "text/plain": [
       "<matplotlib.legend.Legend at 0x244b555ba90>"
      ]
     },
     "execution_count": 59,
     "metadata": {},
     "output_type": "execute_result"
    },
    {
     "data": {
      "image/png": "[encoded data removed]",
      "text/plain": [
       "<Figure size 1800x504 with 2 Axes>"
      ]
     },
     "metadata": {
      "needs_background": "light"
     },
     "output_type": "display_data"
    }
   ],
   "source": [
    "fig, axes = plt.subplots(1,1, figsize= (25, 7))\n",
    "seoul_floating.plot(ax= axes,kind='line',color ='c', label = 'floating_number')\n",
    "axes.set_ylabel('floating_number')\n",
    "axes01= axes.twinx()\n",
    "daily_confirmed2.plot(ax=axes01, kind='line',label='confirmed_number')\n",
    "axes01.set_ylabel('confirmed_number')\n",
    "axes.legend(loc= 'upper left')\n",
    "axes.axvline(x=sf.loc[soc2[0]]['index'] , color='r', linewidth=3, label = 'Strong')\n",
    "axes.axvline(x=sf.loc[soc2[1]]['index'] , color='r', linewidth=3,label = 'Strong')\n",
    "axes.axvline(x=sf.loc[soc2[2]]['index'] , color='g', linewidth=3,label = 'Weak')\n",
    "axes.axvline(x=sf.loc[soc2[3]]['index'] , color='b', linewidth=3,label = 'Weak(1st)')\n",
    "\n",
    "axes.set_xticks([sf.loc[soc2[0]]['index'],sf.loc[soc2[1]]['index'],sf.loc[soc2[2]]['index'],sf.loc[soc2[3]]['index']])\n",
    "axes.set_xlabel('social distancing')\n",
    "axes.set_xticklabels([soc2[0],soc2[1],soc2[2],soc2[3]])\n",
    "plt.legend()"
   ]
  },
  {
   "cell_type": "markdown",
   "metadata": {},
   "source": [
    "## 분석결과"
   ]
  },
  {
   "cell_type": "markdown",
   "metadata": {},
   "source": [
    "사회적거리두기 정책 실행날짜를 기준으로 서울시내 일별 확진자수, 유동인구를 분석했습니다. 사회적거리두기 정책이 시행되었을때, 서울시내 일별 확진자수는 감소할 것이고, 유동인구도 줄어들 것이라고 예상했습니다.\n",
    "분석 결과, 사회적거리두기이후 코로나 확진자수는 감소추세를 보임을 확인할 수 있었지만, 유동인구 변화는 대체로 없없습니다.\n",
    "따라서, 사회적거리두기 정책은 코로나환자수를 일시적으로 감소시키는데 효과가 있는것으로 생각되지만, 서울시내 유동인구에는 크게 영향을 주지 않으며, 서울시내 유동인구가 코로나환자수에 큰 영향을 주지 않는 것으로 파악됩니다."
   ]
  },
  {
   "cell_type": "markdown",
   "metadata": {},
   "source": [
    "## 결론"
   ]
  },
  {
   "cell_type": "markdown",
   "metadata": {},
   "source": [
    "서울시내를 기준으로 유동인구수와 코로나확진환자수 사이의 상관관계는 거의 없는것으로 분석되며, 정부의 사회적거리두기는 일시적으로 코로나 확진환자수 감소를 보이는 것으로 보아 실효성이 있는것으로 분석됩니다. \n"
   ]
  },
  {
   "cell_type": "markdown",
   "metadata": {},
   "source": [
    "## 특이사항"
   ]
  },
  {
   "cell_type": "markdown",
   "metadata": {},
   "source": [
    "서울시내 유동인구수 데이터 분석결과, \n",
    "2020년 2월 23일에 유동인구수의 갑작스러운 급등이 관찰되었습니다.\n",
    "특히, 송파구의 유동인구수가 10만명 가량으로 가장많은것으로 확인되었습니다."
   ]
  },
  {
   "cell_type": "markdown",
   "metadata": {},
   "source": [
    "참고자료\n",
    "https://www.kaggle.com/kimjihoo/ds4c-what-is-this-dataset-detailed-description\n",
    "https://www.bigdatahub.co.kr/index.do"
   ]
  }
 ],
 "metadata": {
  "kernelspec": {
   "display_name": "Python 3",
   "language": "python",
   "name": "python3"
  },
  "language_info": {
   "codemirror_mode": {
    "name": "ipython",
    "version": 3
   },
   "file_extension": ".py",
   "mimetype": "text/x-python",
   "name": "python",
   "nbconvert_exporter": "python",
   "pygments_lexer": "ipython3",
   "version": "3.8.3"
  }
 },
 "nbformat": 4,
 "nbformat_minor": 4
}
