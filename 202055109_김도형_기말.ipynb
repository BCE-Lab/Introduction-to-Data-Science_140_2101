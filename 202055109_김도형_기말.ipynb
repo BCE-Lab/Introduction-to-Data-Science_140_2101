{
 "cells": [
  {
   "cell_type": "markdown",
   "metadata": {},
   "source": [
    "# 데이터사이언스 기말과제\n",
    "# 프리미어리그 선수 가치(몸값) 예상 모델\n",
    "## 김도형 202055109"
   ]
  },
  {
   "cell_type": "markdown",
   "metadata": {},
   "source": [
    "### 목적\n",
    "### 축구선수들의 가치를 측정하는데 어떤 요인이 영향을 미치는지 궁금하고 직접 가치를 예측하는 모델을 만들어 보기 위함."
   ]
  },
  {
   "cell_type": "markdown",
   "metadata": {},
   "source": [
    "### 추측\n",
    "### 1. 포지션별로 선수가치에 영향을 미치는 기준이 다를것이다."
   ]
  },
  {
   "cell_type": "markdown",
   "metadata": {},
   "source": [
    "# 1. 데이터셋 불러오기"
   ]
  },
  {
   "cell_type": "code",
   "execution_count": 1,
   "metadata": {},
   "outputs": [],
   "source": [
    "# 수치 계산에 사용하는 라이브러리\n",
    "import numpy as np\n",
    "import pandas as pd\n",
    "import scipy as sp\n",
    "from scipy import stats\n",
    "import math as math\n",
    "\n",
    "# 그래프를 그리기 위한 라이브러리\n",
    "from matplotlib import pyplot as plt\n",
    "import seaborn as sns\n",
    "sns.set()\n",
    "\n",
    "# 선형모델을 추정하는 라이브러리 (경고가 나올 수 있음)\n",
    "import statsmodels.formula.api as smf\n",
    "import statsmodels.api as sm\n",
    "\n",
    "# 표시 자릿수 지정\n",
    "%precision %.3f\n",
    "# 그래프를 주피터 노트북에 그리기 위한 설정\n",
    "%matplotlib inline\n",
    "\n",
    "data2 = pd.read_csv(\"English Premier League Player Info (2019_2020) V2.csv\", encoding='utf-8')\n",
    "data2=data2[:514]"
   ]
  },
  {
   "cell_type": "code",
   "execution_count": 2,
   "metadata": {},
   "outputs": [
    {
     "data": {
      "text/html": [
       "<div>\n",
       "<style scoped>\n",
       "    .dataframe tbody tr th:only-of-type {\n",
       "        vertical-align: middle;\n",
       "    }\n",
       "\n",
       "    .dataframe tbody tr th {\n",
       "        vertical-align: top;\n",
       "    }\n",
       "\n",
       "    .dataframe thead th {\n",
       "        text-align: right;\n",
       "    }\n",
       "</style>\n",
       "<table border=\"1\" class=\"dataframe\">\n",
       "  <thead>\n",
       "    <tr style=\"text-align: right;\">\n",
       "      <th></th>\n",
       "      <th>Full Name</th>\n",
       "      <th>Fifa Name</th>\n",
       "      <th>Player Name</th>\n",
       "      <th>Inherited Player ID</th>\n",
       "      <th>FIFA ID</th>\n",
       "      <th>Jersey Number</th>\n",
       "      <th>General Position</th>\n",
       "      <th>Specific Position</th>\n",
       "      <th>Club Name</th>\n",
       "      <th>Club Name (short)</th>\n",
       "      <th>...</th>\n",
       "      <th>LeftWingBack_Value</th>\n",
       "      <th>LeftDefensiveMid_Value</th>\n",
       "      <th>CenterDefensiveMid_Value</th>\n",
       "      <th>RightDefensiveMid_Value</th>\n",
       "      <th>RightWingBack_Value</th>\n",
       "      <th>LeftBack_Value</th>\n",
       "      <th>LeftCenterBack_Value</th>\n",
       "      <th>CenterBack_Value</th>\n",
       "      <th>RightCenterBack_Value</th>\n",
       "      <th>RightBack_Value</th>\n",
       "    </tr>\n",
       "  </thead>\n",
       "  <tbody>\n",
       "    <tr>\n",
       "      <th>0</th>\n",
       "      <td>Bernd Leno</td>\n",
       "      <td>B. Leno</td>\n",
       "      <td>Bernd Leno</td>\n",
       "      <td>2.0</td>\n",
       "      <td>192563.0</td>\n",
       "      <td>#1</td>\n",
       "      <td>Goalkeeper</td>\n",
       "      <td>Goalkeeper</td>\n",
       "      <td>Arsenal FC</td>\n",
       "      <td>Arsenal</td>\n",
       "      <td>...</td>\n",
       "      <td>NaN</td>\n",
       "      <td>NaN</td>\n",
       "      <td>NaN</td>\n",
       "      <td>NaN</td>\n",
       "      <td>NaN</td>\n",
       "      <td>NaN</td>\n",
       "      <td>NaN</td>\n",
       "      <td>NaN</td>\n",
       "      <td>NaN</td>\n",
       "      <td>NaN</td>\n",
       "    </tr>\n",
       "    <tr>\n",
       "      <th>1</th>\n",
       "      <td>Héctor Bellerín Moruno</td>\n",
       "      <td>Héctor Bellerín</td>\n",
       "      <td>Héctor Bellerín</td>\n",
       "      <td>4.0</td>\n",
       "      <td>203747.0</td>\n",
       "      <td>#2</td>\n",
       "      <td>Defender</td>\n",
       "      <td>Right-Back</td>\n",
       "      <td>Arsenal FC</td>\n",
       "      <td>Arsenal</td>\n",
       "      <td>...</td>\n",
       "      <td>78+3</td>\n",
       "      <td>74+3</td>\n",
       "      <td>74+3</td>\n",
       "      <td>74+3</td>\n",
       "      <td>78+3</td>\n",
       "      <td>78+3</td>\n",
       "      <td>73+3</td>\n",
       "      <td>73+3</td>\n",
       "      <td>73+3</td>\n",
       "      <td>78+3</td>\n",
       "    </tr>\n",
       "    <tr>\n",
       "      <th>2</th>\n",
       "      <td>Kevin De Bruyne</td>\n",
       "      <td>K. de Bruyne</td>\n",
       "      <td>Kevin De Bruyne</td>\n",
       "      <td>273.0</td>\n",
       "      <td>192985.0</td>\n",
       "      <td>#17</td>\n",
       "      <td>Midfielder</td>\n",
       "      <td>Attacking Midfield</td>\n",
       "      <td>Manchester City</td>\n",
       "      <td>Man City</td>\n",
       "      <td>...</td>\n",
       "      <td>77+3</td>\n",
       "      <td>77+3</td>\n",
       "      <td>77+3</td>\n",
       "      <td>77+3</td>\n",
       "      <td>77+3</td>\n",
       "      <td>73+3</td>\n",
       "      <td>66+3</td>\n",
       "      <td>66+3</td>\n",
       "      <td>66+3</td>\n",
       "      <td>73+3</td>\n",
       "    </tr>\n",
       "    <tr>\n",
       "      <th>3</th>\n",
       "      <td>Virgil van Dijk</td>\n",
       "      <td>V. van Dijk</td>\n",
       "      <td>Virgil van Dijk</td>\n",
       "      <td>246.0</td>\n",
       "      <td>203376.0</td>\n",
       "      <td>#4</td>\n",
       "      <td>Defender</td>\n",
       "      <td>Centre-Back</td>\n",
       "      <td>Liverpool FC</td>\n",
       "      <td>Liverpool</td>\n",
       "      <td>...</td>\n",
       "      <td>79+3</td>\n",
       "      <td>83+3</td>\n",
       "      <td>83+3</td>\n",
       "      <td>83+3</td>\n",
       "      <td>79+3</td>\n",
       "      <td>81+3</td>\n",
       "      <td>87+3</td>\n",
       "      <td>87+3</td>\n",
       "      <td>87+3</td>\n",
       "      <td>81+3</td>\n",
       "    </tr>\n",
       "    <tr>\n",
       "      <th>4</th>\n",
       "      <td>Sokratis</td>\n",
       "      <td>Sokratis</td>\n",
       "      <td>Sokratis</td>\n",
       "      <td>12.0</td>\n",
       "      <td>172879.0</td>\n",
       "      <td>#5</td>\n",
       "      <td>Defender</td>\n",
       "      <td>Centre-Back</td>\n",
       "      <td>Arsenal FC</td>\n",
       "      <td>Arsenal</td>\n",
       "      <td>...</td>\n",
       "      <td>71+3</td>\n",
       "      <td>72+3</td>\n",
       "      <td>72+3</td>\n",
       "      <td>72+3</td>\n",
       "      <td>71+3</td>\n",
       "      <td>74+3</td>\n",
       "      <td>82+3</td>\n",
       "      <td>82+3</td>\n",
       "      <td>82+3</td>\n",
       "      <td>74+3</td>\n",
       "    </tr>\n",
       "    <tr>\n",
       "      <th>...</th>\n",
       "      <td>...</td>\n",
       "      <td>...</td>\n",
       "      <td>...</td>\n",
       "      <td>...</td>\n",
       "      <td>...</td>\n",
       "      <td>...</td>\n",
       "      <td>...</td>\n",
       "      <td>...</td>\n",
       "      <td>...</td>\n",
       "      <td>...</td>\n",
       "      <td>...</td>\n",
       "      <td>...</td>\n",
       "      <td>...</td>\n",
       "      <td>...</td>\n",
       "      <td>...</td>\n",
       "      <td>...</td>\n",
       "      <td>...</td>\n",
       "      <td>...</td>\n",
       "      <td>...</td>\n",
       "      <td>...</td>\n",
       "      <td>...</td>\n",
       "    </tr>\n",
       "    <tr>\n",
       "      <th>509</th>\n",
       "      <td>Ayotomiwa Dele-Bashiru</td>\n",
       "      <td>T. Dele-Bashiru</td>\n",
       "      <td>Tom Dele-Bashiru</td>\n",
       "      <td>770.0</td>\n",
       "      <td>233048.0</td>\n",
       "      <td>#24</td>\n",
       "      <td>Midfielder</td>\n",
       "      <td>Central Midfield</td>\n",
       "      <td>Watford FC</td>\n",
       "      <td>Watford</td>\n",
       "      <td>...</td>\n",
       "      <td>53+2</td>\n",
       "      <td>54+2</td>\n",
       "      <td>54+2</td>\n",
       "      <td>54+2</td>\n",
       "      <td>53+2</td>\n",
       "      <td>53+2</td>\n",
       "      <td>53+2</td>\n",
       "      <td>53+2</td>\n",
       "      <td>53+2</td>\n",
       "      <td>53+2</td>\n",
       "    </tr>\n",
       "    <tr>\n",
       "      <th>510</th>\n",
       "      <td>Steven Alzate</td>\n",
       "      <td>S. Alzate</td>\n",
       "      <td>Steven Alzate</td>\n",
       "      <td>655.0</td>\n",
       "      <td>236529.0</td>\n",
       "      <td>#46</td>\n",
       "      <td>Midfielder</td>\n",
       "      <td>Attacking Midfield</td>\n",
       "      <td>Brighton &amp; Hove Albion</td>\n",
       "      <td>Brighton</td>\n",
       "      <td>...</td>\n",
       "      <td>49+2</td>\n",
       "      <td>47+2</td>\n",
       "      <td>47+2</td>\n",
       "      <td>47+2</td>\n",
       "      <td>49+2</td>\n",
       "      <td>47+2</td>\n",
       "      <td>41+2</td>\n",
       "      <td>41+2</td>\n",
       "      <td>41+2</td>\n",
       "      <td>47+2</td>\n",
       "    </tr>\n",
       "    <tr>\n",
       "      <th>511</th>\n",
       "      <td>Michel Vorm</td>\n",
       "      <td>M. Vorm</td>\n",
       "      <td>Michel Vorm</td>\n",
       "      <td>352.0</td>\n",
       "      <td>137677.0</td>\n",
       "      <td>#13</td>\n",
       "      <td>Goalkeeper</td>\n",
       "      <td>Goalkeeper</td>\n",
       "      <td>Tottenham Hotspur</td>\n",
       "      <td>Spurs</td>\n",
       "      <td>...</td>\n",
       "      <td>NaN</td>\n",
       "      <td>NaN</td>\n",
       "      <td>NaN</td>\n",
       "      <td>NaN</td>\n",
       "      <td>NaN</td>\n",
       "      <td>NaN</td>\n",
       "      <td>NaN</td>\n",
       "      <td>NaN</td>\n",
       "      <td>NaN</td>\n",
       "      <td>NaN</td>\n",
       "    </tr>\n",
       "    <tr>\n",
       "      <th>512</th>\n",
       "      <td>Andrew Lawrence Crofts</td>\n",
       "      <td>A. Crofts</td>\n",
       "      <td>Andrew Crofts</td>\n",
       "      <td>756.0</td>\n",
       "      <td>163570.0</td>\n",
       "      <td>#48</td>\n",
       "      <td>Midfielder</td>\n",
       "      <td>Central Midfield</td>\n",
       "      <td>Brighton &amp; Hove Albion</td>\n",
       "      <td>Brighton</td>\n",
       "      <td>...</td>\n",
       "      <td>NaN</td>\n",
       "      <td>NaN</td>\n",
       "      <td>NaN</td>\n",
       "      <td>NaN</td>\n",
       "      <td>NaN</td>\n",
       "      <td>NaN</td>\n",
       "      <td>NaN</td>\n",
       "      <td>NaN</td>\n",
       "      <td>NaN</td>\n",
       "      <td>NaN</td>\n",
       "    </tr>\n",
       "    <tr>\n",
       "      <th>513</th>\n",
       "      <td>Ming-Yang Yang</td>\n",
       "      <td>M. Yang</td>\n",
       "      <td>Ming-Yang Yang</td>\n",
       "      <td>761.0</td>\n",
       "      <td>216741.0</td>\n",
       "      <td>#39</td>\n",
       "      <td>Midfielder</td>\n",
       "      <td>Central Midfield</td>\n",
       "      <td>Wolverhampton Wanderers</td>\n",
       "      <td>Wolves</td>\n",
       "      <td>...</td>\n",
       "      <td>NaN</td>\n",
       "      <td>NaN</td>\n",
       "      <td>NaN</td>\n",
       "      <td>NaN</td>\n",
       "      <td>NaN</td>\n",
       "      <td>NaN</td>\n",
       "      <td>NaN</td>\n",
       "      <td>NaN</td>\n",
       "      <td>NaN</td>\n",
       "      <td>NaN</td>\n",
       "    </tr>\n",
       "  </tbody>\n",
       "</table>\n",
       "<p>514 rows × 129 columns</p>\n",
       "</div>"
      ],
      "text/plain": [
       "                  Full Name        Fifa Name       Player Name  \\\n",
       "0                Bernd Leno          B. Leno        Bernd Leno   \n",
       "1    Héctor Bellerín Moruno  Héctor Bellerín   Héctor Bellerín   \n",
       "2           Kevin De Bruyne     K. de Bruyne   Kevin De Bruyne   \n",
       "3           Virgil van Dijk      V. van Dijk   Virgil van Dijk   \n",
       "4                  Sokratis         Sokratis          Sokratis   \n",
       "..                      ...              ...               ...   \n",
       "509  Ayotomiwa Dele-Bashiru  T. Dele-Bashiru  Tom Dele-Bashiru   \n",
       "510           Steven Alzate        S. Alzate     Steven Alzate   \n",
       "511             Michel Vorm          M. Vorm       Michel Vorm   \n",
       "512  Andrew Lawrence Crofts        A. Crofts     Andrew Crofts   \n",
       "513          Ming-Yang Yang          M. Yang    Ming-Yang Yang   \n",
       "\n",
       "     Inherited Player ID   FIFA ID Jersey Number General Position  \\\n",
       "0                    2.0  192563.0            #1       Goalkeeper   \n",
       "1                    4.0  203747.0            #2        Defender    \n",
       "2                  273.0  192985.0           #17      Midfielder    \n",
       "3                  246.0  203376.0            #4        Defender    \n",
       "4                   12.0  172879.0            #5        Defender    \n",
       "..                   ...       ...           ...              ...   \n",
       "509                770.0  233048.0           #24      Midfielder    \n",
       "510                655.0  236529.0           #46      Midfielder    \n",
       "511                352.0  137677.0           #13       Goalkeeper   \n",
       "512                756.0  163570.0           #48      Midfielder    \n",
       "513                761.0  216741.0           #39      Midfielder    \n",
       "\n",
       "      Specific Position                 Club Name Club Name (short)  ...  \\\n",
       "0            Goalkeeper               Arsenal FC            Arsenal  ...   \n",
       "1            Right-Back               Arsenal FC            Arsenal  ...   \n",
       "2    Attacking Midfield          Manchester City           Man City  ...   \n",
       "3           Centre-Back             Liverpool FC          Liverpool  ...   \n",
       "4           Centre-Back               Arsenal FC            Arsenal  ...   \n",
       "..                  ...                       ...               ...  ...   \n",
       "509    Central Midfield               Watford FC            Watford  ...   \n",
       "510  Attacking Midfield   Brighton & Hove Albion           Brighton  ...   \n",
       "511          Goalkeeper        Tottenham Hotspur              Spurs  ...   \n",
       "512    Central Midfield   Brighton & Hove Albion           Brighton  ...   \n",
       "513    Central Midfield  Wolverhampton Wanderers             Wolves  ...   \n",
       "\n",
       "    LeftWingBack_Value LeftDefensiveMid_Value  CenterDefensiveMid_Value  \\\n",
       "0                  NaN                    NaN                       NaN   \n",
       "1                 78+3                   74+3                      74+3   \n",
       "2                 77+3                   77+3                      77+3   \n",
       "3                 79+3                   83+3                      83+3   \n",
       "4                 71+3                   72+3                      72+3   \n",
       "..                 ...                    ...                       ...   \n",
       "509               53+2                   54+2                      54+2   \n",
       "510               49+2                   47+2                      47+2   \n",
       "511                NaN                    NaN                       NaN   \n",
       "512                NaN                    NaN                       NaN   \n",
       "513                NaN                    NaN                       NaN   \n",
       "\n",
       "    RightDefensiveMid_Value RightWingBack_Value  LeftBack_Value  \\\n",
       "0                       NaN                 NaN             NaN   \n",
       "1                      74+3                78+3            78+3   \n",
       "2                      77+3                77+3            73+3   \n",
       "3                      83+3                79+3            81+3   \n",
       "4                      72+3                71+3            74+3   \n",
       "..                      ...                 ...             ...   \n",
       "509                    54+2                53+2            53+2   \n",
       "510                    47+2                49+2            47+2   \n",
       "511                     NaN                 NaN             NaN   \n",
       "512                     NaN                 NaN             NaN   \n",
       "513                     NaN                 NaN             NaN   \n",
       "\n",
       "     LeftCenterBack_Value CenterBack_Value RightCenterBack_Value  \\\n",
       "0                     NaN              NaN                   NaN   \n",
       "1                    73+3             73+3                  73+3   \n",
       "2                    66+3             66+3                  66+3   \n",
       "3                    87+3             87+3                  87+3   \n",
       "4                    82+3             82+3                  82+3   \n",
       "..                    ...              ...                   ...   \n",
       "509                  53+2             53+2                  53+2   \n",
       "510                  41+2             41+2                  41+2   \n",
       "511                   NaN              NaN                   NaN   \n",
       "512                   NaN              NaN                   NaN   \n",
       "513                   NaN              NaN                   NaN   \n",
       "\n",
       "    RightBack_Value  \n",
       "0               NaN  \n",
       "1              78+3  \n",
       "2              73+3  \n",
       "3              81+3  \n",
       "4              74+3  \n",
       "..              ...  \n",
       "509            53+2  \n",
       "510            47+2  \n",
       "511             NaN  \n",
       "512             NaN  \n",
       "513             NaN  \n",
       "\n",
       "[514 rows x 129 columns]"
      ]
     },
     "execution_count": 2,
     "metadata": {},
     "output_type": "execute_result"
    }
   ],
   "source": [
    "data2"
   ]
  },
  {
   "cell_type": "markdown",
   "metadata": {},
   "source": [
    "## 1-1 데이터 분류"
   ]
  },
  {
   "cell_type": "code",
   "execution_count": 3,
   "metadata": {},
   "outputs": [],
   "source": [
    "# 데이터를 보고 의미있는 컬럼을 뽑았다.\n",
    "meaning_columns_list=['Fifa Name','General Position','Age','Potential','SkillMoves','Pace','Shooting','Passing','Dribbling','Defending','Physical',\n",
    "     'Attacking_Crossing','Attacking_Finishing','Attacking_Heading_Accuracy','Attacking_Short_Passing',\n",
    "      'Attacking_Volleys','_Dribbling','Curve','Long_Passing','Ball_Control','Acceleration','Sprint_Speed',\n",
    "      'Agility','Reactions','Balance','Shot Power','Jumping','Stamina','Strength','Long_Shots','Aggression',\n",
    "      'Interceptions','Positioning','Vision','Composure','Marking','Standing_Tackle','Sliding_Tackle',\n",
    "       'Market Value (Euros)','FIFA Market Value',\n",
    "       'FIFA Wage']\n",
    "data2=data2[meaning_columns_list]\n",
    "\n",
    "# 공격수, 수비수, 미드필더, 골키퍼별로 분류함.\n",
    "data2_GK=data2[data2['General Position']=='Goalkeeper']\n",
    "data2_DF=data2[data2['General Position']=='Defender ']\n",
    "data2_MF=data2[data2['General Position']=='Midfielder ']\n",
    "data2_FW=data2[data2['General Position']=='Forward ']"
   ]
  },
  {
   "cell_type": "code",
   "execution_count": 4,
   "metadata": {},
   "outputs": [
    {
     "data": {
      "text/html": [
       "<div>\n",
       "<style scoped>\n",
       "    .dataframe tbody tr th:only-of-type {\n",
       "        vertical-align: middle;\n",
       "    }\n",
       "\n",
       "    .dataframe tbody tr th {\n",
       "        vertical-align: top;\n",
       "    }\n",
       "\n",
       "    .dataframe thead th {\n",
       "        text-align: right;\n",
       "    }\n",
       "</style>\n",
       "<table border=\"1\" class=\"dataframe\">\n",
       "  <thead>\n",
       "    <tr style=\"text-align: right;\">\n",
       "      <th></th>\n",
       "      <th>Fifa Name</th>\n",
       "      <th>General Position</th>\n",
       "      <th>Age</th>\n",
       "      <th>Potential</th>\n",
       "      <th>SkillMoves</th>\n",
       "      <th>Pace</th>\n",
       "      <th>Shooting</th>\n",
       "      <th>Passing</th>\n",
       "      <th>Dribbling</th>\n",
       "      <th>Defending</th>\n",
       "      <th>...</th>\n",
       "      <th>Interceptions</th>\n",
       "      <th>Positioning</th>\n",
       "      <th>Vision</th>\n",
       "      <th>Composure</th>\n",
       "      <th>Marking</th>\n",
       "      <th>Standing_Tackle</th>\n",
       "      <th>Sliding_Tackle</th>\n",
       "      <th>Market Value (Euros)</th>\n",
       "      <th>FIFA Market Value</th>\n",
       "      <th>FIFA Wage</th>\n",
       "    </tr>\n",
       "  </thead>\n",
       "  <tbody>\n",
       "    <tr>\n",
       "      <th>0</th>\n",
       "      <td>B. Leno</td>\n",
       "      <td>Goalkeeper</td>\n",
       "      <td>27.0</td>\n",
       "      <td>86.0</td>\n",
       "      <td>1.0</td>\n",
       "      <td>NaN</td>\n",
       "      <td>NaN</td>\n",
       "      <td>NaN</td>\n",
       "      <td>NaN</td>\n",
       "      <td>NaN</td>\n",
       "      <td>...</td>\n",
       "      <td>22.0</td>\n",
       "      <td>7.0</td>\n",
       "      <td>54.0</td>\n",
       "      <td>66.0</td>\n",
       "      <td>27.0</td>\n",
       "      <td>15.0</td>\n",
       "      <td>18.0</td>\n",
       "      <td>30000000.0</td>\n",
       "      <td>26000000.0</td>\n",
       "      <td>91000.0</td>\n",
       "    </tr>\n",
       "    <tr>\n",
       "      <th>1</th>\n",
       "      <td>Héctor Bellerín</td>\n",
       "      <td>Defender</td>\n",
       "      <td>24.0</td>\n",
       "      <td>85.0</td>\n",
       "      <td>3.0</td>\n",
       "      <td>92.0</td>\n",
       "      <td>51.0</td>\n",
       "      <td>70.0</td>\n",
       "      <td>78.0</td>\n",
       "      <td>76.0</td>\n",
       "      <td>...</td>\n",
       "      <td>78.0</td>\n",
       "      <td>67.0</td>\n",
       "      <td>66.0</td>\n",
       "      <td>70.0</td>\n",
       "      <td>75.0</td>\n",
       "      <td>78.0</td>\n",
       "      <td>80.0</td>\n",
       "      <td>40000000.0</td>\n",
       "      <td>17500000.0</td>\n",
       "      <td>69000.0</td>\n",
       "    </tr>\n",
       "    <tr>\n",
       "      <th>2</th>\n",
       "      <td>K. de Bruyne</td>\n",
       "      <td>Midfielder</td>\n",
       "      <td>28.0</td>\n",
       "      <td>91.0</td>\n",
       "      <td>4.0</td>\n",
       "      <td>76.0</td>\n",
       "      <td>86.0</td>\n",
       "      <td>92.0</td>\n",
       "      <td>86.0</td>\n",
       "      <td>61.0</td>\n",
       "      <td>...</td>\n",
       "      <td>61.0</td>\n",
       "      <td>88.0</td>\n",
       "      <td>94.0</td>\n",
       "      <td>91.0</td>\n",
       "      <td>68.0</td>\n",
       "      <td>58.0</td>\n",
       "      <td>51.0</td>\n",
       "      <td>130000000.0</td>\n",
       "      <td>90000000.0</td>\n",
       "      <td>370000.0</td>\n",
       "    </tr>\n",
       "    <tr>\n",
       "      <th>3</th>\n",
       "      <td>V. van Dijk</td>\n",
       "      <td>Defender</td>\n",
       "      <td>28.0</td>\n",
       "      <td>91.0</td>\n",
       "      <td>2.0</td>\n",
       "      <td>77.0</td>\n",
       "      <td>60.0</td>\n",
       "      <td>70.0</td>\n",
       "      <td>71.0</td>\n",
       "      <td>90.0</td>\n",
       "      <td>...</td>\n",
       "      <td>89.0</td>\n",
       "      <td>47.0</td>\n",
       "      <td>65.0</td>\n",
       "      <td>89.0</td>\n",
       "      <td>91.0</td>\n",
       "      <td>92.0</td>\n",
       "      <td>85.0</td>\n",
       "      <td>100000000.0</td>\n",
       "      <td>78000000.0</td>\n",
       "      <td>200000.0</td>\n",
       "    </tr>\n",
       "    <tr>\n",
       "      <th>4</th>\n",
       "      <td>Sokratis</td>\n",
       "      <td>Defender</td>\n",
       "      <td>31.0</td>\n",
       "      <td>84.0</td>\n",
       "      <td>2.0</td>\n",
       "      <td>72.0</td>\n",
       "      <td>51.0</td>\n",
       "      <td>52.0</td>\n",
       "      <td>60.0</td>\n",
       "      <td>84.0</td>\n",
       "      <td>...</td>\n",
       "      <td>76.0</td>\n",
       "      <td>49.0</td>\n",
       "      <td>45.0</td>\n",
       "      <td>81.0</td>\n",
       "      <td>85.0</td>\n",
       "      <td>86.0</td>\n",
       "      <td>86.0</td>\n",
       "      <td>20000000.0</td>\n",
       "      <td>23000000.0</td>\n",
       "      <td>115000.0</td>\n",
       "    </tr>\n",
       "    <tr>\n",
       "      <th>...</th>\n",
       "      <td>...</td>\n",
       "      <td>...</td>\n",
       "      <td>...</td>\n",
       "      <td>...</td>\n",
       "      <td>...</td>\n",
       "      <td>...</td>\n",
       "      <td>...</td>\n",
       "      <td>...</td>\n",
       "      <td>...</td>\n",
       "      <td>...</td>\n",
       "      <td>...</td>\n",
       "      <td>...</td>\n",
       "      <td>...</td>\n",
       "      <td>...</td>\n",
       "      <td>...</td>\n",
       "      <td>...</td>\n",
       "      <td>...</td>\n",
       "      <td>...</td>\n",
       "      <td>...</td>\n",
       "      <td>...</td>\n",
       "      <td>...</td>\n",
       "    </tr>\n",
       "    <tr>\n",
       "      <th>509</th>\n",
       "      <td>T. Dele-Bashiru</td>\n",
       "      <td>Midfielder</td>\n",
       "      <td>20.0</td>\n",
       "      <td>76.0</td>\n",
       "      <td>2.0</td>\n",
       "      <td>63.0</td>\n",
       "      <td>49.0</td>\n",
       "      <td>53.0</td>\n",
       "      <td>60.0</td>\n",
       "      <td>51.0</td>\n",
       "      <td>...</td>\n",
       "      <td>51.0</td>\n",
       "      <td>57.0</td>\n",
       "      <td>54.0</td>\n",
       "      <td>49.0</td>\n",
       "      <td>52.0</td>\n",
       "      <td>53.0</td>\n",
       "      <td>49.0</td>\n",
       "      <td>150000.0</td>\n",
       "      <td>220000.0</td>\n",
       "      <td>5000.0</td>\n",
       "    </tr>\n",
       "    <tr>\n",
       "      <th>510</th>\n",
       "      <td>S. Alzate</td>\n",
       "      <td>Midfielder</td>\n",
       "      <td>21.0</td>\n",
       "      <td>68.0</td>\n",
       "      <td>3.0</td>\n",
       "      <td>66.0</td>\n",
       "      <td>50.0</td>\n",
       "      <td>54.0</td>\n",
       "      <td>61.0</td>\n",
       "      <td>35.0</td>\n",
       "      <td>...</td>\n",
       "      <td>43.0</td>\n",
       "      <td>59.0</td>\n",
       "      <td>55.0</td>\n",
       "      <td>62.0</td>\n",
       "      <td>24.0</td>\n",
       "      <td>42.0</td>\n",
       "      <td>37.0</td>\n",
       "      <td>NaN</td>\n",
       "      <td>160000.0</td>\n",
       "      <td>5000.0</td>\n",
       "    </tr>\n",
       "    <tr>\n",
       "      <th>511</th>\n",
       "      <td>M. Vorm</td>\n",
       "      <td>Goalkeeper</td>\n",
       "      <td>36.0</td>\n",
       "      <td>NaN</td>\n",
       "      <td>NaN</td>\n",
       "      <td>NaN</td>\n",
       "      <td>NaN</td>\n",
       "      <td>NaN</td>\n",
       "      <td>NaN</td>\n",
       "      <td>NaN</td>\n",
       "      <td>...</td>\n",
       "      <td>NaN</td>\n",
       "      <td>NaN</td>\n",
       "      <td>NaN</td>\n",
       "      <td>NaN</td>\n",
       "      <td>NaN</td>\n",
       "      <td>NaN</td>\n",
       "      <td>NaN</td>\n",
       "      <td>1000000.0</td>\n",
       "      <td>NaN</td>\n",
       "      <td>NaN</td>\n",
       "    </tr>\n",
       "    <tr>\n",
       "      <th>512</th>\n",
       "      <td>A. Crofts</td>\n",
       "      <td>Midfielder</td>\n",
       "      <td>35.0</td>\n",
       "      <td>NaN</td>\n",
       "      <td>NaN</td>\n",
       "      <td>NaN</td>\n",
       "      <td>NaN</td>\n",
       "      <td>NaN</td>\n",
       "      <td>NaN</td>\n",
       "      <td>NaN</td>\n",
       "      <td>...</td>\n",
       "      <td>NaN</td>\n",
       "      <td>NaN</td>\n",
       "      <td>NaN</td>\n",
       "      <td>NaN</td>\n",
       "      <td>NaN</td>\n",
       "      <td>NaN</td>\n",
       "      <td>NaN</td>\n",
       "      <td>350000.0</td>\n",
       "      <td>NaN</td>\n",
       "      <td>NaN</td>\n",
       "    </tr>\n",
       "    <tr>\n",
       "      <th>513</th>\n",
       "      <td>M. Yang</td>\n",
       "      <td>Midfielder</td>\n",
       "      <td>24.0</td>\n",
       "      <td>NaN</td>\n",
       "      <td>NaN</td>\n",
       "      <td>NaN</td>\n",
       "      <td>NaN</td>\n",
       "      <td>NaN</td>\n",
       "      <td>NaN</td>\n",
       "      <td>NaN</td>\n",
       "      <td>...</td>\n",
       "      <td>NaN</td>\n",
       "      <td>NaN</td>\n",
       "      <td>NaN</td>\n",
       "      <td>NaN</td>\n",
       "      <td>NaN</td>\n",
       "      <td>NaN</td>\n",
       "      <td>NaN</td>\n",
       "      <td>250000.0</td>\n",
       "      <td>NaN</td>\n",
       "      <td>NaN</td>\n",
       "    </tr>\n",
       "  </tbody>\n",
       "</table>\n",
       "<p>514 rows × 41 columns</p>\n",
       "</div>"
      ],
      "text/plain": [
       "           Fifa Name General Position   Age  Potential  SkillMoves  Pace  \\\n",
       "0            B. Leno       Goalkeeper  27.0       86.0         1.0   NaN   \n",
       "1    Héctor Bellerín        Defender   24.0       85.0         3.0  92.0   \n",
       "2       K. de Bruyne      Midfielder   28.0       91.0         4.0  76.0   \n",
       "3        V. van Dijk        Defender   28.0       91.0         2.0  77.0   \n",
       "4           Sokratis        Defender   31.0       84.0         2.0  72.0   \n",
       "..               ...              ...   ...        ...         ...   ...   \n",
       "509  T. Dele-Bashiru      Midfielder   20.0       76.0         2.0  63.0   \n",
       "510        S. Alzate      Midfielder   21.0       68.0         3.0  66.0   \n",
       "511          M. Vorm       Goalkeeper  36.0        NaN         NaN   NaN   \n",
       "512        A. Crofts      Midfielder   35.0        NaN         NaN   NaN   \n",
       "513          M. Yang      Midfielder   24.0        NaN         NaN   NaN   \n",
       "\n",
       "     Shooting  Passing  Dribbling  Defending  ...  Interceptions  Positioning  \\\n",
       "0         NaN      NaN        NaN        NaN  ...           22.0          7.0   \n",
       "1        51.0     70.0       78.0       76.0  ...           78.0         67.0   \n",
       "2        86.0     92.0       86.0       61.0  ...           61.0         88.0   \n",
       "3        60.0     70.0       71.0       90.0  ...           89.0         47.0   \n",
       "4        51.0     52.0       60.0       84.0  ...           76.0         49.0   \n",
       "..        ...      ...        ...        ...  ...            ...          ...   \n",
       "509      49.0     53.0       60.0       51.0  ...           51.0         57.0   \n",
       "510      50.0     54.0       61.0       35.0  ...           43.0         59.0   \n",
       "511       NaN      NaN        NaN        NaN  ...            NaN          NaN   \n",
       "512       NaN      NaN        NaN        NaN  ...            NaN          NaN   \n",
       "513       NaN      NaN        NaN        NaN  ...            NaN          NaN   \n",
       "\n",
       "     Vision  Composure  Marking  Standing_Tackle  Sliding_Tackle  \\\n",
       "0      54.0       66.0     27.0             15.0            18.0   \n",
       "1      66.0       70.0     75.0             78.0            80.0   \n",
       "2      94.0       91.0     68.0             58.0            51.0   \n",
       "3      65.0       89.0     91.0             92.0            85.0   \n",
       "4      45.0       81.0     85.0             86.0            86.0   \n",
       "..      ...        ...      ...              ...             ...   \n",
       "509    54.0       49.0     52.0             53.0            49.0   \n",
       "510    55.0       62.0     24.0             42.0            37.0   \n",
       "511     NaN        NaN      NaN              NaN             NaN   \n",
       "512     NaN        NaN      NaN              NaN             NaN   \n",
       "513     NaN        NaN      NaN              NaN             NaN   \n",
       "\n",
       "     Market Value (Euros)  FIFA Market Value  FIFA Wage  \n",
       "0              30000000.0         26000000.0    91000.0  \n",
       "1              40000000.0         17500000.0    69000.0  \n",
       "2             130000000.0         90000000.0   370000.0  \n",
       "3             100000000.0         78000000.0   200000.0  \n",
       "4              20000000.0         23000000.0   115000.0  \n",
       "..                    ...                ...        ...  \n",
       "509              150000.0           220000.0     5000.0  \n",
       "510                   NaN           160000.0     5000.0  \n",
       "511             1000000.0                NaN        NaN  \n",
       "512              350000.0                NaN        NaN  \n",
       "513              250000.0                NaN        NaN  \n",
       "\n",
       "[514 rows x 41 columns]"
      ]
     },
     "execution_count": 4,
     "metadata": {},
     "output_type": "execute_result"
    }
   ],
   "source": [
    "data2"
   ]
  },
  {
   "cell_type": "markdown",
   "metadata": {},
   "source": [
    "# 2. 분석을 위한 데이터 전처리"
   ]
  },
  {
   "cell_type": "markdown",
   "metadata": {},
   "source": [
    "## 2-1 결측값 제거"
   ]
  },
  {
   "cell_type": "code",
   "execution_count": 5,
   "metadata": {},
   "outputs": [
    {
     "name": "stdout",
     "output_type": "stream",
     "text": [
      "<class 'pandas.core.frame.DataFrame'>\n",
      "Int64Index: 125 entries, 6 to 499\n",
      "Data columns (total 41 columns):\n",
      " #   Column                      Non-Null Count  Dtype  \n",
      "---  ------                      --------------  -----  \n",
      " 0   Fifa Name                   125 non-null    object \n",
      " 1   General Position            125 non-null    object \n",
      " 2   Age                         125 non-null    float64\n",
      " 3   Potential                   125 non-null    float64\n",
      " 4   SkillMoves                  125 non-null    float64\n",
      " 5   Pace                        125 non-null    float64\n",
      " 6   Shooting                    125 non-null    float64\n",
      " 7   Passing                     125 non-null    float64\n",
      " 8   Dribbling                   125 non-null    float64\n",
      " 9   Defending                   125 non-null    float64\n",
      " 10  Physical                    125 non-null    float64\n",
      " 11  Attacking_Crossing          125 non-null    float64\n",
      " 12  Attacking_Finishing         125 non-null    float64\n",
      " 13  Attacking_Heading_Accuracy  125 non-null    float64\n",
      " 14  Attacking_Short_Passing     125 non-null    float64\n",
      " 15  Attacking_Volleys           125 non-null    float64\n",
      " 16  _Dribbling                  125 non-null    float64\n",
      " 17  Curve                       125 non-null    float64\n",
      " 18  Long_Passing                125 non-null    float64\n",
      " 19  Ball_Control                125 non-null    float64\n",
      " 20  Acceleration                125 non-null    float64\n",
      " 21  Sprint_Speed                125 non-null    float64\n",
      " 22  Agility                     125 non-null    float64\n",
      " 23  Reactions                   125 non-null    float64\n",
      " 24  Balance                     125 non-null    float64\n",
      " 25  Shot Power                  125 non-null    float64\n",
      " 26  Jumping                     125 non-null    float64\n",
      " 27  Stamina                     125 non-null    float64\n",
      " 28  Strength                    125 non-null    float64\n",
      " 29  Long_Shots                  125 non-null    float64\n",
      " 30  Aggression                  125 non-null    float64\n",
      " 31  Interceptions               125 non-null    float64\n",
      " 32  Positioning                 125 non-null    float64\n",
      " 33  Vision                      125 non-null    float64\n",
      " 34  Composure                   125 non-null    float64\n",
      " 35  Marking                     125 non-null    float64\n",
      " 36  Standing_Tackle             125 non-null    float64\n",
      " 37  Sliding_Tackle              125 non-null    float64\n",
      " 38  Market Value (Euros)        125 non-null    float64\n",
      " 39  FIFA Market Value           125 non-null    float64\n",
      " 40  FIFA Wage                   125 non-null    float64\n",
      "dtypes: float64(39), object(2)\n",
      "memory usage: 41.0+ KB\n"
     ]
    }
   ],
   "source": [
    "# 공격수의 결측값 관찰\n",
    "data2_FW.info()"
   ]
  },
  {
   "cell_type": "code",
   "execution_count": 6,
   "metadata": {},
   "outputs": [
    {
     "name": "stdout",
     "output_type": "stream",
     "text": [
      "<class 'pandas.core.frame.DataFrame'>\n",
      "Int64Index: 181 entries, 1 to 505\n",
      "Data columns (total 41 columns):\n",
      " #   Column                      Non-Null Count  Dtype  \n",
      "---  ------                      --------------  -----  \n",
      " 0   Fifa Name                   181 non-null    object \n",
      " 1   General Position            181 non-null    object \n",
      " 2   Age                         181 non-null    float64\n",
      " 3   Potential                   181 non-null    float64\n",
      " 4   SkillMoves                  181 non-null    float64\n",
      " 5   Pace                        180 non-null    float64\n",
      " 6   Shooting                    180 non-null    float64\n",
      " 7   Passing                     180 non-null    float64\n",
      " 8   Dribbling                   180 non-null    float64\n",
      " 9   Defending                   180 non-null    float64\n",
      " 10  Physical                    180 non-null    float64\n",
      " 11  Attacking_Crossing          181 non-null    float64\n",
      " 12  Attacking_Finishing         181 non-null    float64\n",
      " 13  Attacking_Heading_Accuracy  181 non-null    float64\n",
      " 14  Attacking_Short_Passing     181 non-null    float64\n",
      " 15  Attacking_Volleys           181 non-null    float64\n",
      " 16  _Dribbling                  181 non-null    float64\n",
      " 17  Curve                       181 non-null    float64\n",
      " 18  Long_Passing                181 non-null    float64\n",
      " 19  Ball_Control                181 non-null    float64\n",
      " 20  Acceleration                181 non-null    float64\n",
      " 21  Sprint_Speed                181 non-null    float64\n",
      " 22  Agility                     181 non-null    float64\n",
      " 23  Reactions                   181 non-null    float64\n",
      " 24  Balance                     181 non-null    float64\n",
      " 25  Shot Power                  181 non-null    float64\n",
      " 26  Jumping                     181 non-null    float64\n",
      " 27  Stamina                     181 non-null    float64\n",
      " 28  Strength                    181 non-null    float64\n",
      " 29  Long_Shots                  181 non-null    float64\n",
      " 30  Aggression                  181 non-null    float64\n",
      " 31  Interceptions               181 non-null    float64\n",
      " 32  Positioning                 181 non-null    float64\n",
      " 33  Vision                      181 non-null    float64\n",
      " 34  Composure                   181 non-null    float64\n",
      " 35  Marking                     181 non-null    float64\n",
      " 36  Standing_Tackle             181 non-null    float64\n",
      " 37  Sliding_Tackle              181 non-null    float64\n",
      " 38  Market Value (Euros)        179 non-null    float64\n",
      " 39  FIFA Market Value           181 non-null    float64\n",
      " 40  FIFA Wage                   181 non-null    float64\n",
      "dtypes: float64(39), object(2)\n",
      "memory usage: 59.4+ KB\n"
     ]
    }
   ],
   "source": [
    "# 수비수의 결측값 관찰\n",
    "data2_DF.info()"
   ]
  },
  {
   "cell_type": "code",
   "execution_count": 7,
   "metadata": {},
   "outputs": [
    {
     "name": "stdout",
     "output_type": "stream",
     "text": [
      "<class 'pandas.core.frame.DataFrame'>\n",
      "Int64Index: 144 entries, 2 to 513\n",
      "Data columns (total 41 columns):\n",
      " #   Column                      Non-Null Count  Dtype  \n",
      "---  ------                      --------------  -----  \n",
      " 0   Fifa Name                   144 non-null    object \n",
      " 1   General Position            144 non-null    object \n",
      " 2   Age                         144 non-null    float64\n",
      " 3   Potential                   142 non-null    float64\n",
      " 4   SkillMoves                  142 non-null    float64\n",
      " 5   Pace                        142 non-null    float64\n",
      " 6   Shooting                    142 non-null    float64\n",
      " 7   Passing                     142 non-null    float64\n",
      " 8   Dribbling                   142 non-null    float64\n",
      " 9   Defending                   142 non-null    float64\n",
      " 10  Physical                    142 non-null    float64\n",
      " 11  Attacking_Crossing          142 non-null    float64\n",
      " 12  Attacking_Finishing         142 non-null    float64\n",
      " 13  Attacking_Heading_Accuracy  142 non-null    float64\n",
      " 14  Attacking_Short_Passing     142 non-null    float64\n",
      " 15  Attacking_Volleys           142 non-null    float64\n",
      " 16  _Dribbling                  142 non-null    float64\n",
      " 17  Curve                       142 non-null    float64\n",
      " 18  Long_Passing                142 non-null    float64\n",
      " 19  Ball_Control                142 non-null    float64\n",
      " 20  Acceleration                142 non-null    float64\n",
      " 21  Sprint_Speed                142 non-null    float64\n",
      " 22  Agility                     142 non-null    float64\n",
      " 23  Reactions                   142 non-null    float64\n",
      " 24  Balance                     142 non-null    float64\n",
      " 25  Shot Power                  142 non-null    float64\n",
      " 26  Jumping                     142 non-null    float64\n",
      " 27  Stamina                     142 non-null    float64\n",
      " 28  Strength                    142 non-null    float64\n",
      " 29  Long_Shots                  142 non-null    float64\n",
      " 30  Aggression                  142 non-null    float64\n",
      " 31  Interceptions               142 non-null    float64\n",
      " 32  Positioning                 142 non-null    float64\n",
      " 33  Vision                      142 non-null    float64\n",
      " 34  Composure                   142 non-null    float64\n",
      " 35  Marking                     142 non-null    float64\n",
      " 36  Standing_Tackle             142 non-null    float64\n",
      " 37  Sliding_Tackle              142 non-null    float64\n",
      " 38  Market Value (Euros)        142 non-null    float64\n",
      " 39  FIFA Market Value           142 non-null    float64\n",
      " 40  FIFA Wage                   142 non-null    float64\n",
      "dtypes: float64(39), object(2)\n",
      "memory usage: 47.2+ KB\n"
     ]
    }
   ],
   "source": [
    "# 미드필더의 결측값 관찰\n",
    "data2_MF.info()"
   ]
  },
  {
   "cell_type": "markdown",
   "metadata": {},
   "source": [
    "###### FW는 결측값이 없고, GK는 결측값이 너무 많아서 제외하고 FW,DF,MF에 대해서 분석"
   ]
  },
  {
   "cell_type": "code",
   "execution_count": 8,
   "metadata": {},
   "outputs": [],
   "source": [
    "# 결측값 제거\n",
    "data2_DF=data2_DF.dropna(axis=0)\n",
    "data2_MF=data2_MF.dropna(axis=0)"
   ]
  },
  {
   "cell_type": "markdown",
   "metadata": {},
   "source": [
    "## 2-2 컬럼 이름 수정"
   ]
  },
  {
   "cell_type": "code",
   "execution_count": 9,
   "metadata": {},
   "outputs": [
    {
     "name": "stderr",
     "output_type": "stream",
     "text": [
      "C:\\Users\\SAMSUNG\\anaconda3\\lib\\site-packages\\pandas\\core\\frame.py:4133: SettingWithCopyWarning: \n",
      "A value is trying to be set on a copy of a slice from a DataFrame\n",
      "\n",
      "See the caveats in the documentation: https://pandas.pydata.org/pandas-docs/stable/user_guide/indexing.html#returning-a-view-versus-a-copy\n",
      "  errors=errors,\n"
     ]
    }
   ],
   "source": [
    "# 컬럼이름바꾸기\n",
    "data2_FW.rename(columns = {'Market Value (Euros)' : 'Market_Value'}, inplace = True)\n",
    "data2_FW.rename(columns = {'FIFA Market Value' : 'FIFA_Market_Value'}, inplace = True)\n",
    "data2_FW.rename(columns = {'FIFA Wage' : 'FIFA_Wage'}, inplace = True)\n",
    "data2_FW.rename(columns = {'Shot Power' : 'Shot_Power'}, inplace = True)\n",
    "\n",
    "data2_DF.rename(columns = {'Market Value (Euros)' : 'Market_Value'}, inplace = True)\n",
    "data2_DF.rename(columns = {'FIFA Market Value' : 'FIFA_Market_Value'}, inplace = True)\n",
    "data2_DF.rename(columns = {'FIFA Wage' : 'FIFA_Wage'}, inplace = True)\n",
    "data2_DF.rename(columns = {'Shot Power' : 'Shot_Power'}, inplace = True)\n",
    "\n",
    "data2_MF.rename(columns = {'Market Value (Euros)' : 'Market_Value'}, inplace = True)\n",
    "data2_MF.rename(columns = {'FIFA Market Value' : 'FIFA_Market_Value'}, inplace = True)\n",
    "data2_MF.rename(columns = {'FIFA Wage' : 'FIFA_Wage'}, inplace = True)\n",
    "data2_MF.rename(columns = {'Shot Power' : 'Shot_Power'}, inplace = True)"
   ]
  },
  {
   "cell_type": "markdown",
   "metadata": {},
   "source": [
    "## 2-3 Market_Value, FIFA_Market_Value, FIFA_Wage에 대한 분석"
   ]
  },
  {
   "cell_type": "markdown",
   "metadata": {},
   "source": [
    "###### 선수의 가치를 의미하는 \tMarket_Value, FIFA_Market_Value, FIFA_Wage의 상관관계가 높기 때문에 이 중 한개인  Market_Value만을 예상하는 모델을 만들것입니다."
   ]
  },
  {
   "cell_type": "code",
   "execution_count": 10,
   "metadata": {},
   "outputs": [
    {
     "data": {
      "text/html": [
       "<div>\n",
       "<style scoped>\n",
       "    .dataframe tbody tr th:only-of-type {\n",
       "        vertical-align: middle;\n",
       "    }\n",
       "\n",
       "    .dataframe tbody tr th {\n",
       "        vertical-align: top;\n",
       "    }\n",
       "\n",
       "    .dataframe thead th {\n",
       "        text-align: right;\n",
       "    }\n",
       "</style>\n",
       "<table border=\"1\" class=\"dataframe\">\n",
       "  <thead>\n",
       "    <tr style=\"text-align: right;\">\n",
       "      <th></th>\n",
       "      <th>Market_Value</th>\n",
       "      <th>FIFA_Market_Value</th>\n",
       "      <th>FIFA_Wage</th>\n",
       "    </tr>\n",
       "  </thead>\n",
       "  <tbody>\n",
       "    <tr>\n",
       "      <th>Market_Value</th>\n",
       "      <td>1.000000</td>\n",
       "      <td>0.937056</td>\n",
       "      <td>0.813534</td>\n",
       "    </tr>\n",
       "    <tr>\n",
       "      <th>FIFA_Market_Value</th>\n",
       "      <td>0.937056</td>\n",
       "      <td>1.000000</td>\n",
       "      <td>0.923199</td>\n",
       "    </tr>\n",
       "    <tr>\n",
       "      <th>FIFA_Wage</th>\n",
       "      <td>0.813534</td>\n",
       "      <td>0.923199</td>\n",
       "      <td>1.000000</td>\n",
       "    </tr>\n",
       "  </tbody>\n",
       "</table>\n",
       "</div>"
      ],
      "text/plain": [
       "                   Market_Value  FIFA_Market_Value  FIFA_Wage\n",
       "Market_Value           1.000000           0.937056   0.813534\n",
       "FIFA_Market_Value      0.937056           1.000000   0.923199\n",
       "FIFA_Wage              0.813534           0.923199   1.000000"
      ]
     },
     "execution_count": 10,
     "metadata": {},
     "output_type": "execute_result"
    }
   ],
   "source": [
    "# Market_Value, FIFA_Market_Value, FIFA_Wage간 상관관계\n",
    "data2_FW.corr()[36:].T[36:]"
   ]
  },
  {
   "cell_type": "code",
   "execution_count": 11,
   "metadata": {},
   "outputs": [],
   "source": [
    "# 본격적인 분석에 필요 없는 컬럼 제거\n",
    "data2_FW=data2_FW.drop(['General Position','FIFA_Market_Value','FIFA_Wage'],axis=1)\n",
    "data2_DF=data2_DF.drop(['General Position','FIFA_Market_Value','FIFA_Wage'],axis=1)\n",
    "data2_MF=data2_MF.drop(['General Position','FIFA_Market_Value','FIFA_Wage'],axis=1)"
   ]
  },
  {
   "cell_type": "markdown",
   "metadata": {},
   "source": [
    "#### 분석할 컬럼.\n",
    "['Age', 'Potential', 'SkillMoves', 'Pace', 'Shooting',\n",
    "       'Passing', 'Dribbling', 'Defending', 'Physical', 'Attacking_Crossing',\n",
    "       'Attacking_Finishing', 'Attacking_Heading_Accuracy',\n",
    "       'Attacking_Short_Passing', 'Attacking_Volleys', '_Dribbling', 'Curve',\n",
    "       'Long_Passing', 'Ball_Control', 'Acceleration', 'Sprint_Speed',\n",
    "       'Agility', 'Reactions', 'Balance', 'Shot_Power', 'Jumping', 'Stamina',\n",
    "       'Strength', 'Long_Shots', 'Aggression', 'Interceptions', 'Positioning',\n",
    "       'Vision', 'Composure', 'Marking', 'Standing_Tackle', 'Sliding_Tackle',\n",
    "       'Market_Value']"
   ]
  },
  {
   "cell_type": "markdown",
   "metadata": {},
   "source": [
    "# 3. 예측 모델 만들기"
   ]
  },
  {
   "cell_type": "markdown",
   "metadata": {},
   "source": [
    "## 3-1 FW(공격수) Market_Value 선형예측모델"
   ]
  },
  {
   "cell_type": "code",
   "execution_count": 12,
   "metadata": {},
   "outputs": [
    {
     "data": {
      "text/html": [
       "<div>\n",
       "<style scoped>\n",
       "    .dataframe tbody tr th:only-of-type {\n",
       "        vertical-align: middle;\n",
       "    }\n",
       "\n",
       "    .dataframe tbody tr th {\n",
       "        vertical-align: top;\n",
       "    }\n",
       "\n",
       "    .dataframe thead th {\n",
       "        text-align: right;\n",
       "    }\n",
       "</style>\n",
       "<table border=\"1\" class=\"dataframe\">\n",
       "  <thead>\n",
       "    <tr style=\"text-align: right;\">\n",
       "      <th></th>\n",
       "      <th>Fifa Name</th>\n",
       "      <th>Age</th>\n",
       "      <th>Potential</th>\n",
       "      <th>SkillMoves</th>\n",
       "      <th>Pace</th>\n",
       "      <th>Shooting</th>\n",
       "      <th>Passing</th>\n",
       "      <th>Dribbling</th>\n",
       "      <th>Defending</th>\n",
       "      <th>Physical</th>\n",
       "      <th>...</th>\n",
       "      <th>Long_Shots</th>\n",
       "      <th>Aggression</th>\n",
       "      <th>Interceptions</th>\n",
       "      <th>Positioning</th>\n",
       "      <th>Vision</th>\n",
       "      <th>Composure</th>\n",
       "      <th>Marking</th>\n",
       "      <th>Standing_Tackle</th>\n",
       "      <th>Sliding_Tackle</th>\n",
       "      <th>Market_Value</th>\n",
       "    </tr>\n",
       "  </thead>\n",
       "  <tbody>\n",
       "    <tr>\n",
       "      <th>6</th>\n",
       "      <td>M. Salah</td>\n",
       "      <td>27.0</td>\n",
       "      <td>90.0</td>\n",
       "      <td>4.0</td>\n",
       "      <td>93.0</td>\n",
       "      <td>86.0</td>\n",
       "      <td>81.0</td>\n",
       "      <td>89.0</td>\n",
       "      <td>45.0</td>\n",
       "      <td>74.0</td>\n",
       "      <td>...</td>\n",
       "      <td>84.0</td>\n",
       "      <td>63.0</td>\n",
       "      <td>55.0</td>\n",
       "      <td>92.0</td>\n",
       "      <td>84.0</td>\n",
       "      <td>91.0</td>\n",
       "      <td>38.0</td>\n",
       "      <td>43.0</td>\n",
       "      <td>41.0</td>\n",
       "      <td>150000000.0</td>\n",
       "    </tr>\n",
       "    <tr>\n",
       "      <th>9</th>\n",
       "      <td>H. Kane</td>\n",
       "      <td>26.0</td>\n",
       "      <td>91.0</td>\n",
       "      <td>3.0</td>\n",
       "      <td>70.0</td>\n",
       "      <td>91.0</td>\n",
       "      <td>79.0</td>\n",
       "      <td>81.0</td>\n",
       "      <td>47.0</td>\n",
       "      <td>83.0</td>\n",
       "      <td>...</td>\n",
       "      <td>86.0</td>\n",
       "      <td>78.0</td>\n",
       "      <td>35.0</td>\n",
       "      <td>93.0</td>\n",
       "      <td>81.0</td>\n",
       "      <td>91.0</td>\n",
       "      <td>56.0</td>\n",
       "      <td>36.0</td>\n",
       "      <td>38.0</td>\n",
       "      <td>150000000.0</td>\n",
       "    </tr>\n",
       "    <tr>\n",
       "      <th>13</th>\n",
       "      <td>A. Lacazette</td>\n",
       "      <td>28.0</td>\n",
       "      <td>86.0</td>\n",
       "      <td>4.0</td>\n",
       "      <td>82.0</td>\n",
       "      <td>85.0</td>\n",
       "      <td>75.0</td>\n",
       "      <td>86.0</td>\n",
       "      <td>40.0</td>\n",
       "      <td>74.0</td>\n",
       "      <td>...</td>\n",
       "      <td>78.0</td>\n",
       "      <td>72.0</td>\n",
       "      <td>42.0</td>\n",
       "      <td>87.0</td>\n",
       "      <td>78.0</td>\n",
       "      <td>86.0</td>\n",
       "      <td>29.0</td>\n",
       "      <td>42.0</td>\n",
       "      <td>30.0</td>\n",
       "      <td>70000000.0</td>\n",
       "    </tr>\n",
       "    <tr>\n",
       "      <th>14</th>\n",
       "      <td>P. Aubameyang</td>\n",
       "      <td>30.0</td>\n",
       "      <td>88.0</td>\n",
       "      <td>4.0</td>\n",
       "      <td>94.0</td>\n",
       "      <td>85.0</td>\n",
       "      <td>75.0</td>\n",
       "      <td>80.0</td>\n",
       "      <td>37.0</td>\n",
       "      <td>69.0</td>\n",
       "      <td>...</td>\n",
       "      <td>79.0</td>\n",
       "      <td>43.0</td>\n",
       "      <td>48.0</td>\n",
       "      <td>90.0</td>\n",
       "      <td>77.0</td>\n",
       "      <td>85.0</td>\n",
       "      <td>27.0</td>\n",
       "      <td>25.0</td>\n",
       "      <td>36.0</td>\n",
       "      <td>70000000.0</td>\n",
       "    </tr>\n",
       "    <tr>\n",
       "      <th>15</th>\n",
       "      <td>S. Agüero</td>\n",
       "      <td>31.0</td>\n",
       "      <td>89.0</td>\n",
       "      <td>4.0</td>\n",
       "      <td>80.0</td>\n",
       "      <td>90.0</td>\n",
       "      <td>77.0</td>\n",
       "      <td>88.0</td>\n",
       "      <td>33.0</td>\n",
       "      <td>74.0</td>\n",
       "      <td>...</td>\n",
       "      <td>84.0</td>\n",
       "      <td>65.0</td>\n",
       "      <td>24.0</td>\n",
       "      <td>93.0</td>\n",
       "      <td>83.0</td>\n",
       "      <td>90.0</td>\n",
       "      <td>30.0</td>\n",
       "      <td>29.0</td>\n",
       "      <td>24.0</td>\n",
       "      <td>65000000.0</td>\n",
       "    </tr>\n",
       "    <tr>\n",
       "      <th>...</th>\n",
       "      <td>...</td>\n",
       "      <td>...</td>\n",
       "      <td>...</td>\n",
       "      <td>...</td>\n",
       "      <td>...</td>\n",
       "      <td>...</td>\n",
       "      <td>...</td>\n",
       "      <td>...</td>\n",
       "      <td>...</td>\n",
       "      <td>...</td>\n",
       "      <td>...</td>\n",
       "      <td>...</td>\n",
       "      <td>...</td>\n",
       "      <td>...</td>\n",
       "      <td>...</td>\n",
       "      <td>...</td>\n",
       "      <td>...</td>\n",
       "      <td>...</td>\n",
       "      <td>...</td>\n",
       "      <td>...</td>\n",
       "      <td>...</td>\n",
       "    </tr>\n",
       "    <tr>\n",
       "      <th>490</th>\n",
       "      <td>G. Thomas</td>\n",
       "      <td>22.0</td>\n",
       "      <td>76.0</td>\n",
       "      <td>3.0</td>\n",
       "      <td>77.0</td>\n",
       "      <td>61.0</td>\n",
       "      <td>61.0</td>\n",
       "      <td>66.0</td>\n",
       "      <td>36.0</td>\n",
       "      <td>64.0</td>\n",
       "      <td>...</td>\n",
       "      <td>58.0</td>\n",
       "      <td>65.0</td>\n",
       "      <td>34.0</td>\n",
       "      <td>62.0</td>\n",
       "      <td>62.0</td>\n",
       "      <td>63.0</td>\n",
       "      <td>35.0</td>\n",
       "      <td>38.0</td>\n",
       "      <td>27.0</td>\n",
       "      <td>500000.0</td>\n",
       "    </tr>\n",
       "    <tr>\n",
       "      <th>491</th>\n",
       "      <td>K. Davis</td>\n",
       "      <td>21.0</td>\n",
       "      <td>76.0</td>\n",
       "      <td>3.0</td>\n",
       "      <td>69.0</td>\n",
       "      <td>59.0</td>\n",
       "      <td>51.0</td>\n",
       "      <td>68.0</td>\n",
       "      <td>41.0</td>\n",
       "      <td>73.0</td>\n",
       "      <td>...</td>\n",
       "      <td>55.0</td>\n",
       "      <td>68.0</td>\n",
       "      <td>44.0</td>\n",
       "      <td>68.0</td>\n",
       "      <td>59.0</td>\n",
       "      <td>52.0</td>\n",
       "      <td>44.0</td>\n",
       "      <td>34.0</td>\n",
       "      <td>23.0</td>\n",
       "      <td>2000000.0</td>\n",
       "    </tr>\n",
       "    <tr>\n",
       "      <th>492</th>\n",
       "      <td>J. Graham</td>\n",
       "      <td>24.0</td>\n",
       "      <td>69.0</td>\n",
       "      <td>4.0</td>\n",
       "      <td>77.0</td>\n",
       "      <td>58.0</td>\n",
       "      <td>61.0</td>\n",
       "      <td>70.0</td>\n",
       "      <td>27.0</td>\n",
       "      <td>47.0</td>\n",
       "      <td>...</td>\n",
       "      <td>56.0</td>\n",
       "      <td>43.0</td>\n",
       "      <td>23.0</td>\n",
       "      <td>57.0</td>\n",
       "      <td>62.0</td>\n",
       "      <td>60.0</td>\n",
       "      <td>33.0</td>\n",
       "      <td>23.0</td>\n",
       "      <td>24.0</td>\n",
       "      <td>500000.0</td>\n",
       "    </tr>\n",
       "    <tr>\n",
       "      <th>495</th>\n",
       "      <td>A. Connolly</td>\n",
       "      <td>19.0</td>\n",
       "      <td>79.0</td>\n",
       "      <td>2.0</td>\n",
       "      <td>70.0</td>\n",
       "      <td>64.0</td>\n",
       "      <td>40.0</td>\n",
       "      <td>60.0</td>\n",
       "      <td>20.0</td>\n",
       "      <td>57.0</td>\n",
       "      <td>...</td>\n",
       "      <td>55.0</td>\n",
       "      <td>50.0</td>\n",
       "      <td>16.0</td>\n",
       "      <td>65.0</td>\n",
       "      <td>47.0</td>\n",
       "      <td>55.0</td>\n",
       "      <td>12.0</td>\n",
       "      <td>18.0</td>\n",
       "      <td>15.0</td>\n",
       "      <td>2500000.0</td>\n",
       "    </tr>\n",
       "    <tr>\n",
       "      <th>499</th>\n",
       "      <td>M. Obafemi</td>\n",
       "      <td>19.0</td>\n",
       "      <td>78.0</td>\n",
       "      <td>2.0</td>\n",
       "      <td>79.0</td>\n",
       "      <td>61.0</td>\n",
       "      <td>49.0</td>\n",
       "      <td>62.0</td>\n",
       "      <td>23.0</td>\n",
       "      <td>50.0</td>\n",
       "      <td>...</td>\n",
       "      <td>56.0</td>\n",
       "      <td>38.0</td>\n",
       "      <td>13.0</td>\n",
       "      <td>65.0</td>\n",
       "      <td>56.0</td>\n",
       "      <td>55.0</td>\n",
       "      <td>18.0</td>\n",
       "      <td>23.0</td>\n",
       "      <td>15.0</td>\n",
       "      <td>2000000.0</td>\n",
       "    </tr>\n",
       "  </tbody>\n",
       "</table>\n",
       "<p>125 rows × 38 columns</p>\n",
       "</div>"
      ],
      "text/plain": [
       "         Fifa Name   Age  Potential  SkillMoves  Pace  Shooting  Passing  \\\n",
       "6         M. Salah  27.0       90.0         4.0  93.0      86.0     81.0   \n",
       "9          H. Kane  26.0       91.0         3.0  70.0      91.0     79.0   \n",
       "13    A. Lacazette  28.0       86.0         4.0  82.0      85.0     75.0   \n",
       "14   P. Aubameyang  30.0       88.0         4.0  94.0      85.0     75.0   \n",
       "15       S. Agüero  31.0       89.0         4.0  80.0      90.0     77.0   \n",
       "..             ...   ...        ...         ...   ...       ...      ...   \n",
       "490      G. Thomas  22.0       76.0         3.0  77.0      61.0     61.0   \n",
       "491       K. Davis  21.0       76.0         3.0  69.0      59.0     51.0   \n",
       "492      J. Graham  24.0       69.0         4.0  77.0      58.0     61.0   \n",
       "495    A. Connolly  19.0       79.0         2.0  70.0      64.0     40.0   \n",
       "499     M. Obafemi  19.0       78.0         2.0  79.0      61.0     49.0   \n",
       "\n",
       "     Dribbling  Defending  Physical  ...  Long_Shots  Aggression  \\\n",
       "6         89.0       45.0      74.0  ...        84.0        63.0   \n",
       "9         81.0       47.0      83.0  ...        86.0        78.0   \n",
       "13        86.0       40.0      74.0  ...        78.0        72.0   \n",
       "14        80.0       37.0      69.0  ...        79.0        43.0   \n",
       "15        88.0       33.0      74.0  ...        84.0        65.0   \n",
       "..         ...        ...       ...  ...         ...         ...   \n",
       "490       66.0       36.0      64.0  ...        58.0        65.0   \n",
       "491       68.0       41.0      73.0  ...        55.0        68.0   \n",
       "492       70.0       27.0      47.0  ...        56.0        43.0   \n",
       "495       60.0       20.0      57.0  ...        55.0        50.0   \n",
       "499       62.0       23.0      50.0  ...        56.0        38.0   \n",
       "\n",
       "     Interceptions  Positioning  Vision  Composure  Marking  Standing_Tackle  \\\n",
       "6             55.0         92.0    84.0       91.0     38.0             43.0   \n",
       "9             35.0         93.0    81.0       91.0     56.0             36.0   \n",
       "13            42.0         87.0    78.0       86.0     29.0             42.0   \n",
       "14            48.0         90.0    77.0       85.0     27.0             25.0   \n",
       "15            24.0         93.0    83.0       90.0     30.0             29.0   \n",
       "..             ...          ...     ...        ...      ...              ...   \n",
       "490           34.0         62.0    62.0       63.0     35.0             38.0   \n",
       "491           44.0         68.0    59.0       52.0     44.0             34.0   \n",
       "492           23.0         57.0    62.0       60.0     33.0             23.0   \n",
       "495           16.0         65.0    47.0       55.0     12.0             18.0   \n",
       "499           13.0         65.0    56.0       55.0     18.0             23.0   \n",
       "\n",
       "     Sliding_Tackle  Market_Value  \n",
       "6              41.0   150000000.0  \n",
       "9              38.0   150000000.0  \n",
       "13             30.0    70000000.0  \n",
       "14             36.0    70000000.0  \n",
       "15             24.0    65000000.0  \n",
       "..              ...           ...  \n",
       "490            27.0      500000.0  \n",
       "491            23.0     2000000.0  \n",
       "492            24.0      500000.0  \n",
       "495            15.0     2500000.0  \n",
       "499            15.0     2000000.0  \n",
       "\n",
       "[125 rows x 38 columns]"
      ]
     },
     "execution_count": 12,
     "metadata": {},
     "output_type": "execute_result"
    }
   ],
   "source": [
    "data2_FW"
   ]
  },
  {
   "cell_type": "markdown",
   "metadata": {},
   "source": [
    "### 3-1-1 모든 변수를 이용해 Market_Value를 예측하는 모델"
   ]
  },
  {
   "cell_type": "code",
   "execution_count": 13,
   "metadata": {},
   "outputs": [
    {
     "data": {
      "text/html": [
       "<table class=\"simpletable\">\n",
       "<caption>OLS Regression Results</caption>\n",
       "<tr>\n",
       "  <th>Dep. Variable:</th>      <td>Market_Value</td>   <th>  R-squared:         </th> <td>   0.758</td>\n",
       "</tr>\n",
       "<tr>\n",
       "  <th>Model:</th>                   <td>OLS</td>       <th>  Adj. R-squared:    </th> <td>   0.659</td>\n",
       "</tr>\n",
       "<tr>\n",
       "  <th>Method:</th>             <td>Least Squares</td>  <th>  F-statistic:       </th> <td>   7.669</td>\n",
       "</tr>\n",
       "<tr>\n",
       "  <th>Date:</th>             <td>Thu, 10 Jun 2021</td> <th>  Prob (F-statistic):</th> <td>4.04e-15</td>\n",
       "</tr>\n",
       "<tr>\n",
       "  <th>Time:</th>                 <td>11:11:11</td>     <th>  Log-Likelihood:    </th> <td> -2240.5</td>\n",
       "</tr>\n",
       "<tr>\n",
       "  <th>No. Observations:</th>      <td>   125</td>      <th>  AIC:               </th> <td>   4555.</td>\n",
       "</tr>\n",
       "<tr>\n",
       "  <th>Df Residuals:</th>          <td>    88</td>      <th>  BIC:               </th> <td>   4660.</td>\n",
       "</tr>\n",
       "<tr>\n",
       "  <th>Df Model:</th>              <td>    36</td>      <th>                     </th>     <td> </td>   \n",
       "</tr>\n",
       "<tr>\n",
       "  <th>Covariance Type:</th>      <td>nonrobust</td>    <th>                     </th>     <td> </td>   \n",
       "</tr>\n",
       "</table>\n",
       "<table class=\"simpletable\">\n",
       "<tr>\n",
       "               <td></td>                 <th>coef</th>     <th>std err</th>      <th>t</th>      <th>P>|t|</th>  <th>[0.025</th>    <th>0.975]</th>  \n",
       "</tr>\n",
       "<tr>\n",
       "  <th>Intercept</th>                  <td>-3.579e+08</td> <td> 5.95e+07</td> <td>   -6.011</td> <td> 0.000</td> <td>-4.76e+08</td> <td> -2.4e+08</td>\n",
       "</tr>\n",
       "<tr>\n",
       "  <th>Age</th>                        <td> 9.366e+04</td> <td> 1.06e+06</td> <td>    0.089</td> <td> 0.930</td> <td>-2.01e+06</td> <td> 2.19e+06</td>\n",
       "</tr>\n",
       "<tr>\n",
       "  <th>Potential</th>                  <td> 2.585e+06</td> <td> 8.26e+05</td> <td>    3.130</td> <td> 0.002</td> <td> 9.44e+05</td> <td> 4.23e+06</td>\n",
       "</tr>\n",
       "<tr>\n",
       "  <th>SkillMoves</th>                 <td>-4.643e+06</td> <td> 4.59e+06</td> <td>   -1.011</td> <td> 0.315</td> <td>-1.38e+07</td> <td> 4.49e+06</td>\n",
       "</tr>\n",
       "<tr>\n",
       "  <th>Pace</th>                       <td>  2.35e+06</td> <td> 6.87e+06</td> <td>    0.342</td> <td> 0.733</td> <td>-1.13e+07</td> <td>  1.6e+07</td>\n",
       "</tr>\n",
       "<tr>\n",
       "  <th>Shooting</th>                   <td> 8.029e+05</td> <td> 3.83e+06</td> <td>    0.209</td> <td> 0.835</td> <td>-6.82e+06</td> <td> 8.42e+06</td>\n",
       "</tr>\n",
       "<tr>\n",
       "  <th>Passing</th>                    <td> -6.89e+05</td> <td> 3.74e+06</td> <td>   -0.184</td> <td> 0.854</td> <td>-8.12e+06</td> <td> 6.74e+06</td>\n",
       "</tr>\n",
       "<tr>\n",
       "  <th>Dribbling</th>                  <td> 9.883e+05</td> <td> 6.06e+06</td> <td>    0.163</td> <td> 0.871</td> <td>-1.11e+07</td> <td>  1.3e+07</td>\n",
       "</tr>\n",
       "<tr>\n",
       "  <th>Defending</th>                  <td>-1.401e+07</td> <td> 6.91e+06</td> <td>   -2.028</td> <td> 0.046</td> <td>-2.77e+07</td> <td>-2.81e+05</td>\n",
       "</tr>\n",
       "<tr>\n",
       "  <th>Physical</th>                   <td>-8.755e+06</td> <td> 6.76e+06</td> <td>   -1.294</td> <td> 0.199</td> <td>-2.22e+07</td> <td> 4.69e+06</td>\n",
       "</tr>\n",
       "<tr>\n",
       "  <th>Attacking_Crossing</th>         <td> 4.344e+05</td> <td> 8.91e+05</td> <td>    0.488</td> <td> 0.627</td> <td>-1.34e+06</td> <td>  2.2e+06</td>\n",
       "</tr>\n",
       "<tr>\n",
       "  <th>Attacking_Finishing</th>        <td>-4.865e+05</td> <td> 1.94e+06</td> <td>   -0.250</td> <td> 0.803</td> <td>-4.35e+06</td> <td> 3.38e+06</td>\n",
       "</tr>\n",
       "<tr>\n",
       "  <th>Attacking_Heading_Accuracy</th> <td>  1.54e+06</td> <td> 7.54e+05</td> <td>    2.041</td> <td> 0.044</td> <td> 4.05e+04</td> <td> 3.04e+06</td>\n",
       "</tr>\n",
       "<tr>\n",
       "  <th>Attacking_Short_Passing</th>    <td>-7.038e+05</td> <td> 1.54e+06</td> <td>   -0.458</td> <td> 0.648</td> <td>-3.76e+06</td> <td> 2.35e+06</td>\n",
       "</tr>\n",
       "<tr>\n",
       "  <th>Attacking_Volleys</th>          <td>-1.898e+05</td> <td> 4.41e+05</td> <td>   -0.430</td> <td> 0.668</td> <td>-1.07e+06</td> <td> 6.87e+05</td>\n",
       "</tr>\n",
       "<tr>\n",
       "  <th>_Dribbling</th>                 <td> 1.932e+05</td> <td> 3.12e+06</td> <td>    0.062</td> <td> 0.951</td> <td>-6.01e+06</td> <td>  6.4e+06</td>\n",
       "</tr>\n",
       "<tr>\n",
       "  <th>Curve</th>                      <td>-1.988e+05</td> <td> 4.36e+05</td> <td>   -0.456</td> <td> 0.650</td> <td>-1.07e+06</td> <td> 6.68e+05</td>\n",
       "</tr>\n",
       "<tr>\n",
       "  <th>Long_Passing</th>               <td> 4.373e+05</td> <td> 6.58e+05</td> <td>    0.664</td> <td> 0.508</td> <td> -8.7e+05</td> <td> 1.74e+06</td>\n",
       "</tr>\n",
       "<tr>\n",
       "  <th>Ball_Control</th>               <td>-2.897e+05</td> <td> 2.02e+06</td> <td>   -0.144</td> <td> 0.886</td> <td> -4.3e+06</td> <td> 3.72e+06</td>\n",
       "</tr>\n",
       "<tr>\n",
       "  <th>Acceleration</th>               <td>-1.226e+06</td> <td> 3.18e+06</td> <td>   -0.385</td> <td> 0.701</td> <td>-7.55e+06</td> <td>  5.1e+06</td>\n",
       "</tr>\n",
       "<tr>\n",
       "  <th>Sprint_Speed</th>               <td> -1.02e+06</td> <td> 3.86e+06</td> <td>   -0.264</td> <td> 0.792</td> <td>-8.69e+06</td> <td> 6.65e+06</td>\n",
       "</tr>\n",
       "<tr>\n",
       "  <th>Agility</th>                    <td>-2.086e+05</td> <td> 8.15e+05</td> <td>   -0.256</td> <td> 0.799</td> <td>-1.83e+06</td> <td> 1.41e+06</td>\n",
       "</tr>\n",
       "<tr>\n",
       "  <th>Reactions</th>                  <td> 1.619e+06</td> <td> 7.19e+05</td> <td>    2.252</td> <td> 0.027</td> <td>  1.9e+05</td> <td> 3.05e+06</td>\n",
       "</tr>\n",
       "<tr>\n",
       "  <th>Balance</th>                    <td> 1.824e+05</td> <td> 4.45e+05</td> <td>    0.409</td> <td> 0.683</td> <td>-7.03e+05</td> <td> 1.07e+06</td>\n",
       "</tr>\n",
       "<tr>\n",
       "  <th>Shot_Power</th>                 <td>-1.459e+06</td> <td> 8.81e+05</td> <td>   -1.655</td> <td> 0.101</td> <td>-3.21e+06</td> <td> 2.93e+05</td>\n",
       "</tr>\n",
       "<tr>\n",
       "  <th>Jumping</th>                    <td> 4.164e+05</td> <td> 4.11e+05</td> <td>    1.012</td> <td> 0.314</td> <td>-4.01e+05</td> <td> 1.23e+06</td>\n",
       "</tr>\n",
       "<tr>\n",
       "  <th>Stamina</th>                    <td>  2.73e+06</td> <td> 1.72e+06</td> <td>    1.584</td> <td> 0.117</td> <td>-6.94e+05</td> <td> 6.15e+06</td>\n",
       "</tr>\n",
       "<tr>\n",
       "  <th>Strength</th>                   <td> 4.791e+06</td> <td> 3.41e+06</td> <td>    1.407</td> <td> 0.163</td> <td>-1.98e+06</td> <td> 1.16e+07</td>\n",
       "</tr>\n",
       "<tr>\n",
       "  <th>Long_Shots</th>                 <td> 2.623e+05</td> <td> 8.54e+05</td> <td>    0.307</td> <td> 0.760</td> <td>-1.44e+06</td> <td> 1.96e+06</td>\n",
       "</tr>\n",
       "<tr>\n",
       "  <th>Aggression</th>                 <td> 1.489e+06</td> <td> 1.32e+06</td> <td>    1.128</td> <td> 0.263</td> <td>-1.14e+06</td> <td> 4.11e+06</td>\n",
       "</tr>\n",
       "<tr>\n",
       "  <th>Interceptions</th>              <td>  2.73e+06</td> <td> 1.43e+06</td> <td>    1.904</td> <td> 0.060</td> <td>-1.19e+05</td> <td> 5.58e+06</td>\n",
       "</tr>\n",
       "<tr>\n",
       "  <th>Positioning</th>                <td> 9.143e+05</td> <td> 8.05e+05</td> <td>    1.135</td> <td> 0.259</td> <td>-6.86e+05</td> <td> 2.51e+06</td>\n",
       "</tr>\n",
       "<tr>\n",
       "  <th>Vision</th>                     <td> 5.582e+05</td> <td> 8.82e+05</td> <td>    0.633</td> <td> 0.529</td> <td>-1.19e+06</td> <td> 2.31e+06</td>\n",
       "</tr>\n",
       "<tr>\n",
       "  <th>Composure</th>                  <td>-4.621e+05</td> <td> 4.83e+05</td> <td>   -0.957</td> <td> 0.341</td> <td>-1.42e+06</td> <td> 4.97e+05</td>\n",
       "</tr>\n",
       "<tr>\n",
       "  <th>Marking</th>                    <td> 4.116e+06</td> <td>  2.1e+06</td> <td>    1.964</td> <td> 0.053</td> <td>-4.96e+04</td> <td> 8.28e+06</td>\n",
       "</tr>\n",
       "<tr>\n",
       "  <th>Standing_Tackle</th>            <td> 4.013e+06</td> <td> 2.12e+06</td> <td>    1.896</td> <td> 0.061</td> <td>-1.94e+05</td> <td> 8.22e+06</td>\n",
       "</tr>\n",
       "<tr>\n",
       "  <th>Sliding_Tackle</th>             <td>  1.86e+06</td> <td> 7.43e+05</td> <td>    2.504</td> <td> 0.014</td> <td> 3.84e+05</td> <td> 3.34e+06</td>\n",
       "</tr>\n",
       "</table>\n",
       "<table class=\"simpletable\">\n",
       "<tr>\n",
       "  <th>Omnibus:</th>       <td>32.004</td> <th>  Durbin-Watson:     </th> <td>   1.522</td>\n",
       "</tr>\n",
       "<tr>\n",
       "  <th>Prob(Omnibus):</th> <td> 0.000</td> <th>  Jarque-Bera (JB):  </th> <td>  53.656</td>\n",
       "</tr>\n",
       "<tr>\n",
       "  <th>Skew:</th>          <td> 1.182</td> <th>  Prob(JB):          </th> <td>2.23e-12</td>\n",
       "</tr>\n",
       "<tr>\n",
       "  <th>Kurtosis:</th>      <td> 5.172</td> <th>  Cond. No.          </th> <td>1.51e+04</td>\n",
       "</tr>\n",
       "</table><br/><br/>Warnings:<br/>[1] Standard Errors assume that the covariance matrix of the errors is correctly specified.<br/>[2] The condition number is large, 1.51e+04. This might indicate that there are<br/>strong multicollinearity or other numerical problems."
      ],
      "text/plain": [
       "<class 'statsmodels.iolib.summary.Summary'>\n",
       "\"\"\"\n",
       "                            OLS Regression Results                            \n",
       "==============================================================================\n",
       "Dep. Variable:           Market_Value   R-squared:                       0.758\n",
       "Model:                            OLS   Adj. R-squared:                  0.659\n",
       "Method:                 Least Squares   F-statistic:                     7.669\n",
       "Date:                Thu, 10 Jun 2021   Prob (F-statistic):           4.04e-15\n",
       "Time:                        11:11:11   Log-Likelihood:                -2240.5\n",
       "No. Observations:                 125   AIC:                             4555.\n",
       "Df Residuals:                      88   BIC:                             4660.\n",
       "Df Model:                          36                                         \n",
       "Covariance Type:            nonrobust                                         \n",
       "==============================================================================================\n",
       "                                 coef    std err          t      P>|t|      [0.025      0.975]\n",
       "----------------------------------------------------------------------------------------------\n",
       "Intercept                  -3.579e+08   5.95e+07     -6.011      0.000   -4.76e+08    -2.4e+08\n",
       "Age                         9.366e+04   1.06e+06      0.089      0.930   -2.01e+06    2.19e+06\n",
       "Potential                   2.585e+06   8.26e+05      3.130      0.002    9.44e+05    4.23e+06\n",
       "SkillMoves                 -4.643e+06   4.59e+06     -1.011      0.315   -1.38e+07    4.49e+06\n",
       "Pace                         2.35e+06   6.87e+06      0.342      0.733   -1.13e+07     1.6e+07\n",
       "Shooting                    8.029e+05   3.83e+06      0.209      0.835   -6.82e+06    8.42e+06\n",
       "Passing                     -6.89e+05   3.74e+06     -0.184      0.854   -8.12e+06    6.74e+06\n",
       "Dribbling                   9.883e+05   6.06e+06      0.163      0.871   -1.11e+07     1.3e+07\n",
       "Defending                  -1.401e+07   6.91e+06     -2.028      0.046   -2.77e+07   -2.81e+05\n",
       "Physical                   -8.755e+06   6.76e+06     -1.294      0.199   -2.22e+07    4.69e+06\n",
       "Attacking_Crossing          4.344e+05   8.91e+05      0.488      0.627   -1.34e+06     2.2e+06\n",
       "Attacking_Finishing        -4.865e+05   1.94e+06     -0.250      0.803   -4.35e+06    3.38e+06\n",
       "Attacking_Heading_Accuracy   1.54e+06   7.54e+05      2.041      0.044    4.05e+04    3.04e+06\n",
       "Attacking_Short_Passing    -7.038e+05   1.54e+06     -0.458      0.648   -3.76e+06    2.35e+06\n",
       "Attacking_Volleys          -1.898e+05   4.41e+05     -0.430      0.668   -1.07e+06    6.87e+05\n",
       "_Dribbling                  1.932e+05   3.12e+06      0.062      0.951   -6.01e+06     6.4e+06\n",
       "Curve                      -1.988e+05   4.36e+05     -0.456      0.650   -1.07e+06    6.68e+05\n",
       "Long_Passing                4.373e+05   6.58e+05      0.664      0.508    -8.7e+05    1.74e+06\n",
       "Ball_Control               -2.897e+05   2.02e+06     -0.144      0.886    -4.3e+06    3.72e+06\n",
       "Acceleration               -1.226e+06   3.18e+06     -0.385      0.701   -7.55e+06     5.1e+06\n",
       "Sprint_Speed                -1.02e+06   3.86e+06     -0.264      0.792   -8.69e+06    6.65e+06\n",
       "Agility                    -2.086e+05   8.15e+05     -0.256      0.799   -1.83e+06    1.41e+06\n",
       "Reactions                   1.619e+06   7.19e+05      2.252      0.027     1.9e+05    3.05e+06\n",
       "Balance                     1.824e+05   4.45e+05      0.409      0.683   -7.03e+05    1.07e+06\n",
       "Shot_Power                 -1.459e+06   8.81e+05     -1.655      0.101   -3.21e+06    2.93e+05\n",
       "Jumping                     4.164e+05   4.11e+05      1.012      0.314   -4.01e+05    1.23e+06\n",
       "Stamina                      2.73e+06   1.72e+06      1.584      0.117   -6.94e+05    6.15e+06\n",
       "Strength                    4.791e+06   3.41e+06      1.407      0.163   -1.98e+06    1.16e+07\n",
       "Long_Shots                  2.623e+05   8.54e+05      0.307      0.760   -1.44e+06    1.96e+06\n",
       "Aggression                  1.489e+06   1.32e+06      1.128      0.263   -1.14e+06    4.11e+06\n",
       "Interceptions                2.73e+06   1.43e+06      1.904      0.060   -1.19e+05    5.58e+06\n",
       "Positioning                 9.143e+05   8.05e+05      1.135      0.259   -6.86e+05    2.51e+06\n",
       "Vision                      5.582e+05   8.82e+05      0.633      0.529   -1.19e+06    2.31e+06\n",
       "Composure                  -4.621e+05   4.83e+05     -0.957      0.341   -1.42e+06    4.97e+05\n",
       "Marking                     4.116e+06    2.1e+06      1.964      0.053   -4.96e+04    8.28e+06\n",
       "Standing_Tackle             4.013e+06   2.12e+06      1.896      0.061   -1.94e+05    8.22e+06\n",
       "Sliding_Tackle               1.86e+06   7.43e+05      2.504      0.014    3.84e+05    3.34e+06\n",
       "==============================================================================\n",
       "Omnibus:                       32.004   Durbin-Watson:                   1.522\n",
       "Prob(Omnibus):                  0.000   Jarque-Bera (JB):               53.656\n",
       "Skew:                           1.182   Prob(JB):                     2.23e-12\n",
       "Kurtosis:                       5.172   Cond. No.                     1.51e+04\n",
       "==============================================================================\n",
       "\n",
       "Warnings:\n",
       "[1] Standard Errors assume that the covariance matrix of the errors is correctly specified.\n",
       "[2] The condition number is large, 1.51e+04. This might indicate that there are\n",
       "strong multicollinearity or other numerical problems.\n",
       "\"\"\""
      ]
     },
     "execution_count": 13,
     "metadata": {},
     "output_type": "execute_result"
    }
   ],
   "source": [
    "# 모두를 변수로 하고 만든 모델\n",
    "lm_model_FW_MV_all = smf.ols(formula = 'Market_Value ~ Age+Potential+ SkillMoves +Pace +Shooting+ Passing+Dribbling+Defending+Physical+Attacking_Crossing+Attacking_Finishing+Attacking_Heading_Accuracy+Attacking_Short_Passing+Attacking_Volleys+_Dribbling+Curve+Long_Passing+Ball_Control+Acceleration+Sprint_Speed+Agility+Reactions+Balance+Shot_Power+Jumping+Stamina+Strength+Long_Shots+Aggression+Interceptions+Positioning+Vision+Composure+Marking+Standing_Tackle+Sliding_Tackle' \n",
    "                             ,data=data2_FW).fit()\n",
    "lm_model_FW_MV_all.summary()"
   ]
  },
  {
   "cell_type": "markdown",
   "metadata": {},
   "source": [
    "###### p값이 0.05보다 낮은 변수들이 너무 적다. 그래도 이 변수들로만으로 모델을 만들어봤다."
   ]
  },
  {
   "cell_type": "code",
   "execution_count": 14,
   "metadata": {},
   "outputs": [
    {
     "data": {
      "text/plain": [
       "4533.867"
      ]
     },
     "execution_count": 14,
     "metadata": {},
     "output_type": "execute_result"
    }
   ],
   "source": [
    "# 모든 변수를 이용한 모델에서 p값이 0.05보다 낮은 요인으로만 만든 모델\n",
    "lm_FW_MV_P_value=smf.ols(formula= 'Market_Value ~ Potential+Defending+Attacking_Heading_Accuracy+Reactions+Sliding_Tackle'\n",
    "          ,data=data2_FW).fit()\n",
    "lm_FW_MV_P_value.aic.round(3)"
   ]
  },
  {
   "cell_type": "markdown",
   "metadata": {},
   "source": [
    "###### 위 모델의 aic의 값을 기억하고 다른 모델을 만들기"
   ]
  },
  {
   "cell_type": "markdown",
   "metadata": {},
   "source": [
    "### 3-1-2 단일요인(독립변수)를 이용해 Market_Value을 잘 예측하는 모델 찾기. (AIC를 이용해 판단)"
   ]
  },
  {
   "cell_type": "code",
   "execution_count": 15,
   "metadata": {},
   "outputs": [],
   "source": [
    "lm_model_FW_MV_1 = smf.ols(formula = 'Market_Value ~ Age' ,data=data2_FW).fit()\n",
    "lm_model_FW_MV_2 = smf.ols(formula = 'Market_Value ~ Potential' ,data=data2_FW).fit()\n",
    "lm_model_FW_MV_3 = smf.ols(formula = 'Market_Value ~ SkillMoves' ,data=data2_FW).fit()\n",
    "lm_model_FW_MV_4 = smf.ols(formula = 'Market_Value ~ Pace' ,data=data2_FW).fit()\n",
    "lm_model_FW_MV_5 = smf.ols(formula = 'Market_Value ~ Shooting' ,data=data2_FW).fit()\n",
    "lm_model_FW_MV_6 = smf.ols(formula = 'Market_Value ~ Passing' ,data=data2_FW).fit()\n",
    "lm_model_FW_MV_7 = smf.ols(formula = 'Market_Value ~ Dribbling' ,data=data2_FW).fit()\n",
    "lm_model_FW_MV_8 = smf.ols(formula = 'Market_Value ~ Defending' ,data=data2_FW).fit()\n",
    "lm_model_FW_MV_9 = smf.ols(formula = 'Market_Value ~ Physical' ,data=data2_FW).fit()\n",
    "lm_model_FW_MV_10 = smf.ols(formula = 'Market_Value ~ Attacking_Crossing' ,data=data2_FW).fit()\n",
    "\n",
    "lm_model_FW_MV_11 = smf.ols(formula = 'Market_Value ~ Attacking_Finishing' ,data=data2_FW).fit()\n",
    "lm_model_FW_MV_12 = smf.ols(formula = 'Market_Value ~ Attacking_Heading_Accuracy' ,data=data2_FW).fit()\n",
    "lm_model_FW_MV_13 = smf.ols(formula = 'Market_Value ~ Attacking_Short_Passing' ,data=data2_FW).fit()\n",
    "lm_model_FW_MV_14 = smf.ols(formula = 'Market_Value ~ Attacking_Volleys' ,data=data2_FW).fit()\n",
    "lm_model_FW_MV_15 = smf.ols(formula = 'Market_Value ~ _Dribbling' ,data=data2_FW).fit()\n",
    "lm_model_FW_MV_16 = smf.ols(formula = 'Market_Value ~ Curve' ,data=data2_FW).fit()\n",
    "lm_model_FW_MV_17 = smf.ols(formula = 'Market_Value ~ Long_Passing' ,data=data2_FW).fit()\n",
    "lm_model_FW_MV_18 = smf.ols(formula = 'Market_Value ~ Ball_Control' ,data=data2_FW).fit()\n",
    "lm_model_FW_MV_19 = smf.ols(formula = 'Market_Value ~ Acceleration' ,data=data2_FW).fit()\n",
    "lm_model_FW_MV_20 = smf.ols(formula = 'Market_Value ~ Sprint_Speed' ,data=data2_FW).fit()\n",
    "\n",
    "lm_model_FW_MV_21 = smf.ols(formula = 'Market_Value ~ Agility' ,data=data2_FW).fit()\n",
    "lm_model_FW_MV_22 = smf.ols(formula = 'Market_Value ~ Reactions' ,data=data2_FW).fit()\n",
    "lm_model_FW_MV_23 = smf.ols(formula = 'Market_Value ~ Balance' ,data=data2_FW).fit()\n",
    "lm_model_FW_MV_24 = smf.ols(formula = 'Market_Value ~ Shot_Power' ,data=data2_FW).fit()\n",
    "lm_model_FW_MV_25 = smf.ols(formula = 'Market_Value ~ Jumping' ,data=data2_FW).fit()\n",
    "lm_model_FW_MV_26 = smf.ols(formula = 'Market_Value ~ Stamina' ,data=data2_FW).fit()\n",
    "lm_model_FW_MV_27 = smf.ols(formula = 'Market_Value ~ Strength' ,data=data2_FW).fit()\n",
    "lm_model_FW_MV_28 = smf.ols(formula = 'Market_Value ~ Long_Shots' ,data=data2_FW).fit()\n",
    "lm_model_FW_MV_29 = smf.ols(formula = 'Market_Value ~ Aggression' ,data=data2_FW).fit()\n",
    "lm_model_FW_MV_30 = smf.ols(formula = 'Market_Value ~ Interceptions' ,data=data2_FW).fit()\n",
    "\n",
    "lm_model_FW_MV_31 = smf.ols(formula = 'Market_Value ~ Positioning' ,data=data2_FW).fit()\n",
    "lm_model_FW_MV_32 = smf.ols(formula = 'Market_Value ~ Vision' ,data=data2_FW).fit()\n",
    "lm_model_FW_MV_33 = smf.ols(formula = 'Market_Value ~ Composure' ,data=data2_FW).fit()\n",
    "lm_model_FW_MV_34 = smf.ols(formula = 'Market_Value ~ Marking' ,data=data2_FW).fit()\n",
    "lm_model_FW_MV_35 = smf.ols(formula = 'Market_Value ~ Standing_Tackle' ,data=data2_FW).fit()\n",
    "lm_model_FW_MV_36 = smf.ols(formula = 'Market_Value ~ Sliding_Tackle' ,data=data2_FW).fit()"
   ]
  },
  {
   "cell_type": "code",
   "execution_count": 16,
   "metadata": {},
   "outputs": [],
   "source": [
    "lm_model_FW_MV_AIC_list=[]\n",
    "\n",
    "lm_model_FW_MV_AIC_list.append(lm_model_FW_MV_1.aic.round(3))\n",
    "lm_model_FW_MV_AIC_list.append(lm_model_FW_MV_2.aic.round(3))\n",
    "lm_model_FW_MV_AIC_list.append(lm_model_FW_MV_3.aic.round(3))\n",
    "lm_model_FW_MV_AIC_list.append(lm_model_FW_MV_4.aic.round(3))\n",
    "lm_model_FW_MV_AIC_list.append(lm_model_FW_MV_5.aic.round(3))\n",
    "lm_model_FW_MV_AIC_list.append(lm_model_FW_MV_6.aic.round(3))\n",
    "lm_model_FW_MV_AIC_list.append(lm_model_FW_MV_7.aic.round(3))\n",
    "lm_model_FW_MV_AIC_list.append(lm_model_FW_MV_8.aic.round(3))\n",
    "lm_model_FW_MV_AIC_list.append(lm_model_FW_MV_9.aic.round(3))\n",
    "lm_model_FW_MV_AIC_list.append(lm_model_FW_MV_10.aic.round(3))\n",
    "lm_model_FW_MV_AIC_list.append(lm_model_FW_MV_11.aic.round(3))\n",
    "lm_model_FW_MV_AIC_list.append(lm_model_FW_MV_12.aic.round(3))\n",
    "lm_model_FW_MV_AIC_list.append(lm_model_FW_MV_13.aic.round(3))\n",
    "lm_model_FW_MV_AIC_list.append(lm_model_FW_MV_14.aic.round(3))\n",
    "lm_model_FW_MV_AIC_list.append(lm_model_FW_MV_15.aic.round(3))\n",
    "lm_model_FW_MV_AIC_list.append(lm_model_FW_MV_16.aic.round(3))\n",
    "lm_model_FW_MV_AIC_list.append(lm_model_FW_MV_17.aic.round(3))\n",
    "lm_model_FW_MV_AIC_list.append(lm_model_FW_MV_18.aic.round(3))\n",
    "lm_model_FW_MV_AIC_list.append(lm_model_FW_MV_19.aic.round(3))\n",
    "lm_model_FW_MV_AIC_list.append(lm_model_FW_MV_20.aic.round(3))\n",
    "lm_model_FW_MV_AIC_list.append(lm_model_FW_MV_21.aic.round(3))\n",
    "lm_model_FW_MV_AIC_list.append(lm_model_FW_MV_22.aic.round(3))\n",
    "lm_model_FW_MV_AIC_list.append(lm_model_FW_MV_23.aic.round(3))\n",
    "lm_model_FW_MV_AIC_list.append(lm_model_FW_MV_24.aic.round(3))\n",
    "lm_model_FW_MV_AIC_list.append(lm_model_FW_MV_25.aic.round(3))\n",
    "lm_model_FW_MV_AIC_list.append(lm_model_FW_MV_26.aic.round(3))\n",
    "lm_model_FW_MV_AIC_list.append(lm_model_FW_MV_27.aic.round(3))\n",
    "lm_model_FW_MV_AIC_list.append(lm_model_FW_MV_28.aic.round(3))\n",
    "lm_model_FW_MV_AIC_list.append(lm_model_FW_MV_29.aic.round(3))\n",
    "lm_model_FW_MV_AIC_list.append(lm_model_FW_MV_30.aic.round(3))\n",
    "lm_model_FW_MV_AIC_list.append(lm_model_FW_MV_31.aic.round(3))\n",
    "lm_model_FW_MV_AIC_list.append(lm_model_FW_MV_32.aic.round(3))\n",
    "lm_model_FW_MV_AIC_list.append(lm_model_FW_MV_33.aic.round(3))\n",
    "lm_model_FW_MV_AIC_list.append(lm_model_FW_MV_34.aic.round(3))\n",
    "lm_model_FW_MV_AIC_list.append(lm_model_FW_MV_35.aic.round(3))\n",
    "lm_model_FW_MV_AIC_list.append(lm_model_FW_MV_36.aic.round(3))\n",
    "\n",
    "lm_model_FW_MV_AIC_DataFrame=pd.DataFrame([lm_model_FW_MV_AIC_list],columns=list(data2_FW.columns[1:37]))"
   ]
  },
  {
   "cell_type": "markdown",
   "metadata": {},
   "source": [
    "#### -AIC가 가장 낮은 상위 8개를 가장 낮은 AIC와의 차이를 그래프로 표현"
   ]
  },
  {
   "cell_type": "markdown",
   "metadata": {},
   "source": [
    "###### - Potential - Reactions - Ball_Control - Dribbling - Positioning - Stamina  - Attacking_Short_Passing - Composure  순서로 AIC가 낮았다."
   ]
  },
  {
   "cell_type": "code",
   "execution_count": 17,
   "metadata": {},
   "outputs": [
    {
     "data": {
      "text/plain": [
       "<matplotlib.legend.Legend at 0x104f5860148>"
      ]
     },
     "execution_count": 17,
     "metadata": {},
     "output_type": "execute_result"
    },
    {
     "data": {
      "image/png": "[encoded data removed]",
      "text/plain": [
       "<Figure size 432x288 with 1 Axes>"
      ]
     },
     "metadata": {},
     "output_type": "display_data"
    }
   ],
   "source": [
    "sns.set(font_scale=1)\n",
    "sns.barplot(data=pd.DataFrame(lm_model_FW_MV_AIC_DataFrame.iloc[0].sort_values()[:8] - \n",
    "             lm_model_FW_MV_AIC_DataFrame.iloc[0].sort_values()[0]).T)\n",
    "plt.xlabel(\"difference AIC\",fontsize=15)\n",
    "plt.legend(lm_model_FW_MV_AIC_DataFrame.iloc[0].sort_values()[:8].index)"
   ]
  },
  {
   "cell_type": "markdown",
   "metadata": {},
   "source": [
    "### 3-1-3 여러개의 요인(독립변수)을 이용해 Market_Value을 잘 예측하는 모델 찾기. (단일변수를 사용한 모델에서 AIC가 작은순서대로 변수를 추가하여 판단.)"
   ]
  },
  {
   "cell_type": "code",
   "execution_count": 18,
   "metadata": {},
   "outputs": [
    {
     "data": {
      "text/plain": [
       "Residual                      2.712209e+16\n",
       "Potential                     3.019414e+15\n",
       "Sliding_Tackle                1.932397e+15\n",
       "Reactions                     1.563235e+15\n",
       "Attacking_Heading_Accuracy    1.283826e+15\n",
       "Defending                     1.267527e+15\n",
       "Marking                       1.188396e+15\n",
       "Interceptions                 1.117263e+15\n",
       "Standing_Tackle               1.107471e+15\n",
       "Shot_Power                    8.444530e+14\n",
       "Stamina                       7.736532e+14\n",
       "Strength                      6.100728e+14\n",
       "Physical                      5.162123e+14\n",
       "Positioning                   3.972933e+14\n",
       "Aggression                    3.919265e+14\n",
       "Jumping                       3.157747e+14\n",
       "SkillMoves                    3.148919e+14\n",
       "Composure                     2.823451e+14\n",
       "Long_Passing                  1.360890e+14\n",
       "Vision                        1.233991e+14\n",
       "Attacking_Crossing            7.331682e+13\n",
       "Attacking_Short_Passing       6.452063e+13\n",
       "Curve                         6.404843e+13\n",
       "Attacking_Volleys             5.701343e+13\n",
       "Balance                       5.167615e+13\n",
       "Acceleration                  4.572946e+13\n",
       "Pace                          3.602768e+13\n",
       "Long_Shots                    2.905832e+13\n",
       "Sprint_Speed                  2.153539e+13\n",
       "Agility                       2.018760e+13\n",
       "Attacking_Finishing           1.928539e+13\n",
       "Shooting                      1.351500e+13\n",
       "Passing                       1.047179e+13\n",
       "Dribbling                     8.199682e+12\n",
       "Ball_Control                  6.347731e+12\n",
       "Age                           2.420216e+12\n",
       "_Dribbling                    1.180599e+12\n",
       "Name: sum_sq, dtype: float64"
      ]
     },
     "execution_count": 18,
     "metadata": {},
     "output_type": "execute_result"
    }
   ],
   "source": [
    "# 잠시 중간에 Type II ANOVA 할거임 그래서 모든 변수가 들어간 모델 만들었음.\n",
    "sm.stats.anova_lm(lm_model_FW_MV_all, typ=2).round(3)['sum_sq'].sort_values( ascending=False)\n"
   ]
  },
  {
   "cell_type": "code",
   "execution_count": 19,
   "metadata": {},
   "outputs": [],
   "source": [
    "lm_model_FW_MV_2variable = smf.ols(\"Market_Value ~ Potential+Reactions\", data2_FW).fit()\n",
    "lm_model_FW_MV_2variable_aic=lm_model_FW_MV_2variable.aic.round(3)\n",
    "\n",
    "lm_model_FW_MV_3variable = smf.ols(\"Market_Value ~ Potential+Reactions+Ball_Control\", data2_FW).fit()\n",
    "lm_model_FW_MV_3variable_aic=lm_model_FW_MV_3variable.aic.round(3)\n",
    "\n",
    "# 이게 공격수에서 Market_Value을 예측하는데 가장 효율적인 모델\n",
    "lm_model_FW_MV_4variable = smf.ols(\"Market_Value ~ Potential+Reactions+Ball_Control+Dribbling\", data2_FW).fit()\n",
    "lm_model_FW_MV_4variable_aic=lm_model_FW_MV_4variable.aic.round(3)\n",
    "\n",
    "lm_model_FW_MV_5variable = smf.ols(\"Market_Value ~ Potential+Reactions+Ball_Control+Dribbling+Positioning\", data2_FW).fit()\n",
    "lm_model_FW_MV_5variable_aic=lm_model_FW_MV_5variable.aic.round(3)\n",
    "\n",
    "lm_model_FW_MV_6variable = smf.ols(\"Market_Value ~ Potential+Reactions+Ball_Control+Dribbling+Positioning+Stamina\"\n",
    "                                   , data2_FW).fit()\n",
    "lm_model_FW_MV_6variable_aic=lm_model_FW_MV_6variable.aic.round(3)\n",
    "\n",
    "lm_model_FW_MV_7variable = smf.ols(\"Market_Value ~ Potential+Reactions+Ball_Control+Dribbling+Positioning+Stamina+Attacking_Short_Passing\"\n",
    "                                   , data2_FW).fit()\n",
    "lm_model_FW_MV_7variable_aic=lm_model_FW_MV_7variable.aic.round(3)\n",
    "\n",
    "\n",
    "lm_model_FW_MV_8variable = smf.ols(\"Market_Value ~ Potential+Reactions+Ball_Control+Dribbling+Positioning+Stamina+Attacking_Short_Passing+Composure\"\n",
    "                                   , data2_FW).fit()\n",
    "lm_model_FW_MV_8variable_aic=lm_model_FW_MV_8variable.aic.round(3)"
   ]
  },
  {
   "cell_type": "markdown",
   "metadata": {},
   "source": [
    "#### 여러개의 요인으로 만든 모델의 AIC값의 차이 그래프"
   ]
  },
  {
   "cell_type": "code",
   "execution_count": 20,
   "metadata": {},
   "outputs": [
    {
     "data": {
      "text/html": [
       "<div>\n",
       "<style scoped>\n",
       "    .dataframe tbody tr th:only-of-type {\n",
       "        vertical-align: middle;\n",
       "    }\n",
       "\n",
       "    .dataframe tbody tr th {\n",
       "        vertical-align: top;\n",
       "    }\n",
       "\n",
       "    .dataframe thead th {\n",
       "        text-align: right;\n",
       "    }\n",
       "</style>\n",
       "<table border=\"1\" class=\"dataframe\">\n",
       "  <thead>\n",
       "    <tr style=\"text-align: right;\">\n",
       "      <th></th>\n",
       "      <th>0</th>\n",
       "    </tr>\n",
       "  </thead>\n",
       "  <tbody>\n",
       "    <tr>\n",
       "      <th>2variable</th>\n",
       "      <td>4530.623</td>\n",
       "    </tr>\n",
       "    <tr>\n",
       "      <th>3variable</th>\n",
       "      <td>4532.366</td>\n",
       "    </tr>\n",
       "    <tr>\n",
       "      <th>4variable</th>\n",
       "      <td>4527.059</td>\n",
       "    </tr>\n",
       "    <tr>\n",
       "      <th>5variable</th>\n",
       "      <td>4528.796</td>\n",
       "    </tr>\n",
       "    <tr>\n",
       "      <th>6variable</th>\n",
       "      <td>4527.599</td>\n",
       "    </tr>\n",
       "    <tr>\n",
       "      <th>7variable</th>\n",
       "      <td>4529.590</td>\n",
       "    </tr>\n",
       "    <tr>\n",
       "      <th>8variable</th>\n",
       "      <td>4530.098</td>\n",
       "    </tr>\n",
       "  </tbody>\n",
       "</table>\n",
       "</div>"
      ],
      "text/plain": [
       "                  0\n",
       "2variable  4530.623\n",
       "3variable  4532.366\n",
       "4variable  4527.059\n",
       "5variable  4528.796\n",
       "6variable  4527.599\n",
       "7variable  4529.590\n",
       "8variable  4530.098"
      ]
     },
     "execution_count": 20,
     "metadata": {},
     "output_type": "execute_result"
    }
   ],
   "source": [
    "lm_model_FW_MV_variable_AIC_list=[lm_model_FW_MV_2variable_aic,lm_model_FW_MV_3variable_aic,\n",
    "                                  lm_model_FW_MV_4variable_aic,lm_model_FW_MV_5variable_aic,\n",
    "                                 lm_model_FW_MV_6variable_aic,lm_model_FW_MV_7variable_aic,\n",
    "                                 lm_model_FW_MV_8variable_aic]\n",
    "\n",
    "lm_model_FW_MV_variable_AIC_DataFrame=pd.DataFrame([lm_model_FW_MV_variable_AIC_list],\n",
    "                                                   columns=['2variable','3variable','4variable','5variable',\n",
    "                                                           '6variable','7variable','8variable'])\n",
    "lm_model_FW_MV_variable_AIC_DataFrame.T"
   ]
  },
  {
   "cell_type": "code",
   "execution_count": 21,
   "metadata": {},
   "outputs": [
    {
     "data": {
      "text/plain": [
       "Text(0.5, 0, 'difference variable AIC')"
      ]
     },
     "execution_count": 21,
     "metadata": {},
     "output_type": "execute_result"
    },
    {
     "data": {
      "image/png": "[encoded data removed]",
      "text/plain": [
       "<Figure size 432x288 with 1 Axes>"
      ]
     },
     "metadata": {},
     "output_type": "display_data"
    }
   ],
   "source": [
    "sns.set(font_scale=1)\n",
    "sns.barplot(data=(lm_model_FW_MV_variable_AIC_DataFrame.T-\n",
    "            lm_model_FW_MV_variable_AIC_DataFrame['4variable'][0]).T)\n",
    "plt.xlabel(\"difference variable AIC\",fontsize=15)"
   ]
  },
  {
   "cell_type": "markdown",
   "metadata": {},
   "source": [
    "###### 그런데 단일변수로 했을때 AIC가 작은 순서로 변수를 추가하여 모델을 만들었는데 변수가 6개일때 AIC가 올라가야  정상인데 갑자기 내려갔다. 그래서 변수가 4개인 모델보다 더 좋은 모델이 있을거라고 판단! "
   ]
  },
  {
   "cell_type": "markdown",
   "metadata": {},
   "source": [
    "###### 변수가 5개에서 6개일때 추가된 요인이 'Stamina'이다. 그래서 변수가 4개인 모델에 'Stamina'요인을 추가하여 새롭게 변수가 5개인 모델을 다시 만들어 AIC를 측정해봄."
   ]
  },
  {
   "cell_type": "markdown",
   "metadata": {},
   "source": [
    "###### 참고로 모든 변수를 넣은 모델에서 p값이 0.05보다 작은 변수만 넣은 모델의 AIC값인 4533.867은 단일변수로 했을때 AIC가 작은 순서대로 넣어 변수가 4개인 모델보다 높았음."
   ]
  },
  {
   "cell_type": "markdown",
   "metadata": {},
   "source": [
    "### 3-1-4 변수를 수정한 새로운 모델"
   ]
  },
  {
   "cell_type": "code",
   "execution_count": 22,
   "metadata": {},
   "outputs": [
    {
     "data": {
      "text/plain": [
       "4527.059"
      ]
     },
     "execution_count": 22,
     "metadata": {},
     "output_type": "execute_result"
    }
   ],
   "source": [
    "# 기존에 변수가 4개인 가장 좋은 모델이라고 생각한 모델의 AIC\n",
    "lm_model_FW_MV_4variable_aic"
   ]
  },
  {
   "cell_type": "markdown",
   "metadata": {},
   "source": [
    "###### 더 좋을거라고 생각한 모델(Stamina가 추가된 모델)"
   ]
  },
  {
   "cell_type": "code",
   "execution_count": 23,
   "metadata": {},
   "outputs": [
    {
     "data": {
      "text/plain": [
       "4525.66"
      ]
     },
     "execution_count": 23,
     "metadata": {},
     "output_type": "execute_result"
    }
   ],
   "source": [
    "lm_model_FW_MV_new_5variable = smf.ols(\"Market_Value ~ Potential+Reactions+Ball_Control+Dribbling+Stamina\", data2_FW).fit()\n",
    "lm_model_FW_MV_new_5variable_aic=lm_model_FW_MV_new_5variable.aic.round(3)\n",
    "lm_model_FW_MV_new_5variable_aic"
   ]
  },
  {
   "cell_type": "code",
   "execution_count": 24,
   "metadata": {},
   "outputs": [
    {
     "data": {
      "text/plain": [
       "Text(0.5, 0, 'difference variable AIC')"
      ]
     },
     "execution_count": 24,
     "metadata": {},
     "output_type": "execute_result"
    },
    {
     "data": {
      "image/png": "[encoded data removed]",
      "text/plain": [
       "<Figure size 432x288 with 1 Axes>"
      ]
     },
     "metadata": {},
     "output_type": "display_data"
    }
   ],
   "source": [
    "# Stamina가 추가된 모델의 AIC값을 포함한 그래프\n",
    "lm_model_FW_MV_new_variable_AIC_list=[lm_model_FW_MV_2variable_aic,lm_model_FW_MV_3variable_aic,\n",
    "                                  lm_model_FW_MV_4variable_aic,lm_model_FW_MV_5variable_aic,\n",
    "                                 lm_model_FW_MV_6variable_aic,lm_model_FW_MV_7variable_aic,\n",
    "                                 lm_model_FW_MV_8variable_aic,lm_model_FW_MV_new_5variable_aic]\n",
    "\n",
    "lm_model_FW_MV_new_variable_AIC_DataFrame=pd.DataFrame([lm_model_FW_MV_new_variable_AIC_list],\n",
    "                                                   columns=['2variable','3variable','4variable','5variable',\n",
    "                                                           '6variable','7variable','8variable','new_5variable'])\n",
    "sns.set(font_scale=1)\n",
    "sns.barplot(data=(lm_model_FW_MV_new_variable_AIC_DataFrame.T-\n",
    "            lm_model_FW_MV_new_variable_AIC_DataFrame['new_5variable'][0]).T)\n",
    "plt.xlabel(\"difference variable AIC\",fontsize=15)"
   ]
  },
  {
   "cell_type": "markdown",
   "metadata": {},
   "source": [
    "###### *그래서  Potential + Reactions + Ball_Control + Dribbling + Stamina가 요인으로 추가된 모델이 가장 효율이 좋은 모델이다."
   ]
  },
  {
   "cell_type": "code",
   "execution_count": 25,
   "metadata": {},
   "outputs": [
    {
     "name": "stdout",
     "output_type": "stream",
     "text": [
      "변수가 4개인 모델의 수정된 결정계수 : 0.6669544452133926\n",
      "변수가 5개인 새로운 성능 좋은 모델의 수정된 결정계수 : 0.673164215260615\n"
     ]
    }
   ],
   "source": [
    "# 수정된 결정계수로의 분석\n",
    "print(\"변수가 4개인 모델의 수정된 결정계수 :\", end=' ')\n",
    "print(lm_model_FW_MV_4variable.rsquared_adj)\n",
    "print(\"변수가 5개인 새로운 성능 좋은 모델의 수정된 결정계수 :\", end=' ')\n",
    "print(lm_model_FW_MV_new_5variable.rsquared_adj)"
   ]
  },
  {
   "cell_type": "markdown",
   "metadata": {},
   "source": [
    "###### 수정된 결정계수로 보았을 때도 Stamina가 추가된 모델이 결정계수도 높은 것으로 나타났다. (AIC도 낮고 결정계수도 높고 좋은 모델이다.)"
   ]
  },
  {
   "cell_type": "markdown",
   "metadata": {},
   "source": [
    "###### 그런데 왜?  단일변수로 했을때 AIC가 낮은 순서로 변수를 넣었는데 그 순서를 무시하고 여러변수로 만든 모델이 Stamina가 추가되니 AIC가 낮아질까?"
   ]
  },
  {
   "cell_type": "code",
   "execution_count": 29,
   "metadata": {},
   "outputs": [
    {
     "data": {
      "text/plain": [
       "Potential       0.517250\n",
       "Reactions       0.537980\n",
       "Ball_Control    0.541301\n",
       "Dribbling       0.596790\n",
       "Stamina         1.000000\n",
       "Name: Stamina, dtype: float64"
      ]
     },
     "execution_count": 29,
     "metadata": {},
     "output_type": "execute_result"
    }
   ],
   "source": [
    "# Stamina와 다른 변수들의 상관관계\n",
    "five_variable=['Potential', 'Reactions' ,'Ball_Control', 'Dribbling','Stamina']\n",
    "data2_FW.corr()[five_variable].T[five_variable]['Stamina']"
   ]
  },
  {
   "cell_type": "markdown",
   "metadata": {},
   "source": [
    "###### 제일 성능이 좋은 모델의 변수5가지에서 Stamina와 나머지 4가지의 상관관계를 보면 그다지 상관관계가 없는 것을 알 수 있다. 그래서 상관관계가 없는 변수를 넣어 예측하니  성능이 좋아진 것"
   ]
  },
  {
   "cell_type": "code",
   "execution_count": 30,
   "metadata": {},
   "outputs": [
    {
     "data": {
      "text/plain": [
       "Residual                      2.712209e+16\n",
       "Potential                     3.019414e+15\n",
       "Sliding_Tackle                1.932397e+15\n",
       "Reactions                     1.563235e+15\n",
       "Attacking_Heading_Accuracy    1.283826e+15\n",
       "Defending                     1.267527e+15\n",
       "Marking                       1.188396e+15\n",
       "Interceptions                 1.117263e+15\n",
       "Standing_Tackle               1.107471e+15\n",
       "Shot_Power                    8.444530e+14\n",
       "Stamina                       7.736532e+14\n",
       "Strength                      6.100728e+14\n",
       "Physical                      5.162123e+14\n",
       "Positioning                   3.972933e+14\n",
       "Aggression                    3.919265e+14\n",
       "Jumping                       3.157747e+14\n",
       "SkillMoves                    3.148919e+14\n",
       "Composure                     2.823451e+14\n",
       "Long_Passing                  1.360890e+14\n",
       "Vision                        1.233991e+14\n",
       "Attacking_Crossing            7.331682e+13\n",
       "Attacking_Short_Passing       6.452063e+13\n",
       "Curve                         6.404843e+13\n",
       "Attacking_Volleys             5.701343e+13\n",
       "Balance                       5.167615e+13\n",
       "Acceleration                  4.572946e+13\n",
       "Pace                          3.602768e+13\n",
       "Long_Shots                    2.905832e+13\n",
       "Sprint_Speed                  2.153539e+13\n",
       "Agility                       2.018760e+13\n",
       "Attacking_Finishing           1.928539e+13\n",
       "Shooting                      1.351500e+13\n",
       "Passing                       1.047179e+13\n",
       "Dribbling                     8.199682e+12\n",
       "Ball_Control                  6.347731e+12\n",
       "Age                           2.420216e+12\n",
       "_Dribbling                    1.180599e+12\n",
       "Name: sum_sq, dtype: float64"
      ]
     },
     "execution_count": 30,
     "metadata": {},
     "output_type": "execute_result"
    }
   ],
   "source": [
    "#Type II ANOVA \n",
    "sm.stats.anova_lm(lm_model_FW_MV_all, typ=2).round(3)['sum_sq'].sort_values( ascending=False)"
   ]
  },
  {
   "cell_type": "markdown",
   "metadata": {},
   "source": [
    "###### 이는 모든 변수를 넣은 모델의 변수별 잔차제곱합을 보여주는데 비슷한 맥락으로 여기서도 AIC순서가 아닌것으로 보아 변수간의 상관관계에 따라서 성능이 다를 수 있다는 것을 알 수 있다."
   ]
  },
  {
   "cell_type": "markdown",
   "metadata": {},
   "source": [
    "### 3-1-5 모델을 이용한 Market_Value의 예측값에 대한 관찰"
   ]
  },
  {
   "cell_type": "code",
   "execution_count": 31,
   "metadata": {},
   "outputs": [],
   "source": [
    "data2_FW['Market_Value_predict']=lm_model_FW_MV_new_5variable.predict()"
   ]
  },
  {
   "cell_type": "code",
   "execution_count": 32,
   "metadata": {},
   "outputs": [
    {
     "data": {
      "text/plain": [
       "<matplotlib.axes._subplots.AxesSubplot at 0x104f9281388>"
      ]
     },
     "execution_count": 32,
     "metadata": {},
     "output_type": "execute_result"
    },
    {
     "data": {
      "image/png": "[encoded data removed]",
      "text/plain": [
       "<Figure size 432x288 with 1 Axes>"
      ]
     },
     "metadata": {},
     "output_type": "display_data"
    }
   ],
   "source": [
    "#Potential과 Market_Value와의 분포\n",
    "sns.boxplot(x=\"Potential\", y=\"Market_Value\", data=data2_FW)"
   ]
  },
  {
   "cell_type": "code",
   "execution_count": 33,
   "metadata": {},
   "outputs": [
    {
     "data": {
      "text/plain": [
       "<matplotlib.axes._subplots.AxesSubplot at 0x104f96371c8>"
      ]
     },
     "execution_count": 33,
     "metadata": {},
     "output_type": "execute_result"
    },
    {
     "data": {
      "image/png": "[encoded data removed]",
      "text/plain": [
       "<Figure size 432x288 with 1 Axes>"
      ]
     },
     "metadata": {},
     "output_type": "display_data"
    }
   ],
   "source": [
    "#Potential과 예측한 Market_Value와의 분포\n",
    "sns.boxplot(x=\"Potential\", y=\"Market_Value_predict\", data=data2_FW)"
   ]
  },
  {
   "cell_type": "code",
   "execution_count": 34,
   "metadata": {},
   "outputs": [
    {
     "data": {
      "text/plain": [
       "<seaborn.axisgrid.FacetGrid at 0x104f95ed448>"
      ]
     },
     "execution_count": 34,
     "metadata": {},
     "output_type": "execute_result"
    },
    {
     "data": {
      "image/png": "[encoded data removed]",
      "text/plain": [
       "<Figure size 360x360 with 1 Axes>"
      ]
     },
     "metadata": {},
     "output_type": "display_data"
    }
   ],
   "source": [
    "# Market_Value값과 예측값 사이의 관계를 보여주는 그래프\n",
    "sns.lmplot(x = \"Market_Value_predict\", y = \"Market_Value\", data = data2_FW,\n",
    "           scatter_kws = {\"color\": \"black\"},\n",
    "           line_kws    = {\"color\": \"black\"})"
   ]
  },
  {
   "cell_type": "markdown",
   "metadata": {},
   "source": [
    "###### 현재 모델은 급격히 Market_Value가 높아지는 값을 잘 예측 못하고, 음수의 값을 예측하고 있다.(몸값에는 음수가 없는데 말이다.) 또한 그 분포가 exp(지수함수)의 형태를 보임"
   ]
  },
  {
   "cell_type": "code",
   "execution_count": 35,
   "metadata": {},
   "outputs": [
    {
     "name": "stderr",
     "output_type": "stream",
     "text": [
      "C:\\Users\\SAMSUNG\\anaconda3\\lib\\site-packages\\seaborn\\distributions.py:2557: FutureWarning: `distplot` is a deprecated function and will be removed in a future version. Please adapt your code to use either `displot` (a figure-level function with similar flexibility) or `histplot` (an axes-level function for histograms).\n",
      "  warnings.warn(msg, FutureWarning)\n"
     ]
    },
    {
     "data": {
      "text/plain": [
       "<matplotlib.axes._subplots.AxesSubplot at 0x104f98fabc8>"
      ]
     },
     "execution_count": 35,
     "metadata": {},
     "output_type": "execute_result"
    },
    {
     "data": {
      "image/png": "[encoded data removed]",
      "text/plain": [
       "<Figure size 432x288 with 1 Axes>"
      ]
     },
     "metadata": {},
     "output_type": "display_data"
    }
   ],
   "source": [
    "# Market_Value의 분포\n",
    "sns.distplot(data2_FW['Market_Value'], color = 'black')"
   ]
  },
  {
   "cell_type": "markdown",
   "metadata": {},
   "source": [
    "###### Market_Value가 작은 곳에 많은 데이터들이 몰려있음"
   ]
  },
  {
   "cell_type": "markdown",
   "metadata": {},
   "source": [
    "###### Market_Value의 값이 음수가 없음, 예측값과 관측값의 분포가 지수함수꼴을 보임. 그래서 예측을 더 잘할 거 같은 푸아송 회귀모델을 적용시켜봄"
   ]
  },
  {
   "cell_type": "markdown",
   "metadata": {},
   "source": [
    "## 3-2 FW(공격수) Market_Value 푸아송회귀모델"
   ]
  },
  {
   "cell_type": "code",
   "execution_count": 36,
   "metadata": {},
   "outputs": [
    {
     "data": {
      "text/plain": [
       "375462518.538"
      ]
     },
     "execution_count": 36,
     "metadata": {},
     "output_type": "execute_result"
    }
   ],
   "source": [
    "# 푸아송 회귀 모델\n",
    "lm_model_FW_MV_new_5variable_pois = smf.glm(\"Market_Value ~ Potential+Reactions+Ball_Control+Dribbling+Stamina\", data2_FW,\n",
    "                                        family=sm.families.Poisson()).fit()\n",
    "lm_model_FW_MV_new_5variable_pois_aic=lm_model_FW_MV_new_5variable_pois.aic.round(3)\n",
    "lm_model_FW_MV_new_5variable_pois_aic"
   ]
  },
  {
   "cell_type": "code",
   "execution_count": 37,
   "metadata": {},
   "outputs": [
    {
     "data": {
      "text/plain": [
       "<seaborn.axisgrid.FacetGrid at 0x104f99efb48>"
      ]
     },
     "execution_count": 37,
     "metadata": {},
     "output_type": "execute_result"
    },
    {
     "data": {
      "image/png": "[encoded data removed]",
      "text/plain": [
       "<Figure size 360x360 with 1 Axes>"
      ]
     },
     "metadata": {},
     "output_type": "display_data"
    }
   ],
   "source": [
    "#푸아송 모델로 예측한 예측값의 분포\n",
    "Market_Value_predict_pois=lm_model_FW_MV_new_5variable_pois.predict()\n",
    "data2_FW['Market_Value_predict_pois']=Market_Value_predict_pois\n",
    "sns.lmplot(x='Market_Value',y='Market_Value_predict_pois',data=data2_FW)"
   ]
  },
  {
   "cell_type": "code",
   "execution_count": 38,
   "metadata": {},
   "outputs": [
    {
     "data": {
      "text/plain": [
       "<seaborn.axisgrid.FacetGrid at 0x104faa4ae88>"
      ]
     },
     "execution_count": 38,
     "metadata": {},
     "output_type": "execute_result"
    },
    {
     "data": {
      "image/png": "[encoded data removed]",
      "text/plain": [
       "<Figure size 360x360 with 1 Axes>"
      ]
     },
     "metadata": {},
     "output_type": "display_data"
    }
   ],
   "source": [
    "# 선형모델로 예측한 예측값의 분포\n",
    "sns.lmplot(x = \"Market_Value_predict\", y = \"Market_Value\", data = data2_FW)"
   ]
  },
  {
   "cell_type": "markdown",
   "metadata": {},
   "source": [
    "###### 확실히 푸아송분포를 이용한 것이 예측 더 잘되었다.(그래프 상으로)"
   ]
  },
  {
   "cell_type": "code",
   "execution_count": 39,
   "metadata": {},
   "outputs": [
    {
     "name": "stdout",
     "output_type": "stream",
     "text": [
      "선형모델을 이용한 잔차제곱합 : 3.519624940421307e+16\n",
      "푸아송 모델을 이용한 잔차제곱합 : 1.1113123348135038e+16\n"
     ]
    }
   ],
   "source": [
    "# 선형모델과 푸아송모델의 잔차제곱의 합\n",
    "data2_FW['Market_Value_predict_pois_resid']=data2_FW['Market_Value']-data2_FW['Market_Value_predict_pois']\n",
    "np.sum(lm_model_FW_MV_new_5variable.resid**2)\n",
    "np.sum(data2_FW['Market_Value_predict_pois_resid']**2)\n",
    "print('선형모델을 이용한 잔차제곱합 :',end=' ')\n",
    "print(np.sum(lm_model_FW_MV_new_5variable.resid**2))\n",
    "print('푸아송 모델을 이용한 잔차제곱합 :',end=' ')\n",
    "print(np.sum(data2_FW['Market_Value_predict_pois_resid']**2))"
   ]
  },
  {
   "cell_type": "markdown",
   "metadata": {},
   "source": [
    "###### 푸아송 모델을 이용한 것이 잔차가 더 작다."
   ]
  },
  {
   "cell_type": "code",
   "execution_count": 40,
   "metadata": {},
   "outputs": [
    {
     "name": "stderr",
     "output_type": "stream",
     "text": [
      "C:\\Users\\SAMSUNG\\anaconda3\\lib\\site-packages\\seaborn\\distributions.py:2557: FutureWarning: `distplot` is a deprecated function and will be removed in a future version. Please adapt your code to use either `displot` (a figure-level function with similar flexibility) or `histplot` (an axes-level function for histograms).\n",
      "  warnings.warn(msg, FutureWarning)\n"
     ]
    },
    {
     "data": {
      "text/plain": [
       "<matplotlib.axes._subplots.AxesSubplot at 0x104faab09c8>"
      ]
     },
     "execution_count": 40,
     "metadata": {},
     "output_type": "execute_result"
    },
    {
     "data": {
      "image/png": "[encoded data removed]",
      "text/plain": [
       "<Figure size 432x288 with 1 Axes>"
      ]
     },
     "metadata": {},
     "output_type": "display_data"
    }
   ],
   "source": [
    "# 선형모델의 잔차\n",
    "sns.distplot(lm_model_FW_MV_new_5variable.resid, color = 'black')"
   ]
  },
  {
   "cell_type": "code",
   "execution_count": 41,
   "metadata": {},
   "outputs": [
    {
     "name": "stderr",
     "output_type": "stream",
     "text": [
      "C:\\Users\\SAMSUNG\\anaconda3\\lib\\site-packages\\seaborn\\distributions.py:2557: FutureWarning: `distplot` is a deprecated function and will be removed in a future version. Please adapt your code to use either `displot` (a figure-level function with similar flexibility) or `histplot` (an axes-level function for histograms).\n",
      "  warnings.warn(msg, FutureWarning)\n"
     ]
    },
    {
     "data": {
      "text/plain": [
       "<matplotlib.axes._subplots.AxesSubplot at 0x104faacb888>"
      ]
     },
     "execution_count": 41,
     "metadata": {},
     "output_type": "execute_result"
    },
    {
     "data": {
      "image/png": "[encoded data removed]",
      "text/plain": [
       "<Figure size 432x288 with 1 Axes>"
      ]
     },
     "metadata": {},
     "output_type": "display_data"
    }
   ],
   "source": [
    "# 푸아송 모델의 잔차\n",
    "sns.distplot(data2_FW['Market_Value_predict_pois_resid'], color = 'black')"
   ]
  },
  {
   "cell_type": "markdown",
   "metadata": {},
   "source": [
    "###### 선형모델보다 푸아송모델을 이용한 것의 잔차가 더 정규분포에 가깝다."
   ]
  },
  {
   "cell_type": "markdown",
   "metadata": {},
   "source": [
    "---"
   ]
  },
  {
   "cell_type": "markdown",
   "metadata": {},
   "source": [
    "## 3-3 MF(미드필더) Market_Value 선형예측모델"
   ]
  },
  {
   "cell_type": "markdown",
   "metadata": {},
   "source": [
    "### 3-3-1 단일요인(독립변수)를 이용해 Market_Value을 잘 예측하는 모델 찾기. (AIC를 이용해 판단)"
   ]
  },
  {
   "cell_type": "code",
   "execution_count": 42,
   "metadata": {},
   "outputs": [],
   "source": [
    "lm_model_MF_MV_1 = smf.ols(formula = 'Market_Value ~ Age' ,data=data2_MF).fit()\n",
    "lm_model_MF_MV_2 = smf.ols(formula = 'Market_Value ~ Potential' ,data=data2_MF).fit()\n",
    "lm_model_MF_MV_3 = smf.ols(formula = 'Market_Value ~ SkillMoves' ,data=data2_MF).fit()\n",
    "lm_model_MF_MV_4 = smf.ols(formula = 'Market_Value ~ Pace' ,data=data2_MF).fit()\n",
    "lm_model_MF_MV_5 = smf.ols(formula = 'Market_Value ~ Shooting' ,data=data2_MF).fit()\n",
    "lm_model_MF_MV_6 = smf.ols(formula = 'Market_Value ~ Passing' ,data=data2_MF).fit()\n",
    "lm_model_MF_MV_7 = smf.ols(formula = 'Market_Value ~ Dribbling' ,data=data2_MF).fit()\n",
    "lm_model_MF_MV_8 = smf.ols(formula = 'Market_Value ~ Defending' ,data=data2_MF).fit()\n",
    "lm_model_MF_MV_9 = smf.ols(formula = 'Market_Value ~ Physical' ,data=data2_MF).fit()\n",
    "lm_model_MF_MV_10 = smf.ols(formula = 'Market_Value ~ Attacking_Crossing' ,data=data2_MF).fit()\n",
    "\n",
    "lm_model_MF_MV_11 = smf.ols(formula = 'Market_Value ~ Attacking_Finishing' ,data=data2_MF).fit()\n",
    "lm_model_MF_MV_12 = smf.ols(formula = 'Market_Value ~ Attacking_Heading_Accuracy' ,data=data2_MF).fit()\n",
    "lm_model_MF_MV_13 = smf.ols(formula = 'Market_Value ~ Attacking_Short_Passing' ,data=data2_MF).fit()\n",
    "lm_model_MF_MV_14 = smf.ols(formula = 'Market_Value ~ Attacking_Volleys' ,data=data2_MF).fit()\n",
    "lm_model_MF_MV_15 = smf.ols(formula = 'Market_Value ~ _Dribbling' ,data=data2_MF).fit()\n",
    "lm_model_MF_MV_16 = smf.ols(formula = 'Market_Value ~ Curve' ,data=data2_MF).fit()\n",
    "lm_model_MF_MV_17 = smf.ols(formula = 'Market_Value ~ Long_Passing' ,data=data2_MF).fit()\n",
    "lm_model_MF_MV_18 = smf.ols(formula = 'Market_Value ~ Ball_Control' ,data=data2_MF).fit()\n",
    "lm_model_MF_MV_19 = smf.ols(formula = 'Market_Value ~ Acceleration' ,data=data2_MF).fit()\n",
    "lm_model_MF_MV_20 = smf.ols(formula = 'Market_Value ~ Sprint_Speed' ,data=data2_MF).fit()\n",
    "\n",
    "lm_model_MF_MV_21 = smf.ols(formula = 'Market_Value ~ Agility' ,data=data2_MF).fit()\n",
    "lm_model_MF_MV_22 = smf.ols(formula = 'Market_Value ~ Reactions' ,data=data2_MF).fit()\n",
    "lm_model_MF_MV_23 = smf.ols(formula = 'Market_Value ~ Balance' ,data=data2_MF).fit()\n",
    "lm_model_MF_MV_24 = smf.ols(formula = 'Market_Value ~ Shot_Power' ,data=data2_MF).fit()\n",
    "lm_model_MF_MV_25 = smf.ols(formula = 'Market_Value ~ Jumping' ,data=data2_MF).fit()\n",
    "lm_model_MF_MV_26 = smf.ols(formula = 'Market_Value ~ Stamina' ,data=data2_MF).fit()\n",
    "lm_model_MF_MV_27 = smf.ols(formula = 'Market_Value ~ Strength' ,data=data2_MF).fit()\n",
    "lm_model_MF_MV_28 = smf.ols(formula = 'Market_Value ~ Long_Shots' ,data=data2_MF).fit()\n",
    "lm_model_MF_MV_29 = smf.ols(formula = 'Market_Value ~ Aggression' ,data=data2_MF).fit()\n",
    "lm_model_MF_MV_30 = smf.ols(formula = 'Market_Value ~ Interceptions' ,data=data2_MF).fit()\n",
    "\n",
    "lm_model_MF_MV_31 = smf.ols(formula = 'Market_Value ~ Positioning' ,data=data2_MF).fit()\n",
    "lm_model_MF_MV_32 = smf.ols(formula = 'Market_Value ~ Vision' ,data=data2_MF).fit()\n",
    "lm_model_MF_MV_33 = smf.ols(formula = 'Market_Value ~ Composure' ,data=data2_MF).fit()\n",
    "lm_model_MF_MV_34 = smf.ols(formula = 'Market_Value ~ Marking' ,data=data2_MF).fit()\n",
    "lm_model_MF_MV_35 = smf.ols(formula = 'Market_Value ~ Standing_Tackle' ,data=data2_MF).fit()\n",
    "lm_model_MF_MV_36 = smf.ols(formula = 'Market_Value ~ Sliding_Tackle' ,data=data2_MF).fit()"
   ]
  },
  {
   "cell_type": "code",
   "execution_count": 43,
   "metadata": {},
   "outputs": [],
   "source": [
    "lm_model_MF_MV_AIC_list=[]\n",
    "\n",
    "lm_model_MF_MV_AIC_list.append(lm_model_MF_MV_1.aic.round(3))\n",
    "lm_model_MF_MV_AIC_list.append(lm_model_MF_MV_2.aic.round(3))\n",
    "lm_model_MF_MV_AIC_list.append(lm_model_MF_MV_3.aic.round(3))\n",
    "lm_model_MF_MV_AIC_list.append(lm_model_MF_MV_4.aic.round(3))\n",
    "lm_model_MF_MV_AIC_list.append(lm_model_MF_MV_5.aic.round(3))\n",
    "lm_model_MF_MV_AIC_list.append(lm_model_MF_MV_6.aic.round(3))\n",
    "lm_model_MF_MV_AIC_list.append(lm_model_MF_MV_7.aic.round(3))\n",
    "lm_model_MF_MV_AIC_list.append(lm_model_MF_MV_8.aic.round(3))\n",
    "lm_model_MF_MV_AIC_list.append(lm_model_MF_MV_9.aic.round(3))\n",
    "lm_model_MF_MV_AIC_list.append(lm_model_MF_MV_10.aic.round(3))\n",
    "lm_model_MF_MV_AIC_list.append(lm_model_MF_MV_11.aic.round(3))\n",
    "lm_model_MF_MV_AIC_list.append(lm_model_MF_MV_12.aic.round(3))\n",
    "lm_model_MF_MV_AIC_list.append(lm_model_MF_MV_13.aic.round(3))\n",
    "lm_model_MF_MV_AIC_list.append(lm_model_MF_MV_14.aic.round(3))\n",
    "lm_model_MF_MV_AIC_list.append(lm_model_MF_MV_15.aic.round(3))\n",
    "lm_model_MF_MV_AIC_list.append(lm_model_MF_MV_16.aic.round(3))\n",
    "lm_model_MF_MV_AIC_list.append(lm_model_MF_MV_17.aic.round(3))\n",
    "lm_model_MF_MV_AIC_list.append(lm_model_MF_MV_18.aic.round(3))\n",
    "lm_model_MF_MV_AIC_list.append(lm_model_MF_MV_19.aic.round(3))\n",
    "lm_model_MF_MV_AIC_list.append(lm_model_MF_MV_20.aic.round(3))\n",
    "lm_model_MF_MV_AIC_list.append(lm_model_MF_MV_21.aic.round(3))\n",
    "lm_model_MF_MV_AIC_list.append(lm_model_MF_MV_22.aic.round(3))\n",
    "lm_model_MF_MV_AIC_list.append(lm_model_MF_MV_23.aic.round(3))\n",
    "lm_model_MF_MV_AIC_list.append(lm_model_MF_MV_24.aic.round(3))\n",
    "lm_model_MF_MV_AIC_list.append(lm_model_MF_MV_25.aic.round(3))\n",
    "lm_model_MF_MV_AIC_list.append(lm_model_MF_MV_26.aic.round(3))\n",
    "lm_model_MF_MV_AIC_list.append(lm_model_MF_MV_27.aic.round(3))\n",
    "lm_model_MF_MV_AIC_list.append(lm_model_MF_MV_28.aic.round(3))\n",
    "lm_model_MF_MV_AIC_list.append(lm_model_MF_MV_29.aic.round(3))\n",
    "lm_model_MF_MV_AIC_list.append(lm_model_MF_MV_30.aic.round(3))\n",
    "lm_model_MF_MV_AIC_list.append(lm_model_MF_MV_31.aic.round(3))\n",
    "lm_model_MF_MV_AIC_list.append(lm_model_MF_MV_32.aic.round(3))\n",
    "lm_model_MF_MV_AIC_list.append(lm_model_MF_MV_33.aic.round(3))\n",
    "lm_model_MF_MV_AIC_list.append(lm_model_MF_MV_34.aic.round(3))\n",
    "lm_model_MF_MV_AIC_list.append(lm_model_MF_MV_35.aic.round(3))\n",
    "lm_model_MF_MV_AIC_list.append(lm_model_MF_MV_36.aic.round(3))\n",
    "\n",
    "lm_model_MF_MV_AIC_DataFrame=pd.DataFrame([lm_model_MF_MV_AIC_list],columns=list(data2_MF.columns[1:37]))"
   ]
  },
  {
   "cell_type": "markdown",
   "metadata": {},
   "source": [
    "#### -AIC가 가장 낮은 상위 8개를 가장 낮은 AIC와의 차이를 그래프로 표현"
   ]
  },
  {
   "cell_type": "markdown",
   "metadata": {},
   "source": [
    "###### 'Potential' - 'Reactions' - 'Ball_Control' - 'Composure' - 'Dribbling' - 'Attacking_Short_Passing' - 'Vision' - 'Passing' 순으로 AIC가 낮았다."
   ]
  },
  {
   "cell_type": "code",
   "execution_count": 44,
   "metadata": {},
   "outputs": [
    {
     "data": {
      "text/plain": [
       "<matplotlib.legend.Legend at 0x104fb149748>"
      ]
     },
     "execution_count": 44,
     "metadata": {},
     "output_type": "execute_result"
    },
    {
     "data": {
      "image/png": "[encoded data removed]",
      "text/plain": [
       "<Figure size 432x288 with 1 Axes>"
      ]
     },
     "metadata": {},
     "output_type": "display_data"
    }
   ],
   "source": [
    "sns.set(font_scale=1)\n",
    "sns.barplot(data=pd.DataFrame(lm_model_MF_MV_AIC_DataFrame.iloc[0].sort_values()[:8] - \n",
    "             lm_model_MF_MV_AIC_DataFrame.iloc[0].sort_values()[0]).T)\n",
    "plt.xlabel(\"difference AIC\",fontsize=15)\n",
    "plt.legend(lm_model_MF_MV_AIC_DataFrame.iloc[0].sort_values()[:8].index)"
   ]
  },
  {
   "cell_type": "markdown",
   "metadata": {},
   "source": [
    "### 3-3-2 여러개의 요인(독립변수)을 이용해 Market_Value을 잘 예측하는 모델 찾기.(단일변수를 사용한 모델에서 AIC가 작은 순서대로 변수를 추가하여 판단)"
   ]
  },
  {
   "cell_type": "code",
   "execution_count": 45,
   "metadata": {},
   "outputs": [],
   "source": [
    "lm_model_MF_MV_2variable = smf.ols(\"Market_Value ~ Potential+Reactions\", data2_MF).fit()\n",
    "lm_model_MF_MV_2variable_aic=lm_model_MF_MV_2variable.aic.round(3)\n",
    "\n",
    "lm_model_MF_MV_3variable = smf.ols(\"Market_Value ~ Potential+Reactions+Ball_Control\", data2_MF).fit()\n",
    "lm_model_MF_MV_3variable_aic=lm_model_MF_MV_3variable.aic.round(3)\n",
    "\n",
    "\n",
    "lm_model_MF_MV_4variable = smf.ols(\"Market_Value ~ Potential+Reactions+Ball_Control+Composure\", data2_MF).fit()\n",
    "lm_model_MF_MV_4variable_aic=lm_model_MF_MV_4variable.aic.round(3)\n",
    "\n",
    "lm_model_MF_MV_5variable = smf.ols(\"Market_Value ~ Potential+Reactions+Ball_Control+Composure + Dribbling\", data2_MF).fit()\n",
    "lm_model_MF_MV_5variable_aic=lm_model_MF_MV_5variable.aic.round(3)\n",
    "\n",
    "lm_model_MF_MV_6variable = smf.ols(\"Market_Value ~ Potential+Reactions+Ball_Control+Composure + Dribbling+Attacking_Short_Passing\"\n",
    "                                   , data2_MF).fit()\n",
    "lm_model_MF_MV_6variable_aic=lm_model_MF_MV_6variable.aic.round(3)\n",
    "\n",
    "lm_model_MF_MV_7variable = smf.ols(\"Market_Value ~ Potential+Reactions+Ball_Control+Composure + Dribbling+Attacking_Short_Passing+Vision\"\n",
    "                                   , data2_MF).fit()\n",
    "lm_model_MF_MV_7variable_aic=lm_model_MF_MV_7variable.aic.round(3)\n",
    "\n",
    "\n",
    "lm_model_MF_MV_8variable = smf.ols(\"Market_Value ~ Potential+Reactions+Ball_Control+Composure + Dribbling+Attacking_Short_Passing+Vision+Passing\"\n",
    "                                   , data2_MF).fit()\n",
    "lm_model_MF_MV_8variable_aic=lm_model_MF_MV_8variable.aic.round(3)"
   ]
  },
  {
   "cell_type": "markdown",
   "metadata": {},
   "source": [
    "#### 여거개의 요인으로 만든 모델의 AIC값의 차이 그래프"
   ]
  },
  {
   "cell_type": "code",
   "execution_count": 46,
   "metadata": {},
   "outputs": [
    {
     "data": {
      "text/html": [
       "<div>\n",
       "<style scoped>\n",
       "    .dataframe tbody tr th:only-of-type {\n",
       "        vertical-align: middle;\n",
       "    }\n",
       "\n",
       "    .dataframe tbody tr th {\n",
       "        vertical-align: top;\n",
       "    }\n",
       "\n",
       "    .dataframe thead th {\n",
       "        text-align: right;\n",
       "    }\n",
       "</style>\n",
       "<table border=\"1\" class=\"dataframe\">\n",
       "  <thead>\n",
       "    <tr style=\"text-align: right;\">\n",
       "      <th></th>\n",
       "      <th>0</th>\n",
       "    </tr>\n",
       "  </thead>\n",
       "  <tbody>\n",
       "    <tr>\n",
       "      <th>2variable</th>\n",
       "      <td>5012.356</td>\n",
       "    </tr>\n",
       "    <tr>\n",
       "      <th>3variable</th>\n",
       "      <td>5013.642</td>\n",
       "    </tr>\n",
       "    <tr>\n",
       "      <th>4variable</th>\n",
       "      <td>5015.554</td>\n",
       "    </tr>\n",
       "    <tr>\n",
       "      <th>5variable</th>\n",
       "      <td>5017.430</td>\n",
       "    </tr>\n",
       "    <tr>\n",
       "      <th>6variable</th>\n",
       "      <td>5014.147</td>\n",
       "    </tr>\n",
       "    <tr>\n",
       "      <th>7variable</th>\n",
       "      <td>5015.799</td>\n",
       "    </tr>\n",
       "    <tr>\n",
       "      <th>8variable</th>\n",
       "      <td>5017.389</td>\n",
       "    </tr>\n",
       "  </tbody>\n",
       "</table>\n",
       "</div>"
      ],
      "text/plain": [
       "                  0\n",
       "2variable  5012.356\n",
       "3variable  5013.642\n",
       "4variable  5015.554\n",
       "5variable  5017.430\n",
       "6variable  5014.147\n",
       "7variable  5015.799\n",
       "8variable  5017.389"
      ]
     },
     "execution_count": 46,
     "metadata": {},
     "output_type": "execute_result"
    }
   ],
   "source": [
    "lm_model_MF_MV_variable_AIC_list=[lm_model_MF_MV_2variable_aic,lm_model_MF_MV_3variable_aic,\n",
    "                                  lm_model_MF_MV_4variable_aic,lm_model_MF_MV_5variable_aic,\n",
    "                                 lm_model_MF_MV_6variable_aic,lm_model_MF_MV_7variable_aic,\n",
    "                                 lm_model_MF_MV_8variable_aic]\n",
    "\n",
    "lm_model_MF_MV_variable_AIC_DataFrame=pd.DataFrame([lm_model_MF_MV_variable_AIC_list],\n",
    "                                                   columns=['2variable','3variable','4variable','5variable',\n",
    "                                                           '6variable','7variable','8variable'])\n",
    "lm_model_MF_MV_variable_AIC_DataFrame.T"
   ]
  },
  {
   "cell_type": "code",
   "execution_count": 47,
   "metadata": {},
   "outputs": [
    {
     "data": {
      "text/plain": [
       "Text(0.5, 0, 'difference variable AIC')"
      ]
     },
     "execution_count": 47,
     "metadata": {},
     "output_type": "execute_result"
    },
    {
     "data": {
      "image/png": "[encoded data removed]",
      "text/plain": [
       "<Figure size 432x288 with 1 Axes>"
      ]
     },
     "metadata": {},
     "output_type": "display_data"
    }
   ],
   "source": [
    "sns.set(font_scale=1)\n",
    "sns.barplot(data=(lm_model_MF_MV_variable_AIC_DataFrame.T-\n",
    "            lm_model_MF_MV_variable_AIC_DataFrame['2variable'][0]).T)\n",
    "plt.xlabel(\"difference variable AIC\",fontsize=15)"
   ]
  },
  {
   "cell_type": "markdown",
   "metadata": {},
   "source": [
    "#### 여기서도 마찬가지고 5변수에서 6변수로 갈 때 AIC값이 낮아지는걸 파악하여 6번째로 추가된 변수인 Attacking_Short_Passing를 가장 AIC가 낮은 2변수 모델에 추가해봤다."
   ]
  },
  {
   "cell_type": "code",
   "execution_count": 48,
   "metadata": {},
   "outputs": [
    {
     "data": {
      "text/plain": [
       "5013.538"
      ]
     },
     "execution_count": 48,
     "metadata": {},
     "output_type": "execute_result"
    }
   ],
   "source": [
    "# 기존에 좋은 모델에서 새로운 변수를 추가한 모델\n",
    "lm_model_MF_MV_new_3variable = smf.ols(\"Market_Value ~ Potential+Reactions+Attacking_Short_Passing\", data2_MF).fit()\n",
    "lm_model_MF_MV_new_3variable_aic=lm_model_MF_MV_new_3variable.aic.round(3)\n",
    "lm_model_MF_MV_new_3variable_aic"
   ]
  },
  {
   "cell_type": "code",
   "execution_count": 49,
   "metadata": {},
   "outputs": [
    {
     "data": {
      "text/plain": [
       "5012.35610084334"
      ]
     },
     "execution_count": 49,
     "metadata": {},
     "output_type": "execute_result"
    }
   ],
   "source": [
    "# 이게 기존에 가장 좋은 모델의 AIC\n",
    "lm_model_MF_MV_2variable.aic"
   ]
  },
  {
   "cell_type": "markdown",
   "metadata": {},
   "source": [
    "#### 그렇지만 MF에서는 FW에서와 달리 Attacking_Short_Passing를 추가하니 오히려 더 안좋은 모델이 되었다. 그래서 기존에 Potential+Reactions만을 변수로 가지는 모델이 성능이 가장 좋다."
   ]
  },
  {
   "cell_type": "code",
   "execution_count": 50,
   "metadata": {},
   "outputs": [
    {
     "data": {
      "text/plain": [
       "Potential                  0.549263\n",
       "Reactions                  0.730649\n",
       "Ball_Control               0.838769\n",
       "Composure                  0.842111\n",
       "Dribbling                  0.695537\n",
       "Attacking_Short_Passing    1.000000\n",
       "Name: Attacking_Short_Passing, dtype: float64"
      ]
     },
     "execution_count": 50,
     "metadata": {},
     "output_type": "execute_result"
    }
   ],
   "source": [
    "five_variable2=['Potential','Reactions','Ball_Control','Composure','Dribbling','Attacking_Short_Passing']\n",
    "data2_MF.corr()[five_variable2].T[five_variable2]['Attacking_Short_Passing']"
   ]
  },
  {
   "cell_type": "markdown",
   "metadata": {},
   "source": [
    "#### FW에서보다는 다른 변수와의 상관관계가 높아서 변수를 추가하니 AIC가 오히려 올라간 거 같다.(Potential과 Reactions와의 상관관계는 조금 낮지만 Ball_Control과 Composure과의 상관관계는 높아서 변수를 추가해도 AIC가 내려가지 않음.)"
   ]
  },
  {
   "cell_type": "markdown",
   "metadata": {},
   "source": [
    "### 3-3-3 모델을 이용한 Market_Value의 예측값에 대한 관찰"
   ]
  },
  {
   "cell_type": "code",
   "execution_count": 51,
   "metadata": {},
   "outputs": [
    {
     "data": {
      "text/plain": [
       "<matplotlib.axes._subplots.AxesSubplot at 0x104fb294a88>"
      ]
     },
     "execution_count": 51,
     "metadata": {},
     "output_type": "execute_result"
    },
    {
     "data": {
      "image/png": "[encoded data removed]",
      "text/plain": [
       "<Figure size 432x288 with 1 Axes>"
      ]
     },
     "metadata": {},
     "output_type": "display_data"
    }
   ],
   "source": [
    "# Potential과 Market_Value와의 분포\n",
    "data2_MF['Market_Value_predict']=lm_model_MF_MV_2variable.predict()\n",
    "sns.boxplot(x=\"Potential\", y=\"Market_Value\", data=data2_MF)"
   ]
  },
  {
   "cell_type": "code",
   "execution_count": 52,
   "metadata": {},
   "outputs": [
    {
     "data": {
      "text/plain": [
       "<matplotlib.axes._subplots.AxesSubplot at 0x104fb4985c8>"
      ]
     },
     "execution_count": 52,
     "metadata": {},
     "output_type": "execute_result"
    },
    {
     "data": {
      "image/png": "[encoded data removed]",
      "text/plain": [
       "<Figure size 432x288 with 1 Axes>"
      ]
     },
     "metadata": {},
     "output_type": "display_data"
    }
   ],
   "source": [
    "# Potential과 예측한 Market_Value와의 분포# \n",
    "sns.boxplot(x=\"Potential\", y=\"Market_Value_predict\", data=data2_MF)"
   ]
  },
  {
   "cell_type": "code",
   "execution_count": 53,
   "metadata": {},
   "outputs": [
    {
     "data": {
      "text/plain": [
       "<seaborn.axisgrid.FacetGrid at 0x104fb63fec8>"
      ]
     },
     "execution_count": 53,
     "metadata": {},
     "output_type": "execute_result"
    },
    {
     "data": {
      "image/png": "[encoded data removed]",
      "text/plain": [
       "<Figure size 360x360 with 1 Axes>"
      ]
     },
     "metadata": {},
     "output_type": "display_data"
    }
   ],
   "source": [
    "# Maket_Value값과 예측한 사이의 관계를 보여주는 그래프\n",
    "sns.lmplot(x = \"Market_Value_predict\", y = \"Market_Value\", data = data2_MF,\n",
    "           scatter_kws = {\"color\": \"black\"},\n",
    "           line_kws    = {\"color\": \"black\"})"
   ]
  },
  {
   "cell_type": "markdown",
   "metadata": {},
   "source": [
    "###### FW에서와 마찬가지로 Market_Value가 급격히 높아지는 값을 잘 예측하지 못하고 음수의 값을 예측하고 있다.(몸값에는 음수가 없는데 말이다.) 또한 그 분포가 지수함수의 형태를 보인다."
   ]
  },
  {
   "cell_type": "code",
   "execution_count": 54,
   "metadata": {},
   "outputs": [
    {
     "name": "stderr",
     "output_type": "stream",
     "text": [
      "C:\\Users\\SAMSUNG\\anaconda3\\lib\\site-packages\\seaborn\\distributions.py:2557: FutureWarning: `distplot` is a deprecated function and will be removed in a future version. Please adapt your code to use either `displot` (a figure-level function with similar flexibility) or `histplot` (an axes-level function for histograms).\n",
      "  warnings.warn(msg, FutureWarning)\n"
     ]
    },
    {
     "data": {
      "text/plain": [
       "<matplotlib.axes._subplots.AxesSubplot at 0x104fb1b35c8>"
      ]
     },
     "execution_count": 54,
     "metadata": {},
     "output_type": "execute_result"
    },
    {
     "data": {
      "image/png": "[encoded data removed]",
      "text/plain": [
       "<Figure size 432x288 with 1 Axes>"
      ]
     },
     "metadata": {},
     "output_type": "display_data"
    }
   ],
   "source": [
    "sns.distplot(data2_MF['Market_Value'], color = 'black')"
   ]
  },
  {
   "cell_type": "markdown",
   "metadata": {},
   "source": [
    "###### Market_Value가 작은 곳에 많은 데이터가 몰려있다.\n",
    "###### 그래서 예측을 더 잘할거 같은 푸아송 회귀 모델을 적용시킴"
   ]
  },
  {
   "cell_type": "markdown",
   "metadata": {},
   "source": [
    "## 3-4 MF(미드필더) Market_Value 푸아송회귀모델"
   ]
  },
  {
   "cell_type": "code",
   "execution_count": 55,
   "metadata": {},
   "outputs": [
    {
     "data": {
      "text/plain": [
       "538722084.458"
      ]
     },
     "execution_count": 55,
     "metadata": {},
     "output_type": "execute_result"
    }
   ],
   "source": [
    "# 푸아송 회귀 모델\n",
    "lm_model_MF_MV_2variable_pois = smf.glm(\"Market_Value ~ Potential+Reactions\", data2_MF,\n",
    "                                        family=sm.families.Poisson()).fit()\n",
    "lm_model_MF_MV_2variable_pois_aic=lm_model_MF_MV_2variable_pois.aic.round(3)\n",
    "lm_model_MF_MV_2variable_pois_aic"
   ]
  },
  {
   "cell_type": "code",
   "execution_count": 56,
   "metadata": {},
   "outputs": [
    {
     "data": {
      "text/plain": [
       "<seaborn.axisgrid.FacetGrid at 0x104fb7cf388>"
      ]
     },
     "execution_count": 56,
     "metadata": {},
     "output_type": "execute_result"
    },
    {
     "data": {
      "image/png": "[encoded data removed]",
      "text/plain": [
       "<Figure size 360x360 with 1 Axes>"
      ]
     },
     "metadata": {},
     "output_type": "display_data"
    }
   ],
   "source": [
    "#푸아송 모델로 예측한 예측값의 분포\n",
    "data2_MF['Market_Value_predict_pois']=lm_model_MF_MV_2variable_pois.predict()\n",
    "sns.lmplot(x='Market_Value',y='Market_Value_predict_pois',data=data2_MF)"
   ]
  },
  {
   "cell_type": "code",
   "execution_count": 57,
   "metadata": {},
   "outputs": [
    {
     "data": {
      "text/plain": [
       "<seaborn.axisgrid.FacetGrid at 0x104fb83f208>"
      ]
     },
     "execution_count": 57,
     "metadata": {},
     "output_type": "execute_result"
    },
    {
     "data": {
      "image/png": "[encoded data removed]",
      "text/plain": [
       "<Figure size 360x360 with 1 Axes>"
      ]
     },
     "metadata": {},
     "output_type": "display_data"
    }
   ],
   "source": [
    "#선형모델로 예측한 예측값의 분포\n",
    "sns.lmplot(x = \"Market_Value_predict\", y = \"Market_Value\", data = data2_MF)"
   ]
  },
  {
   "cell_type": "markdown",
   "metadata": {},
   "source": [
    "###### 확실히 그래프상으로 푸아송분포를 이요한 모델이 예측이 더 잘되었다."
   ]
  },
  {
   "cell_type": "code",
   "execution_count": 58,
   "metadata": {},
   "outputs": [
    {
     "name": "stdout",
     "output_type": "stream",
     "text": [
      "선형모델을 이용한 잔차제곱합 : 2.778997643770676e+16\n",
      "푸아송 모델을 이용한 잔차제곱합 : 1.4792308468738062e+16\n"
     ]
    }
   ],
   "source": [
    "# 선형모델과 푸아송모델의 잔차제곱의 합\n",
    "data2_MF['Market_Value_predict_pois_resid']=data2_MF['Market_Value']-data2_MF['Market_Value_predict_pois']\n",
    "np.sum(lm_model_MF_MV_2variable.resid**2)\n",
    "np.sum(data2_MF['Market_Value_predict_pois_resid']**2)\n",
    "print('선형모델을 이용한 잔차제곱합 :',end=' ')\n",
    "print(np.sum(lm_model_MF_MV_2variable.resid**2))\n",
    "print('푸아송 모델을 이용한 잔차제곱합 :',end=' ')\n",
    "print(np.sum(data2_MF['Market_Value_predict_pois_resid']**2))"
   ]
  },
  {
   "cell_type": "markdown",
   "metadata": {},
   "source": [
    "###### 푸아송 모델을 이용한 것이 잔차가 더 작다."
   ]
  },
  {
   "cell_type": "code",
   "execution_count": 59,
   "metadata": {},
   "outputs": [
    {
     "name": "stderr",
     "output_type": "stream",
     "text": [
      "C:\\Users\\SAMSUNG\\anaconda3\\lib\\site-packages\\seaborn\\distributions.py:2557: FutureWarning: `distplot` is a deprecated function and will be removed in a future version. Please adapt your code to use either `displot` (a figure-level function with similar flexibility) or `histplot` (an axes-level function for histograms).\n",
      "  warnings.warn(msg, FutureWarning)\n"
     ]
    },
    {
     "data": {
      "text/plain": [
       "<matplotlib.axes._subplots.AxesSubplot at 0x104f99c7bc8>"
      ]
     },
     "execution_count": 59,
     "metadata": {},
     "output_type": "execute_result"
    },
    {
     "data": {
      "image/png": "[encoded data removed]",
      "text/plain": [
       "<Figure size 432x288 with 1 Axes>"
      ]
     },
     "metadata": {},
     "output_type": "display_data"
    }
   ],
   "source": [
    "# 선형모델의 잔차\n",
    "sns.distplot(lm_model_MF_MV_2variable.resid, color = 'black')"
   ]
  },
  {
   "cell_type": "code",
   "execution_count": 60,
   "metadata": {},
   "outputs": [
    {
     "name": "stderr",
     "output_type": "stream",
     "text": [
      "C:\\Users\\SAMSUNG\\anaconda3\\lib\\site-packages\\seaborn\\distributions.py:2557: FutureWarning: `distplot` is a deprecated function and will be removed in a future version. Please adapt your code to use either `displot` (a figure-level function with similar flexibility) or `histplot` (an axes-level function for histograms).\n",
      "  warnings.warn(msg, FutureWarning)\n"
     ]
    },
    {
     "data": {
      "text/plain": [
       "<matplotlib.axes._subplots.AxesSubplot at 0x104fb85a308>"
      ]
     },
     "execution_count": 60,
     "metadata": {},
     "output_type": "execute_result"
    },
    {
     "data": {
      "image/png": "[encoded data removed]",
      "text/plain": [
       "<Figure size 432x288 with 1 Axes>"
      ]
     },
     "metadata": {},
     "output_type": "display_data"
    }
   ],
   "source": [
    "# 푸아송 모델의 잔차\n",
    "sns.distplot(data2_MF['Market_Value_predict_pois_resid'], color = 'black')"
   ]
  },
  {
   "cell_type": "markdown",
   "metadata": {},
   "source": [
    "###### 선형모델보다 푸아송 모델을 이용한 것의 잔차가 더 정규분포에 가깝다."
   ]
  },
  {
   "cell_type": "markdown",
   "metadata": {},
   "source": [
    "---"
   ]
  },
  {
   "cell_type": "markdown",
   "metadata": {},
   "source": [
    "###### 수비수에서도 앞서 진행한 FW와 MF와 같은 방법으로 분석이 진행되어 자세한 설명은 생략함."
   ]
  },
  {
   "cell_type": "markdown",
   "metadata": {},
   "source": [
    "## 3-5 DF(수비수) Market_Value 선형예측모델"
   ]
  },
  {
   "cell_type": "code",
   "execution_count": 61,
   "metadata": {},
   "outputs": [],
   "source": [
    "# 단일요인(독립변수를 이용한 모델의 AIC값 찾기)\n",
    "lm_model_DF_MV_1 = smf.ols(formula = 'Market_Value ~ Age' ,data=data2_DF).fit()\n",
    "lm_model_DF_MV_2 = smf.ols(formula = 'Market_Value ~ Potential' ,data=data2_DF).fit()\n",
    "lm_model_DF_MV_3 = smf.ols(formula = 'Market_Value ~ SkillMoves' ,data=data2_DF).fit()\n",
    "lm_model_DF_MV_4 = smf.ols(formula = 'Market_Value ~ Pace' ,data=data2_DF).fit()\n",
    "lm_model_DF_MV_5 = smf.ols(formula = 'Market_Value ~ Shooting' ,data=data2_DF).fit()\n",
    "lm_model_DF_MV_6 = smf.ols(formula = 'Market_Value ~ Passing' ,data=data2_DF).fit()\n",
    "lm_model_DF_MV_7 = smf.ols(formula = 'Market_Value ~ Dribbling' ,data=data2_DF).fit()\n",
    "lm_model_DF_MV_8 = smf.ols(formula = 'Market_Value ~ Defending' ,data=data2_DF).fit()\n",
    "lm_model_DF_MV_9 = smf.ols(formula = 'Market_Value ~ Physical' ,data=data2_DF).fit()\n",
    "lm_model_DF_MV_10 = smf.ols(formula = 'Market_Value ~ Attacking_Crossing' ,data=data2_DF).fit()\n",
    "\n",
    "lm_model_DF_MV_11 = smf.ols(formula = 'Market_Value ~ Attacking_Finishing' ,data=data2_DF).fit()\n",
    "lm_model_DF_MV_12 = smf.ols(formula = 'Market_Value ~ Attacking_Heading_Accuracy' ,data=data2_DF).fit()\n",
    "lm_model_DF_MV_13 = smf.ols(formula = 'Market_Value ~ Attacking_Short_Passing' ,data=data2_DF).fit()\n",
    "lm_model_DF_MV_14 = smf.ols(formula = 'Market_Value ~ Attacking_Volleys' ,data=data2_DF).fit()\n",
    "lm_model_DF_MV_15 = smf.ols(formula = 'Market_Value ~ _Dribbling' ,data=data2_DF).fit()\n",
    "lm_model_DF_MV_16 = smf.ols(formula = 'Market_Value ~ Curve' ,data=data2_DF).fit()\n",
    "lm_model_DF_MV_17 = smf.ols(formula = 'Market_Value ~ Long_Passing' ,data=data2_DF).fit()\n",
    "lm_model_DF_MV_18 = smf.ols(formula = 'Market_Value ~ Ball_Control' ,data=data2_DF).fit()\n",
    "lm_model_DF_MV_19 = smf.ols(formula = 'Market_Value ~ Acceleration' ,data=data2_DF).fit()\n",
    "lm_model_DF_MV_20 = smf.ols(formula = 'Market_Value ~ Sprint_Speed' ,data=data2_DF).fit()\n",
    "\n",
    "lm_model_DF_MV_21 = smf.ols(formula = 'Market_Value ~ Agility' ,data=data2_DF).fit()\n",
    "lm_model_DF_MV_22 = smf.ols(formula = 'Market_Value ~ Reactions' ,data=data2_DF).fit()\n",
    "lm_model_DF_MV_23 = smf.ols(formula = 'Market_Value ~ Balance' ,data=data2_DF).fit()\n",
    "lm_model_DF_MV_24 = smf.ols(formula = 'Market_Value ~ Shot_Power' ,data=data2_DF).fit()\n",
    "lm_model_DF_MV_25 = smf.ols(formula = 'Market_Value ~ Jumping' ,data=data2_DF).fit()\n",
    "lm_model_DF_MV_26 = smf.ols(formula = 'Market_Value ~ Stamina' ,data=data2_DF).fit()\n",
    "lm_model_DF_MV_27 = smf.ols(formula = 'Market_Value ~ Strength' ,data=data2_DF).fit()\n",
    "lm_model_DF_MV_28 = smf.ols(formula = 'Market_Value ~ Long_Shots' ,data=data2_DF).fit()\n",
    "lm_model_DF_MV_29 = smf.ols(formula = 'Market_Value ~ Aggression' ,data=data2_DF).fit()\n",
    "lm_model_DF_MV_30 = smf.ols(formula = 'Market_Value ~ Interceptions' ,data=data2_DF).fit()\n",
    "\n",
    "lm_model_DF_MV_31 = smf.ols(formula = 'Market_Value ~ Positioning' ,data=data2_DF).fit()\n",
    "lm_model_DF_MV_32 = smf.ols(formula = 'Market_Value ~ Vision' ,data=data2_DF).fit()\n",
    "lm_model_DF_MV_33 = smf.ols(formula = 'Market_Value ~ Composure' ,data=data2_DF).fit()\n",
    "lm_model_DF_MV_34 = smf.ols(formula = 'Market_Value ~ Marking' ,data=data2_DF).fit()\n",
    "lm_model_DF_MV_35 = smf.ols(formula = 'Market_Value ~ Standing_Tackle' ,data=data2_DF).fit()\n",
    "lm_model_DF_MV_36 = smf.ols(formula = 'Market_Value ~ Sliding_Tackle' ,data=data2_DF).fit()"
   ]
  },
  {
   "cell_type": "code",
   "execution_count": 62,
   "metadata": {},
   "outputs": [],
   "source": [
    "lm_model_DF_MV_AIC_list=[]\n",
    "\n",
    "lm_model_DF_MV_AIC_list.append(lm_model_DF_MV_1.aic.round(3))\n",
    "lm_model_DF_MV_AIC_list.append(lm_model_DF_MV_2.aic.round(3))\n",
    "lm_model_DF_MV_AIC_list.append(lm_model_DF_MV_3.aic.round(3))\n",
    "lm_model_DF_MV_AIC_list.append(lm_model_DF_MV_4.aic.round(3))\n",
    "lm_model_DF_MV_AIC_list.append(lm_model_DF_MV_5.aic.round(3))\n",
    "lm_model_DF_MV_AIC_list.append(lm_model_DF_MV_6.aic.round(3))\n",
    "lm_model_DF_MV_AIC_list.append(lm_model_DF_MV_7.aic.round(3))\n",
    "lm_model_DF_MV_AIC_list.append(lm_model_DF_MV_8.aic.round(3))\n",
    "lm_model_DF_MV_AIC_list.append(lm_model_DF_MV_9.aic.round(3))\n",
    "lm_model_DF_MV_AIC_list.append(lm_model_DF_MV_10.aic.round(3))\n",
    "lm_model_DF_MV_AIC_list.append(lm_model_DF_MV_11.aic.round(3))\n",
    "lm_model_DF_MV_AIC_list.append(lm_model_DF_MV_12.aic.round(3))\n",
    "lm_model_DF_MV_AIC_list.append(lm_model_DF_MV_13.aic.round(3))\n",
    "lm_model_DF_MV_AIC_list.append(lm_model_DF_MV_14.aic.round(3))\n",
    "lm_model_DF_MV_AIC_list.append(lm_model_DF_MV_15.aic.round(3))\n",
    "lm_model_DF_MV_AIC_list.append(lm_model_DF_MV_16.aic.round(3))\n",
    "lm_model_DF_MV_AIC_list.append(lm_model_DF_MV_17.aic.round(3))\n",
    "lm_model_DF_MV_AIC_list.append(lm_model_DF_MV_18.aic.round(3))\n",
    "lm_model_DF_MV_AIC_list.append(lm_model_DF_MV_19.aic.round(3))\n",
    "lm_model_DF_MV_AIC_list.append(lm_model_DF_MV_20.aic.round(3))\n",
    "lm_model_DF_MV_AIC_list.append(lm_model_DF_MV_21.aic.round(3))\n",
    "lm_model_DF_MV_AIC_list.append(lm_model_DF_MV_22.aic.round(3))\n",
    "lm_model_DF_MV_AIC_list.append(lm_model_DF_MV_23.aic.round(3))\n",
    "lm_model_DF_MV_AIC_list.append(lm_model_DF_MV_24.aic.round(3))\n",
    "lm_model_DF_MV_AIC_list.append(lm_model_DF_MV_25.aic.round(3))\n",
    "lm_model_DF_MV_AIC_list.append(lm_model_DF_MV_26.aic.round(3))\n",
    "lm_model_DF_MV_AIC_list.append(lm_model_DF_MV_27.aic.round(3))\n",
    "lm_model_DF_MV_AIC_list.append(lm_model_DF_MV_28.aic.round(3))\n",
    "lm_model_DF_MV_AIC_list.append(lm_model_DF_MV_29.aic.round(3))\n",
    "lm_model_DF_MV_AIC_list.append(lm_model_DF_MV_30.aic.round(3))\n",
    "lm_model_DF_MV_AIC_list.append(lm_model_DF_MV_31.aic.round(3))\n",
    "lm_model_DF_MV_AIC_list.append(lm_model_DF_MV_32.aic.round(3))\n",
    "lm_model_DF_MV_AIC_list.append(lm_model_DF_MV_33.aic.round(3))\n",
    "lm_model_DF_MV_AIC_list.append(lm_model_DF_MV_34.aic.round(3))\n",
    "lm_model_DF_MV_AIC_list.append(lm_model_DF_MV_35.aic.round(3))\n",
    "lm_model_DF_MV_AIC_list.append(lm_model_DF_MV_36.aic.round(3))\n",
    "\n",
    "lm_model_DF_MV_AIC_DataFrame=pd.DataFrame([lm_model_DF_MV_AIC_list],columns=list(data2_DF.columns[1:37]))"
   ]
  },
  {
   "cell_type": "markdown",
   "metadata": {},
   "source": [
    "###### 'Potential' - 'Reactions' - 'Standing_Tackle' - 'Defending' - 'Marking' - 'Composure' - 'Interceptions' - 'Attacking_Short_Passing' 순으로 AIC가 낮다."
   ]
  },
  {
   "cell_type": "markdown",
   "metadata": {},
   "source": [
    "#### -AIC가 낮은 하위 8개를 가장 낮은 AIC와의 차이를 그래프로 표현"
   ]
  },
  {
   "cell_type": "code",
   "execution_count": 63,
   "metadata": {},
   "outputs": [
    {
     "data": {
      "text/plain": [
       "<matplotlib.legend.Legend at 0x104fb082f48>"
      ]
     },
     "execution_count": 63,
     "metadata": {},
     "output_type": "execute_result"
    },
    {
     "data": {
      "image/png": "[encoded data removed]",
      "text/plain": [
       "<Figure size 432x288 with 1 Axes>"
      ]
     },
     "metadata": {},
     "output_type": "display_data"
    }
   ],
   "source": [
    "sns.set(font_scale=1)\n",
    "sns.barplot(data=pd.DataFrame(lm_model_DF_MV_AIC_DataFrame.iloc[0].sort_values()[:8] - \n",
    "             lm_model_DF_MV_AIC_DataFrame.iloc[0].sort_values()[0]).T)\n",
    "plt.xlabel(\"difference AIC\",fontsize=15)\n",
    "plt.legend(lm_model_DF_MV_AIC_DataFrame.iloc[0].sort_values()[:8].index)"
   ]
  },
  {
   "cell_type": "code",
   "execution_count": 64,
   "metadata": {},
   "outputs": [],
   "source": [
    "#여러개의 요인 (독립변수)을 이용해 예측하는 모델 찾기.(AIC순서로 변수 추가)\n",
    "lm_model_DF_MV_2variable = smf.ols(\"Market_Value ~ Potential+Reactions\", data2_DF).fit()\n",
    "lm_model_DF_MV_2variable_aic=lm_model_DF_MV_2variable.aic.round(3)\n",
    "\n",
    "lm_model_DF_MV_3variable = smf.ols(\"Market_Value ~ Potential+Reactions+Standing_Tackle\", data2_DF).fit()\n",
    "lm_model_DF_MV_3variable_aic=lm_model_DF_MV_3variable.aic.round(3)\n",
    "\n",
    "lm_model_DF_MV_4variable = smf.ols(\"Market_Value ~ Potential+Reactions+Standing_Tackle+Defending\", data2_DF).fit()\n",
    "lm_model_DF_MV_4variable_aic=lm_model_DF_MV_4variable.aic.round(3)\n",
    "\n",
    "lm_model_DF_MV_5variable = smf.ols(\"Market_Value ~ Potential+Reactions+Standing_Tackle+Defending+ Marking\", data2_DF).fit()\n",
    "lm_model_DF_MV_5variable_aic=lm_model_DF_MV_5variable.aic.round(3)\n",
    "\n",
    "lm_model_DF_MV_6variable = smf.ols(\"Market_Value ~ Potential+Reactions+Standing_Tackle+Defending+ Marking+Composure\"\n",
    "                                   , data2_DF).fit()\n",
    "lm_model_DF_MV_6variable_aic=lm_model_DF_MV_6variable.aic.round(3)\n",
    "\n",
    "lm_model_DF_MV_7variable = smf.ols(\"Market_Value ~ Potential+Reactions+Standing_Tackle+Defending+ Marking+Composure+Interceptions\"\n",
    "                                   , data2_DF).fit()\n",
    "lm_model_DF_MV_7variable_aic=lm_model_DF_MV_7variable.aic.round(3)\n",
    "\n",
    "\n",
    "lm_model_DF_MV_8variable = smf.ols(\"Market_Value ~ Potential+Reactions+Standing_Tackle+Defending+ Marking+Composure+Interceptions+Attacking_Short_Passing\"\n",
    "                                   , data2_DF).fit()\n",
    "lm_model_DF_MV_8variable_aic=lm_model_DF_MV_8variable.aic.round(3)"
   ]
  },
  {
   "cell_type": "code",
   "execution_count": 65,
   "metadata": {},
   "outputs": [
    {
     "data": {
      "text/html": [
       "<div>\n",
       "<style scoped>\n",
       "    .dataframe tbody tr th:only-of-type {\n",
       "        vertical-align: middle;\n",
       "    }\n",
       "\n",
       "    .dataframe tbody tr th {\n",
       "        vertical-align: top;\n",
       "    }\n",
       "\n",
       "    .dataframe thead th {\n",
       "        text-align: right;\n",
       "    }\n",
       "</style>\n",
       "<table border=\"1\" class=\"dataframe\">\n",
       "  <thead>\n",
       "    <tr style=\"text-align: right;\">\n",
       "      <th></th>\n",
       "      <th>0</th>\n",
       "    </tr>\n",
       "  </thead>\n",
       "  <tbody>\n",
       "    <tr>\n",
       "      <th>2variable</th>\n",
       "      <td>6243.245</td>\n",
       "    </tr>\n",
       "    <tr>\n",
       "      <th>3variable</th>\n",
       "      <td>6241.786</td>\n",
       "    </tr>\n",
       "    <tr>\n",
       "      <th>4variable</th>\n",
       "      <td>6243.638</td>\n",
       "    </tr>\n",
       "    <tr>\n",
       "      <th>5variable</th>\n",
       "      <td>6243.793</td>\n",
       "    </tr>\n",
       "    <tr>\n",
       "      <th>6variable</th>\n",
       "      <td>6245.467</td>\n",
       "    </tr>\n",
       "    <tr>\n",
       "      <th>7variable</th>\n",
       "      <td>6246.548</td>\n",
       "    </tr>\n",
       "    <tr>\n",
       "      <th>8variable</th>\n",
       "      <td>6247.640</td>\n",
       "    </tr>\n",
       "  </tbody>\n",
       "</table>\n",
       "</div>"
      ],
      "text/plain": [
       "                  0\n",
       "2variable  6243.245\n",
       "3variable  6241.786\n",
       "4variable  6243.638\n",
       "5variable  6243.793\n",
       "6variable  6245.467\n",
       "7variable  6246.548\n",
       "8variable  6247.640"
      ]
     },
     "execution_count": 65,
     "metadata": {},
     "output_type": "execute_result"
    }
   ],
   "source": [
    "lm_model_DF_MV_variable_AIC_list=[lm_model_DF_MV_2variable_aic,lm_model_DF_MV_3variable_aic,\n",
    "                                  lm_model_DF_MV_4variable_aic,lm_model_DF_MV_5variable_aic,\n",
    "                                 lm_model_DF_MV_6variable_aic,lm_model_DF_MV_7variable_aic,\n",
    "                                 lm_model_DF_MV_8variable_aic]\n",
    "\n",
    "lm_model_DF_MV_variable_AIC_DataFrame=pd.DataFrame([lm_model_DF_MV_variable_AIC_list],\n",
    "                                                   columns=['2variable','3variable','4variable','5variable',\n",
    "                                                           '6variable','7variable','8variable'])\n",
    "lm_model_DF_MV_variable_AIC_DataFrame.T"
   ]
  },
  {
   "cell_type": "markdown",
   "metadata": {},
   "source": [
    "DF에서는 FW와 MF와 달리 AIC그래프가 정상적이다."
   ]
  },
  {
   "cell_type": "code",
   "execution_count": 66,
   "metadata": {},
   "outputs": [
    {
     "data": {
      "text/plain": [
       "Text(0.5, 0, 'difference variable AIC')"
      ]
     },
     "execution_count": 66,
     "metadata": {},
     "output_type": "execute_result"
    },
    {
     "data": {
      "image/png": "[encoded data removed]",
      "text/plain": [
       "<Figure size 432x288 with 1 Axes>"
      ]
     },
     "metadata": {},
     "output_type": "display_data"
    }
   ],
   "source": [
    "sns.set(font_scale=1)\n",
    "sns.barplot(data=(lm_model_DF_MV_variable_AIC_DataFrame.T-\n",
    "            lm_model_DF_MV_variable_AIC_DataFrame['3variable'][0]).T)\n",
    "plt.xlabel(\"difference variable AIC\",fontsize=15)"
   ]
  },
  {
   "cell_type": "code",
   "execution_count": 67,
   "metadata": {},
   "outputs": [
    {
     "data": {
      "text/plain": [
       "<matplotlib.axes._subplots.AxesSubplot at 0x104fd056648>"
      ]
     },
     "execution_count": 67,
     "metadata": {},
     "output_type": "execute_result"
    },
    {
     "data": {
      "image/png": "[encoded data removed]",
      "text/plain": [
       "<Figure size 432x288 with 1 Axes>"
      ]
     },
     "metadata": {},
     "output_type": "display_data"
    }
   ],
   "source": [
    "# Potential과 Market_Value과의 관계\n",
    "data2_DF['Market_Value_predict']=lm_model_DF_MV_3variable.predict()\n",
    "sns.boxplot(x=\"Potential\", y=\"Market_Value\", data=data2_DF)"
   ]
  },
  {
   "cell_type": "code",
   "execution_count": 68,
   "metadata": {},
   "outputs": [
    {
     "data": {
      "text/plain": [
       "<matplotlib.axes._subplots.AxesSubplot at 0x104fd2b8488>"
      ]
     },
     "execution_count": 68,
     "metadata": {},
     "output_type": "execute_result"
    },
    {
     "data": {
      "image/png": "[encoded data removed]",
      "text/plain": [
       "<Figure size 432x288 with 1 Axes>"
      ]
     },
     "metadata": {},
     "output_type": "display_data"
    }
   ],
   "source": [
    "# Potential과 Market_Value_predict과의 관계\n",
    "sns.boxplot(x=\"Potential\", y=\"Market_Value_predict\", data=data2_DF)"
   ]
  },
  {
   "cell_type": "code",
   "execution_count": 69,
   "metadata": {},
   "outputs": [
    {
     "data": {
      "text/plain": [
       "<seaborn.axisgrid.FacetGrid at 0x104fd277988>"
      ]
     },
     "execution_count": 69,
     "metadata": {},
     "output_type": "execute_result"
    },
    {
     "data": {
      "image/png": "[encoded data removed]",
      "text/plain": [
       "<Figure size 360x360 with 1 Axes>"
      ]
     },
     "metadata": {},
     "output_type": "display_data"
    }
   ],
   "source": [
    "# Market_Value와 Market_Value_predict 사이의 관계 \n",
    "sns.lmplot(x = \"Market_Value_predict\", y = \"Market_Value\", data = data2_DF,\n",
    "           scatter_kws = {\"color\": \"black\"},\n",
    "           line_kws    = {\"color\": \"black\"})"
   ]
  },
  {
   "cell_type": "code",
   "execution_count": 70,
   "metadata": {},
   "outputs": [
    {
     "name": "stderr",
     "output_type": "stream",
     "text": [
      "C:\\Users\\SAMSUNG\\anaconda3\\lib\\site-packages\\seaborn\\distributions.py:2557: FutureWarning: `distplot` is a deprecated function and will be removed in a future version. Please adapt your code to use either `displot` (a figure-level function with similar flexibility) or `histplot` (an axes-level function for histograms).\n",
      "  warnings.warn(msg, FutureWarning)\n"
     ]
    },
    {
     "data": {
      "text/plain": [
       "<matplotlib.axes._subplots.AxesSubplot at 0x104fd5848c8>"
      ]
     },
     "execution_count": 70,
     "metadata": {},
     "output_type": "execute_result"
    },
    {
     "data": {
      "image/png": "[encoded data removed]",
      "text/plain": [
       "<Figure size 432x288 with 1 Axes>"
      ]
     },
     "metadata": {},
     "output_type": "display_data"
    }
   ],
   "source": [
    "# Market_Value의 분포\n",
    "sns.distplot(data2_DF['Market_Value'], color = 'black')"
   ]
  },
  {
   "cell_type": "markdown",
   "metadata": {},
   "source": [
    "## 3-6 DF(수비수) Market_Value 푸아송회귀모델"
   ]
  },
  {
   "cell_type": "code",
   "execution_count": 71,
   "metadata": {},
   "outputs": [
    {
     "data": {
      "text/plain": [
       "413165070.001"
      ]
     },
     "execution_count": 71,
     "metadata": {},
     "output_type": "execute_result"
    }
   ],
   "source": [
    "lm_model_DF_MV_3variable_pois = smf.glm(\"Market_Value ~ Potential+Reactions+Standing_Tackle\", data2_DF,\n",
    "                                        family=sm.families.Poisson()).fit()\n",
    "lm_model_DF_MV_3variable_pois_aic=lm_model_DF_MV_3variable_pois.aic.round(3)\n",
    "lm_model_DF_MV_3variable_pois_aic"
   ]
  },
  {
   "cell_type": "code",
   "execution_count": 72,
   "metadata": {},
   "outputs": [
    {
     "data": {
      "text/plain": [
       "<seaborn.axisgrid.FacetGrid at 0x104fd6324c8>"
      ]
     },
     "execution_count": 72,
     "metadata": {},
     "output_type": "execute_result"
    },
    {
     "data": {
      "image/png": "[encoded data removed]",
      "text/plain": [
       "<Figure size 360x360 with 1 Axes>"
      ]
     },
     "metadata": {},
     "output_type": "display_data"
    }
   ],
   "source": [
    "#푸아송 모델로 예측한 예측값의 분포\n",
    "data2_DF['Market_Value_predict_pois']=lm_model_DF_MV_3variable_pois.predict()\n",
    "sns.lmplot(x='Market_Value',y='Market_Value_predict_pois',data=data2_DF)"
   ]
  },
  {
   "cell_type": "code",
   "execution_count": 73,
   "metadata": {},
   "outputs": [
    {
     "data": {
      "text/plain": [
       "<seaborn.axisgrid.FacetGrid at 0x104fc9f62c8>"
      ]
     },
     "execution_count": 73,
     "metadata": {},
     "output_type": "execute_result"
    },
    {
     "data": {
      "image/png": "[encoded data removed]",
      "text/plain": [
       "<Figure size 360x360 with 1 Axes>"
      ]
     },
     "metadata": {},
     "output_type": "display_data"
    }
   ],
   "source": [
    "sns.lmplot(x = \"Market_Value_predict\", y = \"Market_Value\", data = data2_DF)"
   ]
  },
  {
   "cell_type": "code",
   "execution_count": 74,
   "metadata": {},
   "outputs": [
    {
     "name": "stdout",
     "output_type": "stream",
     "text": [
      "선형모델을 이용한 잔차제곱합 : 1.6884564106575584e+16\n",
      "푸아송 모델을 이용한 잔차제곱합 : 9169116659413364.0\n"
     ]
    }
   ],
   "source": [
    "# 선형모델과 푸아송모델의 잔차제곱의 합\n",
    "data2_DF['Market_Value_predict_pois_resid']=data2_DF['Market_Value']-data2_DF['Market_Value_predict_pois']\n",
    "np.sum(lm_model_DF_MV_3variable.resid**2)\n",
    "np.sum(data2_DF['Market_Value_predict_pois_resid']**2)\n",
    "print('선형모델을 이용한 잔차제곱합 :',end=' ')\n",
    "print(np.sum(lm_model_DF_MV_3variable.resid**2))\n",
    "print('푸아송 모델을 이용한 잔차제곱합 :',end=' ')\n",
    "print(np.sum(data2_DF['Market_Value_predict_pois_resid']**2))"
   ]
  },
  {
   "cell_type": "code",
   "execution_count": 75,
   "metadata": {},
   "outputs": [
    {
     "name": "stderr",
     "output_type": "stream",
     "text": [
      "C:\\Users\\SAMSUNG\\anaconda3\\lib\\site-packages\\seaborn\\distributions.py:2557: FutureWarning: `distplot` is a deprecated function and will be removed in a future version. Please adapt your code to use either `displot` (a figure-level function with similar flexibility) or `histplot` (an axes-level function for histograms).\n",
      "  warnings.warn(msg, FutureWarning)\n"
     ]
    },
    {
     "data": {
      "text/plain": [
       "<matplotlib.axes._subplots.AxesSubplot at 0x104fd6e5bc8>"
      ]
     },
     "execution_count": 75,
     "metadata": {},
     "output_type": "execute_result"
    },
    {
     "data": {
      "image/png": "[encoded data removed]",
      "text/plain": [
       "<Figure size 432x288 with 1 Axes>"
      ]
     },
     "metadata": {},
     "output_type": "display_data"
    }
   ],
   "source": [
    "# 선형모델의 잔차\n",
    "sns.distplot(lm_model_DF_MV_3variable.resid, color = 'black')"
   ]
  },
  {
   "cell_type": "code",
   "execution_count": 76,
   "metadata": {},
   "outputs": [
    {
     "name": "stderr",
     "output_type": "stream",
     "text": [
      "C:\\Users\\SAMSUNG\\anaconda3\\lib\\site-packages\\seaborn\\distributions.py:2557: FutureWarning: `distplot` is a deprecated function and will be removed in a future version. Please adapt your code to use either `displot` (a figure-level function with similar flexibility) or `histplot` (an axes-level function for histograms).\n",
      "  warnings.warn(msg, FutureWarning)\n"
     ]
    },
    {
     "data": {
      "text/plain": [
       "<matplotlib.axes._subplots.AxesSubplot at 0x104fd7557c8>"
      ]
     },
     "execution_count": 76,
     "metadata": {},
     "output_type": "execute_result"
    },
    {
     "data": {
      "image/png": "[encoded data removed]",
      "text/plain": [
       "<Figure size 432x288 with 1 Axes>"
      ]
     },
     "metadata": {},
     "output_type": "display_data"
    }
   ],
   "source": [
    "# 푸아송 모델의 잔차\n",
    "sns.distplot(data2_DF['Market_Value_predict_pois_resid'], color = 'black')"
   ]
  },
  {
   "cell_type": "markdown",
   "metadata": {},
   "source": [
    "### FW,MF와 마찬가지로 푸아송 모델이 더 예측을 잘해준다."
   ]
  },
  {
   "cell_type": "markdown",
   "metadata": {},
   "source": [
    "# 결론"
   ]
  },
  {
   "cell_type": "markdown",
   "metadata": {},
   "source": [
    "### 1. FW(공격수)의 가치를 예측하는 효율적인 모델에 사용되는 변수는\n",
    "###  Potential, Reactions, Ball_Control, Dribbling, Stamina\n",
    "### 2. MF(미드필더)의 가치를 예측하는 효율적인 모델에 사용되는 변수는\n",
    "### Potential, Reactions\n",
    "### 3. DF(수비수)의 가치를 예측한는 효율적인 모델에 사용되는 변수는\n",
    "###  Potential, Reactions, Standing_Tackle\n",
    "### 4. 포지션별로 적용된 모델에서 사용되는 변수에 차이는 분명히 있다.\n",
    "### 5. 그러나 Potetial, Reactions는 선수의 가치를 판단하는데 공통으로 필수적인 요인임을 알 수 있다.\n"
   ]
  },
  {
   "cell_type": "markdown",
   "metadata": {},
   "source": [
    "# 알게된 점"
   ]
  },
  {
   "cell_type": "markdown",
   "metadata": {},
   "source": [
    "### 1. 단일변수로 만든 모델의 AIC의 기준이 다변수 모델을 만들 때 일반적으로는 적용되지만, 절대적인 기준이 될 수 없다는 점을 알게 되었다. 그 이유는 변수들 간의 상관관계를 고려하지 않고 AIC만을 기준으로 삼았기 때문.(FW(공격수)를 예측할 때)"
   ]
  },
  {
   "cell_type": "code",
   "execution_count": 77,
   "metadata": {},
   "outputs": [
    {
     "data": {
      "text/plain": [
       "Text(0.5, 0, 'difference variable AIC_FW')"
      ]
     },
     "execution_count": 77,
     "metadata": {},
     "output_type": "execute_result"
    },
    {
     "data": {
      "image/png": "[encoded data removed]",
      "text/plain": [
       "<Figure size 432x288 with 1 Axes>"
      ]
     },
     "metadata": {},
     "output_type": "display_data"
    }
   ],
   "source": [
    "sns.set(font_scale=1)\n",
    "sns.barplot(data=(lm_model_FW_MV_variable_AIC_DataFrame.T-\n",
    "            lm_model_FW_MV_variable_AIC_DataFrame['4variable'][0]).T)\n",
    "plt.xlabel(\"difference variable AIC_FW\",fontsize=15)"
   ]
  },
  {
   "cell_type": "markdown",
   "metadata": {},
   "source": [
    "### 2. 데이터의 분포가 지수함수의 형태를 보이면 푸아송 회귀모델을 사용하는 것이 모델 예측에 더 용이하다."
   ]
  }
 ],
 "metadata": {
  "kernelspec": {
   "display_name": "Python 3",
   "language": "python",
   "name": "python3"
  },
  "language_info": {
   "codemirror_mode": {
    "name": "ipython",
    "version": 3
   },
   "file_extension": ".py",
   "mimetype": "text/x-python",
   "name": "python",
   "nbconvert_exporter": "python",
   "pygments_lexer": "ipython3",
   "version": "3.7.6"
  }
 },
 "nbformat": 4,
 "nbformat_minor": 4
}
