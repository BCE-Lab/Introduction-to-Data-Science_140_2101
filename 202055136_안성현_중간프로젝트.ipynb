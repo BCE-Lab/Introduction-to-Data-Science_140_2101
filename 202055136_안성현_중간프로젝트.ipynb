{
 "cells": [
  {
   "cell_type": "code",
   "execution_count": 65,
   "metadata": {},
   "outputs": [
    {
     "data": {
      "text/plain": [
       "'%.3f'"
      ]
     },
     "execution_count": 65,
     "metadata": {},
     "output_type": "execute_result"
    }
   ],
   "source": [
    "import numpy as np\n",
    "import scipy as sp\n",
    "import pandas as pd\n",
    "from pandas import Series, DataFrame\n",
    "import scipy as sp\n",
    "import scipy.stats as stats\n",
    "import matplotlib.pyplot as plt\n",
    "import seaborn as sns\n",
    "sns.set()\n",
    "%matplotlib inline\n",
    "\n",
    "%precision 3"
   ]
  },
  {
   "cell_type": "markdown",
   "metadata": {},
   "source": [
    "# 2019년 국민건강영양조사 csv를 이용하여 소득과 질병의 상관관계 알아보기"
   ]
  },
  {
   "cell_type": "code",
   "execution_count": 2,
   "metadata": {},
   "outputs": [
    {
     "data": {
      "text/html": [
       "<div>\n",
       "<style scoped>\n",
       "    .dataframe tbody tr th:only-of-type {\n",
       "        vertical-align: middle;\n",
       "    }\n",
       "\n",
       "    .dataframe tbody tr th {\n",
       "        vertical-align: top;\n",
       "    }\n",
       "\n",
       "    .dataframe thead th {\n",
       "        text-align: right;\n",
       "    }\n",
       "</style>\n",
       "<table border=\"1\" class=\"dataframe\">\n",
       "  <thead>\n",
       "    <tr style=\"text-align: right;\">\n",
       "      <th></th>\n",
       "      <th>mod_d</th>\n",
       "      <th>ID</th>\n",
       "      <th>ID_fam</th>\n",
       "      <th>year</th>\n",
       "      <th>region</th>\n",
       "      <th>town_t</th>\n",
       "      <th>apt_t</th>\n",
       "      <th>psu</th>\n",
       "      <th>sex</th>\n",
       "      <th>age</th>\n",
       "      <th>...</th>\n",
       "      <th>LF_S10</th>\n",
       "      <th>LF_S11</th>\n",
       "      <th>LF_S12</th>\n",
       "      <th>LF_S13</th>\n",
       "      <th>LF_S14</th>\n",
       "      <th>LF_S14_1</th>\n",
       "      <th>LF_S15</th>\n",
       "      <th>LF_S16</th>\n",
       "      <th>LF_SECUR</th>\n",
       "      <th>LF_SECUR_G</th>\n",
       "    </tr>\n",
       "  </thead>\n",
       "  <tbody>\n",
       "    <tr>\n",
       "      <th>0</th>\n",
       "      <td>2021.02.26.</td>\n",
       "      <td>A501215301</td>\n",
       "      <td>A5012153</td>\n",
       "      <td>2019</td>\n",
       "      <td>1</td>\n",
       "      <td>1</td>\n",
       "      <td>1</td>\n",
       "      <td>A501</td>\n",
       "      <td>1</td>\n",
       "      <td>61</td>\n",
       "      <td>...</td>\n",
       "      <td>NaN</td>\n",
       "      <td>NaN</td>\n",
       "      <td>NaN</td>\n",
       "      <td>NaN</td>\n",
       "      <td>NaN</td>\n",
       "      <td>NaN</td>\n",
       "      <td>NaN</td>\n",
       "      <td>NaN</td>\n",
       "      <td>NaN</td>\n",
       "      <td>NaN</td>\n",
       "    </tr>\n",
       "    <tr>\n",
       "      <th>1</th>\n",
       "      <td>2021.02.26.</td>\n",
       "      <td>A501215303</td>\n",
       "      <td>A5012153</td>\n",
       "      <td>2019</td>\n",
       "      <td>1</td>\n",
       "      <td>1</td>\n",
       "      <td>1</td>\n",
       "      <td>A501</td>\n",
       "      <td>1</td>\n",
       "      <td>28</td>\n",
       "      <td>...</td>\n",
       "      <td>NaN</td>\n",
       "      <td>NaN</td>\n",
       "      <td>NaN</td>\n",
       "      <td>NaN</td>\n",
       "      <td>NaN</td>\n",
       "      <td>NaN</td>\n",
       "      <td>NaN</td>\n",
       "      <td>NaN</td>\n",
       "      <td>NaN</td>\n",
       "      <td>NaN</td>\n",
       "    </tr>\n",
       "    <tr>\n",
       "      <th>2</th>\n",
       "      <td>2021.02.26.</td>\n",
       "      <td>A501220401</td>\n",
       "      <td>A5012204</td>\n",
       "      <td>2019</td>\n",
       "      <td>1</td>\n",
       "      <td>1</td>\n",
       "      <td>1</td>\n",
       "      <td>A501</td>\n",
       "      <td>1</td>\n",
       "      <td>53</td>\n",
       "      <td>...</td>\n",
       "      <td>3.0</td>\n",
       "      <td>3.0</td>\n",
       "      <td>3.0</td>\n",
       "      <td>8.0</td>\n",
       "      <td>8.0</td>\n",
       "      <td>8.0</td>\n",
       "      <td>8.0</td>\n",
       "      <td>8.0</td>\n",
       "      <td>0.0</td>\n",
       "      <td>1.0</td>\n",
       "    </tr>\n",
       "    <tr>\n",
       "      <th>3</th>\n",
       "      <td>2021.02.26.</td>\n",
       "      <td>A501220402</td>\n",
       "      <td>A5012204</td>\n",
       "      <td>2019</td>\n",
       "      <td>1</td>\n",
       "      <td>1</td>\n",
       "      <td>1</td>\n",
       "      <td>A501</td>\n",
       "      <td>2</td>\n",
       "      <td>50</td>\n",
       "      <td>...</td>\n",
       "      <td>3.0</td>\n",
       "      <td>3.0</td>\n",
       "      <td>3.0</td>\n",
       "      <td>8.0</td>\n",
       "      <td>8.0</td>\n",
       "      <td>8.0</td>\n",
       "      <td>8.0</td>\n",
       "      <td>8.0</td>\n",
       "      <td>0.0</td>\n",
       "      <td>1.0</td>\n",
       "    </tr>\n",
       "    <tr>\n",
       "      <th>4</th>\n",
       "      <td>2021.02.26.</td>\n",
       "      <td>A501220403</td>\n",
       "      <td>A5012204</td>\n",
       "      <td>2019</td>\n",
       "      <td>1</td>\n",
       "      <td>1</td>\n",
       "      <td>1</td>\n",
       "      <td>A501</td>\n",
       "      <td>1</td>\n",
       "      <td>16</td>\n",
       "      <td>...</td>\n",
       "      <td>3.0</td>\n",
       "      <td>3.0</td>\n",
       "      <td>3.0</td>\n",
       "      <td>8.0</td>\n",
       "      <td>8.0</td>\n",
       "      <td>8.0</td>\n",
       "      <td>8.0</td>\n",
       "      <td>8.0</td>\n",
       "      <td>0.0</td>\n",
       "      <td>1.0</td>\n",
       "    </tr>\n",
       "  </tbody>\n",
       "</table>\n",
       "<p>5 rows × 717 columns</p>\n",
       "</div>"
      ],
      "text/plain": [
       "         mod_d          ID    ID_fam  year  region  town_t  apt_t   psu  sex  \\\n",
       "0  2021.02.26.  A501215301  A5012153  2019       1       1      1  A501    1   \n",
       "1  2021.02.26.  A501215303  A5012153  2019       1       1      1  A501    1   \n",
       "2  2021.02.26.  A501220401  A5012204  2019       1       1      1  A501    1   \n",
       "3  2021.02.26.  A501220402  A5012204  2019       1       1      1  A501    2   \n",
       "4  2021.02.26.  A501220403  A5012204  2019       1       1      1  A501    1   \n",
       "\n",
       "   age  ...  LF_S10  LF_S11  LF_S12  LF_S13  LF_S14  LF_S14_1  LF_S15  LF_S16  \\\n",
       "0   61  ...     NaN     NaN     NaN     NaN     NaN       NaN     NaN     NaN   \n",
       "1   28  ...     NaN     NaN     NaN     NaN     NaN       NaN     NaN     NaN   \n",
       "2   53  ...     3.0     3.0     3.0     8.0     8.0       8.0     8.0     8.0   \n",
       "3   50  ...     3.0     3.0     3.0     8.0     8.0       8.0     8.0     8.0   \n",
       "4   16  ...     3.0     3.0     3.0     8.0     8.0       8.0     8.0     8.0   \n",
       "\n",
       "   LF_SECUR  LF_SECUR_G  \n",
       "0       NaN         NaN  \n",
       "1       NaN         NaN  \n",
       "2       0.0         1.0  \n",
       "3       0.0         1.0  \n",
       "4       0.0         1.0  \n",
       "\n",
       "[5 rows x 717 columns]"
      ]
     },
     "execution_count": 2,
     "metadata": {},
     "output_type": "execute_result"
    }
   ],
   "source": [
    "data19 = pd.read_csv('hn19_all.csv', encoding = 'cp949', low_memory = False)\n",
    "data19.head(5)"
   ]
  },
  {
   "cell_type": "markdown",
   "metadata": {},
   "source": [
    "데이터셋 상에서 각 숫자는 0. 없음, 1. 있음, 8. 비해당(청소년, 소아, 의사진단 받지 않음), 9. 모름, 무응답을 나타내므로 0과 1 값을 제외한 나머지 숫자들은 np.nan으로 값을 바꾸어주어 dropna 해주었음."
   ]
  },
  {
   "cell_type": "markdown",
   "metadata": {},
   "source": [
    "## 1. 소득과 뇌졸중 유병 여부와의 관계"
   ]
  },
  {
   "cell_type": "code",
   "execution_count": 66,
   "metadata": {},
   "outputs": [
    {
     "data": {
      "text/html": [
       "<div>\n",
       "<style scoped>\n",
       "    .dataframe tbody tr th:only-of-type {\n",
       "        vertical-align: middle;\n",
       "    }\n",
       "\n",
       "    .dataframe tbody tr th {\n",
       "        vertical-align: top;\n",
       "    }\n",
       "\n",
       "    .dataframe thead th {\n",
       "        text-align: right;\n",
       "    }\n",
       "</style>\n",
       "<table border=\"1\" class=\"dataframe\">\n",
       "  <thead>\n",
       "    <tr style=\"text-align: right;\">\n",
       "      <th></th>\n",
       "      <th>count</th>\n",
       "      <th>mean</th>\n",
       "      <th>std</th>\n",
       "      <th>min</th>\n",
       "      <th>25%</th>\n",
       "      <th>50%</th>\n",
       "      <th>75%</th>\n",
       "      <th>max</th>\n",
       "    </tr>\n",
       "    <tr>\n",
       "      <th>incm5</th>\n",
       "      <th></th>\n",
       "      <th></th>\n",
       "      <th></th>\n",
       "      <th></th>\n",
       "      <th></th>\n",
       "      <th></th>\n",
       "      <th></th>\n",
       "      <th></th>\n",
       "    </tr>\n",
       "  </thead>\n",
       "  <tbody>\n",
       "    <tr>\n",
       "      <th>1.0</th>\n",
       "      <td>38.0</td>\n",
       "      <td>0.842105</td>\n",
       "      <td>0.369537</td>\n",
       "      <td>0.0</td>\n",
       "      <td>1.0</td>\n",
       "      <td>1.0</td>\n",
       "      <td>1.0</td>\n",
       "      <td>1.0</td>\n",
       "    </tr>\n",
       "    <tr>\n",
       "      <th>2.0</th>\n",
       "      <td>35.0</td>\n",
       "      <td>0.771429</td>\n",
       "      <td>0.426043</td>\n",
       "      <td>0.0</td>\n",
       "      <td>1.0</td>\n",
       "      <td>1.0</td>\n",
       "      <td>1.0</td>\n",
       "      <td>1.0</td>\n",
       "    </tr>\n",
       "    <tr>\n",
       "      <th>3.0</th>\n",
       "      <td>33.0</td>\n",
       "      <td>0.696970</td>\n",
       "      <td>0.466694</td>\n",
       "      <td>0.0</td>\n",
       "      <td>0.0</td>\n",
       "      <td>1.0</td>\n",
       "      <td>1.0</td>\n",
       "      <td>1.0</td>\n",
       "    </tr>\n",
       "    <tr>\n",
       "      <th>4.0</th>\n",
       "      <td>21.0</td>\n",
       "      <td>0.666667</td>\n",
       "      <td>0.483046</td>\n",
       "      <td>0.0</td>\n",
       "      <td>0.0</td>\n",
       "      <td>1.0</td>\n",
       "      <td>1.0</td>\n",
       "      <td>1.0</td>\n",
       "    </tr>\n",
       "    <tr>\n",
       "      <th>5.0</th>\n",
       "      <td>19.0</td>\n",
       "      <td>0.789474</td>\n",
       "      <td>0.418854</td>\n",
       "      <td>0.0</td>\n",
       "      <td>1.0</td>\n",
       "      <td>1.0</td>\n",
       "      <td>1.0</td>\n",
       "      <td>1.0</td>\n",
       "    </tr>\n",
       "  </tbody>\n",
       "</table>\n",
       "</div>"
      ],
      "text/plain": [
       "       count      mean       std  min  25%  50%  75%  max\n",
       "incm5                                                    \n",
       "1.0     38.0  0.842105  0.369537  0.0  1.0  1.0  1.0  1.0\n",
       "2.0     35.0  0.771429  0.426043  0.0  1.0  1.0  1.0  1.0\n",
       "3.0     33.0  0.696970  0.466694  0.0  0.0  1.0  1.0  1.0\n",
       "4.0     21.0  0.666667  0.483046  0.0  0.0  1.0  1.0  1.0\n",
       "5.0     19.0  0.789474  0.418854  0.0  1.0  1.0  1.0  1.0"
      ]
     },
     "execution_count": 66,
     "metadata": {},
     "output_type": "execute_result"
    }
   ],
   "source": [
    "data19['DI3_pr_needs'] = [np.nan if b > 1 else b for b in data19['DI3_pr']]\n",
    "data19.groupby('incm5')['DI3_pr_needs'].describe()"
   ]
  },
  {
   "cell_type": "code",
   "execution_count": 67,
   "metadata": {},
   "outputs": [
    {
     "data": {
      "text/plain": [
       "<AxesSubplot:xlabel='incm5', ylabel='DI3_pr_needs'>"
      ]
     },
     "execution_count": 67,
     "metadata": {},
     "output_type": "execute_result"
    },
    {
     "data": {
      "image/png": "[encoded data removed]",
      "text/plain": [
       "<Figure size 432x288 with 1 Axes>"
      ]
     },
     "metadata": {
      "needs_background": "light"
     },
     "output_type": "display_data"
    }
   ],
   "source": [
    "sns.violinplot(x = 'incm5' , y = 'DI3_pr_needs', data = data19)"
   ]
  },
  {
   "cell_type": "code",
   "execution_count": 115,
   "metadata": {},
   "outputs": [
    {
     "name": "stdout",
     "output_type": "stream",
     "text": [
      "[-0.06289335251657004, 0.4859310494747577]\n",
      "[-0.0910784979082367, 0.3124187079954059]\n"
     ]
    }
   ],
   "source": [
    "data19_DI3 = pd.DataFrame(data19.DI3_pr, data19.incm5)\n",
    "data19_DI3 = data19_DI3.reset_index()\n",
    "data19_DI3['DI3_pr_needs'] = [np.nan if b > 1 else b for b in data19['DI3_pr']]\n",
    "data19_DI3 = data19_DI3.dropna()\n",
    "[R1, p1] = stats.pearsonr(data19_DI3.incm5, data19_DI3.DI3_pr_needs)\n",
    "print([R1, p1])\n",
    "[R2, p2] = stats.spearmanr(data19_DI3.incm5, data19_DI3.DI3_pr_needs)\n",
    "print([R2, p2])"
   ]
  },
  {
   "cell_type": "markdown",
   "metadata": {},
   "source": [
    "소득 구간이 증가할수록 뇌졸중 발병 비율이 줄어드는 양상이 보이나 5분위에서 다시 증가하는 것을 볼 수 있다. pearson과 spearman 두 상관관계 검정에서도 유의미한 차이가 나지 않는 것으로 보아 소득과 뇌졸중간에는 관계가 없다는 것을 알 수 있다."
   ]
  },
  {
   "cell_type": "markdown",
   "metadata": {},
   "source": [
    "## 2. 소득과 심근경색증 유병 여부의 관계"
   ]
  },
  {
   "cell_type": "code",
   "execution_count": 5,
   "metadata": {},
   "outputs": [
    {
     "data": {
      "text/html": [
       "<div>\n",
       "<style scoped>\n",
       "    .dataframe tbody tr th:only-of-type {\n",
       "        vertical-align: middle;\n",
       "    }\n",
       "\n",
       "    .dataframe tbody tr th {\n",
       "        vertical-align: top;\n",
       "    }\n",
       "\n",
       "    .dataframe thead th {\n",
       "        text-align: right;\n",
       "    }\n",
       "</style>\n",
       "<table border=\"1\" class=\"dataframe\">\n",
       "  <thead>\n",
       "    <tr style=\"text-align: right;\">\n",
       "      <th></th>\n",
       "      <th>count</th>\n",
       "      <th>mean</th>\n",
       "      <th>std</th>\n",
       "      <th>min</th>\n",
       "      <th>25%</th>\n",
       "      <th>50%</th>\n",
       "      <th>75%</th>\n",
       "      <th>max</th>\n",
       "    </tr>\n",
       "    <tr>\n",
       "      <th>incm5</th>\n",
       "      <th></th>\n",
       "      <th></th>\n",
       "      <th></th>\n",
       "      <th></th>\n",
       "      <th></th>\n",
       "      <th></th>\n",
       "      <th></th>\n",
       "      <th></th>\n",
       "    </tr>\n",
       "  </thead>\n",
       "  <tbody>\n",
       "    <tr>\n",
       "      <th>1.0</th>\n",
       "      <td>17.0</td>\n",
       "      <td>0.882353</td>\n",
       "      <td>0.332106</td>\n",
       "      <td>0.0</td>\n",
       "      <td>1.0</td>\n",
       "      <td>1.0</td>\n",
       "      <td>1.0</td>\n",
       "      <td>1.0</td>\n",
       "    </tr>\n",
       "    <tr>\n",
       "      <th>2.0</th>\n",
       "      <td>18.0</td>\n",
       "      <td>0.944444</td>\n",
       "      <td>0.235702</td>\n",
       "      <td>0.0</td>\n",
       "      <td>1.0</td>\n",
       "      <td>1.0</td>\n",
       "      <td>1.0</td>\n",
       "      <td>1.0</td>\n",
       "    </tr>\n",
       "    <tr>\n",
       "      <th>3.0</th>\n",
       "      <td>14.0</td>\n",
       "      <td>1.000000</td>\n",
       "      <td>0.000000</td>\n",
       "      <td>1.0</td>\n",
       "      <td>1.0</td>\n",
       "      <td>1.0</td>\n",
       "      <td>1.0</td>\n",
       "      <td>1.0</td>\n",
       "    </tr>\n",
       "    <tr>\n",
       "      <th>4.0</th>\n",
       "      <td>11.0</td>\n",
       "      <td>0.818182</td>\n",
       "      <td>0.404520</td>\n",
       "      <td>0.0</td>\n",
       "      <td>1.0</td>\n",
       "      <td>1.0</td>\n",
       "      <td>1.0</td>\n",
       "      <td>1.0</td>\n",
       "    </tr>\n",
       "    <tr>\n",
       "      <th>5.0</th>\n",
       "      <td>16.0</td>\n",
       "      <td>0.875000</td>\n",
       "      <td>0.341565</td>\n",
       "      <td>0.0</td>\n",
       "      <td>1.0</td>\n",
       "      <td>1.0</td>\n",
       "      <td>1.0</td>\n",
       "      <td>1.0</td>\n",
       "    </tr>\n",
       "  </tbody>\n",
       "</table>\n",
       "</div>"
      ],
      "text/plain": [
       "       count      mean       std  min  25%  50%  75%  max\n",
       "incm5                                                    \n",
       "1.0     17.0  0.882353  0.332106  0.0  1.0  1.0  1.0  1.0\n",
       "2.0     18.0  0.944444  0.235702  0.0  1.0  1.0  1.0  1.0\n",
       "3.0     14.0  1.000000  0.000000  1.0  1.0  1.0  1.0  1.0\n",
       "4.0     11.0  0.818182  0.404520  0.0  1.0  1.0  1.0  1.0\n",
       "5.0     16.0  0.875000  0.341565  0.0  1.0  1.0  1.0  1.0"
      ]
     },
     "execution_count": 5,
     "metadata": {},
     "output_type": "execute_result"
    }
   ],
   "source": [
    "data19['DI5_pr_needs'] = [np.nan if b > 1 else b for b in data19['DI5_pr']]\n",
    "data19.groupby('incm5')['DI5_pr_needs'].describe()"
   ]
  },
  {
   "cell_type": "code",
   "execution_count": 6,
   "metadata": {},
   "outputs": [
    {
     "data": {
      "text/plain": [
       "<AxesSubplot:xlabel='incm5', ylabel='DI5_pr_needs'>"
      ]
     },
     "execution_count": 6,
     "metadata": {},
     "output_type": "execute_result"
    },
    {
     "data": {
      "image/png": "[encoded data removed]",
      "text/plain": [
       "<Figure size 432x288 with 1 Axes>"
      ]
     },
     "metadata": {
      "needs_background": "light"
     },
     "output_type": "display_data"
    }
   ],
   "source": [
    "sns.violinplot(x = 'incm5' , y = 'DI5_pr_needs', data = data19)"
   ]
  },
  {
   "cell_type": "code",
   "execution_count": 116,
   "metadata": {},
   "outputs": [
    {
     "name": "stdout",
     "output_type": "stream",
     "text": [
      "[-0.020897850190928567, 0.8687608112185053]\n",
      "[0.017492384186065555, 0.8900015503348271]\n"
     ]
    }
   ],
   "source": [
    "data19_DI5 = pd.DataFrame(data19.DI5_pr, data19.incm5)\n",
    "data19_DI5 = data19_DI5.reset_index()\n",
    "data19_DI5['DI5_pr_needs'] = [np.nan if b > 1 else b for b in data19['DI5_pr']]\n",
    "data19_DI5 = data19_DI5.dropna()\n",
    "[R1, p1] = stats.pearsonr(data19_DI5.incm5, data19_DI5.DI5_pr_needs)\n",
    "print([R1, p1])\n",
    "[R2, p2] = stats.spearmanr(data19_DI5.incm5, data19_DI5.DI5_pr_needs)\n",
    "print([R2, p2])"
   ]
  },
  {
   "cell_type": "markdown",
   "metadata": {},
   "source": [
    "전체적으로 높은 비율을 보이고 있지만 2분위와 3분위에서 특히 높은 비율을 보이고 있다. 1분위에서 3분위까지 비율이 증가하는 것처럼 보이나 4분위가 되고 다시 감소하였다가 5분위에 증가하는 것을 볼 수 있다. 또한 두 상관관계 검정에서도 p 값이 0.05보다 크므로 소득과 심근경색증 사이에는 관계가 없다."
   ]
  },
  {
   "cell_type": "markdown",
   "metadata": {},
   "source": [
    "## 3. 소득과 협심증 유병 여부와의 관계"
   ]
  },
  {
   "cell_type": "code",
   "execution_count": 7,
   "metadata": {},
   "outputs": [
    {
     "data": {
      "text/html": [
       "<div>\n",
       "<style scoped>\n",
       "    .dataframe tbody tr th:only-of-type {\n",
       "        vertical-align: middle;\n",
       "    }\n",
       "\n",
       "    .dataframe tbody tr th {\n",
       "        vertical-align: top;\n",
       "    }\n",
       "\n",
       "    .dataframe thead th {\n",
       "        text-align: right;\n",
       "    }\n",
       "</style>\n",
       "<table border=\"1\" class=\"dataframe\">\n",
       "  <thead>\n",
       "    <tr style=\"text-align: right;\">\n",
       "      <th></th>\n",
       "      <th>count</th>\n",
       "      <th>mean</th>\n",
       "      <th>std</th>\n",
       "      <th>min</th>\n",
       "      <th>25%</th>\n",
       "      <th>50%</th>\n",
       "      <th>75%</th>\n",
       "      <th>max</th>\n",
       "    </tr>\n",
       "    <tr>\n",
       "      <th>incm5</th>\n",
       "      <th></th>\n",
       "      <th></th>\n",
       "      <th></th>\n",
       "      <th></th>\n",
       "      <th></th>\n",
       "      <th></th>\n",
       "      <th></th>\n",
       "      <th></th>\n",
       "    </tr>\n",
       "  </thead>\n",
       "  <tbody>\n",
       "    <tr>\n",
       "      <th>1.0</th>\n",
       "      <td>28.0</td>\n",
       "      <td>0.928571</td>\n",
       "      <td>0.262265</td>\n",
       "      <td>0.0</td>\n",
       "      <td>1.0</td>\n",
       "      <td>1.0</td>\n",
       "      <td>1.0</td>\n",
       "      <td>1.0</td>\n",
       "    </tr>\n",
       "    <tr>\n",
       "      <th>2.0</th>\n",
       "      <td>27.0</td>\n",
       "      <td>0.740741</td>\n",
       "      <td>0.446576</td>\n",
       "      <td>0.0</td>\n",
       "      <td>0.5</td>\n",
       "      <td>1.0</td>\n",
       "      <td>1.0</td>\n",
       "      <td>1.0</td>\n",
       "    </tr>\n",
       "    <tr>\n",
       "      <th>3.0</th>\n",
       "      <td>17.0</td>\n",
       "      <td>0.823529</td>\n",
       "      <td>0.392953</td>\n",
       "      <td>0.0</td>\n",
       "      <td>1.0</td>\n",
       "      <td>1.0</td>\n",
       "      <td>1.0</td>\n",
       "      <td>1.0</td>\n",
       "    </tr>\n",
       "    <tr>\n",
       "      <th>4.0</th>\n",
       "      <td>30.0</td>\n",
       "      <td>0.833333</td>\n",
       "      <td>0.379049</td>\n",
       "      <td>0.0</td>\n",
       "      <td>1.0</td>\n",
       "      <td>1.0</td>\n",
       "      <td>1.0</td>\n",
       "      <td>1.0</td>\n",
       "    </tr>\n",
       "    <tr>\n",
       "      <th>5.0</th>\n",
       "      <td>24.0</td>\n",
       "      <td>0.916667</td>\n",
       "      <td>0.282330</td>\n",
       "      <td>0.0</td>\n",
       "      <td>1.0</td>\n",
       "      <td>1.0</td>\n",
       "      <td>1.0</td>\n",
       "      <td>1.0</td>\n",
       "    </tr>\n",
       "  </tbody>\n",
       "</table>\n",
       "</div>"
      ],
      "text/plain": [
       "       count      mean       std  min  25%  50%  75%  max\n",
       "incm5                                                    \n",
       "1.0     28.0  0.928571  0.262265  0.0  1.0  1.0  1.0  1.0\n",
       "2.0     27.0  0.740741  0.446576  0.0  0.5  1.0  1.0  1.0\n",
       "3.0     17.0  0.823529  0.392953  0.0  1.0  1.0  1.0  1.0\n",
       "4.0     30.0  0.833333  0.379049  0.0  1.0  1.0  1.0  1.0\n",
       "5.0     24.0  0.916667  0.282330  0.0  1.0  1.0  1.0  1.0"
      ]
     },
     "execution_count": 7,
     "metadata": {},
     "output_type": "execute_result"
    }
   ],
   "source": [
    "data19['DI6_pr_needs'] = [np.nan if b > 1 else b for b in data19['DI6_pr']]\n",
    "data19.groupby('incm5')['DI6_pr_needs'].describe()"
   ]
  },
  {
   "cell_type": "code",
   "execution_count": 8,
   "metadata": {},
   "outputs": [
    {
     "data": {
      "text/plain": [
       "<AxesSubplot:xlabel='incm5', ylabel='DI6_pr_needs'>"
      ]
     },
     "execution_count": 8,
     "metadata": {},
     "output_type": "execute_result"
    },
    {
     "data": {
      "image/png": "[encoded data removed]",
      "text/plain": [
       "<Figure size 432x288 with 1 Axes>"
      ]
     },
     "metadata": {
      "needs_background": "light"
     },
     "output_type": "display_data"
    }
   ],
   "source": [
    "sns.violinplot(x = 'incm5' , y = 'DI6_pr_needs', data = data19)"
   ]
  },
  {
   "cell_type": "code",
   "execution_count": 118,
   "metadata": {},
   "outputs": [
    {
     "name": "stdout",
     "output_type": "stream",
     "text": [
      "[0.03677512184756787, 0.7220491635170644]\n",
      "[-0.005516527543538593, 0.9574585639864039]\n"
     ]
    }
   ],
   "source": [
    "data19_DI6 = pd.DataFrame(data19.DI6_pr, data19.incm5)\n",
    "data19_DI6 = data19_DI6.reset_index()\n",
    "data19_DI6['DI6_pr_needs'] = [np.nan if b > 1 else b for b in data19['DI6_pr']]\n",
    "data19_DI6 = data19_DI6.dropna()\n",
    "[R1, p1] = stats.pearsonr(data19_DI6.incm5, data19_DI6.DI6_pr_needs)\n",
    "print([R1, p1])\n",
    "[R2, p2] = stats.spearmanr(data19_DI6.incm5, data19_DI6.DI6_pr_needs)\n",
    "print([R2, p2])"
   ]
  },
  {
   "cell_type": "markdown",
   "metadata": {},
   "source": [
    "바이올린플롯을 통해 2분위에서 가장 낮은 비율을 보이고 있고 1분위와 5분위 양극단에서 높은 비율을 차지하고 있음을 알 수 있다. 또한 두 상관관계 검정에서 p값이 모두 0.05보다 큰 값이 나왔으므로 소득과 협심증 간에는 관계가 없다."
   ]
  },
  {
   "cell_type": "markdown",
   "metadata": {},
   "source": [
    "## 4. 소득과 관절염 유병 여부와의 관계"
   ]
  },
  {
   "cell_type": "code",
   "execution_count": 9,
   "metadata": {},
   "outputs": [
    {
     "data": {
      "text/html": [
       "<div>\n",
       "<style scoped>\n",
       "    .dataframe tbody tr th:only-of-type {\n",
       "        vertical-align: middle;\n",
       "    }\n",
       "\n",
       "    .dataframe tbody tr th {\n",
       "        vertical-align: top;\n",
       "    }\n",
       "\n",
       "    .dataframe thead th {\n",
       "        text-align: right;\n",
       "    }\n",
       "</style>\n",
       "<table border=\"1\" class=\"dataframe\">\n",
       "  <thead>\n",
       "    <tr style=\"text-align: right;\">\n",
       "      <th></th>\n",
       "      <th>count</th>\n",
       "      <th>mean</th>\n",
       "      <th>std</th>\n",
       "      <th>min</th>\n",
       "      <th>25%</th>\n",
       "      <th>50%</th>\n",
       "      <th>75%</th>\n",
       "      <th>max</th>\n",
       "    </tr>\n",
       "    <tr>\n",
       "      <th>incm5</th>\n",
       "      <th></th>\n",
       "      <th></th>\n",
       "      <th></th>\n",
       "      <th></th>\n",
       "      <th></th>\n",
       "      <th></th>\n",
       "      <th></th>\n",
       "      <th></th>\n",
       "    </tr>\n",
       "  </thead>\n",
       "  <tbody>\n",
       "    <tr>\n",
       "      <th>1.0</th>\n",
       "      <td>163.0</td>\n",
       "      <td>0.889571</td>\n",
       "      <td>0.314390</td>\n",
       "      <td>0.0</td>\n",
       "      <td>1.0</td>\n",
       "      <td>1.0</td>\n",
       "      <td>1.0</td>\n",
       "      <td>1.0</td>\n",
       "    </tr>\n",
       "    <tr>\n",
       "      <th>2.0</th>\n",
       "      <td>179.0</td>\n",
       "      <td>0.888268</td>\n",
       "      <td>0.315920</td>\n",
       "      <td>0.0</td>\n",
       "      <td>1.0</td>\n",
       "      <td>1.0</td>\n",
       "      <td>1.0</td>\n",
       "      <td>1.0</td>\n",
       "    </tr>\n",
       "    <tr>\n",
       "      <th>3.0</th>\n",
       "      <td>151.0</td>\n",
       "      <td>0.887417</td>\n",
       "      <td>0.317134</td>\n",
       "      <td>0.0</td>\n",
       "      <td>1.0</td>\n",
       "      <td>1.0</td>\n",
       "      <td>1.0</td>\n",
       "      <td>1.0</td>\n",
       "    </tr>\n",
       "    <tr>\n",
       "      <th>4.0</th>\n",
       "      <td>137.0</td>\n",
       "      <td>0.854015</td>\n",
       "      <td>0.354387</td>\n",
       "      <td>0.0</td>\n",
       "      <td>1.0</td>\n",
       "      <td>1.0</td>\n",
       "      <td>1.0</td>\n",
       "      <td>1.0</td>\n",
       "    </tr>\n",
       "    <tr>\n",
       "      <th>5.0</th>\n",
       "      <td>148.0</td>\n",
       "      <td>0.858108</td>\n",
       "      <td>0.350124</td>\n",
       "      <td>0.0</td>\n",
       "      <td>1.0</td>\n",
       "      <td>1.0</td>\n",
       "      <td>1.0</td>\n",
       "      <td>1.0</td>\n",
       "    </tr>\n",
       "  </tbody>\n",
       "</table>\n",
       "</div>"
      ],
      "text/plain": [
       "       count      mean       std  min  25%  50%  75%  max\n",
       "incm5                                                    \n",
       "1.0    163.0  0.889571  0.314390  0.0  1.0  1.0  1.0  1.0\n",
       "2.0    179.0  0.888268  0.315920  0.0  1.0  1.0  1.0  1.0\n",
       "3.0    151.0  0.887417  0.317134  0.0  1.0  1.0  1.0  1.0\n",
       "4.0    137.0  0.854015  0.354387  0.0  1.0  1.0  1.0  1.0\n",
       "5.0    148.0  0.858108  0.350124  0.0  1.0  1.0  1.0  1.0"
      ]
     },
     "execution_count": 9,
     "metadata": {},
     "output_type": "execute_result"
    }
   ],
   "source": [
    "data19['DM1_pr_needs'] = [np.nan if b > 1 else b for b in data19['DM1_pr']]\n",
    "data19.groupby('incm5')['DM1_pr_needs'].describe()"
   ]
  },
  {
   "cell_type": "code",
   "execution_count": 10,
   "metadata": {},
   "outputs": [
    {
     "data": {
      "text/plain": [
       "<AxesSubplot:xlabel='incm5', ylabel='DM1_pr_needs'>"
      ]
     },
     "execution_count": 10,
     "metadata": {},
     "output_type": "execute_result"
    },
    {
     "data": {
      "image/png": "[encoded data removed]",
      "text/plain": [
       "<Figure size 432x288 with 1 Axes>"
      ]
     },
     "metadata": {
      "needs_background": "light"
     },
     "output_type": "display_data"
    }
   ],
   "source": [
    "sns.violinplot(x = 'incm5' , y = 'DM1_pr_needs', data = data19)"
   ]
  },
  {
   "cell_type": "code",
   "execution_count": 120,
   "metadata": {},
   "outputs": [
    {
     "name": "stdout",
     "output_type": "stream",
     "text": [
      "[-0.035782577215042494, 0.3657494612663242]\n",
      "[-0.03135721124963677, 0.4280420766405385]\n"
     ]
    }
   ],
   "source": [
    "data19_DM1 = pd.DataFrame(data19.DM1_pr, data19.incm5)\n",
    "data19_DM1 = data19_DM1.reset_index()\n",
    "data19_DM1['DM1_pr_needs'] = [np.nan if b > 1 else b for b in data19['DM1_pr']]\n",
    "data19_DM1 = data19_DM1.dropna()\n",
    "[R1, p1] = stats.pearsonr(data19_DM1.incm5, data19_DM1.DM1_pr_needs)\n",
    "print([R1, p1])\n",
    "[R2, p2] = stats.spearmanr(data19_DM1.incm5, data19_DM1.DM1_pr_needs)\n",
    "print([R2, p2])"
   ]
  },
  {
   "cell_type": "markdown",
   "metadata": {},
   "source": [
    "모든 소득 분위에서 0.8 정도의 비율로 나타나며 두 상관관계 검정에서 p값이 0.05보다 크므로 소득과 관절염 사이에는 관계가 없다."
   ]
  },
  {
   "cell_type": "markdown",
   "metadata": {},
   "source": [
    "## 5. 소득과 골관절염 유병 여부와의 관계"
   ]
  },
  {
   "cell_type": "code",
   "execution_count": 11,
   "metadata": {},
   "outputs": [
    {
     "data": {
      "text/html": [
       "<div>\n",
       "<style scoped>\n",
       "    .dataframe tbody tr th:only-of-type {\n",
       "        vertical-align: middle;\n",
       "    }\n",
       "\n",
       "    .dataframe tbody tr th {\n",
       "        vertical-align: top;\n",
       "    }\n",
       "\n",
       "    .dataframe thead th {\n",
       "        text-align: right;\n",
       "    }\n",
       "</style>\n",
       "<table border=\"1\" class=\"dataframe\">\n",
       "  <thead>\n",
       "    <tr style=\"text-align: right;\">\n",
       "      <th></th>\n",
       "      <th>count</th>\n",
       "      <th>mean</th>\n",
       "      <th>std</th>\n",
       "      <th>min</th>\n",
       "      <th>25%</th>\n",
       "      <th>50%</th>\n",
       "      <th>75%</th>\n",
       "      <th>max</th>\n",
       "    </tr>\n",
       "    <tr>\n",
       "      <th>incm5</th>\n",
       "      <th></th>\n",
       "      <th></th>\n",
       "      <th></th>\n",
       "      <th></th>\n",
       "      <th></th>\n",
       "      <th></th>\n",
       "      <th></th>\n",
       "      <th></th>\n",
       "    </tr>\n",
       "  </thead>\n",
       "  <tbody>\n",
       "    <tr>\n",
       "      <th>1.0</th>\n",
       "      <td>151.0</td>\n",
       "      <td>0.887417</td>\n",
       "      <td>0.317134</td>\n",
       "      <td>0.0</td>\n",
       "      <td>1.0</td>\n",
       "      <td>1.0</td>\n",
       "      <td>1.0</td>\n",
       "      <td>1.0</td>\n",
       "    </tr>\n",
       "    <tr>\n",
       "      <th>2.0</th>\n",
       "      <td>156.0</td>\n",
       "      <td>0.910256</td>\n",
       "      <td>0.286735</td>\n",
       "      <td>0.0</td>\n",
       "      <td>1.0</td>\n",
       "      <td>1.0</td>\n",
       "      <td>1.0</td>\n",
       "      <td>1.0</td>\n",
       "    </tr>\n",
       "    <tr>\n",
       "      <th>3.0</th>\n",
       "      <td>134.0</td>\n",
       "      <td>0.910448</td>\n",
       "      <td>0.286611</td>\n",
       "      <td>0.0</td>\n",
       "      <td>1.0</td>\n",
       "      <td>1.0</td>\n",
       "      <td>1.0</td>\n",
       "      <td>1.0</td>\n",
       "    </tr>\n",
       "    <tr>\n",
       "      <th>4.0</th>\n",
       "      <td>125.0</td>\n",
       "      <td>0.864000</td>\n",
       "      <td>0.344168</td>\n",
       "      <td>0.0</td>\n",
       "      <td>1.0</td>\n",
       "      <td>1.0</td>\n",
       "      <td>1.0</td>\n",
       "      <td>1.0</td>\n",
       "    </tr>\n",
       "    <tr>\n",
       "      <th>5.0</th>\n",
       "      <td>126.0</td>\n",
       "      <td>0.857143</td>\n",
       "      <td>0.351324</td>\n",
       "      <td>0.0</td>\n",
       "      <td>1.0</td>\n",
       "      <td>1.0</td>\n",
       "      <td>1.0</td>\n",
       "      <td>1.0</td>\n",
       "    </tr>\n",
       "  </tbody>\n",
       "</table>\n",
       "</div>"
      ],
      "text/plain": [
       "       count      mean       std  min  25%  50%  75%  max\n",
       "incm5                                                    \n",
       "1.0    151.0  0.887417  0.317134  0.0  1.0  1.0  1.0  1.0\n",
       "2.0    156.0  0.910256  0.286735  0.0  1.0  1.0  1.0  1.0\n",
       "3.0    134.0  0.910448  0.286611  0.0  1.0  1.0  1.0  1.0\n",
       "4.0    125.0  0.864000  0.344168  0.0  1.0  1.0  1.0  1.0\n",
       "5.0    126.0  0.857143  0.351324  0.0  1.0  1.0  1.0  1.0"
      ]
     },
     "execution_count": 11,
     "metadata": {},
     "output_type": "execute_result"
    }
   ],
   "source": [
    "data19['DM2_pr_needs'] = [np.nan if b > 1 else b for b in data19['DM2_pr']]\n",
    "data19.groupby('incm5')['DM2_pr_needs'].describe()"
   ]
  },
  {
   "cell_type": "code",
   "execution_count": 12,
   "metadata": {},
   "outputs": [
    {
     "data": {
      "text/plain": [
       "<AxesSubplot:xlabel='incm5', ylabel='DM2_pr_needs'>"
      ]
     },
     "execution_count": 12,
     "metadata": {},
     "output_type": "execute_result"
    },
    {
     "data": {
      "image/png": "[encoded data removed]",
      "text/plain": [
       "<Figure size 432x288 with 1 Axes>"
      ]
     },
     "metadata": {
      "needs_background": "light"
     },
     "output_type": "display_data"
    }
   ],
   "source": [
    "sns.violinplot(x = 'incm5' , y = 'DM2_pr_needs', data = data19)"
   ]
  },
  {
   "cell_type": "code",
   "execution_count": 121,
   "metadata": {},
   "outputs": [
    {
     "name": "stdout",
     "output_type": "stream",
     "text": [
      "[-0.03994127795188234, 0.34244151009135376]\n",
      "[-0.02717223528793624, 0.5184670750228721]\n"
     ]
    }
   ],
   "source": [
    "data19_DM2 = pd.DataFrame(data19.DM2_pr, data19.incm5)\n",
    "data19_DM2 = data19_DM2.reset_index()\n",
    "data19_DM2['DM2_pr_needs'] = [np.nan if b > 1 else b for b in data19['DM2_pr']]\n",
    "data19_DM2 = data19_DM2.dropna()\n",
    "[R1, p1] = stats.pearsonr(data19_DM2.incm5, data19_DM2.DM2_pr_needs)\n",
    "print([R1, p1])\n",
    "[R2, p2] = stats.spearmanr(data19_DM2.incm5, data19_DM2.DM2_pr_needs)\n",
    "print([R2, p2])"
   ]
  },
  {
   "cell_type": "markdown",
   "metadata": {},
   "source": [
    "소득분위 2분위와 3분위에서 다른 분위들보다 조금 높은 비율을 보이고 있음을 알 수 있다. 그러므로 중산층에서 골관절염 발병 비율이 높다는 것을 알 수 있다. 그러나 두 상관 관계 검정 상에서 보면 알 수 있듯이 소득과 골관절염 사이에는 관계가 없다."
   ]
  },
  {
   "cell_type": "markdown",
   "metadata": {},
   "source": [
    "## 6. 소득과 류마티스관절염 유병 여부와의 관계"
   ]
  },
  {
   "cell_type": "code",
   "execution_count": 13,
   "metadata": {},
   "outputs": [
    {
     "data": {
      "text/html": [
       "<div>\n",
       "<style scoped>\n",
       "    .dataframe tbody tr th:only-of-type {\n",
       "        vertical-align: middle;\n",
       "    }\n",
       "\n",
       "    .dataframe tbody tr th {\n",
       "        vertical-align: top;\n",
       "    }\n",
       "\n",
       "    .dataframe thead th {\n",
       "        text-align: right;\n",
       "    }\n",
       "</style>\n",
       "<table border=\"1\" class=\"dataframe\">\n",
       "  <thead>\n",
       "    <tr style=\"text-align: right;\">\n",
       "      <th></th>\n",
       "      <th>count</th>\n",
       "      <th>mean</th>\n",
       "      <th>std</th>\n",
       "      <th>min</th>\n",
       "      <th>25%</th>\n",
       "      <th>50%</th>\n",
       "      <th>75%</th>\n",
       "      <th>max</th>\n",
       "    </tr>\n",
       "    <tr>\n",
       "      <th>incm5</th>\n",
       "      <th></th>\n",
       "      <th></th>\n",
       "      <th></th>\n",
       "      <th></th>\n",
       "      <th></th>\n",
       "      <th></th>\n",
       "      <th></th>\n",
       "      <th></th>\n",
       "    </tr>\n",
       "  </thead>\n",
       "  <tbody>\n",
       "    <tr>\n",
       "      <th>1.0</th>\n",
       "      <td>19.0</td>\n",
       "      <td>0.789474</td>\n",
       "      <td>0.418854</td>\n",
       "      <td>0.0</td>\n",
       "      <td>1.00</td>\n",
       "      <td>1.0</td>\n",
       "      <td>1.0</td>\n",
       "      <td>1.0</td>\n",
       "    </tr>\n",
       "    <tr>\n",
       "      <th>2.0</th>\n",
       "      <td>38.0</td>\n",
       "      <td>0.710526</td>\n",
       "      <td>0.459606</td>\n",
       "      <td>0.0</td>\n",
       "      <td>0.00</td>\n",
       "      <td>1.0</td>\n",
       "      <td>1.0</td>\n",
       "      <td>1.0</td>\n",
       "    </tr>\n",
       "    <tr>\n",
       "      <th>3.0</th>\n",
       "      <td>20.0</td>\n",
       "      <td>0.700000</td>\n",
       "      <td>0.470162</td>\n",
       "      <td>0.0</td>\n",
       "      <td>0.00</td>\n",
       "      <td>1.0</td>\n",
       "      <td>1.0</td>\n",
       "      <td>1.0</td>\n",
       "    </tr>\n",
       "    <tr>\n",
       "      <th>4.0</th>\n",
       "      <td>14.0</td>\n",
       "      <td>0.714286</td>\n",
       "      <td>0.468807</td>\n",
       "      <td>0.0</td>\n",
       "      <td>0.25</td>\n",
       "      <td>1.0</td>\n",
       "      <td>1.0</td>\n",
       "      <td>1.0</td>\n",
       "    </tr>\n",
       "    <tr>\n",
       "      <th>5.0</th>\n",
       "      <td>28.0</td>\n",
       "      <td>0.857143</td>\n",
       "      <td>0.356348</td>\n",
       "      <td>0.0</td>\n",
       "      <td>1.00</td>\n",
       "      <td>1.0</td>\n",
       "      <td>1.0</td>\n",
       "      <td>1.0</td>\n",
       "    </tr>\n",
       "  </tbody>\n",
       "</table>\n",
       "</div>"
      ],
      "text/plain": [
       "       count      mean       std  min   25%  50%  75%  max\n",
       "incm5                                                     \n",
       "1.0     19.0  0.789474  0.418854  0.0  1.00  1.0  1.0  1.0\n",
       "2.0     38.0  0.710526  0.459606  0.0  0.00  1.0  1.0  1.0\n",
       "3.0     20.0  0.700000  0.470162  0.0  0.00  1.0  1.0  1.0\n",
       "4.0     14.0  0.714286  0.468807  0.0  0.25  1.0  1.0  1.0\n",
       "5.0     28.0  0.857143  0.356348  0.0  1.00  1.0  1.0  1.0"
      ]
     },
     "execution_count": 13,
     "metadata": {},
     "output_type": "execute_result"
    }
   ],
   "source": [
    "data19['DM3_pr_needs'] = [np.nan if b > 1 else b for b in data19['DM3_pr']]\n",
    "data19.groupby('incm5')['DM3_pr_needs'].describe()"
   ]
  },
  {
   "cell_type": "code",
   "execution_count": 14,
   "metadata": {},
   "outputs": [
    {
     "data": {
      "text/plain": [
       "<AxesSubplot:xlabel='incm5', ylabel='DM3_pr_needs'>"
      ]
     },
     "execution_count": 14,
     "metadata": {},
     "output_type": "execute_result"
    },
    {
     "data": {
      "image/png": "[encoded data removed]",
      "text/plain": [
       "<Figure size 432x288 with 1 Axes>"
      ]
     },
     "metadata": {
      "needs_background": "light"
     },
     "output_type": "display_data"
    }
   ],
   "source": [
    "sns.violinplot(x = 'incm5' , y = 'DM3_pr_needs', data = data19)"
   ]
  },
  {
   "cell_type": "code",
   "execution_count": 123,
   "metadata": {},
   "outputs": [
    {
     "name": "stdout",
     "output_type": "stream",
     "text": [
      "[0.09588903162837062, 0.3305270543343432]\n",
      "[0.06957481603467208, 0.48065411784402046]\n"
     ]
    }
   ],
   "source": [
    "data19_DM3 = pd.DataFrame(data19.DM3_pr, data19.incm5)\n",
    "data19_DM3 = data19_DM3.reset_index()\n",
    "data19_DM3['DM3_pr_needs'] = [np.nan if b > 1 else b for b in data19['DM3_pr']]\n",
    "data19_DM3 = data19_DM3.dropna()\n",
    "[R1, p1] = stats.pearsonr(data19_DM3.incm5, data19_DM3.DM3_pr_needs)\n",
    "print([R1, p1])\n",
    "[R2, p2] = stats.spearmanr(data19_DM3.incm5, data19_DM3.DM3_pr_needs)\n",
    "print([R2, p2])"
   ]
  },
  {
   "cell_type": "markdown",
   "metadata": {},
   "source": [
    "소득분위 2분위, 3분위 ,4분위에서는 0.71 정도의 비율을 보이고 있지만 1분위에서 0.79, 5분위에서는 급격히 증가하여 0.86 정도의 비율을 보이고 있음을 알 수 있다. 또한 두 상관관계 검정 상에서 p 값이 0.05보다 크므로 소득과 류마티스 관절염 사이에는 관계가 없다."
   ]
  },
  {
   "cell_type": "markdown",
   "metadata": {},
   "source": [
    "## 7. 소득과 폐결핵 유병 여부와의 관계"
   ]
  },
  {
   "cell_type": "code",
   "execution_count": 15,
   "metadata": {},
   "outputs": [
    {
     "data": {
      "text/html": [
       "<div>\n",
       "<style scoped>\n",
       "    .dataframe tbody tr th:only-of-type {\n",
       "        vertical-align: middle;\n",
       "    }\n",
       "\n",
       "    .dataframe tbody tr th {\n",
       "        vertical-align: top;\n",
       "    }\n",
       "\n",
       "    .dataframe thead th {\n",
       "        text-align: right;\n",
       "    }\n",
       "</style>\n",
       "<table border=\"1\" class=\"dataframe\">\n",
       "  <thead>\n",
       "    <tr style=\"text-align: right;\">\n",
       "      <th></th>\n",
       "      <th>count</th>\n",
       "      <th>mean</th>\n",
       "      <th>std</th>\n",
       "      <th>min</th>\n",
       "      <th>25%</th>\n",
       "      <th>50%</th>\n",
       "      <th>75%</th>\n",
       "      <th>max</th>\n",
       "    </tr>\n",
       "    <tr>\n",
       "      <th>incm5</th>\n",
       "      <th></th>\n",
       "      <th></th>\n",
       "      <th></th>\n",
       "      <th></th>\n",
       "      <th></th>\n",
       "      <th></th>\n",
       "      <th></th>\n",
       "      <th></th>\n",
       "    </tr>\n",
       "  </thead>\n",
       "  <tbody>\n",
       "    <tr>\n",
       "      <th>1.0</th>\n",
       "      <td>42.0</td>\n",
       "      <td>0.047619</td>\n",
       "      <td>0.215540</td>\n",
       "      <td>0.0</td>\n",
       "      <td>0.0</td>\n",
       "      <td>0.0</td>\n",
       "      <td>0.0</td>\n",
       "      <td>1.0</td>\n",
       "    </tr>\n",
       "    <tr>\n",
       "      <th>2.0</th>\n",
       "      <td>42.0</td>\n",
       "      <td>0.071429</td>\n",
       "      <td>0.260661</td>\n",
       "      <td>0.0</td>\n",
       "      <td>0.0</td>\n",
       "      <td>0.0</td>\n",
       "      <td>0.0</td>\n",
       "      <td>1.0</td>\n",
       "    </tr>\n",
       "    <tr>\n",
       "      <th>3.0</th>\n",
       "      <td>40.0</td>\n",
       "      <td>0.050000</td>\n",
       "      <td>0.220721</td>\n",
       "      <td>0.0</td>\n",
       "      <td>0.0</td>\n",
       "      <td>0.0</td>\n",
       "      <td>0.0</td>\n",
       "      <td>1.0</td>\n",
       "    </tr>\n",
       "    <tr>\n",
       "      <th>4.0</th>\n",
       "      <td>43.0</td>\n",
       "      <td>0.023256</td>\n",
       "      <td>0.152499</td>\n",
       "      <td>0.0</td>\n",
       "      <td>0.0</td>\n",
       "      <td>0.0</td>\n",
       "      <td>0.0</td>\n",
       "      <td>1.0</td>\n",
       "    </tr>\n",
       "    <tr>\n",
       "      <th>5.0</th>\n",
       "      <td>30.0</td>\n",
       "      <td>0.033333</td>\n",
       "      <td>0.182574</td>\n",
       "      <td>0.0</td>\n",
       "      <td>0.0</td>\n",
       "      <td>0.0</td>\n",
       "      <td>0.0</td>\n",
       "      <td>1.0</td>\n",
       "    </tr>\n",
       "  </tbody>\n",
       "</table>\n",
       "</div>"
      ],
      "text/plain": [
       "       count      mean       std  min  25%  50%  75%  max\n",
       "incm5                                                    \n",
       "1.0     42.0  0.047619  0.215540  0.0  0.0  0.0  0.0  1.0\n",
       "2.0     42.0  0.071429  0.260661  0.0  0.0  0.0  0.0  1.0\n",
       "3.0     40.0  0.050000  0.220721  0.0  0.0  0.0  0.0  1.0\n",
       "4.0     43.0  0.023256  0.152499  0.0  0.0  0.0  0.0  1.0\n",
       "5.0     30.0  0.033333  0.182574  0.0  0.0  0.0  0.0  1.0"
      ]
     },
     "execution_count": 15,
     "metadata": {},
     "output_type": "execute_result"
    }
   ],
   "source": [
    "data19['DJ2_pr_needs'] = [np.nan if b > 1 else b for b in data19['DJ2_pr']]\n",
    "data19.groupby('incm5')['DJ2_pr_needs'].describe()"
   ]
  },
  {
   "cell_type": "code",
   "execution_count": 16,
   "metadata": {},
   "outputs": [
    {
     "data": {
      "text/plain": [
       "<AxesSubplot:xlabel='incm5', ylabel='DJ2_pr_needs'>"
      ]
     },
     "execution_count": 16,
     "metadata": {},
     "output_type": "execute_result"
    },
    {
     "data": {
      "image/png": "[encoded data removed]",
      "text/plain": [
       "<Figure size 432x288 with 1 Axes>"
      ]
     },
     "metadata": {
      "needs_background": "light"
     },
     "output_type": "display_data"
    }
   ],
   "source": [
    "sns.violinplot(x = 'incm5' , y = 'DJ2_pr_needs', data = data19)"
   ]
  },
  {
   "cell_type": "code",
   "execution_count": 124,
   "metadata": {},
   "outputs": [
    {
     "name": "stdout",
     "output_type": "stream",
     "text": [
      "[-0.03285002067651539, 0.6858848595041102]\n",
      "[-0.025872560771801972, 0.750100012176086]\n"
     ]
    }
   ],
   "source": [
    "data19_DJ2 = pd.DataFrame(data19.DJ2_pr, data19.incm5)\n",
    "data19_DJ2 = data19_DJ2.reset_index()\n",
    "data19_DJ2['DJ2_pr_needs'] = [np.nan if b > 1 else b for b in data19['DJ2_pr']]\n",
    "data19_DJ2 = data19_DJ2.dropna()\n",
    "[R1, p1] = stats.pearsonr(data19_DJ2.incm5, data19_DJ2.DJ2_pr_needs)\n",
    "print([R1, p1])\n",
    "[R2, p2] = stats.spearmanr(data19_DJ2.incm5, data19_DJ2.DJ2_pr_needs)\n",
    "print([R2, p2])"
   ]
  },
  {
   "cell_type": "markdown",
   "metadata": {},
   "source": [
    "폐결핵의 바이올린플롯 양상을 보았을 때 0 (폐결핵 발병하지 않음) 비율이 1 (폐결핵 발병함)보다 훨씬 많은 비중을 차지하고 있음을 알 수 있다. 따라서 폐결핵은 소득 구간과 상관없이 발병율이 그리 높지 않은 질병이라는 것을 알 수 있다. 또한 두 상관관계 검정 사이에서 p 값이 0.05보다 크므로 소득과 폐결핵 사이에는 관계가 없다."
   ]
  },
  {
   "cell_type": "markdown",
   "metadata": {},
   "source": [
    "## 8. 소득과 천식 유병 여부와의 관계"
   ]
  },
  {
   "cell_type": "code",
   "execution_count": 17,
   "metadata": {},
   "outputs": [
    {
     "data": {
      "text/html": [
       "<div>\n",
       "<style scoped>\n",
       "    .dataframe tbody tr th:only-of-type {\n",
       "        vertical-align: middle;\n",
       "    }\n",
       "\n",
       "    .dataframe tbody tr th {\n",
       "        vertical-align: top;\n",
       "    }\n",
       "\n",
       "    .dataframe thead th {\n",
       "        text-align: right;\n",
       "    }\n",
       "</style>\n",
       "<table border=\"1\" class=\"dataframe\">\n",
       "  <thead>\n",
       "    <tr style=\"text-align: right;\">\n",
       "      <th></th>\n",
       "      <th>count</th>\n",
       "      <th>mean</th>\n",
       "      <th>std</th>\n",
       "      <th>min</th>\n",
       "      <th>25%</th>\n",
       "      <th>50%</th>\n",
       "      <th>75%</th>\n",
       "      <th>max</th>\n",
       "    </tr>\n",
       "    <tr>\n",
       "      <th>incm5</th>\n",
       "      <th></th>\n",
       "      <th></th>\n",
       "      <th></th>\n",
       "      <th></th>\n",
       "      <th></th>\n",
       "      <th></th>\n",
       "      <th></th>\n",
       "      <th></th>\n",
       "    </tr>\n",
       "  </thead>\n",
       "  <tbody>\n",
       "    <tr>\n",
       "      <th>1.0</th>\n",
       "      <td>38.0</td>\n",
       "      <td>0.605263</td>\n",
       "      <td>0.495355</td>\n",
       "      <td>0.0</td>\n",
       "      <td>0.0</td>\n",
       "      <td>1.0</td>\n",
       "      <td>1.0</td>\n",
       "      <td>1.0</td>\n",
       "    </tr>\n",
       "    <tr>\n",
       "      <th>2.0</th>\n",
       "      <td>43.0</td>\n",
       "      <td>0.395349</td>\n",
       "      <td>0.494712</td>\n",
       "      <td>0.0</td>\n",
       "      <td>0.0</td>\n",
       "      <td>0.0</td>\n",
       "      <td>1.0</td>\n",
       "      <td>1.0</td>\n",
       "    </tr>\n",
       "    <tr>\n",
       "      <th>3.0</th>\n",
       "      <td>34.0</td>\n",
       "      <td>0.647059</td>\n",
       "      <td>0.485071</td>\n",
       "      <td>0.0</td>\n",
       "      <td>0.0</td>\n",
       "      <td>1.0</td>\n",
       "      <td>1.0</td>\n",
       "      <td>1.0</td>\n",
       "    </tr>\n",
       "    <tr>\n",
       "      <th>4.0</th>\n",
       "      <td>29.0</td>\n",
       "      <td>0.482759</td>\n",
       "      <td>0.508548</td>\n",
       "      <td>0.0</td>\n",
       "      <td>0.0</td>\n",
       "      <td>0.0</td>\n",
       "      <td>1.0</td>\n",
       "      <td>1.0</td>\n",
       "    </tr>\n",
       "    <tr>\n",
       "      <th>5.0</th>\n",
       "      <td>36.0</td>\n",
       "      <td>0.583333</td>\n",
       "      <td>0.500000</td>\n",
       "      <td>0.0</td>\n",
       "      <td>0.0</td>\n",
       "      <td>1.0</td>\n",
       "      <td>1.0</td>\n",
       "      <td>1.0</td>\n",
       "    </tr>\n",
       "  </tbody>\n",
       "</table>\n",
       "</div>"
      ],
      "text/plain": [
       "       count      mean       std  min  25%  50%  75%  max\n",
       "incm5                                                    \n",
       "1.0     38.0  0.605263  0.495355  0.0  0.0  1.0  1.0  1.0\n",
       "2.0     43.0  0.395349  0.494712  0.0  0.0  0.0  1.0  1.0\n",
       "3.0     34.0  0.647059  0.485071  0.0  0.0  1.0  1.0  1.0\n",
       "4.0     29.0  0.482759  0.508548  0.0  0.0  0.0  1.0  1.0\n",
       "5.0     36.0  0.583333  0.500000  0.0  0.0  1.0  1.0  1.0"
      ]
     },
     "execution_count": 17,
     "metadata": {},
     "output_type": "execute_result"
    }
   ],
   "source": [
    "data19['DJ4_pr_needs'] = [np.nan if b > 1 else b for b in data19['DJ4_pr']]\n",
    "data19.groupby('incm5')['DJ4_pr_needs'].describe()"
   ]
  },
  {
   "cell_type": "code",
   "execution_count": 18,
   "metadata": {},
   "outputs": [
    {
     "data": {
      "text/plain": [
       "<AxesSubplot:xlabel='incm5', ylabel='DJ4_pr_needs'>"
      ]
     },
     "execution_count": 18,
     "metadata": {},
     "output_type": "execute_result"
    },
    {
     "data": {
      "image/png": "[encoded data removed]",
      "text/plain": [
       "<Figure size 432x288 with 1 Axes>"
      ]
     },
     "metadata": {
      "needs_background": "light"
     },
     "output_type": "display_data"
    }
   ],
   "source": [
    "sns.violinplot(x = 'incm5' , y = 'DJ4_pr_needs', data = data19)"
   ]
  },
  {
   "cell_type": "code",
   "execution_count": 125,
   "metadata": {},
   "outputs": [
    {
     "name": "stdout",
     "output_type": "stream",
     "text": [
      "[0.04390560512804571, 0.5924451832152273]\n",
      "[0.04134784502319603, 0.6142021186541691]\n"
     ]
    }
   ],
   "source": [
    "data19_DJ4 = pd.DataFrame(data19.DJ4_pr, data19.incm5)\n",
    "data19_DJ4 = data19_DJ4.reset_index()\n",
    "data19_DJ4['DJ4_pr_needs'] = [np.nan if b > 1 else b for b in data19['DJ4_pr']]\n",
    "data19_DJ4 = data19_DJ4.dropna()\n",
    "[R1, p1] = stats.pearsonr(data19_DJ4.incm5, data19_DJ4.DJ4_pr_needs)\n",
    "print([R1, p1])\n",
    "[R2, p2] = stats.spearmanr(data19_DJ4.incm5, data19_DJ4.DJ4_pr_needs)\n",
    "print([R2, p2])"
   ]
  },
  {
   "cell_type": "markdown",
   "metadata": {},
   "source": [
    "소득 구간에 따라 특정한 양상이 보이지 않는 것으로 보이며 두 상관관계 검정에서도 p값이 0.05보다 크므로 천식과 소득간에는 관계가 없는 것으로 보인다."
   ]
  },
  {
   "cell_type": "markdown",
   "metadata": {},
   "source": [
    "## 9. 소득과 당뇨병 유병 여부와의 관계"
   ]
  },
  {
   "cell_type": "code",
   "execution_count": 19,
   "metadata": {},
   "outputs": [
    {
     "data": {
      "text/html": [
       "<div>\n",
       "<style scoped>\n",
       "    .dataframe tbody tr th:only-of-type {\n",
       "        vertical-align: middle;\n",
       "    }\n",
       "\n",
       "    .dataframe tbody tr th {\n",
       "        vertical-align: top;\n",
       "    }\n",
       "\n",
       "    .dataframe thead th {\n",
       "        text-align: right;\n",
       "    }\n",
       "</style>\n",
       "<table border=\"1\" class=\"dataframe\">\n",
       "  <thead>\n",
       "    <tr style=\"text-align: right;\">\n",
       "      <th></th>\n",
       "      <th>count</th>\n",
       "      <th>mean</th>\n",
       "      <th>std</th>\n",
       "      <th>min</th>\n",
       "      <th>25%</th>\n",
       "      <th>50%</th>\n",
       "      <th>75%</th>\n",
       "      <th>max</th>\n",
       "    </tr>\n",
       "    <tr>\n",
       "      <th>incm5</th>\n",
       "      <th></th>\n",
       "      <th></th>\n",
       "      <th></th>\n",
       "      <th></th>\n",
       "      <th></th>\n",
       "      <th></th>\n",
       "      <th></th>\n",
       "      <th></th>\n",
       "    </tr>\n",
       "  </thead>\n",
       "  <tbody>\n",
       "    <tr>\n",
       "      <th>1.0</th>\n",
       "      <td>133.0</td>\n",
       "      <td>0.969925</td>\n",
       "      <td>0.171440</td>\n",
       "      <td>0.0</td>\n",
       "      <td>1.0</td>\n",
       "      <td>1.0</td>\n",
       "      <td>1.0</td>\n",
       "      <td>1.0</td>\n",
       "    </tr>\n",
       "    <tr>\n",
       "      <th>2.0</th>\n",
       "      <td>137.0</td>\n",
       "      <td>0.970803</td>\n",
       "      <td>0.168976</td>\n",
       "      <td>0.0</td>\n",
       "      <td>1.0</td>\n",
       "      <td>1.0</td>\n",
       "      <td>1.0</td>\n",
       "      <td>1.0</td>\n",
       "    </tr>\n",
       "    <tr>\n",
       "      <th>3.0</th>\n",
       "      <td>106.0</td>\n",
       "      <td>0.971698</td>\n",
       "      <td>0.166622</td>\n",
       "      <td>0.0</td>\n",
       "      <td>1.0</td>\n",
       "      <td>1.0</td>\n",
       "      <td>1.0</td>\n",
       "      <td>1.0</td>\n",
       "    </tr>\n",
       "    <tr>\n",
       "      <th>4.0</th>\n",
       "      <td>124.0</td>\n",
       "      <td>0.983871</td>\n",
       "      <td>0.126483</td>\n",
       "      <td>0.0</td>\n",
       "      <td>1.0</td>\n",
       "      <td>1.0</td>\n",
       "      <td>1.0</td>\n",
       "      <td>1.0</td>\n",
       "    </tr>\n",
       "    <tr>\n",
       "      <th>5.0</th>\n",
       "      <td>123.0</td>\n",
       "      <td>0.951220</td>\n",
       "      <td>0.216290</td>\n",
       "      <td>0.0</td>\n",
       "      <td>1.0</td>\n",
       "      <td>1.0</td>\n",
       "      <td>1.0</td>\n",
       "      <td>1.0</td>\n",
       "    </tr>\n",
       "  </tbody>\n",
       "</table>\n",
       "</div>"
      ],
      "text/plain": [
       "       count      mean       std  min  25%  50%  75%  max\n",
       "incm5                                                    \n",
       "1.0    133.0  0.969925  0.171440  0.0  1.0  1.0  1.0  1.0\n",
       "2.0    137.0  0.970803  0.168976  0.0  1.0  1.0  1.0  1.0\n",
       "3.0    106.0  0.971698  0.166622  0.0  1.0  1.0  1.0  1.0\n",
       "4.0    124.0  0.983871  0.126483  0.0  1.0  1.0  1.0  1.0\n",
       "5.0    123.0  0.951220  0.216290  0.0  1.0  1.0  1.0  1.0"
      ]
     },
     "execution_count": 19,
     "metadata": {},
     "output_type": "execute_result"
    }
   ],
   "source": [
    "data19['DE1_pr_needs'] = [np.nan if b > 1 else b for b in data19['DE1_pr']]\n",
    "data19.groupby('incm5')['DE1_pr_needs'].describe()"
   ]
  },
  {
   "cell_type": "code",
   "execution_count": 20,
   "metadata": {},
   "outputs": [
    {
     "data": {
      "text/plain": [
       "<AxesSubplot:xlabel='incm5', ylabel='DE1_pr_needs'>"
      ]
     },
     "execution_count": 20,
     "metadata": {},
     "output_type": "execute_result"
    },
    {
     "data": {
      "image/png": "[encoded data removed]",
      "text/plain": [
       "<Figure size 432x288 with 1 Axes>"
      ]
     },
     "metadata": {
      "needs_background": "light"
     },
     "output_type": "display_data"
    }
   ],
   "source": [
    "sns.violinplot(x = 'incm5' , y = 'DE1_pr_needs', data = data19)"
   ]
  },
  {
   "cell_type": "code",
   "execution_count": 126,
   "metadata": {},
   "outputs": [
    {
     "name": "stdout",
     "output_type": "stream",
     "text": [
      "[-0.03958908148924813, 0.3775166343512075]\n",
      "[-0.03365319232282737, 0.45320500487755333]\n"
     ]
    }
   ],
   "source": [
    "data19_DE1 = pd.DataFrame(data19.DE1_pr, data19.incm5)\n",
    "data19_DE1 = data19_DE1.reset_index()\n",
    "data19_DE1['DE1_pr_needs'] = [np.nan if b > 1 else b for b in data19['DE1_pr']]\n",
    "data19_DE1 = data19_DE1.dropna()\n",
    "[R1, p1] = stats.pearsonr(data19_DE1.incm5, data19_DE1.DE1_pr_needs)\n",
    "print([R1, p1])\n",
    "[R2, p2] = stats.spearmanr(data19_DE1.incm5, data19_DE1.DE1_pr_needs)\n",
    "print([R2, p2])"
   ]
  },
  {
   "cell_type": "markdown",
   "metadata": {},
   "source": [
    "1(발병함)의 비율이 0(발병하지 않음)의 비율에 비해 훨씬 크고 전체 소득 구간에서 발병 비율이 0.9 정도로 나타나는 것으로 보아 당뇨병의 발병율은 높은 질병임을 알 수 있다. 또한 모든 소득 구간에서 비슷한 비율을 보이고 있으며 두 상관관계 검정에서도 p값이 0.05보다 크므로 소득과 당뇨병 사이에는 관계가 없다고 할 수 있다."
   ]
  },
  {
   "cell_type": "markdown",
   "metadata": {},
   "source": [
    "## 10. 소득과 위암 유병 여부와의 관계"
   ]
  },
  {
   "cell_type": "code",
   "execution_count": 21,
   "metadata": {},
   "outputs": [
    {
     "data": {
      "text/html": [
       "<div>\n",
       "<style scoped>\n",
       "    .dataframe tbody tr th:only-of-type {\n",
       "        vertical-align: middle;\n",
       "    }\n",
       "\n",
       "    .dataframe tbody tr th {\n",
       "        vertical-align: top;\n",
       "    }\n",
       "\n",
       "    .dataframe thead th {\n",
       "        text-align: right;\n",
       "    }\n",
       "</style>\n",
       "<table border=\"1\" class=\"dataframe\">\n",
       "  <thead>\n",
       "    <tr style=\"text-align: right;\">\n",
       "      <th></th>\n",
       "      <th>count</th>\n",
       "      <th>mean</th>\n",
       "      <th>std</th>\n",
       "      <th>min</th>\n",
       "      <th>25%</th>\n",
       "      <th>50%</th>\n",
       "      <th>75%</th>\n",
       "      <th>max</th>\n",
       "    </tr>\n",
       "    <tr>\n",
       "      <th>incm5</th>\n",
       "      <th></th>\n",
       "      <th></th>\n",
       "      <th></th>\n",
       "      <th></th>\n",
       "      <th></th>\n",
       "      <th></th>\n",
       "      <th></th>\n",
       "      <th></th>\n",
       "    </tr>\n",
       "  </thead>\n",
       "  <tbody>\n",
       "    <tr>\n",
       "      <th>1.0</th>\n",
       "      <td>7.0</td>\n",
       "      <td>0.285714</td>\n",
       "      <td>0.487950</td>\n",
       "      <td>0.0</td>\n",
       "      <td>0.0</td>\n",
       "      <td>0.0</td>\n",
       "      <td>0.5</td>\n",
       "      <td>1.0</td>\n",
       "    </tr>\n",
       "    <tr>\n",
       "      <th>2.0</th>\n",
       "      <td>13.0</td>\n",
       "      <td>0.307692</td>\n",
       "      <td>0.480384</td>\n",
       "      <td>0.0</td>\n",
       "      <td>0.0</td>\n",
       "      <td>0.0</td>\n",
       "      <td>1.0</td>\n",
       "      <td>1.0</td>\n",
       "    </tr>\n",
       "    <tr>\n",
       "      <th>3.0</th>\n",
       "      <td>12.0</td>\n",
       "      <td>0.166667</td>\n",
       "      <td>0.389249</td>\n",
       "      <td>0.0</td>\n",
       "      <td>0.0</td>\n",
       "      <td>0.0</td>\n",
       "      <td>0.0</td>\n",
       "      <td>1.0</td>\n",
       "    </tr>\n",
       "    <tr>\n",
       "      <th>4.0</th>\n",
       "      <td>11.0</td>\n",
       "      <td>0.272727</td>\n",
       "      <td>0.467099</td>\n",
       "      <td>0.0</td>\n",
       "      <td>0.0</td>\n",
       "      <td>0.0</td>\n",
       "      <td>0.5</td>\n",
       "      <td>1.0</td>\n",
       "    </tr>\n",
       "    <tr>\n",
       "      <th>5.0</th>\n",
       "      <td>11.0</td>\n",
       "      <td>0.454545</td>\n",
       "      <td>0.522233</td>\n",
       "      <td>0.0</td>\n",
       "      <td>0.0</td>\n",
       "      <td>0.0</td>\n",
       "      <td>1.0</td>\n",
       "      <td>1.0</td>\n",
       "    </tr>\n",
       "  </tbody>\n",
       "</table>\n",
       "</div>"
      ],
      "text/plain": [
       "       count      mean       std  min  25%  50%  75%  max\n",
       "incm5                                                    \n",
       "1.0      7.0  0.285714  0.487950  0.0  0.0  0.0  0.5  1.0\n",
       "2.0     13.0  0.307692  0.480384  0.0  0.0  0.0  1.0  1.0\n",
       "3.0     12.0  0.166667  0.389249  0.0  0.0  0.0  0.0  1.0\n",
       "4.0     11.0  0.272727  0.467099  0.0  0.0  0.0  0.5  1.0\n",
       "5.0     11.0  0.454545  0.522233  0.0  0.0  0.0  1.0  1.0"
      ]
     },
     "execution_count": 21,
     "metadata": {},
     "output_type": "execute_result"
    }
   ],
   "source": [
    "data19['DC1_pr_needs'] = [np.nan if b > 1 else b for b in data19['DC1_pr']]\n",
    "data19.groupby('incm5')['DC1_pr_needs'].describe()"
   ]
  },
  {
   "cell_type": "code",
   "execution_count": 22,
   "metadata": {},
   "outputs": [
    {
     "data": {
      "text/plain": [
       "<AxesSubplot:xlabel='incm5', ylabel='DC1_pr_needs'>"
      ]
     },
     "execution_count": 22,
     "metadata": {},
     "output_type": "execute_result"
    },
    {
     "data": {
      "image/png": "[encoded data removed]",
      "text/plain": [
       "<Figure size 432x288 with 1 Axes>"
      ]
     },
     "metadata": {
      "needs_background": "light"
     },
     "output_type": "display_data"
    }
   ],
   "source": [
    "sns.violinplot(x = 'incm5' , y = 'DC1_pr_needs', data = data19)"
   ]
  },
  {
   "cell_type": "code",
   "execution_count": 127,
   "metadata": {},
   "outputs": [
    {
     "name": "stdout",
     "output_type": "stream",
     "text": [
      "[0.12690868125759028, 0.4173885417916682]\n",
      "[0.08885177679975567, 0.5709900950164183]\n"
     ]
    }
   ],
   "source": [
    "data19_DC1 = pd.DataFrame(data19.DC1_pr, data19.incm5)\n",
    "data19_DC1 = data19_DC1.reset_index()\n",
    "data19_DC1['DC1_pr_needs'] = [np.nan if b > 1 else b for b in data19['DC1_pr']]\n",
    "data19_DC1 = data19_DC1.dropna()\n",
    "[R1, p1] = stats.pearsonr(data19_DC1.incm5, data19_DC1.DC1_pr_needs)\n",
    "print([R1, p1])\n",
    "[R2, p2] = stats.spearmanr(data19_DC1.incm5, data19_DC1.DC1_pr_needs)\n",
    "print([R2, p2])"
   ]
  },
  {
   "cell_type": "markdown",
   "metadata": {},
   "source": [
    "1분위에서 4분위까지는 20%~30%의 비율을 보이고 있지만 5분위에서 비율이 증가하는 것을 볼 수 있다. 또한 두 상관관계 검정 사이에서 p값이 0.05보다 크므로 소득과 위암 간에는 관계가 없음을 알 수 있다."
   ]
  },
  {
   "cell_type": "markdown",
   "metadata": {},
   "source": [
    "## 11. 소득과 간암 유병 여부와의 관계"
   ]
  },
  {
   "cell_type": "code",
   "execution_count": 23,
   "metadata": {},
   "outputs": [
    {
     "data": {
      "text/html": [
       "<div>\n",
       "<style scoped>\n",
       "    .dataframe tbody tr th:only-of-type {\n",
       "        vertical-align: middle;\n",
       "    }\n",
       "\n",
       "    .dataframe tbody tr th {\n",
       "        vertical-align: top;\n",
       "    }\n",
       "\n",
       "    .dataframe thead th {\n",
       "        text-align: right;\n",
       "    }\n",
       "</style>\n",
       "<table border=\"1\" class=\"dataframe\">\n",
       "  <thead>\n",
       "    <tr style=\"text-align: right;\">\n",
       "      <th></th>\n",
       "      <th>count</th>\n",
       "      <th>mean</th>\n",
       "      <th>std</th>\n",
       "      <th>min</th>\n",
       "      <th>25%</th>\n",
       "      <th>50%</th>\n",
       "      <th>75%</th>\n",
       "      <th>max</th>\n",
       "    </tr>\n",
       "    <tr>\n",
       "      <th>incm5</th>\n",
       "      <th></th>\n",
       "      <th></th>\n",
       "      <th></th>\n",
       "      <th></th>\n",
       "      <th></th>\n",
       "      <th></th>\n",
       "      <th></th>\n",
       "      <th></th>\n",
       "    </tr>\n",
       "  </thead>\n",
       "  <tbody>\n",
       "    <tr>\n",
       "      <th>1.0</th>\n",
       "      <td>2.0</td>\n",
       "      <td>1.0</td>\n",
       "      <td>0.000000</td>\n",
       "      <td>1.0</td>\n",
       "      <td>1.00</td>\n",
       "      <td>1.0</td>\n",
       "      <td>1.00</td>\n",
       "      <td>1.0</td>\n",
       "    </tr>\n",
       "    <tr>\n",
       "      <th>2.0</th>\n",
       "      <td>2.0</td>\n",
       "      <td>0.5</td>\n",
       "      <td>0.707107</td>\n",
       "      <td>0.0</td>\n",
       "      <td>0.25</td>\n",
       "      <td>0.5</td>\n",
       "      <td>0.75</td>\n",
       "      <td>1.0</td>\n",
       "    </tr>\n",
       "    <tr>\n",
       "      <th>3.0</th>\n",
       "      <td>0.0</td>\n",
       "      <td>NaN</td>\n",
       "      <td>NaN</td>\n",
       "      <td>NaN</td>\n",
       "      <td>NaN</td>\n",
       "      <td>NaN</td>\n",
       "      <td>NaN</td>\n",
       "      <td>NaN</td>\n",
       "    </tr>\n",
       "    <tr>\n",
       "      <th>4.0</th>\n",
       "      <td>0.0</td>\n",
       "      <td>NaN</td>\n",
       "      <td>NaN</td>\n",
       "      <td>NaN</td>\n",
       "      <td>NaN</td>\n",
       "      <td>NaN</td>\n",
       "      <td>NaN</td>\n",
       "      <td>NaN</td>\n",
       "    </tr>\n",
       "    <tr>\n",
       "      <th>5.0</th>\n",
       "      <td>1.0</td>\n",
       "      <td>1.0</td>\n",
       "      <td>NaN</td>\n",
       "      <td>1.0</td>\n",
       "      <td>1.00</td>\n",
       "      <td>1.0</td>\n",
       "      <td>1.00</td>\n",
       "      <td>1.0</td>\n",
       "    </tr>\n",
       "  </tbody>\n",
       "</table>\n",
       "</div>"
      ],
      "text/plain": [
       "       count  mean       std  min   25%  50%   75%  max\n",
       "incm5                                                  \n",
       "1.0      2.0   1.0  0.000000  1.0  1.00  1.0  1.00  1.0\n",
       "2.0      2.0   0.5  0.707107  0.0  0.25  0.5  0.75  1.0\n",
       "3.0      0.0   NaN       NaN  NaN   NaN  NaN   NaN  NaN\n",
       "4.0      0.0   NaN       NaN  NaN   NaN  NaN   NaN  NaN\n",
       "5.0      1.0   1.0       NaN  1.0  1.00  1.0  1.00  1.0"
      ]
     },
     "execution_count": 23,
     "metadata": {},
     "output_type": "execute_result"
    }
   ],
   "source": [
    "data19['DC2_pr_needs'] = [np.nan if b > 1 else b for b in data19['DC2_pr']]\n",
    "data19.groupby('incm5')['DC2_pr_needs'].describe()"
   ]
  },
  {
   "cell_type": "markdown",
   "metadata": {},
   "source": [
    "데이터셋 상에서 자료가 부족하여 소득과 간암과의 관계를 특정하기 어렵다."
   ]
  },
  {
   "cell_type": "markdown",
   "metadata": {},
   "source": [
    "## 12. 소득과 대장암 유병 여부와의 관계"
   ]
  },
  {
   "cell_type": "code",
   "execution_count": 24,
   "metadata": {},
   "outputs": [
    {
     "data": {
      "text/html": [
       "<div>\n",
       "<style scoped>\n",
       "    .dataframe tbody tr th:only-of-type {\n",
       "        vertical-align: middle;\n",
       "    }\n",
       "\n",
       "    .dataframe tbody tr th {\n",
       "        vertical-align: top;\n",
       "    }\n",
       "\n",
       "    .dataframe thead th {\n",
       "        text-align: right;\n",
       "    }\n",
       "</style>\n",
       "<table border=\"1\" class=\"dataframe\">\n",
       "  <thead>\n",
       "    <tr style=\"text-align: right;\">\n",
       "      <th></th>\n",
       "      <th>count</th>\n",
       "      <th>mean</th>\n",
       "      <th>std</th>\n",
       "      <th>min</th>\n",
       "      <th>25%</th>\n",
       "      <th>50%</th>\n",
       "      <th>75%</th>\n",
       "      <th>max</th>\n",
       "    </tr>\n",
       "    <tr>\n",
       "      <th>incm5</th>\n",
       "      <th></th>\n",
       "      <th></th>\n",
       "      <th></th>\n",
       "      <th></th>\n",
       "      <th></th>\n",
       "      <th></th>\n",
       "      <th></th>\n",
       "      <th></th>\n",
       "    </tr>\n",
       "  </thead>\n",
       "  <tbody>\n",
       "    <tr>\n",
       "      <th>1.0</th>\n",
       "      <td>5.0</td>\n",
       "      <td>0.200000</td>\n",
       "      <td>0.447214</td>\n",
       "      <td>0.0</td>\n",
       "      <td>0.0</td>\n",
       "      <td>0.0</td>\n",
       "      <td>0.00</td>\n",
       "      <td>1.0</td>\n",
       "    </tr>\n",
       "    <tr>\n",
       "      <th>2.0</th>\n",
       "      <td>5.0</td>\n",
       "      <td>0.400000</td>\n",
       "      <td>0.547723</td>\n",
       "      <td>0.0</td>\n",
       "      <td>0.0</td>\n",
       "      <td>0.0</td>\n",
       "      <td>1.00</td>\n",
       "      <td>1.0</td>\n",
       "    </tr>\n",
       "    <tr>\n",
       "      <th>3.0</th>\n",
       "      <td>19.0</td>\n",
       "      <td>0.210526</td>\n",
       "      <td>0.418854</td>\n",
       "      <td>0.0</td>\n",
       "      <td>0.0</td>\n",
       "      <td>0.0</td>\n",
       "      <td>0.00</td>\n",
       "      <td>1.0</td>\n",
       "    </tr>\n",
       "    <tr>\n",
       "      <th>4.0</th>\n",
       "      <td>3.0</td>\n",
       "      <td>0.333333</td>\n",
       "      <td>0.577350</td>\n",
       "      <td>0.0</td>\n",
       "      <td>0.0</td>\n",
       "      <td>0.0</td>\n",
       "      <td>0.50</td>\n",
       "      <td>1.0</td>\n",
       "    </tr>\n",
       "    <tr>\n",
       "      <th>5.0</th>\n",
       "      <td>12.0</td>\n",
       "      <td>0.250000</td>\n",
       "      <td>0.452267</td>\n",
       "      <td>0.0</td>\n",
       "      <td>0.0</td>\n",
       "      <td>0.0</td>\n",
       "      <td>0.25</td>\n",
       "      <td>1.0</td>\n",
       "    </tr>\n",
       "  </tbody>\n",
       "</table>\n",
       "</div>"
      ],
      "text/plain": [
       "       count      mean       std  min  25%  50%   75%  max\n",
       "incm5                                                     \n",
       "1.0      5.0  0.200000  0.447214  0.0  0.0  0.0  0.00  1.0\n",
       "2.0      5.0  0.400000  0.547723  0.0  0.0  0.0  1.00  1.0\n",
       "3.0     19.0  0.210526  0.418854  0.0  0.0  0.0  0.00  1.0\n",
       "4.0      3.0  0.333333  0.577350  0.0  0.0  0.0  0.50  1.0\n",
       "5.0     12.0  0.250000  0.452267  0.0  0.0  0.0  0.25  1.0"
      ]
     },
     "execution_count": 24,
     "metadata": {},
     "output_type": "execute_result"
    }
   ],
   "source": [
    "data19['DC3_pr_needs'] = [np.nan if b > 1 else b for b in data19['DC3_pr']]\n",
    "data19.groupby('incm5')['DC3_pr_needs'].describe()"
   ]
  },
  {
   "cell_type": "code",
   "execution_count": 25,
   "metadata": {},
   "outputs": [
    {
     "data": {
      "text/plain": [
       "<AxesSubplot:xlabel='incm5', ylabel='DC3_pr_needs'>"
      ]
     },
     "execution_count": 25,
     "metadata": {},
     "output_type": "execute_result"
    },
    {
     "data": {
      "image/png": "[encoded data removed]",
      "text/plain": [
       "<Figure size 432x288 with 1 Axes>"
      ]
     },
     "metadata": {
      "needs_background": "light"
     },
     "output_type": "display_data"
    }
   ],
   "source": [
    "sns.violinplot(x = 'incm5' , y = 'DC3_pr_needs', data = data19)"
   ]
  },
  {
   "cell_type": "code",
   "execution_count": 128,
   "metadata": {},
   "outputs": [
    {
     "name": "stdout",
     "output_type": "stream",
     "text": [
      "[-0.008420026430504442, 0.9583310705865695]\n",
      "[-0.023127825372509122, 0.8858718813930849]\n"
     ]
    }
   ],
   "source": [
    "data19_DC3 = pd.DataFrame(data19.DC3_pr, data19.incm5)\n",
    "data19_DC3 = data19_DC3.reset_index()\n",
    "data19_DC3['DC3_pr_needs'] = [np.nan if b > 1 else b for b in data19['DC3_pr']]\n",
    "data19_DC3 = data19_DC3.dropna()\n",
    "[R1, p1] = stats.pearsonr(data19_DC3.incm5, data19_DC3.DC3_pr_needs)\n",
    "print([R1, p1])\n",
    "[R2, p2] = stats.spearmanr(data19_DC3.incm5, data19_DC3.DC3_pr_needs)\n",
    "print([R2, p2])"
   ]
  },
  {
   "cell_type": "markdown",
   "metadata": {},
   "source": [
    "소득 구간 별로 대장암 유병 비율이 들쭉날쭉하기도 하고 두 상관관계 검정에서 p값이 1에 가까운 값이 나왔으므로 소득과 대장암 발병은 관계가 없어 보인다."
   ]
  },
  {
   "cell_type": "markdown",
   "metadata": {},
   "source": [
    "## 13. 소득과 유방암 유병 여부와의 관계"
   ]
  },
  {
   "cell_type": "code",
   "execution_count": 26,
   "metadata": {},
   "outputs": [
    {
     "data": {
      "text/html": [
       "<div>\n",
       "<style scoped>\n",
       "    .dataframe tbody tr th:only-of-type {\n",
       "        vertical-align: middle;\n",
       "    }\n",
       "\n",
       "    .dataframe tbody tr th {\n",
       "        vertical-align: top;\n",
       "    }\n",
       "\n",
       "    .dataframe thead th {\n",
       "        text-align: right;\n",
       "    }\n",
       "</style>\n",
       "<table border=\"1\" class=\"dataframe\">\n",
       "  <thead>\n",
       "    <tr style=\"text-align: right;\">\n",
       "      <th></th>\n",
       "      <th>count</th>\n",
       "      <th>mean</th>\n",
       "      <th>std</th>\n",
       "      <th>min</th>\n",
       "      <th>25%</th>\n",
       "      <th>50%</th>\n",
       "      <th>75%</th>\n",
       "      <th>max</th>\n",
       "    </tr>\n",
       "    <tr>\n",
       "      <th>incm5</th>\n",
       "      <th></th>\n",
       "      <th></th>\n",
       "      <th></th>\n",
       "      <th></th>\n",
       "      <th></th>\n",
       "      <th></th>\n",
       "      <th></th>\n",
       "      <th></th>\n",
       "    </tr>\n",
       "  </thead>\n",
       "  <tbody>\n",
       "    <tr>\n",
       "      <th>1.0</th>\n",
       "      <td>8.0</td>\n",
       "      <td>0.625000</td>\n",
       "      <td>0.517549</td>\n",
       "      <td>0.0</td>\n",
       "      <td>0.0</td>\n",
       "      <td>1.0</td>\n",
       "      <td>1.0</td>\n",
       "      <td>1.0</td>\n",
       "    </tr>\n",
       "    <tr>\n",
       "      <th>2.0</th>\n",
       "      <td>9.0</td>\n",
       "      <td>0.444444</td>\n",
       "      <td>0.527046</td>\n",
       "      <td>0.0</td>\n",
       "      <td>0.0</td>\n",
       "      <td>0.0</td>\n",
       "      <td>1.0</td>\n",
       "      <td>1.0</td>\n",
       "    </tr>\n",
       "    <tr>\n",
       "      <th>3.0</th>\n",
       "      <td>10.0</td>\n",
       "      <td>0.800000</td>\n",
       "      <td>0.421637</td>\n",
       "      <td>0.0</td>\n",
       "      <td>1.0</td>\n",
       "      <td>1.0</td>\n",
       "      <td>1.0</td>\n",
       "      <td>1.0</td>\n",
       "    </tr>\n",
       "    <tr>\n",
       "      <th>4.0</th>\n",
       "      <td>18.0</td>\n",
       "      <td>0.500000</td>\n",
       "      <td>0.514496</td>\n",
       "      <td>0.0</td>\n",
       "      <td>0.0</td>\n",
       "      <td>0.5</td>\n",
       "      <td>1.0</td>\n",
       "      <td>1.0</td>\n",
       "    </tr>\n",
       "    <tr>\n",
       "      <th>5.0</th>\n",
       "      <td>14.0</td>\n",
       "      <td>0.571429</td>\n",
       "      <td>0.513553</td>\n",
       "      <td>0.0</td>\n",
       "      <td>0.0</td>\n",
       "      <td>1.0</td>\n",
       "      <td>1.0</td>\n",
       "      <td>1.0</td>\n",
       "    </tr>\n",
       "  </tbody>\n",
       "</table>\n",
       "</div>"
      ],
      "text/plain": [
       "       count      mean       std  min  25%  50%  75%  max\n",
       "incm5                                                    \n",
       "1.0      8.0  0.625000  0.517549  0.0  0.0  1.0  1.0  1.0\n",
       "2.0      9.0  0.444444  0.527046  0.0  0.0  0.0  1.0  1.0\n",
       "3.0     10.0  0.800000  0.421637  0.0  1.0  1.0  1.0  1.0\n",
       "4.0     18.0  0.500000  0.514496  0.0  0.0  0.5  1.0  1.0\n",
       "5.0     14.0  0.571429  0.513553  0.0  0.0  1.0  1.0  1.0"
      ]
     },
     "execution_count": 26,
     "metadata": {},
     "output_type": "execute_result"
    }
   ],
   "source": [
    "data19['DC4_pr_needs'] = [np.nan if b > 1 else b for b in data19['DC4_pr']]\n",
    "data19.groupby('incm5')['DC4_pr_needs'].describe()"
   ]
  },
  {
   "cell_type": "code",
   "execution_count": 27,
   "metadata": {},
   "outputs": [
    {
     "data": {
      "text/plain": [
       "<AxesSubplot:xlabel='incm5', ylabel='DC4_pr_needs'>"
      ]
     },
     "execution_count": 27,
     "metadata": {},
     "output_type": "execute_result"
    },
    {
     "data": {
      "image/png": "[encoded data removed]",
      "text/plain": [
       "<Figure size 432x288 with 1 Axes>"
      ]
     },
     "metadata": {
      "needs_background": "light"
     },
     "output_type": "display_data"
    }
   ],
   "source": [
    "sns.violinplot(x = 'incm5' , y = 'DC4_pr_needs', data = data19)"
   ]
  },
  {
   "cell_type": "code",
   "execution_count": 130,
   "metadata": {},
   "outputs": [
    {
     "name": "stdout",
     "output_type": "stream",
     "text": [
      "[0.005556255556258383, 0.9724964806814415]\n",
      "[0.024123621963474652, 0.8809924093269188]\n"
     ]
    }
   ],
   "source": [
    "data19_DC4 = pd.DataFrame(data19.DC4_pr, data19.incm5)\n",
    "data19_DC4 = data19_DC4.reset_index()\n",
    "data19_DC4['DC4_pr_needs'] = [np.nan if b > 1 else b for b in data19['DC4_pr']]\n",
    "data19_DC4 = data19_DC4.dropna()\n",
    "[R1, p1] = stats.pearsonr(data19_DC4.incm5, data19_DC4.DC4_pr_needs)\n",
    "print([R1, p1])\n",
    "[R2, p2] = stats.spearmanr(data19_DC4.incm5, data19_DC4.DC4_pr_needs)\n",
    "print([R2, p2])"
   ]
  },
  {
   "cell_type": "markdown",
   "metadata": {},
   "source": [
    "3분위에서 80%로 가장 많은 비율을 차지하고 있는 것을 볼 수 있다. 또 두 상관관계 검정 상에서 p값이 1에 가까운 값이 나오며 소득과 유방암과의 관계는 없음을 알 수 있다."
   ]
  },
  {
   "cell_type": "markdown",
   "metadata": {},
   "source": [
    "## 14. 소득과 자궁경부암 유병 여부와의 관계"
   ]
  },
  {
   "cell_type": "code",
   "execution_count": 28,
   "metadata": {},
   "outputs": [
    {
     "data": {
      "text/html": [
       "<div>\n",
       "<style scoped>\n",
       "    .dataframe tbody tr th:only-of-type {\n",
       "        vertical-align: middle;\n",
       "    }\n",
       "\n",
       "    .dataframe tbody tr th {\n",
       "        vertical-align: top;\n",
       "    }\n",
       "\n",
       "    .dataframe thead th {\n",
       "        text-align: right;\n",
       "    }\n",
       "</style>\n",
       "<table border=\"1\" class=\"dataframe\">\n",
       "  <thead>\n",
       "    <tr style=\"text-align: right;\">\n",
       "      <th></th>\n",
       "      <th>count</th>\n",
       "      <th>mean</th>\n",
       "      <th>std</th>\n",
       "      <th>min</th>\n",
       "      <th>25%</th>\n",
       "      <th>50%</th>\n",
       "      <th>75%</th>\n",
       "      <th>max</th>\n",
       "    </tr>\n",
       "    <tr>\n",
       "      <th>incm5</th>\n",
       "      <th></th>\n",
       "      <th></th>\n",
       "      <th></th>\n",
       "      <th></th>\n",
       "      <th></th>\n",
       "      <th></th>\n",
       "      <th></th>\n",
       "      <th></th>\n",
       "    </tr>\n",
       "  </thead>\n",
       "  <tbody>\n",
       "    <tr>\n",
       "      <th>1.0</th>\n",
       "      <td>5.0</td>\n",
       "      <td>0.200000</td>\n",
       "      <td>0.447214</td>\n",
       "      <td>0.0</td>\n",
       "      <td>0.0</td>\n",
       "      <td>0.0</td>\n",
       "      <td>0.0</td>\n",
       "      <td>1.0</td>\n",
       "    </tr>\n",
       "    <tr>\n",
       "      <th>2.0</th>\n",
       "      <td>6.0</td>\n",
       "      <td>0.000000</td>\n",
       "      <td>0.000000</td>\n",
       "      <td>0.0</td>\n",
       "      <td>0.0</td>\n",
       "      <td>0.0</td>\n",
       "      <td>0.0</td>\n",
       "      <td>0.0</td>\n",
       "    </tr>\n",
       "    <tr>\n",
       "      <th>3.0</th>\n",
       "      <td>3.0</td>\n",
       "      <td>0.666667</td>\n",
       "      <td>0.577350</td>\n",
       "      <td>0.0</td>\n",
       "      <td>0.5</td>\n",
       "      <td>1.0</td>\n",
       "      <td>1.0</td>\n",
       "      <td>1.0</td>\n",
       "    </tr>\n",
       "    <tr>\n",
       "      <th>4.0</th>\n",
       "      <td>3.0</td>\n",
       "      <td>0.333333</td>\n",
       "      <td>0.577350</td>\n",
       "      <td>0.0</td>\n",
       "      <td>0.0</td>\n",
       "      <td>0.0</td>\n",
       "      <td>0.5</td>\n",
       "      <td>1.0</td>\n",
       "    </tr>\n",
       "    <tr>\n",
       "      <th>5.0</th>\n",
       "      <td>5.0</td>\n",
       "      <td>0.000000</td>\n",
       "      <td>0.000000</td>\n",
       "      <td>0.0</td>\n",
       "      <td>0.0</td>\n",
       "      <td>0.0</td>\n",
       "      <td>0.0</td>\n",
       "      <td>0.0</td>\n",
       "    </tr>\n",
       "  </tbody>\n",
       "</table>\n",
       "</div>"
      ],
      "text/plain": [
       "       count      mean       std  min  25%  50%  75%  max\n",
       "incm5                                                    \n",
       "1.0      5.0  0.200000  0.447214  0.0  0.0  0.0  0.0  1.0\n",
       "2.0      6.0  0.000000  0.000000  0.0  0.0  0.0  0.0  0.0\n",
       "3.0      3.0  0.666667  0.577350  0.0  0.5  1.0  1.0  1.0\n",
       "4.0      3.0  0.333333  0.577350  0.0  0.0  0.0  0.5  1.0\n",
       "5.0      5.0  0.000000  0.000000  0.0  0.0  0.0  0.0  0.0"
      ]
     },
     "execution_count": 28,
     "metadata": {},
     "output_type": "execute_result"
    }
   ],
   "source": [
    "data19['DC5_pr_needs'] = [np.nan if b > 1 else b for b in data19['DC5_pr']]\n",
    "data19.groupby('incm5')['DC5_pr_needs'].describe()"
   ]
  },
  {
   "cell_type": "code",
   "execution_count": 29,
   "metadata": {},
   "outputs": [
    {
     "data": {
      "text/plain": [
       "<AxesSubplot:xlabel='incm5', ylabel='DC5_pr_needs'>"
      ]
     },
     "execution_count": 29,
     "metadata": {},
     "output_type": "execute_result"
    },
    {
     "data": {
      "image/png": "[encoded data removed]",
      "text/plain": [
       "<Figure size 432x288 with 1 Axes>"
      ]
     },
     "metadata": {
      "needs_background": "light"
     },
     "output_type": "display_data"
    }
   ],
   "source": [
    "sns.violinplot(x = 'incm5' , y = 'DC5_pr_needs', data = data19)"
   ]
  },
  {
   "cell_type": "code",
   "execution_count": 131,
   "metadata": {},
   "outputs": [
    {
     "name": "stdout",
     "output_type": "stream",
     "text": [
      "[-0.0997211705387564, 0.6846103915707656]\n",
      "[-0.02731577254022032, 0.9116136308043157]\n"
     ]
    }
   ],
   "source": [
    "data19_DC5 = pd.DataFrame(data19.DC5_pr, data19.incm5)\n",
    "data19_DC5 = data19_DC5.reset_index()\n",
    "data19_DC5['DC5_pr_needs'] = [np.nan if b > 1 else b for b in data19['DC5_pr']]\n",
    "data19_DC5 = data19_DC5.dropna()\n",
    "[R1, p1] = stats.pearsonr(data19_DC5.incm5, data19_DC5.DC5_pr_needs)\n",
    "print([R1, p1])\n",
    "[R2, p2] = stats.spearmanr(data19_DC5.incm5, data19_DC5.DC5_pr_needs)\n",
    "print([R2, p2])"
   ]
  },
  {
   "cell_type": "markdown",
   "metadata": {},
   "source": [
    "표본집단의 크기가 작기도 하고 두 상관관계 검정 상에서 p값이 0.05보다 크므로 소득과 자궁경부암은 관계가 없음을 알 수 있다."
   ]
  },
  {
   "cell_type": "markdown",
   "metadata": {},
   "source": [
    "## 15. 소득과 폐암 유병 여부와의 관계"
   ]
  },
  {
   "cell_type": "code",
   "execution_count": 30,
   "metadata": {},
   "outputs": [
    {
     "data": {
      "text/html": [
       "<div>\n",
       "<style scoped>\n",
       "    .dataframe tbody tr th:only-of-type {\n",
       "        vertical-align: middle;\n",
       "    }\n",
       "\n",
       "    .dataframe tbody tr th {\n",
       "        vertical-align: top;\n",
       "    }\n",
       "\n",
       "    .dataframe thead th {\n",
       "        text-align: right;\n",
       "    }\n",
       "</style>\n",
       "<table border=\"1\" class=\"dataframe\">\n",
       "  <thead>\n",
       "    <tr style=\"text-align: right;\">\n",
       "      <th></th>\n",
       "      <th>count</th>\n",
       "      <th>mean</th>\n",
       "      <th>std</th>\n",
       "      <th>min</th>\n",
       "      <th>25%</th>\n",
       "      <th>50%</th>\n",
       "      <th>75%</th>\n",
       "      <th>max</th>\n",
       "    </tr>\n",
       "    <tr>\n",
       "      <th>incm5</th>\n",
       "      <th></th>\n",
       "      <th></th>\n",
       "      <th></th>\n",
       "      <th></th>\n",
       "      <th></th>\n",
       "      <th></th>\n",
       "      <th></th>\n",
       "      <th></th>\n",
       "    </tr>\n",
       "  </thead>\n",
       "  <tbody>\n",
       "    <tr>\n",
       "      <th>1.0</th>\n",
       "      <td>6.0</td>\n",
       "      <td>0.500000</td>\n",
       "      <td>0.547723</td>\n",
       "      <td>0.0</td>\n",
       "      <td>0.00</td>\n",
       "      <td>0.5</td>\n",
       "      <td>1.00</td>\n",
       "      <td>1.0</td>\n",
       "    </tr>\n",
       "    <tr>\n",
       "      <th>2.0</th>\n",
       "      <td>2.0</td>\n",
       "      <td>0.500000</td>\n",
       "      <td>0.707107</td>\n",
       "      <td>0.0</td>\n",
       "      <td>0.25</td>\n",
       "      <td>0.5</td>\n",
       "      <td>0.75</td>\n",
       "      <td>1.0</td>\n",
       "    </tr>\n",
       "    <tr>\n",
       "      <th>3.0</th>\n",
       "      <td>3.0</td>\n",
       "      <td>0.666667</td>\n",
       "      <td>0.577350</td>\n",
       "      <td>0.0</td>\n",
       "      <td>0.50</td>\n",
       "      <td>1.0</td>\n",
       "      <td>1.00</td>\n",
       "      <td>1.0</td>\n",
       "    </tr>\n",
       "    <tr>\n",
       "      <th>4.0</th>\n",
       "      <td>5.0</td>\n",
       "      <td>0.600000</td>\n",
       "      <td>0.547723</td>\n",
       "      <td>0.0</td>\n",
       "      <td>0.00</td>\n",
       "      <td>1.0</td>\n",
       "      <td>1.00</td>\n",
       "      <td>1.0</td>\n",
       "    </tr>\n",
       "    <tr>\n",
       "      <th>5.0</th>\n",
       "      <td>2.0</td>\n",
       "      <td>0.500000</td>\n",
       "      <td>0.707107</td>\n",
       "      <td>0.0</td>\n",
       "      <td>0.25</td>\n",
       "      <td>0.5</td>\n",
       "      <td>0.75</td>\n",
       "      <td>1.0</td>\n",
       "    </tr>\n",
       "  </tbody>\n",
       "</table>\n",
       "</div>"
      ],
      "text/plain": [
       "       count      mean       std  min   25%  50%   75%  max\n",
       "incm5                                                      \n",
       "1.0      6.0  0.500000  0.547723  0.0  0.00  0.5  1.00  1.0\n",
       "2.0      2.0  0.500000  0.707107  0.0  0.25  0.5  0.75  1.0\n",
       "3.0      3.0  0.666667  0.577350  0.0  0.50  1.0  1.00  1.0\n",
       "4.0      5.0  0.600000  0.547723  0.0  0.00  1.0  1.00  1.0\n",
       "5.0      2.0  0.500000  0.707107  0.0  0.25  0.5  0.75  1.0"
      ]
     },
     "execution_count": 30,
     "metadata": {},
     "output_type": "execute_result"
    }
   ],
   "source": [
    "data19['DC6_pr_needs'] = [np.nan if b > 1 else b for b in data19['DC6_pr']]\n",
    "data19.groupby('incm5')['DC6_pr_needs'].describe()"
   ]
  },
  {
   "cell_type": "code",
   "execution_count": 31,
   "metadata": {},
   "outputs": [
    {
     "data": {
      "text/plain": [
       "<AxesSubplot:xlabel='incm5', ylabel='DC6_pr_needs'>"
      ]
     },
     "execution_count": 31,
     "metadata": {},
     "output_type": "execute_result"
    },
    {
     "data": {
      "image/png": "[encoded data removed]",
      "text/plain": [
       "<Figure size 432x288 with 1 Axes>"
      ]
     },
     "metadata": {
      "needs_background": "light"
     },
     "output_type": "display_data"
    }
   ],
   "source": [
    "sns.violinplot(x = 'incm5' , y = 'DC6_pr_needs', data = data19)"
   ]
  },
  {
   "cell_type": "code",
   "execution_count": 133,
   "metadata": {},
   "outputs": [
    {
     "name": "stdout",
     "output_type": "stream",
     "text": [
      "[0.04171884786014654, 0.8923587759101245]\n",
      "[0.06566773344859698, 0.8312180384957017]\n"
     ]
    }
   ],
   "source": [
    "data19_DC6 = pd.DataFrame(data19.DC6_pr, data19.incm5)\n",
    "data19_DC6 = data19_DC6.reset_index()\n",
    "data19_DC6['DC6_pr_needs'] = [np.nan if b > 1 else b for b in data19['DC6_pr']]\n",
    "data19_DC6 = data19_DC6.dropna()\n",
    "[R1, p1] = stats.pearsonr(data19_DC6.incm5, data19_DC6.DC6_pr_needs)\n",
    "print([R1, p1])\n",
    "[R2, p2] = stats.spearmanr(data19_DC6.incm5, data19_DC6.DC6_pr_needs)\n",
    "print([R2, p2])"
   ]
  },
  {
   "cell_type": "markdown",
   "metadata": {},
   "source": [
    "표본집단의 크기가 작기도 하고 각 소득 구간마다 비율이 비슷하다는 것을 볼 수 있다. 또한 두 상관관계 검정 상에서도 p값이 0.05보다 훨씬 크게 나오며 소득과 폐암 유병 여부는 관계가 없는 것을 알 수 있다."
   ]
  },
  {
   "cell_type": "markdown",
   "metadata": {},
   "source": [
    "## 16. 소득과 갑상선암 유병 여부의 관계"
   ]
  },
  {
   "cell_type": "code",
   "execution_count": 32,
   "metadata": {},
   "outputs": [
    {
     "data": {
      "text/html": [
       "<div>\n",
       "<style scoped>\n",
       "    .dataframe tbody tr th:only-of-type {\n",
       "        vertical-align: middle;\n",
       "    }\n",
       "\n",
       "    .dataframe tbody tr th {\n",
       "        vertical-align: top;\n",
       "    }\n",
       "\n",
       "    .dataframe thead th {\n",
       "        text-align: right;\n",
       "    }\n",
       "</style>\n",
       "<table border=\"1\" class=\"dataframe\">\n",
       "  <thead>\n",
       "    <tr style=\"text-align: right;\">\n",
       "      <th></th>\n",
       "      <th>count</th>\n",
       "      <th>mean</th>\n",
       "      <th>std</th>\n",
       "      <th>min</th>\n",
       "      <th>25%</th>\n",
       "      <th>50%</th>\n",
       "      <th>75%</th>\n",
       "      <th>max</th>\n",
       "    </tr>\n",
       "    <tr>\n",
       "      <th>incm5</th>\n",
       "      <th></th>\n",
       "      <th></th>\n",
       "      <th></th>\n",
       "      <th></th>\n",
       "      <th></th>\n",
       "      <th></th>\n",
       "      <th></th>\n",
       "      <th></th>\n",
       "    </tr>\n",
       "  </thead>\n",
       "  <tbody>\n",
       "    <tr>\n",
       "      <th>1.0</th>\n",
       "      <td>11.0</td>\n",
       "      <td>0.545455</td>\n",
       "      <td>0.522233</td>\n",
       "      <td>0.0</td>\n",
       "      <td>0.0</td>\n",
       "      <td>1.0</td>\n",
       "      <td>1.0</td>\n",
       "      <td>1.0</td>\n",
       "    </tr>\n",
       "    <tr>\n",
       "      <th>2.0</th>\n",
       "      <td>22.0</td>\n",
       "      <td>0.545455</td>\n",
       "      <td>0.509647</td>\n",
       "      <td>0.0</td>\n",
       "      <td>0.0</td>\n",
       "      <td>1.0</td>\n",
       "      <td>1.0</td>\n",
       "      <td>1.0</td>\n",
       "    </tr>\n",
       "    <tr>\n",
       "      <th>3.0</th>\n",
       "      <td>16.0</td>\n",
       "      <td>0.437500</td>\n",
       "      <td>0.512348</td>\n",
       "      <td>0.0</td>\n",
       "      <td>0.0</td>\n",
       "      <td>0.0</td>\n",
       "      <td>1.0</td>\n",
       "      <td>1.0</td>\n",
       "    </tr>\n",
       "    <tr>\n",
       "      <th>4.0</th>\n",
       "      <td>10.0</td>\n",
       "      <td>0.400000</td>\n",
       "      <td>0.516398</td>\n",
       "      <td>0.0</td>\n",
       "      <td>0.0</td>\n",
       "      <td>0.0</td>\n",
       "      <td>1.0</td>\n",
       "      <td>1.0</td>\n",
       "    </tr>\n",
       "    <tr>\n",
       "      <th>5.0</th>\n",
       "      <td>17.0</td>\n",
       "      <td>0.117647</td>\n",
       "      <td>0.332106</td>\n",
       "      <td>0.0</td>\n",
       "      <td>0.0</td>\n",
       "      <td>0.0</td>\n",
       "      <td>0.0</td>\n",
       "      <td>1.0</td>\n",
       "    </tr>\n",
       "  </tbody>\n",
       "</table>\n",
       "</div>"
      ],
      "text/plain": [
       "       count      mean       std  min  25%  50%  75%  max\n",
       "incm5                                                    \n",
       "1.0     11.0  0.545455  0.522233  0.0  0.0  1.0  1.0  1.0\n",
       "2.0     22.0  0.545455  0.509647  0.0  0.0  1.0  1.0  1.0\n",
       "3.0     16.0  0.437500  0.512348  0.0  0.0  0.0  1.0  1.0\n",
       "4.0     10.0  0.400000  0.516398  0.0  0.0  0.0  1.0  1.0\n",
       "5.0     17.0  0.117647  0.332106  0.0  0.0  0.0  0.0  1.0"
      ]
     },
     "execution_count": 32,
     "metadata": {},
     "output_type": "execute_result"
    }
   ],
   "source": [
    "data19['DC7_pr_needs'] = [np.nan if b > 1 else b for b in data19['DC7_pr']]\n",
    "data19.groupby('incm5')['DC7_pr_needs'].describe()"
   ]
  },
  {
   "cell_type": "code",
   "execution_count": 33,
   "metadata": {},
   "outputs": [
    {
     "data": {
      "text/plain": [
       "<AxesSubplot:xlabel='incm5', ylabel='DC7_pr_needs'>"
      ]
     },
     "execution_count": 33,
     "metadata": {},
     "output_type": "execute_result"
    },
    {
     "data": {
      "image/png": "[encoded data removed]",
      "text/plain": [
       "<Figure size 432x288 with 1 Axes>"
      ]
     },
     "metadata": {
      "needs_background": "light"
     },
     "output_type": "display_data"
    }
   ],
   "source": [
    "sns.violinplot(x = 'incm5' , y = 'DC7_pr_needs', data = data19)"
   ]
  },
  {
   "cell_type": "code",
   "execution_count": 134,
   "metadata": {},
   "outputs": [
    {
     "name": "stdout",
     "output_type": "stream",
     "text": [
      "[-0.34603500869495074, 0.004427489592025152]\n",
      "[-0.3225481154820645, 0.008258210069993988]\n"
     ]
    }
   ],
   "source": [
    "data19_DC7 = pd.DataFrame(data19.DC7_pr, data19.incm5)\n",
    "data19_DC7 = data19_DC7.reset_index()\n",
    "data19_DC7['DC7_pr_needs'] = [np.nan if b > 1 else b for b in data19['DC7_pr']]\n",
    "data19_DC7 = data19_DC7.dropna()\n",
    "[R1, p1] = stats.pearsonr(data19_DC7.incm5, data19_DC7.DC7_pr_needs)\n",
    "print([R1, p1])\n",
    "[R2, p2] = stats.spearmanr(data19_DC7.incm5, data19_DC7.DC7_pr_needs)\n",
    "print([R2, p2])"
   ]
  },
  {
   "cell_type": "code",
   "execution_count": 147,
   "metadata": {},
   "outputs": [
    {
     "data": {
      "text/plain": [
       "<AxesSubplot:xlabel='incm5', ylabel='DC7_pr_needs'>"
      ]
     },
     "execution_count": 147,
     "metadata": {},
     "output_type": "execute_result"
    },
    {
     "data": {
      "image/png": "[encoded data removed]",
      "text/plain": [
       "<Figure size 432x288 with 1 Axes>"
      ]
     },
     "metadata": {
      "needs_background": "light"
     },
     "output_type": "display_data"
    }
   ],
   "source": [
    "sns.regplot(data = data19_DC7, x = 'incm5', y = 'DC7_pr_needs')"
   ]
  },
  {
   "cell_type": "markdown",
   "metadata": {},
   "source": [
    "갑상선암은 소득이 늘어날 수록 갑상선암에 걸린 환자의 비율이 감소하는 양상을 보인다. 또한 두 상관관계 검정 상에서도 p값이 0.05보다 작은 값을 보이므로 소득과 갑상선암 사이에는 유의미한 관계가 있음을 알 수 있다."
   ]
  },
  {
   "cell_type": "markdown",
   "metadata": {},
   "source": [
    "## 17. 소득과 갑상선 질환과의 관계"
   ]
  },
  {
   "cell_type": "code",
   "execution_count": 34,
   "metadata": {},
   "outputs": [
    {
     "data": {
      "text/html": [
       "<div>\n",
       "<style scoped>\n",
       "    .dataframe tbody tr th:only-of-type {\n",
       "        vertical-align: middle;\n",
       "    }\n",
       "\n",
       "    .dataframe tbody tr th {\n",
       "        vertical-align: top;\n",
       "    }\n",
       "\n",
       "    .dataframe thead th {\n",
       "        text-align: right;\n",
       "    }\n",
       "</style>\n",
       "<table border=\"1\" class=\"dataframe\">\n",
       "  <thead>\n",
       "    <tr style=\"text-align: right;\">\n",
       "      <th></th>\n",
       "      <th>count</th>\n",
       "      <th>mean</th>\n",
       "      <th>std</th>\n",
       "      <th>min</th>\n",
       "      <th>25%</th>\n",
       "      <th>50%</th>\n",
       "      <th>75%</th>\n",
       "      <th>max</th>\n",
       "    </tr>\n",
       "    <tr>\n",
       "      <th>incm5</th>\n",
       "      <th></th>\n",
       "      <th></th>\n",
       "      <th></th>\n",
       "      <th></th>\n",
       "      <th></th>\n",
       "      <th></th>\n",
       "      <th></th>\n",
       "      <th></th>\n",
       "    </tr>\n",
       "  </thead>\n",
       "  <tbody>\n",
       "    <tr>\n",
       "      <th>1.0</th>\n",
       "      <td>41.0</td>\n",
       "      <td>0.585366</td>\n",
       "      <td>0.498779</td>\n",
       "      <td>0.0</td>\n",
       "      <td>0.0</td>\n",
       "      <td>1.0</td>\n",
       "      <td>1.0</td>\n",
       "      <td>1.0</td>\n",
       "    </tr>\n",
       "    <tr>\n",
       "      <th>2.0</th>\n",
       "      <td>41.0</td>\n",
       "      <td>0.731707</td>\n",
       "      <td>0.448575</td>\n",
       "      <td>0.0</td>\n",
       "      <td>0.0</td>\n",
       "      <td>1.0</td>\n",
       "      <td>1.0</td>\n",
       "      <td>1.0</td>\n",
       "    </tr>\n",
       "    <tr>\n",
       "      <th>3.0</th>\n",
       "      <td>45.0</td>\n",
       "      <td>0.511111</td>\n",
       "      <td>0.505525</td>\n",
       "      <td>0.0</td>\n",
       "      <td>0.0</td>\n",
       "      <td>1.0</td>\n",
       "      <td>1.0</td>\n",
       "      <td>1.0</td>\n",
       "    </tr>\n",
       "    <tr>\n",
       "      <th>4.0</th>\n",
       "      <td>56.0</td>\n",
       "      <td>0.571429</td>\n",
       "      <td>0.499350</td>\n",
       "      <td>0.0</td>\n",
       "      <td>0.0</td>\n",
       "      <td>1.0</td>\n",
       "      <td>1.0</td>\n",
       "      <td>1.0</td>\n",
       "    </tr>\n",
       "    <tr>\n",
       "      <th>5.0</th>\n",
       "      <td>53.0</td>\n",
       "      <td>0.641509</td>\n",
       "      <td>0.484146</td>\n",
       "      <td>0.0</td>\n",
       "      <td>0.0</td>\n",
       "      <td>1.0</td>\n",
       "      <td>1.0</td>\n",
       "      <td>1.0</td>\n",
       "    </tr>\n",
       "  </tbody>\n",
       "</table>\n",
       "</div>"
      ],
      "text/plain": [
       "       count      mean       std  min  25%  50%  75%  max\n",
       "incm5                                                    \n",
       "1.0     41.0  0.585366  0.498779  0.0  0.0  1.0  1.0  1.0\n",
       "2.0     41.0  0.731707  0.448575  0.0  0.0  1.0  1.0  1.0\n",
       "3.0     45.0  0.511111  0.505525  0.0  0.0  1.0  1.0  1.0\n",
       "4.0     56.0  0.571429  0.499350  0.0  0.0  1.0  1.0  1.0\n",
       "5.0     53.0  0.641509  0.484146  0.0  0.0  1.0  1.0  1.0"
      ]
     },
     "execution_count": 34,
     "metadata": {},
     "output_type": "execute_result"
    }
   ],
   "source": [
    "data19['DE2_pr_needs'] = [np.nan if b > 1 else b for b in data19['DE2_pr']]\n",
    "data19.groupby('incm5')['DE2_pr_needs'].describe()"
   ]
  },
  {
   "cell_type": "code",
   "execution_count": 35,
   "metadata": {},
   "outputs": [
    {
     "data": {
      "text/plain": [
       "<AxesSubplot:xlabel='incm5', ylabel='DE2_pr_needs'>"
      ]
     },
     "execution_count": 35,
     "metadata": {},
     "output_type": "execute_result"
    },
    {
     "data": {
      "image/png": "[encoded data removed]",
      "text/plain": [
       "<Figure size 432x288 with 1 Axes>"
      ]
     },
     "metadata": {
      "needs_background": "light"
     },
     "output_type": "display_data"
    }
   ],
   "source": [
    "sns.violinplot(x = 'incm5' , y = 'DE2_pr_needs', data = data19)"
   ]
  },
  {
   "cell_type": "code",
   "execution_count": 135,
   "metadata": {},
   "outputs": [
    {
     "name": "stdout",
     "output_type": "stream",
     "text": [
      "[0.0036355207131301137, 0.9613687843340671]\n",
      "[-0.006935486048140224, 0.9263785158640907]\n"
     ]
    }
   ],
   "source": [
    "data19_DE2 = pd.DataFrame(data19.DE2_pr, data19.incm5)\n",
    "data19_DE2 = data19_DE2.reset_index()\n",
    "data19_DE2['DE2_pr_needs'] = [np.nan if b > 1 else b for b in data19['DE2_pr']]\n",
    "data19_DE2 = data19_DE2.dropna()\n",
    "[R1, p1] = stats.pearsonr(data19_DE2.incm5, data19_DE2.DE2_pr_needs)\n",
    "print([R1, p1])\n",
    "[R2, p2] = stats.spearmanr(data19_DE2.incm5, data19_DE2.DE2_pr_needs)\n",
    "print([R2, p2])"
   ]
  },
  {
   "cell_type": "markdown",
   "metadata": {},
   "source": [
    "1, 3, 4분위는 비슷한 비율을 보이나 2분위에서 가장 높은 비율을 보인다. 또한 두 상관관계 검정 상에서 p값이 1에 가까운 값을 보이며 소득과 갑상선 질환과의 관계는 없음을 알 수 있다."
   ]
  },
  {
   "cell_type": "markdown",
   "metadata": {},
   "source": [
    "## 18. 소득과 우울증의 관계"
   ]
  },
  {
   "cell_type": "code",
   "execution_count": 79,
   "metadata": {},
   "outputs": [
    {
     "data": {
      "text/html": [
       "<div>\n",
       "<style scoped>\n",
       "    .dataframe tbody tr th:only-of-type {\n",
       "        vertical-align: middle;\n",
       "    }\n",
       "\n",
       "    .dataframe tbody tr th {\n",
       "        vertical-align: top;\n",
       "    }\n",
       "\n",
       "    .dataframe thead th {\n",
       "        text-align: right;\n",
       "    }\n",
       "</style>\n",
       "<table border=\"1\" class=\"dataframe\">\n",
       "  <thead>\n",
       "    <tr style=\"text-align: right;\">\n",
       "      <th></th>\n",
       "      <th>count</th>\n",
       "      <th>mean</th>\n",
       "      <th>std</th>\n",
       "      <th>min</th>\n",
       "      <th>25%</th>\n",
       "      <th>50%</th>\n",
       "      <th>75%</th>\n",
       "      <th>max</th>\n",
       "    </tr>\n",
       "    <tr>\n",
       "      <th>incm5</th>\n",
       "      <th></th>\n",
       "      <th></th>\n",
       "      <th></th>\n",
       "      <th></th>\n",
       "      <th></th>\n",
       "      <th></th>\n",
       "      <th></th>\n",
       "      <th></th>\n",
       "    </tr>\n",
       "  </thead>\n",
       "  <tbody>\n",
       "    <tr>\n",
       "      <th>1.0</th>\n",
       "      <td>89.0</td>\n",
       "      <td>0.741573</td>\n",
       "      <td>0.440250</td>\n",
       "      <td>0.0</td>\n",
       "      <td>0.0</td>\n",
       "      <td>1.0</td>\n",
       "      <td>1.0</td>\n",
       "      <td>1.0</td>\n",
       "    </tr>\n",
       "    <tr>\n",
       "      <th>2.0</th>\n",
       "      <td>61.0</td>\n",
       "      <td>0.606557</td>\n",
       "      <td>0.492568</td>\n",
       "      <td>0.0</td>\n",
       "      <td>0.0</td>\n",
       "      <td>1.0</td>\n",
       "      <td>1.0</td>\n",
       "      <td>1.0</td>\n",
       "    </tr>\n",
       "    <tr>\n",
       "      <th>3.0</th>\n",
       "      <td>56.0</td>\n",
       "      <td>0.428571</td>\n",
       "      <td>0.499350</td>\n",
       "      <td>0.0</td>\n",
       "      <td>0.0</td>\n",
       "      <td>0.0</td>\n",
       "      <td>1.0</td>\n",
       "      <td>1.0</td>\n",
       "    </tr>\n",
       "    <tr>\n",
       "      <th>4.0</th>\n",
       "      <td>45.0</td>\n",
       "      <td>0.400000</td>\n",
       "      <td>0.495434</td>\n",
       "      <td>0.0</td>\n",
       "      <td>0.0</td>\n",
       "      <td>0.0</td>\n",
       "      <td>1.0</td>\n",
       "      <td>1.0</td>\n",
       "    </tr>\n",
       "    <tr>\n",
       "      <th>5.0</th>\n",
       "      <td>37.0</td>\n",
       "      <td>0.378378</td>\n",
       "      <td>0.491672</td>\n",
       "      <td>0.0</td>\n",
       "      <td>0.0</td>\n",
       "      <td>0.0</td>\n",
       "      <td>1.0</td>\n",
       "      <td>1.0</td>\n",
       "    </tr>\n",
       "  </tbody>\n",
       "</table>\n",
       "</div>"
      ],
      "text/plain": [
       "       count      mean       std  min  25%  50%  75%  max\n",
       "incm5                                                    \n",
       "1.0     89.0  0.741573  0.440250  0.0  0.0  1.0  1.0  1.0\n",
       "2.0     61.0  0.606557  0.492568  0.0  0.0  1.0  1.0  1.0\n",
       "3.0     56.0  0.428571  0.499350  0.0  0.0  0.0  1.0  1.0\n",
       "4.0     45.0  0.400000  0.495434  0.0  0.0  0.0  1.0  1.0\n",
       "5.0     37.0  0.378378  0.491672  0.0  0.0  0.0  1.0  1.0"
      ]
     },
     "execution_count": 79,
     "metadata": {},
     "output_type": "execute_result"
    }
   ],
   "source": [
    "data19['DF2_pr_needs'] = [np.nan if b > 1 else b for b in data19['DF2_pr']]\n",
    "data19.groupby('incm5')['DF2_pr_needs'].describe()"
   ]
  },
  {
   "cell_type": "code",
   "execution_count": 80,
   "metadata": {},
   "outputs": [
    {
     "data": {
      "text/plain": [
       "<AxesSubplot:xlabel='incm5', ylabel='DF2_pr_needs'>"
      ]
     },
     "execution_count": 80,
     "metadata": {},
     "output_type": "execute_result"
    },
    {
     "data": {
      "image/png": "[encoded data removed]",
      "text/plain": [
       "<Figure size 432x288 with 1 Axes>"
      ]
     },
     "metadata": {
      "needs_background": "light"
     },
     "output_type": "display_data"
    }
   ],
   "source": [
    "sns.violinplot(x = 'incm5' , y = 'DF2_pr_needs', data = data19)"
   ]
  },
  {
   "cell_type": "code",
   "execution_count": 117,
   "metadata": {},
   "outputs": [
    {
     "name": "stdout",
     "output_type": "stream",
     "text": [
      "[-0.276420081000492, 1.2298161330771943e-05]\n",
      "[-0.292344006348613, 3.5632040895113546e-06]\n"
     ]
    }
   ],
   "source": [
    "data19_DF2 = pd.DataFrame(data19.DF2_pr, data19.incm5)\n",
    "data19_DF2 = data19_DF2.reset_index()\n",
    "data19_DF2['DF2_pr_needs'] = [np.nan if b > 1 else b for b in data19['DF2_pr']]\n",
    "data19_DF2 = data19_DF2.dropna()\n",
    "[R1, p1] = stats.pearsonr(data19_DF2.incm5, data19_DF2.DF2_pr_needs)\n",
    "print([R1, p1])\n",
    "[R2, p2] = stats.spearmanr(data19_DF2.incm5, data19_DF2.DF2_pr_needs)\n",
    "print([R2, p2])"
   ]
  },
  {
   "cell_type": "code",
   "execution_count": 148,
   "metadata": {},
   "outputs": [
    {
     "data": {
      "text/plain": [
       "<AxesSubplot:xlabel='incm5', ylabel='DF2_pr_needs'>"
      ]
     },
     "execution_count": 148,
     "metadata": {},
     "output_type": "execute_result"
    },
    {
     "data": {
      "image/png": "[encoded data removed]",
      "text/plain": [
       "<Figure size 432x288 with 1 Axes>"
      ]
     },
     "metadata": {
      "needs_background": "light"
     },
     "output_type": "display_data"
    }
   ],
   "source": [
    "sns.regplot(data = data19_DF2, x = 'incm5', y = 'DF2_pr_needs')"
   ]
  },
  {
   "cell_type": "markdown",
   "metadata": {},
   "source": [
    "두 상관관계 검정에서 p값이 0.05보다 작게 나온 것으로 보아 소득이 작을수록 우울증 발병이 증가함을 알 수 있다."
   ]
  },
  {
   "cell_type": "markdown",
   "metadata": {},
   "source": [
    "## 19. 소득과 알레르기 비염과의 관계"
   ]
  },
  {
   "cell_type": "code",
   "execution_count": 38,
   "metadata": {},
   "outputs": [
    {
     "data": {
      "text/html": [
       "<div>\n",
       "<style scoped>\n",
       "    .dataframe tbody tr th:only-of-type {\n",
       "        vertical-align: middle;\n",
       "    }\n",
       "\n",
       "    .dataframe tbody tr th {\n",
       "        vertical-align: top;\n",
       "    }\n",
       "\n",
       "    .dataframe thead th {\n",
       "        text-align: right;\n",
       "    }\n",
       "</style>\n",
       "<table border=\"1\" class=\"dataframe\">\n",
       "  <thead>\n",
       "    <tr style=\"text-align: right;\">\n",
       "      <th></th>\n",
       "      <th>count</th>\n",
       "      <th>mean</th>\n",
       "      <th>std</th>\n",
       "      <th>min</th>\n",
       "      <th>25%</th>\n",
       "      <th>50%</th>\n",
       "      <th>75%</th>\n",
       "      <th>max</th>\n",
       "    </tr>\n",
       "    <tr>\n",
       "      <th>incm5</th>\n",
       "      <th></th>\n",
       "      <th></th>\n",
       "      <th></th>\n",
       "      <th></th>\n",
       "      <th></th>\n",
       "      <th></th>\n",
       "      <th></th>\n",
       "      <th></th>\n",
       "    </tr>\n",
       "  </thead>\n",
       "  <tbody>\n",
       "    <tr>\n",
       "      <th>1.0</th>\n",
       "      <td>195.0</td>\n",
       "      <td>0.810256</td>\n",
       "      <td>0.393107</td>\n",
       "      <td>0.0</td>\n",
       "      <td>1.0</td>\n",
       "      <td>1.0</td>\n",
       "      <td>1.0</td>\n",
       "      <td>1.0</td>\n",
       "    </tr>\n",
       "    <tr>\n",
       "      <th>2.0</th>\n",
       "      <td>174.0</td>\n",
       "      <td>0.816092</td>\n",
       "      <td>0.388527</td>\n",
       "      <td>0.0</td>\n",
       "      <td>1.0</td>\n",
       "      <td>1.0</td>\n",
       "      <td>1.0</td>\n",
       "      <td>1.0</td>\n",
       "    </tr>\n",
       "    <tr>\n",
       "      <th>3.0</th>\n",
       "      <td>169.0</td>\n",
       "      <td>0.840237</td>\n",
       "      <td>0.367475</td>\n",
       "      <td>0.0</td>\n",
       "      <td>1.0</td>\n",
       "      <td>1.0</td>\n",
       "      <td>1.0</td>\n",
       "      <td>1.0</td>\n",
       "    </tr>\n",
       "    <tr>\n",
       "      <th>4.0</th>\n",
       "      <td>161.0</td>\n",
       "      <td>0.819876</td>\n",
       "      <td>0.385490</td>\n",
       "      <td>0.0</td>\n",
       "      <td>1.0</td>\n",
       "      <td>1.0</td>\n",
       "      <td>1.0</td>\n",
       "      <td>1.0</td>\n",
       "    </tr>\n",
       "    <tr>\n",
       "      <th>5.0</th>\n",
       "      <td>180.0</td>\n",
       "      <td>0.805556</td>\n",
       "      <td>0.396876</td>\n",
       "      <td>0.0</td>\n",
       "      <td>1.0</td>\n",
       "      <td>1.0</td>\n",
       "      <td>1.0</td>\n",
       "      <td>1.0</td>\n",
       "    </tr>\n",
       "  </tbody>\n",
       "</table>\n",
       "</div>"
      ],
      "text/plain": [
       "       count      mean       std  min  25%  50%  75%  max\n",
       "incm5                                                    \n",
       "1.0    195.0  0.810256  0.393107  0.0  1.0  1.0  1.0  1.0\n",
       "2.0    174.0  0.816092  0.388527  0.0  1.0  1.0  1.0  1.0\n",
       "3.0    169.0  0.840237  0.367475  0.0  1.0  1.0  1.0  1.0\n",
       "4.0    161.0  0.819876  0.385490  0.0  1.0  1.0  1.0  1.0\n",
       "5.0    180.0  0.805556  0.396876  0.0  1.0  1.0  1.0  1.0"
      ]
     },
     "execution_count": 38,
     "metadata": {},
     "output_type": "execute_result"
    }
   ],
   "source": [
    "data19['DJ8_pr_needs'] = [np.nan if b > 1 else b for b in data19['DJ8_pr']]\n",
    "data19.groupby('incm5')['DJ8_pr_needs'].describe()"
   ]
  },
  {
   "cell_type": "code",
   "execution_count": 39,
   "metadata": {},
   "outputs": [
    {
     "data": {
      "text/plain": [
       "<AxesSubplot:xlabel='incm5', ylabel='DJ8_pr_needs'>"
      ]
     },
     "execution_count": 39,
     "metadata": {},
     "output_type": "execute_result"
    },
    {
     "data": {
      "image/png": "[encoded data removed]",
      "text/plain": [
       "<Figure size 432x288 with 1 Axes>"
      ]
     },
     "metadata": {
      "needs_background": "light"
     },
     "output_type": "display_data"
    }
   ],
   "source": [
    "sns.violinplot(x = 'incm5' , y = 'DJ8_pr_needs', data = data19)"
   ]
  },
  {
   "cell_type": "code",
   "execution_count": 136,
   "metadata": {},
   "outputs": [
    {
     "name": "stdout",
     "output_type": "stream",
     "text": [
      "[-0.0029326569720392244, 0.9374738195040783]\n",
      "[0.0031095809908972686, 0.9337101089427606]\n"
     ]
    }
   ],
   "source": [
    "data19_DJ8 = pd.DataFrame(data19.DJ8_pr, data19.incm5)\n",
    "data19_DJ8 = data19_DJ8.reset_index()\n",
    "data19_DJ8['DJ8_pr_needs'] = [np.nan if b > 1 else b for b in data19['DJ8_pr']]\n",
    "data19_DJ8 = data19_DJ8.dropna()\n",
    "[R1, p1] = stats.pearsonr(data19_DJ8.incm5, data19_DJ8.DJ8_pr_needs)\n",
    "print([R1, p1])\n",
    "[R2, p2] = stats.spearmanr(data19_DJ8.incm5, data19_DJ8.DJ8_pr_needs)\n",
    "print([R2, p2])"
   ]
  },
  {
   "cell_type": "markdown",
   "metadata": {},
   "source": [
    "전 소득 구간에서 0.8 정도의 비율을 보이고 있고 두 상관관계 검정 상에서도 p값이 1에 가까운 값을 보이며 알레르기 비염과 소득은 관계가 없다는 것을 알 수 있다."
   ]
  },
  {
   "cell_type": "markdown",
   "metadata": {},
   "source": [
    "## 20. 소득과 신부전 발병의 관계"
   ]
  },
  {
   "cell_type": "code",
   "execution_count": 40,
   "metadata": {},
   "outputs": [
    {
     "data": {
      "text/html": [
       "<div>\n",
       "<style scoped>\n",
       "    .dataframe tbody tr th:only-of-type {\n",
       "        vertical-align: middle;\n",
       "    }\n",
       "\n",
       "    .dataframe tbody tr th {\n",
       "        vertical-align: top;\n",
       "    }\n",
       "\n",
       "    .dataframe thead th {\n",
       "        text-align: right;\n",
       "    }\n",
       "</style>\n",
       "<table border=\"1\" class=\"dataframe\">\n",
       "  <thead>\n",
       "    <tr style=\"text-align: right;\">\n",
       "      <th></th>\n",
       "      <th>count</th>\n",
       "      <th>mean</th>\n",
       "      <th>std</th>\n",
       "      <th>min</th>\n",
       "      <th>25%</th>\n",
       "      <th>50%</th>\n",
       "      <th>75%</th>\n",
       "      <th>max</th>\n",
       "    </tr>\n",
       "    <tr>\n",
       "      <th>incm5</th>\n",
       "      <th></th>\n",
       "      <th></th>\n",
       "      <th></th>\n",
       "      <th></th>\n",
       "      <th></th>\n",
       "      <th></th>\n",
       "      <th></th>\n",
       "      <th></th>\n",
       "    </tr>\n",
       "  </thead>\n",
       "  <tbody>\n",
       "    <tr>\n",
       "      <th>1.0</th>\n",
       "      <td>4.0</td>\n",
       "      <td>1.000000</td>\n",
       "      <td>0.000000</td>\n",
       "      <td>1.0</td>\n",
       "      <td>1.00</td>\n",
       "      <td>1.0</td>\n",
       "      <td>1.0</td>\n",
       "      <td>1.0</td>\n",
       "    </tr>\n",
       "    <tr>\n",
       "      <th>2.0</th>\n",
       "      <td>5.0</td>\n",
       "      <td>0.800000</td>\n",
       "      <td>0.447214</td>\n",
       "      <td>0.0</td>\n",
       "      <td>1.00</td>\n",
       "      <td>1.0</td>\n",
       "      <td>1.0</td>\n",
       "      <td>1.0</td>\n",
       "    </tr>\n",
       "    <tr>\n",
       "      <th>3.0</th>\n",
       "      <td>8.0</td>\n",
       "      <td>0.625000</td>\n",
       "      <td>0.517549</td>\n",
       "      <td>0.0</td>\n",
       "      <td>0.00</td>\n",
       "      <td>1.0</td>\n",
       "      <td>1.0</td>\n",
       "      <td>1.0</td>\n",
       "    </tr>\n",
       "    <tr>\n",
       "      <th>4.0</th>\n",
       "      <td>4.0</td>\n",
       "      <td>0.750000</td>\n",
       "      <td>0.500000</td>\n",
       "      <td>0.0</td>\n",
       "      <td>0.75</td>\n",
       "      <td>1.0</td>\n",
       "      <td>1.0</td>\n",
       "      <td>1.0</td>\n",
       "    </tr>\n",
       "    <tr>\n",
       "      <th>5.0</th>\n",
       "      <td>3.0</td>\n",
       "      <td>0.666667</td>\n",
       "      <td>0.577350</td>\n",
       "      <td>0.0</td>\n",
       "      <td>0.50</td>\n",
       "      <td>1.0</td>\n",
       "      <td>1.0</td>\n",
       "      <td>1.0</td>\n",
       "    </tr>\n",
       "  </tbody>\n",
       "</table>\n",
       "</div>"
      ],
      "text/plain": [
       "       count      mean       std  min   25%  50%  75%  max\n",
       "incm5                                                     \n",
       "1.0      4.0  1.000000  0.000000  1.0  1.00  1.0  1.0  1.0\n",
       "2.0      5.0  0.800000  0.447214  0.0  1.00  1.0  1.0  1.0\n",
       "3.0      8.0  0.625000  0.517549  0.0  0.00  1.0  1.0  1.0\n",
       "4.0      4.0  0.750000  0.500000  0.0  0.75  1.0  1.0  1.0\n",
       "5.0      3.0  0.666667  0.577350  0.0  0.50  1.0  1.0  1.0"
      ]
     },
     "execution_count": 40,
     "metadata": {},
     "output_type": "execute_result"
    }
   ],
   "source": [
    "data19['DN1_pr_needs'] = [np.nan if b > 1 else b for b in data19['DN1_pr']]\n",
    "data19.groupby('incm5')['DN1_pr_needs'].describe()"
   ]
  },
  {
   "cell_type": "code",
   "execution_count": 41,
   "metadata": {},
   "outputs": [
    {
     "data": {
      "text/plain": [
       "<AxesSubplot:xlabel='incm5', ylabel='DN1_pr_needs'>"
      ]
     },
     "execution_count": 41,
     "metadata": {},
     "output_type": "execute_result"
    },
    {
     "data": {
      "image/png": "[encoded data removed]",
      "text/plain": [
       "<Figure size 432x288 with 1 Axes>"
      ]
     },
     "metadata": {
      "needs_background": "light"
     },
     "output_type": "display_data"
    }
   ],
   "source": [
    "sns.violinplot(x = 'incm5' , y = 'DN1_pr_needs', data = data19)"
   ]
  },
  {
   "cell_type": "code",
   "execution_count": 137,
   "metadata": {},
   "outputs": [
    {
     "name": "stdout",
     "output_type": "stream",
     "text": [
      "[-0.25692800972687846, 0.27416565120915865]\n",
      "[-0.2936811619128579, 0.20884356404706944]\n"
     ]
    }
   ],
   "source": [
    "data19_DN1 = pd.DataFrame(data19.DN1_pr, data19.incm5)\n",
    "data19_DN1 = data19_DN1.reset_index()\n",
    "data19_DN1['DN1_pr_needs'] = [np.nan if b > 1 else b for b in data19['DN1_pr']]\n",
    "data19_DN1 = data19_DN1.dropna()\n",
    "[R1, p1] = stats.pearsonr(data19_DN1.incm5, data19_DN1.DN1_pr_needs)\n",
    "print([R1, p1])\n",
    "[R2, p2] = stats.spearmanr(data19_DN1.incm5, data19_DN1.DN1_pr_needs)\n",
    "print([R2, p2])"
   ]
  },
  {
   "cell_type": "markdown",
   "metadata": {},
   "source": [
    "데이터셋 상에서의 분포는 소득 구간이 낮을수록 신부전 발병율이 높아진다는 결과를 보이지만 상관관계 검정 결과 p 값이 0.05보다 크게 나오므로 소득과 신부전 사이에는 관계가 없음을 알 수 있다."
   ]
  },
  {
   "cell_type": "markdown",
   "metadata": {},
   "source": [
    "## 21. 소득과 통풍 발병의 관계"
   ]
  },
  {
   "cell_type": "code",
   "execution_count": 42,
   "metadata": {},
   "outputs": [
    {
     "data": {
      "text/html": [
       "<div>\n",
       "<style scoped>\n",
       "    .dataframe tbody tr th:only-of-type {\n",
       "        vertical-align: middle;\n",
       "    }\n",
       "\n",
       "    .dataframe tbody tr th {\n",
       "        vertical-align: top;\n",
       "    }\n",
       "\n",
       "    .dataframe thead th {\n",
       "        text-align: right;\n",
       "    }\n",
       "</style>\n",
       "<table border=\"1\" class=\"dataframe\">\n",
       "  <thead>\n",
       "    <tr style=\"text-align: right;\">\n",
       "      <th></th>\n",
       "      <th>count</th>\n",
       "      <th>mean</th>\n",
       "      <th>std</th>\n",
       "      <th>min</th>\n",
       "      <th>25%</th>\n",
       "      <th>50%</th>\n",
       "      <th>75%</th>\n",
       "      <th>max</th>\n",
       "    </tr>\n",
       "    <tr>\n",
       "      <th>incm5</th>\n",
       "      <th></th>\n",
       "      <th></th>\n",
       "      <th></th>\n",
       "      <th></th>\n",
       "      <th></th>\n",
       "      <th></th>\n",
       "      <th></th>\n",
       "      <th></th>\n",
       "    </tr>\n",
       "  </thead>\n",
       "  <tbody>\n",
       "    <tr>\n",
       "      <th>1.0</th>\n",
       "      <td>25.0</td>\n",
       "      <td>0.680000</td>\n",
       "      <td>0.476095</td>\n",
       "      <td>0.0</td>\n",
       "      <td>0.00</td>\n",
       "      <td>1.0</td>\n",
       "      <td>1.0</td>\n",
       "      <td>1.0</td>\n",
       "    </tr>\n",
       "    <tr>\n",
       "      <th>2.0</th>\n",
       "      <td>17.0</td>\n",
       "      <td>0.647059</td>\n",
       "      <td>0.492592</td>\n",
       "      <td>0.0</td>\n",
       "      <td>0.00</td>\n",
       "      <td>1.0</td>\n",
       "      <td>1.0</td>\n",
       "      <td>1.0</td>\n",
       "    </tr>\n",
       "    <tr>\n",
       "      <th>3.0</th>\n",
       "      <td>22.0</td>\n",
       "      <td>0.590909</td>\n",
       "      <td>0.503236</td>\n",
       "      <td>0.0</td>\n",
       "      <td>0.00</td>\n",
       "      <td>1.0</td>\n",
       "      <td>1.0</td>\n",
       "      <td>1.0</td>\n",
       "    </tr>\n",
       "    <tr>\n",
       "      <th>4.0</th>\n",
       "      <td>18.0</td>\n",
       "      <td>0.722222</td>\n",
       "      <td>0.460889</td>\n",
       "      <td>0.0</td>\n",
       "      <td>0.25</td>\n",
       "      <td>1.0</td>\n",
       "      <td>1.0</td>\n",
       "      <td>1.0</td>\n",
       "    </tr>\n",
       "    <tr>\n",
       "      <th>5.0</th>\n",
       "      <td>22.0</td>\n",
       "      <td>0.590909</td>\n",
       "      <td>0.503236</td>\n",
       "      <td>0.0</td>\n",
       "      <td>0.00</td>\n",
       "      <td>1.0</td>\n",
       "      <td>1.0</td>\n",
       "      <td>1.0</td>\n",
       "    </tr>\n",
       "  </tbody>\n",
       "</table>\n",
       "</div>"
      ],
      "text/plain": [
       "       count      mean       std  min   25%  50%  75%  max\n",
       "incm5                                                     \n",
       "1.0     25.0  0.680000  0.476095  0.0  0.00  1.0  1.0  1.0\n",
       "2.0     17.0  0.647059  0.492592  0.0  0.00  1.0  1.0  1.0\n",
       "3.0     22.0  0.590909  0.503236  0.0  0.00  1.0  1.0  1.0\n",
       "4.0     18.0  0.722222  0.460889  0.0  0.25  1.0  1.0  1.0\n",
       "5.0     22.0  0.590909  0.503236  0.0  0.00  1.0  1.0  1.0"
      ]
     },
     "execution_count": 42,
     "metadata": {},
     "output_type": "execute_result"
    }
   ],
   "source": [
    "data19['DM8_pr_needs'] = [np.nan if b > 1 else b for b in data19['DM8_pr']]\n",
    "data19.groupby('incm5')['DM8_pr_needs'].describe()"
   ]
  },
  {
   "cell_type": "code",
   "execution_count": 43,
   "metadata": {},
   "outputs": [
    {
     "data": {
      "text/plain": [
       "<AxesSubplot:xlabel='incm5', ylabel='DM8_pr_needs'>"
      ]
     },
     "execution_count": 43,
     "metadata": {},
     "output_type": "execute_result"
    },
    {
     "data": {
      "image/png": "[encoded data removed]",
      "text/plain": [
       "<Figure size 432x288 with 1 Axes>"
      ]
     },
     "metadata": {
      "needs_background": "light"
     },
     "output_type": "display_data"
    }
   ],
   "source": [
    "sns.violinplot(x = 'incm5' , y = 'DM8_pr_needs', data = data19)"
   ]
  },
  {
   "cell_type": "code",
   "execution_count": 138,
   "metadata": {},
   "outputs": [
    {
     "name": "stdout",
     "output_type": "stream",
     "text": [
      "[-0.07211131984179815, 0.50937765593944]\n",
      "[-0.07719414145222293, 0.4799090590127858]\n"
     ]
    }
   ],
   "source": [
    "data19_DM8 = pd.DataFrame(data19.DM8_pr, data19.incm5)\n",
    "data19_DM8 = data19_DM8.reset_index()\n",
    "data19_DM8['DM8_pr_needs'] = [np.nan if b > 1 else b for b in data19['DM8_pr']]\n",
    "data19_DM8 = data19_DM8.dropna()\n",
    "[R1, p1] = stats.pearsonr(data19_DM8.incm5, data19_DM8.DM8_pr_needs)\n",
    "print([R1, p1])\n",
    "[R2, p2] = stats.spearmanr(data19_DM8.incm5, data19_DM8.DM8_pr_needs)\n",
    "print([R2, p2])"
   ]
  },
  {
   "cell_type": "markdown",
   "metadata": {},
   "source": [
    "1분위에서 3분위까지는 감소하는 양상을 보이나 4분위에서 갑자기 증가하는 양상을 보이고 있다. 또한 두 상관관계 검정 상에서 p값이 0.05보다 큰 값을 보이므로 소득과 통풍은 관계가 없다."
   ]
  },
  {
   "cell_type": "markdown",
   "metadata": {},
   "source": [
    "## 22. 소득과 B형간염 발병의 관계"
   ]
  },
  {
   "cell_type": "code",
   "execution_count": 44,
   "metadata": {},
   "outputs": [
    {
     "data": {
      "text/html": [
       "<div>\n",
       "<style scoped>\n",
       "    .dataframe tbody tr th:only-of-type {\n",
       "        vertical-align: middle;\n",
       "    }\n",
       "\n",
       "    .dataframe tbody tr th {\n",
       "        vertical-align: top;\n",
       "    }\n",
       "\n",
       "    .dataframe thead th {\n",
       "        text-align: right;\n",
       "    }\n",
       "</style>\n",
       "<table border=\"1\" class=\"dataframe\">\n",
       "  <thead>\n",
       "    <tr style=\"text-align: right;\">\n",
       "      <th></th>\n",
       "      <th>count</th>\n",
       "      <th>mean</th>\n",
       "      <th>std</th>\n",
       "      <th>min</th>\n",
       "      <th>25%</th>\n",
       "      <th>50%</th>\n",
       "      <th>75%</th>\n",
       "      <th>max</th>\n",
       "    </tr>\n",
       "    <tr>\n",
       "      <th>incm5</th>\n",
       "      <th></th>\n",
       "      <th></th>\n",
       "      <th></th>\n",
       "      <th></th>\n",
       "      <th></th>\n",
       "      <th></th>\n",
       "      <th></th>\n",
       "      <th></th>\n",
       "    </tr>\n",
       "  </thead>\n",
       "  <tbody>\n",
       "    <tr>\n",
       "      <th>1.0</th>\n",
       "      <td>17.0</td>\n",
       "      <td>0.411765</td>\n",
       "      <td>0.507300</td>\n",
       "      <td>0.0</td>\n",
       "      <td>0.0</td>\n",
       "      <td>0.0</td>\n",
       "      <td>1.00</td>\n",
       "      <td>1.0</td>\n",
       "    </tr>\n",
       "    <tr>\n",
       "      <th>2.0</th>\n",
       "      <td>14.0</td>\n",
       "      <td>0.285714</td>\n",
       "      <td>0.468807</td>\n",
       "      <td>0.0</td>\n",
       "      <td>0.0</td>\n",
       "      <td>0.0</td>\n",
       "      <td>0.75</td>\n",
       "      <td>1.0</td>\n",
       "    </tr>\n",
       "    <tr>\n",
       "      <th>3.0</th>\n",
       "      <td>13.0</td>\n",
       "      <td>0.538462</td>\n",
       "      <td>0.518875</td>\n",
       "      <td>0.0</td>\n",
       "      <td>0.0</td>\n",
       "      <td>1.0</td>\n",
       "      <td>1.00</td>\n",
       "      <td>1.0</td>\n",
       "    </tr>\n",
       "    <tr>\n",
       "      <th>4.0</th>\n",
       "      <td>10.0</td>\n",
       "      <td>0.400000</td>\n",
       "      <td>0.516398</td>\n",
       "      <td>0.0</td>\n",
       "      <td>0.0</td>\n",
       "      <td>0.0</td>\n",
       "      <td>1.00</td>\n",
       "      <td>1.0</td>\n",
       "    </tr>\n",
       "    <tr>\n",
       "      <th>5.0</th>\n",
       "      <td>14.0</td>\n",
       "      <td>0.428571</td>\n",
       "      <td>0.513553</td>\n",
       "      <td>0.0</td>\n",
       "      <td>0.0</td>\n",
       "      <td>0.0</td>\n",
       "      <td>1.00</td>\n",
       "      <td>1.0</td>\n",
       "    </tr>\n",
       "  </tbody>\n",
       "</table>\n",
       "</div>"
      ],
      "text/plain": [
       "       count      mean       std  min  25%  50%   75%  max\n",
       "incm5                                                     \n",
       "1.0     17.0  0.411765  0.507300  0.0  0.0  0.0  1.00  1.0\n",
       "2.0     14.0  0.285714  0.468807  0.0  0.0  0.0  0.75  1.0\n",
       "3.0     13.0  0.538462  0.518875  0.0  0.0  1.0  1.00  1.0\n",
       "4.0     10.0  0.400000  0.516398  0.0  0.0  0.0  1.00  1.0\n",
       "5.0     14.0  0.428571  0.513553  0.0  0.0  0.0  1.00  1.0"
      ]
     },
     "execution_count": 44,
     "metadata": {},
     "output_type": "execute_result"
    }
   ],
   "source": [
    "data19['DK8_pr_needs'] = [np.nan if b > 1 else b for b in data19['DK8_pr']]\n",
    "data19.groupby('incm5')['DK8_pr_needs'].describe()"
   ]
  },
  {
   "cell_type": "code",
   "execution_count": 45,
   "metadata": {},
   "outputs": [
    {
     "data": {
      "text/plain": [
       "<AxesSubplot:xlabel='incm5', ylabel='DK8_pr_needs'>"
      ]
     },
     "execution_count": 45,
     "metadata": {},
     "output_type": "execute_result"
    },
    {
     "data": {
      "image/png": "[encoded data removed]",
      "text/plain": [
       "<Figure size 432x288 with 1 Axes>"
      ]
     },
     "metadata": {
      "needs_background": "light"
     },
     "output_type": "display_data"
    }
   ],
   "source": [
    "sns.violinplot(x = 'incm5' , y = 'DK8_pr_needs', data = data19)"
   ]
  },
  {
   "cell_type": "code",
   "execution_count": 139,
   "metadata": {},
   "outputs": [
    {
     "name": "stdout",
     "output_type": "stream",
     "text": [
      "[0.052991693363712525, 0.6927947523732104]\n",
      "[0.0605298336179854, 0.6517295692878581]\n"
     ]
    }
   ],
   "source": [
    "data19_DK8 = pd.DataFrame(data19.DK8_pr, data19.incm5)\n",
    "data19_DK8 = data19_DK8.reset_index()\n",
    "data19_DK8['DK8_pr_needs'] = [np.nan if b > 1 else b for b in data19['DK8_pr']]\n",
    "data19_DK8 = data19_DK8.dropna()\n",
    "[R1, p1] = stats.pearsonr(data19_DK8.incm5, data19_DK8.DK8_pr_needs)\n",
    "print([R1, p1])\n",
    "[R2, p2] = stats.spearmanr(data19_DK8.incm5, data19_DK8.DK8_pr_needs)\n",
    "print([R2, p2])"
   ]
  },
  {
   "cell_type": "markdown",
   "metadata": {},
   "source": [
    "2분위에서 가장 낮은 비율을 보이기는 하나 나머지 비율 또한 비슷하거나 조금 큰 차이를 보임을 알 수 있다. 또한 두 상관관계 검정 상에서 p값이 0.05보다 큰 것으로 보아 소득과 B형 간염 사이에는 관계가 없어 보인다."
   ]
  },
  {
   "cell_type": "markdown",
   "metadata": {},
   "source": [
    "## 23. 소득과 비만과의 관계"
   ]
  },
  {
   "cell_type": "markdown",
   "metadata": {},
   "source": [
    "BMI 지수 별로 나누어 계산해주었다.\n",
    "BMI < 20 : 저체중, 20 <= BMI <25 : 정상, 25 <= BMI < 30 : 경도비만, BMI >= 30 : 비만 으로 봐주었다."
   ]
  },
  {
   "cell_type": "code",
   "execution_count": 142,
   "metadata": {},
   "outputs": [
    {
     "data": {
      "text/plain": [
       "0        Overweight\n",
       "1       Underweight\n",
       "2       Underweight\n",
       "3        Overweight\n",
       "4       Underweight\n",
       "           ...     \n",
       "8105         Normal\n",
       "8106         Normal\n",
       "8107    Underweight\n",
       "8108    Underweight\n",
       "8109    Underweight\n",
       "Name: obesity, Length: 8110, dtype: object"
      ]
     },
     "execution_count": 142,
     "metadata": {},
     "output_type": "execute_result"
    }
   ],
   "source": [
    "data19['obesity'] = ['Obese' if b >= 30 else ('Overweight' if 25 <= b < 30  else ('Normal' if 20 <= b < 25 else 'Underweight')) for b in data19['HE_BMI']]\n",
    "data19['obesity']"
   ]
  },
  {
   "cell_type": "code",
   "execution_count": 143,
   "metadata": {},
   "outputs": [
    {
     "data": {
      "text/html": [
       "<div>\n",
       "<style scoped>\n",
       "    .dataframe tbody tr th:only-of-type {\n",
       "        vertical-align: middle;\n",
       "    }\n",
       "\n",
       "    .dataframe tbody tr th {\n",
       "        vertical-align: top;\n",
       "    }\n",
       "\n",
       "    .dataframe thead th {\n",
       "        text-align: right;\n",
       "    }\n",
       "</style>\n",
       "<table border=\"1\" class=\"dataframe\">\n",
       "  <thead>\n",
       "    <tr style=\"text-align: right;\">\n",
       "      <th></th>\n",
       "      <th>count</th>\n",
       "      <th>mean</th>\n",
       "      <th>std</th>\n",
       "      <th>min</th>\n",
       "      <th>25%</th>\n",
       "      <th>50%</th>\n",
       "      <th>75%</th>\n",
       "      <th>max</th>\n",
       "    </tr>\n",
       "    <tr>\n",
       "      <th>incm5</th>\n",
       "      <th></th>\n",
       "      <th></th>\n",
       "      <th></th>\n",
       "      <th></th>\n",
       "      <th></th>\n",
       "      <th></th>\n",
       "      <th></th>\n",
       "      <th></th>\n",
       "    </tr>\n",
       "  </thead>\n",
       "  <tbody>\n",
       "    <tr>\n",
       "      <th>1.0</th>\n",
       "      <td>1626.0</td>\n",
       "      <td>0.287208</td>\n",
       "      <td>0.452599</td>\n",
       "      <td>0.0</td>\n",
       "      <td>0.0</td>\n",
       "      <td>0.0</td>\n",
       "      <td>1.0</td>\n",
       "      <td>1.0</td>\n",
       "    </tr>\n",
       "    <tr>\n",
       "      <th>2.0</th>\n",
       "      <td>1603.0</td>\n",
       "      <td>0.280724</td>\n",
       "      <td>0.449493</td>\n",
       "      <td>0.0</td>\n",
       "      <td>0.0</td>\n",
       "      <td>0.0</td>\n",
       "      <td>1.0</td>\n",
       "      <td>1.0</td>\n",
       "    </tr>\n",
       "    <tr>\n",
       "      <th>3.0</th>\n",
       "      <td>1621.0</td>\n",
       "      <td>0.272054</td>\n",
       "      <td>0.445155</td>\n",
       "      <td>0.0</td>\n",
       "      <td>0.0</td>\n",
       "      <td>0.0</td>\n",
       "      <td>1.0</td>\n",
       "      <td>1.0</td>\n",
       "    </tr>\n",
       "    <tr>\n",
       "      <th>4.0</th>\n",
       "      <td>1617.0</td>\n",
       "      <td>0.276438</td>\n",
       "      <td>0.447374</td>\n",
       "      <td>0.0</td>\n",
       "      <td>0.0</td>\n",
       "      <td>0.0</td>\n",
       "      <td>1.0</td>\n",
       "      <td>1.0</td>\n",
       "    </tr>\n",
       "    <tr>\n",
       "      <th>5.0</th>\n",
       "      <td>1603.0</td>\n",
       "      <td>0.262633</td>\n",
       "      <td>0.440202</td>\n",
       "      <td>0.0</td>\n",
       "      <td>0.0</td>\n",
       "      <td>0.0</td>\n",
       "      <td>1.0</td>\n",
       "      <td>1.0</td>\n",
       "    </tr>\n",
       "  </tbody>\n",
       "</table>\n",
       "</div>"
      ],
      "text/plain": [
       "        count      mean       std  min  25%  50%  75%  max\n",
       "incm5                                                     \n",
       "1.0    1626.0  0.287208  0.452599  0.0  0.0  0.0  1.0  1.0\n",
       "2.0    1603.0  0.280724  0.449493  0.0  0.0  0.0  1.0  1.0\n",
       "3.0    1621.0  0.272054  0.445155  0.0  0.0  0.0  1.0  1.0\n",
       "4.0    1617.0  0.276438  0.447374  0.0  0.0  0.0  1.0  1.0\n",
       "5.0    1603.0  0.262633  0.440202  0.0  0.0  0.0  1.0  1.0"
      ]
     },
     "execution_count": 143,
     "metadata": {},
     "output_type": "execute_result"
    }
   ],
   "source": [
    "data19['obese'] = [1 if b >= 25 else 0 for b in data19['HE_BMI']]\n",
    "data19.groupby('incm5')['obese'].describe()"
   ]
  },
  {
   "cell_type": "code",
   "execution_count": 144,
   "metadata": {},
   "outputs": [
    {
     "data": {
      "text/plain": [
       "<AxesSubplot:xlabel='incm5', ylabel='obese'>"
      ]
     },
     "execution_count": 144,
     "metadata": {},
     "output_type": "execute_result"
    },
    {
     "data": {
      "image/png": "[encoded data removed]",
      "text/plain": [
       "<Figure size 432x288 with 1 Axes>"
      ]
     },
     "metadata": {
      "needs_background": "light"
     },
     "output_type": "display_data"
    }
   ],
   "source": [
    "sns.violinplot(x = 'incm5' , y = 'obese', data = data19)"
   ]
  },
  {
   "cell_type": "code",
   "execution_count": 146,
   "metadata": {},
   "outputs": [
    {
     "name": "stdout",
     "output_type": "stream",
     "text": [
      "[-0.0168964412136825, 0.1290814105495174]\n",
      "[-0.016891025102284348, 0.1292041680569789]\n"
     ]
    }
   ],
   "source": [
    "data19_obese = pd.DataFrame(data19.obese, data19.incm5)\n",
    "data19_obese = data19_obese.reset_index()\n",
    "data19_obese['obese_pr_needs'] = [np.nan if b > 1 else b for b in data19['obese']]\n",
    "data19_obese = data19_obese.dropna()\n",
    "[R1, p1] = stats.pearsonr(data19_obese.incm5, data19_obese.obese_pr_needs)\n",
    "print([R1, p1])\n",
    "[R2, p2] = stats.spearmanr(data19_obese.incm5, data19_obese.obese_pr_needs)\n",
    "print([R2, p2])"
   ]
  },
  {
   "cell_type": "markdown",
   "metadata": {},
   "source": [
    "전 소득분위에서 약 0.3정도의 비율이 나오고 있고 두 상관관계 검정에서 p값이 0.05보다 큰 값이 나오므로 소득과 비만율은 관계가 없는 것으로 보인다."
   ]
  },
  {
   "cell_type": "markdown",
   "metadata": {},
   "source": [
    "# 2010~ 2019년 국민건강영양조사 csv를 사용하여 시간에 따른 소득과 질병 유병 여부 사이의 관계 변화 알아보기"
   ]
  },
  {
   "cell_type": "markdown",
   "metadata": {},
   "source": [
    "유의미한 관계를 보인 질병들(우울증, 갑상선암)을 기준으로 시간의 흐름에 따라 관계를 파악해보았다."
   ]
  },
  {
   "cell_type": "code",
   "execution_count": 49,
   "metadata": {},
   "outputs": [],
   "source": [
    "plt.rc('font', family='Malgun Gothic')"
   ]
  },
  {
   "cell_type": "code",
   "execution_count": 50,
   "metadata": {},
   "outputs": [],
   "source": [
    "data10 = pd.read_csv('hn10_all.csv', encoding = 'cp949', low_memory = False)\n",
    "data11 = pd.read_csv('hn11_all.csv', encoding = 'cp949', low_memory = False)\n",
    "data12 = pd.read_csv('hn12_all.csv', encoding = 'cp949', low_memory = False)\n",
    "data13 = pd.read_csv('hn13_all.csv', encoding = 'cp949', low_memory = False)\n",
    "data14 = pd.read_csv('hn14_all.csv', encoding = 'cp949', low_memory = False)"
   ]
  },
  {
   "cell_type": "code",
   "execution_count": 51,
   "metadata": {},
   "outputs": [],
   "source": [
    "data15 = pd.read_csv('hn15_all.csv', encoding = 'cp949', low_memory = False)\n",
    "data16 = pd.read_csv('hn16_all.csv', encoding = 'cp949', low_memory = False)\n",
    "data17 = pd.read_csv('hn17_all.csv', encoding = 'cp949', low_memory = False)\n",
    "data18 = pd.read_csv('hn18_all.csv', encoding = 'cp949', low_memory = False)\n",
    "data19 = pd.read_csv('hn19_all.csv', encoding = 'cp949', low_memory = False)"
   ]
  },
  {
   "cell_type": "markdown",
   "metadata": {},
   "source": [
    "## 시간에 따른 소득과 우울증 발병 사이의 관계 변화"
   ]
  },
  {
   "cell_type": "code",
   "execution_count": 76,
   "metadata": {},
   "outputs": [],
   "source": [
    "data10['DF2_pr_needs10'] = [np.nan if b > 1 else b for b in data10['DF2_pr']]\n",
    "data11['DF2_pr_needs11'] = [np.nan if b > 1 else b for b in data11['DF2_pr']]\n",
    "data12['DF2_pr_needs12'] = [np.nan if b > 1 else b for b in data12['DF2_pr']]\n",
    "data13['DF2_pr_needs13'] = [np.nan if b > 1 else b for b in data13['DF2_pr']]\n",
    "data14['DF2_pr_needs14'] = [np.nan if b > 1 else b for b in data14['DF2_pr']]\n",
    "data15['DF2_pr_needs15'] = [np.nan if b > 1 else b for b in data15['DF2_pr']]\n",
    "data16['DF2_pr_needs16'] = [np.nan if b > 1 else b for b in data16['DF2_pr']]\n",
    "data17['DF2_pr_needs17'] = [np.nan if b > 1 else b for b in data17['DF2_pr']]\n",
    "data18['DF2_pr_needs18'] = [np.nan if b > 1 else b for b in data18['DF2_pr']]\n",
    "data19['DF2_pr_needs19'] = [np.nan if b > 1 else b for b in data19['DF2_pr']]\n",
    "DF2_ratio10 = pd.DataFrame(data10.dropna(subset = ['DF2_pr_needs10']).groupby('incm5')['DF2_pr_needs10'].mean())\n",
    "DF2_ratio11 = pd.DataFrame(data11.dropna(subset = ['DF2_pr_needs11']).groupby('incm5')['DF2_pr_needs11'].mean())\n",
    "DF2_ratio12 = pd.DataFrame(data12.dropna(subset = ['DF2_pr_needs12']).groupby('incm5')['DF2_pr_needs12'].mean())\n",
    "DF2_ratio13 = pd.DataFrame(data13.dropna(subset = ['DF2_pr_needs13']).groupby('incm5')['DF2_pr_needs13'].mean())\n",
    "DF2_ratio14 = pd.DataFrame(data14.dropna(subset = ['DF2_pr_needs14']).groupby('incm5')['DF2_pr_needs14'].mean())\n",
    "DF2_ratio15 = pd.DataFrame(data15.dropna(subset = ['DF2_pr_needs15']).groupby('incm5')['DF2_pr_needs15'].mean())\n",
    "DF2_ratio16 = pd.DataFrame(data16.dropna(subset = ['DF2_pr_needs16']).groupby('incm5')['DF2_pr_needs16'].mean())\n",
    "DF2_ratio17 = pd.DataFrame(data17.dropna(subset = ['DF2_pr_needs17']).groupby('incm5')['DF2_pr_needs17'].mean())\n",
    "DF2_ratio18 = pd.DataFrame(data18.dropna(subset = ['DF2_pr_needs18']).groupby('incm5')['DF2_pr_needs18'].mean())\n",
    "DF2_ratio19 = pd.DataFrame(data19.dropna(subset = ['DF2_pr_needs19']).groupby('incm5')['DF2_pr_needs19'].mean())"
   ]
  },
  {
   "cell_type": "markdown",
   "metadata": {},
   "source": [
    "data.dropna(subset = ['DF2_pr_needs])는 특정 column에 대해 dropna를 해주는 것."
   ]
  },
  {
   "cell_type": "code",
   "execution_count": 77,
   "metadata": {},
   "outputs": [
    {
     "data": {
      "text/html": [
       "<div>\n",
       "<style scoped>\n",
       "    .dataframe tbody tr th:only-of-type {\n",
       "        vertical-align: middle;\n",
       "    }\n",
       "\n",
       "    .dataframe tbody tr th {\n",
       "        vertical-align: top;\n",
       "    }\n",
       "\n",
       "    .dataframe thead th {\n",
       "        text-align: right;\n",
       "    }\n",
       "</style>\n",
       "<table border=\"1\" class=\"dataframe\">\n",
       "  <thead>\n",
       "    <tr style=\"text-align: right;\">\n",
       "      <th>incm5</th>\n",
       "      <th>1.0</th>\n",
       "      <th>2.0</th>\n",
       "      <th>3.0</th>\n",
       "      <th>4.0</th>\n",
       "      <th>5.0</th>\n",
       "    </tr>\n",
       "  </thead>\n",
       "  <tbody>\n",
       "    <tr>\n",
       "      <th>DF2_pr_needs10</th>\n",
       "      <td>0.155963</td>\n",
       "      <td>0.117647</td>\n",
       "      <td>0.084577</td>\n",
       "      <td>0.088235</td>\n",
       "      <td>0.088608</td>\n",
       "    </tr>\n",
       "    <tr>\n",
       "      <th>DF2_pr_needs11</th>\n",
       "      <td>0.161826</td>\n",
       "      <td>0.134328</td>\n",
       "      <td>0.141104</td>\n",
       "      <td>0.124138</td>\n",
       "      <td>0.121622</td>\n",
       "    </tr>\n",
       "    <tr>\n",
       "      <th>DF2_pr_needs12</th>\n",
       "      <td>0.210784</td>\n",
       "      <td>0.127907</td>\n",
       "      <td>0.127907</td>\n",
       "      <td>0.158228</td>\n",
       "      <td>0.165414</td>\n",
       "    </tr>\n",
       "    <tr>\n",
       "      <th>DF2_pr_needs13</th>\n",
       "      <td>0.681818</td>\n",
       "      <td>0.533333</td>\n",
       "      <td>0.531250</td>\n",
       "      <td>0.516129</td>\n",
       "      <td>0.333333</td>\n",
       "    </tr>\n",
       "    <tr>\n",
       "      <th>DF2_pr_needs14</th>\n",
       "      <td>0.746479</td>\n",
       "      <td>0.625000</td>\n",
       "      <td>0.581818</td>\n",
       "      <td>0.458333</td>\n",
       "      <td>0.439024</td>\n",
       "    </tr>\n",
       "    <tr>\n",
       "      <th>DF2_pr_needs15</th>\n",
       "      <td>0.787500</td>\n",
       "      <td>0.583333</td>\n",
       "      <td>0.606061</td>\n",
       "      <td>0.440000</td>\n",
       "      <td>0.487179</td>\n",
       "    </tr>\n",
       "    <tr>\n",
       "      <th>DF2_pr_needs16</th>\n",
       "      <td>0.770115</td>\n",
       "      <td>0.580000</td>\n",
       "      <td>0.674419</td>\n",
       "      <td>0.577778</td>\n",
       "      <td>0.568627</td>\n",
       "    </tr>\n",
       "    <tr>\n",
       "      <th>DF2_pr_needs17</th>\n",
       "      <td>0.714286</td>\n",
       "      <td>0.725490</td>\n",
       "      <td>0.644444</td>\n",
       "      <td>0.500000</td>\n",
       "      <td>0.466667</td>\n",
       "    </tr>\n",
       "    <tr>\n",
       "      <th>DF2_pr_needs18</th>\n",
       "      <td>0.617284</td>\n",
       "      <td>0.551724</td>\n",
       "      <td>0.529412</td>\n",
       "      <td>0.512195</td>\n",
       "      <td>0.622222</td>\n",
       "    </tr>\n",
       "    <tr>\n",
       "      <th>DF2_pr_needs19</th>\n",
       "      <td>0.741573</td>\n",
       "      <td>0.606557</td>\n",
       "      <td>0.428571</td>\n",
       "      <td>0.400000</td>\n",
       "      <td>0.378378</td>\n",
       "    </tr>\n",
       "  </tbody>\n",
       "</table>\n",
       "</div>"
      ],
      "text/plain": [
       "incm5                1.0       2.0       3.0       4.0       5.0\n",
       "DF2_pr_needs10  0.155963  0.117647  0.084577  0.088235  0.088608\n",
       "DF2_pr_needs11  0.161826  0.134328  0.141104  0.124138  0.121622\n",
       "DF2_pr_needs12  0.210784  0.127907  0.127907  0.158228  0.165414\n",
       "DF2_pr_needs13  0.681818  0.533333  0.531250  0.516129  0.333333\n",
       "DF2_pr_needs14  0.746479  0.625000  0.581818  0.458333  0.439024\n",
       "DF2_pr_needs15  0.787500  0.583333  0.606061  0.440000  0.487179\n",
       "DF2_pr_needs16  0.770115  0.580000  0.674419  0.577778  0.568627\n",
       "DF2_pr_needs17  0.714286  0.725490  0.644444  0.500000  0.466667\n",
       "DF2_pr_needs18  0.617284  0.551724  0.529412  0.512195  0.622222\n",
       "DF2_pr_needs19  0.741573  0.606557  0.428571  0.400000  0.378378"
      ]
     },
     "execution_count": 77,
     "metadata": {},
     "output_type": "execute_result"
    }
   ],
   "source": [
    "DF2_ratio = pd.concat([DF2_ratio10, DF2_ratio11 ,DF2_ratio12 ,DF2_ratio13, DF2_ratio14, DF2_ratio15, DF2_ratio16, DF2_ratio17, DF2_ratio18, DF2_ratio19], axis = 1).T\n",
    "DF2_ratio"
   ]
  },
  {
   "cell_type": "code",
   "execution_count": 55,
   "metadata": {},
   "outputs": [
    {
     "data": {
      "text/plain": [
       "([0, 1, 2, 3, 4, 5, 6, 7, 8, 9],\n",
       " [Text(0, 0, ''),\n",
       "  Text(0, 0, ''),\n",
       "  Text(0, 0, ''),\n",
       "  Text(0, 0, ''),\n",
       "  Text(0, 0, ''),\n",
       "  Text(0, 0, ''),\n",
       "  Text(0, 0, ''),\n",
       "  Text(0, 0, ''),\n",
       "  Text(0, 0, ''),\n",
       "  Text(0, 0, '')])"
      ]
     },
     "execution_count": 55,
     "metadata": {},
     "output_type": "execute_result"
    },
    {
     "data": {
      "image/png": "[encoded data removed]",
      "text/plain": [
       "<Figure size 432x288 with 1 Axes>"
      ]
     },
     "metadata": {
      "needs_background": "light"
     },
     "output_type": "display_data"
    }
   ],
   "source": [
    "plt.plot(DF2_ratio)\n",
    "plt.legend(['1분위', '2분위', '3분위', '4분위', '5분위'], loc = 'lower right')\n",
    "plt.xticks(rotation = -60)"
   ]
  },
  {
   "cell_type": "markdown",
   "metadata": {},
   "source": [
    "전체 소득 분위에서 2012년 이후 우울증 비율이 급격히 증가하는 것을 알 수 있으며 시간이 지남에도 소득 수준이 낮을수록 우울증 발병 비율이 높다는 것을 알 수 있다."
   ]
  },
  {
   "cell_type": "markdown",
   "metadata": {},
   "source": [
    "## 시간에 따른 소득과 갑상선암 발병 사이의 관계 변화"
   ]
  },
  {
   "cell_type": "code",
   "execution_count": 56,
   "metadata": {},
   "outputs": [],
   "source": [
    "data10['DC3_pr_needs10'] = [np.nan if b > 1 else b for b in data10['DC3_pr']]\n",
    "data11['DC3_pr_needs11'] = [np.nan if b > 1 else b for b in data11['DC3_pr']]\n",
    "data12['DC3_pr_needs12'] = [np.nan if b > 1 else b for b in data12['DC3_pr']]\n",
    "data13['DC3_pr_needs13'] = [np.nan if b > 1 else b for b in data13['DC3_pr']]\n",
    "data14['DC3_pr_needs14'] = [np.nan if b > 1 else b for b in data14['DC3_pr']]\n",
    "data15['DC3_pr_needs15'] = [np.nan if b > 1 else b for b in data15['DC3_pr']]\n",
    "data16['DC3_pr_needs16'] = [np.nan if b > 1 else b for b in data16['DC3_pr']]\n",
    "data17['DC3_pr_needs17'] = [np.nan if b > 1 else b for b in data17['DC3_pr']]\n",
    "data18['DC3_pr_needs18'] = [np.nan if b > 1 else b for b in data18['DC3_pr']]\n",
    "data19['DC3_pr_needs19'] = [np.nan if b > 1 else b for b in data19['DC3_pr']]\n",
    "DC3_ratio10 = pd.DataFrame(data10.dropna(subset = ['DC3_pr_needs10']).groupby('incm5')['DC3_pr_needs10'].mean())\n",
    "DC3_ratio11 = pd.DataFrame(data11.dropna(subset = ['DC3_pr_needs11']).groupby('incm5')['DC3_pr_needs11'].mean())\n",
    "DC3_ratio12 = pd.DataFrame(data12.dropna(subset = ['DC3_pr_needs12']).groupby('incm5')['DC3_pr_needs12'].mean())\n",
    "DC3_ratio13 = pd.DataFrame(data13.dropna(subset = ['DC3_pr_needs13']).groupby('incm5')['DC3_pr_needs13'].mean())\n",
    "DC3_ratio14 = pd.DataFrame(data14.dropna(subset = ['DC3_pr_needs14']).groupby('incm5')['DC3_pr_needs14'].mean())\n",
    "DC3_ratio15 = pd.DataFrame(data15.dropna(subset = ['DC3_pr_needs15']).groupby('incm5')['DC3_pr_needs15'].mean())\n",
    "DC3_ratio16 = pd.DataFrame(data16.dropna(subset = ['DC3_pr_needs16']).groupby('incm5')['DC3_pr_needs16'].mean())\n",
    "DC3_ratio17 = pd.DataFrame(data17.dropna(subset = ['DC3_pr_needs17']).groupby('incm5')['DC3_pr_needs17'].mean())\n",
    "DC3_ratio18 = pd.DataFrame(data18.dropna(subset = ['DC3_pr_needs18']).groupby('incm5')['DC3_pr_needs18'].mean())\n",
    "DC3_ratio19 = pd.DataFrame(data19.dropna(subset = ['DC3_pr_needs19']).groupby('incm5')['DC3_pr_needs19'].mean())"
   ]
  },
  {
   "cell_type": "code",
   "execution_count": 57,
   "metadata": {},
   "outputs": [
    {
     "data": {
      "text/html": [
       "<div>\n",
       "<style scoped>\n",
       "    .dataframe tbody tr th:only-of-type {\n",
       "        vertical-align: middle;\n",
       "    }\n",
       "\n",
       "    .dataframe tbody tr th {\n",
       "        vertical-align: top;\n",
       "    }\n",
       "\n",
       "    .dataframe thead th {\n",
       "        text-align: right;\n",
       "    }\n",
       "</style>\n",
       "<table border=\"1\" class=\"dataframe\">\n",
       "  <thead>\n",
       "    <tr style=\"text-align: right;\">\n",
       "      <th>incm5</th>\n",
       "      <th>1.0</th>\n",
       "      <th>2.0</th>\n",
       "      <th>3.0</th>\n",
       "      <th>4.0</th>\n",
       "      <th>5.0</th>\n",
       "    </tr>\n",
       "  </thead>\n",
       "  <tbody>\n",
       "    <tr>\n",
       "      <th>DC3_pr_needs10</th>\n",
       "      <td>0.666667</td>\n",
       "      <td>0.333333</td>\n",
       "      <td>0.250000</td>\n",
       "      <td>0.000000</td>\n",
       "      <td>0.000000</td>\n",
       "    </tr>\n",
       "    <tr>\n",
       "      <th>DC3_pr_needs11</th>\n",
       "      <td>0.555556</td>\n",
       "      <td>0.333333</td>\n",
       "      <td>0.800000</td>\n",
       "      <td>0.583333</td>\n",
       "      <td>0.166667</td>\n",
       "    </tr>\n",
       "    <tr>\n",
       "      <th>DC3_pr_needs12</th>\n",
       "      <td>0.250000</td>\n",
       "      <td>0.333333</td>\n",
       "      <td>0.333333</td>\n",
       "      <td>0.750000</td>\n",
       "      <td>0.500000</td>\n",
       "    </tr>\n",
       "    <tr>\n",
       "      <th>DC3_pr_needs13</th>\n",
       "      <td>0.333333</td>\n",
       "      <td>0.500000</td>\n",
       "      <td>0.333333</td>\n",
       "      <td>0.200000</td>\n",
       "      <td>0.400000</td>\n",
       "    </tr>\n",
       "    <tr>\n",
       "      <th>DC3_pr_needs14</th>\n",
       "      <td>0.666667</td>\n",
       "      <td>0.750000</td>\n",
       "      <td>0.500000</td>\n",
       "      <td>0.666667</td>\n",
       "      <td>0.300000</td>\n",
       "    </tr>\n",
       "    <tr>\n",
       "      <th>DC3_pr_needs15</th>\n",
       "      <td>0.800000</td>\n",
       "      <td>0.300000</td>\n",
       "      <td>0.285714</td>\n",
       "      <td>0.000000</td>\n",
       "      <td>0.250000</td>\n",
       "    </tr>\n",
       "    <tr>\n",
       "      <th>DC3_pr_needs16</th>\n",
       "      <td>0.000000</td>\n",
       "      <td>0.333333</td>\n",
       "      <td>0.250000</td>\n",
       "      <td>0.333333</td>\n",
       "      <td>0.333333</td>\n",
       "    </tr>\n",
       "    <tr>\n",
       "      <th>DC3_pr_needs17</th>\n",
       "      <td>0.400000</td>\n",
       "      <td>0.000000</td>\n",
       "      <td>0.166667</td>\n",
       "      <td>0.300000</td>\n",
       "      <td>0.200000</td>\n",
       "    </tr>\n",
       "    <tr>\n",
       "      <th>DC3_pr_needs18</th>\n",
       "      <td>0.250000</td>\n",
       "      <td>0.800000</td>\n",
       "      <td>0.400000</td>\n",
       "      <td>0.444444</td>\n",
       "      <td>0.500000</td>\n",
       "    </tr>\n",
       "    <tr>\n",
       "      <th>DC3_pr_needs19</th>\n",
       "      <td>0.200000</td>\n",
       "      <td>0.400000</td>\n",
       "      <td>0.210526</td>\n",
       "      <td>0.333333</td>\n",
       "      <td>0.250000</td>\n",
       "    </tr>\n",
       "  </tbody>\n",
       "</table>\n",
       "</div>"
      ],
      "text/plain": [
       "incm5                1.0       2.0       3.0       4.0       5.0\n",
       "DC3_pr_needs10  0.666667  0.333333  0.250000  0.000000  0.000000\n",
       "DC3_pr_needs11  0.555556  0.333333  0.800000  0.583333  0.166667\n",
       "DC3_pr_needs12  0.250000  0.333333  0.333333  0.750000  0.500000\n",
       "DC3_pr_needs13  0.333333  0.500000  0.333333  0.200000  0.400000\n",
       "DC3_pr_needs14  0.666667  0.750000  0.500000  0.666667  0.300000\n",
       "DC3_pr_needs15  0.800000  0.300000  0.285714  0.000000  0.250000\n",
       "DC3_pr_needs16  0.000000  0.333333  0.250000  0.333333  0.333333\n",
       "DC3_pr_needs17  0.400000  0.000000  0.166667  0.300000  0.200000\n",
       "DC3_pr_needs18  0.250000  0.800000  0.400000  0.444444  0.500000\n",
       "DC3_pr_needs19  0.200000  0.400000  0.210526  0.333333  0.250000"
      ]
     },
     "execution_count": 57,
     "metadata": {},
     "output_type": "execute_result"
    }
   ],
   "source": [
    "DC3_ratio = pd.concat([DC3_ratio10, DC3_ratio11 ,DC3_ratio12 ,DC3_ratio13, DC3_ratio14, DC3_ratio15, DC3_ratio16, DC3_ratio17, DC3_ratio18, DC3_ratio19], axis = 1).T\n",
    "DC3_ratio"
   ]
  },
  {
   "cell_type": "code",
   "execution_count": 58,
   "metadata": {},
   "outputs": [
    {
     "data": {
      "text/plain": [
       "([0, 1, 2, 3, 4, 5, 6, 7, 8, 9],\n",
       " [Text(0, 0, ''),\n",
       "  Text(0, 0, ''),\n",
       "  Text(0, 0, ''),\n",
       "  Text(0, 0, ''),\n",
       "  Text(0, 0, ''),\n",
       "  Text(0, 0, ''),\n",
       "  Text(0, 0, ''),\n",
       "  Text(0, 0, ''),\n",
       "  Text(0, 0, ''),\n",
       "  Text(0, 0, '')])"
      ]
     },
     "execution_count": 58,
     "metadata": {},
     "output_type": "execute_result"
    },
    {
     "data": {
      "image/png": "[encoded data removed]",
      "text/plain": [
       "<Figure size 432x288 with 1 Axes>"
      ]
     },
     "metadata": {
      "needs_background": "light"
     },
     "output_type": "display_data"
    }
   ],
   "source": [
    "plt.plot(DC3_ratio)\n",
    "plt.legend(['1분위', '2분위', '3분위', '4분위', '5분위'], loc = 'lower right')\n",
    "plt.xticks(rotation = -60)"
   ]
  },
  {
   "cell_type": "markdown",
   "metadata": {},
   "source": [
    "우울증과 달리 갑상선암은 시간에 따라 그래프 개형이 들쭉날쭉함을 알 수 있다. 그러므로 갑상선암은 2019년도에 일시적으로 소득 분위가 높을 수록 갑상선암에 걸린 환자의 비율이 줄어든 것처럼 보인 것이며 소득과 갑상선암은 관계가 없다는 결론을 내릴 수 있다."
   ]
  },
  {
   "cell_type": "markdown",
   "metadata": {},
   "source": [
    "# Summary"
   ]
  },
  {
   "cell_type": "markdown",
   "metadata": {},
   "source": [
    "·2019년 국민건강영양조사 데이터셋 상에서 소득과 질병 사이에 유의미한 관계를 보였던 질병은 우울증과 갑상선암 두 질병이다."
   ]
  },
  {
   "cell_type": "markdown",
   "metadata": {},
   "source": [
    "·여러 햇수의 데이터셋을 모아 시간에 따른 비율 변화를 관찰하면 그 비율이 비슷하게 유지될수도 아닐 수도 있다."
   ]
  },
  {
   "cell_type": "code",
   "execution_count": null,
   "metadata": {},
   "outputs": [],
   "source": []
  }
 ],
 "metadata": {
  "kernelspec": {
   "display_name": "Python 3",
   "language": "python",
   "name": "python3"
  },
  "language_info": {
   "codemirror_mode": {
    "name": "ipython",
    "version": 3
   },
   "file_extension": ".py",
   "mimetype": "text/x-python",
   "name": "python",
   "nbconvert_exporter": "python",
   "pygments_lexer": "ipython3",
   "version": "3.8.2"
  }
 },
 "nbformat": 4,
 "nbformat_minor": 4
}
