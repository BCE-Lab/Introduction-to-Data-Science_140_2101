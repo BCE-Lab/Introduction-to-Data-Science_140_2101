{
 "cells": [
  {
   "cell_type": "code",
   "execution_count": 2,
   "metadata": {},
   "outputs": [
    {
     "data": {
      "text/plain": [
       "'%.3f'"
      ]
     },
     "execution_count": 2,
     "metadata": {},
     "output_type": "execute_result"
    }
   ],
   "source": [
    "# 아래와 같이 필요한 라이브러리를 임포트 합니다.\n",
    "import numpy as np\n",
    "import scipy as sp\n",
    "import pandas as pd\n",
    "from pandas import Series, DataFrame\n",
    "\n",
    "# 시각화 라이브러리\n",
    "import matplotlib.pyplot as plt\n",
    "import seaborn as sns\n",
    "sns.set()\n",
    "%matplotlib inline\n",
    "\n",
    "# 한글 폰트 설정 (맑은고딕)\n",
    "plt.rc('font', family='Malgun Gothic') # For Windows\n",
    "\n",
    "# 소수점 3자리 숫자까지 표시\n",
    "%precision 3"
   ]
  },
  {
   "cell_type": "code",
   "execution_count": 3,
   "metadata": {
    "scrolled": true
   },
   "outputs": [
    {
     "data": {
      "text/html": [
       "<div>\n",
       "<style scoped>\n",
       "    .dataframe tbody tr th:only-of-type {\n",
       "        vertical-align: middle;\n",
       "    }\n",
       "\n",
       "    .dataframe tbody tr th {\n",
       "        vertical-align: top;\n",
       "    }\n",
       "\n",
       "    .dataframe thead th {\n",
       "        text-align: right;\n",
       "    }\n",
       "</style>\n",
       "<table border=\"1\" class=\"dataframe\">\n",
       "  <thead>\n",
       "    <tr style=\"text-align: right;\">\n",
       "      <th></th>\n",
       "      <th>mod_d</th>\n",
       "      <th>ID</th>\n",
       "      <th>ID_fam</th>\n",
       "      <th>year</th>\n",
       "      <th>region</th>\n",
       "      <th>town_t</th>\n",
       "      <th>apt_t</th>\n",
       "      <th>psu</th>\n",
       "      <th>sex</th>\n",
       "      <th>age</th>\n",
       "      <th>...</th>\n",
       "      <th>HEI_TVEG</th>\n",
       "      <th>HEI_VEG</th>\n",
       "      <th>HEI_PROTF</th>\n",
       "      <th>HEI_DAIRY</th>\n",
       "      <th>HEI_SFA</th>\n",
       "      <th>HEI_NA</th>\n",
       "      <th>HEI_SWEET</th>\n",
       "      <th>HEI_CHO</th>\n",
       "      <th>HEI_FAT</th>\n",
       "      <th>HEI_EN</th>\n",
       "    </tr>\n",
       "  </thead>\n",
       "  <tbody>\n",
       "    <tr>\n",
       "      <th>0</th>\n",
       "      <td>2020.09.01.</td>\n",
       "      <td>A901020501</td>\n",
       "      <td>A9010205</td>\n",
       "      <td>2018</td>\n",
       "      <td>1</td>\n",
       "      <td>1</td>\n",
       "      <td>2</td>\n",
       "      <td>A901</td>\n",
       "      <td>1</td>\n",
       "      <td>80</td>\n",
       "      <td>...</td>\n",
       "      <td>1.36716</td>\n",
       "      <td>0.775022</td>\n",
       "      <td>5.8</td>\n",
       "      <td>0</td>\n",
       "      <td>5.27348</td>\n",
       "      <td>10</td>\n",
       "      <td>10</td>\n",
       "      <td>5</td>\n",
       "      <td>5</td>\n",
       "      <td>0</td>\n",
       "    </tr>\n",
       "    <tr>\n",
       "      <th>1</th>\n",
       "      <td>2020.09.01.</td>\n",
       "      <td>A901021301</td>\n",
       "      <td>A9010213</td>\n",
       "      <td>2018</td>\n",
       "      <td>1</td>\n",
       "      <td>1</td>\n",
       "      <td>2</td>\n",
       "      <td>A901</td>\n",
       "      <td>1</td>\n",
       "      <td>78</td>\n",
       "      <td>...</td>\n",
       "      <td>4.88104</td>\n",
       "      <td>1.64181</td>\n",
       "      <td>10</td>\n",
       "      <td>10</td>\n",
       "      <td>10</td>\n",
       "      <td>3.4188</td>\n",
       "      <td>10</td>\n",
       "      <td>4.34525</td>\n",
       "      <td>2.95657</td>\n",
       "      <td>5</td>\n",
       "    </tr>\n",
       "    <tr>\n",
       "      <th>2</th>\n",
       "      <td>2020.09.01.</td>\n",
       "      <td>A901021302</td>\n",
       "      <td>A9010213</td>\n",
       "      <td>2018</td>\n",
       "      <td>1</td>\n",
       "      <td>1</td>\n",
       "      <td>2</td>\n",
       "      <td>A901</td>\n",
       "      <td>2</td>\n",
       "      <td>75</td>\n",
       "      <td>...</td>\n",
       "      <td>3.36765</td>\n",
       "      <td>4.94363</td>\n",
       "      <td>4.84972</td>\n",
       "      <td>10</td>\n",
       "      <td>0</td>\n",
       "      <td>9.80616</td>\n",
       "      <td>10</td>\n",
       "      <td>5</td>\n",
       "      <td>5</td>\n",
       "      <td>5</td>\n",
       "    </tr>\n",
       "    <tr>\n",
       "      <th>3</th>\n",
       "      <td>2020.09.01.</td>\n",
       "      <td>A901022601</td>\n",
       "      <td>A9010226</td>\n",
       "      <td>2018</td>\n",
       "      <td>1</td>\n",
       "      <td>1</td>\n",
       "      <td>2</td>\n",
       "      <td>A901</td>\n",
       "      <td>2</td>\n",
       "      <td>43</td>\n",
       "      <td>...</td>\n",
       "      <td></td>\n",
       "      <td></td>\n",
       "      <td></td>\n",
       "      <td></td>\n",
       "      <td></td>\n",
       "      <td></td>\n",
       "      <td></td>\n",
       "      <td></td>\n",
       "      <td></td>\n",
       "      <td></td>\n",
       "    </tr>\n",
       "    <tr>\n",
       "      <th>4</th>\n",
       "      <td>2020.09.01.</td>\n",
       "      <td>A901023303</td>\n",
       "      <td>A9010233</td>\n",
       "      <td>2018</td>\n",
       "      <td>1</td>\n",
       "      <td>1</td>\n",
       "      <td>2</td>\n",
       "      <td>A901</td>\n",
       "      <td>2</td>\n",
       "      <td>80</td>\n",
       "      <td>...</td>\n",
       "      <td>4.6194</td>\n",
       "      <td>0.437024</td>\n",
       "      <td>1.95156</td>\n",
       "      <td>0</td>\n",
       "      <td>10</td>\n",
       "      <td>8.02951</td>\n",
       "      <td>10</td>\n",
       "      <td>0</td>\n",
       "      <td>0</td>\n",
       "      <td>1.24413</td>\n",
       "    </tr>\n",
       "    <tr>\n",
       "      <th>5</th>\n",
       "      <td>2020.09.01.</td>\n",
       "      <td>A901023304</td>\n",
       "      <td>A9010233</td>\n",
       "      <td>2018</td>\n",
       "      <td>1</td>\n",
       "      <td>1</td>\n",
       "      <td>2</td>\n",
       "      <td>A901</td>\n",
       "      <td>2</td>\n",
       "      <td>71</td>\n",
       "      <td>...</td>\n",
       "      <td>2.45956</td>\n",
       "      <td>3.50312</td>\n",
       "      <td>2.13588</td>\n",
       "      <td>10</td>\n",
       "      <td>0</td>\n",
       "      <td>10</td>\n",
       "      <td>10</td>\n",
       "      <td>3.47727</td>\n",
       "      <td>5</td>\n",
       "      <td>5</td>\n",
       "    </tr>\n",
       "    <tr>\n",
       "      <th>6</th>\n",
       "      <td>2020.09.01.</td>\n",
       "      <td>A901023501</td>\n",
       "      <td>A9010235</td>\n",
       "      <td>2018</td>\n",
       "      <td>1</td>\n",
       "      <td>1</td>\n",
       "      <td>2</td>\n",
       "      <td>A901</td>\n",
       "      <td>1</td>\n",
       "      <td>44</td>\n",
       "      <td>...</td>\n",
       "      <td>2.36897</td>\n",
       "      <td>1.64036</td>\n",
       "      <td>5.37917</td>\n",
       "      <td>0</td>\n",
       "      <td>10</td>\n",
       "      <td>10</td>\n",
       "      <td>10</td>\n",
       "      <td>0</td>\n",
       "      <td>0</td>\n",
       "      <td>0</td>\n",
       "    </tr>\n",
       "    <tr>\n",
       "      <th>7</th>\n",
       "      <td>2020.09.01.</td>\n",
       "      <td>A901023502</td>\n",
       "      <td>A9010235</td>\n",
       "      <td>2018</td>\n",
       "      <td>1</td>\n",
       "      <td>1</td>\n",
       "      <td>2</td>\n",
       "      <td>A901</td>\n",
       "      <td>2</td>\n",
       "      <td>42</td>\n",
       "      <td>...</td>\n",
       "      <td>1.07001</td>\n",
       "      <td>0.762023</td>\n",
       "      <td>3.35412</td>\n",
       "      <td>0</td>\n",
       "      <td>10</td>\n",
       "      <td>10</td>\n",
       "      <td>10</td>\n",
       "      <td>0</td>\n",
       "      <td>0</td>\n",
       "      <td>0</td>\n",
       "    </tr>\n",
       "    <tr>\n",
       "      <th>8</th>\n",
       "      <td>2020.09.01.</td>\n",
       "      <td>A901023503</td>\n",
       "      <td>A9010235</td>\n",
       "      <td>2018</td>\n",
       "      <td>1</td>\n",
       "      <td>1</td>\n",
       "      <td>2</td>\n",
       "      <td>A901</td>\n",
       "      <td>2</td>\n",
       "      <td>13</td>\n",
       "      <td>...</td>\n",
       "      <td></td>\n",
       "      <td></td>\n",
       "      <td></td>\n",
       "      <td></td>\n",
       "      <td></td>\n",
       "      <td></td>\n",
       "      <td></td>\n",
       "      <td></td>\n",
       "      <td></td>\n",
       "      <td></td>\n",
       "    </tr>\n",
       "    <tr>\n",
       "      <th>9</th>\n",
       "      <td>2020.09.01.</td>\n",
       "      <td>A901023504</td>\n",
       "      <td>A9010235</td>\n",
       "      <td>2018</td>\n",
       "      <td>1</td>\n",
       "      <td>1</td>\n",
       "      <td>2</td>\n",
       "      <td>A901</td>\n",
       "      <td>1</td>\n",
       "      <td>11</td>\n",
       "      <td>...</td>\n",
       "      <td></td>\n",
       "      <td></td>\n",
       "      <td></td>\n",
       "      <td></td>\n",
       "      <td></td>\n",
       "      <td></td>\n",
       "      <td></td>\n",
       "      <td></td>\n",
       "      <td></td>\n",
       "      <td></td>\n",
       "    </tr>\n",
       "    <tr>\n",
       "      <th>10</th>\n",
       "      <td>2020.09.01.</td>\n",
       "      <td>A901023901</td>\n",
       "      <td>A9010239</td>\n",
       "      <td>2018</td>\n",
       "      <td>1</td>\n",
       "      <td>1</td>\n",
       "      <td>2</td>\n",
       "      <td>A901</td>\n",
       "      <td>1</td>\n",
       "      <td>36</td>\n",
       "      <td>...</td>\n",
       "      <td></td>\n",
       "      <td></td>\n",
       "      <td></td>\n",
       "      <td></td>\n",
       "      <td></td>\n",
       "      <td></td>\n",
       "      <td></td>\n",
       "      <td></td>\n",
       "      <td></td>\n",
       "      <td></td>\n",
       "    </tr>\n",
       "    <tr>\n",
       "      <th>11</th>\n",
       "      <td>2020.09.01.</td>\n",
       "      <td>A901023902</td>\n",
       "      <td>A9010239</td>\n",
       "      <td>2018</td>\n",
       "      <td>1</td>\n",
       "      <td>1</td>\n",
       "      <td>2</td>\n",
       "      <td>A901</td>\n",
       "      <td>2</td>\n",
       "      <td>30</td>\n",
       "      <td>...</td>\n",
       "      <td>0.704281</td>\n",
       "      <td>1.12685</td>\n",
       "      <td>2.23723</td>\n",
       "      <td>10</td>\n",
       "      <td>10</td>\n",
       "      <td>10</td>\n",
       "      <td>10</td>\n",
       "      <td>0</td>\n",
       "      <td>1.05516</td>\n",
       "      <td>5</td>\n",
       "    </tr>\n",
       "    <tr>\n",
       "      <th>12</th>\n",
       "      <td>2020.09.01.</td>\n",
       "      <td>A901023903</td>\n",
       "      <td>A9010239</td>\n",
       "      <td>2018</td>\n",
       "      <td>1</td>\n",
       "      <td>1</td>\n",
       "      <td>2</td>\n",
       "      <td>A901</td>\n",
       "      <td>1</td>\n",
       "      <td>2</td>\n",
       "      <td>...</td>\n",
       "      <td></td>\n",
       "      <td></td>\n",
       "      <td></td>\n",
       "      <td></td>\n",
       "      <td></td>\n",
       "      <td></td>\n",
       "      <td></td>\n",
       "      <td></td>\n",
       "      <td></td>\n",
       "      <td></td>\n",
       "    </tr>\n",
       "    <tr>\n",
       "      <th>13</th>\n",
       "      <td>2020.09.01.</td>\n",
       "      <td>A901024801</td>\n",
       "      <td>A9010248</td>\n",
       "      <td>2018</td>\n",
       "      <td>1</td>\n",
       "      <td>1</td>\n",
       "      <td>2</td>\n",
       "      <td>A901</td>\n",
       "      <td>1</td>\n",
       "      <td>57</td>\n",
       "      <td>...</td>\n",
       "      <td>5</td>\n",
       "      <td>5</td>\n",
       "      <td>6.2547</td>\n",
       "      <td>0</td>\n",
       "      <td>10</td>\n",
       "      <td>0</td>\n",
       "      <td>10</td>\n",
       "      <td>0.308137</td>\n",
       "      <td>2.39273</td>\n",
       "      <td>0</td>\n",
       "    </tr>\n",
       "    <tr>\n",
       "      <th>14</th>\n",
       "      <td>2020.09.01.</td>\n",
       "      <td>A901024802</td>\n",
       "      <td>A9010248</td>\n",
       "      <td>2018</td>\n",
       "      <td>1</td>\n",
       "      <td>1</td>\n",
       "      <td>2</td>\n",
       "      <td>A901</td>\n",
       "      <td>2</td>\n",
       "      <td>54</td>\n",
       "      <td>...</td>\n",
       "      <td>3.0698</td>\n",
       "      <td>2.72795</td>\n",
       "      <td>8.24198</td>\n",
       "      <td>10</td>\n",
       "      <td>0</td>\n",
       "      <td>10</td>\n",
       "      <td>10</td>\n",
       "      <td>0</td>\n",
       "      <td>0</td>\n",
       "      <td>0</td>\n",
       "    </tr>\n",
       "  </tbody>\n",
       "</table>\n",
       "<p>15 rows × 785 columns</p>\n",
       "</div>"
      ],
      "text/plain": [
       "          mod_d          ID    ID_fam  year  region  town_t  apt_t   psu  sex  \\\n",
       "0   2020.09.01.  A901020501  A9010205  2018       1       1      2  A901    1   \n",
       "1   2020.09.01.  A901021301  A9010213  2018       1       1      2  A901    1   \n",
       "2   2020.09.01.  A901021302  A9010213  2018       1       1      2  A901    2   \n",
       "3   2020.09.01.  A901022601  A9010226  2018       1       1      2  A901    2   \n",
       "4   2020.09.01.  A901023303  A9010233  2018       1       1      2  A901    2   \n",
       "5   2020.09.01.  A901023304  A9010233  2018       1       1      2  A901    2   \n",
       "6   2020.09.01.  A901023501  A9010235  2018       1       1      2  A901    1   \n",
       "7   2020.09.01.  A901023502  A9010235  2018       1       1      2  A901    2   \n",
       "8   2020.09.01.  A901023503  A9010235  2018       1       1      2  A901    2   \n",
       "9   2020.09.01.  A901023504  A9010235  2018       1       1      2  A901    1   \n",
       "10  2020.09.01.  A901023901  A9010239  2018       1       1      2  A901    1   \n",
       "11  2020.09.01.  A901023902  A9010239  2018       1       1      2  A901    2   \n",
       "12  2020.09.01.  A901023903  A9010239  2018       1       1      2  A901    1   \n",
       "13  2020.09.01.  A901024801  A9010248  2018       1       1      2  A901    1   \n",
       "14  2020.09.01.  A901024802  A9010248  2018       1       1      2  A901    2   \n",
       "\n",
       "    age  ...  HEI_TVEG   HEI_VEG HEI_PROTF HEI_DAIRY  HEI_SFA   HEI_NA  \\\n",
       "0    80  ...   1.36716  0.775022       5.8         0  5.27348       10   \n",
       "1    78  ...   4.88104   1.64181        10        10       10   3.4188   \n",
       "2    75  ...   3.36765   4.94363   4.84972        10        0  9.80616   \n",
       "3    43  ...                                                             \n",
       "4    80  ...    4.6194  0.437024   1.95156         0       10  8.02951   \n",
       "5    71  ...   2.45956   3.50312   2.13588        10        0       10   \n",
       "6    44  ...   2.36897   1.64036   5.37917         0       10       10   \n",
       "7    42  ...   1.07001  0.762023   3.35412         0       10       10   \n",
       "8    13  ...                                                             \n",
       "9    11  ...                                                             \n",
       "10   36  ...                                                             \n",
       "11   30  ...  0.704281   1.12685   2.23723        10       10       10   \n",
       "12    2  ...                                                             \n",
       "13   57  ...         5         5    6.2547         0       10        0   \n",
       "14   54  ...    3.0698   2.72795   8.24198        10        0       10   \n",
       "\n",
       "   HEI_SWEET   HEI_CHO  HEI_FAT   HEI_EN  \n",
       "0         10         5        5        0  \n",
       "1         10   4.34525  2.95657        5  \n",
       "2         10         5        5        5  \n",
       "3                                         \n",
       "4         10         0        0  1.24413  \n",
       "5         10   3.47727        5        5  \n",
       "6         10         0        0        0  \n",
       "7         10         0        0        0  \n",
       "8                                         \n",
       "9                                         \n",
       "10                                        \n",
       "11        10         0  1.05516        5  \n",
       "12                                        \n",
       "13        10  0.308137  2.39273        0  \n",
       "14        10         0        0        0  \n",
       "\n",
       "[15 rows x 785 columns]"
      ]
     },
     "execution_count": 3,
     "metadata": {},
     "output_type": "execute_result"
    }
   ],
   "source": [
    "data = pd.read_excel('국민건강영양조사2018.xlsx')\n",
    "\n",
    "data.head(15)"
   ]
  },
  {
   "cell_type": "markdown",
   "metadata": {},
   "source": [
    "## 결혼 한 사람 안 한 사람 건강 상태 비교"
   ]
  },
  {
   "cell_type": "code",
   "execution_count": 4,
   "metadata": {},
   "outputs": [
    {
     "name": "stderr",
     "output_type": "stream",
     "text": [
      "<ipython-input-4-8ed250a55f82>:2: SettingWithCopyWarning: \n",
      "A value is trying to be set on a copy of a slice from a DataFrame.\n",
      "Try using .loc[row_indexer,col_indexer] = value instead\n",
      "\n",
      "See the caveats in the documentation: https://pandas.pydata.org/pandas-docs/stable/user_guide/indexing.html#returning-a-view-versus-a-copy\n",
      "  data2[\"결혼상태\"]= [\"동거\" if s==1 else (\"별거\" if s==2 else (\"사별\" if s==3 else(\"이혼\"if s==4 else \"미혼\") ))for s in data2['marri_2']]\n"
     ]
    }
   ],
   "source": [
    "data2= data[data['age']>=30]\n",
    "data2[\"결혼상태\"]= [\"동거\" if s==1 else (\"별거\" if s==2 else (\"사별\" if s==3 else(\"이혼\"if s==4 else \"미혼\") ))for s in data2['marri_2']]\n",
    "data3 = data2[(data2.marri_2!=9) | (data2.marri_2!=8) | (data2.marri_2 !=88)| (data2.marri_2 !=99)]\n",
    "data3[\"당뇨상태\"] = [1 if s==1 else 0 for s in data3['DE1_dg'] ]\n",
    "data3[\"고혈압상태\"] = [1 if s==1 else 0 for s in data3['HE_HPdg'] ]\n",
    "data3[\"심근경색상태\"] = [1 if s==1 else 0 for s in data3['DI5_dg'] ]\n",
    "data3[\"우울증상태\"] = [1 if s==1 else 0 for s in data3['DF2_dg'] ]\n",
    "data3[\"뇌졸중상태\"] = [1 if s==1 else 0 for s in data3['DI3_dg'] ]"
   ]
  },
  {
   "cell_type": "markdown",
   "metadata": {},
   "source": [
    "기혼=(별거 + 동거 + 이혼 + 사별)"
   ]
  },
  {
   "cell_type": "code",
   "execution_count": 5,
   "metadata": {
    "scrolled": true
   },
   "outputs": [
    {
     "data": {
      "text/plain": [
       "(array([0, 1, 2, 3, 4]), <a list of 5 Text major ticklabel objects>)"
      ]
     },
     "execution_count": 5,
     "metadata": {},
     "output_type": "execute_result"
    },
    {
     "data": {
      "image/png": "[encoded data removed]",
      "text/plain": [
       "<Figure size 432x288 with 1 Axes>"
      ]
     },
     "metadata": {
      "needs_background": "light"
     },
     "output_type": "display_data"
    }
   ],
   "source": [
    "df=data3.groupby('결혼상태')[['당뇨상태','고혈압상태','심근경색상태','우울증상태','뇌졸중상태']].mean()\n",
    "df.plot(kind='bar')\n",
    "plt.xticks(rotation=0)"
   ]
  },
  {
   "cell_type": "code",
   "execution_count": 6,
   "metadata": {
    "scrolled": true
   },
   "outputs": [
    {
     "data": {
      "text/plain": [
       "<matplotlib.legend.Legend at 0x223ffc56c40>"
      ]
     },
     "execution_count": 6,
     "metadata": {},
     "output_type": "execute_result"
    },
    {
     "data": {
      "image/png": "[encoded data removed]",
      "text/plain": [
       "<Figure size 720x432 with 1 Axes>"
      ]
     },
     "metadata": {
      "needs_background": "light"
     },
     "output_type": "display_data"
    }
   ],
   "source": [
    "\n",
    "a =data3.groupby('결혼상태').sum()[['당뇨상태']]/data3.groupby('결혼상태').count()[['당뇨상태']]\n",
    "b=a.to_numpy().reshape(-1,).reshape(5)\n",
    "c=b/np.sum(b)\n",
    "\n",
    "d =data3.groupby('결혼상태').sum()[['고혈압상태']]/data3.groupby('결혼상태').count()[['고혈압상태']]\n",
    "e=d.to_numpy().reshape(-1,).reshape(5)\n",
    "f=e/np.sum(e)\n",
    "\n",
    "g =data3.groupby('결혼상태').sum()[['심근경색상태']]/data3.groupby('결혼상태').count()[['심근경색상태']]\n",
    "h=g.to_numpy().reshape(-1,).reshape(5)\n",
    "i=h/np.sum(h)\n",
    "\n",
    "j =data3.groupby('결혼상태').sum()[['우울증상태']]/data3.groupby('결혼상태').count()[['우울증상태']]\n",
    "k=j.to_numpy().reshape(-1,).reshape(5)\n",
    "l=k/np.sum(k)\n",
    "\n",
    "m =data3.groupby('결혼상태').sum()[['뇌졸중상태']]/data3.groupby('결혼상태').count()[['뇌졸중상태']]\n",
    "n=m.to_numpy().reshape(-1,).reshape(5)\n",
    "o=n/np.sum(n)\n",
    "\n",
    "x = np.array([ '동거', '미혼', '별거', '사별','이혼']) \n",
    "\n",
    "plt.figure(figsize = (10, 6))\n",
    "\n",
    "p1 = plt.bar(x, c, color = 'red')\n",
    "p2 = plt.bar(x, f, bottom = c, color='orange')\n",
    "p3 = plt.bar(x, i, bottom = f+c, color='pink')\n",
    "p4 = plt.bar(x, l, bottom = i+f+c, color='blue')\n",
    "p5 = plt.bar(x, o, bottom = i+f+c+l, color='green')\n",
    "\n",
    "plt.legend((p1[0], p2[0],p3[0],p4[0],p5[0]), ('당뇨', '고혈압','심근경색','우울증','뇌졸중'))"
   ]
  },
  {
   "cell_type": "markdown",
   "metadata": {},
   "source": [
    "미혼, 별거, 동거, 이혼, 사별 순으로 건강하다."
   ]
  },
  {
   "cell_type": "markdown",
   "metadata": {},
   "source": [
    "## 미혼과 기혼의 건강 상태 비교"
   ]
  },
  {
   "cell_type": "code",
   "execution_count": 7,
   "metadata": {
    "scrolled": true
   },
   "outputs": [
    {
     "data": {
      "image/png": "[encoded data removed]",
      "text/plain": [
       "<Figure size 432x288 with 1 Axes>"
      ]
     },
     "metadata": {
      "needs_background": "light"
     },
     "output_type": "display_data"
    }
   ],
   "source": [
    "t=i+f+c+l+o\n",
    "u=t[[0,2,3,4]].sum()/4\n",
    "s=t[1]\n",
    "\n",
    "z = np.arange(2)\n",
    "state = ['미혼', '기혼']\n",
    "values = [s,u ]\n",
    "\n",
    "plt.bar(z, values, width=0.6, color=\"springgreen\",edgecolor=\"gray\", linewidth=3, tick_label=state)\n",
    "plt.show()"
   ]
  },
  {
   "cell_type": "markdown",
   "metadata": {},
   "source": [
    "미혼인 사람이 기혼인 사람보다 건강하다."
   ]
  },
  {
   "cell_type": "markdown",
   "metadata": {},
   "source": [
    "## 결혼 한 사람과 안 한 사람의 골관절염 비교"
   ]
  },
  {
   "cell_type": "code",
   "execution_count": 8,
   "metadata": {
    "scrolled": true
   },
   "outputs": [
    {
     "name": "stderr",
     "output_type": "stream",
     "text": [
      "<ipython-input-8-f1861f9bcc5c>:3: SettingWithCopyWarning: \n",
      "A value is trying to be set on a copy of a slice from a DataFrame.\n",
      "Try using .loc[row_indexer,col_indexer] = value instead\n",
      "\n",
      "See the caveats in the documentation: https://pandas.pydata.org/pandas-docs/stable/user_guide/indexing.html#returning-a-view-versus-a-copy\n",
      "  data4[\"골관절염 여부\"] = [1 if s==1 else 0 for s in data4['DM2_dg'] ]\n"
     ]
    },
    {
     "data": {
      "text/plain": [
       "<matplotlib.legend.Legend at 0x223fff39250>"
      ]
     },
     "execution_count": 8,
     "metadata": {},
     "output_type": "execute_result"
    },
    {
     "data": {
      "image/png": "[encoded data removed]",
      "text/plain": [
       "<Figure size 720x432 with 1 Axes>"
      ]
     },
     "metadata": {
      "needs_background": "light"
     },
     "output_type": "display_data"
    }
   ],
   "source": [
    "\n",
    "\n",
    "data4=data3[data3['sex']==2]\n",
    "# data4['DM2_dg']\n",
    "data4[\"골관절염 여부\"] = [1 if s==1 else 0 for s in data4['DM2_dg'] ]\n",
    "\n",
    "p =data4.groupby('결혼상태').sum()[['골관절염 여부']]/data4.groupby('결혼상태').count()[['골관절염 여부']]\n",
    "q=p.to_numpy().reshape(-1,).reshape(5)\n",
    "r= q/np.sum(q)\n",
    "\n",
    "x = np.array([ '동거', '미혼', '별거', '사별','이혼']) \n",
    "\n",
    "plt.figure(figsize = (10, 6))\n",
    "\n",
    "p1 = plt.bar(x, r, color = 'skyblue')\n",
    "\n",
    "plt.legend('골관절염 여부')"
   ]
  },
  {
   "cell_type": "markdown",
   "metadata": {},
   "source": [
    "미혼, 이혼, 동거, 별거, 사별 순으로 관절이 건강하다. "
   ]
  },
  {
   "cell_type": "code",
   "execution_count": 9,
   "metadata": {
    "scrolled": true
   },
   "outputs": [
    {
     "data": {
      "image/png": "[encoded data removed]",
      "text/plain": [
       "<Figure size 432x288 with 1 Axes>"
      ]
     },
     "metadata": {
      "needs_background": "light"
     },
     "output_type": "display_data"
    }
   ],
   "source": [
    "r\n",
    "w=r[[0,2,3,4]].sum()\n",
    "v =r[1]\n",
    "\n",
    "z = np.arange(2)\n",
    "state = ['미혼', '기혼']\n",
    "values = [v,w ]\n",
    "\n",
    "plt.bar(z, values, width=0.6, color=\"springgreen\",edgecolor=\"gray\", linewidth=3, tick_label=state)\n",
    "plt.show()"
   ]
  },
  {
   "cell_type": "markdown",
   "metadata": {},
   "source": [
    "미혼인 사람이 기혼인 사람보다 관절이 더 건강하다."
   ]
  },
  {
   "cell_type": "markdown",
   "metadata": {},
   "source": [
    "## 전업 주부와 전업 주부 아닌 사람의 골 관절염 비율 비교"
   ]
  },
  {
   "cell_type": "code",
   "execution_count": 12,
   "metadata": {
    "scrolled": true
   },
   "outputs": [
    {
     "name": "stderr",
     "output_type": "stream",
     "text": [
      "<ipython-input-12-9f774b62e16d>:3: UserWarning: Boolean Series key will be reindexed to match DataFrame index.\n",
      "  df55=df5[data4['marri_1']==1]['DM2_dg']\n",
      "<ipython-input-12-9f774b62e16d>:4: UserWarning: Boolean Series key will be reindexed to match DataFrame index.\n",
      "  df66=df6[data4['marri_1']==1]['DM2_dg']\n"
     ]
    },
    {
     "data": {
      "image/png": "[encoded data removed]",
      "text/plain": [
       "<Figure size 432x288 with 1 Axes>"
      ]
     },
     "metadata": {
      "needs_background": "light"
     },
     "output_type": "display_data"
    }
   ],
   "source": [
    "df5=data4[data4['EC1_1']==2]\n",
    "df6=data4[data4['EC1_1']==1]\n",
    "df55=df5[data4['marri_1']==1]['DM2_dg']\n",
    "df66=df6[data4['marri_1']==1]['DM2_dg']\n",
    "df7=df55.to_numpy().reshape(-1,).reshape(len(df55))/len(df55)\n",
    "df8=df66.to_numpy().reshape(-1,).reshape(len(df66))/len(df66)\n",
    "\n",
    "z = np.arange(2)\n",
    "state = ['전업주부', '전업주부X']\n",
    "values = [df7.sum()/(df7.sum()+df8.sum()),df8.sum()/(df7.sum()+df8.sum())]\n",
    "\n",
    "plt.bar(z, values, width=0.6, color=\"pink\",edgecolor=\"gray\", linewidth=3, tick_label=state)\n",
    "plt.show()"
   ]
  },
  {
   "cell_type": "markdown",
   "metadata": {},
   "source": [
    "전업주부가 골 관절염이 더 잘걸린다."
   ]
  },
  {
   "cell_type": "code",
   "execution_count": null,
   "metadata": {},
   "outputs": [],
   "source": []
  }
 ],
 "metadata": {
  "kernelspec": {
   "display_name": "Python 3",
   "language": "python",
   "name": "python3"
  },
  "language_info": {
   "codemirror_mode": {
    "name": "ipython",
    "version": 3
   },
   "file_extension": ".py",
   "mimetype": "text/x-python",
   "name": "python",
   "nbconvert_exporter": "python",
   "pygments_lexer": "ipython3",
   "version": "3.8.3"
  }
 },
 "nbformat": 4,
 "nbformat_minor": 4
}
